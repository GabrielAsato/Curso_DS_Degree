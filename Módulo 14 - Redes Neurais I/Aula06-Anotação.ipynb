{
 "cells": [
  {
   "cell_type": "markdown",
   "id": "e7e943fc-24d5-47d6-909d-bab4550c2fcd",
   "metadata": {},
   "source": [
    "# Aula 06\n",
    "\n",
    "### Learning rate"
   ]
  },
  {
   "cell_type": "markdown",
   "id": "e3900f87-7e21-4599-b18e-ad198b024597",
   "metadata": {},
   "source": [
    "Lembremos como funciona o learning rate:\n",
    "- Quanto mais alta, maior a atualização dos pesos e mais riscos do modelo não convergir\n",
    "- Quanto mais lentea, menor a atualização de pesos e maior a demora para treinar cada epoch."
   ]
  },
  {
   "cell_type": "code",
   "execution_count": 1,
   "id": "9d2a5eac-d404-4fde-99f7-a68118ece5b6",
   "metadata": {},
   "outputs": [],
   "source": [
    "from tensorflow import keras\n",
    "import tensorflow as tf\n",
    "import matplotlib.pyplot as plt\n",
    "import numpy as np\n",
    "from tensorflow.keras import datasets\n",
    "from sklearn.preprocessing import OneHotEncoder"
   ]
  },
  {
   "cell_type": "code",
   "execution_count": 2,
   "id": "17391c6e-58a7-4e91-b4de-4a52c73dcf94",
   "metadata": {},
   "outputs": [
    {
     "name": "stdout",
     "output_type": "stream",
     "text": [
      "(50000, 32, 32, 3)\n",
      "(10000, 32, 32, 3)\n",
      "(10000, 1)\n"
     ]
    }
   ],
   "source": [
    "(x_train, y_train), (x_test, y_test) = tf.keras.datasets.cifar10.load_data()\n",
    "\n",
    "print(x_train.shape)\n",
    "print(x_test.shape)\n",
    "print(y_test.shape)"
   ]
  },
  {
   "cell_type": "code",
   "execution_count": 3,
   "id": "16da3dc8-23d6-40b3-be3d-015127e7d158",
   "metadata": {},
   "outputs": [],
   "source": [
    "# Normalização\n",
    "m = np.max(x_train)\n",
    "x_train = x_train/m\n",
    "x_test = x_test/m"
   ]
  },
  {
   "cell_type": "code",
   "execution_count": 4,
   "id": "6e5972b8-1848-4ffe-a226-243a4ae4c1f8",
   "metadata": {},
   "outputs": [],
   "source": [
    "# OneHotEncoder\n",
    "hot = OneHotEncoder()\n",
    "y_train = hot.fit_transform(y_train.reshape(-1, 1)).toarray()\n",
    "y_test = hot.transform(y_test.reshape(-1, 1)).toarray()"
   ]
  },
  {
   "cell_type": "code",
   "execution_count": 5,
   "id": "360c6a86-c35e-470f-a3e9-2e5e6d95d10e",
   "metadata": {},
   "outputs": [
    {
     "data": {
      "text/plain": [
       "((40000, 32, 32, 3),\n",
       " (10000, 32, 32, 3),\n",
       " (10000, 32, 32, 3),\n",
       " (40000, 10),\n",
       " (10000, 10),\n",
       " (10000, 10))"
      ]
     },
     "execution_count": 5,
     "metadata": {},
     "output_type": "execute_result"
    }
   ],
   "source": [
    "from sklearn.model_selection import train_test_split\n",
    "\n",
    "x_treino, x_val, y_treino, y_val = train_test_split(x_train, y_train,\n",
    "                                                    stratify=y_train,\n",
    "                                                    test_size = 0.2,\n",
    "                                                    random_state = 13)\n",
    "\n",
    "x_treino.shape, x_val.shape, x_test.shape, y_treino.shape, y_val.shape, y_test.shape"
   ]
  },
  {
   "cell_type": "code",
   "execution_count": 7,
   "id": "b46d4412-639c-4834-be74-4f797e422258",
   "metadata": {},
   "outputs": [],
   "source": [
    "from tensorflow.keras.layers import Dense, Activation, Dropout, Flatten, Conv2D, MaxPooling2D\n",
    "from tensorflow.keras.models import Sequential\n",
    "from tensorflow.keras.callbacks import EarlyStopping"
   ]
  },
  {
   "cell_type": "code",
   "execution_count": 8,
   "id": "8a1a5345-978c-43a5-b47b-9924089fda78",
   "metadata": {},
   "outputs": [
    {
     "name": "stdout",
     "output_type": "stream",
     "text": [
      "Model: \"sequential\"\n",
      "_________________________________________________________________\n",
      " Layer (type)                Output Shape              Param #   \n",
      "=================================================================\n",
      " conv2d (Conv2D)             (None, 28, 28, 16)        1216      \n",
      "                                                                 \n",
      " activation (Activation)     (None, 28, 28, 16)        0         \n",
      "                                                                 \n",
      " max_pooling2d (MaxPooling2D  (None, 14, 14, 16)       0         \n",
      " )                                                               \n",
      "                                                                 \n",
      " conv2d_1 (Conv2D)           (None, 10, 10, 32)        12832     \n",
      "                                                                 \n",
      " max_pooling2d_1 (MaxPooling  (None, 5, 5, 32)         0         \n",
      " 2D)                                                             \n",
      "                                                                 \n",
      " flatten (Flatten)           (None, 800)               0         \n",
      "                                                                 \n",
      " dense (Dense)               (None, 10)                8010      \n",
      "                                                                 \n",
      " activation_1 (Activation)   (None, 10)                0         \n",
      "                                                                 \n",
      "=================================================================\n",
      "Total params: 22,058\n",
      "Trainable params: 22,058\n",
      "Non-trainable params: 0\n",
      "_________________________________________________________________\n"
     ]
    }
   ],
   "source": [
    "rede_simples = Sequential()\n",
    "\n",
    "rede_simples.add(Conv2D(16, (5,5),input_shape=(32,32,3)))\n",
    "rede_simples.add(Activation('relu'))\n",
    "rede_simples.add(MaxPooling2D())\n",
    "rede_simples.add(Conv2D(32, (5,5), activation='relu'))\n",
    "rede_simples.add(MaxPooling2D())\n",
    "rede_simples.add(Flatten())\n",
    "rede_simples.add(Dense(10))\n",
    "rede_simples.add(Activation('softmax'))\n",
    "                 \n",
    "rede_simples.summary()"
   ]
  },
  {
   "cell_type": "code",
   "execution_count": null,
   "id": "fbec3f2e-4589-4988-a399-1667ffcce31e",
   "metadata": {},
   "outputs": [],
   "source": [
    "# alterando o learning rate do otimizador 'Adam'\n",
    "rede_simples.compile(loss = 'categorical_crossentropy',\n",
    "                     optimizer = tf.keras.optimizers.Adam(learning_rate=0.001), # \n",
    "                     metrics=['accuracy'])"
   ]
  },
  {
   "cell_type": "code",
   "execution_count": null,
   "id": "2d492675-f0bb-4384-bd5a-fdbfd648aac6",
   "metadata": {},
   "outputs": [],
   "source": [
    "es = EarlyStopping(monitor = 'val_loss', min_delta = 0.001, patience = 10, verbose = 1, mode = 'auto')\n",
    "    \n",
    "historico = rede_simples.fit(x_treino, \n",
    "                             y_treino, \n",
    "                             epochs = 150, \n",
    "                             batch_size=64,\n",
    "                             verbose = 1,\n",
    "                             validation_data = (x_val, y_val),\n",
    "                             callbacks = [es, model_checkpoint_callback])"
   ]
  },
  {
   "cell_type": "markdown",
   "id": "64b7b552-f57d-4fc3-b643-49295b0b4606",
   "metadata": {},
   "source": [
    "Até antes de Arquiteturas de rede"
   ]
  },
  {
   "cell_type": "markdown",
   "id": "174eed93-350e-4b73-8261-7ef37ab80e62",
   "metadata": {},
   "source": [
    "----"
   ]
  },
  {
   "cell_type": "markdown",
   "id": "2b292741-4fd4-40fc-88fa-276b10f79559",
   "metadata": {},
   "source": [
    "### Modelos pré-treinados"
   ]
  },
  {
   "cell_type": "code",
   "execution_count": 9,
   "id": "c3890b2b-49b3-4af0-8bec-2095c48289ef",
   "metadata": {},
   "outputs": [],
   "source": [
    "import tensorflow as tf\n",
    "from tensorflow.keras.preprocessing import image"
   ]
  },
  {
   "cell_type": "markdown",
   "id": "7f3f7352-f6fa-4c8b-8b4a-c1f4e9990621",
   "metadata": {},
   "source": [
    "----"
   ]
  },
  {
   "cell_type": "markdown",
   "id": "ac506eb9-8fbe-4198-a0cd-dabfce767d1f",
   "metadata": {},
   "source": [
    "### Arquiteturas de rede\n",
    "\n",
    "ImageNet\n",
    "\n",
    "VGG - Problemas intermediários\n",
    "\n",
    "ResNet"
   ]
  }
 ],
 "metadata": {
  "kernelspec": {
   "display_name": "Python 3",
   "language": "python",
   "name": "python3"
  },
  "language_info": {
   "codemirror_mode": {
    "name": "ipython",
    "version": 3
   },
   "file_extension": ".py",
   "mimetype": "text/x-python",
   "name": "python",
   "nbconvert_exporter": "python",
   "pygments_lexer": "ipython3",
   "version": "3.8.8"
  }
 },
 "nbformat": 4,
 "nbformat_minor": 5
}
