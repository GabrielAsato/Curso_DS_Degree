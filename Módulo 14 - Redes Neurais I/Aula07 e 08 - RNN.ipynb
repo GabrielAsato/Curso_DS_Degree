{
 "cells": [
  {
   "cell_type": "markdown",
   "id": "96338d10-70d1-47e0-b327-efe52c1fe405",
   "metadata": {},
   "source": [
    "# Redes Neurais Recorrentes (RNN)\n",
    "\n",
    "Muito usada para Séries Temporais"
   ]
  },
  {
   "cell_type": "markdown",
   "id": "c37f7e52-31a2-4549-8eaa-ef6077e86727",
   "metadata": {},
   "source": [
    "- https://stanford.edu/~shervine/teaching/cs-230/cheatsheet-recurrent-neural-networks\n",
    "- https://www.youtube.com/watch?v=AsNTP8Kwu80"
   ]
  },
  {
   "cell_type": "markdown",
   "id": "3938832e-08f6-4f37-a0b0-c7060cd4c32a",
   "metadata": {},
   "source": [
    "### Aula 08 - RNN - Aplicação: Análise de Sentimento\n",
    "\n",
    "- Anotação e lstm_analise_sentiment"
   ]
  },
  {
   "cell_type": "code",
   "execution_count": 1,
   "id": "0ca0cfc3-8ac4-4455-a896-d8782619811d",
   "metadata": {},
   "outputs": [
    {
     "ename": "ImportError",
     "evalue": "cannot import name 'preprocessing' from 'tensorflow.python.keras' (C:\\Users\\gabri\\Anaconda3\\lib\\site-packages\\tensorflow\\python\\keras\\__init__.py)",
     "output_type": "error",
     "traceback": [
      "\u001b[1;31m---------------------------------------------------------------------------\u001b[0m",
      "\u001b[1;31mImportError\u001b[0m                               Traceback (most recent call last)",
      "\u001b[1;32m<ipython-input-1-41cbacacea85>\u001b[0m in \u001b[0;36m<module>\u001b[1;34m\u001b[0m\n\u001b[0;32m      1\u001b[0m \u001b[1;32mfrom\u001b[0m \u001b[0mtensorflow\u001b[0m\u001b[1;33m.\u001b[0m\u001b[0mkeras\u001b[0m \u001b[1;32mimport\u001b[0m \u001b[0mdatasets\u001b[0m\u001b[1;33m\u001b[0m\u001b[1;33m\u001b[0m\u001b[0m\n\u001b[0;32m      2\u001b[0m \u001b[1;32mimport\u001b[0m \u001b[0mmatplotlib\u001b[0m\u001b[1;33m.\u001b[0m\u001b[0mpyplot\u001b[0m \u001b[1;32mas\u001b[0m \u001b[0mplt\u001b[0m\u001b[1;33m\u001b[0m\u001b[1;33m\u001b[0m\u001b[0m\n\u001b[1;32m----> 3\u001b[1;33m \u001b[1;32mfrom\u001b[0m \u001b[0mtensorflow\u001b[0m\u001b[1;33m.\u001b[0m\u001b[0mpython\u001b[0m\u001b[1;33m.\u001b[0m\u001b[0mkeras\u001b[0m \u001b[1;32mimport\u001b[0m \u001b[0mpreprocessing\u001b[0m\u001b[1;33m\u001b[0m\u001b[1;33m\u001b[0m\u001b[0m\n\u001b[0m\u001b[0;32m      4\u001b[0m \u001b[1;32mfrom\u001b[0m \u001b[0msklearn\u001b[0m\u001b[1;33m.\u001b[0m\u001b[0mmodel_selection\u001b[0m \u001b[1;32mimport\u001b[0m \u001b[0mtrain_test_split\u001b[0m\u001b[1;33m\u001b[0m\u001b[1;33m\u001b[0m\u001b[0m\n\u001b[0;32m      5\u001b[0m \u001b[1;32mfrom\u001b[0m \u001b[0mtensorflow\u001b[0m\u001b[1;33m.\u001b[0m\u001b[0mkeras\u001b[0m\u001b[1;33m.\u001b[0m\u001b[0mpreprocessing\u001b[0m\u001b[1;33m.\u001b[0m\u001b[0mtext\u001b[0m \u001b[1;32mimport\u001b[0m \u001b[0mTokenizer\u001b[0m\u001b[1;33m\u001b[0m\u001b[1;33m\u001b[0m\u001b[0m\n",
      "\u001b[1;31mImportError\u001b[0m: cannot import name 'preprocessing' from 'tensorflow.python.keras' (C:\\Users\\gabri\\Anaconda3\\lib\\site-packages\\tensorflow\\python\\keras\\__init__.py)"
     ]
    }
   ],
   "source": [
    "from tensorflow.keras import datasets\n",
    "import matplotlib.pyplot as plt\n",
    "from tensorflow.keras import preprocessing\n",
    "from sklearn.model_selection import train_test_split\n",
    "from tensorflow.keras.preprocessing.text import Tokenizer\n",
    "import numpy as np\n",
    "from sklearn.metrics import classification_report"
   ]
  },
  {
   "cell_type": "code",
   "execution_count": null,
   "id": "c4f3b917-dbac-4564-9308-e8c4d6ff2799",
   "metadata": {},
   "outputs": [],
   "source": [
    "max_features = 20000 ### tamanho do vocabulário (dicionário com 20_000 palavras e o índice)\n",
    "(x_train, y_train), (x_test, y_test) = datasets.imdb.load_data(num_words=max_features) "
   ]
  }
 ],
 "metadata": {
  "kernelspec": {
   "display_name": "Python 3",
   "language": "python",
   "name": "python3"
  },
  "language_info": {
   "codemirror_mode": {
    "name": "ipython",
    "version": 3
   },
   "file_extension": ".py",
   "mimetype": "text/x-python",
   "name": "python",
   "nbconvert_exporter": "python",
   "pygments_lexer": "ipython3",
   "version": "3.8.8"
  }
 },
 "nbformat": 4,
 "nbformat_minor": 5
}
