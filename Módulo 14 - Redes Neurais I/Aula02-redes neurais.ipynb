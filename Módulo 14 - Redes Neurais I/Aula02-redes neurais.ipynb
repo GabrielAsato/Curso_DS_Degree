{
 "cells": [
  {
   "cell_type": "code",
   "execution_count": 3,
   "id": "849d3482",
   "metadata": {},
   "outputs": [],
   "source": [
    "from tensorflow import keras\n",
    "from tensorflow.keras import datasets\n",
    "import matplotlib.pyplot as plt\n",
    "import numpy as np\n",
    "from sklearn.preprocessing import OneHotEncoder"
   ]
  },
  {
   "cell_type": "markdown",
   "id": "de0c339b",
   "metadata": {},
   "source": [
    "#### Introdução a Redes Neurais\n",
    "\n",
    "* Algoritmo de aprendizagem de máquina inspirado no neurônio biológico, possuindo uma estrutura básica chamada neurônio\n",
    "\n",
    "1. Neurônio biológico\n",
    "\n",
    "![Title](imgs/neuronio.jpg)\n",
    "\n",
    "2. Neurônio de uma rede neural (perceptron)\n",
    "\n",
    "* Estrutura com pesos para cada entrada\n",
    "* Objetivo de encontrar os melhores pesos para classificar um problema\n",
    "* Funciona apenas para problemas linearmente separáveis\n",
    "\n",
    "![Title](imgs/perceptron.png)\n",
    "\n",
    "3. Para formar uma rede neural propriamente dita, tem-se um conjunto de neurônios\n",
    "* Múltiplos neurônios formam uma camada\n",
    "* Possibilidade de resolver problemas que não são linearmente separáveis\n",
    "![Title](imgs/rn.png)"
   ]
  },
  {
   "cell_type": "markdown",
   "id": "d549ae25",
   "metadata": {},
   "source": [
    "### Prática\n",
    "1. Aquisição e pré-processamento dos dados\n",
    "2. Treinamento\n",
    "* Implementar arquitetura\n",
    "* Definir otimizadores, métricas e regularizadores\n",
    "3. Teste (avaliação de desempenho)"
   ]
  },
  {
   "cell_type": "markdown",
   "id": "ca61a45a",
   "metadata": {},
   "source": [
    "#### 1. Aquisição dos dados\n",
    "\n",
    "Na aula de hoje trabalharemos com datasets já existentes no Tensorflow/keras. Temos uma série de datasets disponíveis que podem ser visualizados [aqui](https://keras.io/api/datasets/).\n",
    "\n",
    "Para iniciar, trabalharemos com nosso hello world de redes neurais, o MNIST. Essa base é constituída de classes de dígitos, cujo objetivo é identificar qual o dígito presente na imagem\n",
    "\n",
    "De forma geral, podemos pensar neste dataset como:\n",
    "* Simples: não possui objetos complexos de se identificar, imagens são em tons de cinza e não possuem background\n",
    "* Processamento rápido: a presença de um único canal de cor, bem como a dimensão total da imagem (28x28) facilitam o processamento\n",
    "* Possíveis erros dependendo de como o dígito é escrito. Por exemplo, o 7 e 1 podem ser facilmente similares em algumas imagens\n",
    "\n",
    "![Title](imgs/mnist_digits_sample.jpg) "
   ]
  },
  {
   "cell_type": "code",
   "execution_count": 4,
   "id": "0be97072",
   "metadata": {},
   "outputs": [],
   "source": [
    "(x_train, y_train), (x_test, y_test) = datasets.mnist.load_data()"
   ]
  },
  {
   "cell_type": "code",
   "execution_count": 5,
   "id": "70e60765",
   "metadata": {},
   "outputs": [
    {
     "name": "stdout",
     "output_type": "stream",
     "text": [
      "(60000, 28, 28)\n",
      "(10000, 28, 28)\n",
      "(10000,)\n"
     ]
    }
   ],
   "source": [
    "print(x_train.shape)\n",
    "print(x_test.shape)\n",
    "print(y_test.shape)"
   ]
  },
  {
   "cell_type": "code",
   "execution_count": 6,
   "id": "29f36dcd",
   "metadata": {
    "collapsed": true,
    "jupyter": {
     "outputs_hidden": true
    },
    "tags": []
   },
   "outputs": [
    {
     "data": {
      "text/plain": [
       "array([[  0,   0,   0,   0,   0,   0,   0,   0,   0,   0,   0,   0,   0,\n",
       "          0,   0,   0,   0,   0,   0,   0,   0,   0,   0,   0,   0,   0,\n",
       "          0,   0],\n",
       "       [  0,   0,   0,   0,   0,   0,   0,   0,   0,   0,   0,   0,   0,\n",
       "          0,   0,   0,   0,   0,   0,   0,   0,   0,   0,   0,   0,   0,\n",
       "          0,   0],\n",
       "       [  0,   0,   0,   0,   0,   0,   0,   0,   0,   0,   0,   0,   0,\n",
       "          0,   0,   0,   0,   0,   0,   0,   0,   0,   0,   0,   0,   0,\n",
       "          0,   0],\n",
       "       [  0,   0,   0,   0,   0,   0,   0,   0,   0,   0,   0,   0,   0,\n",
       "          0,   0,   0,   0,   0,   0,   0,   0,   0,   0,   0,   0,   0,\n",
       "          0,   0],\n",
       "       [  0,   0,   0,   0,   0,   0,   0,   0,   0,   0,   0,   0,   0,\n",
       "          0,   0,   0,   0,   0,   0,   0,   0,   0,   0,   0,   0,   0,\n",
       "          0,   0],\n",
       "       [  0,   0,   0,   0,   0,   0,   0,   0,   0,   0,   0,   0,   3,\n",
       "         18,  18,  18, 126, 136, 175,  26, 166, 255, 247, 127,   0,   0,\n",
       "          0,   0],\n",
       "       [  0,   0,   0,   0,   0,   0,   0,   0,  30,  36,  94, 154, 170,\n",
       "        253, 253, 253, 253, 253, 225, 172, 253, 242, 195,  64,   0,   0,\n",
       "          0,   0],\n",
       "       [  0,   0,   0,   0,   0,   0,   0,  49, 238, 253, 253, 253, 253,\n",
       "        253, 253, 253, 253, 251,  93,  82,  82,  56,  39,   0,   0,   0,\n",
       "          0,   0],\n",
       "       [  0,   0,   0,   0,   0,   0,   0,  18, 219, 253, 253, 253, 253,\n",
       "        253, 198, 182, 247, 241,   0,   0,   0,   0,   0,   0,   0,   0,\n",
       "          0,   0],\n",
       "       [  0,   0,   0,   0,   0,   0,   0,   0,  80, 156, 107, 253, 253,\n",
       "        205,  11,   0,  43, 154,   0,   0,   0,   0,   0,   0,   0,   0,\n",
       "          0,   0],\n",
       "       [  0,   0,   0,   0,   0,   0,   0,   0,   0,  14,   1, 154, 253,\n",
       "         90,   0,   0,   0,   0,   0,   0,   0,   0,   0,   0,   0,   0,\n",
       "          0,   0],\n",
       "       [  0,   0,   0,   0,   0,   0,   0,   0,   0,   0,   0, 139, 253,\n",
       "        190,   2,   0,   0,   0,   0,   0,   0,   0,   0,   0,   0,   0,\n",
       "          0,   0],\n",
       "       [  0,   0,   0,   0,   0,   0,   0,   0,   0,   0,   0,  11, 190,\n",
       "        253,  70,   0,   0,   0,   0,   0,   0,   0,   0,   0,   0,   0,\n",
       "          0,   0],\n",
       "       [  0,   0,   0,   0,   0,   0,   0,   0,   0,   0,   0,   0,  35,\n",
       "        241, 225, 160, 108,   1,   0,   0,   0,   0,   0,   0,   0,   0,\n",
       "          0,   0],\n",
       "       [  0,   0,   0,   0,   0,   0,   0,   0,   0,   0,   0,   0,   0,\n",
       "         81, 240, 253, 253, 119,  25,   0,   0,   0,   0,   0,   0,   0,\n",
       "          0,   0],\n",
       "       [  0,   0,   0,   0,   0,   0,   0,   0,   0,   0,   0,   0,   0,\n",
       "          0,  45, 186, 253, 253, 150,  27,   0,   0,   0,   0,   0,   0,\n",
       "          0,   0],\n",
       "       [  0,   0,   0,   0,   0,   0,   0,   0,   0,   0,   0,   0,   0,\n",
       "          0,   0,  16,  93, 252, 253, 187,   0,   0,   0,   0,   0,   0,\n",
       "          0,   0],\n",
       "       [  0,   0,   0,   0,   0,   0,   0,   0,   0,   0,   0,   0,   0,\n",
       "          0,   0,   0,   0, 249, 253, 249,  64,   0,   0,   0,   0,   0,\n",
       "          0,   0],\n",
       "       [  0,   0,   0,   0,   0,   0,   0,   0,   0,   0,   0,   0,   0,\n",
       "          0,  46, 130, 183, 253, 253, 207,   2,   0,   0,   0,   0,   0,\n",
       "          0,   0],\n",
       "       [  0,   0,   0,   0,   0,   0,   0,   0,   0,   0,   0,   0,  39,\n",
       "        148, 229, 253, 253, 253, 250, 182,   0,   0,   0,   0,   0,   0,\n",
       "          0,   0],\n",
       "       [  0,   0,   0,   0,   0,   0,   0,   0,   0,   0,  24, 114, 221,\n",
       "        253, 253, 253, 253, 201,  78,   0,   0,   0,   0,   0,   0,   0,\n",
       "          0,   0],\n",
       "       [  0,   0,   0,   0,   0,   0,   0,   0,  23,  66, 213, 253, 253,\n",
       "        253, 253, 198,  81,   2,   0,   0,   0,   0,   0,   0,   0,   0,\n",
       "          0,   0],\n",
       "       [  0,   0,   0,   0,   0,   0,  18, 171, 219, 253, 253, 253, 253,\n",
       "        195,  80,   9,   0,   0,   0,   0,   0,   0,   0,   0,   0,   0,\n",
       "          0,   0],\n",
       "       [  0,   0,   0,   0,  55, 172, 226, 253, 253, 253, 253, 244, 133,\n",
       "         11,   0,   0,   0,   0,   0,   0,   0,   0,   0,   0,   0,   0,\n",
       "          0,   0],\n",
       "       [  0,   0,   0,   0, 136, 253, 253, 253, 212, 135, 132,  16,   0,\n",
       "          0,   0,   0,   0,   0,   0,   0,   0,   0,   0,   0,   0,   0,\n",
       "          0,   0],\n",
       "       [  0,   0,   0,   0,   0,   0,   0,   0,   0,   0,   0,   0,   0,\n",
       "          0,   0,   0,   0,   0,   0,   0,   0,   0,   0,   0,   0,   0,\n",
       "          0,   0],\n",
       "       [  0,   0,   0,   0,   0,   0,   0,   0,   0,   0,   0,   0,   0,\n",
       "          0,   0,   0,   0,   0,   0,   0,   0,   0,   0,   0,   0,   0,\n",
       "          0,   0],\n",
       "       [  0,   0,   0,   0,   0,   0,   0,   0,   0,   0,   0,   0,   0,\n",
       "          0,   0,   0,   0,   0,   0,   0,   0,   0,   0,   0,   0,   0,\n",
       "          0,   0]], dtype=uint8)"
      ]
     },
     "execution_count": 6,
     "metadata": {},
     "output_type": "execute_result"
    }
   ],
   "source": [
    "x_train[0]"
   ]
  },
  {
   "cell_type": "code",
   "execution_count": 7,
   "id": "87348262",
   "metadata": {},
   "outputs": [
    {
     "data": {
      "image/png": "[encoded data removed]",
      "text/plain": [
       "<Figure size 432x288 with 1 Axes>"
      ]
     },
     "metadata": {
      "needs_background": "light"
     },
     "output_type": "display_data"
    }
   ],
   "source": [
    "# pick a sample to plot\n",
    "sample = 10\n",
    "image = x_train[sample]\n",
    "\n",
    "# plot the sample\n",
    "fig = plt.figure\n",
    "plt.imshow(image, cmap='gray')\n",
    "plt.show()"
   ]
  },
  {
   "cell_type": "markdown",
   "id": "0b3eb79c",
   "metadata": {},
   "source": [
    "#### 2. Pré-processamento\n",
    "\n",
    "Podemos utilizar técnicas de PDI para ressaltar algumas características da imagem, sendo técnicas mais comuns:\n",
    "* CLAHE\n",
    "* Equalização\n",
    "* Alterações de brilho e contraste\n",
    "* Transformação de imagens para tons de cinza (quando a cor não for descriminativa para a resolução do problema)\n",
    "* LBP\n",
    "\n",
    "Podemos utilizar técnicas de PDI também para data augmentation! Um processo em que geramos novas imagens do nosso dataset, a partir de imagens originais, com o objetivo de aumentar a generalização do modelo. Técnicas mais comuns utilizadas:\n",
    "* Rotação\n",
    "* Transalação\n",
    "* Blur\n",
    "* Brilho e contraste\n",
    "\n",
    "Entretanto, **antes** de qualquer teste com preprocessamentos de PDI, costumamos montar um baseline **apenas** normalizando a imagem."
   ]
  },
  {
   "cell_type": "markdown",
   "id": "d00677a0",
   "metadata": {},
   "source": [
    "#### Normalização"
   ]
  },
  {
   "cell_type": "code",
   "execution_count": 8,
   "id": "346325c0",
   "metadata": {},
   "outputs": [],
   "source": [
    "m = np.max(x_train)\n",
    "x_train = x_train/m\n",
    "x_test = x_test/m"
   ]
  },
  {
   "cell_type": "markdown",
   "id": "4e0ccb1f",
   "metadata": {},
   "source": [
    "#### One hot encoder na variável alvo"
   ]
  },
  {
   "cell_type": "code",
   "execution_count": 9,
   "id": "67323164",
   "metadata": {},
   "outputs": [
    {
     "data": {
      "text/plain": [
       "array([5, 0, 4, ..., 5, 6, 8], dtype=uint8)"
      ]
     },
     "execution_count": 9,
     "metadata": {},
     "output_type": "execute_result"
    }
   ],
   "source": [
    "y_train"
   ]
  },
  {
   "cell_type": "code",
   "execution_count": 10,
   "id": "6ea284a3",
   "metadata": {},
   "outputs": [],
   "source": [
    "hot = OneHotEncoder()\n",
    "y_train = hot.fit_transform(y_train.reshape(-1, 1)).toarray()\n",
    "y_test = hot.transform(y_test.reshape(-1, 1)).toarray()"
   ]
  },
  {
   "cell_type": "code",
   "execution_count": 12,
   "id": "e8739951",
   "metadata": {},
   "outputs": [
    {
     "data": {
      "text/plain": [
       "array([[0., 0., 0., ..., 0., 0., 0.],\n",
       "       [1., 0., 0., ..., 0., 0., 0.],\n",
       "       [0., 0., 0., ..., 0., 0., 0.],\n",
       "       ...,\n",
       "       [0., 0., 0., ..., 0., 0., 0.],\n",
       "       [0., 0., 0., ..., 0., 0., 0.],\n",
       "       [0., 0., 0., ..., 0., 1., 0.]])"
      ]
     },
     "execution_count": 12,
     "metadata": {},
     "output_type": "execute_result"
    }
   ],
   "source": [
    "y_train"
   ]
  },
  {
   "cell_type": "markdown",
   "id": "c03fe70d",
   "metadata": {},
   "source": [
    "#### 3. Particionamento de base de dados\n",
    "\n",
    "Para uma rede neural, precisamos de três datasets: treino, validação e treino\n",
    "\n",
    "* O treinamento do modelo ocorre com a base de dados **juntamente** com a base de validação\n",
    "* A base de validação serve para que o algoritmo verifique se os pesos estimados no treinamento são válidos em outra base de dados. Caso não seja, os pesos são reajustados\n",
    "* A base de teste é o cenário real de uso, sendo o desempenho nesta base o desempenho final a ser considerado"
   ]
  },
  {
   "cell_type": "code",
   "execution_count": 13,
   "id": "89855dbc",
   "metadata": {},
   "outputs": [
    {
     "data": {
      "text/plain": [
       "((48000, 28, 28),\n",
       " (12000, 28, 28),\n",
       " (10000, 28, 28),\n",
       " (48000, 10),\n",
       " (12000, 10),\n",
       " (10000, 10))"
      ]
     },
     "execution_count": 13,
     "metadata": {},
     "output_type": "execute_result"
    }
   ],
   "source": [
    "from sklearn.model_selection import train_test_split\n",
    "\n",
    "x_treino, x_val, y_treino, y_val = train_test_split(x_train, y_train, test_size = 0.2, random_state = 13)\n",
    "\n",
    "x_treino.shape, x_val.shape, x_test.shape, y_treino.shape, y_val.shape, y_test.shape, "
   ]
  },
  {
   "cell_type": "markdown",
   "id": "3bf76609-c295-4740-a510-dc3b3c289426",
   "metadata": {},
   "source": [
    "----"
   ]
  },
  {
   "cell_type": "code",
   "execution_count": 44,
   "id": "ccfa6335",
   "metadata": {},
   "outputs": [],
   "source": [
    "from tensorflow.keras.layers import Dense, Activation, Dropout, Flatten, BatchNormalization\n",
    "from tensorflow.keras.models import Sequential\n",
    "from tensorflow.keras.callbacks import EarlyStopping"
   ]
  },
  {
   "cell_type": "markdown",
   "id": "68e916e7",
   "metadata": {},
   "source": [
    "#### 4. Treinamento - definição de arquitetura\n",
    "1. Definir quantas camadas são necessárias para o problema\n",
    "2. A quantidade de neurônios em cada camada\n",
    "3. A função de ativação de cada camada\n",
    "4. A função de ativação da saída\n",
    "* softmax (saída não binária)\n",
    "* sigmoid (saída binária)"
   ]
  },
  {
   "cell_type": "code",
   "execution_count": 19,
   "id": "063e35bd",
   "metadata": {},
   "outputs": [],
   "source": [
    "rede_simples = Sequential() ### define que o modelo é sequencial, isto é, cada camada recebe o resultado da camada imediatamente anterior\n",
    "\n",
    "rede_simples.add(Flatten()) ### deixa a imagem como vetor ao invés de 2d\n",
    "rede_simples.add(Dense(25,  input_dim = 784)) ### primeira camada completamente conectada, precisamos passar para esta camada o total de features do modelo (total de pixels da imagem)\n",
    "rede_simples.add(Activation('relu')) ### define a função de ativação\n",
    "rede_simples.add(Dense(25)) ### as demais dense não precisam do input_dim\n",
    "rede_simples.add(Activation('relu'))\n",
    "rede_simples.add(Dense(25))\n",
    "rede_simples.add(Activation('relu'))\n",
    "rede_simples.add(Dense(10)) ### na última camada, definimos o total de neurônios como o total de classes do problema\n",
    "rede_simples.add(Activation('softmax')) ### para problemas não binários, utilizamos a softmax"
   ]
  },
  {
   "cell_type": "markdown",
   "id": "96bc3311",
   "metadata": {},
   "source": [
    "### 5. Definir otimizadores\n",
    "\n",
    "![Title](imgs/otimizadores.gif) "
   ]
  },
  {
   "cell_type": "code",
   "execution_count": 21,
   "id": "13237757",
   "metadata": {},
   "outputs": [],
   "source": [
    "rede_simples.compile(loss = 'categorical_crossentropy', optimizer = 'Adam', \n",
    "                     metrics=['accuracy']) ### definimos os parâmetros de otimização do modelo. Neste caso, a função de perdas e o otimizador e as métricas de visualização de desempenho"
   ]
  },
  {
   "cell_type": "markdown",
   "id": "381b3f8c",
   "metadata": {},
   "source": [
    "#### 6. Treinamento\n",
    "\n",
    "1. Adicionar conjuntos de treinamento e validação\n",
    "2. Determinar a quantidade de épocas"
   ]
  },
  {
   "cell_type": "code",
   "execution_count": 22,
   "id": "197d2e09",
   "metadata": {
    "collapsed": true,
    "jupyter": {
     "outputs_hidden": true
    },
    "tags": []
   },
   "outputs": [
    {
     "name": "stderr",
     "output_type": "stream",
     "text": [
      "2022-09-21 13:40:49.652253: W tensorflow/core/platform/profile_utils/cpu_utils.cc:128] Failed to get CPU frequency: 0 Hz\n"
     ]
    },
    {
     "name": "stdout",
     "output_type": "stream",
     "text": [
      "Epoch 1/150\n",
      "1500/1500 [==============================] - 1s 601us/step - loss: 0.4062 - accuracy: 0.8765 - val_loss: 0.2203 - val_accuracy: 0.9349\n",
      "Epoch 2/150\n",
      "1500/1500 [==============================] - 1s 537us/step - loss: 0.1929 - accuracy: 0.9431 - val_loss: 0.1995 - val_accuracy: 0.9401\n",
      "Epoch 3/150\n",
      "1500/1500 [==============================] - 1s 556us/step - loss: 0.1551 - accuracy: 0.9534 - val_loss: 0.1642 - val_accuracy: 0.9488\n",
      "Epoch 4/150\n",
      "1500/1500 [==============================] - 1s 558us/step - loss: 0.1321 - accuracy: 0.9600 - val_loss: 0.1522 - val_accuracy: 0.9538\n",
      "Epoch 5/150\n",
      "1500/1500 [==============================] - 1s 535us/step - loss: 0.1186 - accuracy: 0.9634 - val_loss: 0.1575 - val_accuracy: 0.9512\n",
      "Epoch 6/150\n",
      "1500/1500 [==============================] - 1s 545us/step - loss: 0.1052 - accuracy: 0.9674 - val_loss: 0.1437 - val_accuracy: 0.9582\n",
      "Epoch 7/150\n",
      "1500/1500 [==============================] - 1s 524us/step - loss: 0.0959 - accuracy: 0.9697 - val_loss: 0.1399 - val_accuracy: 0.9592\n",
      "Epoch 8/150\n",
      "1500/1500 [==============================] - 1s 519us/step - loss: 0.0891 - accuracy: 0.9716 - val_loss: 0.1510 - val_accuracy: 0.9568\n",
      "Epoch 9/150\n",
      "1500/1500 [==============================] - 1s 522us/step - loss: 0.0816 - accuracy: 0.9741 - val_loss: 0.1396 - val_accuracy: 0.9607\n",
      "Epoch 10/150\n",
      "1500/1500 [==============================] - 1s 517us/step - loss: 0.0790 - accuracy: 0.9742 - val_loss: 0.1496 - val_accuracy: 0.9584\n",
      "Epoch 11/150\n",
      "1500/1500 [==============================] - 1s 536us/step - loss: 0.0727 - accuracy: 0.9774 - val_loss: 0.1471 - val_accuracy: 0.9601\n",
      "Epoch 12/150\n",
      "1500/1500 [==============================] - 1s 542us/step - loss: 0.0691 - accuracy: 0.9781 - val_loss: 0.1519 - val_accuracy: 0.9586\n",
      "Epoch 13/150\n",
      "1500/1500 [==============================] - 1s 506us/step - loss: 0.0639 - accuracy: 0.9793 - val_loss: 0.1404 - val_accuracy: 0.9618\n",
      "Epoch 14/150\n",
      "1500/1500 [==============================] - 1s 519us/step - loss: 0.0622 - accuracy: 0.9800 - val_loss: 0.1439 - val_accuracy: 0.9626\n",
      "Epoch 15/150\n",
      "1500/1500 [==============================] - 1s 548us/step - loss: 0.0576 - accuracy: 0.9809 - val_loss: 0.1471 - val_accuracy: 0.9617\n",
      "Epoch 16/150\n",
      "1500/1500 [==============================] - 1s 549us/step - loss: 0.0544 - accuracy: 0.9823 - val_loss: 0.1763 - val_accuracy: 0.9567\n",
      "Epoch 17/150\n",
      "1500/1500 [==============================] - 1s 544us/step - loss: 0.0517 - accuracy: 0.9838 - val_loss: 0.1495 - val_accuracy: 0.9619\n",
      "Epoch 18/150\n",
      "1500/1500 [==============================] - 1s 543us/step - loss: 0.0488 - accuracy: 0.9843 - val_loss: 0.1527 - val_accuracy: 0.9631\n",
      "Epoch 19/150\n",
      "1500/1500 [==============================] - 1s 538us/step - loss: 0.0467 - accuracy: 0.9846 - val_loss: 0.1660 - val_accuracy: 0.9603\n",
      "Epoch 20/150\n",
      "1500/1500 [==============================] - 1s 545us/step - loss: 0.0442 - accuracy: 0.9857 - val_loss: 0.1754 - val_accuracy: 0.9607\n",
      "Epoch 21/150\n",
      "1500/1500 [==============================] - 1s 543us/step - loss: 0.0443 - accuracy: 0.9855 - val_loss: 0.1541 - val_accuracy: 0.9628\n",
      "Epoch 22/150\n",
      "1500/1500 [==============================] - 1s 526us/step - loss: 0.0399 - accuracy: 0.9867 - val_loss: 0.1701 - val_accuracy: 0.9612\n",
      "Epoch 23/150\n",
      "1500/1500 [==============================] - 1s 538us/step - loss: 0.0396 - accuracy: 0.9868 - val_loss: 0.1959 - val_accuracy: 0.9572\n",
      "Epoch 24/150\n",
      "1500/1500 [==============================] - 1s 503us/step - loss: 0.0364 - accuracy: 0.9874 - val_loss: 0.1701 - val_accuracy: 0.9623\n",
      "Epoch 25/150\n",
      "1500/1500 [==============================] - 1s 505us/step - loss: 0.0354 - accuracy: 0.9884 - val_loss: 0.1677 - val_accuracy: 0.9638\n",
      "Epoch 26/150\n",
      "1500/1500 [==============================] - 1s 505us/step - loss: 0.0357 - accuracy: 0.9878 - val_loss: 0.1815 - val_accuracy: 0.9601\n",
      "Epoch 27/150\n",
      "1500/1500 [==============================] - 1s 505us/step - loss: 0.0339 - accuracy: 0.9887 - val_loss: 0.1981 - val_accuracy: 0.9595\n",
      "Epoch 28/150\n",
      "1500/1500 [==============================] - 1s 540us/step - loss: 0.0338 - accuracy: 0.9884 - val_loss: 0.1967 - val_accuracy: 0.9582\n",
      "Epoch 29/150\n",
      "1500/1500 [==============================] - 1s 525us/step - loss: 0.0309 - accuracy: 0.9897 - val_loss: 0.1916 - val_accuracy: 0.9634\n",
      "Epoch 30/150\n",
      "1500/1500 [==============================] - 1s 525us/step - loss: 0.0299 - accuracy: 0.9895 - val_loss: 0.1906 - val_accuracy: 0.9628\n",
      "Epoch 31/150\n",
      "1500/1500 [==============================] - 1s 536us/step - loss: 0.0297 - accuracy: 0.9899 - val_loss: 0.1953 - val_accuracy: 0.9622\n",
      "Epoch 32/150\n",
      "1500/1500 [==============================] - 1s 541us/step - loss: 0.0279 - accuracy: 0.9906 - val_loss: 0.1937 - val_accuracy: 0.9617\n",
      "Epoch 33/150\n",
      "1500/1500 [==============================] - 1s 528us/step - loss: 0.0265 - accuracy: 0.9911 - val_loss: 0.2233 - val_accuracy: 0.9583\n",
      "Epoch 34/150\n",
      "1500/1500 [==============================] - 1s 533us/step - loss: 0.0277 - accuracy: 0.9901 - val_loss: 0.2054 - val_accuracy: 0.9615\n",
      "Epoch 35/150\n",
      "1500/1500 [==============================] - 1s 546us/step - loss: 0.0246 - accuracy: 0.9911 - val_loss: 0.2226 - val_accuracy: 0.9586\n",
      "Epoch 36/150\n",
      "1500/1500 [==============================] - 1s 550us/step - loss: 0.0236 - accuracy: 0.9920 - val_loss: 0.2234 - val_accuracy: 0.9607\n",
      "Epoch 37/150\n",
      "1500/1500 [==============================] - 1s 562us/step - loss: 0.0263 - accuracy: 0.9913 - val_loss: 0.2192 - val_accuracy: 0.9601\n",
      "Epoch 38/150\n",
      "1500/1500 [==============================] - 1s 534us/step - loss: 0.0248 - accuracy: 0.9914 - val_loss: 0.2157 - val_accuracy: 0.9610\n",
      "Epoch 39/150\n",
      "1500/1500 [==============================] - 1s 548us/step - loss: 0.0210 - accuracy: 0.9924 - val_loss: 0.2189 - val_accuracy: 0.9632\n",
      "Epoch 40/150\n",
      "1500/1500 [==============================] - 1s 538us/step - loss: 0.0246 - accuracy: 0.9915 - val_loss: 0.2463 - val_accuracy: 0.9585\n",
      "Epoch 41/150\n",
      "1500/1500 [==============================] - 1s 540us/step - loss: 0.0206 - accuracy: 0.9930 - val_loss: 0.2517 - val_accuracy: 0.9587\n",
      "Epoch 42/150\n",
      "1500/1500 [==============================] - 1s 547us/step - loss: 0.0194 - accuracy: 0.9929 - val_loss: 0.2281 - val_accuracy: 0.9627\n",
      "Epoch 43/150\n",
      "1500/1500 [==============================] - 1s 538us/step - loss: 0.0169 - accuracy: 0.9940 - val_loss: 0.2425 - val_accuracy: 0.9607\n",
      "Epoch 44/150\n",
      "1500/1500 [==============================] - 1s 539us/step - loss: 0.0215 - accuracy: 0.9922 - val_loss: 0.2407 - val_accuracy: 0.9617\n",
      "Epoch 45/150\n",
      "1500/1500 [==============================] - 1s 539us/step - loss: 0.0203 - accuracy: 0.9931 - val_loss: 0.2577 - val_accuracy: 0.9606\n",
      "Epoch 46/150\n",
      "1500/1500 [==============================] - 1s 542us/step - loss: 0.0213 - accuracy: 0.9929 - val_loss: 0.2505 - val_accuracy: 0.9603\n",
      "Epoch 47/150\n",
      "1500/1500 [==============================] - 1s 534us/step - loss: 0.0169 - accuracy: 0.9940 - val_loss: 0.2624 - val_accuracy: 0.9591\n",
      "Epoch 48/150\n",
      "1500/1500 [==============================] - 1s 538us/step - loss: 0.0188 - accuracy: 0.9937 - val_loss: 0.2819 - val_accuracy: 0.9575\n",
      "Epoch 49/150\n",
      "1500/1500 [==============================] - 1s 540us/step - loss: 0.0212 - accuracy: 0.9930 - val_loss: 0.2728 - val_accuracy: 0.9592\n",
      "Epoch 50/150\n",
      "1500/1500 [==============================] - 1s 546us/step - loss: 0.0140 - accuracy: 0.9951 - val_loss: 0.2798 - val_accuracy: 0.9588\n",
      "Epoch 51/150\n",
      "1500/1500 [==============================] - 1s 534us/step - loss: 0.0190 - accuracy: 0.9933 - val_loss: 0.2675 - val_accuracy: 0.9605\n",
      "Epoch 52/150\n",
      "1500/1500 [==============================] - 1s 534us/step - loss: 0.0168 - accuracy: 0.9946 - val_loss: 0.2595 - val_accuracy: 0.9603\n",
      "Epoch 53/150\n",
      "1500/1500 [==============================] - 1s 534us/step - loss: 0.0169 - accuracy: 0.9943 - val_loss: 0.3085 - val_accuracy: 0.9554\n",
      "Epoch 54/150\n",
      "1500/1500 [==============================] - 1s 533us/step - loss: 0.0178 - accuracy: 0.9941 - val_loss: 0.2704 - val_accuracy: 0.9621\n",
      "Epoch 55/150\n",
      "1500/1500 [==============================] - 1s 552us/step - loss: 0.0181 - accuracy: 0.9940 - val_loss: 0.2746 - val_accuracy: 0.9612\n",
      "Epoch 56/150\n",
      "1500/1500 [==============================] - 1s 529us/step - loss: 0.0153 - accuracy: 0.9946 - val_loss: 0.2762 - val_accuracy: 0.9618\n",
      "Epoch 57/150\n",
      "1500/1500 [==============================] - 1s 523us/step - loss: 0.0160 - accuracy: 0.9948 - val_loss: 0.2793 - val_accuracy: 0.9615\n",
      "Epoch 58/150\n",
      "1500/1500 [==============================] - 1s 523us/step - loss: 0.0166 - accuracy: 0.9944 - val_loss: 0.2890 - val_accuracy: 0.9596\n",
      "Epoch 59/150\n",
      "1500/1500 [==============================] - 1s 520us/step - loss: 0.0168 - accuracy: 0.9942 - val_loss: 0.2860 - val_accuracy: 0.9611\n",
      "Epoch 60/150\n",
      "1500/1500 [==============================] - 1s 521us/step - loss: 0.0149 - accuracy: 0.9952 - val_loss: 0.2854 - val_accuracy: 0.9603\n",
      "Epoch 61/150\n",
      "1500/1500 [==============================] - 1s 531us/step - loss: 0.0185 - accuracy: 0.9934 - val_loss: 0.3149 - val_accuracy: 0.9592\n",
      "Epoch 62/150\n",
      "1500/1500 [==============================] - 1s 519us/step - loss: 0.0155 - accuracy: 0.9951 - val_loss: 0.3226 - val_accuracy: 0.9599\n",
      "Epoch 63/150\n",
      "1500/1500 [==============================] - 1s 525us/step - loss: 0.0139 - accuracy: 0.9952 - val_loss: 0.2983 - val_accuracy: 0.9626\n",
      "Epoch 64/150\n",
      "1500/1500 [==============================] - 1s 491us/step - loss: 0.0159 - accuracy: 0.9946 - val_loss: 0.3053 - val_accuracy: 0.9615\n",
      "Epoch 65/150\n",
      "1500/1500 [==============================] - 1s 519us/step - loss: 0.0136 - accuracy: 0.9956 - val_loss: 0.3178 - val_accuracy: 0.9602\n",
      "Epoch 66/150\n",
      "1500/1500 [==============================] - 1s 534us/step - loss: 0.0160 - accuracy: 0.9944 - val_loss: 0.3190 - val_accuracy: 0.9623\n",
      "Epoch 67/150\n",
      "1500/1500 [==============================] - 1s 573us/step - loss: 0.0141 - accuracy: 0.9954 - val_loss: 0.3142 - val_accuracy: 0.9594\n",
      "Epoch 68/150\n",
      "1500/1500 [==============================] - 1s 526us/step - loss: 0.0152 - accuracy: 0.9952 - val_loss: 0.3273 - val_accuracy: 0.9607\n",
      "Epoch 69/150\n",
      "1500/1500 [==============================] - 1s 564us/step - loss: 0.0136 - accuracy: 0.9958 - val_loss: 0.3017 - val_accuracy: 0.9632\n",
      "Epoch 70/150\n",
      "1500/1500 [==============================] - 1s 558us/step - loss: 0.0126 - accuracy: 0.9960 - val_loss: 0.3161 - val_accuracy: 0.9613\n",
      "Epoch 71/150\n",
      "1500/1500 [==============================] - 1s 529us/step - loss: 0.0132 - accuracy: 0.9955 - val_loss: 0.3161 - val_accuracy: 0.9630\n",
      "Epoch 72/150\n",
      "1500/1500 [==============================] - 1s 523us/step - loss: 0.0118 - accuracy: 0.9958 - val_loss: 0.3361 - val_accuracy: 0.9592\n",
      "Epoch 73/150\n",
      "1500/1500 [==============================] - 1s 522us/step - loss: 0.0152 - accuracy: 0.9949 - val_loss: 0.3440 - val_accuracy: 0.9610\n",
      "Epoch 74/150\n",
      "1500/1500 [==============================] - 1s 513us/step - loss: 0.0151 - accuracy: 0.9950 - val_loss: 0.3128 - val_accuracy: 0.9633\n",
      "Epoch 75/150\n",
      "1500/1500 [==============================] - 1s 515us/step - loss: 0.0114 - accuracy: 0.9962 - val_loss: 0.3264 - val_accuracy: 0.9613\n",
      "Epoch 76/150\n",
      "1500/1500 [==============================] - 1s 518us/step - loss: 0.0130 - accuracy: 0.9956 - val_loss: 0.3347 - val_accuracy: 0.9629\n",
      "Epoch 77/150\n",
      "1500/1500 [==============================] - 1s 515us/step - loss: 0.0125 - accuracy: 0.9961 - val_loss: 0.3795 - val_accuracy: 0.9548\n",
      "Epoch 78/150\n",
      "1500/1500 [==============================] - 1s 526us/step - loss: 0.0148 - accuracy: 0.9952 - val_loss: 0.3244 - val_accuracy: 0.9617\n",
      "Epoch 79/150\n",
      "1500/1500 [==============================] - 1s 538us/step - loss: 0.0106 - accuracy: 0.9969 - val_loss: 0.3425 - val_accuracy: 0.9609\n",
      "Epoch 80/150\n",
      "1500/1500 [==============================] - 1s 539us/step - loss: 0.0157 - accuracy: 0.9951 - val_loss: 0.3766 - val_accuracy: 0.9580\n",
      "Epoch 81/150\n",
      "1500/1500 [==============================] - 1s 523us/step - loss: 0.0119 - accuracy: 0.9959 - val_loss: 0.3378 - val_accuracy: 0.9606\n",
      "Epoch 82/150\n",
      "1500/1500 [==============================] - 1s 516us/step - loss: 0.0155 - accuracy: 0.9956 - val_loss: 0.3739 - val_accuracy: 0.9578\n",
      "Epoch 83/150\n",
      "1500/1500 [==============================] - 1s 525us/step - loss: 0.0094 - accuracy: 0.9967 - val_loss: 0.3578 - val_accuracy: 0.9609\n",
      "Epoch 84/150\n",
      "1500/1500 [==============================] - 1s 531us/step - loss: 0.0170 - accuracy: 0.9951 - val_loss: 0.3392 - val_accuracy: 0.9620\n",
      "Epoch 85/150\n",
      "1500/1500 [==============================] - 1s 519us/step - loss: 0.0106 - accuracy: 0.9965 - val_loss: 0.3407 - val_accuracy: 0.9630\n",
      "Epoch 86/150\n",
      "1500/1500 [==============================] - 1s 537us/step - loss: 0.0141 - accuracy: 0.9953 - val_loss: 0.3660 - val_accuracy: 0.9615\n",
      "Epoch 87/150\n",
      "1500/1500 [==============================] - 1s 538us/step - loss: 0.0147 - accuracy: 0.9955 - val_loss: 0.3744 - val_accuracy: 0.9599\n",
      "Epoch 88/150\n",
      "1500/1500 [==============================] - 1s 551us/step - loss: 0.0114 - accuracy: 0.9962 - val_loss: 0.3433 - val_accuracy: 0.9621\n",
      "Epoch 89/150\n",
      "1500/1500 [==============================] - 1s 537us/step - loss: 0.0154 - accuracy: 0.9954 - val_loss: 0.3604 - val_accuracy: 0.9610\n",
      "Epoch 90/150\n",
      "1500/1500 [==============================] - 1s 533us/step - loss: 0.0122 - accuracy: 0.9962 - val_loss: 0.3529 - val_accuracy: 0.9617\n",
      "Epoch 91/150\n",
      "1500/1500 [==============================] - 1s 543us/step - loss: 0.0126 - accuracy: 0.9960 - val_loss: 0.3725 - val_accuracy: 0.9604\n",
      "Epoch 92/150\n",
      "1500/1500 [==============================] - 1s 539us/step - loss: 0.0114 - accuracy: 0.9961 - val_loss: 0.3622 - val_accuracy: 0.9611\n",
      "Epoch 93/150\n",
      "1500/1500 [==============================] - 1s 528us/step - loss: 0.0094 - accuracy: 0.9968 - val_loss: 0.3731 - val_accuracy: 0.9617\n",
      "Epoch 94/150\n",
      "1500/1500 [==============================] - 1s 522us/step - loss: 0.0115 - accuracy: 0.9964 - val_loss: 0.3515 - val_accuracy: 0.9626\n",
      "Epoch 95/150\n",
      "1500/1500 [==============================] - 1s 520us/step - loss: 0.0113 - accuracy: 0.9963 - val_loss: 0.3602 - val_accuracy: 0.9635\n",
      "Epoch 96/150\n",
      "1500/1500 [==============================] - 1s 523us/step - loss: 0.0122 - accuracy: 0.9963 - val_loss: 0.3699 - val_accuracy: 0.9640\n",
      "Epoch 97/150\n",
      "1500/1500 [==============================] - 1s 523us/step - loss: 0.0124 - accuracy: 0.9964 - val_loss: 0.3852 - val_accuracy: 0.9588\n",
      "Epoch 98/150\n",
      "1500/1500 [==============================] - 1s 523us/step - loss: 0.0137 - accuracy: 0.9962 - val_loss: 0.4016 - val_accuracy: 0.9615\n",
      "Epoch 99/150\n",
      "1500/1500 [==============================] - 1s 524us/step - loss: 0.0112 - accuracy: 0.9965 - val_loss: 0.4372 - val_accuracy: 0.9561\n",
      "Epoch 100/150\n",
      "1500/1500 [==============================] - 1s 526us/step - loss: 0.0085 - accuracy: 0.9975 - val_loss: 0.3999 - val_accuracy: 0.9596\n",
      "Epoch 101/150\n",
      "1500/1500 [==============================] - 1s 527us/step - loss: 0.0146 - accuracy: 0.9954 - val_loss: 0.3903 - val_accuracy: 0.9597\n",
      "Epoch 102/150\n",
      "1500/1500 [==============================] - 1s 524us/step - loss: 0.0131 - accuracy: 0.9964 - val_loss: 0.3782 - val_accuracy: 0.9634\n",
      "Epoch 103/150\n",
      "1500/1500 [==============================] - 1s 528us/step - loss: 0.0091 - accuracy: 0.9970 - val_loss: 0.3871 - val_accuracy: 0.9610\n",
      "Epoch 104/150\n",
      "1500/1500 [==============================] - 1s 525us/step - loss: 0.0099 - accuracy: 0.9971 - val_loss: 0.3875 - val_accuracy: 0.9607\n",
      "Epoch 105/150\n",
      "1500/1500 [==============================] - 1s 527us/step - loss: 0.0159 - accuracy: 0.9955 - val_loss: 0.3914 - val_accuracy: 0.9625\n",
      "Epoch 106/150\n",
      "1500/1500 [==============================] - 1s 526us/step - loss: 0.0107 - accuracy: 0.9967 - val_loss: 0.4208 - val_accuracy: 0.9589\n",
      "Epoch 107/150\n",
      "1500/1500 [==============================] - 1s 534us/step - loss: 0.0131 - accuracy: 0.9964 - val_loss: 0.4446 - val_accuracy: 0.9550\n",
      "Epoch 108/150\n",
      "1500/1500 [==============================] - 1s 538us/step - loss: 0.0126 - accuracy: 0.9961 - val_loss: 0.3892 - val_accuracy: 0.9601\n",
      "Epoch 109/150\n",
      "1500/1500 [==============================] - 1s 536us/step - loss: 0.0113 - accuracy: 0.9964 - val_loss: 0.4084 - val_accuracy: 0.9602\n",
      "Epoch 110/150\n",
      "1500/1500 [==============================] - 1s 529us/step - loss: 0.0130 - accuracy: 0.9963 - val_loss: 0.4006 - val_accuracy: 0.9601\n",
      "Epoch 111/150\n",
      "1500/1500 [==============================] - 1s 528us/step - loss: 0.0085 - accuracy: 0.9969 - val_loss: 0.3870 - val_accuracy: 0.9617\n",
      "Epoch 112/150\n",
      "1500/1500 [==============================] - 1s 528us/step - loss: 0.0106 - accuracy: 0.9970 - val_loss: 0.3918 - val_accuracy: 0.9623\n",
      "Epoch 113/150\n",
      "1500/1500 [==============================] - 1s 546us/step - loss: 0.0107 - accuracy: 0.9966 - val_loss: 0.3893 - val_accuracy: 0.9616\n",
      "Epoch 114/150\n",
      "1500/1500 [==============================] - 1s 520us/step - loss: 0.0130 - accuracy: 0.9964 - val_loss: 0.3899 - val_accuracy: 0.9632\n",
      "Epoch 115/150\n",
      "1500/1500 [==============================] - 1s 533us/step - loss: 0.0092 - accuracy: 0.9971 - val_loss: 0.4537 - val_accuracy: 0.9582\n",
      "Epoch 116/150\n",
      "1500/1500 [==============================] - 1s 522us/step - loss: 0.0108 - accuracy: 0.9969 - val_loss: 0.4115 - val_accuracy: 0.9607\n",
      "Epoch 117/150\n",
      "1500/1500 [==============================] - 1s 529us/step - loss: 0.0109 - accuracy: 0.9966 - val_loss: 0.4235 - val_accuracy: 0.9607\n",
      "Epoch 118/150\n",
      "1500/1500 [==============================] - 1s 540us/step - loss: 0.0110 - accuracy: 0.9967 - val_loss: 0.4639 - val_accuracy: 0.9565\n",
      "Epoch 119/150\n",
      "1500/1500 [==============================] - 1s 544us/step - loss: 0.0118 - accuracy: 0.9965 - val_loss: 0.4286 - val_accuracy: 0.9610\n",
      "Epoch 120/150\n",
      "1500/1500 [==============================] - 1s 523us/step - loss: 0.0090 - accuracy: 0.9969 - val_loss: 0.3982 - val_accuracy: 0.9615\n",
      "Epoch 121/150\n",
      "1500/1500 [==============================] - 1s 523us/step - loss: 0.0097 - accuracy: 0.9971 - val_loss: 0.4349 - val_accuracy: 0.9613\n",
      "Epoch 122/150\n",
      "1500/1500 [==============================] - 1s 519us/step - loss: 0.0134 - accuracy: 0.9965 - val_loss: 0.4189 - val_accuracy: 0.9608\n",
      "Epoch 123/150\n",
      "1500/1500 [==============================] - 1s 526us/step - loss: 0.0118 - accuracy: 0.9964 - val_loss: 0.4328 - val_accuracy: 0.9613\n",
      "Epoch 124/150\n",
      "1500/1500 [==============================] - 1s 537us/step - loss: 0.0055 - accuracy: 0.9981 - val_loss: 0.4188 - val_accuracy: 0.9620\n",
      "Epoch 125/150\n",
      "1500/1500 [==============================] - 1s 531us/step - loss: 0.0151 - accuracy: 0.9956 - val_loss: 0.4191 - val_accuracy: 0.9608\n",
      "Epoch 126/150\n",
      "1500/1500 [==============================] - 1s 535us/step - loss: 0.0099 - accuracy: 0.9970 - val_loss: 0.4078 - val_accuracy: 0.9620\n",
      "Epoch 127/150\n",
      "1500/1500 [==============================] - 1s 526us/step - loss: 0.0126 - accuracy: 0.9960 - val_loss: 0.4092 - val_accuracy: 0.9625\n",
      "Epoch 128/150\n",
      "1500/1500 [==============================] - 1s 524us/step - loss: 0.0079 - accuracy: 0.9976 - val_loss: 0.4226 - val_accuracy: 0.9600\n",
      "Epoch 129/150\n",
      "1500/1500 [==============================] - 1s 528us/step - loss: 0.0121 - accuracy: 0.9962 - val_loss: 0.4432 - val_accuracy: 0.9596\n",
      "Epoch 130/150\n",
      "1500/1500 [==============================] - 1s 544us/step - loss: 0.0111 - accuracy: 0.9969 - val_loss: 0.4218 - val_accuracy: 0.9618\n",
      "Epoch 131/150\n",
      "1500/1500 [==============================] - 1s 521us/step - loss: 0.0088 - accuracy: 0.9974 - val_loss: 0.4281 - val_accuracy: 0.9615\n",
      "Epoch 132/150\n",
      "1500/1500 [==============================] - 1s 534us/step - loss: 0.0068 - accuracy: 0.9980 - val_loss: 0.4398 - val_accuracy: 0.9607\n",
      "Epoch 133/150\n",
      "1500/1500 [==============================] - 1s 532us/step - loss: 0.0162 - accuracy: 0.9958 - val_loss: 0.4190 - val_accuracy: 0.9624\n",
      "Epoch 134/150\n",
      "1500/1500 [==============================] - 1s 521us/step - loss: 0.0071 - accuracy: 0.9977 - val_loss: 0.4368 - val_accuracy: 0.9622\n",
      "Epoch 135/150\n",
      "1500/1500 [==============================] - 1s 531us/step - loss: 0.0099 - accuracy: 0.9970 - val_loss: 0.4689 - val_accuracy: 0.9623\n",
      "Epoch 136/150\n",
      "1500/1500 [==============================] - 1s 517us/step - loss: 0.0104 - accuracy: 0.9968 - val_loss: 0.4425 - val_accuracy: 0.9615\n",
      "Epoch 137/150\n",
      "1500/1500 [==============================] - 1s 515us/step - loss: 0.0110 - accuracy: 0.9967 - val_loss: 0.4671 - val_accuracy: 0.9583\n",
      "Epoch 138/150\n",
      "1500/1500 [==============================] - 1s 520us/step - loss: 0.0070 - accuracy: 0.9979 - val_loss: 0.4880 - val_accuracy: 0.9603\n",
      "Epoch 139/150\n",
      "1500/1500 [==============================] - 1s 518us/step - loss: 0.0124 - accuracy: 0.9967 - val_loss: 0.4625 - val_accuracy: 0.9617\n",
      "Epoch 140/150\n",
      "1500/1500 [==============================] - 1s 523us/step - loss: 0.0095 - accuracy: 0.9973 - val_loss: 0.4548 - val_accuracy: 0.9617\n",
      "Epoch 141/150\n",
      "1500/1500 [==============================] - 1s 527us/step - loss: 0.0115 - accuracy: 0.9967 - val_loss: 0.4833 - val_accuracy: 0.9578\n",
      "Epoch 142/150\n",
      "1500/1500 [==============================] - 1s 517us/step - loss: 0.0097 - accuracy: 0.9972 - val_loss: 0.4402 - val_accuracy: 0.9626\n",
      "Epoch 143/150\n",
      "1500/1500 [==============================] - 1s 518us/step - loss: 0.0126 - accuracy: 0.9968 - val_loss: 0.4741 - val_accuracy: 0.9595\n",
      "Epoch 144/150\n",
      "1500/1500 [==============================] - 1s 531us/step - loss: 0.0112 - accuracy: 0.9967 - val_loss: 0.4600 - val_accuracy: 0.9618\n",
      "Epoch 145/150\n",
      "1500/1500 [==============================] - 1s 542us/step - loss: 0.0057 - accuracy: 0.9980 - val_loss: 0.4543 - val_accuracy: 0.9616\n",
      "Epoch 146/150\n",
      "1500/1500 [==============================] - 1s 536us/step - loss: 0.0097 - accuracy: 0.9972 - val_loss: 0.4717 - val_accuracy: 0.9612\n",
      "Epoch 147/150\n",
      "1500/1500 [==============================] - 1s 519us/step - loss: 0.0090 - accuracy: 0.9973 - val_loss: 0.4640 - val_accuracy: 0.9607\n",
      "Epoch 148/150\n",
      "1500/1500 [==============================] - 1s 534us/step - loss: 0.0113 - accuracy: 0.9967 - val_loss: 0.4969 - val_accuracy: 0.9579\n",
      "Epoch 149/150\n",
      "1500/1500 [==============================] - 1s 529us/step - loss: 0.0092 - accuracy: 0.9973 - val_loss: 0.4380 - val_accuracy: 0.9636\n",
      "Epoch 150/150\n",
      "1500/1500 [==============================] - 1s 517us/step - loss: 0.0074 - accuracy: 0.9977 - val_loss: 0.4621 - val_accuracy: 0.9630\n"
     ]
    }
   ],
   "source": [
    "#### 6. Treinamento\n",
    "\n",
    "historico = rede_simples.fit(x_treino, \n",
    "                             y_treino, \n",
    "                             epochs = 150, \n",
    "                             verbose = 1,\n",
    "                             validation_data = (x_val, y_val))"
   ]
  },
  {
   "cell_type": "markdown",
   "id": "211001b7",
   "metadata": {},
   "source": [
    "##### 7. Avaliação do modelo"
   ]
  },
  {
   "cell_type": "code",
   "execution_count": 52,
   "id": "c7571f08",
   "metadata": {},
   "outputs": [
    {
     "data": {
      "text/plain": [
       "0.9598"
      ]
     },
     "execution_count": 52,
     "metadata": {},
     "output_type": "execute_result"
    }
   ],
   "source": [
    "from sklearn.metrics import confusion_matrix\n",
    "from sklearn.metrics import accuracy_score\n",
    "\n",
    "pred_simples = rede_simples.predict(x_test)\n",
    "accuracy_score(y_test.argmax(1), pred_simples.argmax(1))"
   ]
  },
  {
   "cell_type": "code",
   "execution_count": 53,
   "id": "ce299114",
   "metadata": {},
   "outputs": [
    {
     "data": {
      "image/png": "[encoded data removed]",
      "text/plain": [
       "<Figure size 432x288 with 1 Axes>"
      ]
     },
     "metadata": {
      "needs_background": "light"
     },
     "output_type": "display_data"
    }
   ],
   "source": [
    "loss = historico.history['loss']\n",
    "val_loss = historico.history['val_loss']\n",
    "epochs = range(len(loss))\n",
    "plt.figure()\n",
    "plt.plot(epochs, loss, 'bo', label = 'Training loss')\n",
    "plt.plot(epochs, val_loss, 'b', label = 'Validation loss')\n",
    "plt.title('Training and validation loss')\n",
    "plt.legend()\n",
    "plt.show()"
   ]
  },
  {
   "cell_type": "markdown",
   "id": "649f54da",
   "metadata": {},
   "source": [
    "#### 8. Regularização\n",
    "1. Early Stopping: determinar quando encerrar o treinamento\n",
    "2. Dropout: selecionar neurônios aleatoriamente para o treinamento\n",
    "3. Batch normalization: normalizar a saída das camadas"
   ]
  },
  {
   "cell_type": "code",
   "execution_count": 23,
   "id": "8cda5aee",
   "metadata": {
    "collapsed": true,
    "jupyter": {
     "outputs_hidden": true
    },
    "tags": []
   },
   "outputs": [
    {
     "name": "stdout",
     "output_type": "stream",
     "text": [
      "Epoch 1/150\n",
      "1500/1500 [==============================] - 1s 581us/step - loss: 0.0134 - accuracy: 0.9965 - val_loss: 0.4823 - val_accuracy: 0.9607\n",
      "Epoch 2/150\n",
      "1500/1500 [==============================] - 1s 546us/step - loss: 0.0070 - accuracy: 0.9982 - val_loss: 0.4890 - val_accuracy: 0.9588\n",
      "Epoch 3/150\n",
      "1500/1500 [==============================] - 1s 540us/step - loss: 0.0124 - accuracy: 0.9965 - val_loss: 0.5039 - val_accuracy: 0.9595\n",
      "Epoch 4/150\n",
      "1500/1500 [==============================] - 1s 535us/step - loss: 0.0089 - accuracy: 0.9975 - val_loss: 0.4974 - val_accuracy: 0.9592\n",
      "Epoch 5/150\n",
      "1500/1500 [==============================] - 1s 532us/step - loss: 0.0085 - accuracy: 0.9973 - val_loss: 0.5095 - val_accuracy: 0.9585\n",
      "Epoch 6/150\n",
      "1500/1500 [==============================] - 1s 538us/step - loss: 0.0105 - accuracy: 0.9967 - val_loss: 0.4922 - val_accuracy: 0.9607\n",
      "Epoch 7/150\n",
      "1500/1500 [==============================] - 1s 551us/step - loss: 0.0074 - accuracy: 0.9978 - val_loss: 0.4811 - val_accuracy: 0.9616\n",
      "Epoch 8/150\n",
      "1500/1500 [==============================] - 1s 551us/step - loss: 0.0108 - accuracy: 0.9969 - val_loss: 0.5009 - val_accuracy: 0.9617\n",
      "Epoch 9/150\n",
      "1500/1500 [==============================] - 1s 556us/step - loss: 0.0093 - accuracy: 0.9971 - val_loss: 0.4978 - val_accuracy: 0.9595\n",
      "Epoch 10/150\n",
      "1500/1500 [==============================] - 1s 539us/step - loss: 0.0101 - accuracy: 0.9974 - val_loss: 0.4986 - val_accuracy: 0.9590\n",
      "Epoch 11/150\n",
      "1500/1500 [==============================] - 1s 544us/step - loss: 0.0086 - accuracy: 0.9974 - val_loss: 0.4674 - val_accuracy: 0.9615\n",
      "Epoch 12/150\n",
      "1500/1500 [==============================] - 1s 527us/step - loss: 0.0091 - accuracy: 0.9974 - val_loss: 0.4663 - val_accuracy: 0.9618\n",
      "Epoch 13/150\n",
      "1500/1500 [==============================] - 1s 533us/step - loss: 0.0073 - accuracy: 0.9977 - val_loss: 0.5095 - val_accuracy: 0.9590\n",
      "Epoch 14/150\n",
      "1500/1500 [==============================] - 1s 537us/step - loss: 0.0069 - accuracy: 0.9979 - val_loss: 0.5138 - val_accuracy: 0.9610\n",
      "Epoch 15/150\n",
      "1500/1500 [==============================] - 1s 541us/step - loss: 0.0137 - accuracy: 0.9963 - val_loss: 0.5273 - val_accuracy: 0.9592\n",
      "Epoch 16/150\n",
      "1500/1500 [==============================] - 1s 536us/step - loss: 0.0101 - accuracy: 0.9972 - val_loss: 0.5116 - val_accuracy: 0.9600\n",
      "Epoch 17/150\n",
      "1500/1500 [==============================] - 1s 544us/step - loss: 0.0058 - accuracy: 0.9982 - val_loss: 0.5228 - val_accuracy: 0.9597\n",
      "Epoch 18/150\n",
      "1500/1500 [==============================] - 1s 532us/step - loss: 0.0088 - accuracy: 0.9975 - val_loss: 0.4944 - val_accuracy: 0.9609\n",
      "Epoch 19/150\n",
      "1500/1500 [==============================] - 1s 544us/step - loss: 0.0098 - accuracy: 0.9971 - val_loss: 0.5113 - val_accuracy: 0.9603\n",
      "Epoch 20/150\n",
      "1500/1500 [==============================] - 1s 546us/step - loss: 0.0108 - accuracy: 0.9973 - val_loss: 0.5159 - val_accuracy: 0.9606\n",
      "Epoch 21/150\n",
      "1500/1500 [==============================] - 1s 530us/step - loss: 0.0040 - accuracy: 0.9988 - val_loss: 0.5360 - val_accuracy: 0.9597\n",
      "Epoch 22/150\n",
      "1500/1500 [==============================] - 1s 547us/step - loss: 0.0130 - accuracy: 0.9968 - val_loss: 0.5297 - val_accuracy: 0.9593\n",
      "Epoch 00022: early stopping\n"
     ]
    }
   ],
   "source": [
    " es = EarlyStopping(monitor = 'val_loss', min_delta = 0.001, patience = 10, verbose = 1, \n",
    "                    mode = 'auto')\n",
    "\n",
    "# Setamos os pesos iniciais iguais à versão antes do treinamento pra ter um comparativo mais real.\n",
    "#rede_simples.set_weights(pesos_iniciais)\n",
    "\n",
    "historico = rede_simples.fit(x_treino, \n",
    "                             y_treino, \n",
    "                             epochs = 150, \n",
    "                             verbose = 1,\n",
    "                             validation_data = (x_val, y_val),\n",
    "                             callbacks = [es])"
   ]
  },
  {
   "cell_type": "code",
   "execution_count": 24,
   "id": "0b40397b",
   "metadata": {},
   "outputs": [
    {
     "data": {
      "image/png": "[encoded data removed]",
      "text/plain": [
       "<Figure size 432x288 with 1 Axes>"
      ]
     },
     "metadata": {
      "needs_background": "light"
     },
     "output_type": "display_data"
    }
   ],
   "source": [
    "loss = historico.history['loss']\n",
    "val_loss = historico.history['val_loss']\n",
    "epochs = range(len(loss))\n",
    "plt.figure()\n",
    "plt.plot(epochs, loss, 'bo', label = 'Training loss')\n",
    "plt.plot(epochs, val_loss, 'b', label = 'Validation loss')\n",
    "plt.title('Training and validation loss')\n",
    "plt.legend()\n",
    "plt.show()"
   ]
  },
  {
   "cell_type": "code",
   "execution_count": 25,
   "id": "1961c951",
   "metadata": {},
   "outputs": [
    {
     "data": {
      "text/plain": [
       "0.961"
      ]
     },
     "execution_count": 25,
     "metadata": {},
     "output_type": "execute_result"
    }
   ],
   "source": [
    "from sklearn.metrics import confusion_matrix\n",
    "from sklearn.metrics import accuracy_score\n",
    "\n",
    "pred_es = rede_simples.predict(x_test) #### gera novas predições de uma base. O resultado disso é uma matriz com a \"probabilidade\" de cada classe\n",
    "\n",
    "accuracy_score(y_test.argmax(1), pred_es.argmax(1) ### colocamos o argmax para encontrar a classe com maior probabilidade após o predict"
   ]
  },
  {
   "cell_type": "code",
   "execution_count": 26,
   "id": "ac1f5c31",
   "metadata": {},
   "outputs": [
    {
     "data": {
      "text/plain": [
       "array([[ 964,    0,    1,    2,    3,    0,    3,    3,    2,    2],\n",
       "       [   0, 1121,    3,    4,    1,    1,    0,    2,    2,    1],\n",
       "       [   3,    3,  983,    6,   12,    0,    2,   14,    9,    0],\n",
       "       [   1,    0,    5,  961,    2,   14,    0,   15,   11,    1],\n",
       "       [   2,    2,    2,    2,  949,    0,    4,    3,    1,   17],\n",
       "       [   2,    0,    0,   19,    4,  829,   14,    4,   11,    9],\n",
       "       [   3,    4,    3,    1,    8,    3,  927,    3,    6,    0],\n",
       "       [   1,    1,   10,    5,    1,    1,    0,  995,    6,    8],\n",
       "       [   8,    6,    2,   18,    4,    4,    3,    4,  921,    4],\n",
       "       [   2,    4,    0,    6,   15,    1,    0,   18,    3,  960]])"
      ]
     },
     "execution_count": 26,
     "metadata": {},
     "output_type": "execute_result"
    }
   ],
   "source": [
    "confusion_matrix(y_test.argmax(1), pred_es.argmax(1))"
   ]
  },
  {
   "cell_type": "markdown",
   "id": "ad5828ba",
   "metadata": {},
   "source": [
    "### Regularização - Dropout\n",
    "\n",
    "* Alterna quais neurônios vão otimizar os pesos a cada rodada do treinamento\n",
    "\n",
    "![Title](imgs/dropout_.gif) "
   ]
  },
  {
   "cell_type": "code",
   "execution_count": 27,
   "id": "c61aad6a",
   "metadata": {},
   "outputs": [],
   "source": [
    "rede_dropout = Sequential()\n",
    "rede_dropout.add(Flatten())\n",
    "rede_dropout.add(Dense(25,  input_dim = 784))\n",
    "rede_dropout.add(Activation('relu'))\n",
    "rede_dropout.add(Dropout(0.5)) ### definimos o dropout com probabilidade p = 0.5. No caso, utilizamos 0.5 neurô\n",
    "rede_dropout.add(Dense(25))\n",
    "rede_dropout.add(Activation('relu'))\n",
    "rede_dropout.add(Dropout(0.3))\n",
    "rede_dropout.add(Dense(25))\n",
    "rede_dropout.add(Activation('relu'))\n",
    "rede_dropout.add(Dropout(0.3))\n",
    "rede_dropout.add(Dense(10))\n",
    "rede_dropout.add(Activation('softmax'))\n",
    "\n",
    "rede_dropout.compile(loss = 'categorical_crossentropy', optimizer = 'Adam', metrics=['accuracy'])\n"
   ]
  },
  {
   "cell_type": "code",
   "execution_count": 46,
   "id": "8d9e65e1",
   "metadata": {
    "collapsed": true,
    "jupyter": {
     "outputs_hidden": true
    },
    "tags": []
   },
   "outputs": [
    {
     "name": "stdout",
     "output_type": "stream",
     "text": [
      "Epoch 1/150\n",
      "1250/1250 [==============================] - 2s 949us/step - loss: 1.8478 - accuracy: 0.3376 - val_loss: 1.7643 - val_accuracy: 0.3632\n",
      "Epoch 2/150\n",
      "1250/1250 [==============================] - 1s 809us/step - loss: 1.6727 - accuracy: 0.4004 - val_loss: 1.6374 - val_accuracy: 0.4145\n",
      "Epoch 3/150\n",
      "1250/1250 [==============================] - 1s 834us/step - loss: 1.6110 - accuracy: 0.4243 - val_loss: 1.6813 - val_accuracy: 0.3949\n",
      "Epoch 4/150\n",
      "1250/1250 [==============================] - 1s 828us/step - loss: 1.5713 - accuracy: 0.4376 - val_loss: 1.6228 - val_accuracy: 0.4117\n",
      "Epoch 5/150\n",
      "1250/1250 [==============================] - 1s 800us/step - loss: 1.5448 - accuracy: 0.4488 - val_loss: 1.6733 - val_accuracy: 0.4012\n",
      "Epoch 6/150\n",
      "1250/1250 [==============================] - 1s 834us/step - loss: 1.5156 - accuracy: 0.4561 - val_loss: 1.6432 - val_accuracy: 0.4040\n",
      "Epoch 7/150\n",
      "1250/1250 [==============================] - 1s 785us/step - loss: 1.4956 - accuracy: 0.4658 - val_loss: 1.5499 - val_accuracy: 0.4435\n",
      "Epoch 8/150\n",
      "1250/1250 [==============================] - 1s 794us/step - loss: 1.4743 - accuracy: 0.4724 - val_loss: 1.5984 - val_accuracy: 0.4226\n",
      "Epoch 9/150\n",
      "1250/1250 [==============================] - 1s 788us/step - loss: 1.4632 - accuracy: 0.4785 - val_loss: 1.7216 - val_accuracy: 0.3948\n",
      "Epoch 10/150\n",
      "1250/1250 [==============================] - 1s 793us/step - loss: 1.4462 - accuracy: 0.4857 - val_loss: 1.7268 - val_accuracy: 0.3956\n",
      "Epoch 11/150\n",
      "1250/1250 [==============================] - 1s 809us/step - loss: 1.4398 - accuracy: 0.4852 - val_loss: 1.6145 - val_accuracy: 0.4335\n",
      "Epoch 12/150\n",
      "1250/1250 [==============================] - 1s 805us/step - loss: 1.4232 - accuracy: 0.4906 - val_loss: 1.5908 - val_accuracy: 0.4359\n",
      "Epoch 13/150\n",
      "1250/1250 [==============================] - 1s 790us/step - loss: 1.4142 - accuracy: 0.4960 - val_loss: 1.5780 - val_accuracy: 0.4329\n",
      "Epoch 14/150\n",
      "1250/1250 [==============================] - 1s 809us/step - loss: 1.4043 - accuracy: 0.4974 - val_loss: 1.5658 - val_accuracy: 0.4466\n",
      "Epoch 15/150\n",
      "1250/1250 [==============================] - 1s 811us/step - loss: 1.3919 - accuracy: 0.5037 - val_loss: 1.5944 - val_accuracy: 0.4359\n",
      "Epoch 16/150\n",
      "1250/1250 [==============================] - 1s 805us/step - loss: 1.3848 - accuracy: 0.5049 - val_loss: 1.5775 - val_accuracy: 0.4471\n",
      "Epoch 17/150\n",
      "1250/1250 [==============================] - 1s 830us/step - loss: 1.3781 - accuracy: 0.5093 - val_loss: 1.6192 - val_accuracy: 0.4256\n",
      "Epoch 00017: early stopping\n"
     ]
    }
   ],
   "source": [
    " historico = rede_dropout.fit(x_treino, \n",
    "                             y_treino, \n",
    "                             epochs = 150, \n",
    "                             verbose = 1,\n",
    "                             validation_data = (x_val, y_val),\n",
    "                             callbacks = [es])"
   ]
  },
  {
   "cell_type": "code",
   "execution_count": 29,
   "id": "3e7565d3",
   "metadata": {},
   "outputs": [
    {
     "data": {
      "image/png": "[encoded data removed]",
      "text/plain": [
       "<Figure size 432x288 with 1 Axes>"
      ]
     },
     "metadata": {
      "needs_background": "light"
     },
     "output_type": "display_data"
    }
   ],
   "source": [
    "loss = historico.history['loss']\n",
    "val_loss = historico.history['val_loss']\n",
    "epochs = range(len(loss))\n",
    "plt.figure()\n",
    "plt.plot(epochs, loss, 'bo', label = 'Training loss')\n",
    "plt.plot(epochs, val_loss, 'b', label = 'Validation loss')\n",
    "plt.title('Training and validation loss')\n",
    "plt.legend()\n",
    "plt.show()"
   ]
  },
  {
   "cell_type": "code",
   "execution_count": 30,
   "id": "ae92ff6c",
   "metadata": {},
   "outputs": [
    {
     "data": {
      "text/plain": [
       "0.9535"
      ]
     },
     "execution_count": 30,
     "metadata": {},
     "output_type": "execute_result"
    }
   ],
   "source": [
    "pred_dropout = rede_dropout.predict(x_test)\n",
    "\n",
    "accuracy_score(y_test.argmax(1), pred_dropout.argmax(1))"
   ]
  },
  {
   "cell_type": "code",
   "execution_count": 31,
   "id": "b83a1b13",
   "metadata": {},
   "outputs": [
    {
     "data": {
      "text/plain": [
       "array([[ 969,    0,    3,    1,    2,    0,    3,    1,    1,    0],\n",
       "       [   0, 1120,    5,    2,    0,    2,    2,    2,    2,    0],\n",
       "       [   3,    1,  998,   10,    1,    1,    4,    9,    5,    0],\n",
       "       [   0,    1,   19,  952,    0,   24,    0,    8,    4,    2],\n",
       "       [   1,    4,    5,    0,  942,    0,    8,    2,    1,   19],\n",
       "       [   3,    3,    2,   16,    5,  835,   14,    3,    5,    6],\n",
       "       [   8,    4,    2,    0,    7,   12,  924,    0,    1,    0],\n",
       "       [   2,   10,   16,    3,    5,    0,    0,  979,    0,   13],\n",
       "       [  13,    9,   11,   13,    7,   15,    7,    5,  885,    9],\n",
       "       [   6,    3,    1,    9,   34,   11,    1,    9,    4,  931]])"
      ]
     },
     "execution_count": 31,
     "metadata": {},
     "output_type": "execute_result"
    }
   ],
   "source": [
    "confusion_matrix(y_test.argmax(1), pred_dropout.argmax(1))"
   ]
  },
  {
   "cell_type": "markdown",
   "id": "c45c2aa4",
   "metadata": {},
   "source": [
    "### Batch Normalization\n",
    "\n",
    "Lembremos da estrutura básica de um neurônio, o resultado do neurônio é a **soma ponderada** das entradas e seus pesos certo?\n",
    "\n",
    "* Uma vez que os pesos são definidos aleatoriamente, temos uma infinidade de valores possíveis. \n",
    "\n",
    "* O resultado disso é que cada camada possua sua própria distribuição, o que pode não ser muito benéfico para o modelo\n",
    "\n",
    "* Pensemos em uma base de dados estruturada, se tivermos uma coluna com valores entre 0 e 1, e outra coluna entre 10 e 100000. O comum é normalizarmos este dataset para que todas as features fiquem em um intervalo de 0 a 1 certo?\n",
    "\n",
    "* A normalização do batch consiste em adotar o mesmo princípio para a saída de camadas! A cada camada, **antes da função de ativação**, normalizamos os pesos para serem utilizados como entrada da próxima camada\n",
    "\n",
    "* Não é necessário normalizar a camada de saída da rede, uma vez que a saída dela é a própria classificação\n",
    "\n",
    "* Com as features e pesos normalizados, o aprendizado do modelo acaba ficando mais rápido, uma vez que o gradiente passa a ter menos problemas de convergência (embora ainda existam). \n",
    "\n",
    "* O batch normalization evita problemas de degradação do aprendizado, o que leva a aumento do erro do modelo, principalmente a medida que adicionamos mais camadas. Por isso, é mais comumente utilizado em modelos mais **profundos**\n",
    "\n",
    "![Title](imgs/perceptron.png)\n",
    "\n"
   ]
  },
  {
   "cell_type": "code",
   "execution_count": 47,
   "id": "7736a94f",
   "metadata": {},
   "outputs": [],
   "source": [
    "rede_batch_norm = Sequential()\n",
    "rede_batch_norm.add(Flatten())\n",
    "rede_batch_norm.add(Dense(25,  input_dim = 784))\n",
    "rede_batch_norm.add(BatchNormalization()) ### batch norm sempre antes da função de ativação\n",
    "rede_batch_norm.add(Activation('relu'))\n",
    "rede_batch_norm.add(Dense(25))\n",
    "rede_batch_norm.add(BatchNormalization()) ### batch norm sempre antes da função de ativação\n",
    "rede_batch_norm.add(Activation('relu'))\n",
    "rede_batch_norm.add(Dense(25))\n",
    "rede_batch_norm.add(BatchNormalization()) ### batch norm sempre antes da função de ativação\n",
    "rede_batch_norm.add(Activation('relu'))\n",
    "rede_batch_norm.add(Dense(10))\n",
    "rede_batch_norm.add(Activation('softmax'))\n",
    "\n",
    "rede_batch_norm.compile(loss = 'categorical_crossentropy', optimizer = 'Adam', metrics=['accuracy'])\n",
    "\n"
   ]
  },
  {
   "cell_type": "code",
   "execution_count": 48,
   "id": "5070730e",
   "metadata": {
    "collapsed": true,
    "jupyter": {
     "outputs_hidden": true
    },
    "tags": []
   },
   "outputs": [
    {
     "name": "stdout",
     "output_type": "stream",
     "text": [
      "Epoch 1/150\n",
      "1250/1250 [==============================] - 2s 1ms/step - loss: 1.8627 - accuracy: 0.3346 - val_loss: 1.8228 - val_accuracy: 0.3346\n",
      "Epoch 2/150\n",
      "1250/1250 [==============================] - 1s 856us/step - loss: 1.6671 - accuracy: 0.4070 - val_loss: 1.7198 - val_accuracy: 0.3891\n",
      "Epoch 3/150\n",
      "1250/1250 [==============================] - 1s 856us/step - loss: 1.6040 - accuracy: 0.4310 - val_loss: 1.7356 - val_accuracy: 0.3800\n",
      "Epoch 4/150\n",
      "1250/1250 [==============================] - 1s 862us/step - loss: 1.5632 - accuracy: 0.4425 - val_loss: 1.6417 - val_accuracy: 0.4075\n",
      "Epoch 5/150\n",
      "1250/1250 [==============================] - 1s 813us/step - loss: 1.5364 - accuracy: 0.4535 - val_loss: 1.5500 - val_accuracy: 0.4456\n",
      "Epoch 6/150\n",
      "1250/1250 [==============================] - 1s 845us/step - loss: 1.5039 - accuracy: 0.4648 - val_loss: 1.5819 - val_accuracy: 0.4342\n",
      "Epoch 7/150\n",
      "1250/1250 [==============================] - 1s 842us/step - loss: 1.4858 - accuracy: 0.4753 - val_loss: 1.6399 - val_accuracy: 0.4218\n",
      "Epoch 8/150\n",
      "1250/1250 [==============================] - 1s 854us/step - loss: 1.4686 - accuracy: 0.4774 - val_loss: 1.5915 - val_accuracy: 0.4444\n",
      "Epoch 9/150\n",
      "1250/1250 [==============================] - 1s 820us/step - loss: 1.4520 - accuracy: 0.4851 - val_loss: 1.5453 - val_accuracy: 0.4459\n",
      "Epoch 10/150\n",
      "1250/1250 [==============================] - 1s 816us/step - loss: 1.4421 - accuracy: 0.4866 - val_loss: 1.5800 - val_accuracy: 0.4343\n",
      "Epoch 11/150\n",
      "1250/1250 [==============================] - 1s 824us/step - loss: 1.4260 - accuracy: 0.4942 - val_loss: 1.5708 - val_accuracy: 0.4445\n",
      "Epoch 12/150\n",
      "1250/1250 [==============================] - 1s 813us/step - loss: 1.4102 - accuracy: 0.4973 - val_loss: 1.7381 - val_accuracy: 0.3909\n",
      "Epoch 13/150\n",
      "1250/1250 [==============================] - 1s 794us/step - loss: 1.4063 - accuracy: 0.5003 - val_loss: 1.5052 - val_accuracy: 0.4661\n",
      "Epoch 14/150\n",
      "1250/1250 [==============================] - 1s 875us/step - loss: 1.3955 - accuracy: 0.4998 - val_loss: 1.5849 - val_accuracy: 0.4378\n",
      "Epoch 15/150\n",
      "1250/1250 [==============================] - 1s 825us/step - loss: 1.3870 - accuracy: 0.5067 - val_loss: 1.5677 - val_accuracy: 0.4425\n",
      "Epoch 16/150\n",
      "1250/1250 [==============================] - 1s 807us/step - loss: 1.3749 - accuracy: 0.5111 - val_loss: 1.5119 - val_accuracy: 0.4595\n",
      "Epoch 17/150\n",
      "1250/1250 [==============================] - 1s 791us/step - loss: 1.3707 - accuracy: 0.5121 - val_loss: 1.6962 - val_accuracy: 0.4163\n",
      "Epoch 18/150\n",
      "1250/1250 [==============================] - 1s 785us/step - loss: 1.3588 - accuracy: 0.5160 - val_loss: 1.5574 - val_accuracy: 0.4540\n",
      "Epoch 19/150\n",
      "1250/1250 [==============================] - 1s 804us/step - loss: 1.3509 - accuracy: 0.5186 - val_loss: 1.4642 - val_accuracy: 0.4723\n",
      "Epoch 20/150\n",
      "1250/1250 [==============================] - 1s 828us/step - loss: 1.3493 - accuracy: 0.5180 - val_loss: 1.5294 - val_accuracy: 0.4560\n",
      "Epoch 21/150\n",
      "1250/1250 [==============================] - 1s 800us/step - loss: 1.3458 - accuracy: 0.5214 - val_loss: 1.6012 - val_accuracy: 0.4371\n",
      "Epoch 22/150\n",
      "1250/1250 [==============================] - 1s 802us/step - loss: 1.3368 - accuracy: 0.5224 - val_loss: 1.5626 - val_accuracy: 0.4471\n",
      "Epoch 23/150\n",
      "1250/1250 [==============================] - 1s 792us/step - loss: 1.3326 - accuracy: 0.5231 - val_loss: 1.5598 - val_accuracy: 0.4494\n",
      "Epoch 24/150\n",
      "1250/1250 [==============================] - 1s 804us/step - loss: 1.3289 - accuracy: 0.5271 - val_loss: 1.6098 - val_accuracy: 0.4452\n",
      "Epoch 25/150\n",
      "1250/1250 [==============================] - 1s 808us/step - loss: 1.3270 - accuracy: 0.5256 - val_loss: 1.5166 - val_accuracy: 0.4566\n",
      "Epoch 26/150\n",
      "1250/1250 [==============================] - 1s 816us/step - loss: 1.3193 - accuracy: 0.5322 - val_loss: 1.5952 - val_accuracy: 0.4440\n",
      "Epoch 27/150\n",
      "1250/1250 [==============================] - 1s 815us/step - loss: 1.3139 - accuracy: 0.5319 - val_loss: 1.6178 - val_accuracy: 0.4353\n",
      "Epoch 28/150\n",
      "1250/1250 [==============================] - 1s 867us/step - loss: 1.3086 - accuracy: 0.5321 - val_loss: 1.4756 - val_accuracy: 0.4831\n",
      "Epoch 29/150\n",
      "1250/1250 [==============================] - 1s 1ms/step - loss: 1.3063 - accuracy: 0.5342 - val_loss: 1.6671 - val_accuracy: 0.4242\n",
      "Epoch 00029: early stopping\n"
     ]
    }
   ],
   "source": [
    " historico = rede_batch_norm.fit(x_treino, \n",
    "                             y_treino, \n",
    "                             epochs = 150, \n",
    "                             verbose = 1,\n",
    "                             validation_data = (x_val, y_val),\n",
    "                             callbacks = [es])"
   ]
  },
  {
   "cell_type": "markdown",
   "id": "82d3ffa6",
   "metadata": {},
   "source": [
    "# Prática 2 - CIFAR 10\n",
    "\n",
    "Semelhantemente ao MNIST, agora utilizaremos outra base de dados disponível no tensorflow.\n",
    "Desta vez, utilizaremos o CIFAR10, base de dados que possui 10 classes divididas em animais e meios de transporte.\n",
    "\n",
    "De forma geral, podemos pensar neste dataset como:\n",
    "* Complexidade moderada: os objetos estão em diferentes posições e ângulos. Existe também uma variabilidade dos objetos. Se olharmos para a classe \"bird\" por exemplo, ela vai desde pássaros, galinhas, até avestruz. Também existe um background diferenciado a cada imagem, aumentando também um pouco a complexidade do modelo.\n",
    "* Processamento rápido: as imagens são pequenas (32x32), apesar de imagens serem coloridas (3 canais de cores)\n",
    "\n",
    "![Title](imgs/cifar10_dataset.png) "
   ]
  },
  {
   "cell_type": "code",
   "execution_count": 32,
   "id": "0b1e00e0",
   "metadata": {},
   "outputs": [],
   "source": [
    "(x_train, y_train), (x_test, y_test) = keras.datasets.cifar10.load_data()"
   ]
  },
  {
   "cell_type": "code",
   "execution_count": 33,
   "id": "396c9f1e",
   "metadata": {},
   "outputs": [
    {
     "name": "stdout",
     "output_type": "stream",
     "text": [
      "(50000, 32, 32, 3)\n",
      "(10000, 32, 32, 3)\n",
      "(10000, 1)\n"
     ]
    }
   ],
   "source": [
    "print(x_train.shape)\n",
    "print(x_test.shape)\n",
    "print(y_test.shape)"
   ]
  },
  {
   "cell_type": "code",
   "execution_count": 34,
   "id": "bb069ec6",
   "metadata": {},
   "outputs": [
    {
     "data": {
      "image/png": "[encoded data removed]",
      "text/plain": [
       "<Figure size 432x288 with 1 Axes>"
      ]
     },
     "metadata": {
      "needs_background": "light"
     },
     "output_type": "display_data"
    }
   ],
   "source": [
    "# pick a sample to plot\n",
    "sample = 10\n",
    "image = x_train[sample]\n",
    "\n",
    "# plot the sample\n",
    "fig = plt.figure\n",
    "plt.imshow(image)\n",
    "plt.show()"
   ]
  },
  {
   "cell_type": "code",
   "execution_count": 35,
   "id": "512212eb",
   "metadata": {},
   "outputs": [],
   "source": [
    "m = np.max(x_train)\n",
    "x_train = x_train/m\n",
    "x_test = x_test/m"
   ]
  },
  {
   "cell_type": "code",
   "execution_count": 36,
   "id": "9df17052",
   "metadata": {},
   "outputs": [],
   "source": [
    "hot = OneHotEncoder()\n",
    "y_train = hot.fit_transform(y_train.reshape(-1, 1)).toarray()\n",
    "y_test = hot.transform(y_test.reshape(-1, 1)).toarray()"
   ]
  },
  {
   "cell_type": "code",
   "execution_count": 37,
   "id": "ab9d3a18",
   "metadata": {},
   "outputs": [
    {
     "data": {
      "text/plain": [
       "((40000, 32, 32, 3),\n",
       " (10000, 32, 32, 3),\n",
       " (10000, 32, 32, 3),\n",
       " (40000, 10),\n",
       " (10000, 10),\n",
       " (10000, 10))"
      ]
     },
     "execution_count": 37,
     "metadata": {},
     "output_type": "execute_result"
    }
   ],
   "source": [
    "from sklearn.model_selection import train_test_split\n",
    "\n",
    "x_treino, x_val, y_treino, y_val = train_test_split(x_train, y_train, test_size = 0.2, random_state = 13)\n",
    "\n",
    "x_treino.shape, x_val.shape, x_test.shape, y_treino.shape, y_val.shape, y_test.shape, "
   ]
  },
  {
   "cell_type": "code",
   "execution_count": 38,
   "id": "375ffb16",
   "metadata": {},
   "outputs": [],
   "source": [
    "rede_simples = Sequential()\n",
    "\n",
    "rede_simples.add(Flatten())\n",
    "rede_simples.add(Dense(240, input_dim = 1024))\n",
    "rede_simples.add(Activation('relu'))\n",
    "rede_dropout.add(Dropout(0.3))\n",
    "rede_simples.add(Dense(512))\n",
    "rede_simples.add(Activation('relu'))\n",
    "rede_dropout.add(Dropout(0.3))\n",
    "rede_simples.add(Dense(512))\n",
    "rede_simples.add(Activation('relu'))\n",
    "rede_dropout.add(Dropout(0.3))\n",
    "rede_simples.add(Dense(10))\n",
    "rede_simples.add(Activation('softmax'))"
   ]
  },
  {
   "cell_type": "code",
   "execution_count": 39,
   "id": "2e053a0c",
   "metadata": {},
   "outputs": [],
   "source": [
    "import tensorflow as tf\n",
    "\n",
    "rede_simples.compile(loss = 'categorical_crossentropy', optimizer = 'Adam', metrics=['accuracy'])"
   ]
  },
  {
   "cell_type": "code",
   "execution_count": 40,
   "id": "29893d9d",
   "metadata": {
    "collapsed": true,
    "jupyter": {
     "outputs_hidden": true
    },
    "tags": []
   },
   "outputs": [
    {
     "name": "stdout",
     "output_type": "stream",
     "text": [
      "Epoch 1/150\n",
      "625/625 [==============================] - 4s 5ms/step - loss: 1.8603 - accuracy: 0.3210 - val_loss: 1.7263 - val_accuracy: 0.3787\n",
      "Epoch 2/150\n",
      "625/625 [==============================] - 3s 5ms/step - loss: 1.6707 - accuracy: 0.3980 - val_loss: 1.5882 - val_accuracy: 0.4334\n",
      "Epoch 3/150\n",
      "625/625 [==============================] - 3s 5ms/step - loss: 1.5821 - accuracy: 0.4325 - val_loss: 1.5998 - val_accuracy: 0.4248\n",
      "Epoch 4/150\n",
      "625/625 [==============================] - 3s 5ms/step - loss: 1.5303 - accuracy: 0.4501 - val_loss: 1.5145 - val_accuracy: 0.4510\n",
      "Epoch 5/150\n",
      "625/625 [==============================] - 3s 5ms/step - loss: 1.4872 - accuracy: 0.4683 - val_loss: 1.4832 - val_accuracy: 0.4640\n",
      "Epoch 6/150\n",
      "625/625 [==============================] - 3s 5ms/step - loss: 1.4448 - accuracy: 0.4793 - val_loss: 1.4763 - val_accuracy: 0.4703\n",
      "Epoch 7/150\n",
      "625/625 [==============================] - 3s 5ms/step - loss: 1.4094 - accuracy: 0.4928 - val_loss: 1.5310 - val_accuracy: 0.4524\n",
      "Epoch 8/150\n",
      "625/625 [==============================] - 3s 5ms/step - loss: 1.3776 - accuracy: 0.5074 - val_loss: 1.4443 - val_accuracy: 0.4842\n",
      "Epoch 9/150\n",
      "625/625 [==============================] - 3s 5ms/step - loss: 1.3475 - accuracy: 0.5175 - val_loss: 1.4435 - val_accuracy: 0.4937\n",
      "Epoch 10/150\n",
      "625/625 [==============================] - 3s 5ms/step - loss: 1.3132 - accuracy: 0.5290 - val_loss: 1.4549 - val_accuracy: 0.4899\n",
      "Epoch 11/150\n",
      "625/625 [==============================] - 3s 5ms/step - loss: 1.2776 - accuracy: 0.5413 - val_loss: 1.5250 - val_accuracy: 0.4785\n",
      "Epoch 12/150\n",
      "625/625 [==============================] - 3s 5ms/step - loss: 1.2400 - accuracy: 0.5550 - val_loss: 1.4827 - val_accuracy: 0.4749\n",
      "Epoch 13/150\n",
      "625/625 [==============================] - 3s 5ms/step - loss: 1.2061 - accuracy: 0.5642 - val_loss: 1.4527 - val_accuracy: 0.4973\n",
      "Epoch 14/150\n",
      "625/625 [==============================] - 3s 5ms/step - loss: 1.1685 - accuracy: 0.5783 - val_loss: 1.4995 - val_accuracy: 0.4881\n",
      "Epoch 15/150\n",
      "625/625 [==============================] - 3s 5ms/step - loss: 1.1200 - accuracy: 0.5937 - val_loss: 1.5012 - val_accuracy: 0.4881\n",
      "Epoch 16/150\n",
      "625/625 [==============================] - 3s 5ms/step - loss: 1.0777 - accuracy: 0.6097 - val_loss: 1.5584 - val_accuracy: 0.4835\n",
      "Epoch 17/150\n",
      "625/625 [==============================] - 3s 4ms/step - loss: 1.0430 - accuracy: 0.6225 - val_loss: 1.5375 - val_accuracy: 0.4949\n",
      "Epoch 18/150\n",
      "625/625 [==============================] - 3s 5ms/step - loss: 0.9891 - accuracy: 0.6406 - val_loss: 1.5970 - val_accuracy: 0.4903\n",
      "Epoch 00018: early stopping\n"
     ]
    }
   ],
   "source": [
    " es = EarlyStopping(monitor = 'val_loss', min_delta = 0.001, patience = 10, verbose = 1, mode = 'auto')\n",
    "    \n",
    "historico = rede_simples.fit(x_treino, \n",
    "                             y_treino, \n",
    "                             epochs = 150, \n",
    "                             batch_size=64,\n",
    "                             verbose = 1,\n",
    "                             validation_data = (x_val, y_val),\n",
    "                             callbacks = [es])"
   ]
  },
  {
   "cell_type": "code",
   "execution_count": 41,
   "id": "44f96807",
   "metadata": {},
   "outputs": [
    {
     "data": {
      "text/plain": [
       "0.4885"
      ]
     },
     "execution_count": 41,
     "metadata": {},
     "output_type": "execute_result"
    }
   ],
   "source": [
    "from sklearn.metrics import confusion_matrix\n",
    "from sklearn.metrics import accuracy_score\n",
    "\n",
    "pred_simples = rede_simples.predict(x_test)\n",
    "\n",
    "accuracy_score(y_test.argmax(1), pred_simples.argmax(1))"
   ]
  },
  {
   "cell_type": "code",
   "execution_count": 42,
   "id": "155aaff7",
   "metadata": {},
   "outputs": [
    {
     "data": {
      "image/png": "[encoded data removed]",
      "text/plain": [
       "<Figure size 432x288 with 1 Axes>"
      ]
     },
     "metadata": {
      "needs_background": "light"
     },
     "output_type": "display_data"
    }
   ],
   "source": [
    "loss = historico.history['loss']\n",
    "val_loss = historico.history['val_loss']\n",
    "epochs = range(len(loss))\n",
    "plt.figure()\n",
    "plt.plot(epochs, loss, 'bo', label = 'Training loss')\n",
    "plt.plot(epochs, val_loss, 'b', label = 'Validation loss')\n",
    "plt.title('Training and validation loss')\n",
    "plt.legend()\n",
    "plt.show()"
   ]
  },
  {
   "cell_type": "markdown",
   "id": "9f521b1f",
   "metadata": {},
   "source": [
    "# Prática 3 - Boston House Pricing\n",
    "\n",
    "Por fim, vamos utilizar uma rede neural para regressão e dados estruturados.\n",
    "\n",
    "* Para dados estruturados, o pensamento é bem semelhante em termos de arquitetura. A única diferença é que agora nosso total de features (input_shape) será **igual a quantidade de colunas do dataset**\n",
    "* Para regressão, a diferença está na **função de perdas!** Neste caso utilizamos as [mesmas funções de predição](https://keras.io/api/losses/regression_losses/) vistas nos módulos anteriores (mse e rmse por exemplo)\n",
    "\n",
    "OBS. para este problema iremos apenas normalizar nossas features. Entretanto, o preprocessamento de dados estruturados para rede neural é **exatamente o mesmo** utilizado para os demais algoritmos de machine learning neste contexto. \n",
    "\n",
    "![Title](imgs/boston_prices.png) "
   ]
  },
  {
   "cell_type": "code",
   "execution_count": 49,
   "id": "79d5cb13",
   "metadata": {},
   "outputs": [],
   "source": [
    "(x_train, y_train), (x_test, y_test) = keras.datasets.boston_housing.load_data()\n"
   ]
  },
  {
   "cell_type": "code",
   "execution_count": 50,
   "id": "61c438ce",
   "metadata": {},
   "outputs": [],
   "source": [
    "mean = x_train.mean(axis=0)\n",
    "x_train -= mean\n",
    "std = x_train.std(axis=0)\n",
    "x_train /= std\n",
    "\n",
    "x_test -= mean\n",
    "x_test /= std"
   ]
  },
  {
   "cell_type": "code",
   "execution_count": 51,
   "id": "a7194f8e",
   "metadata": {},
   "outputs": [
    {
     "data": {
      "text/plain": [
       "((323, 13), (81, 13), (102, 13), (323,), (81,), (102,))"
      ]
     },
     "execution_count": 51,
     "metadata": {},
     "output_type": "execute_result"
    }
   ],
   "source": [
    "from sklearn.model_selection import train_test_split\n",
    "\n",
    "x_treino, x_val, y_treino, y_val = train_test_split(x_train, y_train, test_size = 0.2, random_state = 13)\n",
    "\n",
    "x_treino.shape, x_val.shape, x_test.shape, y_treino.shape, y_val.shape, y_test.shape, "
   ]
  },
  {
   "cell_type": "code",
   "execution_count": 53,
   "id": "125d5d06",
   "metadata": {},
   "outputs": [],
   "source": [
    "model = Sequential()\n",
    "model.add(Dense(64, activation='relu', input_shape=(x_treino.shape[1],)))\n",
    "model.add(Dense(64, activation='relu'))\n",
    "model.add(Dense(1))\n",
    "\n",
    "model.compile(optimizer='rmsprop',\n",
    "              loss='mse',\n",
    "              metrics=['mae'])"
   ]
  },
  {
   "cell_type": "code",
   "execution_count": 54,
   "id": "81d5d438",
   "metadata": {
    "collapsed": true,
    "jupyter": {
     "outputs_hidden": true
    },
    "tags": []
   },
   "outputs": [
    {
     "name": "stdout",
     "output_type": "stream",
     "text": [
      "Epoch 1/150\n",
      "6/6 [==============================] - 0s 11ms/step - loss: 551.0490 - mae: 21.7455 - val_loss: 479.8676 - val_mae: 19.6801\n",
      "Epoch 2/150\n",
      "6/6 [==============================] - 0s 2ms/step - loss: 501.7131 - mae: 20.5978 - val_loss: 436.6777 - val_mae: 18.6220\n",
      "Epoch 3/150\n",
      "6/6 [==============================] - 0s 2ms/step - loss: 453.4032 - mae: 19.4895 - val_loss: 390.6758 - val_mae: 17.4044\n",
      "Epoch 4/150\n",
      "6/6 [==============================] - 0s 2ms/step - loss: 401.9372 - mae: 18.2448 - val_loss: 345.5834 - val_mae: 16.1933\n",
      "Epoch 5/150\n",
      "6/6 [==============================] - 0s 2ms/step - loss: 350.8582 - mae: 16.9238 - val_loss: 300.2538 - val_mae: 14.8877\n",
      "Epoch 6/150\n",
      "6/6 [==============================] - 0s 2ms/step - loss: 300.0972 - mae: 15.4797 - val_loss: 251.3937 - val_mae: 13.4832\n",
      "Epoch 7/150\n",
      "6/6 [==============================] - 0s 2ms/step - loss: 247.2059 - mae: 13.9096 - val_loss: 211.6337 - val_mae: 12.1359\n",
      "Epoch 8/150\n",
      "6/6 [==============================] - 0s 2ms/step - loss: 202.9426 - mae: 12.3414 - val_loss: 175.4646 - val_mae: 10.7682\n",
      "Epoch 9/150\n",
      "6/6 [==============================] - 0s 2ms/step - loss: 162.5489 - mae: 10.7408 - val_loss: 137.5645 - val_mae: 9.0857\n",
      "Epoch 10/150\n",
      "6/6 [==============================] - 0s 2ms/step - loss: 122.9196 - mae: 8.9674 - val_loss: 111.1188 - val_mae: 7.8821\n",
      "Epoch 11/150\n",
      "6/6 [==============================] - 0s 2ms/step - loss: 94.9495 - mae: 7.5017 - val_loss: 95.4359 - val_mae: 7.1740\n",
      "Epoch 12/150\n",
      "6/6 [==============================] - 0s 2ms/step - loss: 77.6151 - mae: 6.6493 - val_loss: 81.7474 - val_mae: 6.5011\n",
      "Epoch 13/150\n",
      "6/6 [==============================] - 0s 2ms/step - loss: 62.9240 - mae: 5.8593 - val_loss: 72.8952 - val_mae: 6.1325\n",
      "Epoch 14/150\n",
      "6/6 [==============================] - 0s 2ms/step - loss: 52.4569 - mae: 5.2683 - val_loss: 66.5831 - val_mae: 5.8899\n",
      "Epoch 15/150\n",
      "6/6 [==============================] - 0s 2ms/step - loss: 45.5453 - mae: 4.9132 - val_loss: 60.2626 - val_mae: 5.7396\n",
      "Epoch 16/150\n",
      "6/6 [==============================] - 0s 2ms/step - loss: 38.8517 - mae: 4.5342 - val_loss: 55.3252 - val_mae: 5.4480\n",
      "Epoch 17/150\n",
      "6/6 [==============================] - 0s 2ms/step - loss: 34.5339 - mae: 4.2504 - val_loss: 50.3387 - val_mae: 5.1599\n",
      "Epoch 18/150\n",
      "6/6 [==============================] - 0s 2ms/step - loss: 31.7621 - mae: 4.0292 - val_loss: 47.9618 - val_mae: 5.0157\n",
      "Epoch 19/150\n",
      "6/6 [==============================] - 0s 2ms/step - loss: 29.4029 - mae: 3.8605 - val_loss: 45.9195 - val_mae: 4.9796\n",
      "Epoch 20/150\n",
      "6/6 [==============================] - 0s 2ms/step - loss: 27.8913 - mae: 3.7536 - val_loss: 45.3050 - val_mae: 4.7964\n",
      "Epoch 21/150\n",
      "6/6 [==============================] - 0s 2ms/step - loss: 27.2290 - mae: 3.6871 - val_loss: 42.2460 - val_mae: 4.6728\n",
      "Epoch 22/150\n",
      "6/6 [==============================] - 0s 2ms/step - loss: 25.4949 - mae: 3.5117 - val_loss: 39.5516 - val_mae: 4.5423\n",
      "Epoch 23/150\n",
      "6/6 [==============================] - 0s 2ms/step - loss: 24.1966 - mae: 3.4639 - val_loss: 37.8694 - val_mae: 4.4037\n",
      "Epoch 24/150\n",
      "6/6 [==============================] - 0s 2ms/step - loss: 23.2776 - mae: 3.3955 - val_loss: 36.5026 - val_mae: 4.3320\n",
      "Epoch 25/150\n",
      "6/6 [==============================] - 0s 2ms/step - loss: 22.4843 - mae: 3.3406 - val_loss: 35.2017 - val_mae: 4.2545\n",
      "Epoch 26/150\n",
      "6/6 [==============================] - 0s 2ms/step - loss: 21.6304 - mae: 3.2794 - val_loss: 36.0638 - val_mae: 4.2709\n",
      "Epoch 27/150\n",
      "6/6 [==============================] - 0s 3ms/step - loss: 21.3622 - mae: 3.2205 - val_loss: 33.7140 - val_mae: 4.2271\n",
      "Epoch 28/150\n",
      "6/6 [==============================] - 0s 2ms/step - loss: 20.5118 - mae: 3.2248 - val_loss: 32.6363 - val_mae: 4.0208\n",
      "Epoch 29/150\n",
      "6/6 [==============================] - 0s 2ms/step - loss: 19.7124 - mae: 3.1003 - val_loss: 30.9071 - val_mae: 4.0535\n",
      "Epoch 30/150\n",
      "6/6 [==============================] - 0s 2ms/step - loss: 19.6136 - mae: 3.1442 - val_loss: 29.0304 - val_mae: 3.8078\n",
      "Epoch 31/150\n",
      "6/6 [==============================] - 0s 2ms/step - loss: 18.5741 - mae: 3.0140 - val_loss: 28.0975 - val_mae: 3.6882\n",
      "Epoch 32/150\n",
      "6/6 [==============================] - 0s 2ms/step - loss: 18.0708 - mae: 2.9414 - val_loss: 28.9347 - val_mae: 3.7865\n",
      "Epoch 33/150\n",
      "6/6 [==============================] - 0s 2ms/step - loss: 17.7427 - mae: 2.9285 - val_loss: 28.0788 - val_mae: 3.7191\n",
      "Epoch 34/150\n",
      "6/6 [==============================] - 0s 2ms/step - loss: 17.1908 - mae: 2.8607 - val_loss: 26.0310 - val_mae: 3.6920\n",
      "Epoch 35/150\n",
      "6/6 [==============================] - 0s 2ms/step - loss: 16.8997 - mae: 2.9276 - val_loss: 24.8384 - val_mae: 3.4438\n",
      "Epoch 36/150\n",
      "6/6 [==============================] - 0s 2ms/step - loss: 16.3646 - mae: 2.7924 - val_loss: 23.8240 - val_mae: 3.3774\n",
      "Epoch 37/150\n",
      "6/6 [==============================] - 0s 2ms/step - loss: 15.9500 - mae: 2.7709 - val_loss: 24.3030 - val_mae: 3.3272\n",
      "Epoch 38/150\n",
      "6/6 [==============================] - 0s 2ms/step - loss: 15.7412 - mae: 2.7292 - val_loss: 22.8732 - val_mae: 3.2600\n",
      "Epoch 39/150\n",
      "6/6 [==============================] - 0s 2ms/step - loss: 15.3501 - mae: 2.7245 - val_loss: 23.2376 - val_mae: 3.2232\n",
      "Epoch 40/150\n",
      "6/6 [==============================] - 0s 2ms/step - loss: 15.2268 - mae: 2.6872 - val_loss: 22.8775 - val_mae: 3.3387\n",
      "Epoch 41/150\n",
      "6/6 [==============================] - 0s 2ms/step - loss: 14.7596 - mae: 2.6885 - val_loss: 21.8887 - val_mae: 3.2639\n",
      "Epoch 42/150\n",
      "6/6 [==============================] - 0s 2ms/step - loss: 14.5244 - mae: 2.6719 - val_loss: 24.1102 - val_mae: 3.4208\n",
      "Epoch 43/150\n",
      "6/6 [==============================] - 0s 2ms/step - loss: 14.8632 - mae: 2.6690 - val_loss: 23.0096 - val_mae: 3.4144\n",
      "Epoch 44/150\n",
      "6/6 [==============================] - 0s 2ms/step - loss: 14.1899 - mae: 2.6020 - val_loss: 20.7140 - val_mae: 3.1049\n",
      "Epoch 45/150\n",
      "6/6 [==============================] - 0s 2ms/step - loss: 13.7363 - mae: 2.5314 - val_loss: 20.0958 - val_mae: 3.0796\n",
      "Epoch 46/150\n",
      "6/6 [==============================] - 0s 2ms/step - loss: 13.4020 - mae: 2.5134 - val_loss: 20.3964 - val_mae: 3.3016\n",
      "Epoch 47/150\n",
      "6/6 [==============================] - 0s 2ms/step - loss: 13.3750 - mae: 2.5694 - val_loss: 19.5626 - val_mae: 3.2066\n",
      "Epoch 48/150\n",
      "6/6 [==============================] - 0s 2ms/step - loss: 13.1179 - mae: 2.5337 - val_loss: 18.6632 - val_mae: 3.1283\n",
      "Epoch 49/150\n",
      "6/6 [==============================] - 0s 2ms/step - loss: 12.8608 - mae: 2.4928 - val_loss: 18.4167 - val_mae: 3.0646\n",
      "Epoch 50/150\n",
      "6/6 [==============================] - 0s 2ms/step - loss: 12.9177 - mae: 2.5156 - val_loss: 18.6753 - val_mae: 2.9560\n",
      "Epoch 51/150\n",
      "6/6 [==============================] - 0s 2ms/step - loss: 12.4693 - mae: 2.4338 - val_loss: 17.7719 - val_mae: 2.9686\n",
      "Epoch 52/150\n",
      "6/6 [==============================] - 0s 2ms/step - loss: 12.1982 - mae: 2.4266 - val_loss: 17.7201 - val_mae: 2.9595\n",
      "Epoch 53/150\n",
      "6/6 [==============================] - 0s 2ms/step - loss: 12.1428 - mae: 2.4357 - val_loss: 17.8083 - val_mae: 2.9247\n",
      "Epoch 54/150\n",
      "6/6 [==============================] - 0s 2ms/step - loss: 11.8927 - mae: 2.3909 - val_loss: 16.5481 - val_mae: 2.7239\n",
      "Epoch 55/150\n",
      "6/6 [==============================] - 0s 2ms/step - loss: 11.8603 - mae: 2.3777 - val_loss: 16.3879 - val_mae: 2.6565\n",
      "Epoch 56/150\n",
      "6/6 [==============================] - 0s 2ms/step - loss: 11.9990 - mae: 2.3636 - val_loss: 16.0130 - val_mae: 2.6797\n",
      "Epoch 57/150\n",
      "6/6 [==============================] - 0s 2ms/step - loss: 11.5679 - mae: 2.3495 - val_loss: 15.6482 - val_mae: 2.7174\n",
      "Epoch 58/150\n",
      "6/6 [==============================] - 0s 2ms/step - loss: 11.2921 - mae: 2.3141 - val_loss: 15.9192 - val_mae: 2.6937\n",
      "Epoch 59/150\n",
      "6/6 [==============================] - 0s 2ms/step - loss: 11.2260 - mae: 2.2855 - val_loss: 15.7271 - val_mae: 2.6815\n",
      "Epoch 60/150\n",
      "6/6 [==============================] - 0s 2ms/step - loss: 11.1694 - mae: 2.2878 - val_loss: 15.5386 - val_mae: 2.6484\n",
      "Epoch 61/150\n",
      "6/6 [==============================] - 0s 2ms/step - loss: 11.0178 - mae: 2.2922 - val_loss: 17.7588 - val_mae: 2.9736\n",
      "Epoch 62/150\n",
      "6/6 [==============================] - 0s 2ms/step - loss: 11.6751 - mae: 2.3647 - val_loss: 15.0268 - val_mae: 2.6926\n",
      "Epoch 63/150\n",
      "6/6 [==============================] - 0s 2ms/step - loss: 10.7907 - mae: 2.2454 - val_loss: 14.7549 - val_mae: 2.7806\n",
      "Epoch 64/150\n",
      "6/6 [==============================] - 0s 2ms/step - loss: 10.8465 - mae: 2.2840 - val_loss: 15.5719 - val_mae: 2.7287\n",
      "Epoch 65/150\n",
      "6/6 [==============================] - 0s 2ms/step - loss: 10.7071 - mae: 2.2370 - val_loss: 14.7018 - val_mae: 2.6280\n",
      "Epoch 66/150\n",
      "6/6 [==============================] - 0s 2ms/step - loss: 10.7561 - mae: 2.2804 - val_loss: 14.7068 - val_mae: 2.6528\n",
      "Epoch 67/150\n",
      "6/6 [==============================] - 0s 2ms/step - loss: 10.8177 - mae: 2.2868 - val_loss: 14.7752 - val_mae: 2.6356\n",
      "Epoch 68/150\n",
      "6/6 [==============================] - 0s 2ms/step - loss: 10.5571 - mae: 2.2666 - val_loss: 14.2712 - val_mae: 2.7179\n",
      "Epoch 69/150\n",
      "6/6 [==============================] - 0s 2ms/step - loss: 10.5950 - mae: 2.2916 - val_loss: 13.8538 - val_mae: 2.6250\n",
      "Epoch 70/150\n",
      "6/6 [==============================] - 0s 2ms/step - loss: 10.1233 - mae: 2.2265 - val_loss: 14.5790 - val_mae: 2.5459\n",
      "Epoch 71/150\n",
      "6/6 [==============================] - 0s 2ms/step - loss: 10.3086 - mae: 2.2118 - val_loss: 14.1222 - val_mae: 2.4982\n",
      "Epoch 72/150\n",
      "6/6 [==============================] - 0s 2ms/step - loss: 10.2586 - mae: 2.2123 - val_loss: 13.0764 - val_mae: 2.3962\n",
      "Epoch 73/150\n",
      "6/6 [==============================] - 0s 2ms/step - loss: 10.1566 - mae: 2.2068 - val_loss: 12.9439 - val_mae: 2.4696\n",
      "Epoch 74/150\n",
      "6/6 [==============================] - 0s 2ms/step - loss: 9.9204 - mae: 2.1967 - val_loss: 12.9174 - val_mae: 2.5481\n",
      "Epoch 75/150\n",
      "6/6 [==============================] - 0s 2ms/step - loss: 10.0013 - mae: 2.2124 - val_loss: 13.8753 - val_mae: 2.6336\n",
      "Epoch 76/150\n",
      "6/6 [==============================] - 0s 2ms/step - loss: 10.0808 - mae: 2.2037 - val_loss: 12.9288 - val_mae: 2.3584\n",
      "Epoch 77/150\n",
      "6/6 [==============================] - 0s 2ms/step - loss: 9.8824 - mae: 2.1759 - val_loss: 14.7097 - val_mae: 2.6908\n",
      "Epoch 78/150\n",
      "6/6 [==============================] - 0s 2ms/step - loss: 10.0715 - mae: 2.2011 - val_loss: 13.0558 - val_mae: 2.4125\n",
      "Epoch 79/150\n",
      "6/6 [==============================] - 0s 2ms/step - loss: 9.7642 - mae: 2.1604 - val_loss: 13.6517 - val_mae: 2.5625\n",
      "Epoch 80/150\n",
      "6/6 [==============================] - 0s 2ms/step - loss: 9.7343 - mae: 2.1425 - val_loss: 13.5037 - val_mae: 2.5002\n",
      "Epoch 81/150\n",
      "6/6 [==============================] - 0s 2ms/step - loss: 9.7332 - mae: 2.1614 - val_loss: 14.4080 - val_mae: 2.6366\n",
      "Epoch 82/150\n",
      "6/6 [==============================] - 0s 2ms/step - loss: 9.8683 - mae: 2.1481 - val_loss: 14.0185 - val_mae: 2.5274\n",
      "Epoch 83/150\n",
      "6/6 [==============================] - 0s 2ms/step - loss: 9.6073 - mae: 2.1379 - val_loss: 13.0959 - val_mae: 2.6805\n",
      "Epoch 84/150\n",
      "6/6 [==============================] - 0s 2ms/step - loss: 9.6564 - mae: 2.1871 - val_loss: 12.5018 - val_mae: 2.5469\n",
      "Epoch 85/150\n",
      "6/6 [==============================] - 0s 2ms/step - loss: 9.4263 - mae: 2.1528 - val_loss: 12.7825 - val_mae: 2.5300\n",
      "Epoch 86/150\n",
      "6/6 [==============================] - 0s 2ms/step - loss: 9.2662 - mae: 2.1138 - val_loss: 12.3833 - val_mae: 2.4128\n",
      "Epoch 87/150\n",
      "6/6 [==============================] - 0s 2ms/step - loss: 9.2499 - mae: 2.1097 - val_loss: 13.5815 - val_mae: 2.5902\n",
      "Epoch 88/150\n",
      "6/6 [==============================] - 0s 2ms/step - loss: 9.3859 - mae: 2.1090 - val_loss: 12.8054 - val_mae: 2.4647\n",
      "Epoch 89/150\n",
      "6/6 [==============================] - 0s 2ms/step - loss: 9.8577 - mae: 2.1995 - val_loss: 12.3903 - val_mae: 2.3942\n",
      "Epoch 90/150\n",
      "6/6 [==============================] - 0s 2ms/step - loss: 9.3604 - mae: 2.1165 - val_loss: 12.3479 - val_mae: 2.4114\n",
      "Epoch 91/150\n",
      "6/6 [==============================] - 0s 2ms/step - loss: 9.1403 - mae: 2.0789 - val_loss: 12.9237 - val_mae: 2.4963\n",
      "Epoch 92/150\n",
      "6/6 [==============================] - 0s 2ms/step - loss: 9.1569 - mae: 2.0657 - val_loss: 12.2805 - val_mae: 2.4097\n",
      "Epoch 93/150\n",
      "6/6 [==============================] - 0s 2ms/step - loss: 9.1709 - mae: 2.0720 - val_loss: 12.3772 - val_mae: 2.3912\n",
      "Epoch 94/150\n",
      "6/6 [==============================] - 0s 2ms/step - loss: 9.2618 - mae: 2.0924 - val_loss: 12.8744 - val_mae: 2.5425\n",
      "Epoch 95/150\n",
      "6/6 [==============================] - 0s 2ms/step - loss: 9.8402 - mae: 2.2371 - val_loss: 11.8237 - val_mae: 2.4150\n",
      "Epoch 96/150\n",
      "6/6 [==============================] - 0s 2ms/step - loss: 9.0554 - mae: 2.1208 - val_loss: 12.2689 - val_mae: 2.4694\n",
      "Epoch 97/150\n",
      "6/6 [==============================] - 0s 2ms/step - loss: 8.9241 - mae: 2.0380 - val_loss: 12.2841 - val_mae: 2.5186\n",
      "Epoch 98/150\n",
      "6/6 [==============================] - 0s 2ms/step - loss: 8.9279 - mae: 2.0707 - val_loss: 11.5571 - val_mae: 2.3789\n",
      "Epoch 99/150\n",
      "6/6 [==============================] - 0s 2ms/step - loss: 8.9879 - mae: 2.0879 - val_loss: 11.7154 - val_mae: 2.3887\n",
      "Epoch 100/150\n",
      "6/6 [==============================] - 0s 2ms/step - loss: 9.1663 - mae: 2.1251 - val_loss: 12.0544 - val_mae: 2.3254\n",
      "Epoch 101/150\n",
      "6/6 [==============================] - 0s 2ms/step - loss: 8.9422 - mae: 2.0508 - val_loss: 11.4896 - val_mae: 2.3185\n",
      "Epoch 102/150\n",
      "6/6 [==============================] - 0s 2ms/step - loss: 8.7485 - mae: 2.0439 - val_loss: 11.6984 - val_mae: 2.3229\n",
      "Epoch 103/150\n",
      "6/6 [==============================] - 0s 2ms/step - loss: 8.9608 - mae: 2.0583 - val_loss: 11.0736 - val_mae: 2.3158\n",
      "Epoch 104/150\n",
      "6/6 [==============================] - 0s 2ms/step - loss: 8.6833 - mae: 2.0441 - val_loss: 10.8448 - val_mae: 2.3173\n",
      "Epoch 105/150\n",
      "6/6 [==============================] - 0s 2ms/step - loss: 8.8991 - mae: 2.0844 - val_loss: 11.8460 - val_mae: 2.5240\n",
      "Epoch 106/150\n",
      "6/6 [==============================] - 0s 2ms/step - loss: 8.6967 - mae: 2.0788 - val_loss: 12.4992 - val_mae: 2.6009\n",
      "Epoch 107/150\n",
      "6/6 [==============================] - 0s 2ms/step - loss: 8.6384 - mae: 2.0618 - val_loss: 10.9264 - val_mae: 2.3207\n",
      "Epoch 108/150\n",
      "6/6 [==============================] - 0s 2ms/step - loss: 8.9807 - mae: 2.0926 - val_loss: 10.6899 - val_mae: 2.2521\n",
      "Epoch 109/150\n",
      "6/6 [==============================] - 0s 2ms/step - loss: 8.5400 - mae: 2.0193 - val_loss: 10.6322 - val_mae: 2.2798\n",
      "Epoch 110/150\n",
      "6/6 [==============================] - 0s 2ms/step - loss: 8.4825 - mae: 2.0392 - val_loss: 10.6762 - val_mae: 2.2899\n",
      "Epoch 111/150\n",
      "6/6 [==============================] - 0s 2ms/step - loss: 8.4807 - mae: 2.0275 - val_loss: 10.6885 - val_mae: 2.3167\n",
      "Epoch 112/150\n",
      "6/6 [==============================] - 0s 2ms/step - loss: 8.5421 - mae: 2.0226 - val_loss: 12.1965 - val_mae: 2.4005\n",
      "Epoch 113/150\n",
      "6/6 [==============================] - 0s 2ms/step - loss: 8.5735 - mae: 1.9809 - val_loss: 11.6718 - val_mae: 2.4094\n",
      "Epoch 114/150\n",
      "6/6 [==============================] - 0s 2ms/step - loss: 8.5361 - mae: 2.0051 - val_loss: 11.1145 - val_mae: 2.3295\n",
      "Epoch 115/150\n",
      "6/6 [==============================] - 0s 2ms/step - loss: 8.7067 - mae: 2.0666 - val_loss: 11.2173 - val_mae: 2.3379\n",
      "Epoch 116/150\n",
      "6/6 [==============================] - 0s 2ms/step - loss: 8.3018 - mae: 1.9757 - val_loss: 11.9217 - val_mae: 2.4743\n",
      "Epoch 117/150\n",
      "6/6 [==============================] - 0s 2ms/step - loss: 8.4173 - mae: 1.9875 - val_loss: 10.6034 - val_mae: 2.3052\n",
      "Epoch 118/150\n",
      "6/6 [==============================] - 0s 2ms/step - loss: 8.2740 - mae: 2.0012 - val_loss: 11.2417 - val_mae: 2.4863\n",
      "Epoch 119/150\n",
      "6/6 [==============================] - 0s 2ms/step - loss: 8.6493 - mae: 2.1210 - val_loss: 11.0412 - val_mae: 2.4291\n",
      "Epoch 120/150\n",
      "6/6 [==============================] - 0s 2ms/step - loss: 8.2986 - mae: 2.0312 - val_loss: 10.9722 - val_mae: 2.3740\n",
      "Epoch 121/150\n",
      "6/6 [==============================] - 0s 2ms/step - loss: 8.1224 - mae: 1.9813 - val_loss: 10.5719 - val_mae: 2.3530\n",
      "Epoch 122/150\n",
      "6/6 [==============================] - 0s 2ms/step - loss: 8.1420 - mae: 2.0149 - val_loss: 10.8642 - val_mae: 2.3141\n",
      "Epoch 123/150\n",
      "6/6 [==============================] - 0s 2ms/step - loss: 8.1783 - mae: 1.9810 - val_loss: 10.2716 - val_mae: 2.2425\n",
      "Epoch 124/150\n",
      "6/6 [==============================] - 0s 2ms/step - loss: 8.1540 - mae: 1.9885 - val_loss: 12.7567 - val_mae: 2.6370\n",
      "Epoch 125/150\n",
      "6/6 [==============================] - 0s 2ms/step - loss: 8.4248 - mae: 1.9998 - val_loss: 10.7326 - val_mae: 2.3421\n",
      "Epoch 126/150\n",
      "6/6 [==============================] - 0s 2ms/step - loss: 8.1823 - mae: 2.0234 - val_loss: 10.3453 - val_mae: 2.2606\n",
      "Epoch 127/150\n",
      "6/6 [==============================] - 0s 2ms/step - loss: 8.1924 - mae: 1.9857 - val_loss: 11.0795 - val_mae: 2.4063\n",
      "Epoch 128/150\n",
      "6/6 [==============================] - 0s 2ms/step - loss: 7.9981 - mae: 1.9369 - val_loss: 10.4085 - val_mae: 2.3257\n",
      "Epoch 129/150\n",
      "6/6 [==============================] - 0s 2ms/step - loss: 7.9687 - mae: 1.9898 - val_loss: 10.3846 - val_mae: 2.3434\n",
      "Epoch 130/150\n",
      "6/6 [==============================] - 0s 2ms/step - loss: 8.1979 - mae: 1.9802 - val_loss: 10.7798 - val_mae: 2.4462\n",
      "Epoch 131/150\n",
      "6/6 [==============================] - 0s 2ms/step - loss: 8.5664 - mae: 2.1105 - val_loss: 10.6570 - val_mae: 2.4000\n",
      "Epoch 132/150\n",
      "6/6 [==============================] - 0s 2ms/step - loss: 8.0728 - mae: 2.0048 - val_loss: 10.4981 - val_mae: 2.3612\n",
      "Epoch 133/150\n",
      "6/6 [==============================] - 0s 2ms/step - loss: 8.0677 - mae: 2.0231 - val_loss: 10.0665 - val_mae: 2.2742\n",
      "Epoch 134/150\n",
      "6/6 [==============================] - 0s 2ms/step - loss: 7.9359 - mae: 1.9705 - val_loss: 10.8175 - val_mae: 2.3694\n",
      "Epoch 135/150\n",
      "6/6 [==============================] - 0s 2ms/step - loss: 7.8804 - mae: 1.9510 - val_loss: 10.1040 - val_mae: 2.2487\n",
      "Epoch 136/150\n",
      "6/6 [==============================] - 0s 2ms/step - loss: 7.7203 - mae: 1.9213 - val_loss: 9.9897 - val_mae: 2.2814\n",
      "Epoch 137/150\n",
      "6/6 [==============================] - 0s 2ms/step - loss: 7.7685 - mae: 1.9454 - val_loss: 11.0090 - val_mae: 2.4338\n",
      "Epoch 138/150\n",
      "6/6 [==============================] - 0s 2ms/step - loss: 7.9504 - mae: 1.9562 - val_loss: 9.7139 - val_mae: 2.1989\n",
      "Epoch 139/150\n",
      "6/6 [==============================] - 0s 2ms/step - loss: 7.7916 - mae: 1.9422 - val_loss: 13.0168 - val_mae: 2.7435\n",
      "Epoch 140/150\n",
      "6/6 [==============================] - 0s 2ms/step - loss: 8.2949 - mae: 1.9905 - val_loss: 10.6012 - val_mae: 2.3480\n",
      "Epoch 141/150\n",
      "6/6 [==============================] - 0s 2ms/step - loss: 7.6390 - mae: 1.9158 - val_loss: 10.6850 - val_mae: 2.4409\n",
      "Epoch 142/150\n",
      "6/6 [==============================] - 0s 2ms/step - loss: 7.8687 - mae: 1.9832 - val_loss: 11.2369 - val_mae: 2.5211\n",
      "Epoch 143/150\n",
      "6/6 [==============================] - 0s 2ms/step - loss: 7.6977 - mae: 1.9420 - val_loss: 10.1942 - val_mae: 2.3100\n",
      "Epoch 144/150\n",
      "6/6 [==============================] - 0s 2ms/step - loss: 7.7694 - mae: 1.9637 - val_loss: 10.0412 - val_mae: 2.2858\n",
      "Epoch 145/150\n",
      "6/6 [==============================] - 0s 2ms/step - loss: 7.5199 - mae: 1.9131 - val_loss: 11.7668 - val_mae: 2.4152\n",
      "Epoch 146/150\n",
      "6/6 [==============================] - 0s 2ms/step - loss: 7.9280 - mae: 1.9163 - val_loss: 10.5563 - val_mae: 2.2841\n",
      "Epoch 147/150\n",
      "6/6 [==============================] - 0s 2ms/step - loss: 7.6499 - mae: 1.8838 - val_loss: 9.6641 - val_mae: 2.2333\n",
      "Epoch 148/150\n",
      "6/6 [==============================] - 0s 2ms/step - loss: 7.5017 - mae: 1.8935 - val_loss: 9.9549 - val_mae: 2.3329\n",
      "Epoch 149/150\n",
      "6/6 [==============================] - 0s 2ms/step - loss: 7.6058 - mae: 1.9080 - val_loss: 11.2249 - val_mae: 2.5151\n",
      "Epoch 150/150\n",
      "6/6 [==============================] - 0s 2ms/step - loss: 8.0857 - mae: 2.0187 - val_loss: 11.6626 - val_mae: 2.5919\n"
     ]
    }
   ],
   "source": [
    "es = EarlyStopping(monitor = 'val_loss', min_delta = 0.001, patience = 10, verbose = 1, mode = 'auto')\n",
    "\n",
    "historico = model.fit(x_treino, \n",
    "                             y_treino, \n",
    "                             epochs = 150, \n",
    "                             batch_size=64,\n",
    "                             verbose = 1,\n",
    "                             validation_data = (x_val, y_val),\n",
    "                             callbacks = [es])"
   ]
  },
  {
   "cell_type": "code",
   "execution_count": 55,
   "id": "24790ed7",
   "metadata": {},
   "outputs": [],
   "source": [
    "pred_simples = model.predict(x_test)"
   ]
  },
  {
   "cell_type": "code",
   "execution_count": 56,
   "id": "c2e70604",
   "metadata": {},
   "outputs": [
    {
     "data": {
      "text/plain": [
       "3.33838030871223"
      ]
     },
     "execution_count": 56,
     "metadata": {},
     "output_type": "execute_result"
    }
   ],
   "source": [
    "from sklearn.metrics import mean_absolute_error\n",
    "\n",
    "mean_absolute_error(y_test, pred_simples)"
   ]
  },
  {
   "cell_type": "code",
   "execution_count": null,
   "id": "f3abbfd3",
   "metadata": {},
   "outputs": [],
   "source": []
  }
 ],
 "metadata": {
  "kernelspec": {
   "display_name": "Python 3",
   "language": "python",
   "name": "python3"
  },
  "language_info": {
   "codemirror_mode": {
    "name": "ipython",
    "version": 3
   },
   "file_extension": ".py",
   "mimetype": "text/x-python",
   "name": "python",
   "nbconvert_exporter": "python",
   "pygments_lexer": "ipython3",
   "version": "3.8.8"
  },
  "vscode": {
   "interpreter": {
    "hash": "c6e4e9f98eb68ad3b7c296f83d20e6de614cb42e90992a65aa266555a3137d0d"
   }
  }
 },
 "nbformat": 4,
 "nbformat_minor": 5
}
