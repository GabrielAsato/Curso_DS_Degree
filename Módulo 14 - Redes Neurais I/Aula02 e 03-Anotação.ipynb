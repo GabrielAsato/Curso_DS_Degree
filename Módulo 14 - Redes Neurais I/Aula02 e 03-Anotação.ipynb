{
 "cells": [
  {
   "cell_type": "markdown",
   "id": "7948ec5f-a0a6-4542-88d5-a2c4f0821d7a",
   "metadata": {},
   "source": [
    "### Redes Neurais Tradicionais"
   ]
  },
  {
   "cell_type": "markdown",
   "id": "b6c2ff3b-c7ac-4d00-9374-c05774d0d641",
   "metadata": {},
   "source": [
    "import tensorflow as tf\n",
    "tf.__version__"
   ]
  },
  {
   "cell_type": "code",
   "execution_count": 1,
   "id": "8d00b92b-fefb-4df6-b520-d7e9608ad5bf",
   "metadata": {},
   "outputs": [],
   "source": [
    "from tensorflow import keras\n",
    "from tensorflow.keras import datasets\n",
    "import matplotlib.pyplot as plt\n",
    "import numpy as np\n",
    "from sklearn.preprocessing import OneHotEncoder"
   ]
  },
  {
   "cell_type": "code",
   "execution_count": 2,
   "id": "1ea43b98-59ab-4c50-91a9-6fc2cd08dd94",
   "metadata": {},
   "outputs": [],
   "source": [
    "(x_train, y_train), (x_test, y_test) = datasets.mnist.load_data()"
   ]
  },
  {
   "cell_type": "code",
   "execution_count": 3,
   "id": "208b283d-168f-4ac2-82fd-d7f74330477c",
   "metadata": {},
   "outputs": [
    {
     "name": "stdout",
     "output_type": "stream",
     "text": [
      "(60000, 28, 28)\n",
      "(10000, 28, 28)\n",
      "(10000,)\n"
     ]
    }
   ],
   "source": [
    "print(x_train.shape)\n",
    "print(x_test.shape)\n",
    "print(y_test.shape)"
   ]
  },
  {
   "cell_type": "code",
   "execution_count": 38,
   "id": "2c398c5a-cdc0-4464-a4cf-82361bd4ffb0",
   "metadata": {},
   "outputs": [
    {
     "data": {
      "image/png": "[encoded data removed]",
      "text/plain": [
       "<Figure size 432x288 with 1 Axes>"
      ]
     },
     "metadata": {
      "needs_background": "light"
     },
     "output_type": "display_data"
    }
   ],
   "source": [
    "# pick a sample to plot\n",
    "sample = 10\n",
    "image = x_train[sample]\n",
    "\n",
    "# plot the sample\n",
    "#fig = plt.figure\n",
    "plt.imshow(image, cmap='gray')\n",
    "plt.show()"
   ]
  },
  {
   "cell_type": "markdown",
   "id": "5ff49800-e4e8-4e7c-ba0c-8c5015b6b9c1",
   "metadata": {},
   "source": [
    "### Pré-processamento\n",
    "\n",
    "Baseline com normalização"
   ]
  },
  {
   "cell_type": "code",
   "execution_count": 6,
   "id": "4af4de86-38c6-4f39-bab7-92d5acf02f1e",
   "metadata": {},
   "outputs": [],
   "source": [
    "# Ou dividir por 255\n",
    "x_train = x_train/np.max(x_train)\n",
    "x_test = x_test/np.max(x_train)"
   ]
  },
  {
   "cell_type": "markdown",
   "id": "a0a0cf20-4645-40d7-8871-f050e2bba5c8",
   "metadata": {},
   "source": [
    "### One hot encoder para o target"
   ]
  },
  {
   "cell_type": "code",
   "execution_count": 7,
   "id": "2ab7efdd-7df9-41ac-b01e-65d6cf7c27c8",
   "metadata": {},
   "outputs": [],
   "source": [
    "ohe = OneHotEncoder()\n",
    "y_train = ohe.fit_transform(y_train.reshape(-1,1)).toarray()\n",
    "y_test = ohe.transform(y_test.reshape(-1,1)).toarray()"
   ]
  },
  {
   "cell_type": "markdown",
   "id": "e06e54d2-d3d9-4302-8812-d8e01cc3e2fb",
   "metadata": {},
   "source": [
    "### Particionamento dos dados"
   ]
  },
  {
   "cell_type": "code",
   "execution_count": 8,
   "id": "1faa9035-75c5-425b-b15c-d4bb3473c12f",
   "metadata": {},
   "outputs": [
    {
     "data": {
      "text/plain": [
       "((48000, 28, 28),\n",
       " (12000, 28, 28),\n",
       " (10000, 28, 28),\n",
       " (48000, 10),\n",
       " (12000, 10),\n",
       " (10000, 10))"
      ]
     },
     "execution_count": 8,
     "metadata": {},
     "output_type": "execute_result"
    }
   ],
   "source": [
    "from sklearn.model_selection import train_test_split\n",
    "\n",
    "x_treino, x_val, y_treino, y_val = train_test_split(x_train, y_train, test_size = 0.2, random_state = 13)\n",
    "x_treino.shape, x_val.shape, x_test.shape, y_treino.shape, y_val.shape, y_test.shape, "
   ]
  },
  {
   "cell_type": "markdown",
   "id": "8433d601-7f6c-406d-9a6a-dd419ec42dbd",
   "metadata": {},
   "source": [
    "----"
   ]
  },
  {
   "cell_type": "markdown",
   "id": "d6055e95-778a-4945-8d17-b3e0c4a9e24b",
   "metadata": {},
   "source": [
    "### Definição da arquitetura\n",
    "\n",
    "1. Definir quantas camadas são necessárias para o problema\n",
    "2. A quantidade de neurônios em cada camada\n",
    "3. A função de ativação de cada camada\n",
    "4. A função de ativação da saída\n",
    "* softmax (saída não binária)\n",
    "* sigmoid (saída binária)"
   ]
  },
  {
   "cell_type": "code",
   "execution_count": 9,
   "id": "186b6135-1aac-4b1d-bdb3-d3590bbd3e6d",
   "metadata": {},
   "outputs": [],
   "source": [
    "# Tipo do modelo\n",
    "from tensorflow.keras.models import Sequential\n",
    "\n",
    "# Cmadas do modelo\n",
    "from tensorflow.keras.layers import Dense, Activation, Dropout, Flatten, BatchNormalization\n",
    "\n",
    "# Outra regularização, implementada no .fit(callbacks = [es])\n",
    "from tensorflow.keras.callbacks import EarlyStopping"
   ]
  },
  {
   "cell_type": "code",
   "execution_count": 27,
   "id": "7d90dc15-ec00-4944-aae0-30771c0c9b0b",
   "metadata": {},
   "outputs": [],
   "source": [
    "# Enteder cada objeto\n",
    "rede_simples = Sequential()\n",
    "rede_simples.add(Flatten())\n",
    "rede_simples.add(Dense(25, input_dim = 784)) # 25 neurônios, 784 features (28x28)\n",
    "rede_simples.add(Activation('relu'))\n",
    "rede_simples.add(Dense(25)) # não é preciso colocar o número de neurônios\n",
    "rede_simples.add(Activation('relu'))\n",
    "rede_simples.add(Dense(25))\n",
    "rede_simples.add(Activation('relu'))\n",
    "rede_simples.add(Dense(10)) # Camada de saída, 10 classes (output)\n",
    "rede_simples.add(Activation('softmax'))"
   ]
  },
  {
   "cell_type": "markdown",
   "id": "0adc1ce3-fed5-4ebe-ab60-f25130ba486a",
   "metadata": {},
   "source": [
    "### Definição dos otimizadores\n",
    "\n",
    "Define os parâmetros de otimização. Enteder cada otimizador (https://keras.io/api/optimizers/)"
   ]
  },
  {
   "cell_type": "code",
   "execution_count": 28,
   "id": "ca733709-a333-4229-b3d8-f7ba3beb8ef8",
   "metadata": {},
   "outputs": [],
   "source": [
    "rede_simples.compile(loss = 'categorical_crossentropy',\n",
    "                     optimizer = 'Adam',\n",
    "                     metrics = ['accuracy'])"
   ]
  },
  {
   "cell_type": "markdown",
   "id": "f2ac7546-f219-44a5-a697-b2e027d1224f",
   "metadata": {},
   "source": [
    "### Treinamento"
   ]
  },
  {
   "cell_type": "code",
   "execution_count": 17,
   "id": "ea24098a-0d82-4e7f-b4eb-035454b166b7",
   "metadata": {
    "collapsed": true,
    "jupyter": {
     "outputs_hidden": true
    },
    "tags": []
   },
   "outputs": [
    {
     "name": "stdout",
     "output_type": "stream",
     "text": [
      "Epoch 1/30\n",
      "1500/1500 [==============================] - 7s 2ms/step - loss: 0.3944 - accuracy: 0.8830 - val_loss: 0.2205 - val_accuracy: 0.9367\n",
      "Epoch 2/30\n",
      "1500/1500 [==============================] - 3s 2ms/step - loss: 0.1997 - accuracy: 0.9395 - val_loss: 0.1999 - val_accuracy: 0.9401\n",
      "Epoch 3/30\n",
      "1500/1500 [==============================] - 3s 2ms/step - loss: 0.1657 - accuracy: 0.9509 - val_loss: 0.1832 - val_accuracy: 0.9472\n",
      "Epoch 4/30\n",
      "1500/1500 [==============================] - 3s 2ms/step - loss: 0.1465 - accuracy: 0.9561 - val_loss: 0.1684 - val_accuracy: 0.9514\n",
      "Epoch 5/30\n",
      "1500/1500 [==============================] - 3s 2ms/step - loss: 0.1301 - accuracy: 0.9605 - val_loss: 0.1593 - val_accuracy: 0.9545\n",
      "Epoch 6/30\n",
      "1500/1500 [==============================] - 3s 2ms/step - loss: 0.1154 - accuracy: 0.9651 - val_loss: 0.1560 - val_accuracy: 0.9545\n",
      "Epoch 7/30\n",
      "1500/1500 [==============================] - 3s 2ms/step - loss: 0.1073 - accuracy: 0.9671 - val_loss: 0.1588 - val_accuracy: 0.9554\n",
      "Epoch 8/30\n",
      "1500/1500 [==============================] - 3s 2ms/step - loss: 0.0976 - accuracy: 0.9699 - val_loss: 0.1532 - val_accuracy: 0.9548\n",
      "Epoch 9/30\n",
      "1500/1500 [==============================] - 3s 2ms/step - loss: 0.0895 - accuracy: 0.9725 - val_loss: 0.1432 - val_accuracy: 0.9613\n",
      "Epoch 10/30\n",
      "1500/1500 [==============================] - 3s 2ms/step - loss: 0.0853 - accuracy: 0.9736 - val_loss: 0.1470 - val_accuracy: 0.9606\n",
      "Epoch 11/30\n",
      "1500/1500 [==============================] - 3s 2ms/step - loss: 0.0786 - accuracy: 0.9749 - val_loss: 0.1540 - val_accuracy: 0.9589\n",
      "Epoch 12/30\n",
      "1500/1500 [==============================] - 3s 2ms/step - loss: 0.0757 - accuracy: 0.9759 - val_loss: 0.1574 - val_accuracy: 0.9618\n",
      "Epoch 13/30\n",
      "1500/1500 [==============================] - 3s 2ms/step - loss: 0.0690 - accuracy: 0.9783 - val_loss: 0.1609 - val_accuracy: 0.9593\n",
      "Epoch 14/30\n",
      "1500/1500 [==============================] - 3s 2ms/step - loss: 0.0664 - accuracy: 0.9784 - val_loss: 0.1552 - val_accuracy: 0.9607\n",
      "Epoch 15/30\n",
      "1500/1500 [==============================] - 3s 2ms/step - loss: 0.0630 - accuracy: 0.9800 - val_loss: 0.1668 - val_accuracy: 0.9582\n",
      "Epoch 16/30\n",
      "1500/1500 [==============================] - 3s 2ms/step - loss: 0.0577 - accuracy: 0.9816 - val_loss: 0.1595 - val_accuracy: 0.9597\n",
      "Epoch 17/30\n",
      "1500/1500 [==============================] - 3s 2ms/step - loss: 0.0567 - accuracy: 0.9815 - val_loss: 0.1642 - val_accuracy: 0.9611\n",
      "Epoch 18/30\n",
      "1500/1500 [==============================] - 3s 2ms/step - loss: 0.0538 - accuracy: 0.9826 - val_loss: 0.1741 - val_accuracy: 0.9580\n",
      "Epoch 19/30\n",
      "1500/1500 [==============================] - 3s 2ms/step - loss: 0.0491 - accuracy: 0.9836 - val_loss: 0.1678 - val_accuracy: 0.9603\n",
      "Epoch 20/30\n",
      "1500/1500 [==============================] - 3s 2ms/step - loss: 0.0496 - accuracy: 0.9838 - val_loss: 0.1637 - val_accuracy: 0.9605\n",
      "Epoch 21/30\n",
      "1500/1500 [==============================] - 3s 2ms/step - loss: 0.0434 - accuracy: 0.9861 - val_loss: 0.1617 - val_accuracy: 0.9636\n",
      "Epoch 22/30\n",
      "1500/1500 [==============================] - 3s 2ms/step - loss: 0.0445 - accuracy: 0.9849 - val_loss: 0.1795 - val_accuracy: 0.9595\n",
      "Epoch 23/30\n",
      "1500/1500 [==============================] - 3s 2ms/step - loss: 0.0425 - accuracy: 0.9853 - val_loss: 0.1811 - val_accuracy: 0.9611\n",
      "Epoch 24/30\n",
      "1500/1500 [==============================] - 3s 2ms/step - loss: 0.0389 - accuracy: 0.9872 - val_loss: 0.1831 - val_accuracy: 0.9619\n",
      "Epoch 25/30\n",
      "1500/1500 [==============================] - 3s 2ms/step - loss: 0.0381 - accuracy: 0.9873 - val_loss: 0.1895 - val_accuracy: 0.9606\n",
      "Epoch 26/30\n",
      "1500/1500 [==============================] - 3s 2ms/step - loss: 0.0364 - accuracy: 0.9875 - val_loss: 0.1927 - val_accuracy: 0.9597\n",
      "Epoch 27/30\n",
      "1500/1500 [==============================] - 3s 2ms/step - loss: 0.0353 - accuracy: 0.9880 - val_loss: 0.2048 - val_accuracy: 0.9599\n",
      "Epoch 28/30\n",
      "1500/1500 [==============================] - 3s 2ms/step - loss: 0.0350 - accuracy: 0.9883 - val_loss: 0.1915 - val_accuracy: 0.9617\n",
      "Epoch 29/30\n",
      "1500/1500 [==============================] - 3s 2ms/step - loss: 0.0318 - accuracy: 0.9892 - val_loss: 0.2107 - val_accuracy: 0.9589\n",
      "Epoch 30/30\n",
      "1500/1500 [==============================] - 3s 2ms/step - loss: 0.0320 - accuracy: 0.9890 - val_loss: 0.2064 - val_accuracy: 0.9621\n"
     ]
    }
   ],
   "source": [
    "historico = rede_simples.fit(x_treino,\n",
    "                 y_treino,\n",
    "                 epochs = 30, # épocas : número de vezes que o modelo vÊ todo o dataset\n",
    "                 batch_size = 32, # batches é um hiperparâmetro\n",
    "                 validation_data = (x_val, y_val))  "
   ]
  },
  {
   "cell_type": "markdown",
   "id": "fb114e9d-d378-4d45-9802-470eee9d9a25",
   "metadata": {},
   "source": [
    "### Avaliação"
   ]
  },
  {
   "cell_type": "code",
   "execution_count": 19,
   "id": "8c90237c-e86e-440a-8738-d400bfc569a1",
   "metadata": {},
   "outputs": [
    {
     "name": "stdout",
     "output_type": "stream",
     "text": [
      "313/313 [==============================] - 3s 1ms/step\n"
     ]
    },
    {
     "data": {
      "text/plain": [
       "0.9579"
      ]
     },
     "execution_count": 19,
     "metadata": {},
     "output_type": "execute_result"
    }
   ],
   "source": [
    "from sklearn.metrics import confusion_matrix, accuracy_score\n",
    "\n",
    "pred_simples = rede_simples.predict(x_test)\n",
    "accuracy_score(y_test.argmax(1), pred_simples.argmax(1))"
   ]
  },
  {
   "cell_type": "code",
   "execution_count": 35,
   "id": "ffe99131-34ed-4c2c-a098-30d03e07f1a7",
   "metadata": {},
   "outputs": [
    {
     "data": {
      "text/plain": [
       "array([0., 0., 0., 0., 0., 0., 0., 1., 0., 0.], dtype=float32)"
      ]
     },
     "execution_count": 35,
     "metadata": {},
     "output_type": "execute_result"
    }
   ],
   "source": [
    "pred_simples[0]"
   ]
  },
  {
   "cell_type": "code",
   "execution_count": 36,
   "id": "0ead71ce-1bca-4219-9541-71d7e7c17303",
   "metadata": {},
   "outputs": [
    {
     "data": {
      "text/plain": [
       "array([0., 0., 0., 0., 0., 0., 0., 1., 0., 0.])"
      ]
     },
     "execution_count": 36,
     "metadata": {},
     "output_type": "execute_result"
    }
   ],
   "source": [
    "y_test[0]"
   ]
  },
  {
   "cell_type": "code",
   "execution_count": 26,
   "id": "eb15133e-6581-473a-b29d-01314e083dbb",
   "metadata": {},
   "outputs": [
    {
     "data": {
      "image/png": "[encoded data removed]",
      "text/plain": [
       "<Figure size 432x288 with 1 Axes>"
      ]
     },
     "metadata": {
      "needs_background": "light"
     },
     "output_type": "display_data"
    }
   ],
   "source": [
    "# Que que é 'loss'? É a perda, é o inverso da acurácia\n",
    "loss = historico.history['accuracy']\n",
    "val_loss = historico.history['val_accuracy']\n",
    "\n",
    "epochs = range(len(loss))\n",
    "plt.figure()\n",
    "plt.plot(epochs, loss, 'bo', label = 'Training accuracy')\n",
    "plt.plot(epochs, val_loss, 'b', label = 'Validation accuracy')\n",
    "plt.title('Training and validation loss')\n",
    "plt.legend()\n",
    "plt.show()\n",
    "\n",
    "# Época ideal : 7-8 épocas"
   ]
  },
  {
   "cell_type": "markdown",
   "id": "6af2ab6a-97b8-417a-97c0-64b751959f84",
   "metadata": {},
   "source": [
    "### Regularização\n",
    "\n",
    "1. Early Stopping : determinar quando encerrar o treinamento\n",
    "2. Dropout : selecionar neurônios aleatoriamente para o treinamento\n",
    "3. Batch normalization : normalizar a saída das camadas"
   ]
  },
  {
   "cell_type": "code",
   "execution_count": 30,
   "id": "62d52baf-0e13-4749-b04c-d0166ec8d115",
   "metadata": {},
   "outputs": [],
   "source": [
    "# callback : retorno, vai monitorar uma métrica e, se a métrica não variar, ela para\n",
    "es = EarlyStopping(monitor='val_loss', patience = 10, min_delta = 0.001, verbose = 1, mode = 'auto') \n",
    "# o es vai monitora por 10 épocas, se não melhorar por 10 épocas, ele para\n",
    "# min_delta"
   ]
  },
  {
   "cell_type": "code",
   "execution_count": 37,
   "id": "0d9fb481-52da-40c6-8742-475274748495",
   "metadata": {
    "collapsed": true,
    "jupyter": {
     "outputs_hidden": true
    },
    "tags": []
   },
   "outputs": [
    {
     "name": "stdout",
     "output_type": "stream",
     "text": [
      "Epoch 1/30\n",
      "1500/1500 [==============================] - 3s 2ms/step - loss: 0.0428 - accuracy: 0.9859 - val_loss: 0.1829 - val_accuracy: 0.9584\n",
      "Epoch 2/30\n",
      "1500/1500 [==============================] - 3s 2ms/step - loss: 0.0417 - accuracy: 0.9861 - val_loss: 0.1652 - val_accuracy: 0.9640\n",
      "Epoch 3/30\n",
      "1500/1500 [==============================] - 3s 2ms/step - loss: 0.0389 - accuracy: 0.9875 - val_loss: 0.1668 - val_accuracy: 0.9622\n",
      "Epoch 4/30\n",
      "1500/1500 [==============================] - 3s 2ms/step - loss: 0.0383 - accuracy: 0.9871 - val_loss: 0.1712 - val_accuracy: 0.9621\n",
      "Epoch 5/30\n",
      "1500/1500 [==============================] - 3s 2ms/step - loss: 0.0350 - accuracy: 0.9888 - val_loss: 0.1740 - val_accuracy: 0.9625\n",
      "Epoch 6/30\n",
      "1500/1500 [==============================] - 3s 2ms/step - loss: 0.0354 - accuracy: 0.9881 - val_loss: 0.1944 - val_accuracy: 0.9614\n",
      "Epoch 7/30\n",
      "1500/1500 [==============================] - 3s 2ms/step - loss: 0.0318 - accuracy: 0.9892 - val_loss: 0.1950 - val_accuracy: 0.9597\n",
      "Epoch 8/30\n",
      "1500/1500 [==============================] - 3s 2ms/step - loss: 0.0290 - accuracy: 0.9905 - val_loss: 0.2035 - val_accuracy: 0.9588\n",
      "Epoch 9/30\n",
      "1500/1500 [==============================] - 3s 2ms/step - loss: 0.0297 - accuracy: 0.9902 - val_loss: 0.2151 - val_accuracy: 0.9613\n",
      "Epoch 10/30\n",
      "1500/1500 [==============================] - 3s 2ms/step - loss: 0.0303 - accuracy: 0.9906 - val_loss: 0.1950 - val_accuracy: 0.9646\n",
      "Epoch 11/30\n",
      "1500/1500 [==============================] - 3s 2ms/step - loss: 0.0280 - accuracy: 0.9903 - val_loss: 0.2022 - val_accuracy: 0.9603\n",
      "Epoch 12/30\n",
      "1500/1500 [==============================] - 3s 2ms/step - loss: 0.0270 - accuracy: 0.9913 - val_loss: 0.2291 - val_accuracy: 0.9580\n",
      "Epoch 12: early stopping\n"
     ]
    }
   ],
   "source": [
    "historico = rede_simples.fit(x_treino,\n",
    "                 y_treino,\n",
    "                 epochs = 30, # épocas : número de vezes que o modelo vÊ todo o dataset\n",
    "                 batch_size = 32, # batches é um hiperparâmetro\n",
    "                 validation_data = (x_val, y_val),\n",
    "                 callbacks = [es])  "
   ]
  },
  {
   "cell_type": "code",
   "execution_count": 32,
   "id": "dcacc5e7-d877-400c-bef4-a22e541379ac",
   "metadata": {},
   "outputs": [
    {
     "name": "stdout",
     "output_type": "stream",
     "text": [
      "313/313 [==============================] - 0s 1ms/step\n"
     ]
    },
    {
     "data": {
      "text/plain": [
       "0.9649"
      ]
     },
     "execution_count": 32,
     "metadata": {},
     "output_type": "execute_result"
    }
   ],
   "source": [
    "from sklearn.metrics import confusion_matrix, accuracy_score\n",
    "\n",
    "pred_simples = rede_simples.predict(x_test)\n",
    "accuracy_score(y_test.argmax(1), pred_simples.argmax(1))"
   ]
  },
  {
   "cell_type": "code",
   "execution_count": 39,
   "id": "4d7cdaff-cf97-4a6a-972f-ee1332145116",
   "metadata": {},
   "outputs": [
    {
     "data": {
      "image/png": "[encoded data removed]",
      "text/plain": [
       "<Figure size 432x288 with 1 Axes>"
      ]
     },
     "metadata": {
      "needs_background": "light"
     },
     "output_type": "display_data"
    }
   ],
   "source": [
    "# Que que é 'loss'? É a perda, é o inverso da acurácia\n",
    "loss = historico.history['accuracy']\n",
    "val_loss = historico.history['val_accuracy']\n",
    "\n",
    "epochs = range(len(loss))\n",
    "plt.figure()\n",
    "plt.plot(epochs, loss, 'bo', label = 'Training accuracy')\n",
    "plt.plot(epochs, val_loss, 'b', label = 'Validation accuracy')\n",
    "plt.title('Training and validation loss')\n",
    "plt.legend()\n",
    "plt.show()\n",
    "\n",
    "# Com EarlyStopping foi em torno de 12-13"
   ]
  },
  {
   "cell_type": "code",
   "execution_count": 46,
   "id": "f3f4b699-4ba9-48d2-b488-86b8cbdccefe",
   "metadata": {},
   "outputs": [],
   "source": [
    "# Dropout : Alterna quais neurônios vão otimizar os pesos a cada rodada do treinamento. Quando tem muitos neurônios por camada\n",
    "# Enteder cada objeto\n",
    "rede_simples = Sequential()\n",
    "rede_simples.add(Flatten())\n",
    "rede_simples.add(Dense(25, input_dim = 784))\n",
    "rede_simples.add(Activation('relu'))\n",
    "rede_simples.add(Dropout(0.2)) # Sempre depois do Activation()\n",
    "rede_simples.add(Dense(25))\n",
    "rede_simples.add(Activation('relu'))\n",
    "#rede_simples.add(Dropout(0.5))\n",
    "rede_simples.add(Dense(25))\n",
    "rede_simples.add(Activation('relu'))\n",
    "#rede_simples.add(Dropout(0.5))\n",
    "rede_simples.add(Dense(10)) \n",
    "rede_simples.add(Activation('softmax'))"
   ]
  },
  {
   "cell_type": "code",
   "execution_count": 47,
   "id": "d7e0e858-1fa9-4829-8b86-3ece983cfb9c",
   "metadata": {},
   "outputs": [],
   "source": [
    "rede_simples.compile(loss = 'categorical_crossentropy',\n",
    "                     optimizer = 'Adam',\n",
    "                     metrics = ['accuracy'])"
   ]
  },
  {
   "cell_type": "code",
   "execution_count": 48,
   "id": "beef64ac-300f-4351-951a-01deb857603a",
   "metadata": {
    "collapsed": true,
    "jupyter": {
     "outputs_hidden": true
    },
    "tags": []
   },
   "outputs": [
    {
     "name": "stdout",
     "output_type": "stream",
     "text": [
      "Epoch 1/30\n",
      "1500/1500 [==============================] - 3s 2ms/step - loss: 0.5912 - accuracy: 0.8159 - val_loss: 0.2654 - val_accuracy: 0.9179\n",
      "Epoch 2/30\n",
      "1500/1500 [==============================] - 3s 2ms/step - loss: 0.3315 - accuracy: 0.8980 - val_loss: 0.2221 - val_accuracy: 0.9327\n",
      "Epoch 3/30\n",
      "1500/1500 [==============================] - 3s 2ms/step - loss: 0.2890 - accuracy: 0.9094 - val_loss: 0.2028 - val_accuracy: 0.9363\n",
      "Epoch 4/30\n",
      "1500/1500 [==============================] - 3s 2ms/step - loss: 0.2603 - accuracy: 0.9187 - val_loss: 0.1939 - val_accuracy: 0.9409\n",
      "Epoch 5/30\n",
      "1500/1500 [==============================] - 3s 2ms/step - loss: 0.2491 - accuracy: 0.9226 - val_loss: 0.1785 - val_accuracy: 0.9462\n",
      "Epoch 6/30\n",
      "1500/1500 [==============================] - 3s 2ms/step - loss: 0.2362 - accuracy: 0.9273 - val_loss: 0.1764 - val_accuracy: 0.9474\n",
      "Epoch 7/30\n",
      "1500/1500 [==============================] - 3s 2ms/step - loss: 0.2292 - accuracy: 0.9288 - val_loss: 0.1672 - val_accuracy: 0.9504\n",
      "Epoch 8/30\n",
      "1500/1500 [==============================] - 3s 2ms/step - loss: 0.2181 - accuracy: 0.9313 - val_loss: 0.1659 - val_accuracy: 0.9513\n",
      "Epoch 9/30\n",
      "1500/1500 [==============================] - 3s 2ms/step - loss: 0.2129 - accuracy: 0.9328 - val_loss: 0.1709 - val_accuracy: 0.9517\n",
      "Epoch 10/30\n",
      "1500/1500 [==============================] - 3s 2ms/step - loss: 0.2039 - accuracy: 0.9341 - val_loss: 0.1585 - val_accuracy: 0.9533\n",
      "Epoch 11/30\n",
      "1500/1500 [==============================] - 3s 2ms/step - loss: 0.2001 - accuracy: 0.9368 - val_loss: 0.1583 - val_accuracy: 0.9550\n",
      "Epoch 12/30\n",
      "1500/1500 [==============================] - 3s 2ms/step - loss: 0.1934 - accuracy: 0.9382 - val_loss: 0.1695 - val_accuracy: 0.9503\n",
      "Epoch 13/30\n",
      "1500/1500 [==============================] - 3s 2ms/step - loss: 0.1905 - accuracy: 0.9390 - val_loss: 0.1599 - val_accuracy: 0.9524\n",
      "Epoch 14/30\n",
      "1500/1500 [==============================] - 4s 2ms/step - loss: 0.1866 - accuracy: 0.9392 - val_loss: 0.1553 - val_accuracy: 0.9542\n",
      "Epoch 15/30\n",
      "1500/1500 [==============================] - 3s 2ms/step - loss: 0.1815 - accuracy: 0.9428 - val_loss: 0.1540 - val_accuracy: 0.9559\n",
      "Epoch 16/30\n",
      "1500/1500 [==============================] - 3s 2ms/step - loss: 0.1828 - accuracy: 0.9408 - val_loss: 0.1612 - val_accuracy: 0.9540\n",
      "Epoch 17/30\n",
      "1500/1500 [==============================] - 3s 2ms/step - loss: 0.1769 - accuracy: 0.9431 - val_loss: 0.1635 - val_accuracy: 0.9542\n",
      "Epoch 18/30\n",
      "1500/1500 [==============================] - 3s 2ms/step - loss: 0.1747 - accuracy: 0.9435 - val_loss: 0.1502 - val_accuracy: 0.9568\n",
      "Epoch 19/30\n",
      "1500/1500 [==============================] - 3s 2ms/step - loss: 0.1744 - accuracy: 0.9443 - val_loss: 0.1500 - val_accuracy: 0.9552\n",
      "Epoch 20/30\n",
      "1500/1500 [==============================] - 3s 2ms/step - loss: 0.1703 - accuracy: 0.9460 - val_loss: 0.1482 - val_accuracy: 0.9569\n",
      "Epoch 21/30\n",
      "1500/1500 [==============================] - 3s 2ms/step - loss: 0.1688 - accuracy: 0.9463 - val_loss: 0.1533 - val_accuracy: 0.9565\n",
      "Epoch 22/30\n",
      "1500/1500 [==============================] - 3s 2ms/step - loss: 0.1658 - accuracy: 0.9468 - val_loss: 0.1592 - val_accuracy: 0.9533\n",
      "Epoch 23/30\n",
      "1500/1500 [==============================] - 3s 2ms/step - loss: 0.1637 - accuracy: 0.9467 - val_loss: 0.1504 - val_accuracy: 0.9567\n",
      "Epoch 24/30\n",
      "1500/1500 [==============================] - 3s 2ms/step - loss: 0.1632 - accuracy: 0.9477 - val_loss: 0.1501 - val_accuracy: 0.9554\n",
      "Epoch 25/30\n",
      "1500/1500 [==============================] - 3s 2ms/step - loss: 0.1590 - accuracy: 0.9489 - val_loss: 0.1399 - val_accuracy: 0.9605\n",
      "Epoch 26/30\n",
      "1500/1500 [==============================] - 3s 2ms/step - loss: 0.1639 - accuracy: 0.9467 - val_loss: 0.1543 - val_accuracy: 0.9555\n",
      "Epoch 27/30\n",
      "1500/1500 [==============================] - 3s 2ms/step - loss: 0.1581 - accuracy: 0.9491 - val_loss: 0.1479 - val_accuracy: 0.9581\n",
      "Epoch 28/30\n",
      "1500/1500 [==============================] - 3s 2ms/step - loss: 0.1540 - accuracy: 0.9501 - val_loss: 0.1655 - val_accuracy: 0.9534\n",
      "Epoch 29/30\n",
      "1500/1500 [==============================] - 3s 2ms/step - loss: 0.1573 - accuracy: 0.9509 - val_loss: 0.1588 - val_accuracy: 0.9553\n",
      "Epoch 30/30\n",
      "1500/1500 [==============================] - 3s 2ms/step - loss: 0.1520 - accuracy: 0.9504 - val_loss: 0.1460 - val_accuracy: 0.9588\n"
     ]
    }
   ],
   "source": [
    "es = EarlyStopping(monitor='val_loss', patience = 10, min_delta = 0.001, verbose = 1, mode = 'auto') \n",
    "historico = rede_simples.fit(x_treino,\n",
    "                 y_treino,\n",
    "                 epochs = 30, # épocas : número de vezes que o modelo vÊ todo o dataset\n",
    "                 batch_size = 32, # batches é um hiperparâmetro\n",
    "                 validation_data = (x_val, y_val),\n",
    "                 callbacks = [es])  "
   ]
  },
  {
   "cell_type": "code",
   "execution_count": 49,
   "id": "0bf035c7-7e85-4176-b097-0b389aa285b5",
   "metadata": {},
   "outputs": [
    {
     "name": "stdout",
     "output_type": "stream",
     "text": [
      "313/313 [==============================] - 0s 1ms/step\n"
     ]
    },
    {
     "data": {
      "text/plain": [
       "0.9378"
      ]
     },
     "execution_count": 49,
     "metadata": {},
     "output_type": "execute_result"
    }
   ],
   "source": [
    "from sklearn.metrics import confusion_matrix, accuracy_score\n",
    "\n",
    "pred_simples = rede_simples.predict(x_test)\n",
    "accuracy_score(y_test.argmax(1), pred_simples.argmax(1))"
   ]
  },
  {
   "cell_type": "code",
   "execution_count": 51,
   "id": "2f639ebf-7176-44d5-81b5-071d96a58789",
   "metadata": {},
   "outputs": [
    {
     "data": {
      "image/png": "[encoded data removed]",
      "text/plain": [
       "<Figure size 432x288 with 1 Axes>"
      ]
     },
     "metadata": {
      "needs_background": "light"
     },
     "output_type": "display_data"
    }
   ],
   "source": [
    "loss = historico.history['accuracy']\n",
    "val_loss = historico.history['val_accuracy']\n",
    "\n",
    "epochs = range(len(loss))\n",
    "plt.figure()\n",
    "plt.plot(epochs, loss, 'bo', label = 'Training accuracy')\n",
    "plt.plot(epochs, val_loss, 'b', label = 'Validation accuracy')\n",
    "plt.title('Training and validation accuracy')\n",
    "plt.legend()\n",
    "plt.show()"
   ]
  },
  {
   "cell_type": "markdown",
   "id": "3e22ca4f-fb6f-4609-9a59-660e4a7889d9",
   "metadata": {},
   "source": [
    "Validação dá mais alta que o treino não é overfitting. Problema de particionamento onde o problema ficou muito \"fácil\"."
   ]
  },
  {
   "cell_type": "code",
   "execution_count": 52,
   "id": "bcaa1cf8-bba1-47ca-b094-e18f3e231b98",
   "metadata": {},
   "outputs": [],
   "source": [
    "# Batch normalization : Normalização dos pesos. Fica antes da função de ativação. Usado para redes muito profundas.\n",
    "# Evita degradação de aprendizado (exploding gradient).\n",
    "rede_simples = Sequential()\n",
    "rede_simples.add(Flatten())\n",
    "rede_simples.add(Dense(25, input_dim = 784))\n",
    "rede_simples.add(BatchNormalization())\n",
    "rede_simples.add(Activation('relu'))\n",
    "rede_simples.add(Dense(25))\n",
    "rede_simples.add(BatchNormalization())\n",
    "rede_simples.add(Activation('relu'))\n",
    "rede_simples.add(Dense(25))\n",
    "rede_simples.add(BatchNormalization())\n",
    "rede_simples.add(Activation('relu'))\n",
    "rede_simples.add(Dense(10)) \n",
    "rede_simples.add(Activation('softmax'))"
   ]
  },
  {
   "cell_type": "code",
   "execution_count": 53,
   "id": "b1f89364-11c6-42e0-83f5-d61c5986eb0e",
   "metadata": {},
   "outputs": [],
   "source": [
    "rede_simples.compile(loss = 'categorical_crossentropy', optimizer = 'Adam', metrics=['accuracy'])"
   ]
  },
  {
   "cell_type": "code",
   "execution_count": 54,
   "id": "62d07e20-9a23-488c-8bd5-6d9b8218ecbc",
   "metadata": {
    "collapsed": true,
    "jupyter": {
     "outputs_hidden": true
    },
    "tags": []
   },
   "outputs": [
    {
     "name": "stdout",
     "output_type": "stream",
     "text": [
      "Epoch 1/30\n",
      "1500/1500 [==============================] - 5s 2ms/step - loss: 0.4838 - accuracy: 0.8646 - val_loss: 0.2080 - val_accuracy: 0.9392\n",
      "Epoch 2/30\n",
      "1500/1500 [==============================] - 3s 2ms/step - loss: 0.2333 - accuracy: 0.9294 - val_loss: 0.1629 - val_accuracy: 0.9505\n",
      "Epoch 3/30\n",
      "1500/1500 [==============================] - 3s 2ms/step - loss: 0.1948 - accuracy: 0.9403 - val_loss: 0.1537 - val_accuracy: 0.9535\n",
      "Epoch 4/30\n",
      "1500/1500 [==============================] - 3s 2ms/step - loss: 0.1735 - accuracy: 0.9482 - val_loss: 0.1450 - val_accuracy: 0.9576\n",
      "Epoch 5/30\n",
      "1500/1500 [==============================] - 3s 2ms/step - loss: 0.1543 - accuracy: 0.9525 - val_loss: 0.1269 - val_accuracy: 0.9622\n",
      "Epoch 6/30\n",
      "1500/1500 [==============================] - 3s 2ms/step - loss: 0.1481 - accuracy: 0.9544 - val_loss: 0.1323 - val_accuracy: 0.9613\n",
      "Epoch 7/30\n",
      "1500/1500 [==============================] - 4s 2ms/step - loss: 0.1317 - accuracy: 0.9593 - val_loss: 0.1260 - val_accuracy: 0.9643\n",
      "Epoch 8/30\n",
      "1500/1500 [==============================] - 4s 2ms/step - loss: 0.1284 - accuracy: 0.9595 - val_loss: 0.1192 - val_accuracy: 0.9638\n",
      "Epoch 9/30\n",
      "1500/1500 [==============================] - 4s 2ms/step - loss: 0.1216 - accuracy: 0.9619 - val_loss: 0.1170 - val_accuracy: 0.9653\n",
      "Epoch 10/30\n",
      "1500/1500 [==============================] - 4s 3ms/step - loss: 0.1187 - accuracy: 0.9622 - val_loss: 0.1201 - val_accuracy: 0.9661\n",
      "Epoch 11/30\n",
      "1500/1500 [==============================] - 4s 2ms/step - loss: 0.1143 - accuracy: 0.9641 - val_loss: 0.1235 - val_accuracy: 0.9622\n",
      "Epoch 12/30\n",
      "1500/1500 [==============================] - 4s 2ms/step - loss: 0.1092 - accuracy: 0.9652 - val_loss: 0.1160 - val_accuracy: 0.9648\n",
      "Epoch 13/30\n",
      "1500/1500 [==============================] - 4s 2ms/step - loss: 0.1066 - accuracy: 0.9662 - val_loss: 0.1137 - val_accuracy: 0.9657\n",
      "Epoch 14/30\n",
      "1500/1500 [==============================] - 4s 2ms/step - loss: 0.1012 - accuracy: 0.9680 - val_loss: 0.1183 - val_accuracy: 0.9643\n",
      "Epoch 15/30\n",
      "1500/1500 [==============================] - 4s 2ms/step - loss: 0.1005 - accuracy: 0.9680 - val_loss: 0.1084 - val_accuracy: 0.9668\n",
      "Epoch 16/30\n",
      "1500/1500 [==============================] - 4s 2ms/step - loss: 0.0944 - accuracy: 0.9700 - val_loss: 0.1104 - val_accuracy: 0.9654\n",
      "Epoch 17/30\n",
      "1500/1500 [==============================] - 4s 2ms/step - loss: 0.0930 - accuracy: 0.9706 - val_loss: 0.1146 - val_accuracy: 0.9650\n",
      "Epoch 18/30\n",
      "1500/1500 [==============================] - 4s 2ms/step - loss: 0.0882 - accuracy: 0.9712 - val_loss: 0.1220 - val_accuracy: 0.9652\n",
      "Epoch 19/30\n",
      "1500/1500 [==============================] - 4s 2ms/step - loss: 0.0878 - accuracy: 0.9714 - val_loss: 0.1117 - val_accuracy: 0.9681\n",
      "Epoch 20/30\n",
      "1500/1500 [==============================] - 4s 2ms/step - loss: 0.0902 - accuracy: 0.9706 - val_loss: 0.1131 - val_accuracy: 0.9652\n",
      "Epoch 20: early stopping\n"
     ]
    }
   ],
   "source": [
    "es = EarlyStopping(monitor='val_loss', patience = 5, min_delta = 0.001, verbose = 1, mode = 'auto') \n",
    "historico = rede_simples.fit(x_treino,\n",
    "                 y_treino,\n",
    "                 epochs = 30, # épocas : número de vezes que o modelo vÊ todo o dataset\n",
    "                 batch_size = 32, # batches é um hiperparâmetro\n",
    "                 validation_data = (x_val, y_val),\n",
    "                 callbacks = [es])  "
   ]
  },
  {
   "cell_type": "code",
   "execution_count": 55,
   "id": "378b63a1-3b03-49c0-8689-107506391aaf",
   "metadata": {},
   "outputs": [
    {
     "name": "stdout",
     "output_type": "stream",
     "text": [
      "313/313 [==============================] - 1s 1ms/step\n"
     ]
    },
    {
     "data": {
      "text/plain": [
       "0.6489"
      ]
     },
     "execution_count": 55,
     "metadata": {},
     "output_type": "execute_result"
    }
   ],
   "source": [
    "from sklearn.metrics import confusion_matrix, accuracy_score\n",
    "\n",
    "pred_simples = rede_simples.predict(x_test)\n",
    "accuracy_score(y_test.argmax(1), pred_simples.argmax(1))"
   ]
  },
  {
   "cell_type": "code",
   "execution_count": 56,
   "id": "6d9c4c2d-74db-47df-a7fa-10349a8b0e17",
   "metadata": {},
   "outputs": [
    {
     "data": {
      "image/png": "[encoded data removed]",
      "text/plain": [
       "<Figure size 432x288 with 1 Axes>"
      ]
     },
     "metadata": {
      "needs_background": "light"
     },
     "output_type": "display_data"
    }
   ],
   "source": [
    "loss = historico.history['accuracy']\n",
    "val_loss = historico.history['val_accuracy']\n",
    "\n",
    "epochs = range(len(loss))\n",
    "plt.figure()\n",
    "plt.plot(epochs, loss, 'bo', label = 'Training accuracy')\n",
    "plt.plot(epochs, val_loss, 'b', label = 'Validation accuracy')\n",
    "plt.title('Training and validation accuracy')\n",
    "plt.legend()\n",
    "plt.show()"
   ]
  },
  {
   "cell_type": "markdown",
   "id": "c126bcc6-eb25-4fe2-9eae-3e6bfe7796b3",
   "metadata": {},
   "source": [
    "### Brincar com CIFAR 10 para a próxima aula"
   ]
  }
 ],
 "metadata": {
  "kernelspec": {
   "display_name": "Python 3",
   "language": "python",
   "name": "python3"
  },
  "language_info": {
   "codemirror_mode": {
    "name": "ipython",
    "version": 3
   },
   "file_extension": ".py",
   "mimetype": "text/x-python",
   "name": "python",
   "nbconvert_exporter": "python",
   "pygments_lexer": "ipython3",
   "version": "3.8.8"
  }
 },
 "nbformat": 4,
 "nbformat_minor": 5
}
