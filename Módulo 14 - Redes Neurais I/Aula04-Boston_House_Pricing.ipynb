{
 "cells": [
  {
   "cell_type": "code",
   "execution_count": 1,
   "id": "14bba1b4-2d72-4cca-9827-874fbee5586a",
   "metadata": {},
   "outputs": [],
   "source": [
    "from tensorflow import keras\n",
    "from tensorflow.keras import datasets\n",
    "import matplotlib.pyplot as plt\n",
    "import numpy as np\n",
    "from sklearn.preprocessing import OneHotEncoder"
   ]
  },
  {
   "cell_type": "markdown",
   "id": "9e42fd20-6301-4325-a37f-3ab474e12db9",
   "metadata": {},
   "source": [
    "# Prática 3 - Boston House Pricing\n",
    "\n",
    "Por fim, vamos utilizar uma rede neural para regressão e dados estruturados.\n",
    "\n",
    "* Para dados estruturados, o pensamento é bem semelhante em termos de arquitetura. A única diferença é que agora nosso total de features (input_shape) será **igual a quantidade de colunas do dataset**\n",
    "* Para regressão, a diferença está na **função de perdas!** Neste caso utilizamos as [mesmas funções de predição](https://keras.io/api/losses/regression_losses/) vistas nos módulos anteriores (mse e rmse por exemplo)\n",
    "\n",
    "OBS. para este problema iremos apenas normalizar nossas features. Entretanto, o preprocessamento de dados estruturados para rede neural é **exatamente o mesmo** utilizado para os demais algoritmos de machine learning neste contexto. \n",
    "\n",
    "![Title](imgs/boston_prices.png) "
   ]
  },
  {
   "cell_type": "code",
   "execution_count": 2,
   "id": "44f14f0f-68d1-4a8f-9b66-35246647d447",
   "metadata": {},
   "outputs": [
    {
     "name": "stdout",
     "output_type": "stream",
     "text": [
      "Downloading data from https://storage.googleapis.com/tensorflow/tf-keras-datasets/boston_housing.npz\n",
      "57026/57026 [==============================] - 0s 1us/step\n"
     ]
    }
   ],
   "source": [
    "(x_train, y_train), (x_test, y_test) = keras.datasets.boston_housing.load_data()"
   ]
  },
  {
   "cell_type": "markdown",
   "id": "6a8222e2-5048-4cc7-85df-049502e689d9",
   "metadata": {},
   "source": [
    "### Tratando os dados\n",
    "\n",
    "- Nesse caso, calculamos o z-score (z = (x-mean)/std)\n",
    "- Aplica a média e o desvio padrão do treino no teste"
   ]
  },
  {
   "cell_type": "code",
   "execution_count": 4,
   "id": "560d0b61-619b-4015-a20c-cddfbd7e15c6",
   "metadata": {},
   "outputs": [],
   "source": [
    "# Média e desvio padrão de treino (dados normais)\n",
    "mean = x_train.mean(axis=0)\n",
    "std = x_train.std(axis=0)\n",
    "\n",
    "# Z-score para treino\n",
    "x_train -= mean\n",
    "x_train /= std\n",
    "\n",
    "# Z-score para teste\n",
    "x_test -= mean\n",
    "x_test /= std"
   ]
  },
  {
   "cell_type": "code",
   "execution_count": 11,
   "id": "6407678a-aff5-4855-b879-ebf076e1d85f",
   "metadata": {},
   "outputs": [
    {
     "name": "stdout",
     "output_type": "stream",
     "text": [
      "(404, 13)\n",
      "(102, 13)\n"
     ]
    }
   ],
   "source": [
    "print(x_train.shape)\n",
    "print(x_test.shape)"
   ]
  },
  {
   "cell_type": "markdown",
   "id": "03cd88e8-3941-43a7-b38f-1cfb4f819a25",
   "metadata": {},
   "source": [
    "### Train val split"
   ]
  },
  {
   "cell_type": "code",
   "execution_count": 12,
   "id": "8cafbba9-d7fc-4c68-b165-03e109958374",
   "metadata": {},
   "outputs": [
    {
     "data": {
      "text/plain": [
       "((323, 13), (81, 13), (323,), (81,))"
      ]
     },
     "execution_count": 12,
     "metadata": {},
     "output_type": "execute_result"
    }
   ],
   "source": [
    "from sklearn.model_selection import train_test_split\n",
    "\n",
    "x_treino, x_val, y_treino, y_val = train_test_split(x_train, y_train, test_size = 0.2, random_state = 42)\n",
    "x_treino.shape, x_val.shape, y_treino.shape, y_val.shape"
   ]
  },
  {
   "cell_type": "markdown",
   "id": "92a83897-c27b-46a3-b25b-a9f86ef45218",
   "metadata": {},
   "source": [
    "### Arquitetura da rede neural"
   ]
  },
  {
   "cell_type": "code",
   "execution_count": 6,
   "id": "267d3278-1e81-46de-8690-0eff85c96978",
   "metadata": {},
   "outputs": [],
   "source": [
    "from tensorflow.keras.layers import Dense, Activation, Dropout, Flatten, BatchNormalization\n",
    "from tensorflow.keras.models import Sequential\n",
    "from tensorflow.keras.callbacks import EarlyStopping"
   ]
  },
  {
   "cell_type": "code",
   "execution_count": 29,
   "id": "ceccd253-64d3-47c5-844f-41aac151c107",
   "metadata": {},
   "outputs": [],
   "source": [
    "model = Sequential()\n",
    "model.add(Dense(8, activation='relu', input_shape=(x_treino.shape[1],)))\n",
    "model.add(Dense(16, activation='relu'))\n",
    "model.add(Dense(1)) # Regressão retorna um valor (um neurônio)\n",
    "\n",
    "model.compile(optimizer='rmsprop',\n",
    "              loss='mse',\n",
    "              metrics=['mae'])"
   ]
  },
  {
   "cell_type": "code",
   "execution_count": 30,
   "id": "d801a18c-6c0f-409a-8748-d4e82e10025f",
   "metadata": {
    "collapsed": true,
    "jupyter": {
     "outputs_hidden": true
    },
    "tags": []
   },
   "outputs": [
    {
     "name": "stdout",
     "output_type": "stream",
     "text": [
      "Epoch 1/150\n",
      "6/6 [==============================] - 1s 26ms/step - loss: 605.8399 - mae: 22.6579 - val_loss: 460.5733 - val_mae: 20.2231\n",
      "Epoch 2/150\n",
      "6/6 [==============================] - 0s 6ms/step - loss: 598.8704 - mae: 22.5213 - val_loss: 455.8634 - val_mae: 20.1206\n",
      "Epoch 3/150\n",
      "6/6 [==============================] - 0s 6ms/step - loss: 592.6495 - mae: 22.4031 - val_loss: 452.1116 - val_mae: 20.0383\n",
      "Epoch 4/150\n",
      "6/6 [==============================] - 0s 6ms/step - loss: 587.5609 - mae: 22.3046 - val_loss: 448.5712 - val_mae: 19.9607\n",
      "Epoch 5/150\n",
      "6/6 [==============================] - 0s 6ms/step - loss: 582.9794 - mae: 22.2153 - val_loss: 445.0393 - val_mae: 19.8811\n",
      "Epoch 6/150\n",
      "6/6 [==============================] - 0s 6ms/step - loss: 578.2689 - mae: 22.1221 - val_loss: 441.0080 - val_mae: 19.7909\n",
      "Epoch 7/150\n",
      "6/6 [==============================] - 0s 6ms/step - loss: 572.8604 - mae: 22.0175 - val_loss: 437.2317 - val_mae: 19.7058\n",
      "Epoch 8/150\n",
      "6/6 [==============================] - 0s 6ms/step - loss: 567.6261 - mae: 21.9139 - val_loss: 433.6826 - val_mae: 19.6247\n",
      "Epoch 9/150\n",
      "6/6 [==============================] - 0s 6ms/step - loss: 562.7767 - mae: 21.8170 - val_loss: 429.4382 - val_mae: 19.5279\n",
      "Epoch 10/150\n",
      "6/6 [==============================] - 0s 7ms/step - loss: 556.9516 - mae: 21.7004 - val_loss: 424.7974 - val_mae: 19.4222\n",
      "Epoch 11/150\n",
      "6/6 [==============================] - 0s 6ms/step - loss: 550.6674 - mae: 21.5759 - val_loss: 419.9517 - val_mae: 19.3115\n",
      "Epoch 12/150\n",
      "6/6 [==============================] - 0s 6ms/step - loss: 543.9152 - mae: 21.4378 - val_loss: 414.4992 - val_mae: 19.1870\n",
      "Epoch 13/150\n",
      "6/6 [==============================] - 0s 6ms/step - loss: 536.4990 - mae: 21.2890 - val_loss: 409.7463 - val_mae: 19.0759\n",
      "Epoch 14/150\n",
      "6/6 [==============================] - 0s 6ms/step - loss: 529.9093 - mae: 21.1522 - val_loss: 404.1828 - val_mae: 18.9453\n",
      "Epoch 15/150\n",
      "6/6 [==============================] - 0s 6ms/step - loss: 522.2252 - mae: 20.9927 - val_loss: 399.3324 - val_mae: 18.8296\n",
      "Epoch 16/150\n",
      "6/6 [==============================] - 0s 6ms/step - loss: 515.4040 - mae: 20.8506 - val_loss: 393.5909 - val_mae: 18.6927\n",
      "Epoch 17/150\n",
      "6/6 [==============================] - 0s 6ms/step - loss: 507.2582 - mae: 20.6763 - val_loss: 387.1917 - val_mae: 18.5411\n",
      "Epoch 18/150\n",
      "6/6 [==============================] - 0s 6ms/step - loss: 498.1754 - mae: 20.4863 - val_loss: 380.5735 - val_mae: 18.3804\n",
      "Epoch 19/150\n",
      "6/6 [==============================] - 0s 6ms/step - loss: 488.8880 - mae: 20.2812 - val_loss: 374.0010 - val_mae: 18.2212\n",
      "Epoch 20/150\n",
      "6/6 [==============================] - 0s 7ms/step - loss: 479.1552 - mae: 20.0756 - val_loss: 367.0322 - val_mae: 18.0481\n",
      "Epoch 21/150\n",
      "6/6 [==============================] - 0s 7ms/step - loss: 469.0008 - mae: 19.8471 - val_loss: 360.2214 - val_mae: 17.8759\n",
      "Epoch 22/150\n",
      "6/6 [==============================] - 0s 6ms/step - loss: 459.1212 - mae: 19.6245 - val_loss: 352.9212 - val_mae: 17.6905\n",
      "Epoch 23/150\n",
      "6/6 [==============================] - 0s 6ms/step - loss: 448.3545 - mae: 19.3818 - val_loss: 344.1709 - val_mae: 17.4672\n",
      "Epoch 24/150\n",
      "6/6 [==============================] - 0s 6ms/step - loss: 435.8624 - mae: 19.0928 - val_loss: 336.9655 - val_mae: 17.2754\n",
      "Epoch 25/150\n",
      "6/6 [==============================] - 0s 6ms/step - loss: 425.3051 - mae: 18.8424 - val_loss: 329.3640 - val_mae: 17.0691\n",
      "Epoch 26/150\n",
      "6/6 [==============================] - 0s 6ms/step - loss: 414.3185 - mae: 18.5705 - val_loss: 321.0716 - val_mae: 16.8405\n",
      "Epoch 27/150\n",
      "6/6 [==============================] - 0s 12ms/step - loss: 402.3935 - mae: 18.2725 - val_loss: 312.7545 - val_mae: 16.6037\n",
      "Epoch 28/150\n",
      "6/6 [==============================] - 0s 7ms/step - loss: 390.2601 - mae: 17.9662 - val_loss: 303.2588 - val_mae: 16.3309\n",
      "Epoch 29/150\n",
      "6/6 [==============================] - 0s 6ms/step - loss: 376.6409 - mae: 17.6059 - val_loss: 295.7943 - val_mae: 16.1081\n",
      "Epoch 30/150\n",
      "6/6 [==============================] - 0s 6ms/step - loss: 365.5861 - mae: 17.3077 - val_loss: 286.6555 - val_mae: 15.8308\n",
      "Epoch 31/150\n",
      "6/6 [==============================] - 0s 6ms/step - loss: 352.4900 - mae: 16.9463 - val_loss: 277.3343 - val_mae: 15.5352\n",
      "Epoch 32/150\n",
      "6/6 [==============================] - 0s 6ms/step - loss: 339.2912 - mae: 16.5552 - val_loss: 268.2426 - val_mae: 15.2448\n",
      "Epoch 33/150\n",
      "6/6 [==============================] - 0s 6ms/step - loss: 326.2878 - mae: 16.1788 - val_loss: 260.2804 - val_mae: 14.9784\n",
      "Epoch 34/150\n",
      "6/6 [==============================] - 0s 6ms/step - loss: 314.8394 - mae: 15.8259 - val_loss: 251.0425 - val_mae: 14.6590\n",
      "Epoch 35/150\n",
      "6/6 [==============================] - 0s 6ms/step - loss: 301.8484 - mae: 15.4031 - val_loss: 242.0846 - val_mae: 14.3517\n",
      "Epoch 36/150\n",
      "6/6 [==============================] - 0s 6ms/step - loss: 289.6143 - mae: 14.9826 - val_loss: 233.7590 - val_mae: 14.0605\n",
      "Epoch 37/150\n",
      "6/6 [==============================] - 0s 7ms/step - loss: 278.0966 - mae: 14.5942 - val_loss: 223.6326 - val_mae: 13.7161\n",
      "Epoch 38/150\n",
      "6/6 [==============================] - 0s 6ms/step - loss: 264.7858 - mae: 14.1229 - val_loss: 215.5949 - val_mae: 13.4484\n",
      "Epoch 39/150\n",
      "6/6 [==============================] - 0s 6ms/step - loss: 253.6573 - mae: 13.7093 - val_loss: 208.5839 - val_mae: 13.2118\n",
      "Epoch 40/150\n",
      "6/6 [==============================] - 0s 6ms/step - loss: 244.1168 - mae: 13.3639 - val_loss: 200.5522 - val_mae: 12.9338\n",
      "Epoch 41/150\n",
      "6/6 [==============================] - 0s 6ms/step - loss: 233.4039 - mae: 12.9721 - val_loss: 192.6568 - val_mae: 12.6417\n",
      "Epoch 42/150\n",
      "6/6 [==============================] - 0s 6ms/step - loss: 223.1539 - mae: 12.5793 - val_loss: 185.0914 - val_mae: 12.3562\n",
      "Epoch 43/150\n",
      "6/6 [==============================] - 0s 6ms/step - loss: 213.7259 - mae: 12.2248 - val_loss: 178.7651 - val_mae: 12.1286\n",
      "Epoch 44/150\n",
      "6/6 [==============================] - 0s 6ms/step - loss: 205.5959 - mae: 11.9205 - val_loss: 171.9478 - val_mae: 11.8715\n",
      "Epoch 45/150\n",
      "6/6 [==============================] - 0s 6ms/step - loss: 197.3139 - mae: 11.6124 - val_loss: 165.3154 - val_mae: 11.6318\n",
      "Epoch 46/150\n",
      "6/6 [==============================] - 0s 6ms/step - loss: 189.3345 - mae: 11.3258 - val_loss: 157.2108 - val_mae: 11.3246\n",
      "Epoch 47/150\n",
      "6/6 [==============================] - 0s 6ms/step - loss: 180.1368 - mae: 10.9807 - val_loss: 151.2860 - val_mae: 11.0798\n",
      "Epoch 48/150\n",
      "6/6 [==============================] - 0s 6ms/step - loss: 173.3905 - mae: 10.7222 - val_loss: 145.6069 - val_mae: 10.8320\n",
      "Epoch 49/150\n",
      "6/6 [==============================] - 0s 6ms/step - loss: 167.0116 - mae: 10.4838 - val_loss: 139.5386 - val_mae: 10.5656\n",
      "Epoch 50/150\n",
      "6/6 [==============================] - 0s 6ms/step - loss: 160.4686 - mae: 10.2273 - val_loss: 133.8153 - val_mae: 10.3305\n",
      "Epoch 51/150\n",
      "6/6 [==============================] - 0s 6ms/step - loss: 154.5325 - mae: 9.9983 - val_loss: 128.0930 - val_mae: 10.0849\n",
      "Epoch 52/150\n",
      "6/6 [==============================] - 0s 5ms/step - loss: 148.7937 - mae: 9.7715 - val_loss: 122.6549 - val_mae: 9.8368\n",
      "Epoch 53/150\n",
      "6/6 [==============================] - 0s 6ms/step - loss: 143.4171 - mae: 9.5561 - val_loss: 117.9702 - val_mae: 9.6228\n",
      "Epoch 54/150\n",
      "6/6 [==============================] - 0s 5ms/step - loss: 138.6569 - mae: 9.3530 - val_loss: 114.4496 - val_mae: 9.4754\n",
      "Epoch 55/150\n",
      "6/6 [==============================] - 0s 6ms/step - loss: 135.0410 - mae: 9.2082 - val_loss: 109.0827 - val_mae: 9.2147\n",
      "Epoch 56/150\n",
      "6/6 [==============================] - 0s 6ms/step - loss: 130.0227 - mae: 8.9884 - val_loss: 105.5688 - val_mae: 9.0445\n",
      "Epoch 57/150\n",
      "6/6 [==============================] - 0s 6ms/step - loss: 126.3056 - mae: 8.8183 - val_loss: 101.6928 - val_mae: 8.8654\n",
      "Epoch 58/150\n",
      "6/6 [==============================] - 0s 6ms/step - loss: 122.2883 - mae: 8.6443 - val_loss: 97.3635 - val_mae: 8.6450\n",
      "Epoch 59/150\n",
      "6/6 [==============================] - 0s 6ms/step - loss: 118.0854 - mae: 8.4368 - val_loss: 92.9939 - val_mae: 8.4365\n",
      "Epoch 60/150\n",
      "6/6 [==============================] - 0s 6ms/step - loss: 113.7028 - mae: 8.2328 - val_loss: 88.4263 - val_mae: 8.2136\n",
      "Epoch 61/150\n",
      "6/6 [==============================] - 0s 6ms/step - loss: 109.3891 - mae: 8.0225 - val_loss: 84.1850 - val_mae: 7.9991\n",
      "Epoch 62/150\n",
      "6/6 [==============================] - 0s 6ms/step - loss: 105.3650 - mae: 7.8296 - val_loss: 79.7724 - val_mae: 7.7660\n",
      "Epoch 63/150\n",
      "6/6 [==============================] - 0s 6ms/step - loss: 101.2081 - mae: 7.6281 - val_loss: 75.5141 - val_mae: 7.5272\n",
      "Epoch 64/150\n",
      "6/6 [==============================] - 0s 5ms/step - loss: 97.0426 - mae: 7.4225 - val_loss: 71.4282 - val_mae: 7.2870\n",
      "Epoch 65/150\n",
      "6/6 [==============================] - 0s 6ms/step - loss: 92.9285 - mae: 7.2289 - val_loss: 68.4293 - val_mae: 7.0941\n",
      "Epoch 66/150\n",
      "6/6 [==============================] - 0s 5ms/step - loss: 89.2613 - mae: 7.0533 - val_loss: 64.8493 - val_mae: 6.8979\n",
      "Epoch 67/150\n",
      "6/6 [==============================] - 0s 6ms/step - loss: 85.7006 - mae: 6.8897 - val_loss: 61.3535 - val_mae: 6.7105\n",
      "Epoch 68/150\n",
      "6/6 [==============================] - 0s 6ms/step - loss: 82.2935 - mae: 6.7145 - val_loss: 58.6306 - val_mae: 6.5459\n",
      "Epoch 69/150\n",
      "6/6 [==============================] - 0s 6ms/step - loss: 79.1448 - mae: 6.5676 - val_loss: 55.7712 - val_mae: 6.3600\n",
      "Epoch 70/150\n",
      "6/6 [==============================] - 0s 5ms/step - loss: 75.7414 - mae: 6.3906 - val_loss: 53.2610 - val_mae: 6.2106\n",
      "Epoch 71/150\n",
      "6/6 [==============================] - 0s 6ms/step - loss: 72.8272 - mae: 6.2381 - val_loss: 49.4196 - val_mae: 5.9800\n",
      "Epoch 72/150\n",
      "6/6 [==============================] - 0s 5ms/step - loss: 68.9820 - mae: 6.0435 - val_loss: 46.6086 - val_mae: 5.7967\n",
      "Epoch 73/150\n",
      "6/6 [==============================] - 0s 6ms/step - loss: 66.4168 - mae: 5.8881 - val_loss: 44.2635 - val_mae: 5.6357\n",
      "Epoch 74/150\n",
      "6/6 [==============================] - 0s 6ms/step - loss: 63.9108 - mae: 5.7434 - val_loss: 42.1123 - val_mae: 5.4767\n",
      "Epoch 75/150\n",
      "6/6 [==============================] - 0s 6ms/step - loss: 61.4035 - mae: 5.5987 - val_loss: 39.4922 - val_mae: 5.2887\n",
      "Epoch 76/150\n",
      "6/6 [==============================] - 0s 6ms/step - loss: 58.4168 - mae: 5.4350 - val_loss: 36.6841 - val_mae: 5.0648\n",
      "Epoch 77/150\n",
      "6/6 [==============================] - 0s 6ms/step - loss: 55.6901 - mae: 5.2683 - val_loss: 34.3803 - val_mae: 4.8645\n",
      "Epoch 78/150\n",
      "6/6 [==============================] - 0s 6ms/step - loss: 53.3715 - mae: 5.1313 - val_loss: 32.3742 - val_mae: 4.6826\n",
      "Epoch 79/150\n",
      "6/6 [==============================] - 0s 6ms/step - loss: 50.6421 - mae: 4.9711 - val_loss: 30.0543 - val_mae: 4.4620\n",
      "Epoch 80/150\n",
      "6/6 [==============================] - 0s 6ms/step - loss: 48.3193 - mae: 4.8382 - val_loss: 28.6258 - val_mae: 4.3277\n",
      "Epoch 81/150\n",
      "6/6 [==============================] - 0s 6ms/step - loss: 46.4769 - mae: 4.7256 - val_loss: 27.6679 - val_mae: 4.2334\n",
      "Epoch 82/150\n",
      "6/6 [==============================] - 0s 6ms/step - loss: 44.9180 - mae: 4.6269 - val_loss: 25.9142 - val_mae: 4.0513\n",
      "Epoch 83/150\n",
      "6/6 [==============================] - 0s 7ms/step - loss: 42.9697 - mae: 4.5080 - val_loss: 24.9683 - val_mae: 3.9442\n",
      "Epoch 84/150\n",
      "6/6 [==============================] - 0s 6ms/step - loss: 41.6328 - mae: 4.4247 - val_loss: 24.1367 - val_mae: 3.8545\n",
      "Epoch 85/150\n",
      "6/6 [==============================] - 0s 6ms/step - loss: 40.4343 - mae: 4.3465 - val_loss: 22.8994 - val_mae: 3.6956\n",
      "Epoch 86/150\n",
      "6/6 [==============================] - 0s 6ms/step - loss: 38.9722 - mae: 4.2443 - val_loss: 21.6444 - val_mae: 3.5462\n",
      "Epoch 87/150\n",
      "6/6 [==============================] - 0s 10ms/step - loss: 37.3077 - mae: 4.1398 - val_loss: 20.7504 - val_mae: 3.4417\n",
      "Epoch 88/150\n",
      "6/6 [==============================] - 0s 6ms/step - loss: 36.3263 - mae: 4.0702 - val_loss: 20.0830 - val_mae: 3.3731\n",
      "Epoch 89/150\n",
      "6/6 [==============================] - 0s 6ms/step - loss: 35.3293 - mae: 4.0048 - val_loss: 19.6407 - val_mae: 3.3239\n",
      "Epoch 90/150\n",
      "6/6 [==============================] - 0s 6ms/step - loss: 34.5902 - mae: 3.9504 - val_loss: 19.4192 - val_mae: 3.2931\n",
      "Epoch 91/150\n",
      "6/6 [==============================] - 0s 6ms/step - loss: 34.0272 - mae: 3.9020 - val_loss: 18.9282 - val_mae: 3.2439\n",
      "Epoch 92/150\n",
      "6/6 [==============================] - 0s 6ms/step - loss: 33.1306 - mae: 3.8441 - val_loss: 18.8496 - val_mae: 3.2293\n",
      "Epoch 93/150\n",
      "6/6 [==============================] - 0s 6ms/step - loss: 32.6391 - mae: 3.8106 - val_loss: 18.7314 - val_mae: 3.2179\n",
      "Epoch 94/150\n",
      "6/6 [==============================] - 0s 6ms/step - loss: 32.1798 - mae: 3.7811 - val_loss: 18.5207 - val_mae: 3.1974\n",
      "Epoch 95/150\n",
      "6/6 [==============================] - 0s 6ms/step - loss: 31.7261 - mae: 3.7411 - val_loss: 18.3794 - val_mae: 3.1897\n",
      "Epoch 96/150\n",
      "6/6 [==============================] - 0s 6ms/step - loss: 31.4192 - mae: 3.7176 - val_loss: 18.2418 - val_mae: 3.1863\n",
      "Epoch 97/150\n",
      "6/6 [==============================] - 0s 6ms/step - loss: 30.9519 - mae: 3.6948 - val_loss: 18.2230 - val_mae: 3.1901\n",
      "Epoch 98/150\n",
      "6/6 [==============================] - 0s 6ms/step - loss: 30.6005 - mae: 3.6765 - val_loss: 17.7454 - val_mae: 3.1699\n",
      "Epoch 99/150\n",
      "6/6 [==============================] - 0s 6ms/step - loss: 29.9654 - mae: 3.6361 - val_loss: 17.6181 - val_mae: 3.1703\n",
      "Epoch 100/150\n",
      "6/6 [==============================] - 0s 6ms/step - loss: 29.5701 - mae: 3.6147 - val_loss: 17.4660 - val_mae: 3.1626\n",
      "Epoch 101/150\n",
      "6/6 [==============================] - 0s 6ms/step - loss: 29.2742 - mae: 3.5898 - val_loss: 17.4291 - val_mae: 3.1922\n",
      "Epoch 102/150\n",
      "6/6 [==============================] - 0s 6ms/step - loss: 28.9536 - mae: 3.5821 - val_loss: 17.3116 - val_mae: 3.1421\n",
      "Epoch 103/150\n",
      "6/6 [==============================] - 0s 7ms/step - loss: 28.5991 - mae: 3.5341 - val_loss: 17.2442 - val_mae: 3.1457\n",
      "Epoch 104/150\n",
      "6/6 [==============================] - 0s 7ms/step - loss: 28.2223 - mae: 3.5127 - val_loss: 17.2245 - val_mae: 3.1903\n",
      "Epoch 105/150\n",
      "6/6 [==============================] - 0s 7ms/step - loss: 27.9226 - mae: 3.5218 - val_loss: 16.8954 - val_mae: 3.1145\n",
      "Epoch 106/150\n",
      "6/6 [==============================] - 0s 6ms/step - loss: 27.6595 - mae: 3.4731 - val_loss: 16.9291 - val_mae: 3.1075\n",
      "Epoch 107/150\n",
      "6/6 [==============================] - 0s 7ms/step - loss: 27.4499 - mae: 3.4578 - val_loss: 16.9097 - val_mae: 3.1167\n",
      "Epoch 108/150\n",
      "6/6 [==============================] - 0s 6ms/step - loss: 27.1341 - mae: 3.4472 - val_loss: 16.9450 - val_mae: 3.1216\n",
      "Epoch 109/150\n",
      "6/6 [==============================] - 0s 6ms/step - loss: 26.8422 - mae: 3.4428 - val_loss: 16.8055 - val_mae: 3.1077\n",
      "Epoch 110/150\n",
      "6/6 [==============================] - 0s 7ms/step - loss: 26.6151 - mae: 3.4151 - val_loss: 16.5442 - val_mae: 3.0852\n",
      "Epoch 111/150\n",
      "6/6 [==============================] - 0s 8ms/step - loss: 26.5002 - mae: 3.4103 - val_loss: 16.6869 - val_mae: 3.1018\n",
      "Epoch 112/150\n",
      "6/6 [==============================] - 0s 7ms/step - loss: 26.2330 - mae: 3.3999 - val_loss: 16.6579 - val_mae: 3.0916\n",
      "Epoch 113/150\n",
      "6/6 [==============================] - 0s 6ms/step - loss: 26.0525 - mae: 3.3929 - val_loss: 16.5928 - val_mae: 3.0722\n",
      "Epoch 114/150\n",
      "6/6 [==============================] - 0s 6ms/step - loss: 25.8973 - mae: 3.3808 - val_loss: 16.5537 - val_mae: 3.0795\n",
      "Epoch 115/150\n",
      "6/6 [==============================] - 0s 6ms/step - loss: 25.6659 - mae: 3.3737 - val_loss: 16.5327 - val_mae: 3.1250\n",
      "Epoch 116/150\n",
      "6/6 [==============================] - 0s 7ms/step - loss: 25.2762 - mae: 3.3469 - val_loss: 16.3910 - val_mae: 3.1058\n",
      "Epoch 117/150\n",
      "6/6 [==============================] - 0s 6ms/step - loss: 25.0906 - mae: 3.3479 - val_loss: 16.5400 - val_mae: 3.0954\n",
      "Epoch 118/150\n",
      "6/6 [==============================] - 0s 6ms/step - loss: 24.8051 - mae: 3.3241 - val_loss: 16.6011 - val_mae: 3.1415\n",
      "Epoch 119/150\n",
      "6/6 [==============================] - 0s 7ms/step - loss: 24.6210 - mae: 3.3204 - val_loss: 16.4089 - val_mae: 3.0796\n",
      "Epoch 120/150\n",
      "6/6 [==============================] - 0s 8ms/step - loss: 24.4691 - mae: 3.3194 - val_loss: 16.2545 - val_mae: 3.0602\n",
      "Epoch 121/150\n",
      "6/6 [==============================] - 0s 6ms/step - loss: 24.1943 - mae: 3.2728 - val_loss: 15.9010 - val_mae: 3.0492\n",
      "Epoch 122/150\n",
      "6/6 [==============================] - 0s 6ms/step - loss: 24.0345 - mae: 3.2507 - val_loss: 15.7269 - val_mae: 2.9896\n",
      "Epoch 123/150\n",
      "6/6 [==============================] - 0s 6ms/step - loss: 24.0286 - mae: 3.2403 - val_loss: 15.6654 - val_mae: 3.0370\n",
      "Epoch 124/150\n",
      "6/6 [==============================] - 0s 7ms/step - loss: 23.7548 - mae: 3.2315 - val_loss: 15.6564 - val_mae: 3.0374\n",
      "Epoch 125/150\n",
      "6/6 [==============================] - 0s 6ms/step - loss: 23.5645 - mae: 3.2181 - val_loss: 15.7016 - val_mae: 3.0618\n",
      "Epoch 126/150\n",
      "6/6 [==============================] - 0s 7ms/step - loss: 23.3644 - mae: 3.2143 - val_loss: 16.1904 - val_mae: 3.1188\n",
      "Epoch 127/150\n",
      "6/6 [==============================] - 0s 6ms/step - loss: 23.1602 - mae: 3.2159 - val_loss: 16.1617 - val_mae: 3.1182\n",
      "Epoch 128/150\n",
      "6/6 [==============================] - 0s 6ms/step - loss: 23.0248 - mae: 3.2179 - val_loss: 15.9791 - val_mae: 3.0578\n",
      "Epoch 129/150\n",
      "6/6 [==============================] - 0s 6ms/step - loss: 22.8246 - mae: 3.1856 - val_loss: 16.2143 - val_mae: 3.1345\n",
      "Epoch 130/150\n",
      "6/6 [==============================] - 0s 7ms/step - loss: 22.7044 - mae: 3.1915 - val_loss: 15.6667 - val_mae: 3.0194\n",
      "Epoch 131/150\n",
      "6/6 [==============================] - 0s 7ms/step - loss: 22.5091 - mae: 3.1527 - val_loss: 15.2302 - val_mae: 2.9732\n",
      "Epoch 132/150\n",
      "6/6 [==============================] - 0s 7ms/step - loss: 22.4094 - mae: 3.1324 - val_loss: 15.1743 - val_mae: 2.9895\n",
      "Epoch 133/150\n",
      "6/6 [==============================] - 0s 9ms/step - loss: 22.2250 - mae: 3.1203 - val_loss: 15.2520 - val_mae: 3.0196\n",
      "Epoch 134/150\n",
      "6/6 [==============================] - 0s 7ms/step - loss: 22.0934 - mae: 3.1167 - val_loss: 15.0925 - val_mae: 2.9966\n",
      "Epoch 135/150\n",
      "6/6 [==============================] - 0s 7ms/step - loss: 21.8289 - mae: 3.0984 - val_loss: 15.1871 - val_mae: 3.0058\n",
      "Epoch 136/150\n",
      "6/6 [==============================] - 0s 6ms/step - loss: 21.6504 - mae: 3.1011 - val_loss: 15.7257 - val_mae: 3.0843\n",
      "Epoch 137/150\n",
      "6/6 [==============================] - 0s 6ms/step - loss: 21.6239 - mae: 3.1178 - val_loss: 15.3974 - val_mae: 3.0417\n",
      "Epoch 138/150\n",
      "6/6 [==============================] - 0s 6ms/step - loss: 21.4006 - mae: 3.0882 - val_loss: 15.2423 - val_mae: 3.0005\n",
      "Epoch 139/150\n",
      "6/6 [==============================] - 0s 6ms/step - loss: 21.2171 - mae: 3.0674 - val_loss: 15.3078 - val_mae: 3.0028\n",
      "Epoch 140/150\n",
      "6/6 [==============================] - 0s 7ms/step - loss: 21.1170 - mae: 3.0599 - val_loss: 14.6394 - val_mae: 2.9134\n",
      "Epoch 141/150\n",
      "6/6 [==============================] - 0s 6ms/step - loss: 21.0039 - mae: 3.0287 - val_loss: 14.5871 - val_mae: 2.9175\n",
      "Epoch 142/150\n",
      "6/6 [==============================] - 0s 6ms/step - loss: 20.8590 - mae: 3.0250 - val_loss: 14.6340 - val_mae: 2.9034\n",
      "Epoch 143/150\n",
      "6/6 [==============================] - 0s 6ms/step - loss: 20.7361 - mae: 3.0357 - val_loss: 14.6701 - val_mae: 2.9133\n",
      "Epoch 144/150\n",
      "6/6 [==============================] - 0s 6ms/step - loss: 20.6312 - mae: 3.0335 - val_loss: 14.7132 - val_mae: 2.9257\n",
      "Epoch 145/150\n",
      "6/6 [==============================] - 0s 6ms/step - loss: 20.4306 - mae: 3.0238 - val_loss: 15.1461 - val_mae: 2.9749\n",
      "Epoch 146/150\n",
      "6/6 [==============================] - 0s 6ms/step - loss: 20.2942 - mae: 3.0173 - val_loss: 15.2305 - val_mae: 2.9971\n",
      "Epoch 147/150\n",
      "6/6 [==============================] - 0s 6ms/step - loss: 20.1647 - mae: 3.0187 - val_loss: 14.9531 - val_mae: 2.9681\n",
      "Epoch 148/150\n",
      "6/6 [==============================] - 0s 7ms/step - loss: 20.0386 - mae: 3.0179 - val_loss: 14.0241 - val_mae: 2.8397\n",
      "Epoch 149/150\n",
      "6/6 [==============================] - 0s 6ms/step - loss: 19.9384 - mae: 2.9818 - val_loss: 13.9550 - val_mae: 2.8173\n",
      "Epoch 150/150\n",
      "6/6 [==============================] - 0s 7ms/step - loss: 19.8380 - mae: 2.9741 - val_loss: 13.7457 - val_mae: 2.7957\n"
     ]
    }
   ],
   "source": [
    "es = EarlyStopping(monitor = 'val_loss', min_delta = 0.01, patience = 10, verbose = 1, mode = 'auto')\n",
    "\n",
    "historico = model.fit(x_treino, \n",
    "                             y_treino, \n",
    "                             epochs = 150, \n",
    "                             batch_size=64,\n",
    "                             verbose = 1,\n",
    "                             validation_data = (x_val, y_val),\n",
    "                             callbacks = [es])"
   ]
  },
  {
   "cell_type": "code",
   "execution_count": 31,
   "id": "fa0890a5-dc69-400e-8a13-722860b50644",
   "metadata": {},
   "outputs": [
    {
     "name": "stdout",
     "output_type": "stream",
     "text": [
      "4/4 [==============================] - 0s 2ms/step\n"
     ]
    }
   ],
   "source": [
    "pred_simples = model.predict(x_test)"
   ]
  },
  {
   "cell_type": "code",
   "execution_count": 32,
   "id": "3970c682-585c-48e5-b9a2-e3b73c113892",
   "metadata": {},
   "outputs": [
    {
     "data": {
      "text/plain": [
       "3.9184949687882975"
      ]
     },
     "execution_count": 32,
     "metadata": {},
     "output_type": "execute_result"
    }
   ],
   "source": [
    "from sklearn.metrics import mean_absolute_error\n",
    "\n",
    "mean_absolute_error(y_test, pred_simples)"
   ]
  },
  {
   "cell_type": "code",
   "execution_count": 33,
   "id": "53a46a09-90d8-46fb-ab43-7867915ec3d6",
   "metadata": {},
   "outputs": [
    {
     "data": {
      "image/png": "[encoded data removed]",
      "text/plain": [
       "<Figure size 432x288 with 1 Axes>"
      ]
     },
     "metadata": {
      "needs_background": "light"
     },
     "output_type": "display_data"
    }
   ],
   "source": [
    "loss = historico.history['loss']\n",
    "val_loss = historico.history['val_loss']\n",
    "epochs = range(len(loss))\n",
    "plt.figure()\n",
    "plt.plot(epochs, loss, 'bo', label = 'Training loss')\n",
    "plt.plot(epochs, val_loss, 'b', label = 'Validation loss')\n",
    "plt.title('Training and validation loss')\n",
    "plt.legend()\n",
    "plt.show()"
   ]
  }
 ],
 "metadata": {
  "kernelspec": {
   "display_name": "Python 3",
   "language": "python",
   "name": "python3"
  },
  "language_info": {
   "codemirror_mode": {
    "name": "ipython",
    "version": 3
   },
   "file_extension": ".py",
   "mimetype": "text/x-python",
   "name": "python",
   "nbconvert_exporter": "python",
   "pygments_lexer": "ipython3",
   "version": "3.8.8"
  }
 },
 "nbformat": 4,
 "nbformat_minor": 5
}
