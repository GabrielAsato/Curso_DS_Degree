{
 "cells": [
  {
   "cell_type": "markdown",
   "id": "4476026a-607d-4db6-9e0d-9d3e22f08651",
   "metadata": {},
   "source": [
    "# Introdução ao Curso de Redes Neurais\n",
    "\n",
    "Matemática de Redes Neurais:\n",
    "\n",
    "https://www.youtube.com/watch?v=GKZoOHXGcLo&list=PLblh5JKOoLUIxGDQs4LFFD--41Vzf-ME1&index=7\n",
    "\n",
    "----"
   ]
  },
  {
   "cell_type": "markdown",
   "id": "50774741-cd65-4a2b-8211-425eb861a254",
   "metadata": {},
   "source": [
    "### Ementa\n",
    "- Redes Neurais : Perceptron, MLP, Regularização\n",
    "- Redes Convolucionais : Convolução, Topologia, Arquiteturas, Transfer Learning\n",
    "- Redes Recorrentes : RNNs, LSTM, GRU"
   ]
  },
  {
   "cell_type": "markdown",
   "id": "bfd37c80-8dd3-4a47-9772-63e6b342517c",
   "metadata": {},
   "source": [
    "### Avaliação\n",
    "- 1) Projeto: Redes Convolucionais. Arquitetura existente (ResNet, VGG, EfficientNet)\n",
    "- 2) Mini testes\n",
    "- 3) Exercícios em sala"
   ]
  },
  {
   "cell_type": "markdown",
   "id": "eb928fe8-c27a-47e9-943f-8deb5c4cf0d5",
   "metadata": {},
   "source": [
    "#### 1) O que são?\n",
    "- Algoritmo de aprendizado de máquina (mais usado como supervisionado)\n",
    "- Aprendizado por meio de dados históricos\n",
    "- Composta por uma combinação de neurônios\n",
    "- Neurônio : Soma ponderada\n",
    "\n",
    "#### 2) Redes Neurais tradicionais\n",
    "- \n",
    "\n",
    "#### 3) Topologia\n",
    "- \n",
    "\n",
    "#### 4) Aprendizado\n",
    "- \n",
    "\n",
    "#### 5) Item\n",
    "- \n"
   ]
  }
 ],
 "metadata": {
  "kernelspec": {
   "display_name": "Python 3",
   "language": "python",
   "name": "python3"
  },
  "language_info": {
   "codemirror_mode": {
    "name": "ipython",
    "version": 3
   },
   "file_extension": ".py",
   "mimetype": "text/x-python",
   "name": "python",
   "nbconvert_exporter": "python",
   "pygments_lexer": "ipython3",
   "version": "3.8.8"
  }
 },
 "nbformat": 4,
 "nbformat_minor": 5
}
