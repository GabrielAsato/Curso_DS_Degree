{
 "cells": [
  {
   "cell_type": "code",
   "execution_count": 1,
   "id": "849d3482",
   "metadata": {},
   "outputs": [],
   "source": [
    "from tensorflow import keras\n",
    "import tensorflow as tf\n",
    "import matplotlib.pyplot as plt\n",
    "import numpy as np\n",
    "from tensorflow.keras import datasets\n",
    "from sklearn.preprocessing import OneHotEncoder"
   ]
  },
  {
   "cell_type": "code",
   "execution_count": 7,
   "id": "ffd9e645",
   "metadata": {},
   "outputs": [],
   "source": [
    "from tensorflow import keras\n",
    "from tensorflow.keras import layers\n",
    "\n",
    "data_augmentation = tf.keras.Sequential(\n",
    "    \n",
    ")"
   ]
  },
  {
   "cell_type": "code",
   "execution_count": 8,
   "id": "e8f7171c",
   "metadata": {},
   "outputs": [],
   "source": [
    "base_model = tf.keras.applications.Xception(\n",
    "    weights=\"imagenet\",  # Load weights pre-trained on ImageNet.\n",
    "    input_shape=(150, 150, 3),\n",
    "    include_top=False,\n",
    ")"
   ]
  },
  {
   "cell_type": "markdown",
   "id": "de0c339b",
   "metadata": {},
   "source": [
    "#### Redes Neurais\n",
    "\n",
    "![Title](imgs/rn.png)\n",
    "\n",
    "#### Introdução a Redes Convolucionais\n",
    "* Abordagem de redes neurais que possui pelo menos uma camada convolucional\n",
    "- composição de neurônios em estruturas conhecidas como filtros\n",
    "- Aprende informações detalhadas \n",
    "- Estrutura em camadas com diferentes filtros\n",
    "\n",
    "![Title](imgs/cnn.png)\n"
   ]
  },
  {
   "cell_type": "markdown",
   "id": "d549ae25",
   "metadata": {},
   "source": [
    "### Prática\n",
    "1. Aquisição e pré-processamento dos dados\n",
    "2. Treinamento\n",
    "* Implementar arquitetura\n",
    "* Definir otimizadores, métricas e regularizadores\n",
    "3. Teste (avaliação de desempenho)"
   ]
  },
  {
   "cell_type": "markdown",
   "id": "ca61a45a",
   "metadata": {},
   "source": [
    "#### 1. Aquisição dos dados\n",
    "\n",
    "![Title](imgs/mnist_digits_sample.jpg) "
   ]
  },
  {
   "cell_type": "code",
   "execution_count": 6,
   "id": "0be97072",
   "metadata": {},
   "outputs": [],
   "source": [
    "(x_train, y_train), (x_test, y_test) = datasets.mnist.load_data()"
   ]
  },
  {
   "cell_type": "code",
   "execution_count": 7,
   "id": "70e60765",
   "metadata": {},
   "outputs": [
    {
     "name": "stdout",
     "output_type": "stream",
     "text": [
      "(60000, 28, 28)\n",
      "(10000, 28, 28)\n",
      "(10000,)\n"
     ]
    }
   ],
   "source": [
    "print(x_train.shape)\n",
    "print(x_test.shape)\n",
    "print(y_test.shape)"
   ]
  },
  {
   "cell_type": "code",
   "execution_count": 8,
   "id": "29f36dcd",
   "metadata": {},
   "outputs": [],
   "source": [
    "x_train = np.expand_dims(x_train,axis=-1)\n",
    "x_test = np.expand_dims(x_test,axis=-1)"
   ]
  },
  {
   "cell_type": "code",
   "execution_count": 9,
   "id": "87348262",
   "metadata": {},
   "outputs": [
    {
     "data": {
      "image/png": "[encoded data removed]",
      "text/plain": [
       "<Figure size 432x288 with 1 Axes>"
      ]
     },
     "metadata": {
      "needs_background": "light"
     },
     "output_type": "display_data"
    }
   ],
   "source": [
    "# pick a sample to plot\n",
    "sample = 10\n",
    "image = x_train[sample]\n",
    "\n",
    "# plot the sample\n",
    "fig = plt.figure\n",
    "plt.imshow(image, cmap='gray')\n",
    "plt.show()"
   ]
  },
  {
   "cell_type": "markdown",
   "id": "0b3eb79c",
   "metadata": {},
   "source": [
    "#### 2. Pré-processamento"
   ]
  },
  {
   "cell_type": "markdown",
   "id": "d00677a0",
   "metadata": {},
   "source": [
    "#### Normalização"
   ]
  },
  {
   "cell_type": "code",
   "execution_count": 10,
   "id": "346325c0",
   "metadata": {},
   "outputs": [],
   "source": [
    "m = np.max(x_train)\n",
    "x_train = x_train/m\n",
    "x_test = x_test/m"
   ]
  },
  {
   "cell_type": "markdown",
   "id": "4e0ccb1f",
   "metadata": {},
   "source": [
    "#### One hot encoder na variável alvo"
   ]
  },
  {
   "cell_type": "code",
   "execution_count": 11,
   "id": "67323164",
   "metadata": {},
   "outputs": [
    {
     "data": {
      "text/plain": [
       "array([5, 0, 4, ..., 5, 6, 8], dtype=uint8)"
      ]
     },
     "execution_count": 11,
     "metadata": {},
     "output_type": "execute_result"
    }
   ],
   "source": [
    "y_train"
   ]
  },
  {
   "cell_type": "code",
   "execution_count": 12,
   "id": "6ea284a3",
   "metadata": {},
   "outputs": [],
   "source": [
    "hot = OneHotEncoder()\n",
    "y_train = hot.fit_transform(y_train.reshape(-1, 1)).toarray()\n",
    "y_test = hot.transform(y_test.reshape(-1, 1)).toarray()"
   ]
  },
  {
   "cell_type": "code",
   "execution_count": 13,
   "id": "e8739951",
   "metadata": {},
   "outputs": [
    {
     "data": {
      "text/plain": [
       "array([[0., 0., 0., ..., 0., 0., 0.],\n",
       "       [1., 0., 0., ..., 0., 0., 0.],\n",
       "       [0., 0., 0., ..., 0., 0., 0.],\n",
       "       ...,\n",
       "       [0., 0., 0., ..., 0., 0., 0.],\n",
       "       [0., 0., 0., ..., 0., 0., 0.],\n",
       "       [0., 0., 0., ..., 0., 1., 0.]])"
      ]
     },
     "execution_count": 13,
     "metadata": {},
     "output_type": "execute_result"
    }
   ],
   "source": [
    "y_train"
   ]
  },
  {
   "cell_type": "markdown",
   "id": "c03fe70d",
   "metadata": {},
   "source": [
    "#### 3. Particionamento de base de dados"
   ]
  },
  {
   "cell_type": "code",
   "execution_count": 14,
   "id": "89855dbc",
   "metadata": {},
   "outputs": [
    {
     "data": {
      "text/plain": [
       "((48000, 28, 28, 1),\n",
       " (12000, 28, 28, 1),\n",
       " (10000, 28, 28, 1),\n",
       " (48000, 10),\n",
       " (12000, 10),\n",
       " (10000, 10))"
      ]
     },
     "execution_count": 14,
     "metadata": {},
     "output_type": "execute_result"
    }
   ],
   "source": [
    "from sklearn.model_selection import train_test_split\n",
    "\n",
    "x_treino, x_val, y_treino, y_val = train_test_split(x_train, y_train, test_size = 0.2, random_state = 13)\n",
    "\n",
    "x_treino.shape, x_val.shape, x_test.shape, y_treino.shape, y_val.shape, y_test.shape, "
   ]
  },
  {
   "cell_type": "code",
   "execution_count": 16,
   "id": "ccfa6335",
   "metadata": {},
   "outputs": [],
   "source": [
    "from tensorflow.keras.layers import Dense, Activation, Dropout, Flatten, Conv2D, MaxPooling2D\n",
    "from tensorflow.keras.models import Sequential\n",
    "from tensorflow.keras.callbacks import EarlyStopping"
   ]
  },
  {
   "cell_type": "markdown",
   "id": "68e916e7",
   "metadata": {},
   "source": [
    "#### 4. Treinamento - definição de arquitetura\n",
    "1. Definir quantas camadas são necessárias par o problema\n",
    "2. A quantidade de neurônios em cada camada\n",
    "3. A função de ativação de cada camada\n",
    "4. A função de ativação da saída\n",
    "* softmax (saída não binária)\n",
    "* sigmoid (saída binária)"
   ]
  },
  {
   "cell_type": "code",
   "execution_count": 17,
   "id": "063e35bd",
   "metadata": {},
   "outputs": [
    {
     "name": "stdout",
     "output_type": "stream",
     "text": [
      "Model: \"sequential\"\n",
      "_________________________________________________________________\n",
      "Layer (type)                 Output Shape              Param #   \n",
      "=================================================================\n",
      "conv2d (Conv2D)              (None, 24, 24, 25)        650       \n",
      "_________________________________________________________________\n",
      "max_pooling2d (MaxPooling2D) (None, 12, 12, 25)        0         \n",
      "_________________________________________________________________\n",
      "conv2d_1 (Conv2D)            (None, 8, 8, 25)          15650     \n",
      "_________________________________________________________________\n",
      "max_pooling2d_1 (MaxPooling2 (None, 4, 4, 25)          0         \n",
      "_________________________________________________________________\n",
      "flatten (Flatten)            (None, 400)               0         \n",
      "_________________________________________________________________\n",
      "dense (Dense)                (None, 10)                4010      \n",
      "_________________________________________________________________\n",
      "activation (Activation)      (None, 10)                0         \n",
      "=================================================================\n",
      "Total params: 20,310\n",
      "Trainable params: 20,310\n",
      "Non-trainable params: 0\n",
      "_________________________________________________________________\n"
     ]
    }
   ],
   "source": [
    "rede_simples = Sequential()\n",
    "\n",
    "rede_simples.add(Conv2D(25, (5,5), activation='relu', input_shape=(28,28,1)))\n",
    "rede_simples.add(MaxPooling2D())\n",
    "rede_simples.add(Conv2D(25, (5,5), activation='relu'))\n",
    "rede_simples.add(MaxPooling2D())\n",
    "rede_simples.add(Flatten())\n",
    "rede_simples.add(Dense(10))\n",
    "rede_simples.add(Activation('softmax'))\n",
    "                 \n",
    "rede_simples.summary()"
   ]
  },
  {
   "cell_type": "markdown",
   "id": "96bc3311",
   "metadata": {},
   "source": [
    "### 5. Definir otimizadores\n",
    "\n",
    "![Title](imgs/otimizadores.gif) "
   ]
  },
  {
   "cell_type": "code",
   "execution_count": 18,
   "id": "13237757",
   "metadata": {},
   "outputs": [],
   "source": [
    "rede_simples.compile(loss = 'categorical_crossentropy', optimizer = 'Adam', metrics=['accuracy'])\n"
   ]
  },
  {
   "cell_type": "markdown",
   "id": "381b3f8c",
   "metadata": {},
   "source": [
    "#### 6. Treinamento\n",
    "\n",
    "1. Adicionar conjuntos de treinamento e validação\n",
    "2. Determinar a quantidade de épocas"
   ]
  },
  {
   "cell_type": "code",
   "execution_count": 19,
   "id": "197d2e09",
   "metadata": {
    "collapsed": true,
    "jupyter": {
     "outputs_hidden": true
    },
    "tags": []
   },
   "outputs": [
    {
     "name": "stderr",
     "output_type": "stream",
     "text": [
      "2022-09-30 18:05:12.051262: W tensorflow/core/platform/profile_utils/cpu_utils.cc:128] Failed to get CPU frequency: 0 Hz\n"
     ]
    },
    {
     "name": "stdout",
     "output_type": "stream",
     "text": [
      "Epoch 1/20\n",
      "1500/1500 [==============================] - 8s 5ms/step - loss: 0.2078 - accuracy: 0.9384 - val_loss: 0.0858 - val_accuracy: 0.9739\n",
      "Epoch 2/20\n",
      "1500/1500 [==============================] - 8s 5ms/step - loss: 0.0684 - accuracy: 0.9784 - val_loss: 0.0692 - val_accuracy: 0.9807\n",
      "Epoch 3/20\n",
      "1500/1500 [==============================] - 7s 5ms/step - loss: 0.0477 - accuracy: 0.9853 - val_loss: 0.0607 - val_accuracy: 0.9825\n",
      "Epoch 4/20\n",
      "1500/1500 [==============================] - 7s 5ms/step - loss: 0.0372 - accuracy: 0.9886 - val_loss: 0.0512 - val_accuracy: 0.9850\n",
      "Epoch 5/20\n",
      "1500/1500 [==============================] - 7s 5ms/step - loss: 0.0296 - accuracy: 0.9908 - val_loss: 0.0408 - val_accuracy: 0.9890\n",
      "Epoch 6/20\n",
      "1500/1500 [==============================] - 8s 5ms/step - loss: 0.0245 - accuracy: 0.9921 - val_loss: 0.0388 - val_accuracy: 0.9895\n",
      "Epoch 7/20\n",
      "1500/1500 [==============================] - 8s 5ms/step - loss: 0.0203 - accuracy: 0.9936 - val_loss: 0.0398 - val_accuracy: 0.9886\n",
      "Epoch 8/20\n",
      "1500/1500 [==============================] - 9s 6ms/step - loss: 0.0181 - accuracy: 0.9939 - val_loss: 0.0401 - val_accuracy: 0.9891\n",
      "Epoch 9/20\n",
      "1500/1500 [==============================] - 8s 5ms/step - loss: 0.0147 - accuracy: 0.9952 - val_loss: 0.0502 - val_accuracy: 0.9870\n",
      "Epoch 10/20\n",
      "1500/1500 [==============================] - 7s 5ms/step - loss: 0.0120 - accuracy: 0.9960 - val_loss: 0.0456 - val_accuracy: 0.9890\n",
      "Epoch 11/20\n",
      "1500/1500 [==============================] - 8s 6ms/step - loss: 0.0092 - accuracy: 0.9973 - val_loss: 0.0476 - val_accuracy: 0.9884\n",
      "Epoch 12/20\n",
      "1500/1500 [==============================] - 8s 6ms/step - loss: 0.0095 - accuracy: 0.9969 - val_loss: 0.0562 - val_accuracy: 0.9868\n",
      "Epoch 13/20\n",
      "1500/1500 [==============================] - 8s 5ms/step - loss: 0.0086 - accuracy: 0.9974 - val_loss: 0.0609 - val_accuracy: 0.9868\n",
      "Epoch 14/20\n",
      "1500/1500 [==============================] - 8s 5ms/step - loss: 0.0077 - accuracy: 0.9976 - val_loss: 0.0511 - val_accuracy: 0.9888\n",
      "Epoch 15/20\n",
      "1500/1500 [==============================] - 8s 5ms/step - loss: 0.0058 - accuracy: 0.9982 - val_loss: 0.0575 - val_accuracy: 0.9877\n",
      "Epoch 16/20\n",
      "1500/1500 [==============================] - 8s 5ms/step - loss: 0.0055 - accuracy: 0.9980 - val_loss: 0.0621 - val_accuracy: 0.9872\n",
      "Epoch 17/20\n",
      "1500/1500 [==============================] - 8s 5ms/step - loss: 0.0059 - accuracy: 0.9979 - val_loss: 0.0511 - val_accuracy: 0.9887\n",
      "Epoch 18/20\n",
      "1500/1500 [==============================] - 8s 5ms/step - loss: 0.0041 - accuracy: 0.9987 - val_loss: 0.0606 - val_accuracy: 0.9889\n",
      "Epoch 19/20\n",
      "1500/1500 [==============================] - 8s 5ms/step - loss: 0.0048 - accuracy: 0.9982 - val_loss: 0.0630 - val_accuracy: 0.9887\n",
      "Epoch 20/20\n",
      "1500/1500 [==============================] - 8s 5ms/step - loss: 0.0048 - accuracy: 0.9984 - val_loss: 0.0648 - val_accuracy: 0.9880\n"
     ]
    }
   ],
   "source": [
    "#### 6. Treinamento\n",
    "\n",
    "historico = rede_simples.fit(x_treino, \n",
    "                             y_treino, \n",
    "                             epochs = 20, \n",
    "                             verbose = 1,\n",
    "                             batch_size=32,\n",
    "                             validation_data = (x_val, y_val))"
   ]
  },
  {
   "cell_type": "markdown",
   "id": "211001b7",
   "metadata": {},
   "source": [
    "##### 7. Avaliação do modelo"
   ]
  },
  {
   "cell_type": "code",
   "execution_count": 23,
   "id": "c7571f08",
   "metadata": {},
   "outputs": [
    {
     "data": {
      "text/plain": [
       "0.99"
      ]
     },
     "execution_count": 23,
     "metadata": {},
     "output_type": "execute_result"
    }
   ],
   "source": [
    "from sklearn.metrics import confusion_matrix\n",
    "from sklearn.metrics import accuracy_score\n",
    "\n",
    "pred_simples = rede_simples.predict(x_test)\n",
    "\n",
    "accuracy_score(y_test.argmax(1), pred_simples.argmax(1))"
   ]
  },
  {
   "cell_type": "code",
   "execution_count": 24,
   "id": "ce299114",
   "metadata": {},
   "outputs": [
    {
     "data": {
      "image/png": "[encoded data removed]",
      "text/plain": [
       "<Figure size 432x288 with 1 Axes>"
      ]
     },
     "metadata": {
      "needs_background": "light"
     },
     "output_type": "display_data"
    }
   ],
   "source": [
    "loss = historico.history['loss']\n",
    "val_loss = historico.history['val_loss']\n",
    "epochs = range(len(loss))\n",
    "plt.figure()\n",
    "plt.plot(epochs, loss, 'bo', label = 'Training loss')\n",
    "plt.plot(epochs, val_loss, 'b', label = 'Validation loss')\n",
    "plt.title('Training and validation loss')\n",
    "plt.legend()\n",
    "plt.show()"
   ]
  },
  {
   "cell_type": "markdown",
   "id": "649f54da",
   "metadata": {},
   "source": [
    "#### 8. Regularização\n",
    "1. Early Stopping: determinar quando encerrar o treinamento\n",
    "2. Dropout: selecionar neurônios aleatoriamente para o treinamento"
   ]
  },
  {
   "cell_type": "code",
   "execution_count": 25,
   "id": "8cda5aee",
   "metadata": {
    "collapsed": true,
    "jupyter": {
     "outputs_hidden": true
    },
    "tags": []
   },
   "outputs": [
    {
     "name": "stdout",
     "output_type": "stream",
     "text": [
      "Epoch 1/150\n",
      "1500/1500 [==============================] - 8s 5ms/step - loss: 0.0040 - accuracy: 0.9988 - val_loss: 0.0633 - val_accuracy: 0.9893\n",
      "Epoch 2/150\n",
      "1500/1500 [==============================] - 8s 5ms/step - loss: 0.0040 - accuracy: 0.9986 - val_loss: 0.0636 - val_accuracy: 0.9893\n",
      "Epoch 3/150\n",
      "1500/1500 [==============================] - 9s 6ms/step - loss: 0.0036 - accuracy: 0.9990 - val_loss: 0.0782 - val_accuracy: 0.9870\n",
      "Epoch 4/150\n",
      "1500/1500 [==============================] - 9s 6ms/step - loss: 0.0028 - accuracy: 0.9991 - val_loss: 0.0763 - val_accuracy: 0.9895\n",
      "Epoch 5/150\n",
      "1500/1500 [==============================] - 9s 6ms/step - loss: 0.0047 - accuracy: 0.9982 - val_loss: 0.0739 - val_accuracy: 0.9881\n",
      "Epoch 6/150\n",
      "1500/1500 [==============================] - 8s 6ms/step - loss: 0.0023 - accuracy: 0.9992 - val_loss: 0.0789 - val_accuracy: 0.9891\n",
      "Epoch 7/150\n",
      "1500/1500 [==============================] - 9s 6ms/step - loss: 0.0044 - accuracy: 0.9984 - val_loss: 0.0730 - val_accuracy: 0.9896\n",
      "Epoch 8/150\n",
      "1500/1500 [==============================] - 9s 6ms/step - loss: 0.0022 - accuracy: 0.9993 - val_loss: 0.0807 - val_accuracy: 0.9886\n",
      "Epoch 9/150\n",
      "1500/1500 [==============================] - 8s 5ms/step - loss: 0.0050 - accuracy: 0.9982 - val_loss: 0.0821 - val_accuracy: 0.9882\n",
      "Epoch 10/150\n",
      "1500/1500 [==============================] - 8s 5ms/step - loss: 0.0029 - accuracy: 0.9993 - val_loss: 0.0780 - val_accuracy: 0.9887\n",
      "Epoch 11/150\n",
      "1500/1500 [==============================] - 8s 5ms/step - loss: 0.0025 - accuracy: 0.9989 - val_loss: 0.0788 - val_accuracy: 0.9889\n",
      "Epoch 00011: early stopping\n"
     ]
    }
   ],
   "source": [
    " es = EarlyStopping(monitor = 'val_loss', min_delta = 0.001, patience = 10, verbose = 1, mode = 'auto')\n",
    "\n",
    "# Setamos os pesos iniciais iguais à versão antes do treinamento pra ter um comparativo mais real.\n",
    "#rede_simples.set_weights(pesos_iniciais)\n",
    "\n",
    "historico = rede_simples.fit(x_treino, \n",
    "                             y_treino, \n",
    "                             epochs = 150, \n",
    "                             batch_size=32,\n",
    "                             verbose = 1,\n",
    "                             validation_data = (x_val, y_val),\n",
    "                             callbacks = [es])"
   ]
  },
  {
   "cell_type": "code",
   "execution_count": 26,
   "id": "0b40397b",
   "metadata": {},
   "outputs": [
    {
     "data": {
      "image/png": "[encoded data removed]",
      "text/plain": [
       "<Figure size 432x288 with 1 Axes>"
      ]
     },
     "metadata": {
      "needs_background": "light"
     },
     "output_type": "display_data"
    }
   ],
   "source": [
    "loss = historico.history['loss']\n",
    "val_loss = historico.history['val_loss']\n",
    "epochs = range(len(loss))\n",
    "plt.figure()\n",
    "plt.plot(epochs, loss, 'bo', label = 'Training loss')\n",
    "plt.plot(epochs, val_loss, 'b', label = 'Validation loss')\n",
    "plt.title('Training and validation loss')\n",
    "plt.legend()\n",
    "plt.show()"
   ]
  },
  {
   "cell_type": "code",
   "execution_count": 27,
   "id": "1961c951",
   "metadata": {},
   "outputs": [
    {
     "data": {
      "text/plain": [
       "0.9903"
      ]
     },
     "execution_count": 27,
     "metadata": {},
     "output_type": "execute_result"
    }
   ],
   "source": [
    "from sklearn.metrics import confusion_matrix\n",
    "from sklearn.metrics import accuracy_score\n",
    "\n",
    "pred_es = rede_simples.predict(x_test)\n",
    "\n",
    "accuracy_score(y_test.argmax(1), pred_es.argmax(1))"
   ]
  },
  {
   "cell_type": "code",
   "execution_count": 28,
   "id": "ac1f5c31",
   "metadata": {},
   "outputs": [
    {
     "data": {
      "text/plain": [
       "array([[ 971,    0,    2,    0,    0,    0,    3,    3,    1,    0],\n",
       "       [   1, 1130,    1,    1,    0,    0,    1,    1,    0,    0],\n",
       "       [   0,    3, 1020,    0,    0,    0,    0,    8,    1,    0],\n",
       "       [   0,    0,    1, 1000,    0,    6,    0,    1,    1,    1],\n",
       "       [   0,    0,    0,    0,  975,    0,    1,    3,    0,    3],\n",
       "       [   0,    0,    0,    3,    0,  887,    1,    1,    0,    0],\n",
       "       [   2,    3,    0,    0,    1,    3,  949,    0,    0,    0],\n",
       "       [   0,    2,    2,    0,    0,    0,    0, 1022,    1,    1],\n",
       "       [   4,    0,    2,    0,    0,    2,    2,    1,  961,    2],\n",
       "       [   0,    0,    1,    1,    7,    5,    0,    6,    1,  988]])"
      ]
     },
     "execution_count": 28,
     "metadata": {},
     "output_type": "execute_result"
    }
   ],
   "source": [
    "confusion_matrix(y_test.argmax(1), pred_es.argmax(1))"
   ]
  },
  {
   "cell_type": "markdown",
   "id": "ad5828ba",
   "metadata": {},
   "source": [
    "### Regularização - Dropout\n",
    "\n",
    "* Alterna quais neurônios vão otimizar os pesos a cada rodada do treinamento\n",
    "\n",
    "![Title](imgs/dropout_.gif) "
   ]
  },
  {
   "cell_type": "code",
   "execution_count": 29,
   "id": "c61aad6a",
   "metadata": {},
   "outputs": [
    {
     "name": "stdout",
     "output_type": "stream",
     "text": [
      "Model: \"sequential_1\"\n",
      "_________________________________________________________________\n",
      "Layer (type)                 Output Shape              Param #   \n",
      "=================================================================\n",
      "conv2d_2 (Conv2D)            (None, 24, 24, 25)        650       \n",
      "_________________________________________________________________\n",
      "max_pooling2d_2 (MaxPooling2 (None, 12, 12, 25)        0         \n",
      "_________________________________________________________________\n",
      "dropout (Dropout)            (None, 12, 12, 25)        0         \n",
      "_________________________________________________________________\n",
      "conv2d_3 (Conv2D)            (None, 8, 8, 25)          15650     \n",
      "_________________________________________________________________\n",
      "max_pooling2d_3 (MaxPooling2 (None, 4, 4, 25)          0         \n",
      "_________________________________________________________________\n",
      "dropout_1 (Dropout)          (None, 4, 4, 25)          0         \n",
      "_________________________________________________________________\n",
      "flatten_1 (Flatten)          (None, 400)               0         \n",
      "_________________________________________________________________\n",
      "dense_1 (Dense)              (None, 10)                4010      \n",
      "_________________________________________________________________\n",
      "activation_1 (Activation)    (None, 10)                0         \n",
      "=================================================================\n",
      "Total params: 20,310\n",
      "Trainable params: 20,310\n",
      "Non-trainable params: 0\n",
      "_________________________________________________________________\n"
     ]
    }
   ],
   "source": [
    "rede_simples = Sequential()\n",
    "\n",
    "rede_simples.add(Conv2D(25, (5,5), activation='relu', input_shape=(28,28,1)))\n",
    "rede_simples.add(MaxPooling2D())\n",
    "rede_simples.add(Dropout(0.5))\n",
    "rede_simples.add(Conv2D(25, (5,5), activation='relu'))\n",
    "rede_simples.add(MaxPooling2D())\n",
    "rede_simples.add(Dropout(0.5))\n",
    "rede_simples.add(Flatten())\n",
    "rede_simples.add(Dense(10))\n",
    "rede_simples.add(Activation('softmax'))\n",
    "                 \n",
    "rede_simples.summary()\n",
    "\n",
    "rede_simples.compile(loss = 'categorical_crossentropy', optimizer = 'Adam', metrics=['accuracy'])\n"
   ]
  },
  {
   "cell_type": "code",
   "execution_count": 30,
   "id": "8d9e65e1",
   "metadata": {},
   "outputs": [
    {
     "name": "stdout",
     "output_type": "stream",
     "text": [
      "Epoch 1/150\n",
      "1500/1500 [==============================] - 10s 6ms/step - loss: 0.3938 - accuracy: 0.8736 - val_loss: 0.0990 - val_accuracy: 0.9685\n",
      "Epoch 2/150\n",
      "1500/1500 [==============================] - 9s 6ms/step - loss: 0.1477 - accuracy: 0.9541 - val_loss: 0.0661 - val_accuracy: 0.9787\n",
      "Epoch 3/150\n",
      "1500/1500 [==============================] - 13s 8ms/step - loss: 0.1141 - accuracy: 0.9648 - val_loss: 0.0522 - val_accuracy: 0.9842\n",
      "Epoch 4/150\n",
      "1500/1500 [==============================] - 10s 7ms/step - loss: 0.1001 - accuracy: 0.9683 - val_loss: 0.0477 - val_accuracy: 0.9851\n",
      "Epoch 5/150\n",
      "1500/1500 [==============================] - 10s 6ms/step - loss: 0.0898 - accuracy: 0.9716 - val_loss: 0.0436 - val_accuracy: 0.9863\n",
      "Epoch 6/150\n",
      "1500/1500 [==============================] - 9s 6ms/step - loss: 0.0853 - accuracy: 0.9741 - val_loss: 0.0413 - val_accuracy: 0.9875\n",
      "Epoch 7/150\n",
      "1500/1500 [==============================] - 10s 6ms/step - loss: 0.0796 - accuracy: 0.9749 - val_loss: 0.0397 - val_accuracy: 0.9876\n",
      "Epoch 8/150\n",
      "1500/1500 [==============================] - 9s 6ms/step - loss: 0.0767 - accuracy: 0.9766 - val_loss: 0.0408 - val_accuracy: 0.9865\n",
      "Epoch 9/150\n",
      "1500/1500 [==============================] - 9s 6ms/step - loss: 0.0731 - accuracy: 0.9769 - val_loss: 0.0375 - val_accuracy: 0.9881\n",
      "Epoch 10/150\n",
      "1500/1500 [==============================] - 9s 6ms/step - loss: 0.0699 - accuracy: 0.9779 - val_loss: 0.0362 - val_accuracy: 0.9895\n",
      "Epoch 11/150\n",
      "1500/1500 [==============================] - 9s 6ms/step - loss: 0.0702 - accuracy: 0.9781 - val_loss: 0.0400 - val_accuracy: 0.9872\n",
      "Epoch 12/150\n",
      "1500/1500 [==============================] - 9s 6ms/step - loss: 0.0661 - accuracy: 0.9792 - val_loss: 0.0351 - val_accuracy: 0.9893\n",
      "Epoch 13/150\n",
      "1500/1500 [==============================] - 9s 6ms/step - loss: 0.0671 - accuracy: 0.9792 - val_loss: 0.0335 - val_accuracy: 0.9895\n",
      "Epoch 14/150\n",
      "1500/1500 [==============================] - 9s 6ms/step - loss: 0.0621 - accuracy: 0.9809 - val_loss: 0.0335 - val_accuracy: 0.9898\n",
      "Epoch 15/150\n",
      "1500/1500 [==============================] - 10s 7ms/step - loss: 0.0644 - accuracy: 0.9803 - val_loss: 0.0321 - val_accuracy: 0.9896\n",
      "Epoch 16/150\n",
      "1500/1500 [==============================] - 10s 6ms/step - loss: 0.0623 - accuracy: 0.9807 - val_loss: 0.0312 - val_accuracy: 0.9902\n",
      "Epoch 17/150\n",
      "1500/1500 [==============================] - 9s 6ms/step - loss: 0.0624 - accuracy: 0.9804 - val_loss: 0.0322 - val_accuracy: 0.9898\n",
      "Epoch 18/150\n",
      "1500/1500 [==============================] - 9s 6ms/step - loss: 0.0621 - accuracy: 0.9801 - val_loss: 0.0321 - val_accuracy: 0.9907\n",
      "Epoch 19/150\n",
      "1500/1500 [==============================] - 10s 7ms/step - loss: 0.0615 - accuracy: 0.9808 - val_loss: 0.0295 - val_accuracy: 0.9909\n",
      "Epoch 20/150\n",
      "1500/1500 [==============================] - 10s 7ms/step - loss: 0.0603 - accuracy: 0.9819 - val_loss: 0.0341 - val_accuracy: 0.9898\n",
      "Epoch 21/150\n",
      "1500/1500 [==============================] - 10s 6ms/step - loss: 0.0582 - accuracy: 0.9816 - val_loss: 0.0324 - val_accuracy: 0.9893\n",
      "Epoch 22/150\n",
      "1500/1500 [==============================] - 11s 7ms/step - loss: 0.0600 - accuracy: 0.9810 - val_loss: 0.0316 - val_accuracy: 0.9898\n",
      "Epoch 23/150\n",
      "1500/1500 [==============================] - 10s 7ms/step - loss: 0.0594 - accuracy: 0.9818 - val_loss: 0.0301 - val_accuracy: 0.9912\n",
      "Epoch 24/150\n",
      "1500/1500 [==============================] - 10s 6ms/step - loss: 0.0558 - accuracy: 0.9819 - val_loss: 0.0313 - val_accuracy: 0.9896\n",
      "Epoch 25/150\n",
      "1500/1500 [==============================] - 10s 6ms/step - loss: 0.0576 - accuracy: 0.9823 - val_loss: 0.0297 - val_accuracy: 0.9910\n",
      "Epoch 26/150\n",
      "1500/1500 [==============================] - 11s 7ms/step - loss: 0.0583 - accuracy: 0.9823 - val_loss: 0.0305 - val_accuracy: 0.9910\n",
      "Epoch 27/150\n",
      "1500/1500 [==============================] - 1911s 1s/step - loss: 0.0565 - accuracy: 0.9815 - val_loss: 0.0288 - val_accuracy: 0.9908\n",
      "Epoch 28/150\n",
      "1500/1500 [==============================] - 908s 605ms/step - loss: 0.0536 - accuracy: 0.9827 - val_loss: 0.0298 - val_accuracy: 0.9907\n",
      "Epoch 29/150\n",
      "1500/1500 [==============================] - 10s 6ms/step - loss: 0.0573 - accuracy: 0.9820 - val_loss: 0.0299 - val_accuracy: 0.9923\n",
      "Epoch 00029: early stopping\n"
     ]
    }
   ],
   "source": [
    " historico = rede_simples.fit(x_treino, \n",
    "                             y_treino, \n",
    "                             epochs = 150, \n",
    "                             verbose = 1,\n",
    "                             validation_data = (x_val, y_val),\n",
    "                             callbacks = [es])"
   ]
  },
  {
   "cell_type": "code",
   "execution_count": 31,
   "id": "3e7565d3",
   "metadata": {},
   "outputs": [
    {
     "data": {
      "image/png": "[encoded data removed]",
      "text/plain": [
       "<Figure size 432x288 with 1 Axes>"
      ]
     },
     "metadata": {
      "needs_background": "light"
     },
     "output_type": "display_data"
    }
   ],
   "source": [
    "loss = historico.history['loss']\n",
    "val_loss = historico.history['val_loss']\n",
    "epochs = range(len(loss))\n",
    "plt.figure()\n",
    "plt.plot(epochs, loss, 'bo', label = 'Training loss')\n",
    "plt.plot(epochs, val_loss, 'b', label = 'Validation loss')\n",
    "plt.title('Training and validation loss')\n",
    "plt.legend()\n",
    "plt.show()"
   ]
  },
  {
   "cell_type": "code",
   "execution_count": 32,
   "id": "ae92ff6c",
   "metadata": {},
   "outputs": [
    {
     "data": {
      "text/plain": [
       "0.9916"
      ]
     },
     "execution_count": 32,
     "metadata": {},
     "output_type": "execute_result"
    }
   ],
   "source": [
    "pred_dropout = rede_simples.predict(x_test)\n",
    "\n",
    "accuracy_score(y_test.argmax(1), pred_dropout.argmax(1))"
   ]
  },
  {
   "cell_type": "code",
   "execution_count": 33,
   "id": "b83a1b13",
   "metadata": {},
   "outputs": [
    {
     "data": {
      "text/plain": [
       "array([[ 978,    0,    1,    0,    0,    0,    0,    1,    0,    0],\n",
       "       [   0, 1132,    0,    2,    0,    0,    0,    1,    0,    0],\n",
       "       [   1,    1, 1025,    0,    1,    0,    0,    3,    1,    0],\n",
       "       [   0,    0,    0, 1004,    0,    3,    0,    2,    1,    0],\n",
       "       [   0,    0,    0,    0,  975,    0,    0,    0,    1,    6],\n",
       "       [   1,    0,    0,    3,    0,  885,    1,    1,    0,    1],\n",
       "       [   7,    3,    1,    0,    1,    1,  945,    0,    0,    0],\n",
       "       [   0,    5,    5,    1,    0,    0,    0, 1014,    0,    3],\n",
       "       [   2,    0,    1,    2,    0,    1,    0,    0,  966,    2],\n",
       "       [   0,    0,    0,    0,    5,    5,    0,    6,    1,  992]])"
      ]
     },
     "execution_count": 33,
     "metadata": {},
     "output_type": "execute_result"
    }
   ],
   "source": [
    "confusion_matrix(y_test.argmax(1), pred_dropout.argmax(1))"
   ]
  },
  {
   "cell_type": "markdown",
   "id": "82d3ffa6",
   "metadata": {},
   "source": [
    "# Prática 2 - CIFAR 10\n",
    "\n",
    "![Title](imgs/cifar10_dataset.png) "
   ]
  },
  {
   "cell_type": "markdown",
   "id": "c749cccd",
   "metadata": {},
   "source": [
    "![Title](imgs/fine.jpeg) "
   ]
  },
  {
   "cell_type": "code",
   "execution_count": 34,
   "id": "0b1e00e0",
   "metadata": {},
   "outputs": [],
   "source": [
    "(x_train, y_train), (x_test, y_test) = tf.keras.datasets.cifar10.load_data()"
   ]
  },
  {
   "cell_type": "code",
   "execution_count": 35,
   "id": "396c9f1e",
   "metadata": {},
   "outputs": [
    {
     "name": "stdout",
     "output_type": "stream",
     "text": [
      "(50000, 32, 32, 3)\n",
      "(10000, 32, 32, 3)\n",
      "(10000, 1)\n"
     ]
    }
   ],
   "source": [
    "print(x_train.shape)\n",
    "print(x_test.shape)\n",
    "print(y_test.shape)"
   ]
  },
  {
   "cell_type": "code",
   "execution_count": 36,
   "id": "bb069ec6",
   "metadata": {},
   "outputs": [
    {
     "data": {
      "image/png": "[encoded data removed]",
      "text/plain": [
       "<Figure size 432x288 with 1 Axes>"
      ]
     },
     "metadata": {
      "needs_background": "light"
     },
     "output_type": "display_data"
    }
   ],
   "source": [
    "# pick a sample to plot\n",
    "sample = 10\n",
    "image = x_train[sample]\n",
    "\n",
    "# plot the sample\n",
    "fig = plt.figure\n",
    "plt.imshow(image)\n",
    "plt.show()"
   ]
  },
  {
   "cell_type": "code",
   "execution_count": 37,
   "id": "512212eb",
   "metadata": {},
   "outputs": [],
   "source": [
    "m = np.max(x_train)\n",
    "x_train = x_train/m\n",
    "x_test = x_test/m"
   ]
  },
  {
   "cell_type": "code",
   "execution_count": 38,
   "id": "9df17052",
   "metadata": {},
   "outputs": [],
   "source": [
    "hot = OneHotEncoder()\n",
    "y_train = hot.fit_transform(y_train.reshape(-1, 1)).toarray()\n",
    "y_test = hot.transform(y_test.reshape(-1, 1)).toarray()"
   ]
  },
  {
   "cell_type": "code",
   "execution_count": 39,
   "id": "ab9d3a18",
   "metadata": {},
   "outputs": [
    {
     "data": {
      "text/plain": [
       "((40000, 32, 32, 3),\n",
       " (10000, 32, 32, 3),\n",
       " (10000, 32, 32, 3),\n",
       " (40000, 10),\n",
       " (10000, 10),\n",
       " (10000, 10))"
      ]
     },
     "execution_count": 39,
     "metadata": {},
     "output_type": "execute_result"
    }
   ],
   "source": [
    "from sklearn.model_selection import train_test_split\n",
    "\n",
    "x_treino, x_val, y_treino, y_val = train_test_split(x_train, y_train, test_size = 0.2, random_state = 13)\n",
    "\n",
    "x_treino.shape, x_val.shape, x_test.shape, y_treino.shape, y_val.shape, y_test.shape, "
   ]
  },
  {
   "cell_type": "code",
   "execution_count": 40,
   "id": "375ffb16",
   "metadata": {},
   "outputs": [
    {
     "name": "stdout",
     "output_type": "stream",
     "text": [
      "Model: \"sequential_2\"\n",
      "_________________________________________________________________\n",
      "Layer (type)                 Output Shape              Param #   \n",
      "=================================================================\n",
      "conv2d_4 (Conv2D)            (None, 28, 28, 32)        2432      \n",
      "_________________________________________________________________\n",
      "max_pooling2d_4 (MaxPooling2 (None, 14, 14, 32)        0         \n",
      "_________________________________________________________________\n",
      "conv2d_5 (Conv2D)            (None, 10, 10, 64)        51264     \n",
      "_________________________________________________________________\n",
      "max_pooling2d_5 (MaxPooling2 (None, 5, 5, 64)          0         \n",
      "_________________________________________________________________\n",
      "conv2d_6 (Conv2D)            (None, 1, 1, 64)          102464    \n",
      "_________________________________________________________________\n",
      "flatten_2 (Flatten)          (None, 64)                0         \n",
      "_________________________________________________________________\n",
      "dense_2 (Dense)              (None, 64)                4160      \n",
      "_________________________________________________________________\n",
      "dense_3 (Dense)              (None, 10)                650       \n",
      "_________________________________________________________________\n",
      "activation_2 (Activation)    (None, 10)                0         \n",
      "=================================================================\n",
      "Total params: 160,970\n",
      "Trainable params: 160,970\n",
      "Non-trainable params: 0\n",
      "_________________________________________________________________\n"
     ]
    }
   ],
   "source": [
    "rede_simples = Sequential()\n",
    "\n",
    "rede_simples.add(Conv2D(32, (5,5), activation='relu', input_shape=(32,32,3)))\n",
    "rede_simples.add(MaxPooling2D())\n",
    "rede_simples.add(Conv2D(64, (5,5), activation='relu'))\n",
    "rede_simples.add(MaxPooling2D())\n",
    "rede_simples.add(Conv2D(64, (5,5), activation='relu'))\n",
    "rede_simples.add(Flatten())\n",
    "rede_simples.add(Dense(64, activation='relu'))\n",
    "rede_simples.add(Dense(10))\n",
    "rede_simples.add(Activation('softmax'))\n",
    "                 \n",
    "rede_simples.summary()\n",
    "\n",
    "#rede_simples.compile(loss = 'categorical_crossentropy', optimizer = 'Adam', metrics=['accuracy'])\n"
   ]
  },
  {
   "cell_type": "code",
   "execution_count": 41,
   "id": "2e053a0c",
   "metadata": {},
   "outputs": [],
   "source": [
    "import tensorflow as tf\n",
    "\n",
    "rede_simples.compile(loss = 'categorical_crossentropy', optimizer = 'Adam', metrics=['accuracy'])"
   ]
  },
  {
   "cell_type": "code",
   "execution_count": 42,
   "id": "29893d9d",
   "metadata": {
    "collapsed": true,
    "jupyter": {
     "outputs_hidden": true
    },
    "tags": []
   },
   "outputs": [
    {
     "name": "stdout",
     "output_type": "stream",
     "text": [
      "Epoch 1/150\n",
      "625/625 [==============================] - 17s 26ms/step - loss: 1.6950 - accuracy: 0.3701 - val_loss: 1.4322 - val_accuracy: 0.4794\n",
      "Epoch 2/150\n",
      "625/625 [==============================] - 12s 20ms/step - loss: 1.3437 - accuracy: 0.5178 - val_loss: 1.2918 - val_accuracy: 0.5284\n",
      "Epoch 3/150\n",
      "625/625 [==============================] - 13s 20ms/step - loss: 1.1909 - accuracy: 0.5774 - val_loss: 1.1662 - val_accuracy: 0.5824\n",
      "Epoch 4/150\n",
      "625/625 [==============================] - 13s 20ms/step - loss: 1.0971 - accuracy: 0.6108 - val_loss: 1.1202 - val_accuracy: 0.6057\n",
      "Epoch 5/150\n",
      "625/625 [==============================] - 13s 20ms/step - loss: 1.0201 - accuracy: 0.6402 - val_loss: 1.0730 - val_accuracy: 0.6222\n",
      "Epoch 6/150\n",
      "625/625 [==============================] - 13s 21ms/step - loss: 0.9497 - accuracy: 0.6648 - val_loss: 1.0145 - val_accuracy: 0.6503\n",
      "Epoch 7/150\n",
      "625/625 [==============================] - 13s 22ms/step - loss: 0.9039 - accuracy: 0.6826 - val_loss: 1.0239 - val_accuracy: 0.6443\n",
      "Epoch 8/150\n",
      "625/625 [==============================] - 13s 21ms/step - loss: 0.8500 - accuracy: 0.7021 - val_loss: 0.9812 - val_accuracy: 0.6607\n",
      "Epoch 9/150\n",
      "625/625 [==============================] - 13s 21ms/step - loss: 0.8257 - accuracy: 0.7101 - val_loss: 1.0067 - val_accuracy: 0.6558\n",
      "Epoch 10/150\n",
      "625/625 [==============================] - 13s 21ms/step - loss: 0.7756 - accuracy: 0.7261 - val_loss: 0.9982 - val_accuracy: 0.6595\n",
      "Epoch 11/150\n",
      "625/625 [==============================] - 14s 22ms/step - loss: 0.7450 - accuracy: 0.7376 - val_loss: 0.9847 - val_accuracy: 0.6651\n",
      "Epoch 12/150\n",
      "625/625 [==============================] - 14s 22ms/step - loss: 0.7157 - accuracy: 0.7502 - val_loss: 0.9832 - val_accuracy: 0.6698\n",
      "Epoch 13/150\n",
      "625/625 [==============================] - 14s 22ms/step - loss: 0.6850 - accuracy: 0.7587 - val_loss: 0.9693 - val_accuracy: 0.6808\n",
      "Epoch 14/150\n",
      "625/625 [==============================] - 14s 22ms/step - loss: 0.6534 - accuracy: 0.7681 - val_loss: 1.0064 - val_accuracy: 0.6676\n",
      "Epoch 15/150\n",
      "625/625 [==============================] - 14s 22ms/step - loss: 0.6282 - accuracy: 0.7742 - val_loss: 0.9961 - val_accuracy: 0.6765\n",
      "Epoch 16/150\n",
      "625/625 [==============================] - 14s 22ms/step - loss: 0.6045 - accuracy: 0.7845 - val_loss: 1.0118 - val_accuracy: 0.6774\n",
      "Epoch 17/150\n",
      "625/625 [==============================] - 14s 23ms/step - loss: 0.5756 - accuracy: 0.7960 - val_loss: 1.0899 - val_accuracy: 0.6600\n",
      "Epoch 18/150\n",
      "625/625 [==============================] - 14s 22ms/step - loss: 0.5478 - accuracy: 0.8055 - val_loss: 1.0495 - val_accuracy: 0.6706\n",
      "Epoch 19/150\n",
      "625/625 [==============================] - 14s 22ms/step - loss: 0.5264 - accuracy: 0.8141 - val_loss: 1.0969 - val_accuracy: 0.6745\n",
      "Epoch 20/150\n",
      "625/625 [==============================] - 14s 23ms/step - loss: 0.5056 - accuracy: 0.8206 - val_loss: 1.0980 - val_accuracy: 0.6723\n",
      "Epoch 21/150\n",
      "625/625 [==============================] - 14s 23ms/step - loss: 0.4770 - accuracy: 0.8291 - val_loss: 1.1172 - val_accuracy: 0.6742\n",
      "Epoch 22/150\n",
      "625/625 [==============================] - 14s 23ms/step - loss: 0.4559 - accuracy: 0.8389 - val_loss: 1.1544 - val_accuracy: 0.6718\n",
      "Epoch 23/150\n",
      "625/625 [==============================] - 14s 23ms/step - loss: 0.4300 - accuracy: 0.8463 - val_loss: 1.1597 - val_accuracy: 0.6740\n",
      "Epoch 00023: early stopping\n"
     ]
    }
   ],
   "source": [
    " es = EarlyStopping(monitor = 'val_loss', min_delta = 0.001, patience = 10, verbose = 1, mode = 'auto')\n",
    "    \n",
    "historico = rede_simples.fit(x_treino, \n",
    "                             y_treino, \n",
    "                             epochs = 150, \n",
    "                             batch_size=64,\n",
    "                             verbose = 1,\n",
    "                             validation_data = (x_val, y_val),\n",
    "                             callbacks = [es])"
   ]
  },
  {
   "cell_type": "code",
   "execution_count": 43,
   "id": "44f96807",
   "metadata": {},
   "outputs": [
    {
     "data": {
      "text/plain": [
       "0.667"
      ]
     },
     "execution_count": 43,
     "metadata": {},
     "output_type": "execute_result"
    }
   ],
   "source": [
    "from sklearn.metrics import confusion_matrix\n",
    "from sklearn.metrics import accuracy_score\n",
    "\n",
    "pred_simples = rede_simples.predict(x_test)\n",
    "\n",
    "accuracy_score(y_test.argmax(1), pred_simples.argmax(1))"
   ]
  },
  {
   "cell_type": "code",
   "execution_count": 44,
   "id": "155aaff7",
   "metadata": {},
   "outputs": [
    {
     "data": {
      "image/png": "[encoded data removed]",
      "text/plain": [
       "<Figure size 432x288 with 1 Axes>"
      ]
     },
     "metadata": {
      "needs_background": "light"
     },
     "output_type": "display_data"
    }
   ],
   "source": [
    "loss = historico.history['loss']\n",
    "val_loss = historico.history['val_loss']\n",
    "epochs = range(len(loss))\n",
    "plt.figure()\n",
    "plt.plot(epochs, loss, 'bo', label = 'Training loss')\n",
    "plt.plot(epochs, val_loss, 'b', label = 'Validation loss')\n",
    "plt.title('Training and validation loss')\n",
    "plt.legend()\n",
    "plt.show()"
   ]
  },
  {
   "cell_type": "markdown",
   "id": "db68cece",
   "metadata": {},
   "source": [
    "![Title](imgs/fine.jpeg) "
   ]
  },
  {
   "cell_type": "markdown",
   "id": "283cc074",
   "metadata": {},
   "source": [
    "### Arquiteturas de Rede\n",
    "\n",
    "CNNs tornaram-se conhecidas principalmente pelo seu desempenho em um desafio de classificação de imagens chamado ImageNet. Nesse desafio foram propostas diferentes arquiteturas de CNNs ao longo dos anos, tendo estas o melhor desempenho.\n",
    "\n",
    "![Title](imgs/imagenet.jpeg)"
   ]
  },
  {
   "cell_type": "markdown",
   "id": "a93a376a",
   "metadata": {},
   "source": [
    "#### AlexNet\n",
    "\n",
    "* Processamento multi GPU\n",
    "* Utilização de stride e maxpooling para redução de custo computacional\n",
    "* 8 camadas\n",
    "\n",
    "![Title](imgs/alexnet.png)"
   ]
  },
  {
   "cell_type": "markdown",
   "id": "cae9b8d5",
   "metadata": {},
   "source": [
    "### VGG\n",
    "\n",
    "* Pilhas de camadas convolucionais\n",
    "* Redução de dimensionalidade de filtros\n",
    "* 16 camadas \n",
    "\n",
    "![Title](imgs/vgg.png)\n"
   ]
  },
  {
   "cell_type": "markdown",
   "id": "6f01edf0",
   "metadata": {},
   "source": [
    "### ResNet\n",
    "\n",
    "* Até 1000 camadas\n",
    "* Similar a VGG\n",
    "* Inserção de blocos residuais \n",
    "\n",
    "![Title](imgs/resnet.png)"
   ]
  },
  {
   "cell_type": "markdown",
   "id": "a7f64a2e",
   "metadata": {},
   "source": [
    "### Implementando arquiteturas conhecidas no Keras \n",
    "\n"
   ]
  },
  {
   "cell_type": "code",
   "execution_count": 45,
   "id": "cd94aca1",
   "metadata": {},
   "outputs": [],
   "source": [
    "from tensorflow.keras.layers import Flatten,Dense,GlobalAvgPool2D,Dropout\n",
    "from tensorflow.keras.models import Sequential"
   ]
  },
  {
   "cell_type": "code",
   "execution_count": 46,
   "id": "8088f407",
   "metadata": {},
   "outputs": [],
   "source": [
    "base_model = tf.keras.applications.VGG16(\n",
    "    weights=\"imagenet\",  # Load weights pre-trained on ImageNet.\n",
    "    input_shape=(32, 32, 3),\n",
    "    include_top=False,\n",
    ")"
   ]
  },
  {
   "cell_type": "code",
   "execution_count": null,
   "id": "3d73c964",
   "metadata": {},
   "outputs": [
    {
     "name": "stdout",
     "output_type": "stream",
     "text": [
      "Epoch 1/10\n",
      "225/782 [=======>......................] - ETA: 7:14 - loss: 2.1350 - accuracy: 0.1695"
     ]
    }
   ],
   "source": [
    "inputs = tf.keras.Input(shape=(32, 32, 3))\n",
    "flatten = Flatten()\n",
    "dense = Dense(10,activation='softmax')\n",
    "\n",
    "model = Sequential([\n",
    "        base_model,\n",
    "        flatten,\n",
    "        dense\n",
    "    ])\n",
    "\n",
    "model.compile(loss='categorical_crossentropy',\n",
    "                optimizer='adam',\n",
    "                metrics=['accuracy'])\n",
    "\n",
    "history = model.fit(x_train,y_train,validation_data=(x_val,y_val),epochs=10,batch_size=64)"
   ]
  },
  {
   "cell_type": "code",
   "execution_count": null,
   "id": "8397d8b7",
   "metadata": {},
   "outputs": [],
   "source": [
    "### "
   ]
  },
  {
   "cell_type": "code",
   "execution_count": null,
   "id": "befe862b",
   "metadata": {},
   "outputs": [],
   "source": []
  }
 ],
 "metadata": {
  "interpreter": {
   "hash": "c6e4e9f98eb68ad3b7c296f83d20e6de614cb42e90992a65aa266555a3137d0d"
  },
  "kernelspec": {
   "display_name": "Python 3",
   "language": "python",
   "name": "python3"
  },
  "language_info": {
   "codemirror_mode": {
    "name": "ipython",
    "version": 3
   },
   "file_extension": ".py",
   "mimetype": "text/x-python",
   "name": "python",
   "nbconvert_exporter": "python",
   "pygments_lexer": "ipython3",
   "version": "3.8.8"
  }
 },
 "nbformat": 4,
 "nbformat_minor": 5
}
