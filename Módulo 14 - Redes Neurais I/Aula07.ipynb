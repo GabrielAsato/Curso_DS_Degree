{
 "cells": [
  {
   "cell_type": "markdown",
   "id": "96338d10-70d1-47e0-b327-efe52c1fe405",
   "metadata": {},
   "source": [
    "# Redes Neurais Recorrentes (RNN)\n",
    "\n",
    "Muito usada para Séries Temporais"
   ]
  },
  {
   "cell_type": "markdown",
   "id": "c37f7e52-31a2-4549-8eaa-ef6077e86727",
   "metadata": {},
   "source": [
    "- https://stanford.edu/~shervine/teaching/cs-230/cheatsheet-recurrent-neural-networks\n",
    "- https://www.youtube.com/watch?v=AsNTP8Kwu80"
   ]
  }
 ],
 "metadata": {
  "kernelspec": {
   "display_name": "Python 3",
   "language": "python",
   "name": "python3"
  },
  "language_info": {
   "codemirror_mode": {
    "name": "ipython",
    "version": 3
   },
   "file_extension": ".py",
   "mimetype": "text/x-python",
   "name": "python",
   "nbconvert_exporter": "python",
   "pygments_lexer": "ipython3",
   "version": "3.8.8"
  }
 },
 "nbformat": 4,
 "nbformat_minor": 5
}
