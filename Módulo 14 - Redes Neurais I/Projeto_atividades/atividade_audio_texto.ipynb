{
 "cells": [
  {
   "cell_type": "markdown",
   "id": "8694f1af",
   "metadata": {},
   "source": [
    "### Atividade processamento de audio/texto\n",
    "\n",
    "* Objetivo: consolidar conhecimentos de dados não estruturados para texto ou áudio\n",
    "* Escolha uma base de dados de fontes textuais ou áudio \n",
    "  1. Sugestões\n",
    "    * [IMDB](https://keras.io/api/datasets/imdb/)\n",
    "    * [Urbansound](https://urbansounddataset.weebly.com/urbansound8k.html)\n",
    "    * [Classificação de generos musicais](https://www.kaggle.com/datasets/andradaolteanu/gtzan-dataset-music-genre-classification)\n",
    "    \n",
    "OBS. Caso deseje, o aluno pode escolher outra base de dados de texto ou áudio, desde que seja de classificação\n",
    "* Implemente uma arquitetura de rede de uma abordagem vista em aula (MLP, CNNs ou RNNs). Porque você escolheu essa abordagem?\n",
    "* Qual a avaliação que você faz deste modelo? Caso possa melhorá-lo, o que poderia ser feito?"
   ]
  },
  {
   "cell_type": "markdown",
   "id": "23f741f6",
   "metadata": {},
   "source": [
    "Data de entrega: 16/05"
   ]
  },
  {
   "cell_type": "code",
   "execution_count": null,
   "id": "e1c30dd0",
   "metadata": {},
   "outputs": [],
   "source": []
  }
 ],
 "metadata": {
  "kernelspec": {
   "display_name": "Python 3 (ipykernel)",
   "language": "python",
   "name": "python3"
  },
  "language_info": {
   "codemirror_mode": {
    "name": "ipython",
    "version": 3
   },
   "file_extension": ".py",
   "mimetype": "text/x-python",
   "name": "python",
   "nbconvert_exporter": "python",
   "pygments_lexer": "ipython3",
   "version": "3.9.5"
  }
 },
 "nbformat": 4,
 "nbformat_minor": 5
}
