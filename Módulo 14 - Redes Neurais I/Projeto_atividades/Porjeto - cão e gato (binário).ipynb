{
 "cells": [
  {
   "cell_type": "markdown",
   "id": "d78b736b-be06-427a-b2c5-1003b9cebb05",
   "metadata": {},
   "source": [
    "# Projeto - Classsificador de gatos e cachorros"
   ]
  },
  {
   "cell_type": "code",
   "execution_count": 2,
   "id": "95c6914b-4e20-4725-b892-4dde580e5634",
   "metadata": {},
   "outputs": [],
   "source": [
    "# Bibliotecas\n",
    "import pandas as pd\n",
    "import numpy as np\n",
    "import matplotlib.pyplot as plt\n",
    "import seaborn as sns"
   ]
  },
  {
   "cell_type": "code",
   "execution_count": 3,
   "id": "0e154303-4f19-4f57-a6da-e528fe4ee89a",
   "metadata": {},
   "outputs": [],
   "source": [
    "path = \"../../../Projeto Redes Neurais/images\""
   ]
  },
  {
   "cell_type": "code",
   "execution_count": 6,
   "id": "9e104ab8-7b27-4907-9e81-0545e1bcb093",
   "metadata": {},
   "outputs": [
    {
     "name": "stdout",
     "output_type": "stream",
     "text": [
      "Found 1 images belonging to 1 classes.\n",
      "Found 0 images belonging to 1 classes.\n"
     ]
    }
   ],
   "source": [
    "# Puxando os dados de um diretório contendo outros dois diretórios\n",
    "import tensorflow as tf\n",
    "from tensorflow.keras.preprocessing import image\n",
    "\n",
    "## define o generator escalando as imagens do dataset\n",
    "train_datagen = image.ImageDataGenerator(validation_split=0.2,\n",
    "                                         rescale=1/255)\n",
    "\n",
    "### pega as imagens de um dataset\n",
    "train_dataset = train_datagen.flow_from_directory(path,\n",
    "                                                  target_size=(64, 64), # tamanho da base: pixel por pixel\n",
    "                                                  color_mode = 'rgb',\n",
    "                                                  batch_size=64, # puxadas por batch\n",
    "                                                  class_mode='binary', # binario ou categórico\n",
    "                                                  subset='training',\n",
    "                                                  shuffle = True)\n",
    "\n",
    "### pega as imagens de um dataset\n",
    "val_dataset = train_datagen.flow_from_directory(path,\n",
    "                                                target_size=(64, 64),\n",
    "                                                color_mode = 'rgb',\n",
    "                                                batch_size=64,\n",
    "                                                class_mode='binary',\n",
    "                                                subset='validation',\n",
    "                                                shuffle = True)"
   ]
  },
  {
   "cell_type": "code",
   "execution_count": 9,
   "id": "0b2fadc9-74dd-44a6-a32f-205442687123",
   "metadata": {},
   "outputs": [
    {
     "ename": "ValueError",
     "evalue": "Asked to retrieve element 1, but the Sequence has length 1",
     "output_type": "error",
     "traceback": [
      "\u001b[1;31m---------------------------------------------------------------------------\u001b[0m",
      "\u001b[1;31mValueError\u001b[0m                                Traceback (most recent call last)",
      "\u001b[1;32m<ipython-input-9-2f9b1f398a78>\u001b[0m in \u001b[0;36m<module>\u001b[1;34m\u001b[0m\n\u001b[1;32m----> 1\u001b[1;33m \u001b[0mtrain_dataset\u001b[0m\u001b[1;33m[\u001b[0m\u001b[1;36m1\u001b[0m\u001b[1;33m]\u001b[0m\u001b[1;33m\u001b[0m\u001b[1;33m\u001b[0m\u001b[0m\n\u001b[0m",
      "\u001b[1;32m~\\Anaconda3\\lib\\site-packages\\keras\\preprocessing\\image.py\u001b[0m in \u001b[0;36m__getitem__\u001b[1;34m(self, idx)\u001b[0m\n\u001b[0;32m     98\u001b[0m   \u001b[1;32mdef\u001b[0m \u001b[0m__getitem__\u001b[0m\u001b[1;33m(\u001b[0m\u001b[0mself\u001b[0m\u001b[1;33m,\u001b[0m \u001b[0midx\u001b[0m\u001b[1;33m)\u001b[0m\u001b[1;33m:\u001b[0m\u001b[1;33m\u001b[0m\u001b[1;33m\u001b[0m\u001b[0m\n\u001b[0;32m     99\u001b[0m     \u001b[1;32mif\u001b[0m \u001b[0midx\u001b[0m \u001b[1;33m>=\u001b[0m \u001b[0mlen\u001b[0m\u001b[1;33m(\u001b[0m\u001b[0mself\u001b[0m\u001b[1;33m)\u001b[0m\u001b[1;33m:\u001b[0m\u001b[1;33m\u001b[0m\u001b[1;33m\u001b[0m\u001b[0m\n\u001b[1;32m--> 100\u001b[1;33m       raise ValueError('Asked to retrieve element {idx}, '\n\u001b[0m\u001b[0;32m    101\u001b[0m                        \u001b[1;34m'but the Sequence '\u001b[0m\u001b[1;33m\u001b[0m\u001b[1;33m\u001b[0m\u001b[0m\n\u001b[0;32m    102\u001b[0m                        'has length {length}'.format(idx=idx, length=len(self)))\n",
      "\u001b[1;31mValueError\u001b[0m: Asked to retrieve element 1, but the Sequence has length 1"
     ]
    }
   ],
   "source": [
    "train_dataset[1]"
   ]
  },
  {
   "cell_type": "code",
   "execution_count": null,
   "id": "b98b753d-7c66-437f-b6eb-86f92c1f0db3",
   "metadata": {},
   "outputs": [],
   "source": []
  }
 ],
 "metadata": {
  "kernelspec": {
   "display_name": "Python 3",
   "language": "python",
   "name": "python3"
  },
  "language_info": {
   "codemirror_mode": {
    "name": "ipython",
    "version": 3
   },
   "file_extension": ".py",
   "mimetype": "text/x-python",
   "name": "python",
   "nbconvert_exporter": "python",
   "pygments_lexer": "ipython3",
   "version": "3.8.8"
  }
 },
 "nbformat": 4,
 "nbformat_minor": 5
}
