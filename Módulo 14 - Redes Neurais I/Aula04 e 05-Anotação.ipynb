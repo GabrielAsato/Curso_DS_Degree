{
 "cells": [
  {
   "cell_type": "markdown",
   "id": "e6cd937e-b192-448f-a13e-b5e11e4d9409",
   "metadata": {},
   "source": [
    "# Redes Convolucionais"
   ]
  },
  {
   "cell_type": "markdown",
   "id": "26ff204f-5a75-4960-ba25-45f368fcc840",
   "metadata": {},
   "source": [
    "Geralmente trabalha-se com imagens.\n",
    "\n",
    "Uma Imagem colorida (RGB) 700x700 px contém 700 x 700 x 3 = 1_470_000 inputs"
   ]
  },
  {
   "cell_type": "markdown",
   "id": "5c2ba18d-e3dd-494c-8753-f22a50d5945f",
   "metadata": {},
   "source": [
    "### Filtro e Convolução\n",
    "\n",
    "Filtro multiplica element-wise e soma os elementos (convolução)\n",
    "\n",
    "Padding mantém as dimensões originais\n",
    "\n",
    "Para uma imagem RGB, o filtro faz a convolução em cada um dos três canais e soma as três matrizes.\n",
    "\n"
   ]
  },
  {
   "cell_type": "markdown",
   "id": "0c772b38-3063-45b0-9db5-506c32e83258",
   "metadata": {},
   "source": [
    "### Pooling: \n",
    "\n",
    "https://www.deeplearningbook.com.br/camadas-de-pooling-em-redes-neurais-convolucionais/\n",
    "\n",
    "Reduzir o input para favorecer o processamento\n",
    "\n",
    "Max Pooling: Representa os pixels mais fortes da imagem original"
   ]
  }
 ],
 "metadata": {
  "kernelspec": {
   "display_name": "Python 3",
   "language": "python",
   "name": "python3"
  },
  "language_info": {
   "codemirror_mode": {
    "name": "ipython",
    "version": 3
   },
   "file_extension": ".py",
   "mimetype": "text/x-python",
   "name": "python",
   "nbconvert_exporter": "python",
   "pygments_lexer": "ipython3",
   "version": "3.8.8"
  }
 },
 "nbformat": 4,
 "nbformat_minor": 5
}
