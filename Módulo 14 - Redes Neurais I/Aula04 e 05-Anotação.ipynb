{
 "cells": [
  {
   "cell_type": "markdown",
   "id": "e6cd937e-b192-448f-a13e-b5e11e4d9409",
   "metadata": {},
   "source": [
    "# Redes Convolucionais"
   ]
  },
  {
   "cell_type": "markdown",
   "id": "26ff204f-5a75-4960-ba25-45f368fcc840",
   "metadata": {},
   "source": [
    "https://medium.com/technologymadeeasy/the-best-explanation-of-convolutional-neural-networks-on-the-internet-fbb8b1ad5df8\n",
    "\n",
    "Geralmente trabalha-se com imagens.\n",
    "\n",
    "Uma Imagem colorida (RGB) 700x700 px contém 700 x 700 x 3 = 1_470_000 inputs"
   ]
  },
  {
   "cell_type": "markdown",
   "id": "5c2ba18d-e3dd-494c-8753-f22a50d5945f",
   "metadata": {},
   "source": [
    "### Filtro e Convolução\n",
    "\n",
    "Filtro multiplica element-wise e soma os elementos (convolução)\n",
    "\n",
    "Padding mantém as dimensões originais\n",
    "\n",
    "Para uma imagem RGB, o filtro faz a convolução em cada um dos três canais e soma as três matrizes.\n",
    "\n",
    "obs.: Os números da matriz de convolução (filtros) são feitos com valores aleatórios e readequados com o backpropagation, obtendo neurônios com com dados diferentes (Conv2D())"
   ]
  },
  {
   "cell_type": "markdown",
   "id": "0c772b38-3063-45b0-9db5-506c32e83258",
   "metadata": {},
   "source": [
    "### Pooling: \n",
    "\n",
    "https://www.deeplearningbook.com.br/camadas-de-pooling-em-redes-neurais-convolucionais/\n",
    "\n",
    "Reduzir o input para favorecer o processamento\n",
    "\n",
    "Max Pooling: Representa os pixels mais fortes da imagem original"
   ]
  },
  {
   "cell_type": "markdown",
   "id": "0bb22d23-59dd-4be1-ab1d-8b26f7f11292",
   "metadata": {},
   "source": [
    "----"
   ]
  },
  {
   "cell_type": "code",
   "execution_count": 1,
   "id": "1a647745-de80-4469-b277-86aa9addc9ff",
   "metadata": {},
   "outputs": [],
   "source": [
    "from tensorflow import keras\n",
    "import tensorflow as tf\n",
    "import matplotlib.pyplot as plt\n",
    "import numpy as np\n",
    "from tensorflow.keras import datasets\n",
    "from sklearn.preprocessing import OneHotEncoder"
   ]
  },
  {
   "cell_type": "code",
   "execution_count": 14,
   "id": "cec08fd5-d69d-427b-8e1b-6ca6efa8a3a4",
   "metadata": {},
   "outputs": [],
   "source": [
    "(x_train, y_train), (x_test, y_test) = datasets.mnist.load_data()"
   ]
  },
  {
   "cell_type": "code",
   "execution_count": 15,
   "id": "c603a8b7-b82d-494d-8f1a-428051ce58e7",
   "metadata": {},
   "outputs": [
    {
     "name": "stdout",
     "output_type": "stream",
     "text": [
      "(60000, 28, 28)\n",
      "(10000, 28, 28)\n",
      "(10000,)\n"
     ]
    }
   ],
   "source": [
    "print(x_train.shape)\n",
    "print(x_test.shape)\n",
    "print(y_test.shape)"
   ]
  },
  {
   "cell_type": "code",
   "execution_count": 16,
   "id": "69447870-8cf9-4e3a-bc30-424bdcb28440",
   "metadata": {},
   "outputs": [],
   "source": [
    "# Coloca mais uma dimensão, caso a imagem esteja em grayscale\n",
    "x_train = np.expand_dims(x_train,axis=-1)\n",
    "x_test = np.expand_dims(x_test,axis=-1)"
   ]
  },
  {
   "cell_type": "code",
   "execution_count": 17,
   "id": "4fbb3cbc-95c8-4b95-84f6-8b36dd0e7fcc",
   "metadata": {},
   "outputs": [
    {
     "name": "stdout",
     "output_type": "stream",
     "text": [
      "(60000, 28, 28, 1)\n",
      "(10000, 28, 28, 1)\n",
      "(10000,)\n"
     ]
    }
   ],
   "source": [
    "print(x_train.shape)\n",
    "print(x_test.shape)\n",
    "print(y_test.shape)"
   ]
  },
  {
   "cell_type": "code",
   "execution_count": 18,
   "id": "6fb2b2e8-7b39-432e-a9c2-ba55f49f26a0",
   "metadata": {},
   "outputs": [],
   "source": [
    "# Normalização\n",
    "x_train = x_train/255\n",
    "x_test = x_test/255"
   ]
  },
  {
   "cell_type": "code",
   "execution_count": 19,
   "id": "80543cce-9ac4-4b53-aff1-e3a677d376a1",
   "metadata": {},
   "outputs": [],
   "source": [
    "# One Hot Encoder\n",
    "hot = OneHotEncoder()\n",
    "y_train = hot.fit_transform(y_train.reshape(-1, 1)).toarray()\n",
    "y_test = hot.transform(y_test.reshape(-1, 1)).toarray()"
   ]
  },
  {
   "cell_type": "code",
   "execution_count": 20,
   "id": "59817df9-41d0-45d9-b7f8-131fb8ba6e56",
   "metadata": {},
   "outputs": [
    {
     "data": {
      "text/plain": [
       "((48000, 28, 28, 1),\n",
       " (12000, 28, 28, 1),\n",
       " (10000, 28, 28, 1),\n",
       " (48000, 10),\n",
       " (12000, 10),\n",
       " (10000, 10))"
      ]
     },
     "execution_count": 20,
     "metadata": {},
     "output_type": "execute_result"
    }
   ],
   "source": [
    "# Particionamento\n",
    "from sklearn.model_selection import train_test_split\n",
    "\n",
    "x_treino, x_val, y_treino, y_val = train_test_split(x_train, y_train, test_size = 0.2, random_state = 13)\n",
    "x_treino.shape, x_val.shape, x_test.shape, y_treino.shape, y_val.shape, y_test.shape"
   ]
  },
  {
   "cell_type": "code",
   "execution_count": 21,
   "id": "7cc35723-6b64-45b4-baa5-c2e2fcb9c1f8",
   "metadata": {},
   "outputs": [],
   "source": [
    "from tensorflow.keras.layers import Dense, Activation, Dropout, Flatten, Conv2D, MaxPooling2D\n",
    "from tensorflow.keras.models import Sequential\n",
    "from tensorflow.keras.callbacks import EarlyStopping"
   ]
  },
  {
   "cell_type": "code",
   "execution_count": 22,
   "id": "a8a4a117-aa01-412d-b5e8-80ddf45573d3",
   "metadata": {},
   "outputs": [],
   "source": [
    "# Arquitetura da rede\n",
    "rede_simples = Sequential()\n",
    "rede_simples.add(Conv2D(25, (5,5), activation = 'relu', input_shape = (28,28,1))) \n",
    "# 25 neurônios, filtros 5x5 (não se sabe os parâmetros desses filtros), ativação relu, input_shape precisa ter 3 dimensões\n",
    "rede_simples.add(MaxPooling2D())\n",
    "rede_simples.add(Conv2D(25, (5,5), activation = 'relu'))\n",
    "rede_simples.add(MaxPooling2D())\n",
    "rede_simples.add(Flatten())\n",
    "rede_simples.add(Dense(10, activation = 'softmax'))"
   ]
  },
  {
   "cell_type": "code",
   "execution_count": 23,
   "id": "f244d0bd-d0a6-4c83-a795-0d2b632fa81b",
   "metadata": {},
   "outputs": [
    {
     "name": "stdout",
     "output_type": "stream",
     "text": [
      "Model: \"sequential_3\"\n",
      "_________________________________________________________________\n",
      " Layer (type)                Output Shape              Param #   \n",
      "=================================================================\n",
      " conv2d_6 (Conv2D)           (None, 24, 24, 25)        650       \n",
      "                                                                 \n",
      " max_pooling2d_4 (MaxPooling  (None, 12, 12, 25)       0         \n",
      " 2D)                                                             \n",
      "                                                                 \n",
      " conv2d_7 (Conv2D)           (None, 8, 8, 25)          15650     \n",
      "                                                                 \n",
      " max_pooling2d_5 (MaxPooling  (None, 4, 4, 25)         0         \n",
      " 2D)                                                             \n",
      "                                                                 \n",
      " flatten_1 (Flatten)         (None, 400)               0         \n",
      "                                                                 \n",
      " dense_1 (Dense)             (None, 10)                4010      \n",
      "                                                                 \n",
      "=================================================================\n",
      "Total params: 20,310\n",
      "Trainable params: 20,310\n",
      "Non-trainable params: 0\n",
      "_________________________________________________________________\n"
     ]
    }
   ],
   "source": [
    "rede_simples.summary()"
   ]
  },
  {
   "cell_type": "code",
   "execution_count": 28,
   "id": "be3d916a-a0ff-408c-a326-10f0e6844bc6",
   "metadata": {},
   "outputs": [],
   "source": [
    "rede_simples.compile(loss = 'categorical_crossentropy', optimizer = 'Adam', metrics=['accuracy'])"
   ]
  },
  {
   "cell_type": "code",
   "execution_count": 29,
   "id": "8e80252a-8ee7-45da-95b6-3978276bea91",
   "metadata": {},
   "outputs": [
    {
     "name": "stdout",
     "output_type": "stream",
     "text": [
      "Epoch 1/20\n",
      "1500/1500 [==============================] - 24s 15ms/step - loss: 0.1987 - accuracy: 0.9426 - val_loss: 0.0846 - val_accuracy: 0.9747\n",
      "Epoch 2/20\n",
      "1500/1500 [==============================] - 22s 15ms/step - loss: 0.0675 - accuracy: 0.9793 - val_loss: 0.0589 - val_accuracy: 0.9808\n",
      "Epoch 3/20\n",
      "1500/1500 [==============================] - 22s 15ms/step - loss: 0.0479 - accuracy: 0.9854 - val_loss: 0.0486 - val_accuracy: 0.9854\n",
      "Epoch 4/20\n",
      "1500/1500 [==============================] - 22s 15ms/step - loss: 0.0369 - accuracy: 0.9883 - val_loss: 0.0435 - val_accuracy: 0.9862\n",
      "Epoch 5/20\n",
      "1500/1500 [==============================] - 21s 14ms/step - loss: 0.0311 - accuracy: 0.9899 - val_loss: 0.0426 - val_accuracy: 0.9869\n",
      "Epoch 6/20\n",
      "1500/1500 [==============================] - 21s 14ms/step - loss: 0.0247 - accuracy: 0.9921 - val_loss: 0.0432 - val_accuracy: 0.9870\n",
      "Epoch 7/20\n",
      "1500/1500 [==============================] - 22s 15ms/step - loss: 0.0200 - accuracy: 0.9935 - val_loss: 0.0449 - val_accuracy: 0.9881\n",
      "Epoch 8/20\n",
      "1500/1500 [==============================] - 23s 15ms/step - loss: 0.0190 - accuracy: 0.9940 - val_loss: 0.0453 - val_accuracy: 0.9877\n",
      "Epoch 9/20\n",
      "1500/1500 [==============================] - 21s 14ms/step - loss: 0.0139 - accuracy: 0.9957 - val_loss: 0.0466 - val_accuracy: 0.9876\n",
      "Epoch 10/20\n",
      "1500/1500 [==============================] - 21s 14ms/step - loss: 0.0138 - accuracy: 0.9959 - val_loss: 0.0401 - val_accuracy: 0.9890\n",
      "Epoch 11/20\n",
      "1500/1500 [==============================] - 22s 15ms/step - loss: 0.0102 - accuracy: 0.9967 - val_loss: 0.0425 - val_accuracy: 0.9891\n",
      "Epoch 12/20\n",
      "1500/1500 [==============================] - 21s 14ms/step - loss: 0.0105 - accuracy: 0.9964 - val_loss: 0.0472 - val_accuracy: 0.9888\n",
      "Epoch 13/20\n",
      "1500/1500 [==============================] - 23s 15ms/step - loss: 0.0091 - accuracy: 0.9970 - val_loss: 0.0424 - val_accuracy: 0.9891\n",
      "Epoch 14/20\n",
      "1500/1500 [==============================] - 23s 15ms/step - loss: 0.0082 - accuracy: 0.9974 - val_loss: 0.0483 - val_accuracy: 0.9880\n",
      "Epoch 15/20\n",
      "1500/1500 [==============================] - 22s 14ms/step - loss: 0.0065 - accuracy: 0.9981 - val_loss: 0.0433 - val_accuracy: 0.9886\n",
      "Epoch 16/20\n",
      "1500/1500 [==============================] - 21s 14ms/step - loss: 0.0071 - accuracy: 0.9974 - val_loss: 0.0528 - val_accuracy: 0.9875\n",
      "Epoch 17/20\n",
      "1500/1500 [==============================] - 21s 14ms/step - loss: 0.0051 - accuracy: 0.9985 - val_loss: 0.0564 - val_accuracy: 0.9887\n",
      "Epoch 18/20\n",
      "1500/1500 [==============================] - 22s 14ms/step - loss: 0.0070 - accuracy: 0.9974 - val_loss: 0.0536 - val_accuracy: 0.9892\n",
      "Epoch 19/20\n",
      "1500/1500 [==============================] - 21s 14ms/step - loss: 0.0052 - accuracy: 0.9984 - val_loss: 0.0508 - val_accuracy: 0.9893\n",
      "Epoch 20/20\n",
      "1500/1500 [==============================] - 22s 14ms/step - loss: 0.0040 - accuracy: 0.9985 - val_loss: 0.0648 - val_accuracy: 0.9866\n"
     ]
    }
   ],
   "source": [
    "# Treinamento\n",
    "historico = rede_simples.fit(x_treino, \n",
    "                             y_treino, \n",
    "                             epochs = 20, \n",
    "                             verbose = 1,\n",
    "                             validation_data = (x_val, y_val))"
   ]
  },
  {
   "cell_type": "code",
   "execution_count": 30,
   "id": "4eaf8703-3650-4b29-ac18-98cfae23c608",
   "metadata": {},
   "outputs": [
    {
     "name": "stdout",
     "output_type": "stream",
     "text": [
      "313/313 [==============================] - 5s 4ms/step\n"
     ]
    },
    {
     "data": {
      "text/plain": [
       "0.9896"
      ]
     },
     "execution_count": 30,
     "metadata": {},
     "output_type": "execute_result"
    }
   ],
   "source": [
    "# Avaliação\n",
    "from sklearn.metrics import confusion_matrix\n",
    "from sklearn.metrics import accuracy_score\n",
    "\n",
    "pred_simples = rede_simples.predict(x_test)\n",
    "\n",
    "accuracy_score(y_test.argmax(1), pred_simples.argmax(1))"
   ]
  },
  {
   "cell_type": "code",
   "execution_count": 31,
   "id": "6673a323-08a5-430f-b044-6657dc1f6254",
   "metadata": {},
   "outputs": [
    {
     "data": {
      "image/png": "[encoded data removed]",
      "text/plain": [
       "<Figure size 432x288 with 1 Axes>"
      ]
     },
     "metadata": {
      "needs_background": "light"
     },
     "output_type": "display_data"
    }
   ],
   "source": [
    "loss = historico.history['loss']\n",
    "val_loss = historico.history['val_loss']\n",
    "epochs = range(len(loss))\n",
    "plt.figure()\n",
    "plt.plot(epochs, loss, 'bo', label = 'Training loss')\n",
    "plt.plot(epochs, val_loss, 'b', label = 'Validation loss')\n",
    "plt.title('Training and validation loss')\n",
    "plt.legend()\n",
    "plt.show()"
   ]
  },
  {
   "cell_type": "code",
   "execution_count": 32,
   "id": "863bf1ec-040c-43f7-a4ba-de87fa9d8a87",
   "metadata": {},
   "outputs": [
    {
     "name": "stdout",
     "output_type": "stream",
     "text": [
      "Epoch 1/150\n",
      "1500/1500 [==============================] - 20s 13ms/step - loss: 0.0049 - accuracy: 0.9983 - val_loss: 0.0575 - val_accuracy: 0.9885\n",
      "Epoch 2/150\n",
      "1500/1500 [==============================] - 21s 14ms/step - loss: 0.0046 - accuracy: 0.9986 - val_loss: 0.0583 - val_accuracy: 0.9900\n",
      "Epoch 3/150\n",
      "1500/1500 [==============================] - 20s 14ms/step - loss: 0.0040 - accuracy: 0.9987 - val_loss: 0.0530 - val_accuracy: 0.9897\n",
      "Epoch 4/150\n",
      "1500/1500 [==============================] - 20s 14ms/step - loss: 0.0038 - accuracy: 0.9987 - val_loss: 0.0575 - val_accuracy: 0.9885\n",
      "Epoch 5/150\n",
      "1500/1500 [==============================] - 21s 14ms/step - loss: 0.0035 - accuracy: 0.9987 - val_loss: 0.0550 - val_accuracy: 0.9904\n",
      "Epoch 6/150\n",
      "1500/1500 [==============================] - 20s 14ms/step - loss: 0.0031 - accuracy: 0.9990 - val_loss: 0.0592 - val_accuracy: 0.9891\n",
      "Epoch 7/150\n",
      "1500/1500 [==============================] - 20s 14ms/step - loss: 0.0043 - accuracy: 0.9987 - val_loss: 0.0662 - val_accuracy: 0.9897\n",
      "Epoch 8/150\n",
      "1500/1500 [==============================] - 20s 13ms/step - loss: 0.0038 - accuracy: 0.9988 - val_loss: 0.0605 - val_accuracy: 0.9895\n",
      "Epoch 9/150\n",
      "1500/1500 [==============================] - 21s 14ms/step - loss: 0.0023 - accuracy: 0.9993 - val_loss: 0.0654 - val_accuracy: 0.9897\n",
      "Epoch 10/150\n",
      "1500/1500 [==============================] - 21s 14ms/step - loss: 0.0028 - accuracy: 0.9990 - val_loss: 0.0668 - val_accuracy: 0.9897\n",
      "Epoch 11/150\n",
      "1500/1500 [==============================] - 21s 14ms/step - loss: 0.0045 - accuracy: 0.9986 - val_loss: 0.0686 - val_accuracy: 0.9888\n",
      "Epoch 12/150\n",
      "1500/1500 [==============================] - 21s 14ms/step - loss: 0.0025 - accuracy: 0.9992 - val_loss: 0.0778 - val_accuracy: 0.9883\n",
      "Epoch 13/150\n",
      "1500/1500 [==============================] - 21s 14ms/step - loss: 0.0037 - accuracy: 0.9988 - val_loss: 0.0771 - val_accuracy: 0.9895\n",
      "Epoch 13: early stopping\n"
     ]
    }
   ],
   "source": [
    "# Com regularização\n",
    "es = EarlyStopping(monitor = 'val_loss', min_delta = 0.001, patience = 10, verbose = 1, mode = 'auto')\n",
    "\n",
    "# Setamos os pesos iniciais iguais à versão antes do treinamento pra ter um comparativo mais real.\n",
    "#rede_simples.set_weights(pesos_iniciais)\n",
    "\n",
    "historico = rede_simples.fit(x_treino, \n",
    "                             y_treino, \n",
    "                             epochs = 150, \n",
    "                             batch_size=32,\n",
    "                             verbose = 1,\n",
    "                             validation_data = (x_val, y_val),\n",
    "                             callbacks = [es])"
   ]
  },
  {
   "cell_type": "code",
   "execution_count": 33,
   "id": "ba9b5454-2a8c-4ee5-815e-cb6abf3f58c1",
   "metadata": {},
   "outputs": [
    {
     "data": {
      "image/png": "[encoded data removed]",
      "text/plain": [
       "<Figure size 432x288 with 1 Axes>"
      ]
     },
     "metadata": {
      "needs_background": "light"
     },
     "output_type": "display_data"
    }
   ],
   "source": [
    "loss = historico.history['loss']\n",
    "val_loss = historico.history['val_loss']\n",
    "epochs = range(len(loss))\n",
    "plt.figure()\n",
    "plt.plot(epochs, loss, 'bo', label = 'Training loss')\n",
    "plt.plot(epochs, val_loss, 'b', label = 'Validation loss')\n",
    "plt.title('Training and validation loss')\n",
    "plt.legend()\n",
    "plt.show()"
   ]
  },
  {
   "cell_type": "code",
   "execution_count": null,
   "id": "de63aebb-ac1b-4101-8efc-76b310342e8f",
   "metadata": {},
   "outputs": [],
   "source": []
  }
 ],
 "metadata": {
  "kernelspec": {
   "display_name": "Python 3",
   "language": "python",
   "name": "python3"
  },
  "language_info": {
   "codemirror_mode": {
    "name": "ipython",
    "version": 3
   },
   "file_extension": ".py",
   "mimetype": "text/x-python",
   "name": "python",
   "nbconvert_exporter": "python",
   "pygments_lexer": "ipython3",
   "version": "3.8.8"
  }
 },
 "nbformat": 4,
 "nbformat_minor": 5
}
