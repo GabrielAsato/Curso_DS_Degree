{
 "cells": [
  {
   "cell_type": "code",
   "execution_count": 1,
   "id": "aa0a8989-b16b-4d91-b175-3f473d98cc7d",
   "metadata": {},
   "outputs": [],
   "source": [
    "from tensorflow import keras\n",
    "from tensorflow.keras import datasets\n",
    "import matplotlib.pyplot as plt\n",
    "import numpy as np\n",
    "from sklearn.preprocessing import OneHotEncoder"
   ]
  },
  {
   "cell_type": "markdown",
   "id": "af11394e-dd16-4cc0-9e42-877648a36583",
   "metadata": {},
   "source": [
    "# Prática 2 - CIFAR 10\n",
    "\n",
    "Semelhantemente ao MNIST, agora utilizaremos outra base de dados disponível no tensorflow.\n",
    "Desta vez, utilizaremos o CIFAR10, base de dados que possui 10 classes divididas em animais e meios de transporte.\n",
    "\n",
    "De forma geral, podemos pensar neste dataset como:\n",
    "* Complexidade moderada: os objetos estão em diferentes posições e ângulos. Existe também uma variabilidade dos objetos. Se olharmos para a classe \"bird\" por exemplo, ela vai desde pássaros, galinhas, até avestruz. Também existe um background diferenciado a cada imagem, aumentando também um pouco a complexidade do modelo.\n",
    "* Processamento rápido: as imagens são pequenas (32x32), apesar de imagens serem coloridas (3 canais de cores)\n",
    "\n",
    "![Title](imgs/cifar10_dataset.png) "
   ]
  },
  {
   "cell_type": "code",
   "execution_count": 2,
   "id": "b817baf9-7c77-4e34-b6f2-f5e7017c5028",
   "metadata": {},
   "outputs": [
    {
     "name": "stdout",
     "output_type": "stream",
     "text": [
      "Downloading data from https://www.cs.toronto.edu/~kriz/cifar-10-python.tar.gz\n",
      "170498071/170498071 [==============================] - 102s 1us/step\n"
     ]
    }
   ],
   "source": [
    "(x_train, y_train), (x_test, y_test) = keras.datasets.cifar10.load_data()"
   ]
  },
  {
   "cell_type": "code",
   "execution_count": 3,
   "id": "3dc1ec69-7a97-41dd-a7fd-e78d1239395f",
   "metadata": {},
   "outputs": [
    {
     "data": {
      "image/png": "[encoded data removed]",
      "text/plain": [
       "<Figure size 432x288 with 1 Axes>"
      ]
     },
     "metadata": {
      "needs_background": "light"
     },
     "output_type": "display_data"
    }
   ],
   "source": [
    "# pick a sample to plot\n",
    "sample = 10\n",
    "image = x_train[sample]\n",
    "\n",
    "# plot the sample\n",
    "fig = plt.figure\n",
    "plt.imshow(image)\n",
    "plt.show()"
   ]
  },
  {
   "cell_type": "markdown",
   "id": "379bfc1a-9da1-4fb3-8ad0-811741713ca6",
   "metadata": {},
   "source": [
    "### Normalização"
   ]
  },
  {
   "cell_type": "code",
   "execution_count": 4,
   "id": "e7c126a7-d84f-4d06-a23f-68def091305e",
   "metadata": {},
   "outputs": [],
   "source": [
    "m = np.max(x_train)\n",
    "x_train = x_train/m\n",
    "x_test = x_test/m"
   ]
  },
  {
   "cell_type": "markdown",
   "id": "1d9efafd-4173-40d5-9cc6-4b91fcac53b2",
   "metadata": {},
   "source": [
    "### One hot encoder"
   ]
  },
  {
   "cell_type": "code",
   "execution_count": 5,
   "id": "fe38b423-9722-452a-bdd7-cfb6d2146f14",
   "metadata": {},
   "outputs": [],
   "source": [
    "hot = OneHotEncoder()\n",
    "y_train = hot.fit_transform(y_train.reshape(-1, 1)).toarray()\n",
    "y_test = hot.transform(y_test.reshape(-1, 1)).toarray()"
   ]
  },
  {
   "cell_type": "markdown",
   "id": "2e558338-3445-4ea0-9db8-a19f9e49f945",
   "metadata": {},
   "source": [
    "### Treino e Validação"
   ]
  },
  {
   "cell_type": "code",
   "execution_count": 6,
   "id": "8cbf6cf6-18c2-4790-bc61-b1eca7836330",
   "metadata": {},
   "outputs": [
    {
     "data": {
      "text/plain": [
       "((40000, 32, 32, 3),\n",
       " (10000, 32, 32, 3),\n",
       " (10000, 32, 32, 3),\n",
       " (40000, 10),\n",
       " (10000, 10),\n",
       " (10000, 10))"
      ]
     },
     "execution_count": 6,
     "metadata": {},
     "output_type": "execute_result"
    }
   ],
   "source": [
    "from sklearn.model_selection import train_test_split\n",
    "\n",
    "x_treino, x_val, y_treino, y_val = train_test_split(x_train, y_train, test_size = 0.2, random_state = 13)\n",
    "x_treino.shape, x_val.shape, x_test.shape, y_treino.shape, y_val.shape, y_test.shape\n",
    "\n",
    "# 3 camadas"
   ]
  },
  {
   "cell_type": "markdown",
   "id": "11a3e4de-8d80-4da1-a122-9e2f357dabb5",
   "metadata": {},
   "source": [
    "### Arquitetura da rede neural tradicional"
   ]
  },
  {
   "cell_type": "code",
   "execution_count": 8,
   "id": "1037ecc9-cc84-44f4-b6f0-267161107be6",
   "metadata": {},
   "outputs": [],
   "source": [
    "from tensorflow.keras.layers import Dense, Activation, Dropout, Flatten, BatchNormalization\n",
    "from tensorflow.keras.models import Sequential\n",
    "from tensorflow.keras.callbacks import EarlyStopping"
   ]
  },
  {
   "cell_type": "code",
   "execution_count": 18,
   "id": "004f019e-00a0-4b09-9001-c97ddf48a6b1",
   "metadata": {},
   "outputs": [],
   "source": [
    "rede_simples = Sequential()\n",
    "\n",
    "rede_simples.add(Flatten())\n",
    "rede_simples.add(Dense(240, input_dim = 1024*3)) # 32x32x3 - 3 camadas BGR\n",
    "rede_simples.add(Activation('relu'))\n",
    "rede_simples.add(Dropout(0.3))\n",
    "rede_simples.add(Dense(512)) # Podemos aumentar em múltiplos de 2 para os próximos Dense()\n",
    "rede_simples.add(Activation('relu'))\n",
    "rede_simples.add(Dropout(0.3))\n",
    "rede_simples.add(Dense(512))\n",
    "rede_simples.add(Activation('relu'))\n",
    "rede_simples.add(Dropout(0.3))\n",
    "rede_simples.add(Dense(10))\n",
    "rede_simples.add(Activation('softmax'))"
   ]
  },
  {
   "cell_type": "code",
   "execution_count": 19,
   "id": "932a2da7-1b1d-4d32-a580-90f73b731921",
   "metadata": {},
   "outputs": [],
   "source": [
    "import tensorflow as tf\n",
    "\n",
    "rede_simples.compile(loss = 'categorical_crossentropy', optimizer = 'Adam', metrics=['accuracy'])"
   ]
  },
  {
   "cell_type": "code",
   "execution_count": 20,
   "id": "a64853b7-d562-4902-aa4a-d2b207679f9d",
   "metadata": {
    "collapsed": true,
    "jupyter": {
     "outputs_hidden": true
    },
    "tags": []
   },
   "outputs": [
    {
     "name": "stdout",
     "output_type": "stream",
     "text": [
      "Epoch 1/150\n",
      "625/625 [==============================] - 8s 11ms/step - loss: 2.0888 - accuracy: 0.2041 - val_loss: 1.9476 - val_accuracy: 0.2383\n",
      "Epoch 2/150\n",
      "625/625 [==============================] - 6s 10ms/step - loss: 1.9995 - accuracy: 0.2426 - val_loss: 1.8921 - val_accuracy: 0.2989\n",
      "Epoch 3/150\n",
      "625/625 [==============================] - 7s 11ms/step - loss: 1.9812 - accuracy: 0.2558 - val_loss: 1.9043 - val_accuracy: 0.2966\n",
      "Epoch 4/150\n",
      "625/625 [==============================] - 7s 11ms/step - loss: 1.9585 - accuracy: 0.2675 - val_loss: 1.8906 - val_accuracy: 0.3015\n",
      "Epoch 5/150\n",
      "625/625 [==============================] - 6s 10ms/step - loss: 1.9530 - accuracy: 0.2694 - val_loss: 1.8674 - val_accuracy: 0.3096\n",
      "Epoch 6/150\n",
      "625/625 [==============================] - 7s 10ms/step - loss: 1.9439 - accuracy: 0.2740 - val_loss: 1.8579 - val_accuracy: 0.3316\n",
      "Epoch 7/150\n",
      "625/625 [==============================] - 7s 11ms/step - loss: 1.9317 - accuracy: 0.2795 - val_loss: 1.9235 - val_accuracy: 0.3020\n",
      "Epoch 8/150\n",
      "625/625 [==============================] - 7s 11ms/step - loss: 1.9292 - accuracy: 0.2789 - val_loss: 1.8445 - val_accuracy: 0.3333\n",
      "Epoch 9/150\n",
      "625/625 [==============================] - 7s 11ms/step - loss: 1.9246 - accuracy: 0.2837 - val_loss: 1.8831 - val_accuracy: 0.3127\n",
      "Epoch 10/150\n",
      "625/625 [==============================] - 8s 13ms/step - loss: 1.9203 - accuracy: 0.2843 - val_loss: 1.8816 - val_accuracy: 0.3232\n",
      "Epoch 11/150\n",
      "625/625 [==============================] - 7s 11ms/step - loss: 1.9167 - accuracy: 0.2874 - val_loss: 1.8455 - val_accuracy: 0.3390\n",
      "Epoch 12/150\n",
      "625/625 [==============================] - 7s 11ms/step - loss: 1.9095 - accuracy: 0.2880 - val_loss: 1.8420 - val_accuracy: 0.3302\n",
      "Epoch 13/150\n",
      "625/625 [==============================] - 7s 10ms/step - loss: 1.9065 - accuracy: 0.2876 - val_loss: 1.9011 - val_accuracy: 0.3233\n",
      "Epoch 14/150\n",
      "625/625 [==============================] - 7s 11ms/step - loss: 1.9012 - accuracy: 0.2942 - val_loss: 1.8580 - val_accuracy: 0.3309\n",
      "Epoch 15/150\n",
      "625/625 [==============================] - 7s 10ms/step - loss: 1.8950 - accuracy: 0.2994 - val_loss: 1.8639 - val_accuracy: 0.3083\n",
      "Epoch 16/150\n",
      "625/625 [==============================] - 7s 10ms/step - loss: 1.8881 - accuracy: 0.3004 - val_loss: 1.8477 - val_accuracy: 0.3190\n",
      "Epoch 17/150\n",
      "625/625 [==============================] - 7s 11ms/step - loss: 1.8810 - accuracy: 0.3055 - val_loss: 1.8660 - val_accuracy: 0.3085\n",
      "Epoch 18/150\n",
      "625/625 [==============================] - 7s 11ms/step - loss: 1.8817 - accuracy: 0.3010 - val_loss: 1.8061 - val_accuracy: 0.3601\n",
      "Epoch 19/150\n",
      "625/625 [==============================] - 7s 11ms/step - loss: 1.8796 - accuracy: 0.3022 - val_loss: 1.7969 - val_accuracy: 0.3629\n",
      "Epoch 20/150\n",
      "625/625 [==============================] - 7s 11ms/step - loss: 1.8770 - accuracy: 0.3063 - val_loss: 1.8171 - val_accuracy: 0.3220\n",
      "Epoch 21/150\n",
      "625/625 [==============================] - 7s 11ms/step - loss: 1.8779 - accuracy: 0.3021 - val_loss: 1.8171 - val_accuracy: 0.3480\n",
      "Epoch 22/150\n",
      "625/625 [==============================] - 7s 11ms/step - loss: 1.8705 - accuracy: 0.3081 - val_loss: 1.8317 - val_accuracy: 0.3287\n",
      "Epoch 23/150\n",
      "625/625 [==============================] - 7s 11ms/step - loss: 1.8719 - accuracy: 0.3084 - val_loss: 1.8460 - val_accuracy: 0.3234\n",
      "Epoch 24/150\n",
      "625/625 [==============================] - 7s 11ms/step - loss: 1.8646 - accuracy: 0.3110 - val_loss: 1.8159 - val_accuracy: 0.3446\n",
      "Epoch 25/150\n",
      "625/625 [==============================] - 7s 10ms/step - loss: 1.8632 - accuracy: 0.3133 - val_loss: 1.8037 - val_accuracy: 0.3494\n",
      "Epoch 26/150\n",
      "625/625 [==============================] - 7s 11ms/step - loss: 1.8677 - accuracy: 0.3095 - val_loss: 1.8217 - val_accuracy: 0.3426\n",
      "Epoch 27/150\n",
      "625/625 [==============================] - 7s 11ms/step - loss: 1.8646 - accuracy: 0.3111 - val_loss: 1.8080 - val_accuracy: 0.3227\n",
      "Epoch 28/150\n",
      "625/625 [==============================] - 7s 11ms/step - loss: 1.8591 - accuracy: 0.3116 - val_loss: 1.8680 - val_accuracy: 0.3100\n",
      "Epoch 29/150\n",
      "625/625 [==============================] - 7s 11ms/step - loss: 1.8611 - accuracy: 0.3107 - val_loss: 1.8416 - val_accuracy: 0.3541\n",
      "Epoch 29: early stopping\n"
     ]
    }
   ],
   "source": [
    "es = EarlyStopping(monitor = 'val_loss', min_delta = 0.001, patience = 10, verbose = 1, mode = 'auto')\n",
    "    \n",
    "historico = rede_simples.fit(x_treino, \n",
    "                             y_treino, \n",
    "                             epochs = 150, \n",
    "                             batch_size=64,\n",
    "                             verbose = 1,\n",
    "                             validation_data = (x_val, y_val),\n",
    "                             callbacks = [es])"
   ]
  },
  {
   "cell_type": "code",
   "execution_count": 21,
   "id": "0b77e5e5-ffc9-4bcc-a67e-02eb2f2c95a5",
   "metadata": {},
   "outputs": [
    {
     "name": "stdout",
     "output_type": "stream",
     "text": [
      "313/313 [==============================] - 1s 3ms/step\n"
     ]
    },
    {
     "data": {
      "text/plain": [
       "0.3517"
      ]
     },
     "execution_count": 21,
     "metadata": {},
     "output_type": "execute_result"
    }
   ],
   "source": [
    "from sklearn.metrics import confusion_matrix\n",
    "from sklearn.metrics import accuracy_score\n",
    "\n",
    "pred_simples = rede_simples.predict(x_test)\n",
    "accuracy_score(y_test.argmax(1), pred_simples.argmax(1))"
   ]
  },
  {
   "cell_type": "code",
   "execution_count": 22,
   "id": "51b54c13-b40f-4ee8-89a1-207f1f68cd16",
   "metadata": {},
   "outputs": [
    {
     "data": {
      "image/png": "[encoded data removed]",
      "text/plain": [
       "<Figure size 432x288 with 1 Axes>"
      ]
     },
     "metadata": {
      "needs_background": "light"
     },
     "output_type": "display_data"
    }
   ],
   "source": [
    "loss = historico.history['accuracy']\n",
    "val_loss = historico.history['val_accuracy']\n",
    "epochs = range(len(loss))\n",
    "plt.figure()\n",
    "plt.plot(epochs, loss, 'bo', label = 'Training accuracy')\n",
    "plt.plot(epochs, val_loss, 'b', label = 'Validation accuracy')\n",
    "plt.title('Training and validation accuracy')\n",
    "plt.legend()\n",
    "plt.show()"
   ]
  },
  {
   "cell_type": "code",
   "execution_count": 17,
   "id": "648b0a4d-7a93-4015-8fa4-765253304514",
   "metadata": {},
   "outputs": [
    {
     "data": {
      "text/plain": [
       "0.34834998846054077"
      ]
     },
     "execution_count": 17,
     "metadata": {},
     "output_type": "execute_result"
    }
   ],
   "source": [
    "# Maior acurácia\n",
    "np.max(loss)"
   ]
  }
 ],
 "metadata": {
  "kernelspec": {
   "display_name": "Python 3",
   "language": "python",
   "name": "python3"
  },
  "language_info": {
   "codemirror_mode": {
    "name": "ipython",
    "version": 3
   },
   "file_extension": ".py",
   "mimetype": "text/x-python",
   "name": "python",
   "nbconvert_exporter": "python",
   "pygments_lexer": "ipython3",
   "version": "3.8.8"
  }
 },
 "nbformat": 4,
 "nbformat_minor": 5
}
