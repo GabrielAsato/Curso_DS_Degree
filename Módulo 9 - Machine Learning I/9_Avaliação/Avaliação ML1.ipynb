{
 "cells": [
  {
   "cell_type": "code",
   "execution_count": 100,
   "id": "e49a7e8e",
   "metadata": {},
   "outputs": [],
   "source": [
    "# Questão 14\n",
    "import pandas as pd\n",
    "import numpy as np\n",
    "from sklearn.datasets import make_regression\n",
    "from sklearn.model_selection import train_test_split\n",
    "\n",
    "\n",
    "X, y = make_regression(n_samples = 400,\n",
    "                       n_features = 5, n_informative = 3, \n",
    "                       noise = 20,\n",
    "                       random_state = 42)\n",
    "\n",
    "X_train, X_val, y_train, y_val = train_test_split(X, y, test_size=0.3, random_state=42)"
   ]
  },
  {
   "cell_type": "markdown",
   "id": "f6dd3cb1",
   "metadata": {},
   "source": [
    "#### Com os algoritmos do KNN, Decision Tree e Random Forest (todos os hiperparâmetros default e seed=42), assinale a alternativa que contém apenas associações corretas considerando o erro absoluto médio (MAE) com duas casas decimais.\n",
    "\n",
    "- 1 - O melhor modelo é o Random Forest pois ele obteve um menor erro no conjunto de validação.\n",
    "- 2 - Os erros de validação obtidos foram: 20.23 para o Random Forest, 23.48 para o KNN e 25.46 para o Decision Tree\n",
    "- **Falso**3 - O melhor modelo é o Decision Tree pois ele obteve um MAE = 0 no treino.\n",
    "- **Falso**4 - Os erros de validação obtidos foram: 6.95 para o Random Forest, 17.57 para o KNN e 0.00 para o Decision Tree.\n",
    "- 5 - O melhor modelo é o KNN porque apesar de ter um erro de validação maior que o Random Forest, ele não apresentou tanto overfit quanto esse.\n",
    "- 6 - Os modelos de árvore tiveram overfit.\n",
    "\n",
    "() 1, 2\n",
    "\n",
    "(X) 2, 5, 6\n",
    "\n",
    "() 3, 6\n",
    "\n",
    "() 2, 5"
   ]
  },
  {
   "cell_type": "code",
   "execution_count": 101,
   "id": "e8c24f1a",
   "metadata": {},
   "outputs": [
    {
     "name": "stdout",
     "output_type": "stream",
     "text": [
      "MAE para KNN é 23.48 %\n"
     ]
    }
   ],
   "source": [
    "# KNN\n",
    "from sklearn.neighbors import KNeighborsRegressor\n",
    "\n",
    "reg_1 = KNeighborsRegressor()\n",
    "reg_1.fit(X_train, y_train)\n",
    "y_pred_knn = reg_1.predict(X_val)\n",
    "\n",
    "from sklearn.metrics import mean_absolute_error\n",
    "\n",
    "print(f\"MAE para KNN é {mean_absolute_error(y_val, y_pred_knn):.2f} %\")"
   ]
  },
  {
   "cell_type": "code",
   "execution_count": 113,
   "id": "0f2f0069",
   "metadata": {},
   "outputs": [
    {
     "name": "stdout",
     "output_type": "stream",
     "text": [
      "MAE para KNN é 17.57 %\n"
     ]
    }
   ],
   "source": [
    "y_pred_knn_train = reg_1.predict(X_train)\n",
    "print(f\"MAE para treino KNN é {mean_absolute_error(y_train, y_pred_knn_train):.2f} %\")"
   ]
  },
  {
   "cell_type": "code",
   "execution_count": 109,
   "id": "e594d941",
   "metadata": {},
   "outputs": [
    {
     "name": "stdout",
     "output_type": "stream",
     "text": [
      "MAE para Decision Tree é 24.77 %\n"
     ]
    }
   ],
   "source": [
    "# Decision Tree\n",
    "from sklearn.tree import DecisionTreeRegressor\n",
    "\n",
    "reg_2 = DecisionTreeRegressor(random_state = 42)\n",
    "reg_2.fit(X_train, y_train)\n",
    "y_pred_dt = reg_2.predict(X_val)\n",
    "\n",
    "from sklearn.metrics import mean_absolute_error\n",
    "\n",
    "print(f\"MAE para Decision Tree é {mean_absolute_error(y_val, y_pred_dt):.2f} %\")"
   ]
  },
  {
   "cell_type": "code",
   "execution_count": 114,
   "id": "c4840545",
   "metadata": {},
   "outputs": [
    {
     "name": "stdout",
     "output_type": "stream",
     "text": [
      "MAE para treino DT é 0.00 %\n"
     ]
    }
   ],
   "source": [
    "y_pred_dt_train = reg_2.predict(X_train)\n",
    "print(f\"MAE para treino DT é {mean_absolute_error(y_train, y_pred_dt_train):.2f} %\")"
   ]
  },
  {
   "cell_type": "code",
   "execution_count": 110,
   "id": "eecf6d24",
   "metadata": {},
   "outputs": [
    {
     "name": "stdout",
     "output_type": "stream",
     "text": [
      "MAE para Random Forest é 20.26 %\n"
     ]
    }
   ],
   "source": [
    "random.seed(42)\n",
    "# Random Forest\n",
    "from sklearn.ensemble import RandomForestRegressor\n",
    "\n",
    "reg_3 = RandomForestRegressor(random_state=42)\n",
    "reg_3.fit(X_train, y_train)\n",
    "y_pred_rf = reg_3.predict(X_val)\n",
    "\n",
    "from sklearn.metrics import mean_absolute_error\n",
    "\n",
    "print(f\"MAE para Random Forest é {mean_absolute_error(y_val, y_pred_rf):.2f} %\")"
   ]
  },
  {
   "cell_type": "code",
   "execution_count": 115,
   "id": "8e6ea1e9",
   "metadata": {},
   "outputs": [
    {
     "name": "stdout",
     "output_type": "stream",
     "text": [
      "MAE para treino RF é 6.96 %\n"
     ]
    }
   ],
   "source": [
    "y_pred_rf_train = reg_3.predict(X_train)\n",
    "print(f\"MAE para treino RF é {mean_absolute_error(y_train, y_pred_rf_train):.2f} %\")"
   ]
  },
  {
   "cell_type": "markdown",
   "id": "7c17b78d",
   "metadata": {},
   "source": [
    "---"
   ]
  },
  {
   "cell_type": "code",
   "execution_count": 68,
   "id": "060ce734",
   "metadata": {},
   "outputs": [],
   "source": [
    "# Questão 15\n",
    "import pandas as pd\n",
    "import numpy as np\n",
    "import matplotlib.pyplot as plt\n",
    "from sklearn.datasets import make_regression\n",
    "from sklearn.model_selection import train_test_split\n",
    "\n",
    "X, y = make_regression(n_samples = 400,\n",
    "                       n_features = 5, n_informative = 3, \n",
    "                       noise = 20,\n",
    "                       random_state = 42)\n",
    "\n",
    "X_train, X_val, y_train, y_val = train_test_split(X, y, test_size=0.3, random_state=42)"
   ]
  },
  {
   "cell_type": "code",
   "execution_count": 125,
   "id": "385c4a0c",
   "metadata": {},
   "outputs": [],
   "source": [
    "X_train = pd.DataFrame(X_train)"
   ]
  },
  {
   "cell_type": "code",
   "execution_count": 127,
   "id": "bd4c0ffa",
   "metadata": {},
   "outputs": [],
   "source": [
    "X_train_new = X_train.drop(columns = [1,3,4])"
   ]
  },
  {
   "cell_type": "code",
   "execution_count": 128,
   "id": "8f581456",
   "metadata": {},
   "outputs": [
    {
     "data": {
      "text/html": [
       "<div>\n",
       "<style scoped>\n",
       "    .dataframe tbody tr th:only-of-type {\n",
       "        vertical-align: middle;\n",
       "    }\n",
       "\n",
       "    .dataframe tbody tr th {\n",
       "        vertical-align: top;\n",
       "    }\n",
       "\n",
       "    .dataframe thead th {\n",
       "        text-align: right;\n",
       "    }\n",
       "</style>\n",
       "<table border=\"1\" class=\"dataframe\">\n",
       "  <thead>\n",
       "    <tr style=\"text-align: right;\">\n",
       "      <th></th>\n",
       "      <th>0</th>\n",
       "      <th>2</th>\n",
       "    </tr>\n",
       "  </thead>\n",
       "  <tbody>\n",
       "    <tr>\n",
       "      <th>0</th>\n",
       "      <td>1.726964</td>\n",
       "      <td>0.722381</td>\n",
       "    </tr>\n",
       "    <tr>\n",
       "      <th>1</th>\n",
       "      <td>-0.247177</td>\n",
       "      <td>0.208383</td>\n",
       "    </tr>\n",
       "    <tr>\n",
       "      <th>2</th>\n",
       "      <td>1.613711</td>\n",
       "      <td>0.321357</td>\n",
       "    </tr>\n",
       "    <tr>\n",
       "      <th>3</th>\n",
       "      <td>-1.430141</td>\n",
       "      <td>-1.247783</td>\n",
       "    </tr>\n",
       "    <tr>\n",
       "      <th>4</th>\n",
       "      <td>0.005244</td>\n",
       "      <td>-1.594428</td>\n",
       "    </tr>\n",
       "    <tr>\n",
       "      <th>...</th>\n",
       "      <td>...</td>\n",
       "      <td>...</td>\n",
       "    </tr>\n",
       "    <tr>\n",
       "      <th>275</th>\n",
       "      <td>0.153725</td>\n",
       "      <td>0.385317</td>\n",
       "    </tr>\n",
       "    <tr>\n",
       "      <th>276</th>\n",
       "      <td>-0.903908</td>\n",
       "      <td>-1.413714</td>\n",
       "    </tr>\n",
       "    <tr>\n",
       "      <th>277</th>\n",
       "      <td>-0.342688</td>\n",
       "      <td>1.246085</td>\n",
       "    </tr>\n",
       "    <tr>\n",
       "      <th>278</th>\n",
       "      <td>3.137749</td>\n",
       "      <td>1.374438</td>\n",
       "    </tr>\n",
       "    <tr>\n",
       "      <th>279</th>\n",
       "      <td>-1.251539</td>\n",
       "      <td>-0.241236</td>\n",
       "    </tr>\n",
       "  </tbody>\n",
       "</table>\n",
       "<p>280 rows × 2 columns</p>\n",
       "</div>"
      ],
      "text/plain": [
       "            0         2\n",
       "0    1.726964  0.722381\n",
       "1   -0.247177  0.208383\n",
       "2    1.613711  0.321357\n",
       "3   -1.430141 -1.247783\n",
       "4    0.005244 -1.594428\n",
       "..        ...       ...\n",
       "275  0.153725  0.385317\n",
       "276 -0.903908 -1.413714\n",
       "277 -0.342688  1.246085\n",
       "278  3.137749  1.374438\n",
       "279 -1.251539 -0.241236\n",
       "\n",
       "[280 rows x 2 columns]"
      ]
     },
     "execution_count": 128,
     "metadata": {},
     "output_type": "execute_result"
    }
   ],
   "source": [
    "X_train_new"
   ]
  },
  {
   "cell_type": "code",
   "execution_count": 133,
   "id": "a3945c9a",
   "metadata": {},
   "outputs": [],
   "source": [
    "X_val = pd.DataFrame(X_val)"
   ]
  },
  {
   "cell_type": "code",
   "execution_count": 134,
   "id": "f4d6e317",
   "metadata": {},
   "outputs": [],
   "source": [
    "X_val_new = X_val.drop(columns = [1,3,4])"
   ]
  },
  {
   "cell_type": "markdown",
   "id": "82101472",
   "metadata": {},
   "source": [
    "Utilize o Ranfom Forest para retreinar o modelo com apenas as duas features mais importantes. Baseado no resultado, responda com verdadeiro ou falso à afirmação a seguir:\n",
    "\n",
    "As duas features mais importantes são a de índice 2 e 0, nessa ordem e o MAE obtido no conjunto de validação com apenas essas duas features foi de 20.97."
   ]
  },
  {
   "cell_type": "code",
   "execution_count": null,
   "id": "e070d0e3",
   "metadata": {},
   "outputs": [],
   "source": [
    "# Tem cara de verdadeiro"
   ]
  },
  {
   "cell_type": "code",
   "execution_count": 116,
   "id": "6d462063",
   "metadata": {},
   "outputs": [],
   "source": [
    "# Random Forest\n",
    "from sklearn.ensemble import RandomForestRegressor\n",
    "\n",
    "reg_4 = RandomForestRegressor(random_state = 42)"
   ]
  },
  {
   "cell_type": "code",
   "execution_count": 129,
   "id": "93ee4351",
   "metadata": {},
   "outputs": [
    {
     "data": {
      "text/plain": [
       "RandomForestRegressor(random_state=42)"
      ]
     },
     "execution_count": 129,
     "metadata": {},
     "output_type": "execute_result"
    }
   ],
   "source": [
    "reg_4.fit(X_train_new, y_train)"
   ]
  },
  {
   "cell_type": "code",
   "execution_count": 130,
   "id": "d6c198ae",
   "metadata": {},
   "outputs": [
    {
     "data": {
      "text/plain": [
       "array([0.37587526, 0.62412474])"
      ]
     },
     "execution_count": 130,
     "metadata": {},
     "output_type": "execute_result"
    }
   ],
   "source": [
    "reg_4.feature_importances_"
   ]
  },
  {
   "cell_type": "code",
   "execution_count": 135,
   "id": "8b9d391e",
   "metadata": {},
   "outputs": [],
   "source": [
    "y_pred_rf2 = reg_4.predict(X_val_new)"
   ]
  },
  {
   "cell_type": "code",
   "execution_count": 137,
   "id": "d356766b",
   "metadata": {},
   "outputs": [
    {
     "name": "stdout",
     "output_type": "stream",
     "text": [
      "20.99 %\n"
     ]
    }
   ],
   "source": [
    "from sklearn.metrics import mean_absolute_error\n",
    "\n",
    "print(f\"{mean_absolute_error(y_val, y_pred_rf2):.2f} %\")"
   ]
  },
  {
   "cell_type": "markdown",
   "id": "6fd9ad08",
   "metadata": {},
   "source": [
    "## Verdadeiro"
   ]
  },
  {
   "cell_type": "markdown",
   "id": "ad42c357",
   "metadata": {},
   "source": [
    "---"
   ]
  }
 ],
 "metadata": {
  "kernelspec": {
   "display_name": "Python 3",
   "language": "python",
   "name": "python3"
  },
  "language_info": {
   "codemirror_mode": {
    "name": "ipython",
    "version": 3
   },
   "file_extension": ".py",
   "mimetype": "text/x-python",
   "name": "python",
   "nbconvert_exporter": "python",
   "pygments_lexer": "ipython3",
   "version": "3.8.8"
  }
 },
 "nbformat": 4,
 "nbformat_minor": 5
}
