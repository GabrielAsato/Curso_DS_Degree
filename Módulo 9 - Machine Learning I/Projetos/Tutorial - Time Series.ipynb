{
 "cells": [
  {
   "cell_type": "markdown",
   "id": "df4162d0",
   "metadata": {},
   "source": [
    "## Time Series\n",
    "\n",
    "- https://www.kaggle.com/learn/time-series\n",
    "\n",
    "#### Entendo Séries Temporais"
   ]
  },
  {
   "cell_type": "markdown",
   "id": "0e7960b3",
   "metadata": {},
   "source": [
    "---"
   ]
  },
  {
   "cell_type": "markdown",
   "id": "e764a100",
   "metadata": {},
   "source": [
    "### 1 Linear Regression with time Series"
   ]
  },
  {
   "cell_type": "code",
   "execution_count": 5,
   "id": "e9898d37",
   "metadata": {},
   "outputs": [],
   "source": [
    "# O objeto mais básico de Forecasting é uma Série Temporal, que consiste em um conjunto de observações gravadas no tempo.\n",
    "import pandas as pd\n",
    "\n",
    "df = pd.read_csv(\"book_sales.csv\", index_col = \"Date\")\n",
    "df = df.drop(\"Paperback\", axis = 1)"
   ]
  },
  {
   "cell_type": "code",
   "execution_count": 6,
   "id": "5543d995",
   "metadata": {},
   "outputs": [
    {
     "data": {
      "text/html": [
       "<div>\n",
       "<style scoped>\n",
       "    .dataframe tbody tr th:only-of-type {\n",
       "        vertical-align: middle;\n",
       "    }\n",
       "\n",
       "    .dataframe tbody tr th {\n",
       "        vertical-align: top;\n",
       "    }\n",
       "\n",
       "    .dataframe thead th {\n",
       "        text-align: right;\n",
       "    }\n",
       "</style>\n",
       "<table border=\"1\" class=\"dataframe\">\n",
       "  <thead>\n",
       "    <tr style=\"text-align: right;\">\n",
       "      <th></th>\n",
       "      <th>Hardcover</th>\n",
       "    </tr>\n",
       "    <tr>\n",
       "      <th>Date</th>\n",
       "      <th></th>\n",
       "    </tr>\n",
       "  </thead>\n",
       "  <tbody>\n",
       "    <tr>\n",
       "      <th>2000-04-01</th>\n",
       "      <td>139</td>\n",
       "    </tr>\n",
       "    <tr>\n",
       "      <th>2000-04-02</th>\n",
       "      <td>128</td>\n",
       "    </tr>\n",
       "    <tr>\n",
       "      <th>2000-04-03</th>\n",
       "      <td>172</td>\n",
       "    </tr>\n",
       "    <tr>\n",
       "      <th>2000-04-04</th>\n",
       "      <td>139</td>\n",
       "    </tr>\n",
       "    <tr>\n",
       "      <th>2000-04-05</th>\n",
       "      <td>191</td>\n",
       "    </tr>\n",
       "  </tbody>\n",
       "</table>\n",
       "</div>"
      ],
      "text/plain": [
       "            Hardcover\n",
       "Date                 \n",
       "2000-04-01        139\n",
       "2000-04-02        128\n",
       "2000-04-03        172\n",
       "2000-04-04        139\n",
       "2000-04-05        191"
      ]
     },
     "execution_count": 6,
     "metadata": {},
     "output_type": "execute_result"
    }
   ],
   "source": [
    "df.head(5)"
   ]
  },
  {
   "cell_type": "code",
   "execution_count": 7,
   "id": "28e1f7ac",
   "metadata": {},
   "outputs": [],
   "source": [
    "# A Regressão Linear: target = weight_1 * feature_1 + weight_2 * feature_2 + bias"
   ]
  },
  {
   "cell_type": "code",
   "execution_count": null,
   "id": "e886fe47",
   "metadata": {},
   "outputs": [],
   "source": [
    "# Time-step features\n"
   ]
  },
  {
   "cell_type": "code",
   "execution_count": null,
   "id": "eb9b2566",
   "metadata": {},
   "outputs": [],
   "source": []
  },
  {
   "cell_type": "code",
   "execution_count": null,
   "id": "75851cf0",
   "metadata": {},
   "outputs": [],
   "source": []
  },
  {
   "cell_type": "code",
   "execution_count": null,
   "id": "00657772",
   "metadata": {},
   "outputs": [],
   "source": []
  },
  {
   "cell_type": "code",
   "execution_count": null,
   "id": "5c356e84",
   "metadata": {},
   "outputs": [],
   "source": []
  },
  {
   "cell_type": "markdown",
   "id": "936a1ddd",
   "metadata": {},
   "source": [
    "---"
   ]
  },
  {
   "cell_type": "markdown",
   "id": "61bb25e0",
   "metadata": {},
   "source": [
    "### 2 Trend"
   ]
  },
  {
   "cell_type": "code",
   "execution_count": null,
   "id": "d848c3fc",
   "metadata": {},
   "outputs": [],
   "source": []
  },
  {
   "cell_type": "markdown",
   "id": "16fa5077",
   "metadata": {},
   "source": [
    "---"
   ]
  },
  {
   "cell_type": "markdown",
   "id": "41411cc8",
   "metadata": {},
   "source": [
    "### 3 Seasonality"
   ]
  },
  {
   "cell_type": "code",
   "execution_count": null,
   "id": "c30604fa",
   "metadata": {},
   "outputs": [],
   "source": []
  },
  {
   "cell_type": "markdown",
   "id": "c41043e1",
   "metadata": {},
   "source": [
    "---"
   ]
  },
  {
   "cell_type": "markdown",
   "id": "16e406fc",
   "metadata": {},
   "source": [
    "### 4 Time Series as a features"
   ]
  },
  {
   "cell_type": "code",
   "execution_count": null,
   "id": "4280ae6e",
   "metadata": {},
   "outputs": [],
   "source": []
  },
  {
   "cell_type": "markdown",
   "id": "1ab57e47",
   "metadata": {},
   "source": [
    "---"
   ]
  },
  {
   "cell_type": "markdown",
   "id": "cce9aaa4",
   "metadata": {},
   "source": [
    "### 5 Hybrid Models"
   ]
  },
  {
   "cell_type": "code",
   "execution_count": null,
   "id": "576ec559",
   "metadata": {},
   "outputs": [],
   "source": []
  },
  {
   "cell_type": "markdown",
   "id": "1e2ff5f6",
   "metadata": {},
   "source": [
    "---"
   ]
  },
  {
   "cell_type": "markdown",
   "id": "fe137aff",
   "metadata": {},
   "source": [
    "### 6 Forecasting with Machine Learning"
   ]
  },
  {
   "cell_type": "code",
   "execution_count": null,
   "id": "9a9f399f",
   "metadata": {},
   "outputs": [],
   "source": []
  },
  {
   "cell_type": "markdown",
   "id": "9d552155",
   "metadata": {},
   "source": [
    "---"
   ]
  }
 ],
 "metadata": {
  "kernelspec": {
   "display_name": "Python 3",
   "language": "python",
   "name": "python3"
  },
  "language_info": {
   "codemirror_mode": {
    "name": "ipython",
    "version": 3
   },
   "file_extension": ".py",
   "mimetype": "text/x-python",
   "name": "python",
   "nbconvert_exporter": "python",
   "pygments_lexer": "ipython3",
   "version": "3.8.8"
  }
 },
 "nbformat": 4,
 "nbformat_minor": 5
}
