{
 "cells": [
  {
   "cell_type": "markdown",
   "id": "6caabfb5",
   "metadata": {},
   "source": [
    "Kaggle: https://www.kaggle.com/code/elisthefox/hr-analytics-job-change-of-data-scientists/data?select=aug_train.csv"
   ]
  },
  {
   "cell_type": "markdown",
   "id": "709392c8",
   "metadata": {},
   "source": []
  }
 ],
 "metadata": {
  "kernelspec": {
   "display_name": "Python 3",
   "language": "python",
   "name": "python3"
  },
  "language_info": {
   "codemirror_mode": {
    "name": "ipython",
    "version": 3
   },
   "file_extension": ".py",
   "mimetype": "text/x-python",
   "name": "python",
   "nbconvert_exporter": "python",
   "pygments_lexer": "ipython3",
   "version": "3.8.8"
  }
 },
 "nbformat": 4,
 "nbformat_minor": 5
}
