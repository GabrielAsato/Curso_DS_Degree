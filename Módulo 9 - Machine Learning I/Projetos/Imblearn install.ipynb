{
 "cells": [
  {
   "cell_type": "code",
   "execution_count": 2,
   "id": "1c8cffd3",
   "metadata": {},
   "outputs": [
    {
     "name": "stdout",
     "output_type": "stream",
     "text": [
      "Collecting imbalanced-learn==0.9.0\n",
      "  Downloading imbalanced_learn-0.9.0-py3-none-any.whl (199 kB)\n",
      "Requirement already satisfied: joblib>=0.11 in c:\\users\\gabri\\anaconda3\\lib\\site-packages (from imbalanced-learn==0.9.0) (1.0.1)\n",
      "Requirement already satisfied: numpy>=1.14.6 in c:\\users\\gabri\\anaconda3\\lib\\site-packages (from imbalanced-learn==0.9.0) (1.20.1)\n",
      "Requirement already satisfied: scikit-learn>=1.0.1 in c:\\users\\gabri\\anaconda3\\lib\\site-packages (from imbalanced-learn==0.9.0) (1.0.2)\n",
      "Requirement already satisfied: scipy>=1.1.0 in c:\\users\\gabri\\anaconda3\\lib\\site-packages (from imbalanced-learn==0.9.0) (1.6.2)\n",
      "Requirement already satisfied: threadpoolctl>=2.0.0 in c:\\users\\gabri\\anaconda3\\lib\\site-packages (from imbalanced-learn==0.9.0) (2.1.0)\n",
      "Installing collected packages: imbalanced-learn\n",
      "Successfully installed imbalanced-learn-0.9.0\n"
     ]
    },
    {
     "name": "stderr",
     "output_type": "stream",
     "text": [
      "WARNING: Error parsing requirements for retrying: [Errno 2] No such file or directory: 'c:\\\\users\\\\gabri\\\\anaconda3\\\\lib\\\\site-packages\\\\retrying-1.3.3.dist-info\\\\METADATA'\n"
     ]
    }
   ],
   "source": [
    "!pip install imbalanced-learn==0.9.0"
   ]
  },
  {
   "cell_type": "code",
   "execution_count": null,
   "id": "6f765461",
   "metadata": {},
   "outputs": [],
   "source": []
  },
  {
   "cell_type": "code",
   "execution_count": null,
   "id": "9f2dc0c3",
   "metadata": {},
   "outputs": [],
   "source": []
  },
  {
   "cell_type": "code",
   "execution_count": null,
   "id": "91cf3a92",
   "metadata": {},
   "outputs": [],
   "source": []
  }
 ],
 "metadata": {
  "kernelspec": {
   "display_name": "Python 3",
   "language": "python",
   "name": "python3"
  },
  "language_info": {
   "codemirror_mode": {
    "name": "ipython",
    "version": 3
   },
   "file_extension": ".py",
   "mimetype": "text/x-python",
   "name": "python",
   "nbconvert_exporter": "python",
   "pygments_lexer": "ipython3",
   "version": "3.8.8"
  }
 },
 "nbformat": 4,
 "nbformat_minor": 5
}
