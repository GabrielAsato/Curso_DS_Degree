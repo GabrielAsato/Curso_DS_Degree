{
 "cells": [
  {
   "cell_type": "markdown",
   "id": "e77f44ce-c1a9-4961-a95c-b410f2145d3e",
   "metadata": {},
   "source": [
    "## Estudando Pipelines"
   ]
  },
  {
   "cell_type": "code",
   "execution_count": 71,
   "id": "d94de43e-d4f2-46fa-87d2-2a06a2de40ab",
   "metadata": {},
   "outputs": [],
   "source": [
    "import pandas as pd\n",
    "import numpy as np\n",
    "import seaborn as sns\n",
    "import matplotlib.pyplot as plt"
   ]
  },
  {
   "cell_type": "code",
   "execution_count": 72,
   "id": "1dec9384-2e87-4e7c-aa6e-69bf5f2c1156",
   "metadata": {},
   "outputs": [],
   "source": [
    "from sklearn.model_selection import train_test_split, KFold, GridSearchCV, RandomizedSearchCV, cross_validate, StratifiedKFold\n",
    "from imblearn.pipeline import Pipeline\n",
    "from sklearn.preprocessing import OneHotEncoder, OrdinalEncoder, LabelEncoder, MinMaxScaler, StandardScaler\n",
    "from imblearn.over_sampling import SMOTENC\n",
    "from sklearn.impute import SimpleImputer\n",
    "\n",
    "from sklearn.linear_model import LogisticRegression\n",
    "from sklearn.tree import DecisionTreeClassifier\n",
    "from sklearn.neighbors import KNeighborsClassifier\n",
    "from sklearn.ensemble import RandomForestClassifier\n",
    "\n",
    "from sklearn.compose import ColumnTransformer"
   ]
  },
  {
   "cell_type": "markdown",
   "id": "10835ac1-1dc5-4288-8168-343284a3ed24",
   "metadata": {},
   "source": [
    "Pipeline é uma classe do sklearn que permite aplicar uma sequência de transformações em um estimador final.\n",
    "\n",
    "Para isso, os passos intermendiários devem ter implementados métodos de fit e transform enquanto o estimador final só precisa ter o fit implmentado. O propósito do pipeline é:\n",
    "##### Reunir várias etapas para serem validadas de forma cruzada (cv) ao definir parâmetros diferentes.\n",
    "##### Ajuda a criar códigos que possuam um padrão que possa ser facilmetne entendido e compartilhado entre times de cientistas de dados.\n",
    "\n",
    "- Transformer : Um transformador se refere à um objeto de uma classe que possuem os métodos fit() e transform() e que nos ajudam a transformar o dado na forma que queremos. OneHotEncoder, SimpleImputer e MinMaxScaler são exemplos de transformers.\n",
    "\n",
    "- Estimator : Um estimador se refere à um algoritmo de ML. Ele é um objeto de uma classe que possui os métodos fit() e predict()."
   ]
  },
  {
   "cell_type": "code",
   "execution_count": 73,
   "id": "c6cc4e1b-28e0-46d8-b5f5-48fcfc4464fa",
   "metadata": {},
   "outputs": [
    {
     "data": {
      "text/html": [
       "<div>\n",
       "<style scoped>\n",
       "    .dataframe tbody tr th:only-of-type {\n",
       "        vertical-align: middle;\n",
       "    }\n",
       "\n",
       "    .dataframe tbody tr th {\n",
       "        vertical-align: top;\n",
       "    }\n",
       "\n",
       "    .dataframe thead th {\n",
       "        text-align: right;\n",
       "    }\n",
       "</style>\n",
       "<table border=\"1\" class=\"dataframe\">\n",
       "  <thead>\n",
       "    <tr style=\"text-align: right;\">\n",
       "      <th></th>\n",
       "      <th>total_bill</th>\n",
       "      <th>tip</th>\n",
       "      <th>sex</th>\n",
       "      <th>smoker</th>\n",
       "      <th>day</th>\n",
       "      <th>time</th>\n",
       "      <th>size</th>\n",
       "    </tr>\n",
       "  </thead>\n",
       "  <tbody>\n",
       "    <tr>\n",
       "      <th>0</th>\n",
       "      <td>16.99</td>\n",
       "      <td>1.01</td>\n",
       "      <td>Female</td>\n",
       "      <td>No</td>\n",
       "      <td>Sun</td>\n",
       "      <td>Dinner</td>\n",
       "      <td>2.0</td>\n",
       "    </tr>\n",
       "    <tr>\n",
       "      <th>1</th>\n",
       "      <td>10.34</td>\n",
       "      <td>1.66</td>\n",
       "      <td>NaN</td>\n",
       "      <td>No</td>\n",
       "      <td>Sun</td>\n",
       "      <td>Dinner</td>\n",
       "      <td>3.0</td>\n",
       "    </tr>\n",
       "    <tr>\n",
       "      <th>2</th>\n",
       "      <td>21.01</td>\n",
       "      <td>3.50</td>\n",
       "      <td>NaN</td>\n",
       "      <td>No</td>\n",
       "      <td>Sun</td>\n",
       "      <td>Dinner</td>\n",
       "      <td>3.0</td>\n",
       "    </tr>\n",
       "    <tr>\n",
       "      <th>3</th>\n",
       "      <td>23.68</td>\n",
       "      <td>3.31</td>\n",
       "      <td>Male</td>\n",
       "      <td>No</td>\n",
       "      <td>Sun</td>\n",
       "      <td>Dinner</td>\n",
       "      <td>2.0</td>\n",
       "    </tr>\n",
       "    <tr>\n",
       "      <th>4</th>\n",
       "      <td>24.59</td>\n",
       "      <td>3.61</td>\n",
       "      <td>NaN</td>\n",
       "      <td>No</td>\n",
       "      <td>Sun</td>\n",
       "      <td>Dinner</td>\n",
       "      <td>4.0</td>\n",
       "    </tr>\n",
       "    <tr>\n",
       "      <th>...</th>\n",
       "      <td>...</td>\n",
       "      <td>...</td>\n",
       "      <td>...</td>\n",
       "      <td>...</td>\n",
       "      <td>...</td>\n",
       "      <td>...</td>\n",
       "      <td>...</td>\n",
       "    </tr>\n",
       "    <tr>\n",
       "      <th>239</th>\n",
       "      <td>29.03</td>\n",
       "      <td>5.92</td>\n",
       "      <td>Male</td>\n",
       "      <td>No</td>\n",
       "      <td>Sat</td>\n",
       "      <td>Dinner</td>\n",
       "      <td>3.0</td>\n",
       "    </tr>\n",
       "    <tr>\n",
       "      <th>240</th>\n",
       "      <td>27.18</td>\n",
       "      <td>2.00</td>\n",
       "      <td>Female</td>\n",
       "      <td>Yes</td>\n",
       "      <td>Sat</td>\n",
       "      <td>Dinner</td>\n",
       "      <td>2.0</td>\n",
       "    </tr>\n",
       "    <tr>\n",
       "      <th>241</th>\n",
       "      <td>22.67</td>\n",
       "      <td>2.00</td>\n",
       "      <td>Male</td>\n",
       "      <td>Yes</td>\n",
       "      <td>Sat</td>\n",
       "      <td>Dinner</td>\n",
       "      <td>2.0</td>\n",
       "    </tr>\n",
       "    <tr>\n",
       "      <th>242</th>\n",
       "      <td>17.82</td>\n",
       "      <td>1.75</td>\n",
       "      <td>Male</td>\n",
       "      <td>No</td>\n",
       "      <td>Sat</td>\n",
       "      <td>Dinner</td>\n",
       "      <td>2.0</td>\n",
       "    </tr>\n",
       "    <tr>\n",
       "      <th>243</th>\n",
       "      <td>18.78</td>\n",
       "      <td>3.00</td>\n",
       "      <td>Female</td>\n",
       "      <td>No</td>\n",
       "      <td>Thur</td>\n",
       "      <td>Dinner</td>\n",
       "      <td>2.0</td>\n",
       "    </tr>\n",
       "  </tbody>\n",
       "</table>\n",
       "<p>244 rows × 7 columns</p>\n",
       "</div>"
      ],
      "text/plain": [
       "     total_bill   tip     sex smoker   day    time  size\n",
       "0         16.99  1.01  Female     No   Sun  Dinner   2.0\n",
       "1         10.34  1.66     NaN     No   Sun  Dinner   3.0\n",
       "2         21.01  3.50     NaN     No   Sun  Dinner   3.0\n",
       "3         23.68  3.31    Male     No   Sun  Dinner   2.0\n",
       "4         24.59  3.61     NaN     No   Sun  Dinner   4.0\n",
       "..          ...   ...     ...    ...   ...     ...   ...\n",
       "239       29.03  5.92    Male     No   Sat  Dinner   3.0\n",
       "240       27.18  2.00  Female    Yes   Sat  Dinner   2.0\n",
       "241       22.67  2.00    Male    Yes   Sat  Dinner   2.0\n",
       "242       17.82  1.75    Male     No   Sat  Dinner   2.0\n",
       "243       18.78  3.00  Female     No  Thur  Dinner   2.0\n",
       "\n",
       "[244 rows x 7 columns]"
      ]
     },
     "execution_count": 73,
     "metadata": {},
     "output_type": "execute_result"
    }
   ],
   "source": [
    "# Dataset\n",
    "# Vamos importar o dataset\n",
    "df = sns.load_dataset('tips')\n",
    "\n",
    "# Add missing values -> pra dar uma graça no dataset\n",
    "df.iloc[[1, 2, 4, 12], [2]] = np.nan\n",
    "df.iloc[[10, 20, 40, 120, 222], [1]] = np.nan\n",
    "df.iloc[[61, 27, 145, 212], [3]] = np.nan\n",
    "df.iloc[[143, 237, 48, 102, 20], [4]] = np.nan\n",
    "df.iloc[[71, 172, 194, 182], [5]] = np.nan\n",
    "df.iloc[[83, 90, 33, 228], [6]] = np.nan\n",
    "df\n",
    "\n",
    "# Target : tip | features : [total_bill, sex, smoker, day, time, size of the party]"
   ]
  },
  {
   "cell_type": "code",
   "execution_count": 74,
   "id": "3b708827-720b-4eed-8f01-93afdab2f6a1",
   "metadata": {},
   "outputs": [
    {
     "data": {
      "text/plain": [
       "(244, 7)"
      ]
     },
     "execution_count": 74,
     "metadata": {},
     "output_type": "execute_result"
    }
   ],
   "source": [
    "df.shape"
   ]
  },
  {
   "cell_type": "code",
   "execution_count": 75,
   "id": "7c53dd96-43f9-48cf-b9c7-c08941a3f2f2",
   "metadata": {},
   "outputs": [
    {
     "name": "stdout",
     "output_type": "stream",
     "text": [
      "<class 'pandas.core.frame.DataFrame'>\n",
      "RangeIndex: 244 entries, 0 to 243\n",
      "Data columns (total 7 columns):\n",
      " #   Column      Non-Null Count  Dtype   \n",
      "---  ------      --------------  -----   \n",
      " 0   total_bill  244 non-null    float64 \n",
      " 1   tip         239 non-null    float64 \n",
      " 2   sex         240 non-null    category\n",
      " 3   smoker      240 non-null    category\n",
      " 4   day         239 non-null    category\n",
      " 5   time        240 non-null    category\n",
      " 6   size        240 non-null    float64 \n",
      "dtypes: category(4), float64(3)\n",
      "memory usage: 7.4 KB\n"
     ]
    }
   ],
   "source": [
    "df.info()\n",
    "# 244 entradas"
   ]
  },
  {
   "cell_type": "code",
   "execution_count": 76,
   "id": "50f1dca9-b57a-41e8-a69c-d236fccece9f",
   "metadata": {},
   "outputs": [
    {
     "data": {
      "text/plain": [
       "total_bill    0\n",
       "tip           5\n",
       "sex           4\n",
       "smoker        4\n",
       "day           5\n",
       "time          4\n",
       "size          4\n",
       "dtype: int64"
      ]
     },
     "execution_count": 76,
     "metadata": {},
     "output_type": "execute_result"
    }
   ],
   "source": [
    "df.isnull().sum()\n",
    "# Geralmente, em ML supervisionado, o target nunca é nulo"
   ]
  },
  {
   "cell_type": "code",
   "execution_count": 77,
   "id": "d9e61c93-4b1f-4c89-9d40-05517250794d",
   "metadata": {},
   "outputs": [],
   "source": [
    "# Para as features numéricas vamos: 1) padronizar as features; 2) adicionar a mediana nos valores nulos e 3) treinar o algoritmo ML.\n",
    "# Precisamos \"treinar\" esses passos SOMENTE na base de treino e depois aplicar na base de validação\n",
    "from sklearn.model_selection import train_test_split\n",
    "\n",
    "X_train, X_test, y_train, y_test = train_test_split(df.drop(columns = [\"total_bill\"]),\n",
    "                                                   df['total_bill'],\n",
    "                                                   test_size = .2,\n",
    "                                                   random_state = 42)"
   ]
  },
  {
   "cell_type": "code",
   "execution_count": 78,
   "id": "8a3dcf3e-ad7d-4d17-ba95-12a55c4b5d42",
   "metadata": {},
   "outputs": [],
   "source": [
    "# Para os processamentos das features, faremos uma Pipeline\n",
    "from sklearn.pipeline import Pipeline\n",
    "from sklearn.impute import SimpleImputer # Preencher os NaNs com a mediana\n",
    "from sklearn.preprocessing import StandardScaler # Padronização das features\n",
    "from sklearn.neighbors import KNeighborsRegressor # algoritmo de ML\n",
    "from sklearn.metrics import mean_squared_error, mean_absolute_error # métricas de avaliação"
   ]
  },
  {
   "cell_type": "markdown",
   "id": "771577f8-b6b8-49ac-b0fa-64e36b17feed",
   "metadata": {},
   "source": [
    "O Pipeline é construído com uma lista de pares (key, value) nos quais a key é uma string que contém um nome para o step escolhido e o valor é o objeto da classe.\n",
    "\n",
    "O Pipeline segue o mesmo framwork do sklearn e por isso temos os métodos .fit(), .fit_transform() e .transform() para os transformers e .fit() e predict() quando temos estimadores definidos dentro da sequência do pipeline."
   ]
  },
  {
   "cell_type": "code",
   "execution_count": 79,
   "id": "7b9f4ae7-1262-4d92-9a33-adea6c8e8671",
   "metadata": {},
   "outputs": [],
   "source": [
    "# Vamos separar variáveis numéricas das categóricas\n",
    "num_cols = X_train.select_dtypes('number').columns\n",
    "cat_cols = X_train.select_dtypes(exclude = 'number').columns\n",
    "\n",
    "# Criaremos uma Pipeline com SimpleImputer, StandardScaler e KNeighborsRegressor\n",
    "pipe_knn = Pipeline([\n",
    "    ('imputer', SimpleImputer(strategy = \"median\")),\n",
    "    ('scaler', StandardScaler()),\n",
    "    ('model', KNeighborsRegressor(n_neighbors = 7))\n",
    "], verbose = True)"
   ]
  },
  {
   "cell_type": "code",
   "execution_count": 82,
   "id": "6df23918-49e8-4133-ac9c-8a0c8d4f1185",
   "metadata": {},
   "outputs": [],
   "source": [
    "impt = SimpleImputer(strategy = \"median\").fit_transform(X_train[num_cols])"
   ]
  },
  {
   "cell_type": "code",
   "execution_count": 85,
   "id": "24cf1619-a568-43ec-ac3e-ff0694a8fdc5",
   "metadata": {},
   "outputs": [
    {
     "data": {
      "text/html": [
       "<div>\n",
       "<style scoped>\n",
       "    .dataframe tbody tr th:only-of-type {\n",
       "        vertical-align: middle;\n",
       "    }\n",
       "\n",
       "    .dataframe tbody tr th {\n",
       "        vertical-align: top;\n",
       "    }\n",
       "\n",
       "    .dataframe thead th {\n",
       "        text-align: right;\n",
       "    }\n",
       "</style>\n",
       "<table border=\"1\" class=\"dataframe\">\n",
       "  <thead>\n",
       "    <tr style=\"text-align: right;\">\n",
       "      <th></th>\n",
       "      <th>0</th>\n",
       "      <th>1</th>\n",
       "    </tr>\n",
       "  </thead>\n",
       "  <tbody>\n",
       "    <tr>\n",
       "      <th>0</th>\n",
       "      <td>2.72</td>\n",
       "      <td>2.0</td>\n",
       "    </tr>\n",
       "    <tr>\n",
       "      <th>1</th>\n",
       "      <td>2.03</td>\n",
       "      <td>2.0</td>\n",
       "    </tr>\n",
       "    <tr>\n",
       "      <th>2</th>\n",
       "      <td>4.00</td>\n",
       "      <td>2.0</td>\n",
       "    </tr>\n",
       "    <tr>\n",
       "      <th>3</th>\n",
       "      <td>4.50</td>\n",
       "      <td>4.0</td>\n",
       "    </tr>\n",
       "    <tr>\n",
       "      <th>4</th>\n",
       "      <td>2.03</td>\n",
       "      <td>2.0</td>\n",
       "    </tr>\n",
       "  </tbody>\n",
       "</table>\n",
       "</div>"
      ],
      "text/plain": [
       "      0    1\n",
       "0  2.72  2.0\n",
       "1  2.03  2.0\n",
       "2  4.00  2.0\n",
       "3  4.50  4.0\n",
       "4  2.03  2.0"
      ]
     },
     "execution_count": 85,
     "metadata": {},
     "output_type": "execute_result"
    }
   ],
   "source": [
    "impt = pd.DataFrame(impt)\n",
    "impt.head()"
   ]
  },
  {
   "cell_type": "code",
   "execution_count": 84,
   "id": "3f72feaf-7f8f-4176-bb78-00ef3442c587",
   "metadata": {},
   "outputs": [
    {
     "data": {
      "text/html": [
       "<div>\n",
       "<style scoped>\n",
       "    .dataframe tbody tr th:only-of-type {\n",
       "        vertical-align: middle;\n",
       "    }\n",
       "\n",
       "    .dataframe tbody tr th {\n",
       "        vertical-align: top;\n",
       "    }\n",
       "\n",
       "    .dataframe thead th {\n",
       "        text-align: right;\n",
       "    }\n",
       "</style>\n",
       "<table border=\"1\" class=\"dataframe\">\n",
       "  <thead>\n",
       "    <tr style=\"text-align: right;\">\n",
       "      <th></th>\n",
       "      <th>tip</th>\n",
       "      <th>size</th>\n",
       "    </tr>\n",
       "  </thead>\n",
       "  <tbody>\n",
       "    <tr>\n",
       "      <th>228</th>\n",
       "      <td>2.72</td>\n",
       "      <td>NaN</td>\n",
       "    </tr>\n",
       "    <tr>\n",
       "      <th>208</th>\n",
       "      <td>2.03</td>\n",
       "      <td>2.0</td>\n",
       "    </tr>\n",
       "    <tr>\n",
       "      <th>96</th>\n",
       "      <td>4.00</td>\n",
       "      <td>2.0</td>\n",
       "    </tr>\n",
       "    <tr>\n",
       "      <th>167</th>\n",
       "      <td>4.50</td>\n",
       "      <td>4.0</td>\n",
       "    </tr>\n",
       "    <tr>\n",
       "      <th>84</th>\n",
       "      <td>2.03</td>\n",
       "      <td>2.0</td>\n",
       "    </tr>\n",
       "  </tbody>\n",
       "</table>\n",
       "</div>"
      ],
      "text/plain": [
       "      tip  size\n",
       "228  2.72   NaN\n",
       "208  2.03   2.0\n",
       "96   4.00   2.0\n",
       "167  4.50   4.0\n",
       "84   2.03   2.0"
      ]
     },
     "execution_count": 84,
     "metadata": {},
     "output_type": "execute_result"
    }
   ],
   "source": [
    "X_train[num_cols].head()"
   ]
  },
  {
   "cell_type": "code",
   "execution_count": 86,
   "id": "62f8d9ea-dd44-41e0-8707-9f6a71dd2ade",
   "metadata": {},
   "outputs": [
    {
     "data": {
      "text/plain": [
       "{'memory': None,\n",
       " 'steps': [('imputer', SimpleImputer(strategy='median')),\n",
       "  ('scaler', StandardScaler()),\n",
       "  ('model', KNeighborsRegressor(n_neighbors=7))],\n",
       " 'verbose': True,\n",
       " 'imputer': SimpleImputer(strategy='median'),\n",
       " 'scaler': StandardScaler(),\n",
       " 'model': KNeighborsRegressor(n_neighbors=7),\n",
       " 'imputer__add_indicator': False,\n",
       " 'imputer__copy': True,\n",
       " 'imputer__fill_value': None,\n",
       " 'imputer__missing_values': nan,\n",
       " 'imputer__strategy': 'median',\n",
       " 'imputer__verbose': 0,\n",
       " 'scaler__copy': True,\n",
       " 'scaler__with_mean': True,\n",
       " 'scaler__with_std': True,\n",
       " 'model__algorithm': 'auto',\n",
       " 'model__leaf_size': 30,\n",
       " 'model__metric': 'minkowski',\n",
       " 'model__metric_params': None,\n",
       " 'model__n_jobs': None,\n",
       " 'model__n_neighbors': 7,\n",
       " 'model__p': 2,\n",
       " 'model__weights': 'uniform'}"
      ]
     },
     "execution_count": 86,
     "metadata": {},
     "output_type": "execute_result"
    }
   ],
   "source": [
    "pipe_knn.get_params()"
   ]
  },
  {
   "cell_type": "code",
   "execution_count": 87,
   "id": "3470463f-87af-4ca8-99cb-0324c1b85773",
   "metadata": {},
   "outputs": [
    {
     "data": {
      "text/html": [
       "<style>#sk-c636a505-180a-4f20-9abe-a3e9544e827e {color: black;background-color: white;}#sk-c636a505-180a-4f20-9abe-a3e9544e827e pre{padding: 0;}#sk-c636a505-180a-4f20-9abe-a3e9544e827e div.sk-toggleable {background-color: white;}#sk-c636a505-180a-4f20-9abe-a3e9544e827e label.sk-toggleable__label {cursor: pointer;display: block;width: 100%;margin-bottom: 0;padding: 0.3em;box-sizing: border-box;text-align: center;}#sk-c636a505-180a-4f20-9abe-a3e9544e827e label.sk-toggleable__label-arrow:before {content: \"▸\";float: left;margin-right: 0.25em;color: #696969;}#sk-c636a505-180a-4f20-9abe-a3e9544e827e label.sk-toggleable__label-arrow:hover:before {color: black;}#sk-c636a505-180a-4f20-9abe-a3e9544e827e div.sk-estimator:hover label.sk-toggleable__label-arrow:before {color: black;}#sk-c636a505-180a-4f20-9abe-a3e9544e827e div.sk-toggleable__content {max-height: 0;max-width: 0;overflow: hidden;text-align: left;background-color: #f0f8ff;}#sk-c636a505-180a-4f20-9abe-a3e9544e827e div.sk-toggleable__content pre {margin: 0.2em;color: black;border-radius: 0.25em;background-color: #f0f8ff;}#sk-c636a505-180a-4f20-9abe-a3e9544e827e input.sk-toggleable__control:checked~div.sk-toggleable__content {max-height: 200px;max-width: 100%;overflow: auto;}#sk-c636a505-180a-4f20-9abe-a3e9544e827e input.sk-toggleable__control:checked~label.sk-toggleable__label-arrow:before {content: \"▾\";}#sk-c636a505-180a-4f20-9abe-a3e9544e827e div.sk-estimator input.sk-toggleable__control:checked~label.sk-toggleable__label {background-color: #d4ebff;}#sk-c636a505-180a-4f20-9abe-a3e9544e827e div.sk-label input.sk-toggleable__control:checked~label.sk-toggleable__label {background-color: #d4ebff;}#sk-c636a505-180a-4f20-9abe-a3e9544e827e input.sk-hidden--visually {border: 0;clip: rect(1px 1px 1px 1px);clip: rect(1px, 1px, 1px, 1px);height: 1px;margin: -1px;overflow: hidden;padding: 0;position: absolute;width: 1px;}#sk-c636a505-180a-4f20-9abe-a3e9544e827e div.sk-estimator {font-family: monospace;background-color: #f0f8ff;border: 1px dotted black;border-radius: 0.25em;box-sizing: border-box;margin-bottom: 0.5em;}#sk-c636a505-180a-4f20-9abe-a3e9544e827e div.sk-estimator:hover {background-color: #d4ebff;}#sk-c636a505-180a-4f20-9abe-a3e9544e827e div.sk-parallel-item::after {content: \"\";width: 100%;border-bottom: 1px solid gray;flex-grow: 1;}#sk-c636a505-180a-4f20-9abe-a3e9544e827e div.sk-label:hover label.sk-toggleable__label {background-color: #d4ebff;}#sk-c636a505-180a-4f20-9abe-a3e9544e827e div.sk-serial::before {content: \"\";position: absolute;border-left: 1px solid gray;box-sizing: border-box;top: 2em;bottom: 0;left: 50%;}#sk-c636a505-180a-4f20-9abe-a3e9544e827e div.sk-serial {display: flex;flex-direction: column;align-items: center;background-color: white;padding-right: 0.2em;padding-left: 0.2em;}#sk-c636a505-180a-4f20-9abe-a3e9544e827e div.sk-item {z-index: 1;}#sk-c636a505-180a-4f20-9abe-a3e9544e827e div.sk-parallel {display: flex;align-items: stretch;justify-content: center;background-color: white;}#sk-c636a505-180a-4f20-9abe-a3e9544e827e div.sk-parallel::before {content: \"\";position: absolute;border-left: 1px solid gray;box-sizing: border-box;top: 2em;bottom: 0;left: 50%;}#sk-c636a505-180a-4f20-9abe-a3e9544e827e div.sk-parallel-item {display: flex;flex-direction: column;position: relative;background-color: white;}#sk-c636a505-180a-4f20-9abe-a3e9544e827e div.sk-parallel-item:first-child::after {align-self: flex-end;width: 50%;}#sk-c636a505-180a-4f20-9abe-a3e9544e827e div.sk-parallel-item:last-child::after {align-self: flex-start;width: 50%;}#sk-c636a505-180a-4f20-9abe-a3e9544e827e div.sk-parallel-item:only-child::after {width: 0;}#sk-c636a505-180a-4f20-9abe-a3e9544e827e div.sk-dashed-wrapped {border: 1px dashed gray;margin: 0 0.4em 0.5em 0.4em;box-sizing: border-box;padding-bottom: 0.4em;background-color: white;position: relative;}#sk-c636a505-180a-4f20-9abe-a3e9544e827e div.sk-label label {font-family: monospace;font-weight: bold;background-color: white;display: inline-block;line-height: 1.2em;}#sk-c636a505-180a-4f20-9abe-a3e9544e827e div.sk-label-container {position: relative;z-index: 2;text-align: center;}#sk-c636a505-180a-4f20-9abe-a3e9544e827e div.sk-container {/* jupyter's `normalize.less` sets `[hidden] { display: none; }` but bootstrap.min.css set `[hidden] { display: none !important; }` so we also need the `!important` here to be able to override the default hidden behavior on the sphinx rendered scikit-learn.org. See: https://github.com/scikit-learn/scikit-learn/issues/21755 */display: inline-block !important;position: relative;}#sk-c636a505-180a-4f20-9abe-a3e9544e827e div.sk-text-repr-fallback {display: none;}</style><div id=\"sk-c636a505-180a-4f20-9abe-a3e9544e827e\" class=\"sk-top-container\"><div class=\"sk-text-repr-fallback\"><pre>Pipeline(steps=[(&#x27;imputer&#x27;, SimpleImputer(strategy=&#x27;median&#x27;)),\n",
       "                (&#x27;scaler&#x27;, StandardScaler()),\n",
       "                (&#x27;model&#x27;, KNeighborsRegressor(n_neighbors=7))],\n",
       "         verbose=True)</pre><b>Please rerun this cell to show the HTML repr or trust the notebook.</b></div><div class=\"sk-container\" hidden><div class=\"sk-item sk-dashed-wrapped\"><div class=\"sk-label-container\"><div class=\"sk-label sk-toggleable\"><input class=\"sk-toggleable__control sk-hidden--visually\" id=\"d39c8b8a-708f-4a56-b6b6-08b0a11c9493\" type=\"checkbox\" ><label for=\"d39c8b8a-708f-4a56-b6b6-08b0a11c9493\" class=\"sk-toggleable__label sk-toggleable__label-arrow\">Pipeline</label><div class=\"sk-toggleable__content\"><pre>Pipeline(steps=[(&#x27;imputer&#x27;, SimpleImputer(strategy=&#x27;median&#x27;)),\n",
       "                (&#x27;scaler&#x27;, StandardScaler()),\n",
       "                (&#x27;model&#x27;, KNeighborsRegressor(n_neighbors=7))],\n",
       "         verbose=True)</pre></div></div></div><div class=\"sk-serial\"><div class=\"sk-item\"><div class=\"sk-estimator sk-toggleable\"><input class=\"sk-toggleable__control sk-hidden--visually\" id=\"24b181ea-c928-4ab0-951e-a238e128062f\" type=\"checkbox\" ><label for=\"24b181ea-c928-4ab0-951e-a238e128062f\" class=\"sk-toggleable__label sk-toggleable__label-arrow\">SimpleImputer</label><div class=\"sk-toggleable__content\"><pre>SimpleImputer(strategy=&#x27;median&#x27;)</pre></div></div></div><div class=\"sk-item\"><div class=\"sk-estimator sk-toggleable\"><input class=\"sk-toggleable__control sk-hidden--visually\" id=\"469d05a5-8207-43af-ba9f-ea2f632711a8\" type=\"checkbox\" ><label for=\"469d05a5-8207-43af-ba9f-ea2f632711a8\" class=\"sk-toggleable__label sk-toggleable__label-arrow\">StandardScaler</label><div class=\"sk-toggleable__content\"><pre>StandardScaler()</pre></div></div></div><div class=\"sk-item\"><div class=\"sk-estimator sk-toggleable\"><input class=\"sk-toggleable__control sk-hidden--visually\" id=\"444f5948-2557-4904-9b18-9574047129f1\" type=\"checkbox\" ><label for=\"444f5948-2557-4904-9b18-9574047129f1\" class=\"sk-toggleable__label sk-toggleable__label-arrow\">KNeighborsRegressor</label><div class=\"sk-toggleable__content\"><pre>KNeighborsRegressor(n_neighbors=7)</pre></div></div></div></div></div></div></div>"
      ],
      "text/plain": [
       "Pipeline(steps=[('imputer', SimpleImputer(strategy='median')),\n",
       "                ('scaler', StandardScaler()),\n",
       "                ('model', KNeighborsRegressor(n_neighbors=7))],\n",
       "         verbose=True)"
      ]
     },
     "execution_count": 87,
     "metadata": {},
     "output_type": "execute_result"
    }
   ],
   "source": [
    "# Melhor visualização do Pipeline\n",
    "from sklearn import set_config\n",
    "set_config(display = \"diagram\")\n",
    "pipe_knn"
   ]
  },
  {
   "cell_type": "code",
   "execution_count": 88,
   "id": "15e843a6-690f-4301-a0d5-9c236d73b84d",
   "metadata": {},
   "outputs": [
    {
     "name": "stdout",
     "output_type": "stream",
     "text": [
      "[Pipeline] ........... (step 1 of 3) Processing imputer, total=   0.0s\n",
      "[Pipeline] ............ (step 2 of 3) Processing scaler, total=   0.0s\n",
      "[Pipeline] ............. (step 3 of 3) Processing model, total=   0.0s\n"
     ]
    },
    {
     "data": {
      "text/html": [
       "<style>#sk-5c5f6de9-11ef-4aa8-98c7-7050eeb4f90b {color: black;background-color: white;}#sk-5c5f6de9-11ef-4aa8-98c7-7050eeb4f90b pre{padding: 0;}#sk-5c5f6de9-11ef-4aa8-98c7-7050eeb4f90b div.sk-toggleable {background-color: white;}#sk-5c5f6de9-11ef-4aa8-98c7-7050eeb4f90b label.sk-toggleable__label {cursor: pointer;display: block;width: 100%;margin-bottom: 0;padding: 0.3em;box-sizing: border-box;text-align: center;}#sk-5c5f6de9-11ef-4aa8-98c7-7050eeb4f90b label.sk-toggleable__label-arrow:before {content: \"▸\";float: left;margin-right: 0.25em;color: #696969;}#sk-5c5f6de9-11ef-4aa8-98c7-7050eeb4f90b label.sk-toggleable__label-arrow:hover:before {color: black;}#sk-5c5f6de9-11ef-4aa8-98c7-7050eeb4f90b div.sk-estimator:hover label.sk-toggleable__label-arrow:before {color: black;}#sk-5c5f6de9-11ef-4aa8-98c7-7050eeb4f90b div.sk-toggleable__content {max-height: 0;max-width: 0;overflow: hidden;text-align: left;background-color: #f0f8ff;}#sk-5c5f6de9-11ef-4aa8-98c7-7050eeb4f90b div.sk-toggleable__content pre {margin: 0.2em;color: black;border-radius: 0.25em;background-color: #f0f8ff;}#sk-5c5f6de9-11ef-4aa8-98c7-7050eeb4f90b input.sk-toggleable__control:checked~div.sk-toggleable__content {max-height: 200px;max-width: 100%;overflow: auto;}#sk-5c5f6de9-11ef-4aa8-98c7-7050eeb4f90b input.sk-toggleable__control:checked~label.sk-toggleable__label-arrow:before {content: \"▾\";}#sk-5c5f6de9-11ef-4aa8-98c7-7050eeb4f90b div.sk-estimator input.sk-toggleable__control:checked~label.sk-toggleable__label {background-color: #d4ebff;}#sk-5c5f6de9-11ef-4aa8-98c7-7050eeb4f90b div.sk-label input.sk-toggleable__control:checked~label.sk-toggleable__label {background-color: #d4ebff;}#sk-5c5f6de9-11ef-4aa8-98c7-7050eeb4f90b input.sk-hidden--visually {border: 0;clip: rect(1px 1px 1px 1px);clip: rect(1px, 1px, 1px, 1px);height: 1px;margin: -1px;overflow: hidden;padding: 0;position: absolute;width: 1px;}#sk-5c5f6de9-11ef-4aa8-98c7-7050eeb4f90b div.sk-estimator {font-family: monospace;background-color: #f0f8ff;border: 1px dotted black;border-radius: 0.25em;box-sizing: border-box;margin-bottom: 0.5em;}#sk-5c5f6de9-11ef-4aa8-98c7-7050eeb4f90b div.sk-estimator:hover {background-color: #d4ebff;}#sk-5c5f6de9-11ef-4aa8-98c7-7050eeb4f90b div.sk-parallel-item::after {content: \"\";width: 100%;border-bottom: 1px solid gray;flex-grow: 1;}#sk-5c5f6de9-11ef-4aa8-98c7-7050eeb4f90b div.sk-label:hover label.sk-toggleable__label {background-color: #d4ebff;}#sk-5c5f6de9-11ef-4aa8-98c7-7050eeb4f90b div.sk-serial::before {content: \"\";position: absolute;border-left: 1px solid gray;box-sizing: border-box;top: 2em;bottom: 0;left: 50%;}#sk-5c5f6de9-11ef-4aa8-98c7-7050eeb4f90b div.sk-serial {display: flex;flex-direction: column;align-items: center;background-color: white;padding-right: 0.2em;padding-left: 0.2em;}#sk-5c5f6de9-11ef-4aa8-98c7-7050eeb4f90b div.sk-item {z-index: 1;}#sk-5c5f6de9-11ef-4aa8-98c7-7050eeb4f90b div.sk-parallel {display: flex;align-items: stretch;justify-content: center;background-color: white;}#sk-5c5f6de9-11ef-4aa8-98c7-7050eeb4f90b div.sk-parallel::before {content: \"\";position: absolute;border-left: 1px solid gray;box-sizing: border-box;top: 2em;bottom: 0;left: 50%;}#sk-5c5f6de9-11ef-4aa8-98c7-7050eeb4f90b div.sk-parallel-item {display: flex;flex-direction: column;position: relative;background-color: white;}#sk-5c5f6de9-11ef-4aa8-98c7-7050eeb4f90b div.sk-parallel-item:first-child::after {align-self: flex-end;width: 50%;}#sk-5c5f6de9-11ef-4aa8-98c7-7050eeb4f90b div.sk-parallel-item:last-child::after {align-self: flex-start;width: 50%;}#sk-5c5f6de9-11ef-4aa8-98c7-7050eeb4f90b div.sk-parallel-item:only-child::after {width: 0;}#sk-5c5f6de9-11ef-4aa8-98c7-7050eeb4f90b div.sk-dashed-wrapped {border: 1px dashed gray;margin: 0 0.4em 0.5em 0.4em;box-sizing: border-box;padding-bottom: 0.4em;background-color: white;position: relative;}#sk-5c5f6de9-11ef-4aa8-98c7-7050eeb4f90b div.sk-label label {font-family: monospace;font-weight: bold;background-color: white;display: inline-block;line-height: 1.2em;}#sk-5c5f6de9-11ef-4aa8-98c7-7050eeb4f90b div.sk-label-container {position: relative;z-index: 2;text-align: center;}#sk-5c5f6de9-11ef-4aa8-98c7-7050eeb4f90b div.sk-container {/* jupyter's `normalize.less` sets `[hidden] { display: none; }` but bootstrap.min.css set `[hidden] { display: none !important; }` so we also need the `!important` here to be able to override the default hidden behavior on the sphinx rendered scikit-learn.org. See: https://github.com/scikit-learn/scikit-learn/issues/21755 */display: inline-block !important;position: relative;}#sk-5c5f6de9-11ef-4aa8-98c7-7050eeb4f90b div.sk-text-repr-fallback {display: none;}</style><div id=\"sk-5c5f6de9-11ef-4aa8-98c7-7050eeb4f90b\" class=\"sk-top-container\"><div class=\"sk-text-repr-fallback\"><pre>Pipeline(steps=[(&#x27;imputer&#x27;, SimpleImputer(strategy=&#x27;median&#x27;)),\n",
       "                (&#x27;scaler&#x27;, StandardScaler()),\n",
       "                (&#x27;model&#x27;, KNeighborsRegressor(n_neighbors=7))],\n",
       "         verbose=True)</pre><b>Please rerun this cell to show the HTML repr or trust the notebook.</b></div><div class=\"sk-container\" hidden><div class=\"sk-item sk-dashed-wrapped\"><div class=\"sk-label-container\"><div class=\"sk-label sk-toggleable\"><input class=\"sk-toggleable__control sk-hidden--visually\" id=\"f7dd1c74-645c-4932-b7b9-ef8c4c656311\" type=\"checkbox\" ><label for=\"f7dd1c74-645c-4932-b7b9-ef8c4c656311\" class=\"sk-toggleable__label sk-toggleable__label-arrow\">Pipeline</label><div class=\"sk-toggleable__content\"><pre>Pipeline(steps=[(&#x27;imputer&#x27;, SimpleImputer(strategy=&#x27;median&#x27;)),\n",
       "                (&#x27;scaler&#x27;, StandardScaler()),\n",
       "                (&#x27;model&#x27;, KNeighborsRegressor(n_neighbors=7))],\n",
       "         verbose=True)</pre></div></div></div><div class=\"sk-serial\"><div class=\"sk-item\"><div class=\"sk-estimator sk-toggleable\"><input class=\"sk-toggleable__control sk-hidden--visually\" id=\"b471623c-b32a-413c-b081-926ea2152e0c\" type=\"checkbox\" ><label for=\"b471623c-b32a-413c-b081-926ea2152e0c\" class=\"sk-toggleable__label sk-toggleable__label-arrow\">SimpleImputer</label><div class=\"sk-toggleable__content\"><pre>SimpleImputer(strategy=&#x27;median&#x27;)</pre></div></div></div><div class=\"sk-item\"><div class=\"sk-estimator sk-toggleable\"><input class=\"sk-toggleable__control sk-hidden--visually\" id=\"2521f4cf-ddfd-4caa-982c-16717d6b10ef\" type=\"checkbox\" ><label for=\"2521f4cf-ddfd-4caa-982c-16717d6b10ef\" class=\"sk-toggleable__label sk-toggleable__label-arrow\">StandardScaler</label><div class=\"sk-toggleable__content\"><pre>StandardScaler()</pre></div></div></div><div class=\"sk-item\"><div class=\"sk-estimator sk-toggleable\"><input class=\"sk-toggleable__control sk-hidden--visually\" id=\"fdfe7bbc-b3ef-4d2c-9b64-b704f001b3a4\" type=\"checkbox\" ><label for=\"fdfe7bbc-b3ef-4d2c-9b64-b704f001b3a4\" class=\"sk-toggleable__label sk-toggleable__label-arrow\">KNeighborsRegressor</label><div class=\"sk-toggleable__content\"><pre>KNeighborsRegressor(n_neighbors=7)</pre></div></div></div></div></div></div></div>"
      ],
      "text/plain": [
       "Pipeline(steps=[('imputer', SimpleImputer(strategy='median')),\n",
       "                ('scaler', StandardScaler()),\n",
       "                ('model', KNeighborsRegressor(n_neighbors=7))],\n",
       "         verbose=True)"
      ]
     },
     "execution_count": 88,
     "metadata": {},
     "output_type": "execute_result"
    }
   ],
   "source": [
    "# Vamos rodas, agora, somente as colunas numéricas\n",
    "pipe_knn.fit(X_train[num_cols], y_train)"
   ]
  },
  {
   "cell_type": "code",
   "execution_count": 89,
   "id": "703574e0-3c3c-4eca-b717-da0240da2134",
   "metadata": {},
   "outputs": [
    {
     "data": {
      "text/plain": [
       "array([23.74428571, 12.94428571, 25.39285714, 32.95571429, 12.94428571,\n",
       "       12.94428571, 14.05714286, 14.19142857, 22.42714286, 20.07      ,\n",
       "       20.07      , 12.40857143, 14.96428571, 12.94428571, 11.73428571,\n",
       "       24.08428571, 24.81      , 18.56714286, 13.48857143, 30.34571429,\n",
       "       13.48857143, 24.59571429, 18.56714286, 12.40857143, 25.13857143,\n",
       "       20.07      , 20.07      , 21.24571429, 25.39285714, 29.3       ,\n",
       "       24.81      , 12.40857143, 25.39285714, 23.74428571, 25.13857143,\n",
       "       27.28428571, 14.96428571, 33.14285714, 16.70428571, 12.94428571,\n",
       "       14.21428571, 12.94428571, 14.19142857, 24.08428571, 12.94428571,\n",
       "       14.05571429, 12.94285714, 25.12      , 12.40857143])"
      ]
     },
     "execution_count": 89,
     "metadata": {},
     "output_type": "execute_result"
    }
   ],
   "source": [
    "y_pred = pipe_knn.predict(X_test[num_cols])\n",
    "y_pred"
   ]
  },
  {
   "cell_type": "code",
   "execution_count": 91,
   "id": "9905ac15-c742-47a5-997b-c2f98370e012",
   "metadata": {},
   "outputs": [
    {
     "name": "stdout",
     "output_type": "stream",
     "text": [
      "MSE: 49.3\n",
      "MAE: 5.8\n"
     ]
    }
   ],
   "source": [
    "# Avaliando o modelo com y_test\n",
    "print(f\"MSE: {mean_squared_error(y_test, y_pred):.1f}\")\n",
    "print(f\"MAE: {mean_absolute_error(y_test, y_pred):.1f}\")"
   ]
  },
  {
   "cell_type": "code",
   "execution_count": 92,
   "id": "827b5ed3-fe5f-4f3e-87ae-bfcfab985c64",
   "metadata": {},
   "outputs": [
    {
     "name": "stdout",
     "output_type": "stream",
     "text": [
      "MSE: 49.3\n",
      "MAE: 5.8\n"
     ]
    }
   ],
   "source": [
    "# Avaliando o modelo com y_test - Não importa a ordem, um vai ao quadrado, outro tem o valor absoluto\n",
    "print(f\"MSE: {mean_squared_error(y_pred, y_test):.1f}\")\n",
    "print(f\"MAE: {mean_absolute_error(y_pred, y_test):.1f}\")"
   ]
  },
  {
   "cell_type": "code",
   "execution_count": 93,
   "id": "e8e6987a-4172-4d07-b00b-a36327e3fa13",
   "metadata": {},
   "outputs": [
    {
     "name": "stdout",
     "output_type": "stream",
     "text": [
      "[Pipeline] ........... (step 1 of 3) Processing imputer, total=   0.0s\n",
      "[Pipeline] ............ (step 2 of 3) Processing scaler, total=   0.0s\n",
      "[Pipeline] ............. (step 3 of 3) Processing model, total=   0.0s\n",
      "[Pipeline] ........... (step 1 of 3) Processing imputer, total=   0.0s\n",
      "[Pipeline] ............ (step 2 of 3) Processing scaler, total=   0.0s\n",
      "[Pipeline] ............. (step 3 of 3) Processing model, total=   0.0s\n",
      "[Pipeline] ........... (step 1 of 3) Processing imputer, total=   0.0s\n",
      "[Pipeline] ............ (step 2 of 3) Processing scaler, total=   0.0s\n",
      "[Pipeline] ............. (step 3 of 3) Processing model, total=   0.0s\n"
     ]
    },
    {
     "name": "stderr",
     "output_type": "stream",
     "text": [
      "[Parallel(n_jobs=1)]: Using backend SequentialBackend with 1 concurrent workers.\n",
      "[Parallel(n_jobs=1)]: Done   3 out of   3 | elapsed:    0.0s finished\n"
     ]
    },
    {
     "data": {
      "text/plain": [
       "{'fit_time': array([0.00752163, 0.00501704, 0.00595641]),\n",
       " 'score_time': array([0.00303411, 0.00300217, 0.00299215]),\n",
       " 'test_score': array([-4.34206593, -4.92586813, -5.39676923])}"
      ]
     },
     "execution_count": 93,
     "metadata": {},
     "output_type": "execute_result"
    }
   ],
   "source": [
    "from sklearn.model_selection import cross_validate\n",
    "\n",
    "cross_validate(pipe_knn, X = X_train[num_cols], y = y_train, cv = 3, verbose = True, scoring = \"neg_mean_absolute_error\")"
   ]
  },
  {
   "cell_type": "code",
   "execution_count": 95,
   "id": "5be02b1d-6b79-49c0-af6d-ac64f98fe93f",
   "metadata": {},
   "outputs": [
    {
     "data": {
      "text/plain": [
       "{'memory': None,\n",
       " 'steps': [('imputer', SimpleImputer(strategy='median')),\n",
       "  ('scaler', StandardScaler()),\n",
       "  ('model', KNeighborsRegressor(n_neighbors=7))],\n",
       " 'verbose': True,\n",
       " 'imputer': SimpleImputer(strategy='median'),\n",
       " 'scaler': StandardScaler(),\n",
       " 'model': KNeighborsRegressor(n_neighbors=7),\n",
       " 'imputer__add_indicator': False,\n",
       " 'imputer__copy': True,\n",
       " 'imputer__fill_value': None,\n",
       " 'imputer__missing_values': nan,\n",
       " 'imputer__strategy': 'median',\n",
       " 'imputer__verbose': 0,\n",
       " 'scaler__copy': True,\n",
       " 'scaler__with_mean': True,\n",
       " 'scaler__with_std': True,\n",
       " 'model__algorithm': 'auto',\n",
       " 'model__leaf_size': 30,\n",
       " 'model__metric': 'minkowski',\n",
       " 'model__metric_params': None,\n",
       " 'model__n_jobs': None,\n",
       " 'model__n_neighbors': 7,\n",
       " 'model__p': 2,\n",
       " 'model__weights': 'uniform'}"
      ]
     },
     "execution_count": 95,
     "metadata": {},
     "output_type": "execute_result"
    }
   ],
   "source": [
    "# Tunando os hiperparâmetros\n",
    "pipe_knn.get_params()"
   ]
  },
  {
   "cell_type": "code",
   "execution_count": null,
   "id": "3c84d12e-d274-489c-88a9-a5d4e281a711",
   "metadata": {},
   "outputs": [],
   "source": []
  },
  {
   "cell_type": "code",
   "execution_count": 102,
   "id": "c6bad862-f009-4a9b-b721-f5f3243569cb",
   "metadata": {},
   "outputs": [
    {
     "name": "stdout",
     "output_type": "stream",
     "text": [
      "Fitting 5 folds for each of 16 candidates, totalling 80 fits\n",
      "[Pipeline] ........... (step 1 of 3) Processing imputer, total=   0.0s\n",
      "[Pipeline] ............ (step 2 of 3) Processing scaler, total=   0.0s\n",
      "[Pipeline] ............. (step 3 of 3) Processing model, total=   0.0s\n",
      "[CV] END model__n_neighbors=3, model__p=1, model__weights=uniform; total time=   0.0s\n",
      "[Pipeline] ........... (step 1 of 3) Processing imputer, total=   0.0s\n",
      "[Pipeline] ............ (step 2 of 3) Processing scaler, total=   0.0s\n",
      "[Pipeline] ............. (step 3 of 3) Processing model, total=   0.0s\n",
      "[CV] END model__n_neighbors=3, model__p=1, model__weights=uniform; total time=   0.0s\n",
      "[Pipeline] ........... (step 1 of 3) Processing imputer, total=   0.0s\n",
      "[Pipeline] ............ (step 2 of 3) Processing scaler, total=   0.0s\n",
      "[Pipeline] ............. (step 3 of 3) Processing model, total=   0.0s\n",
      "[CV] END model__n_neighbors=3, model__p=1, model__weights=uniform; total time=   0.0s\n",
      "[Pipeline] ........... (step 1 of 3) Processing imputer, total=   0.0s\n",
      "[Pipeline] ............ (step 2 of 3) Processing scaler, total=   0.0s\n",
      "[Pipeline] ............. (step 3 of 3) Processing model, total=   0.0s\n",
      "[CV] END model__n_neighbors=3, model__p=1, model__weights=uniform; total time=   0.0s\n",
      "[Pipeline] ........... (step 1 of 3) Processing imputer, total=   0.0s\n",
      "[Pipeline] ............ (step 2 of 3) Processing scaler, total=   0.0s\n",
      "[Pipeline] ............. (step 3 of 3) Processing model, total=   0.0s\n",
      "[CV] END model__n_neighbors=3, model__p=1, model__weights=uniform; total time=   0.0s\n",
      "[Pipeline] ........... (step 1 of 3) Processing imputer, total=   0.0s\n",
      "[Pipeline] ............ (step 2 of 3) Processing scaler, total=   0.0s\n",
      "[Pipeline] ............. (step 3 of 3) Processing model, total=   0.0s\n",
      "[CV] END model__n_neighbors=3, model__p=1, model__weights=distance; total time=   0.0s\n",
      "[Pipeline] ........... (step 1 of 3) Processing imputer, total=   0.0s\n",
      "[Pipeline] ............ (step 2 of 3) Processing scaler, total=   0.0s\n",
      "[Pipeline] ............. (step 3 of 3) Processing model, total=   0.0s\n",
      "[CV] END model__n_neighbors=3, model__p=1, model__weights=distance; total time=   0.0s\n",
      "[Pipeline] ........... (step 1 of 3) Processing imputer, total=   0.0s\n",
      "[Pipeline] ............ (step 2 of 3) Processing scaler, total=   0.0s\n",
      "[Pipeline] ............. (step 3 of 3) Processing model, total=   0.0s\n",
      "[CV] END model__n_neighbors=3, model__p=1, model__weights=distance; total time=   0.0s\n",
      "[Pipeline] ........... (step 1 of 3) Processing imputer, total=   0.0s\n",
      "[Pipeline] ............ (step 2 of 3) Processing scaler, total=   0.0s\n",
      "[Pipeline] ............. (step 3 of 3) Processing model, total=   0.0s\n",
      "[CV] END model__n_neighbors=3, model__p=1, model__weights=distance; total time=   0.0s\n",
      "[Pipeline] ........... (step 1 of 3) Processing imputer, total=   0.0s\n",
      "[Pipeline] ............ (step 2 of 3) Processing scaler, total=   0.0s\n",
      "[Pipeline] ............. (step 3 of 3) Processing model, total=   0.0s\n",
      "[CV] END model__n_neighbors=3, model__p=1, model__weights=distance; total time=   0.0s\n",
      "[Pipeline] ........... (step 1 of 3) Processing imputer, total=   0.0s\n",
      "[Pipeline] ............ (step 2 of 3) Processing scaler, total=   0.0s\n",
      "[Pipeline] ............. (step 3 of 3) Processing model, total=   0.0s\n",
      "[CV] END model__n_neighbors=3, model__p=2, model__weights=uniform; total time=   0.0s\n",
      "[Pipeline] ........... (step 1 of 3) Processing imputer, total=   0.0s\n",
      "[Pipeline] ............ (step 2 of 3) Processing scaler, total=   0.0s\n",
      "[Pipeline] ............. (step 3 of 3) Processing model, total=   0.0s\n",
      "[CV] END model__n_neighbors=3, model__p=2, model__weights=uniform; total time=   0.0s\n",
      "[Pipeline] ........... (step 1 of 3) Processing imputer, total=   0.0s\n",
      "[Pipeline] ............ (step 2 of 3) Processing scaler, total=   0.0s\n",
      "[Pipeline] ............. (step 3 of 3) Processing model, total=   0.0s\n",
      "[CV] END model__n_neighbors=3, model__p=2, model__weights=uniform; total time=   0.0s\n",
      "[Pipeline] ........... (step 1 of 3) Processing imputer, total=   0.0s\n",
      "[Pipeline] ............ (step 2 of 3) Processing scaler, total=   0.0s\n",
      "[Pipeline] ............. (step 3 of 3) Processing model, total=   0.0s\n",
      "[CV] END model__n_neighbors=3, model__p=2, model__weights=uniform; total time=   0.0s\n",
      "[Pipeline] ........... (step 1 of 3) Processing imputer, total=   0.0s\n",
      "[Pipeline] ............ (step 2 of 3) Processing scaler, total=   0.0s\n",
      "[Pipeline] ............. (step 3 of 3) Processing model, total=   0.0s\n",
      "[CV] END model__n_neighbors=3, model__p=2, model__weights=uniform; total time=   0.0s\n",
      "[Pipeline] ........... (step 1 of 3) Processing imputer, total=   0.0s\n",
      "[Pipeline] ............ (step 2 of 3) Processing scaler, total=   0.0s\n",
      "[Pipeline] ............. (step 3 of 3) Processing model, total=   0.0s\n",
      "[CV] END model__n_neighbors=3, model__p=2, model__weights=distance; total time=   0.0s\n",
      "[Pipeline] ........... (step 1 of 3) Processing imputer, total=   0.0s\n",
      "[Pipeline] ............ (step 2 of 3) Processing scaler, total=   0.0s\n",
      "[Pipeline] ............. (step 3 of 3) Processing model, total=   0.0s\n",
      "[CV] END model__n_neighbors=3, model__p=2, model__weights=distance; total time=   0.0s\n",
      "[Pipeline] ........... (step 1 of 3) Processing imputer, total=   0.0s\n",
      "[Pipeline] ............ (step 2 of 3) Processing scaler, total=   0.0s\n",
      "[Pipeline] ............. (step 3 of 3) Processing model, total=   0.0s\n",
      "[CV] END model__n_neighbors=3, model__p=2, model__weights=distance; total time=   0.0s\n",
      "[Pipeline] ........... (step 1 of 3) Processing imputer, total=   0.0s\n",
      "[Pipeline] ............ (step 2 of 3) Processing scaler, total=   0.0s\n",
      "[Pipeline] ............. (step 3 of 3) Processing model, total=   0.0s\n",
      "[CV] END model__n_neighbors=3, model__p=2, model__weights=distance; total time=   0.0s\n",
      "[Pipeline] ........... (step 1 of 3) Processing imputer, total=   0.0s\n",
      "[Pipeline] ............ (step 2 of 3) Processing scaler, total=   0.0s\n",
      "[Pipeline] ............. (step 3 of 3) Processing model, total=   0.0s\n",
      "[CV] END model__n_neighbors=3, model__p=2, model__weights=distance; total time=   0.0s\n",
      "[Pipeline] ........... (step 1 of 3) Processing imputer, total=   0.0s\n",
      "[Pipeline] ............ (step 2 of 3) Processing scaler, total=   0.0s\n",
      "[Pipeline] ............. (step 3 of 3) Processing model, total=   0.0s\n",
      "[CV] END model__n_neighbors=5, model__p=1, model__weights=uniform; total time=   0.0s\n",
      "[Pipeline] ........... (step 1 of 3) Processing imputer, total=   0.0s\n",
      "[Pipeline] ............ (step 2 of 3) Processing scaler, total=   0.0s\n",
      "[Pipeline] ............. (step 3 of 3) Processing model, total=   0.0s\n",
      "[CV] END model__n_neighbors=5, model__p=1, model__weights=uniform; total time=   0.0s\n",
      "[Pipeline] ........... (step 1 of 3) Processing imputer, total=   0.0s\n",
      "[Pipeline] ............ (step 2 of 3) Processing scaler, total=   0.0s\n",
      "[Pipeline] ............. (step 3 of 3) Processing model, total=   0.0s\n",
      "[CV] END model__n_neighbors=5, model__p=1, model__weights=uniform; total time=   0.0s\n",
      "[Pipeline] ........... (step 1 of 3) Processing imputer, total=   0.0s\n",
      "[Pipeline] ............ (step 2 of 3) Processing scaler, total=   0.0s\n",
      "[Pipeline] ............. (step 3 of 3) Processing model, total=   0.0s\n",
      "[CV] END model__n_neighbors=5, model__p=1, model__weights=uniform; total time=   0.0s\n",
      "[Pipeline] ........... (step 1 of 3) Processing imputer, total=   0.0s\n",
      "[Pipeline] ............ (step 2 of 3) Processing scaler, total=   0.0s\n",
      "[Pipeline] ............. (step 3 of 3) Processing model, total=   0.0s\n",
      "[CV] END model__n_neighbors=5, model__p=1, model__weights=uniform; total time=   0.0s\n",
      "[Pipeline] ........... (step 1 of 3) Processing imputer, total=   0.0s\n",
      "[Pipeline] ............ (step 2 of 3) Processing scaler, total=   0.0s\n",
      "[Pipeline] ............. (step 3 of 3) Processing model, total=   0.0s\n",
      "[CV] END model__n_neighbors=5, model__p=1, model__weights=distance; total time=   0.0s\n",
      "[Pipeline] ........... (step 1 of 3) Processing imputer, total=   0.0s\n",
      "[Pipeline] ............ (step 2 of 3) Processing scaler, total=   0.0s\n",
      "[Pipeline] ............. (step 3 of 3) Processing model, total=   0.0s\n",
      "[CV] END model__n_neighbors=5, model__p=1, model__weights=distance; total time=   0.0s\n",
      "[Pipeline] ........... (step 1 of 3) Processing imputer, total=   0.0s\n",
      "[Pipeline] ............ (step 2 of 3) Processing scaler, total=   0.0s\n",
      "[Pipeline] ............. (step 3 of 3) Processing model, total=   0.0s\n",
      "[CV] END model__n_neighbors=5, model__p=1, model__weights=distance; total time=   0.0s\n",
      "[Pipeline] ........... (step 1 of 3) Processing imputer, total=   0.0s\n",
      "[Pipeline] ............ (step 2 of 3) Processing scaler, total=   0.0s\n",
      "[Pipeline] ............. (step 3 of 3) Processing model, total=   0.0s\n",
      "[CV] END model__n_neighbors=5, model__p=1, model__weights=distance; total time=   0.0s\n",
      "[Pipeline] ........... (step 1 of 3) Processing imputer, total=   0.0s\n",
      "[Pipeline] ............ (step 2 of 3) Processing scaler, total=   0.0s\n",
      "[Pipeline] ............. (step 3 of 3) Processing model, total=   0.0s\n",
      "[CV] END model__n_neighbors=5, model__p=1, model__weights=distance; total time=   0.0s\n",
      "[Pipeline] ........... (step 1 of 3) Processing imputer, total=   0.0s\n",
      "[Pipeline] ............ (step 2 of 3) Processing scaler, total=   0.0s\n",
      "[Pipeline] ............. (step 3 of 3) Processing model, total=   0.0s\n",
      "[CV] END model__n_neighbors=5, model__p=2, model__weights=uniform; total time=   0.0s\n",
      "[Pipeline] ........... (step 1 of 3) Processing imputer, total=   0.0s\n",
      "[Pipeline] ............ (step 2 of 3) Processing scaler, total=   0.0s\n",
      "[Pipeline] ............. (step 3 of 3) Processing model, total=   0.0s\n",
      "[CV] END model__n_neighbors=5, model__p=2, model__weights=uniform; total time=   0.0s\n",
      "[Pipeline] ........... (step 1 of 3) Processing imputer, total=   0.0s\n",
      "[Pipeline] ............ (step 2 of 3) Processing scaler, total=   0.0s\n",
      "[Pipeline] ............. (step 3 of 3) Processing model, total=   0.0s\n",
      "[CV] END model__n_neighbors=5, model__p=2, model__weights=uniform; total time=   0.0s\n",
      "[Pipeline] ........... (step 1 of 3) Processing imputer, total=   0.0s\n",
      "[Pipeline] ............ (step 2 of 3) Processing scaler, total=   0.0s\n",
      "[Pipeline] ............. (step 3 of 3) Processing model, total=   0.0s\n",
      "[CV] END model__n_neighbors=5, model__p=2, model__weights=uniform; total time=   0.0s\n",
      "[Pipeline] ........... (step 1 of 3) Processing imputer, total=   0.0s\n",
      "[Pipeline] ............ (step 2 of 3) Processing scaler, total=   0.0s\n",
      "[Pipeline] ............. (step 3 of 3) Processing model, total=   0.0s\n",
      "[CV] END model__n_neighbors=5, model__p=2, model__weights=uniform; total time=   0.0s\n",
      "[Pipeline] ........... (step 1 of 3) Processing imputer, total=   0.0s\n",
      "[Pipeline] ............ (step 2 of 3) Processing scaler, total=   0.0s\n",
      "[Pipeline] ............. (step 3 of 3) Processing model, total=   0.0s\n",
      "[CV] END model__n_neighbors=5, model__p=2, model__weights=distance; total time=   0.0s\n",
      "[Pipeline] ........... (step 1 of 3) Processing imputer, total=   0.0s\n",
      "[Pipeline] ............ (step 2 of 3) Processing scaler, total=   0.0s\n",
      "[Pipeline] ............. (step 3 of 3) Processing model, total=   0.0s\n",
      "[CV] END model__n_neighbors=5, model__p=2, model__weights=distance; total time=   0.0s\n",
      "[Pipeline] ........... (step 1 of 3) Processing imputer, total=   0.0s\n",
      "[Pipeline] ............ (step 2 of 3) Processing scaler, total=   0.0s\n",
      "[Pipeline] ............. (step 3 of 3) Processing model, total=   0.0s\n",
      "[CV] END model__n_neighbors=5, model__p=2, model__weights=distance; total time=   0.0s\n",
      "[Pipeline] ........... (step 1 of 3) Processing imputer, total=   0.0s\n",
      "[Pipeline] ............ (step 2 of 3) Processing scaler, total=   0.0s\n",
      "[Pipeline] ............. (step 3 of 3) Processing model, total=   0.0s\n",
      "[CV] END model__n_neighbors=5, model__p=2, model__weights=distance; total time=   0.0s\n",
      "[Pipeline] ........... (step 1 of 3) Processing imputer, total=   0.0s\n",
      "[Pipeline] ............ (step 2 of 3) Processing scaler, total=   0.0s\n",
      "[Pipeline] ............. (step 3 of 3) Processing model, total=   0.0s\n",
      "[CV] END model__n_neighbors=5, model__p=2, model__weights=distance; total time=   0.0s\n",
      "[Pipeline] ........... (step 1 of 3) Processing imputer, total=   0.0s\n",
      "[Pipeline] ............ (step 2 of 3) Processing scaler, total=   0.0s\n",
      "[Pipeline] ............. (step 3 of 3) Processing model, total=   0.0s\n",
      "[CV] END model__n_neighbors=7, model__p=1, model__weights=uniform; total time=   0.0s\n",
      "[Pipeline] ........... (step 1 of 3) Processing imputer, total=   0.0s\n",
      "[Pipeline] ............ (step 2 of 3) Processing scaler, total=   0.0s\n",
      "[Pipeline] ............. (step 3 of 3) Processing model, total=   0.0s\n",
      "[CV] END model__n_neighbors=7, model__p=1, model__weights=uniform; total time=   0.0s\n",
      "[Pipeline] ........... (step 1 of 3) Processing imputer, total=   0.0s\n",
      "[Pipeline] ............ (step 2 of 3) Processing scaler, total=   0.0s\n",
      "[Pipeline] ............. (step 3 of 3) Processing model, total=   0.0s\n",
      "[CV] END model__n_neighbors=7, model__p=1, model__weights=uniform; total time=   0.0s\n",
      "[Pipeline] ........... (step 1 of 3) Processing imputer, total=   0.0s\n",
      "[Pipeline] ............ (step 2 of 3) Processing scaler, total=   0.0s\n",
      "[Pipeline] ............. (step 3 of 3) Processing model, total=   0.0s\n",
      "[CV] END model__n_neighbors=7, model__p=1, model__weights=uniform; total time=   0.0s\n",
      "[Pipeline] ........... (step 1 of 3) Processing imputer, total=   0.0s\n",
      "[Pipeline] ............ (step 2 of 3) Processing scaler, total=   0.0s\n",
      "[Pipeline] ............. (step 3 of 3) Processing model, total=   0.0s\n",
      "[CV] END model__n_neighbors=7, model__p=1, model__weights=uniform; total time=   0.0s\n",
      "[Pipeline] ........... (step 1 of 3) Processing imputer, total=   0.0s\n",
      "[Pipeline] ............ (step 2 of 3) Processing scaler, total=   0.0s\n",
      "[Pipeline] ............. (step 3 of 3) Processing model, total=   0.0s\n",
      "[CV] END model__n_neighbors=7, model__p=1, model__weights=distance; total time=   0.0s\n",
      "[Pipeline] ........... (step 1 of 3) Processing imputer, total=   0.0s\n",
      "[Pipeline] ............ (step 2 of 3) Processing scaler, total=   0.0s\n",
      "[Pipeline] ............. (step 3 of 3) Processing model, total=   0.0s\n",
      "[CV] END model__n_neighbors=7, model__p=1, model__weights=distance; total time=   0.0s\n",
      "[Pipeline] ........... (step 1 of 3) Processing imputer, total=   0.0s\n",
      "[Pipeline] ............ (step 2 of 3) Processing scaler, total=   0.0s\n",
      "[Pipeline] ............. (step 3 of 3) Processing model, total=   0.0s\n",
      "[CV] END model__n_neighbors=7, model__p=1, model__weights=distance; total time=   0.0s\n",
      "[Pipeline] ........... (step 1 of 3) Processing imputer, total=   0.0s\n",
      "[Pipeline] ............ (step 2 of 3) Processing scaler, total=   0.0s\n",
      "[Pipeline] ............. (step 3 of 3) Processing model, total=   0.0s\n",
      "[CV] END model__n_neighbors=7, model__p=1, model__weights=distance; total time=   0.0s\n",
      "[Pipeline] ........... (step 1 of 3) Processing imputer, total=   0.0s\n",
      "[Pipeline] ............ (step 2 of 3) Processing scaler, total=   0.0s\n",
      "[Pipeline] ............. (step 3 of 3) Processing model, total=   0.0s\n",
      "[CV] END model__n_neighbors=7, model__p=1, model__weights=distance; total time=   0.0s\n",
      "[Pipeline] ........... (step 1 of 3) Processing imputer, total=   0.0s\n",
      "[Pipeline] ............ (step 2 of 3) Processing scaler, total=   0.0s\n",
      "[Pipeline] ............. (step 3 of 3) Processing model, total=   0.0s\n",
      "[CV] END model__n_neighbors=7, model__p=2, model__weights=uniform; total time=   0.0s\n",
      "[Pipeline] ........... (step 1 of 3) Processing imputer, total=   0.0s\n",
      "[Pipeline] ............ (step 2 of 3) Processing scaler, total=   0.0s\n",
      "[Pipeline] ............. (step 3 of 3) Processing model, total=   0.0s\n",
      "[CV] END model__n_neighbors=7, model__p=2, model__weights=uniform; total time=   0.0s\n",
      "[Pipeline] ........... (step 1 of 3) Processing imputer, total=   0.0s\n",
      "[Pipeline] ............ (step 2 of 3) Processing scaler, total=   0.0s\n",
      "[Pipeline] ............. (step 3 of 3) Processing model, total=   0.0s\n",
      "[CV] END model__n_neighbors=7, model__p=2, model__weights=uniform; total time=   0.0s\n",
      "[Pipeline] ........... (step 1 of 3) Processing imputer, total=   0.0s\n",
      "[Pipeline] ............ (step 2 of 3) Processing scaler, total=   0.0s\n",
      "[Pipeline] ............. (step 3 of 3) Processing model, total=   0.0s\n",
      "[CV] END model__n_neighbors=7, model__p=2, model__weights=uniform; total time=   0.0s\n",
      "[Pipeline] ........... (step 1 of 3) Processing imputer, total=   0.0s\n",
      "[Pipeline] ............ (step 2 of 3) Processing scaler, total=   0.0s\n",
      "[Pipeline] ............. (step 3 of 3) Processing model, total=   0.0s\n",
      "[CV] END model__n_neighbors=7, model__p=2, model__weights=uniform; total time=   0.0s\n",
      "[Pipeline] ........... (step 1 of 3) Processing imputer, total=   0.0s\n",
      "[Pipeline] ............ (step 2 of 3) Processing scaler, total=   0.0s\n",
      "[Pipeline] ............. (step 3 of 3) Processing model, total=   0.0s\n",
      "[CV] END model__n_neighbors=7, model__p=2, model__weights=distance; total time=   0.0s\n",
      "[Pipeline] ........... (step 1 of 3) Processing imputer, total=   0.0s\n",
      "[Pipeline] ............ (step 2 of 3) Processing scaler, total=   0.0s\n",
      "[Pipeline] ............. (step 3 of 3) Processing model, total=   0.0s\n",
      "[CV] END model__n_neighbors=7, model__p=2, model__weights=distance; total time=   0.0s\n",
      "[Pipeline] ........... (step 1 of 3) Processing imputer, total=   0.0s\n",
      "[Pipeline] ............ (step 2 of 3) Processing scaler, total=   0.0s\n",
      "[Pipeline] ............. (step 3 of 3) Processing model, total=   0.0s\n",
      "[CV] END model__n_neighbors=7, model__p=2, model__weights=distance; total time=   0.0s\n",
      "[Pipeline] ........... (step 1 of 3) Processing imputer, total=   0.0s\n",
      "[Pipeline] ............ (step 2 of 3) Processing scaler, total=   0.0s\n",
      "[Pipeline] ............. (step 3 of 3) Processing model, total=   0.0s\n",
      "[CV] END model__n_neighbors=7, model__p=2, model__weights=distance; total time=   0.0s\n",
      "[Pipeline] ........... (step 1 of 3) Processing imputer, total=   0.0s\n",
      "[Pipeline] ............ (step 2 of 3) Processing scaler, total=   0.0s\n",
      "[Pipeline] ............. (step 3 of 3) Processing model, total=   0.0s\n",
      "[CV] END model__n_neighbors=7, model__p=2, model__weights=distance; total time=   0.0s\n",
      "[Pipeline] ........... (step 1 of 3) Processing imputer, total=   0.0s\n",
      "[Pipeline] ............ (step 2 of 3) Processing scaler, total=   0.0s\n",
      "[Pipeline] ............. (step 3 of 3) Processing model, total=   0.0s\n",
      "[CV] END model__n_neighbors=9, model__p=1, model__weights=uniform; total time=   0.0s\n",
      "[Pipeline] ........... (step 1 of 3) Processing imputer, total=   0.0s\n",
      "[Pipeline] ............ (step 2 of 3) Processing scaler, total=   0.0s\n",
      "[Pipeline] ............. (step 3 of 3) Processing model, total=   0.0s\n",
      "[CV] END model__n_neighbors=9, model__p=1, model__weights=uniform; total time=   0.0s\n",
      "[Pipeline] ........... (step 1 of 3) Processing imputer, total=   0.0s\n",
      "[Pipeline] ............ (step 2 of 3) Processing scaler, total=   0.0s\n",
      "[Pipeline] ............. (step 3 of 3) Processing model, total=   0.0s\n",
      "[CV] END model__n_neighbors=9, model__p=1, model__weights=uniform; total time=   0.0s\n",
      "[Pipeline] ........... (step 1 of 3) Processing imputer, total=   0.0s\n",
      "[Pipeline] ............ (step 2 of 3) Processing scaler, total=   0.0s\n",
      "[Pipeline] ............. (step 3 of 3) Processing model, total=   0.0s\n",
      "[CV] END model__n_neighbors=9, model__p=1, model__weights=uniform; total time=   0.0s\n",
      "[Pipeline] ........... (step 1 of 3) Processing imputer, total=   0.0s\n",
      "[Pipeline] ............ (step 2 of 3) Processing scaler, total=   0.0s\n",
      "[Pipeline] ............. (step 3 of 3) Processing model, total=   0.0s\n",
      "[CV] END model__n_neighbors=9, model__p=1, model__weights=uniform; total time=   0.0s\n",
      "[Pipeline] ........... (step 1 of 3) Processing imputer, total=   0.0s\n",
      "[Pipeline] ............ (step 2 of 3) Processing scaler, total=   0.0s\n",
      "[Pipeline] ............. (step 3 of 3) Processing model, total=   0.0s\n",
      "[CV] END model__n_neighbors=9, model__p=1, model__weights=distance; total time=   0.0s\n",
      "[Pipeline] ........... (step 1 of 3) Processing imputer, total=   0.0s\n",
      "[Pipeline] ............ (step 2 of 3) Processing scaler, total=   0.0s\n",
      "[Pipeline] ............. (step 3 of 3) Processing model, total=   0.0s\n",
      "[CV] END model__n_neighbors=9, model__p=1, model__weights=distance; total time=   0.0s\n",
      "[Pipeline] ........... (step 1 of 3) Processing imputer, total=   0.0s\n",
      "[Pipeline] ............ (step 2 of 3) Processing scaler, total=   0.0s\n",
      "[Pipeline] ............. (step 3 of 3) Processing model, total=   0.0s\n",
      "[CV] END model__n_neighbors=9, model__p=1, model__weights=distance; total time=   0.0s\n",
      "[Pipeline] ........... (step 1 of 3) Processing imputer, total=   0.0s\n",
      "[Pipeline] ............ (step 2 of 3) Processing scaler, total=   0.0s\n",
      "[Pipeline] ............. (step 3 of 3) Processing model, total=   0.0s\n",
      "[CV] END model__n_neighbors=9, model__p=1, model__weights=distance; total time=   0.0s\n",
      "[Pipeline] ........... (step 1 of 3) Processing imputer, total=   0.0s\n",
      "[Pipeline] ............ (step 2 of 3) Processing scaler, total=   0.0s\n",
      "[Pipeline] ............. (step 3 of 3) Processing model, total=   0.0s\n",
      "[CV] END model__n_neighbors=9, model__p=1, model__weights=distance; total time=   0.0s\n",
      "[Pipeline] ........... (step 1 of 3) Processing imputer, total=   0.0s\n",
      "[Pipeline] ............ (step 2 of 3) Processing scaler, total=   0.0s\n",
      "[Pipeline] ............. (step 3 of 3) Processing model, total=   0.0s\n",
      "[CV] END model__n_neighbors=9, model__p=2, model__weights=uniform; total time=   0.0s\n",
      "[Pipeline] ........... (step 1 of 3) Processing imputer, total=   0.0s\n",
      "[Pipeline] ............ (step 2 of 3) Processing scaler, total=   0.0s\n",
      "[Pipeline] ............. (step 3 of 3) Processing model, total=   0.0s\n",
      "[CV] END model__n_neighbors=9, model__p=2, model__weights=uniform; total time=   0.0s\n",
      "[Pipeline] ........... (step 1 of 3) Processing imputer, total=   0.0s\n",
      "[Pipeline] ............ (step 2 of 3) Processing scaler, total=   0.0s\n",
      "[Pipeline] ............. (step 3 of 3) Processing model, total=   0.0s\n",
      "[CV] END model__n_neighbors=9, model__p=2, model__weights=uniform; total time=   0.0s\n",
      "[Pipeline] ........... (step 1 of 3) Processing imputer, total=   0.0s\n",
      "[Pipeline] ............ (step 2 of 3) Processing scaler, total=   0.0s\n",
      "[Pipeline] ............. (step 3 of 3) Processing model, total=   0.0s\n",
      "[CV] END model__n_neighbors=9, model__p=2, model__weights=uniform; total time=   0.0s\n",
      "[Pipeline] ........... (step 1 of 3) Processing imputer, total=   0.0s\n",
      "[Pipeline] ............ (step 2 of 3) Processing scaler, total=   0.0s\n",
      "[Pipeline] ............. (step 3 of 3) Processing model, total=   0.0s\n",
      "[CV] END model__n_neighbors=9, model__p=2, model__weights=uniform; total time=   0.0s\n",
      "[Pipeline] ........... (step 1 of 3) Processing imputer, total=   0.0s\n",
      "[Pipeline] ............ (step 2 of 3) Processing scaler, total=   0.0s\n",
      "[Pipeline] ............. (step 3 of 3) Processing model, total=   0.0s\n",
      "[CV] END model__n_neighbors=9, model__p=2, model__weights=distance; total time=   0.0s\n",
      "[Pipeline] ........... (step 1 of 3) Processing imputer, total=   0.0s\n",
      "[Pipeline] ............ (step 2 of 3) Processing scaler, total=   0.0s\n",
      "[Pipeline] ............. (step 3 of 3) Processing model, total=   0.0s\n",
      "[CV] END model__n_neighbors=9, model__p=2, model__weights=distance; total time=   0.0s\n",
      "[Pipeline] ........... (step 1 of 3) Processing imputer, total=   0.0s\n",
      "[Pipeline] ............ (step 2 of 3) Processing scaler, total=   0.0s\n",
      "[Pipeline] ............. (step 3 of 3) Processing model, total=   0.0s\n",
      "[CV] END model__n_neighbors=9, model__p=2, model__weights=distance; total time=   0.0s\n",
      "[Pipeline] ........... (step 1 of 3) Processing imputer, total=   0.0s\n",
      "[Pipeline] ............ (step 2 of 3) Processing scaler, total=   0.0s\n",
      "[Pipeline] ............. (step 3 of 3) Processing model, total=   0.0s\n",
      "[CV] END model__n_neighbors=9, model__p=2, model__weights=distance; total time=   0.0s\n",
      "[Pipeline] ........... (step 1 of 3) Processing imputer, total=   0.0s\n",
      "[Pipeline] ............ (step 2 of 3) Processing scaler, total=   0.0s\n",
      "[Pipeline] ............. (step 3 of 3) Processing model, total=   0.0s\n",
      "[CV] END model__n_neighbors=9, model__p=2, model__weights=distance; total time=   0.0s\n",
      "[Pipeline] ........... (step 1 of 3) Processing imputer, total=   0.0s\n",
      "[Pipeline] ............ (step 2 of 3) Processing scaler, total=   0.0s\n",
      "[Pipeline] ............. (step 3 of 3) Processing model, total=   0.0s\n"
     ]
    },
    {
     "data": {
      "text/html": [
       "<style>#sk-5bdca303-1b7c-4de7-a925-8f75d14e879c {color: black;background-color: white;}#sk-5bdca303-1b7c-4de7-a925-8f75d14e879c pre{padding: 0;}#sk-5bdca303-1b7c-4de7-a925-8f75d14e879c div.sk-toggleable {background-color: white;}#sk-5bdca303-1b7c-4de7-a925-8f75d14e879c label.sk-toggleable__label {cursor: pointer;display: block;width: 100%;margin-bottom: 0;padding: 0.3em;box-sizing: border-box;text-align: center;}#sk-5bdca303-1b7c-4de7-a925-8f75d14e879c label.sk-toggleable__label-arrow:before {content: \"▸\";float: left;margin-right: 0.25em;color: #696969;}#sk-5bdca303-1b7c-4de7-a925-8f75d14e879c label.sk-toggleable__label-arrow:hover:before {color: black;}#sk-5bdca303-1b7c-4de7-a925-8f75d14e879c div.sk-estimator:hover label.sk-toggleable__label-arrow:before {color: black;}#sk-5bdca303-1b7c-4de7-a925-8f75d14e879c div.sk-toggleable__content {max-height: 0;max-width: 0;overflow: hidden;text-align: left;background-color: #f0f8ff;}#sk-5bdca303-1b7c-4de7-a925-8f75d14e879c div.sk-toggleable__content pre {margin: 0.2em;color: black;border-radius: 0.25em;background-color: #f0f8ff;}#sk-5bdca303-1b7c-4de7-a925-8f75d14e879c input.sk-toggleable__control:checked~div.sk-toggleable__content {max-height: 200px;max-width: 100%;overflow: auto;}#sk-5bdca303-1b7c-4de7-a925-8f75d14e879c input.sk-toggleable__control:checked~label.sk-toggleable__label-arrow:before {content: \"▾\";}#sk-5bdca303-1b7c-4de7-a925-8f75d14e879c div.sk-estimator input.sk-toggleable__control:checked~label.sk-toggleable__label {background-color: #d4ebff;}#sk-5bdca303-1b7c-4de7-a925-8f75d14e879c div.sk-label input.sk-toggleable__control:checked~label.sk-toggleable__label {background-color: #d4ebff;}#sk-5bdca303-1b7c-4de7-a925-8f75d14e879c input.sk-hidden--visually {border: 0;clip: rect(1px 1px 1px 1px);clip: rect(1px, 1px, 1px, 1px);height: 1px;margin: -1px;overflow: hidden;padding: 0;position: absolute;width: 1px;}#sk-5bdca303-1b7c-4de7-a925-8f75d14e879c div.sk-estimator {font-family: monospace;background-color: #f0f8ff;border: 1px dotted black;border-radius: 0.25em;box-sizing: border-box;margin-bottom: 0.5em;}#sk-5bdca303-1b7c-4de7-a925-8f75d14e879c div.sk-estimator:hover {background-color: #d4ebff;}#sk-5bdca303-1b7c-4de7-a925-8f75d14e879c div.sk-parallel-item::after {content: \"\";width: 100%;border-bottom: 1px solid gray;flex-grow: 1;}#sk-5bdca303-1b7c-4de7-a925-8f75d14e879c div.sk-label:hover label.sk-toggleable__label {background-color: #d4ebff;}#sk-5bdca303-1b7c-4de7-a925-8f75d14e879c div.sk-serial::before {content: \"\";position: absolute;border-left: 1px solid gray;box-sizing: border-box;top: 2em;bottom: 0;left: 50%;}#sk-5bdca303-1b7c-4de7-a925-8f75d14e879c div.sk-serial {display: flex;flex-direction: column;align-items: center;background-color: white;padding-right: 0.2em;padding-left: 0.2em;}#sk-5bdca303-1b7c-4de7-a925-8f75d14e879c div.sk-item {z-index: 1;}#sk-5bdca303-1b7c-4de7-a925-8f75d14e879c div.sk-parallel {display: flex;align-items: stretch;justify-content: center;background-color: white;}#sk-5bdca303-1b7c-4de7-a925-8f75d14e879c div.sk-parallel::before {content: \"\";position: absolute;border-left: 1px solid gray;box-sizing: border-box;top: 2em;bottom: 0;left: 50%;}#sk-5bdca303-1b7c-4de7-a925-8f75d14e879c div.sk-parallel-item {display: flex;flex-direction: column;position: relative;background-color: white;}#sk-5bdca303-1b7c-4de7-a925-8f75d14e879c div.sk-parallel-item:first-child::after {align-self: flex-end;width: 50%;}#sk-5bdca303-1b7c-4de7-a925-8f75d14e879c div.sk-parallel-item:last-child::after {align-self: flex-start;width: 50%;}#sk-5bdca303-1b7c-4de7-a925-8f75d14e879c div.sk-parallel-item:only-child::after {width: 0;}#sk-5bdca303-1b7c-4de7-a925-8f75d14e879c div.sk-dashed-wrapped {border: 1px dashed gray;margin: 0 0.4em 0.5em 0.4em;box-sizing: border-box;padding-bottom: 0.4em;background-color: white;position: relative;}#sk-5bdca303-1b7c-4de7-a925-8f75d14e879c div.sk-label label {font-family: monospace;font-weight: bold;background-color: white;display: inline-block;line-height: 1.2em;}#sk-5bdca303-1b7c-4de7-a925-8f75d14e879c div.sk-label-container {position: relative;z-index: 2;text-align: center;}#sk-5bdca303-1b7c-4de7-a925-8f75d14e879c div.sk-container {/* jupyter's `normalize.less` sets `[hidden] { display: none; }` but bootstrap.min.css set `[hidden] { display: none !important; }` so we also need the `!important` here to be able to override the default hidden behavior on the sphinx rendered scikit-learn.org. See: https://github.com/scikit-learn/scikit-learn/issues/21755 */display: inline-block !important;position: relative;}#sk-5bdca303-1b7c-4de7-a925-8f75d14e879c div.sk-text-repr-fallback {display: none;}</style><div id=\"sk-5bdca303-1b7c-4de7-a925-8f75d14e879c\" class=\"sk-top-container\"><div class=\"sk-text-repr-fallback\"><pre>GridSearchCV(cv=KFold(n_splits=5, random_state=42, shuffle=True),\n",
       "             estimator=Pipeline(steps=[(&#x27;imputer&#x27;,\n",
       "                                        SimpleImputer(strategy=&#x27;median&#x27;)),\n",
       "                                       (&#x27;scaler&#x27;, StandardScaler()),\n",
       "                                       (&#x27;model&#x27;,\n",
       "                                        KNeighborsRegressor(n_neighbors=7))],\n",
       "                                verbose=True),\n",
       "             param_grid={&#x27;model__n_neighbors&#x27;: [3, 5, 7, 9], &#x27;model__p&#x27;: [1, 2],\n",
       "                         &#x27;model__weights&#x27;: [&#x27;uniform&#x27;, &#x27;distance&#x27;]},\n",
       "             scoring=&#x27;neg_mean_absolute_error&#x27;, verbose=2)</pre><b>Please rerun this cell to show the HTML repr or trust the notebook.</b></div><div class=\"sk-container\" hidden><div class=\"sk-item sk-dashed-wrapped\"><div class=\"sk-label-container\"><div class=\"sk-label sk-toggleable\"><input class=\"sk-toggleable__control sk-hidden--visually\" id=\"fd6ba54b-428a-4889-8096-78d37ddbff65\" type=\"checkbox\" ><label for=\"fd6ba54b-428a-4889-8096-78d37ddbff65\" class=\"sk-toggleable__label sk-toggleable__label-arrow\">GridSearchCV</label><div class=\"sk-toggleable__content\"><pre>GridSearchCV(cv=KFold(n_splits=5, random_state=42, shuffle=True),\n",
       "             estimator=Pipeline(steps=[(&#x27;imputer&#x27;,\n",
       "                                        SimpleImputer(strategy=&#x27;median&#x27;)),\n",
       "                                       (&#x27;scaler&#x27;, StandardScaler()),\n",
       "                                       (&#x27;model&#x27;,\n",
       "                                        KNeighborsRegressor(n_neighbors=7))],\n",
       "                                verbose=True),\n",
       "             param_grid={&#x27;model__n_neighbors&#x27;: [3, 5, 7, 9], &#x27;model__p&#x27;: [1, 2],\n",
       "                         &#x27;model__weights&#x27;: [&#x27;uniform&#x27;, &#x27;distance&#x27;]},\n",
       "             scoring=&#x27;neg_mean_absolute_error&#x27;, verbose=2)</pre></div></div></div><div class=\"sk-parallel\"><div class=\"sk-parallel-item\"><div class=\"sk-item\"><div class=\"sk-serial\"><div class=\"sk-item\"><div class=\"sk-serial\"><div class=\"sk-item\"><div class=\"sk-estimator sk-toggleable\"><input class=\"sk-toggleable__control sk-hidden--visually\" id=\"b111c169-f001-4d3e-a7a9-44f3a7d7d45b\" type=\"checkbox\" ><label for=\"b111c169-f001-4d3e-a7a9-44f3a7d7d45b\" class=\"sk-toggleable__label sk-toggleable__label-arrow\">SimpleImputer</label><div class=\"sk-toggleable__content\"><pre>SimpleImputer(strategy=&#x27;median&#x27;)</pre></div></div></div><div class=\"sk-item\"><div class=\"sk-estimator sk-toggleable\"><input class=\"sk-toggleable__control sk-hidden--visually\" id=\"ad3c8a66-0036-4c6a-8805-ae503c01015d\" type=\"checkbox\" ><label for=\"ad3c8a66-0036-4c6a-8805-ae503c01015d\" class=\"sk-toggleable__label sk-toggleable__label-arrow\">StandardScaler</label><div class=\"sk-toggleable__content\"><pre>StandardScaler()</pre></div></div></div><div class=\"sk-item\"><div class=\"sk-estimator sk-toggleable\"><input class=\"sk-toggleable__control sk-hidden--visually\" id=\"773099f2-2076-4f81-821f-1476b81911e3\" type=\"checkbox\" ><label for=\"773099f2-2076-4f81-821f-1476b81911e3\" class=\"sk-toggleable__label sk-toggleable__label-arrow\">KNeighborsRegressor</label><div class=\"sk-toggleable__content\"><pre>KNeighborsRegressor(n_neighbors=7)</pre></div></div></div></div></div></div></div></div></div></div></div></div>"
      ],
      "text/plain": [
       "GridSearchCV(cv=KFold(n_splits=5, random_state=42, shuffle=True),\n",
       "             estimator=Pipeline(steps=[('imputer',\n",
       "                                        SimpleImputer(strategy='median')),\n",
       "                                       ('scaler', StandardScaler()),\n",
       "                                       ('model',\n",
       "                                        KNeighborsRegressor(n_neighbors=7))],\n",
       "                                verbose=True),\n",
       "             param_grid={'model__n_neighbors': [3, 5, 7, 9], 'model__p': [1, 2],\n",
       "                         'model__weights': ['uniform', 'distance']},\n",
       "             scoring='neg_mean_absolute_error', verbose=2)"
      ]
     },
     "execution_count": 102,
     "metadata": {},
     "output_type": "execute_result"
    }
   ],
   "source": [
    "# Usaremos KFold e GridSsearchCV\n",
    "from sklearn.model_selection import KFold\n",
    "from sklearn.model_selection import GridSearchCV\n",
    "\n",
    "params_grid = {\n",
    "    'model__n_neighbors': [3,5,7,9],\n",
    "    'model__p': [1,2],\n",
    "    'model__weights': ['uniform', 'distance']\n",
    "}\n",
    "\n",
    "fold = KFold(n_splits = 5, shuffle = True, random_state = 42)\n",
    "grid = GridSearchCV(pipe_knn, param_grid = params_grid, cv = fold, verbose = 2, scoring = 'neg_mean_absolute_error')\n",
    "\n",
    "grid.fit(X_train[num_cols], y_train)"
   ]
  },
  {
   "cell_type": "code",
   "execution_count": 103,
   "id": "eb0d49ad-75b8-4d20-afdb-1a6e770e02d7",
   "metadata": {},
   "outputs": [
    {
     "data": {
      "text/plain": [
       "-4.654472934472933"
      ]
     },
     "execution_count": 103,
     "metadata": {},
     "output_type": "execute_result"
    }
   ],
   "source": [
    "grid.best_score_"
   ]
  },
  {
   "cell_type": "code",
   "execution_count": 104,
   "id": "9fa44b41-f872-42ba-a2a8-2adcf61a0c40",
   "metadata": {},
   "outputs": [
    {
     "data": {
      "text/plain": [
       "{'model__n_neighbors': 9, 'model__p': 1, 'model__weights': 'uniform'}"
      ]
     },
     "execution_count": 104,
     "metadata": {},
     "output_type": "execute_result"
    }
   ],
   "source": [
    "grid.best_params_"
   ]
  },
  {
   "cell_type": "code",
   "execution_count": 105,
   "id": "a971b7e5-0eda-4d64-ab96-8411ae73f1e5",
   "metadata": {},
   "outputs": [
    {
     "data": {
      "text/html": [
       "<style>#sk-6517c73c-62f3-45d2-8746-0bb6f63f6789 {color: black;background-color: white;}#sk-6517c73c-62f3-45d2-8746-0bb6f63f6789 pre{padding: 0;}#sk-6517c73c-62f3-45d2-8746-0bb6f63f6789 div.sk-toggleable {background-color: white;}#sk-6517c73c-62f3-45d2-8746-0bb6f63f6789 label.sk-toggleable__label {cursor: pointer;display: block;width: 100%;margin-bottom: 0;padding: 0.3em;box-sizing: border-box;text-align: center;}#sk-6517c73c-62f3-45d2-8746-0bb6f63f6789 label.sk-toggleable__label-arrow:before {content: \"▸\";float: left;margin-right: 0.25em;color: #696969;}#sk-6517c73c-62f3-45d2-8746-0bb6f63f6789 label.sk-toggleable__label-arrow:hover:before {color: black;}#sk-6517c73c-62f3-45d2-8746-0bb6f63f6789 div.sk-estimator:hover label.sk-toggleable__label-arrow:before {color: black;}#sk-6517c73c-62f3-45d2-8746-0bb6f63f6789 div.sk-toggleable__content {max-height: 0;max-width: 0;overflow: hidden;text-align: left;background-color: #f0f8ff;}#sk-6517c73c-62f3-45d2-8746-0bb6f63f6789 div.sk-toggleable__content pre {margin: 0.2em;color: black;border-radius: 0.25em;background-color: #f0f8ff;}#sk-6517c73c-62f3-45d2-8746-0bb6f63f6789 input.sk-toggleable__control:checked~div.sk-toggleable__content {max-height: 200px;max-width: 100%;overflow: auto;}#sk-6517c73c-62f3-45d2-8746-0bb6f63f6789 input.sk-toggleable__control:checked~label.sk-toggleable__label-arrow:before {content: \"▾\";}#sk-6517c73c-62f3-45d2-8746-0bb6f63f6789 div.sk-estimator input.sk-toggleable__control:checked~label.sk-toggleable__label {background-color: #d4ebff;}#sk-6517c73c-62f3-45d2-8746-0bb6f63f6789 div.sk-label input.sk-toggleable__control:checked~label.sk-toggleable__label {background-color: #d4ebff;}#sk-6517c73c-62f3-45d2-8746-0bb6f63f6789 input.sk-hidden--visually {border: 0;clip: rect(1px 1px 1px 1px);clip: rect(1px, 1px, 1px, 1px);height: 1px;margin: -1px;overflow: hidden;padding: 0;position: absolute;width: 1px;}#sk-6517c73c-62f3-45d2-8746-0bb6f63f6789 div.sk-estimator {font-family: monospace;background-color: #f0f8ff;border: 1px dotted black;border-radius: 0.25em;box-sizing: border-box;margin-bottom: 0.5em;}#sk-6517c73c-62f3-45d2-8746-0bb6f63f6789 div.sk-estimator:hover {background-color: #d4ebff;}#sk-6517c73c-62f3-45d2-8746-0bb6f63f6789 div.sk-parallel-item::after {content: \"\";width: 100%;border-bottom: 1px solid gray;flex-grow: 1;}#sk-6517c73c-62f3-45d2-8746-0bb6f63f6789 div.sk-label:hover label.sk-toggleable__label {background-color: #d4ebff;}#sk-6517c73c-62f3-45d2-8746-0bb6f63f6789 div.sk-serial::before {content: \"\";position: absolute;border-left: 1px solid gray;box-sizing: border-box;top: 2em;bottom: 0;left: 50%;}#sk-6517c73c-62f3-45d2-8746-0bb6f63f6789 div.sk-serial {display: flex;flex-direction: column;align-items: center;background-color: white;padding-right: 0.2em;padding-left: 0.2em;}#sk-6517c73c-62f3-45d2-8746-0bb6f63f6789 div.sk-item {z-index: 1;}#sk-6517c73c-62f3-45d2-8746-0bb6f63f6789 div.sk-parallel {display: flex;align-items: stretch;justify-content: center;background-color: white;}#sk-6517c73c-62f3-45d2-8746-0bb6f63f6789 div.sk-parallel::before {content: \"\";position: absolute;border-left: 1px solid gray;box-sizing: border-box;top: 2em;bottom: 0;left: 50%;}#sk-6517c73c-62f3-45d2-8746-0bb6f63f6789 div.sk-parallel-item {display: flex;flex-direction: column;position: relative;background-color: white;}#sk-6517c73c-62f3-45d2-8746-0bb6f63f6789 div.sk-parallel-item:first-child::after {align-self: flex-end;width: 50%;}#sk-6517c73c-62f3-45d2-8746-0bb6f63f6789 div.sk-parallel-item:last-child::after {align-self: flex-start;width: 50%;}#sk-6517c73c-62f3-45d2-8746-0bb6f63f6789 div.sk-parallel-item:only-child::after {width: 0;}#sk-6517c73c-62f3-45d2-8746-0bb6f63f6789 div.sk-dashed-wrapped {border: 1px dashed gray;margin: 0 0.4em 0.5em 0.4em;box-sizing: border-box;padding-bottom: 0.4em;background-color: white;position: relative;}#sk-6517c73c-62f3-45d2-8746-0bb6f63f6789 div.sk-label label {font-family: monospace;font-weight: bold;background-color: white;display: inline-block;line-height: 1.2em;}#sk-6517c73c-62f3-45d2-8746-0bb6f63f6789 div.sk-label-container {position: relative;z-index: 2;text-align: center;}#sk-6517c73c-62f3-45d2-8746-0bb6f63f6789 div.sk-container {/* jupyter's `normalize.less` sets `[hidden] { display: none; }` but bootstrap.min.css set `[hidden] { display: none !important; }` so we also need the `!important` here to be able to override the default hidden behavior on the sphinx rendered scikit-learn.org. See: https://github.com/scikit-learn/scikit-learn/issues/21755 */display: inline-block !important;position: relative;}#sk-6517c73c-62f3-45d2-8746-0bb6f63f6789 div.sk-text-repr-fallback {display: none;}</style><div id=\"sk-6517c73c-62f3-45d2-8746-0bb6f63f6789\" class=\"sk-top-container\"><div class=\"sk-text-repr-fallback\"><pre>Pipeline(steps=[(&#x27;imputer&#x27;, SimpleImputer(strategy=&#x27;median&#x27;)),\n",
       "                (&#x27;scaler&#x27;, StandardScaler()),\n",
       "                (&#x27;model&#x27;, KNeighborsRegressor(n_neighbors=9, p=1))],\n",
       "         verbose=True)</pre><b>Please rerun this cell to show the HTML repr or trust the notebook.</b></div><div class=\"sk-container\" hidden><div class=\"sk-item sk-dashed-wrapped\"><div class=\"sk-label-container\"><div class=\"sk-label sk-toggleable\"><input class=\"sk-toggleable__control sk-hidden--visually\" id=\"4b70b23e-d86a-43fb-8f87-e38cf70bfc69\" type=\"checkbox\" ><label for=\"4b70b23e-d86a-43fb-8f87-e38cf70bfc69\" class=\"sk-toggleable__label sk-toggleable__label-arrow\">Pipeline</label><div class=\"sk-toggleable__content\"><pre>Pipeline(steps=[(&#x27;imputer&#x27;, SimpleImputer(strategy=&#x27;median&#x27;)),\n",
       "                (&#x27;scaler&#x27;, StandardScaler()),\n",
       "                (&#x27;model&#x27;, KNeighborsRegressor(n_neighbors=9, p=1))],\n",
       "         verbose=True)</pre></div></div></div><div class=\"sk-serial\"><div class=\"sk-item\"><div class=\"sk-estimator sk-toggleable\"><input class=\"sk-toggleable__control sk-hidden--visually\" id=\"19a68a7a-169f-47ba-b829-a45d5425b044\" type=\"checkbox\" ><label for=\"19a68a7a-169f-47ba-b829-a45d5425b044\" class=\"sk-toggleable__label sk-toggleable__label-arrow\">SimpleImputer</label><div class=\"sk-toggleable__content\"><pre>SimpleImputer(strategy=&#x27;median&#x27;)</pre></div></div></div><div class=\"sk-item\"><div class=\"sk-estimator sk-toggleable\"><input class=\"sk-toggleable__control sk-hidden--visually\" id=\"abb5bef1-d0c9-4645-a59c-9436fb7d33fa\" type=\"checkbox\" ><label for=\"abb5bef1-d0c9-4645-a59c-9436fb7d33fa\" class=\"sk-toggleable__label sk-toggleable__label-arrow\">StandardScaler</label><div class=\"sk-toggleable__content\"><pre>StandardScaler()</pre></div></div></div><div class=\"sk-item\"><div class=\"sk-estimator sk-toggleable\"><input class=\"sk-toggleable__control sk-hidden--visually\" id=\"7783181d-50d4-4bb3-b779-aab9967d1dbf\" type=\"checkbox\" ><label for=\"7783181d-50d4-4bb3-b779-aab9967d1dbf\" class=\"sk-toggleable__label sk-toggleable__label-arrow\">KNeighborsRegressor</label><div class=\"sk-toggleable__content\"><pre>KNeighborsRegressor(n_neighbors=9, p=1)</pre></div></div></div></div></div></div></div>"
      ],
      "text/plain": [
       "Pipeline(steps=[('imputer', SimpleImputer(strategy='median')),\n",
       "                ('scaler', StandardScaler()),\n",
       "                ('model', KNeighborsRegressor(n_neighbors=9, p=1))],\n",
       "         verbose=True)"
      ]
     },
     "execution_count": 105,
     "metadata": {},
     "output_type": "execute_result"
    }
   ],
   "source": [
    "grid.best_estimator_"
   ]
  },
  {
   "cell_type": "code",
   "execution_count": 106,
   "id": "08134bf8-e502-4f11-abbc-2d0faec2f709",
   "metadata": {},
   "outputs": [
    {
     "data": {
      "text/plain": [
       "array([22.00777778, 13.41222222, 26.08555556, 31.99555556, 13.41222222,\n",
       "       13.41222222, 13.66888889, 14.25333333, 23.09      , 22.12      ,\n",
       "       22.12      , 13.69      , 13.69      , 13.41222222, 11.68666667,\n",
       "       22.60444444, 24.97555556, 18.66888889, 14.25333333, 30.87555556,\n",
       "       14.25333333, 23.68444444, 18.66888889, 13.69      , 23.61333333,\n",
       "       22.12      , 22.12      , 21.47111111, 26.08555556, 30.72444444,\n",
       "       24.97555556, 13.66111111, 26.08555556, 23.09      , 23.61333333,\n",
       "       26.34222222, 13.69      , 31.99555556, 16.74      , 13.41222222,\n",
       "       13.22444444, 13.41222222, 14.25333333, 22.60444444, 13.41222222,\n",
       "       12.95333333, 12.28222222, 22.60444444, 13.66111111])"
      ]
     },
     "execution_count": 106,
     "metadata": {},
     "output_type": "execute_result"
    }
   ],
   "source": [
    "y_pred = grid.best_estimator_.predict(X_test[num_cols])\n",
    "y_pred"
   ]
  },
  {
   "cell_type": "code",
   "execution_count": 108,
   "id": "e27456f6-c93f-4ea9-8b06-a169dc4b1ff9",
   "metadata": {},
   "outputs": [
    {
     "name": "stdout",
     "output_type": "stream",
     "text": [
      "MSE : 48.16\n",
      "MAE : 5.67\n"
     ]
    }
   ],
   "source": [
    "print(f\"MSE : {mean_squared_error(y_test, y_pred):.2f}\")\n",
    "print(f\"MAE : {mean_absolute_error(y_test, y_pred):.2f}\")"
   ]
  },
  {
   "cell_type": "markdown",
   "id": "768175b4-75ed-414e-80d0-0d35656c9041",
   "metadata": {},
   "source": [
    "## Function transformer"
   ]
  },
  {
   "cell_type": "markdown",
   "id": "69729b7a-bf27-4335-8897-c07acdada98d",
   "metadata": {},
   "source": [
    "Adcionamos funções que não possuem, os métodos .fit() e .transform(). A função criada deve retornar um DataFrame pandas ou um array numpy"
   ]
  },
  {
   "cell_type": "markdown",
   "id": "fd6119a3-c62c-4401-950c-57c383cdf16b",
   "metadata": {},
   "source": [
    "## ColumnTransform()"
   ]
  },
  {
   "cell_type": "markdown",
   "id": "36157aac-3ce4-48c7-87ad-cf1f824161d7",
   "metadata": {},
   "source": [
    "Serve para especificarmos em quais colunas a transformação deve ser aplicada. "
   ]
  },
  {
   "cell_type": "code",
   "execution_count": 131,
   "id": "d66ada27-72f9-40ac-9ccf-edcfce4b8344",
   "metadata": {},
   "outputs": [
    {
     "name": "stdout",
     "output_type": "stream",
     "text": [
      "<class 'pandas.core.frame.DataFrame'>\n",
      "RangeIndex: 244 entries, 0 to 243\n",
      "Data columns (total 7 columns):\n",
      " #   Column      Non-Null Count  Dtype   \n",
      "---  ------      --------------  -----   \n",
      " 0   total_bill  244 non-null    float64 \n",
      " 1   tip         239 non-null    float64 \n",
      " 2   sex         240 non-null    category\n",
      " 3   smoker      240 non-null    category\n",
      " 4   day         239 non-null    category\n",
      " 5   time        240 non-null    category\n",
      " 6   size        240 non-null    float64 \n",
      "dtypes: category(4), float64(3)\n",
      "memory usage: 7.4 KB\n"
     ]
    }
   ],
   "source": [
    "# Vamos importar o dataset\n",
    "df = sns.load_dataset('tips')\n",
    "\n",
    "# Add missing values -> pra dar uma graça no dataset\n",
    "df.iloc[[1, 2, 4, 12], [2]] = np.nan\n",
    "df.iloc[[10, 20, 40, 120, 222], [1]] = np.nan\n",
    "df.iloc[[61, 27, 145, 212], [3]] = np.nan\n",
    "df.iloc[[143, 237, 48, 102, 20], [4]] = np.nan\n",
    "df.iloc[[71, 172, 194, 182], [5]] = np.nan\n",
    "df.iloc[[83, 90, 33, 228], [6]] = np.nan\n",
    "df.info()"
   ]
  },
  {
   "cell_type": "code",
   "execution_count": 124,
   "id": "0a74796a-6f06-4022-b34a-e757e9da85ef",
   "metadata": {},
   "outputs": [],
   "source": [
    "from sklearn.compose import ColumnTransformer\n",
    "\n",
    "from sklearn.impute import SimpleImputer # imputar valores NaNs\n",
    "from sklearn.model_selection import KFold, GridSearchCV, train_test_split # model_selection para cross validation, grid_search e separar treino e teste\n",
    "from sklearn.preprocessing import FunctionTransformer, OneHotEncoder, StandardScaler # preprocessamento de variáveis categóricas\n",
    "from sklearn.pipeline import Pipeline\n",
    "from sklearn.neighbors import KNeighborsRegressor # algortimo de Ml"
   ]
  },
  {
   "cell_type": "code",
   "execution_count": 164,
   "id": "f41915f0-5370-4caa-b2b4-d6e7e52d9400",
   "metadata": {},
   "outputs": [],
   "source": [
    "# Separar treino e teste\n",
    "X_train, X_test, y_train, y_test = train_test_split(df.drop(columns=['total_bill']), \n",
    "                                                    df['total_bill'], \n",
    "                                                    test_size=.2, \n",
    "                                                    random_state=42)\n",
    "\n",
    "# Separar features categóricas das numéricas\n",
    "num_cols = X_train.select_dtypes('number').columns\n",
    "cat_cols = X_train.select_dtypes(exclude = \"number\").columns\n",
    "\n",
    "# Invetar uma função só para usar Function Transform\n",
    "def somar_10(df):\n",
    "    return df+10\n",
    "soma_10 = FunctionTransformer(somar_10, validate = False)\n",
    "\n",
    "#Pipeline numérico\n",
    "num_pipe = Pipeline([\n",
    "    ('imputer', SimpleImputer(strategy = 'mean')),\n",
    "    ('log', FunctionTransformer(np.log)),\n",
    "    ('soma_10', soma_10),\n",
    "    ('scaler', StandardScaler())\n",
    "], verbose = True)\n",
    "\n",
    "# Pipeline categórico, Imputer e OneHotEncoder\n",
    "cat_pipe = Pipeline([\n",
    "    ('imputer', SimpleImputer(strategy = 'most_frequent')),\n",
    "    ('ohe', OneHotEncoder(sparse=False, drop='first', handle_unknown = 'ignore'))\n",
    "], verbose = True)\n",
    "\n",
    "# Concaternar pipelines categóricas e numéricas e aplica os transforms dos pipelines\n",
    "preprocessor = ColumnTransformer([\n",
    "    ('num_pipe', num_pipe, num_cols),\n",
    "    ('cat_cols', cat_pipe, cat_cols)\n",
    "])\n",
    "\n",
    "# Pipeline final com o pré procesamento e o estimador (KNeighborsRegressor)\n",
    "pipe = Pipeline([\n",
    "    ('preprocessor', preprocessor),\n",
    "    ('model', KNeighborsRegressor())\n",
    "])\n",
    "\n",
    "# param_grid\n",
    "param_grid = {\n",
    "   'model__n_neighbors': [3,4,5],\n",
    "    'model__p': [1,2],\n",
    "    'model__weights': ['uniform', 'distance']\n",
    "}\n",
    "\n",
    "fold = KFold(n_splits = 3, shuffle = True, random_state = 42)\n",
    "grid = GridSearchCV(pipe, param_grid = param_grid, cv = fold, n_jobs= -1, scoring = 'neg_mean_absolute_error', return_train_score = True)"
   ]
  },
  {
   "cell_type": "code",
   "execution_count": 165,
   "id": "2151ff95-8e25-4082-b077-fdce0505ac1d",
   "metadata": {},
   "outputs": [
    {
     "name": "stdout",
     "output_type": "stream",
     "text": [
      "[Pipeline] ........... (step 1 of 4) Processing imputer, total=   0.0s\n",
      "[Pipeline] ............... (step 2 of 4) Processing log, total=   0.0s\n",
      "[Pipeline] ........... (step 3 of 4) Processing soma_10, total=   0.0s\n",
      "[Pipeline] ............ (step 4 of 4) Processing scaler, total=   0.0s\n",
      "[Pipeline] ........... (step 1 of 2) Processing imputer, total=   0.0s\n",
      "[Pipeline] ............... (step 2 of 2) Processing ohe, total=   0.0s\n"
     ]
    },
    {
     "data": {
      "text/html": [
       "<style>#sk-e4c16abf-29bc-477e-94bb-8cb520a17d06 {color: black;background-color: white;}#sk-e4c16abf-29bc-477e-94bb-8cb520a17d06 pre{padding: 0;}#sk-e4c16abf-29bc-477e-94bb-8cb520a17d06 div.sk-toggleable {background-color: white;}#sk-e4c16abf-29bc-477e-94bb-8cb520a17d06 label.sk-toggleable__label {cursor: pointer;display: block;width: 100%;margin-bottom: 0;padding: 0.3em;box-sizing: border-box;text-align: center;}#sk-e4c16abf-29bc-477e-94bb-8cb520a17d06 label.sk-toggleable__label-arrow:before {content: \"▸\";float: left;margin-right: 0.25em;color: #696969;}#sk-e4c16abf-29bc-477e-94bb-8cb520a17d06 label.sk-toggleable__label-arrow:hover:before {color: black;}#sk-e4c16abf-29bc-477e-94bb-8cb520a17d06 div.sk-estimator:hover label.sk-toggleable__label-arrow:before {color: black;}#sk-e4c16abf-29bc-477e-94bb-8cb520a17d06 div.sk-toggleable__content {max-height: 0;max-width: 0;overflow: hidden;text-align: left;background-color: #f0f8ff;}#sk-e4c16abf-29bc-477e-94bb-8cb520a17d06 div.sk-toggleable__content pre {margin: 0.2em;color: black;border-radius: 0.25em;background-color: #f0f8ff;}#sk-e4c16abf-29bc-477e-94bb-8cb520a17d06 input.sk-toggleable__control:checked~div.sk-toggleable__content {max-height: 200px;max-width: 100%;overflow: auto;}#sk-e4c16abf-29bc-477e-94bb-8cb520a17d06 input.sk-toggleable__control:checked~label.sk-toggleable__label-arrow:before {content: \"▾\";}#sk-e4c16abf-29bc-477e-94bb-8cb520a17d06 div.sk-estimator input.sk-toggleable__control:checked~label.sk-toggleable__label {background-color: #d4ebff;}#sk-e4c16abf-29bc-477e-94bb-8cb520a17d06 div.sk-label input.sk-toggleable__control:checked~label.sk-toggleable__label {background-color: #d4ebff;}#sk-e4c16abf-29bc-477e-94bb-8cb520a17d06 input.sk-hidden--visually {border: 0;clip: rect(1px 1px 1px 1px);clip: rect(1px, 1px, 1px, 1px);height: 1px;margin: -1px;overflow: hidden;padding: 0;position: absolute;width: 1px;}#sk-e4c16abf-29bc-477e-94bb-8cb520a17d06 div.sk-estimator {font-family: monospace;background-color: #f0f8ff;border: 1px dotted black;border-radius: 0.25em;box-sizing: border-box;margin-bottom: 0.5em;}#sk-e4c16abf-29bc-477e-94bb-8cb520a17d06 div.sk-estimator:hover {background-color: #d4ebff;}#sk-e4c16abf-29bc-477e-94bb-8cb520a17d06 div.sk-parallel-item::after {content: \"\";width: 100%;border-bottom: 1px solid gray;flex-grow: 1;}#sk-e4c16abf-29bc-477e-94bb-8cb520a17d06 div.sk-label:hover label.sk-toggleable__label {background-color: #d4ebff;}#sk-e4c16abf-29bc-477e-94bb-8cb520a17d06 div.sk-serial::before {content: \"\";position: absolute;border-left: 1px solid gray;box-sizing: border-box;top: 2em;bottom: 0;left: 50%;}#sk-e4c16abf-29bc-477e-94bb-8cb520a17d06 div.sk-serial {display: flex;flex-direction: column;align-items: center;background-color: white;padding-right: 0.2em;padding-left: 0.2em;}#sk-e4c16abf-29bc-477e-94bb-8cb520a17d06 div.sk-item {z-index: 1;}#sk-e4c16abf-29bc-477e-94bb-8cb520a17d06 div.sk-parallel {display: flex;align-items: stretch;justify-content: center;background-color: white;}#sk-e4c16abf-29bc-477e-94bb-8cb520a17d06 div.sk-parallel::before {content: \"\";position: absolute;border-left: 1px solid gray;box-sizing: border-box;top: 2em;bottom: 0;left: 50%;}#sk-e4c16abf-29bc-477e-94bb-8cb520a17d06 div.sk-parallel-item {display: flex;flex-direction: column;position: relative;background-color: white;}#sk-e4c16abf-29bc-477e-94bb-8cb520a17d06 div.sk-parallel-item:first-child::after {align-self: flex-end;width: 50%;}#sk-e4c16abf-29bc-477e-94bb-8cb520a17d06 div.sk-parallel-item:last-child::after {align-self: flex-start;width: 50%;}#sk-e4c16abf-29bc-477e-94bb-8cb520a17d06 div.sk-parallel-item:only-child::after {width: 0;}#sk-e4c16abf-29bc-477e-94bb-8cb520a17d06 div.sk-dashed-wrapped {border: 1px dashed gray;margin: 0 0.4em 0.5em 0.4em;box-sizing: border-box;padding-bottom: 0.4em;background-color: white;position: relative;}#sk-e4c16abf-29bc-477e-94bb-8cb520a17d06 div.sk-label label {font-family: monospace;font-weight: bold;background-color: white;display: inline-block;line-height: 1.2em;}#sk-e4c16abf-29bc-477e-94bb-8cb520a17d06 div.sk-label-container {position: relative;z-index: 2;text-align: center;}#sk-e4c16abf-29bc-477e-94bb-8cb520a17d06 div.sk-container {/* jupyter's `normalize.less` sets `[hidden] { display: none; }` but bootstrap.min.css set `[hidden] { display: none !important; }` so we also need the `!important` here to be able to override the default hidden behavior on the sphinx rendered scikit-learn.org. See: https://github.com/scikit-learn/scikit-learn/issues/21755 */display: inline-block !important;position: relative;}#sk-e4c16abf-29bc-477e-94bb-8cb520a17d06 div.sk-text-repr-fallback {display: none;}</style><div id=\"sk-e4c16abf-29bc-477e-94bb-8cb520a17d06\" class=\"sk-top-container\"><div class=\"sk-text-repr-fallback\"><pre>GridSearchCV(cv=KFold(n_splits=3, random_state=42, shuffle=True),\n",
       "             estimator=Pipeline(steps=[(&#x27;preprocessor&#x27;,\n",
       "                                        ColumnTransformer(transformers=[(&#x27;num_pipe&#x27;,\n",
       "                                                                         Pipeline(steps=[(&#x27;imputer&#x27;,\n",
       "                                                                                          SimpleImputer()),\n",
       "                                                                                         (&#x27;log&#x27;,\n",
       "                                                                                          FunctionTransformer(func=&lt;ufunc &#x27;log&#x27;&gt;)),\n",
       "                                                                                         (&#x27;soma_10&#x27;,\n",
       "                                                                                          FunctionTransformer(func=&lt;function somar_10 at 0x000001C4297695E0&gt;)),\n",
       "                                                                                         (&#x27;scaler&#x27;,\n",
       "                                                                                          StandardScaler())],\n",
       "                                                                                  verb...\n",
       "                                                                                          SimpleImputer(strategy=&#x27;most_frequent&#x27;)),\n",
       "                                                                                         (&#x27;ohe&#x27;,\n",
       "                                                                                          OneHotEncoder(drop=&#x27;first&#x27;,\n",
       "                                                                                                        handle_unknown=&#x27;ignore&#x27;,\n",
       "                                                                                                        sparse=False))],\n",
       "                                                                                  verbose=True),\n",
       "                                                                         Index([&#x27;sex&#x27;, &#x27;smoker&#x27;, &#x27;day&#x27;, &#x27;time&#x27;], dtype=&#x27;object&#x27;))])),\n",
       "                                       (&#x27;model&#x27;, KNeighborsRegressor())]),\n",
       "             n_jobs=-1,\n",
       "             param_grid={&#x27;model__n_neighbors&#x27;: [3, 4, 5], &#x27;model__p&#x27;: [1, 2],\n",
       "                         &#x27;model__weights&#x27;: [&#x27;uniform&#x27;, &#x27;distance&#x27;]},\n",
       "             return_train_score=True, scoring=&#x27;neg_mean_absolute_error&#x27;)</pre><b>Please rerun this cell to show the HTML repr or trust the notebook.</b></div><div class=\"sk-container\" hidden><div class=\"sk-item sk-dashed-wrapped\"><div class=\"sk-label-container\"><div class=\"sk-label sk-toggleable\"><input class=\"sk-toggleable__control sk-hidden--visually\" id=\"315f7c69-1acd-4684-b121-5d741b5bb115\" type=\"checkbox\" ><label for=\"315f7c69-1acd-4684-b121-5d741b5bb115\" class=\"sk-toggleable__label sk-toggleable__label-arrow\">GridSearchCV</label><div class=\"sk-toggleable__content\"><pre>GridSearchCV(cv=KFold(n_splits=3, random_state=42, shuffle=True),\n",
       "             estimator=Pipeline(steps=[(&#x27;preprocessor&#x27;,\n",
       "                                        ColumnTransformer(transformers=[(&#x27;num_pipe&#x27;,\n",
       "                                                                         Pipeline(steps=[(&#x27;imputer&#x27;,\n",
       "                                                                                          SimpleImputer()),\n",
       "                                                                                         (&#x27;log&#x27;,\n",
       "                                                                                          FunctionTransformer(func=&lt;ufunc &#x27;log&#x27;&gt;)),\n",
       "                                                                                         (&#x27;soma_10&#x27;,\n",
       "                                                                                          FunctionTransformer(func=&lt;function somar_10 at 0x000001C4297695E0&gt;)),\n",
       "                                                                                         (&#x27;scaler&#x27;,\n",
       "                                                                                          StandardScaler())],\n",
       "                                                                                  verb...\n",
       "                                                                                          SimpleImputer(strategy=&#x27;most_frequent&#x27;)),\n",
       "                                                                                         (&#x27;ohe&#x27;,\n",
       "                                                                                          OneHotEncoder(drop=&#x27;first&#x27;,\n",
       "                                                                                                        handle_unknown=&#x27;ignore&#x27;,\n",
       "                                                                                                        sparse=False))],\n",
       "                                                                                  verbose=True),\n",
       "                                                                         Index([&#x27;sex&#x27;, &#x27;smoker&#x27;, &#x27;day&#x27;, &#x27;time&#x27;], dtype=&#x27;object&#x27;))])),\n",
       "                                       (&#x27;model&#x27;, KNeighborsRegressor())]),\n",
       "             n_jobs=-1,\n",
       "             param_grid={&#x27;model__n_neighbors&#x27;: [3, 4, 5], &#x27;model__p&#x27;: [1, 2],\n",
       "                         &#x27;model__weights&#x27;: [&#x27;uniform&#x27;, &#x27;distance&#x27;]},\n",
       "             return_train_score=True, scoring=&#x27;neg_mean_absolute_error&#x27;)</pre></div></div></div><div class=\"sk-parallel\"><div class=\"sk-parallel-item\"><div class=\"sk-item\"><div class=\"sk-serial\"><div class=\"sk-item\"><div class=\"sk-serial\"><div class=\"sk-item sk-dashed-wrapped\"><div class=\"sk-label-container\"><div class=\"sk-label sk-toggleable\"><input class=\"sk-toggleable__control sk-hidden--visually\" id=\"26de8604-46a5-481c-a7b3-503ff9fcaede\" type=\"checkbox\" ><label for=\"26de8604-46a5-481c-a7b3-503ff9fcaede\" class=\"sk-toggleable__label sk-toggleable__label-arrow\">preprocessor: ColumnTransformer</label><div class=\"sk-toggleable__content\"><pre>ColumnTransformer(transformers=[(&#x27;num_pipe&#x27;,\n",
       "                                 Pipeline(steps=[(&#x27;imputer&#x27;, SimpleImputer()),\n",
       "                                                 (&#x27;log&#x27;,\n",
       "                                                  FunctionTransformer(func=&lt;ufunc &#x27;log&#x27;&gt;)),\n",
       "                                                 (&#x27;soma_10&#x27;,\n",
       "                                                  FunctionTransformer(func=&lt;function somar_10 at 0x000001C4297695E0&gt;)),\n",
       "                                                 (&#x27;scaler&#x27;, StandardScaler())],\n",
       "                                          verbose=True),\n",
       "                                 Index([&#x27;tip&#x27;, &#x27;size&#x27;], dtype=&#x27;object&#x27;)),\n",
       "                                (&#x27;cat_cols&#x27;,\n",
       "                                 Pipeline(steps=[(&#x27;imputer&#x27;,\n",
       "                                                  SimpleImputer(strategy=&#x27;most_frequent&#x27;)),\n",
       "                                                 (&#x27;ohe&#x27;,\n",
       "                                                  OneHotEncoder(drop=&#x27;first&#x27;,\n",
       "                                                                handle_unknown=&#x27;ignore&#x27;,\n",
       "                                                                sparse=False))],\n",
       "                                          verbose=True),\n",
       "                                 Index([&#x27;sex&#x27;, &#x27;smoker&#x27;, &#x27;day&#x27;, &#x27;time&#x27;], dtype=&#x27;object&#x27;))])</pre></div></div></div><div class=\"sk-parallel\"><div class=\"sk-parallel-item\"><div class=\"sk-item\"><div class=\"sk-label-container\"><div class=\"sk-label sk-toggleable\"><input class=\"sk-toggleable__control sk-hidden--visually\" id=\"a1cf059e-089e-4eac-8b1b-3d872414833d\" type=\"checkbox\" ><label for=\"a1cf059e-089e-4eac-8b1b-3d872414833d\" class=\"sk-toggleable__label sk-toggleable__label-arrow\">num_pipe</label><div class=\"sk-toggleable__content\"><pre>Index([&#x27;tip&#x27;, &#x27;size&#x27;], dtype=&#x27;object&#x27;)</pre></div></div></div><div class=\"sk-serial\"><div class=\"sk-item\"><div class=\"sk-serial\"><div class=\"sk-item\"><div class=\"sk-estimator sk-toggleable\"><input class=\"sk-toggleable__control sk-hidden--visually\" id=\"c7dab3a0-da0c-4491-915d-644f9c9c4068\" type=\"checkbox\" ><label for=\"c7dab3a0-da0c-4491-915d-644f9c9c4068\" class=\"sk-toggleable__label sk-toggleable__label-arrow\">SimpleImputer</label><div class=\"sk-toggleable__content\"><pre>SimpleImputer()</pre></div></div></div><div class=\"sk-item\"><div class=\"sk-estimator sk-toggleable\"><input class=\"sk-toggleable__control sk-hidden--visually\" id=\"6723d636-0c78-49d0-ac8f-4281223757ae\" type=\"checkbox\" ><label for=\"6723d636-0c78-49d0-ac8f-4281223757ae\" class=\"sk-toggleable__label sk-toggleable__label-arrow\">FunctionTransformer</label><div class=\"sk-toggleable__content\"><pre>FunctionTransformer(func=&lt;ufunc &#x27;log&#x27;&gt;)</pre></div></div></div><div class=\"sk-item\"><div class=\"sk-estimator sk-toggleable\"><input class=\"sk-toggleable__control sk-hidden--visually\" id=\"795c128b-bde5-430a-9838-a5c86862d726\" type=\"checkbox\" ><label for=\"795c128b-bde5-430a-9838-a5c86862d726\" class=\"sk-toggleable__label sk-toggleable__label-arrow\">FunctionTransformer</label><div class=\"sk-toggleable__content\"><pre>FunctionTransformer(func=&lt;function somar_10 at 0x000001C4297695E0&gt;)</pre></div></div></div><div class=\"sk-item\"><div class=\"sk-estimator sk-toggleable\"><input class=\"sk-toggleable__control sk-hidden--visually\" id=\"fa119acc-0e38-4ace-b6ce-ebcb287e923e\" type=\"checkbox\" ><label for=\"fa119acc-0e38-4ace-b6ce-ebcb287e923e\" class=\"sk-toggleable__label sk-toggleable__label-arrow\">StandardScaler</label><div class=\"sk-toggleable__content\"><pre>StandardScaler()</pre></div></div></div></div></div></div></div></div><div class=\"sk-parallel-item\"><div class=\"sk-item\"><div class=\"sk-label-container\"><div class=\"sk-label sk-toggleable\"><input class=\"sk-toggleable__control sk-hidden--visually\" id=\"17131f89-abe7-42b9-929b-72976eb51a5c\" type=\"checkbox\" ><label for=\"17131f89-abe7-42b9-929b-72976eb51a5c\" class=\"sk-toggleable__label sk-toggleable__label-arrow\">cat_cols</label><div class=\"sk-toggleable__content\"><pre>Index([&#x27;sex&#x27;, &#x27;smoker&#x27;, &#x27;day&#x27;, &#x27;time&#x27;], dtype=&#x27;object&#x27;)</pre></div></div></div><div class=\"sk-serial\"><div class=\"sk-item\"><div class=\"sk-serial\"><div class=\"sk-item\"><div class=\"sk-estimator sk-toggleable\"><input class=\"sk-toggleable__control sk-hidden--visually\" id=\"21b3ce1f-1392-4a1e-8bfe-519545a6d28d\" type=\"checkbox\" ><label for=\"21b3ce1f-1392-4a1e-8bfe-519545a6d28d\" class=\"sk-toggleable__label sk-toggleable__label-arrow\">SimpleImputer</label><div class=\"sk-toggleable__content\"><pre>SimpleImputer(strategy=&#x27;most_frequent&#x27;)</pre></div></div></div><div class=\"sk-item\"><div class=\"sk-estimator sk-toggleable\"><input class=\"sk-toggleable__control sk-hidden--visually\" id=\"04529a24-2deb-4d80-b18a-f06121f1575a\" type=\"checkbox\" ><label for=\"04529a24-2deb-4d80-b18a-f06121f1575a\" class=\"sk-toggleable__label sk-toggleable__label-arrow\">OneHotEncoder</label><div class=\"sk-toggleable__content\"><pre>OneHotEncoder(drop=&#x27;first&#x27;, handle_unknown=&#x27;ignore&#x27;, sparse=False)</pre></div></div></div></div></div></div></div></div></div></div><div class=\"sk-item\"><div class=\"sk-estimator sk-toggleable\"><input class=\"sk-toggleable__control sk-hidden--visually\" id=\"295afe28-4412-4560-b77e-8bed70c63572\" type=\"checkbox\" ><label for=\"295afe28-4412-4560-b77e-8bed70c63572\" class=\"sk-toggleable__label sk-toggleable__label-arrow\">KNeighborsRegressor</label><div class=\"sk-toggleable__content\"><pre>KNeighborsRegressor()</pre></div></div></div></div></div></div></div></div></div></div></div></div>"
      ],
      "text/plain": [
       "GridSearchCV(cv=KFold(n_splits=3, random_state=42, shuffle=True),\n",
       "             estimator=Pipeline(steps=[('preprocessor',\n",
       "                                        ColumnTransformer(transformers=[('num_pipe',\n",
       "                                                                         Pipeline(steps=[('imputer',\n",
       "                                                                                          SimpleImputer()),\n",
       "                                                                                         ('log',\n",
       "                                                                                          FunctionTransformer(func=<ufunc 'log'>)),\n",
       "                                                                                         ('soma_10',\n",
       "                                                                                          FunctionTransformer(func=<function somar_10 at 0x000001C4297695E0>)),\n",
       "                                                                                         ('scaler',\n",
       "                                                                                          StandardScaler())],\n",
       "                                                                                  verb...\n",
       "                                                                                          SimpleImputer(strategy='most_frequent')),\n",
       "                                                                                         ('ohe',\n",
       "                                                                                          OneHotEncoder(drop='first',\n",
       "                                                                                                        handle_unknown='ignore',\n",
       "                                                                                                        sparse=False))],\n",
       "                                                                                  verbose=True),\n",
       "                                                                         Index(['sex', 'smoker', 'day', 'time'], dtype='object'))])),\n",
       "                                       ('model', KNeighborsRegressor())]),\n",
       "             n_jobs=-1,\n",
       "             param_grid={'model__n_neighbors': [3, 4, 5], 'model__p': [1, 2],\n",
       "                         'model__weights': ['uniform', 'distance']},\n",
       "             return_train_score=True, scoring='neg_mean_absolute_error')"
      ]
     },
     "execution_count": 165,
     "metadata": {},
     "output_type": "execute_result"
    }
   ],
   "source": [
    "grid.fit(X_train, y_train)"
   ]
  },
  {
   "cell_type": "code",
   "execution_count": 166,
   "id": "f7c81749-f5e6-463a-b3b0-02fe5ab777e4",
   "metadata": {},
   "outputs": [
    {
     "data": {
      "text/plain": [
       "array([15.3275, 15.685 , 18.855 , 36.185 , 14.535 , 20.795 , 16.1075,\n",
       "       14.6025, 18.7875, 16.5475, 18.7875, 13.43  , 11.2025, 20.795 ,\n",
       "       11.4525,  9.975 , 24.22  , 19.835 , 17.61  , 31.5325, 16.125 ,\n",
       "       19.4425, 22.9725, 13.43  , 28.0775, 19.4675, 18.7875, 22.7025,\n",
       "       18.855 , 26.44  , 19.77  , 17.755 , 21.235 , 17.4375, 22.4675,\n",
       "       23.62  , 13.29  , 24.7575, 18.1075, 15.385 , 18.185 , 12.03  ,\n",
       "       14.1825, 15.895 , 16.1075,  9.625 , 15.8675, 18.9325, 12.6025])"
      ]
     },
     "execution_count": 166,
     "metadata": {},
     "output_type": "execute_result"
    }
   ],
   "source": [
    "y_pred = grid.predict(X_test)\n",
    "y_pred"
   ]
  },
  {
   "cell_type": "code",
   "execution_count": 167,
   "id": "3ce7e04a-5793-45ec-b6be-5178b549b929",
   "metadata": {},
   "outputs": [
    {
     "name": "stdout",
     "output_type": "stream",
     "text": [
      "MAE : 5.69\n"
     ]
    }
   ],
   "source": [
    "# sem best params\n",
    "print(f\"MAE : {mean_absolute_error(y_pred, y_test):.2f}\")"
   ]
  }
 ],
 "metadata": {
  "kernelspec": {
   "display_name": "Python 3",
   "language": "python",
   "name": "python3"
  },
  "language_info": {
   "codemirror_mode": {
    "name": "ipython",
    "version": 3
   },
   "file_extension": ".py",
   "mimetype": "text/x-python",
   "name": "python",
   "nbconvert_exporter": "python",
   "pygments_lexer": "ipython3",
   "version": "3.8.8"
  }
 },
 "nbformat": 4,
 "nbformat_minor": 5
}
