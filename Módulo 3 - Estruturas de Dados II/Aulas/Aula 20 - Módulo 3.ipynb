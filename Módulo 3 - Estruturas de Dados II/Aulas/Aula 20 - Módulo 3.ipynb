{
 "cells": [
  {
   "cell_type": "code",
   "execution_count": 1,
   "id": "efd7d9d2",
   "metadata": {},
   "outputs": [],
   "source": [
    "# Implementação de Linked List em Python\n",
    "\n",
    "class Node:\n",
    "    def __init__(self, v):\n",
    "        self.value = v\n",
    "        self.next = None\n",
    "        \n",
    "class List:\n",
    "    def __init__(self):\n",
    "        self.head = None\n",
    "        self.tail = None\n",
    "        self.size = 0\n",
    "    \n",
    "    def is_empty(self):\n",
    "        return self.size == 0\n",
    "    \n",
    "    def add(self, val):\n",
    "        n = Node(val) # n é uma variável que aponta para Node(Val)\n",
    "                \n",
    "        if self.is_empty():\n",
    "            self.head = n\n",
    "            self.tail = n\n",
    "        else:\n",
    "            last_node = self.tail\n",
    "            last_node.next = n\n",
    "            self.tail = n\n",
    "        self.size += 1\n",
    "    \n",
    "    def get_list(self):\n",
    "        it = self.head\n",
    "        res = \"[\"\n",
    "        while it is not None:\n",
    "            value = it.value\n",
    "            res += \"f{value} \"\n",
    "            it = it.next\n",
    "        res += \"]\"\n",
    "        return res\n",
    "\n"
   ]
  },
  {
   "cell_type": "code",
   "execution_count": 2,
   "id": "735f65ef",
   "metadata": {},
   "outputs": [
    {
     "name": "stdout",
     "output_type": "stream",
     "text": [
      "[f{value} f{value} f{value} ]\n"
     ]
    }
   ],
   "source": [
    "l = List()\n",
    "l.add(1)\n",
    "l.add(2)\n",
    "l.add(3)\n",
    "print(l.get_list())"
   ]
  },
  {
   "cell_type": "code",
   "execution_count": null,
   "id": "fb24d29a",
   "metadata": {},
   "outputs": [],
   "source": []
  }
 ],
 "metadata": {
  "kernelspec": {
   "display_name": "Python 3",
   "language": "python",
   "name": "python3"
  },
  "language_info": {
   "codemirror_mode": {
    "name": "ipython",
    "version": 3
   },
   "file_extension": ".py",
   "mimetype": "text/x-python",
   "name": "python",
   "nbconvert_exporter": "python",
   "pygments_lexer": "ipython3",
   "version": "3.8.8"
  }
 },
 "nbformat": 4,
 "nbformat_minor": 5
}
