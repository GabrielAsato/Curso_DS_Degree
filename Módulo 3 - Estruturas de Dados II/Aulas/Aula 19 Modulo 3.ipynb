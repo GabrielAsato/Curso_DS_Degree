{
 "cells": [
  {
   "cell_type": "code",
   "execution_count": null,
   "id": "bb2380a1",
   "metadata": {},
   "outputs": [],
   "source": []
  },
  {
   "cell_type": "code",
   "execution_count": 39,
   "id": "c5befeca",
   "metadata": {},
   "outputs": [],
   "source": [
    "# Números primos\n",
    "def prime(n):\n",
    "    prime = [True for i in range(n+1)]\n",
    "    # qualquer número maior que ele mesmo, se for divisivel por i, retorna False\n",
    "    for i in range(2, n+1):\n",
    "        for j in range(i+1, n+1):\n",
    "            if j % i == 0:\n",
    "                prime[j] = False\n",
    "    ans = []\n",
    "    for i in range(2, n+1):\n",
    "        if prime[i]:\n",
    "            ans.append(i)\n",
    "    return ans"
   ]
  },
  {
   "cell_type": "code",
   "execution_count": 46,
   "id": "ec7890aa",
   "metadata": {},
   "outputs": [
    {
     "data": {
      "text/plain": [
       "[2, 3, 5, 7, 11, 13, 17, 19, 23, 29, 31, 37, 41, 43, 47, 53, 59, 61, 67, 71]"
      ]
     },
     "execution_count": 46,
     "metadata": {},
     "output_type": "execute_result"
    }
   ],
   "source": [
    "prime(72)"
   ]
  },
  {
   "cell_type": "code",
   "execution_count": 3,
   "id": "160b2930",
   "metadata": {},
   "outputs": [],
   "source": [
    "import math as m\n",
    "\n",
    "# Números primos\n",
    "def prime(n):\n",
    "    prime = [True for i in range(n+1)]\n",
    "    # Não precisa percorrer todo o range(n), até o arredondamento para baixo de raiz de n é suficiente.\n",
    "    # Qualquer numero menor que um quadrado (num = n*n), é composto de um produto de primos menores que n.\n",
    "    # Que é eliminado pelo algoritmo pelos primos menores que n.\n",
    "    for i in range(2, m.floor(m.sqrt(n))+1):\n",
    "        for j in range(i+1, n+1):\n",
    "            if j % i == 0:\n",
    "                prime[j] = False\n",
    "    ans = []\n",
    "    for i in range(2, n+1):\n",
    "        if prime[i]:\n",
    "            ans.append(i)\n",
    "    return ans"
   ]
  },
  {
   "cell_type": "code",
   "execution_count": 48,
   "id": "a424b876",
   "metadata": {},
   "outputs": [
    {
     "data": {
      "text/plain": [
       "[2, 3, 5, 7, 11, 13, 17, 19, 23, 29, 31, 37, 41, 43, 47, 53, 59, 61, 67, 71]"
      ]
     },
     "execution_count": 48,
     "metadata": {},
     "output_type": "execute_result"
    }
   ],
   "source": [
    "prime(72)"
   ]
  },
  {
   "cell_type": "markdown",
   "id": "a01350c4",
   "metadata": {},
   "source": [
    "- **Checagem consecutiva de inteiros**\n",
    "\n",
    "    Dado que o máximo divisor comum de m e n não pode ser maior do que o menor número dentre eles, ou seja, t = min(m, n), podemos iniciar checando se t divide m e n. Se sim, t é a resposta, caso contrário, decrementamos t até encontrarmos uma divisão exata."
   ]
  },
  {
   "cell_type": "code",
   "execution_count": 2,
   "id": "ece61932",
   "metadata": {},
   "outputs": [],
   "source": [
    "def checagem_consecutiva(m, n):\n",
    "    # t = min(m, n)\n",
    "    t = m\n",
    "    if n < m:\n",
    "        t = n\n",
    "    \n",
    "    # t divide m e n?\n",
    "    while (m % t != 0 or n % t != 0):\n",
    "        t -= 1\n",
    "    return t"
   ]
  },
  {
   "cell_type": "code",
   "execution_count": 3,
   "id": "2efe21c2",
   "metadata": {},
   "outputs": [
    {
     "data": {
      "text/plain": [
       "12"
      ]
     },
     "execution_count": 3,
     "metadata": {},
     "output_type": "execute_result"
    }
   ],
   "source": [
    "checagem_consecutiva(60, 24)"
   ]
  },
  {
   "cell_type": "markdown",
   "id": "4286e3fb",
   "metadata": {},
   "source": [
    "- <b>Método da escola</b>\n",
    "\n",
    "    Podemos decompor os números em fatores primos e multiplicar os elementos repetidos. Esse método é mais complexo do que as soluções acima, desde que 'decompor em fatores primos' e 'encontrar elementos repetidos' são novos problemas que introduzimos."
   ]
  },
  {
   "cell_type": "code",
   "execution_count": 55,
   "id": "0a70c836",
   "metadata": {},
   "outputs": [],
   "source": [
    "import math as m\n",
    "\n",
    "# Números primos\n",
    "def prime(n):\n",
    "    prime = [True for i in range(n+1)]\n",
    "    # Não precisa percorrer todo o range(n), até o \n",
    "    # arredondamento para baixo de raiz de n é suficiente.\n",
    "    # Qualquer numero menor que um quadrado (num = n*n), \n",
    "    # é composto de um produto de primos menores que n.\n",
    "    # Que é eliminado pelo algoritmo pelos primos menores que n.\n",
    "    for i in range(2, m.floor(m.sqrt(n))+1):\n",
    "        for j in range(i+1, n+1):\n",
    "            if j % i == 0:\n",
    "                prime[j] = False\n",
    "    ans = []\n",
    "    for i in range(2, n+1):\n",
    "        if prime[i]:\n",
    "            ans.append(i)\n",
    "    return ans\n",
    "\n",
    "def metodo_escola(m,n):\n",
    "    # Definir qual é o maior\n",
    "    maximo = m\n",
    "    if n > m:\n",
    "        maximo = n\n",
    "    # Lista de números primos até o valor máximo\n",
    "    primos = prime(maximo)\n",
    "    \n",
    "    m_list = []\n",
    "    n_list = []\n",
    "    \n",
    "    i = 0\n",
    "    while m % primos[i] == 0:\n",
    "        m = m / primos[i]\n",
    "        m_list.append(primos[i])\n",
    "        if m % primos[i] != 0:\n",
    "            i += 1\n",
    "    \n",
    "    j = 0\n",
    "    while n % primos[j] == 0:\n",
    "        n = n / primos[j]\n",
    "        n_list.append(primos[j])\n",
    "        if n % primos[j] != 0:\n",
    "            j += 1\n",
    "            \n",
    "\n",
    "    # Num dicionario, determinar o número primo e sua quantidade\n",
    "    m_dict = {}\n",
    "    for i in m_list:\n",
    "        m_dict[i] = m_list.count(i)\n",
    "    n_dict = {}\n",
    "    for i in n_list:\n",
    "        n_dict[i] = n_list.count(i)\n",
    "    # entre cada um dos dicionários, qual tem a menor quantidade de cada número e obter esse número\n",
    "    # se o número existir somente em uma das listas, não contabilizar\n",
    "    \n",
    "    # Colocar numa lista os números primos que existem em ambas as listas\n",
    "    prime_list = []\n",
    "    for i in m_dict.keys():\n",
    "        for j in n_dict.keys():\n",
    "            if i == j:\n",
    "                prime_list.append(i)\n",
    "                \n",
    "    # Determinar a menor quantidade entre os números primos em cada lista   \n",
    "    pot = []\n",
    "    for j in prime_list:\n",
    "        if m_list.count(j)<n_list.count(j):\n",
    "            pot.append(m_list.count(j))\n",
    "        else:\n",
    "            pot.append(n_list.count(j))\n",
    "    \n",
    "    # gcd é o produto de cada elemento em prime_list elevado a cada elemento em pot \n",
    "    gcd = 1\n",
    "    for i in range(len(prime_list)):\n",
    "        gcd *= prime_list[i]**pot[i]\n",
    "    \n",
    "    return gcd"
   ]
  },
  {
   "cell_type": "code",
   "execution_count": 56,
   "id": "aae91dd0",
   "metadata": {},
   "outputs": [
    {
     "data": {
      "text/plain": [
       "12"
      ]
     },
     "execution_count": 56,
     "metadata": {},
     "output_type": "execute_result"
    }
   ],
   "source": [
    "metodo_escola(60,24)"
   ]
  },
  {
   "cell_type": "markdown",
   "id": "8162b9f2",
   "metadata": {},
   "source": [
    "Read a value of floating point with two decimal places. This represents a monetary value. After this, calculate the smallest possible number of notes and coins on which the value can be decomposed. The considered notes are of 100, 50, 20, 10, 5, 2. The possible coins are of 1, 0.50, 0.25, 0.10, 0.05 and 0.01. Print the message “NOTAS:” followed by the list of notes and the message “MOEDAS:” followed by the list of coins.\n",
    "\n",
    "Input\n",
    "The input file contains a value of floating point N (0 ≤ N ≤ 1000000.00).\n",
    "\n",
    "Output\n",
    "Print the minimum quantity of banknotes and coins necessary to change the initial value, as the given example."
   ]
  },
  {
   "cell_type": "code",
   "execution_count": 17,
   "id": "eecec1e5",
   "metadata": {},
   "outputs": [
    {
     "name": "stdout",
     "output_type": "stream",
     "text": [
      "91.01\n",
      "NOTAS\n",
      "0 nota(s) de R$ 100.00\n",
      "1 nota(s) de R$ 50.00\n",
      "2 nota(s) de R$ 20.00\n",
      "0 nota(s) de R$ 10.00\n",
      "0 nota(s) de R$ 5.00\n",
      "0 nota(s) de R$ 2.00\n",
      "MOEDAS\n",
      "1 de moeda(s) de R$ 1.00\n",
      "0 de moeda(s) de R$ 0.50\n",
      "0 de moeda(s) de R$ 0.25\n",
      "0 de moeda(s) de R$ 0.10\n",
      "0 de moeda(s) de R$ 0.05\n",
      "1 de moeda(s) de R$ 0.01\n"
     ]
    }
   ],
   "source": [
    "notes = [100, 50, 20, 10, 5, 2]\n",
    "coins = [1, 0.50, 0.25, 0.10, 0.05, 0.01]\n",
    "\n",
    "def decompose(val): \n",
    "    print(\"NOTAS:\")\n",
    "    for note in notes:\n",
    "        qtd = val//note\n",
    "        print(f\"{int(qtd)} nota(s) de R$ {note:.2f}\")\n",
    "        val = val % note\n",
    "    print(\"MOEDAS:\")\n",
    "    for coin in coins:\n",
    "        qtd = val//coin\n",
    "        print(f\"{int(qtd)} moeda(s) de R$ {coin:.2f}\")\n",
    "        val = val % coin\n",
    "\n",
    "n = round(float(input()),2)\n",
    "decompose(n)"
   ]
  },
  {
   "cell_type": "code",
   "execution_count": 20,
   "id": "f65cd336",
   "metadata": {},
   "outputs": [
    {
     "name": "stdout",
     "output_type": "stream",
     "text": [
      "576.73\n",
      "NOTAS:\n",
      "5 nota(s) de R$ 100.00\n",
      "1 nota(s) de R$ 50.00\n",
      "1 nota(s) de R$ 20.00\n",
      "0 nota(s) de R$ 10.00\n",
      "1 nota(s) de R$ 5.00\n",
      "0 nota(s) de R$ 2.00\n",
      "MOEDAS:\n",
      "1 de moeda(s) de R$ 1.00\n",
      "1 de moeda(s) de R$ 0.50\n",
      "0 de moeda(s) de R$ 0.25\n",
      "2 de moeda(s) de R$ 0.10\n",
      "0 de moeda(s) de R$ 0.05\n",
      "3 de moeda(s) de R$ 0.01\n"
     ]
    }
   ],
   "source": [
    "notes = [100, 50, 20, 10, 5, 2]\n",
    "coins = [1, 0.50, 0.25, 0.10, 0.05, 0.01]\n",
    "\n",
    "def decompose(val): \n",
    "    print(\"NOTAS:\")\n",
    "    for note in notes:\n",
    "        qtd = val//note\n",
    "        print(f\"{int(qtd)} nota(s) de R$ {note:.2f}\")\n",
    "        val = val % note\n",
    "    print(\"MOEDAS:\")\n",
    "    for coin in coins:\n",
    "        qtd = val//coin\n",
    "        print(f\"{int(qtd)} moeda(s) de R$ {coin:.2f}\")\n",
    "        val = val % coin\n",
    "\n",
    "n = float(input()) + float(0.001)\n",
    "decompose(n)"
   ]
  },
  {
   "cell_type": "code",
   "execution_count": 18,
   "id": "f634c7f2",
   "metadata": {},
   "outputs": [
    {
     "name": "stdout",
     "output_type": "stream",
     "text": [
      "10\n",
      "1\n",
      "24\n",
      "[3, 5, 7, 9]\n"
     ]
    }
   ],
   "source": [
    "# Sum of consecutive odd numbers\n",
    "\n",
    "X = int(input())\n",
    "Y = int(input())\n",
    "\n",
    "minimo = X\n",
    "maximo = Y\n",
    "if Y<X:\n",
    "    minimo = Y\n",
    "    maximo = X\n",
    "\n",
    "ans = []\n",
    "for i in range(minimo+1, maximo):\n",
    "    if i % 2 != 0:\n",
    "        ans.append(i)\n",
    "\n",
    "soma = sum(ans)\n",
    "print(soma)\n",
    "print(ans)"
   ]
  },
  {
   "cell_type": "code",
   "execution_count": null,
   "id": "f7a0f3b6",
   "metadata": {},
   "outputs": [],
   "source": []
  }
 ],
 "metadata": {
  "kernelspec": {
   "display_name": "Python 3",
   "language": "python",
   "name": "python3"
  },
  "language_info": {
   "codemirror_mode": {
    "name": "ipython",
    "version": 3
   },
   "file_extension": ".py",
   "mimetype": "text/x-python",
   "name": "python",
   "nbconvert_exporter": "python",
   "pygments_lexer": "ipython3",
   "version": "3.8.8"
  }
 },
 "nbformat": 4,
 "nbformat_minor": 5
}
