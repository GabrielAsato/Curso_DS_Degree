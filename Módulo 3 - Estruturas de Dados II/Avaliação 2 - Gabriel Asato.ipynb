{
 "cells": [
  {
   "cell_type": "code",
   "execution_count": 1,
   "id": "16519792",
   "metadata": {},
   "outputs": [],
   "source": [
    "# Compare two linked lists\n",
    "def compare_lists(llist1, llist2):\n",
    "    while True:\n",
    "        # llist1 and llist2 are both None\n",
    "        if llist1 == None and llist2 == None:\n",
    "            return 1\n",
    "        # only one of them are None\n",
    "        if (llist1 == None and llist2 != None) or (llist2 == None and llist1 != None):\n",
    "            return 0\n",
    "        # the data for both are different\n",
    "        if llist1.data != llist2.data:\n",
    "            return 0\n",
    "        # update llist1 and llist2\n",
    "        llist1 = llist1.next\n",
    "        llist2 = llist2.next"
   ]
  },
  {
   "cell_type": "code",
   "execution_count": 4,
   "id": "9ab07e67",
   "metadata": {},
   "outputs": [],
   "source": [
    "# Recursive Digit Sum - Não entendi porque não passaram os cases 6, 7, 8 e 9 \n",
    "def superDigit(n, k):\n",
    "    # Write your code here\n",
    "    soma = sum([int(i) for i in n*k])\n",
    "    if soma < 10:\n",
    "        return soma\n",
    "    return superDigit(str(soma), 1)"
   ]
  },
  {
   "cell_type": "code",
   "execution_count": 8,
   "id": "dc1f9840",
   "metadata": {},
   "outputs": [],
   "source": [
    "# Sherlock and Array\n",
    "def balancedSums(arr):\n",
    "    \"\"\"\n",
    "    Elemento pivot varre a lista.\n",
    "    Se diferente: direita retira esse elemento e esquerda soma esse elemento.\n",
    "    Se igual: soma dos elementos em ambos os lados sao iguais    \n",
    "    \"\"\"\n",
    "    # Write your code here\n",
    "    direita = sum(arr)\n",
    "    esquerda = 0\n",
    "    \n",
    "    for elemento in arr:\n",
    "        direita -= elemento\n",
    "        if direita == esquerda:\n",
    "            return \"YES\"\n",
    "        esquerda += elemento\n",
    "    return \"NO\""
   ]
  }
 ],
 "metadata": {
  "kernelspec": {
   "display_name": "Python 3",
   "language": "python",
   "name": "python3"
  },
  "language_info": {
   "codemirror_mode": {
    "name": "ipython",
    "version": 3
   },
   "file_extension": ".py",
   "mimetype": "text/x-python",
   "name": "python",
   "nbconvert_exporter": "python",
   "pygments_lexer": "ipython3",
   "version": "3.8.8"
  }
 },
 "nbformat": 4,
 "nbformat_minor": 5
}
