{
 "cells": [
  {
   "cell_type": "code",
   "execution_count": 1,
   "id": "993697f0",
   "metadata": {},
   "outputs": [],
   "source": [
    "# Birthday Cake Candles\n",
    "def birthdayCakeCandles(candles):\n",
    "    # Write your code here\n",
    "    count = 0\n",
    "    # Temporario sendo o primeiro\n",
    "    temp = candles[0]\n",
    "    # Percorrer a lista e identificar o maior e atribuir para o temp\n",
    "    for i in range(1,len(candles)):\n",
    "        if candles[i] > temp:\n",
    "            temp = candles[i]\n",
    "    # contar numero desse maior valor\n",
    "    for i in range(len(candles)):\n",
    "        if candles[i] == temp:\n",
    "            count += 1\n",
    "    return count"
   ]
  },
  {
   "cell_type": "code",
   "execution_count": 5,
   "id": "ca2c9f88",
   "metadata": {},
   "outputs": [
    {
     "data": {
      "text/plain": [
       "3"
      ]
     },
     "execution_count": 5,
     "metadata": {},
     "output_type": "execute_result"
    }
   ],
   "source": [
    "birthdayCakeCandles([7,8,6,7,9,9,9])"
   ]
  },
  {
   "cell_type": "code",
   "execution_count": 2,
   "id": "fffd4573",
   "metadata": {},
   "outputs": [],
   "source": [
    "# Time Conversion\n",
    "def timeConversion(s):\n",
    "    # Write your code here\n",
    "    time = s.split(\":\")\n",
    "    # Mod do tempo\n",
    "    time[0] = int(time[0]) % 12\n",
    "    if s[-2] == \"P\":\n",
    "        time[0] += 12\n",
    "    # Hora convertida em string   \n",
    "    time[0] = f\"{time[0]:02d}\"\n",
    "    # Retorna tudo menos as duas últimas letras\n",
    "    return \":\".join(time)[:-2]"
   ]
  },
  {
   "cell_type": "code",
   "execution_count": 11,
   "id": "634cf03d",
   "metadata": {},
   "outputs": [
    {
     "data": {
      "text/plain": [
       "'18:00:01'"
      ]
     },
     "execution_count": 11,
     "metadata": {},
     "output_type": "execute_result"
    }
   ],
   "source": [
    "timeConversion(\"06:00:01PM\")"
   ]
  },
  {
   "cell_type": "code",
   "execution_count": 3,
   "id": "16f1b1ec",
   "metadata": {},
   "outputs": [],
   "source": [
    "# Staircase\n",
    "def staircase(n):\n",
    "    # Write your code here\n",
    "    for i in range(n):\n",
    "        for j in range(n):\n",
    "            # Criteria for space or #: Lower triangle and oposite diagonal\n",
    "            if i + j < n-1:\n",
    "                print(\" \", end = '') \n",
    "            else:\n",
    "                print(\"#\", end = '')\n",
    "        # Go to next line\n",
    "        print()"
   ]
  },
  {
   "cell_type": "code",
   "execution_count": 10,
   "id": "22023ffe",
   "metadata": {},
   "outputs": [
    {
     "name": "stdout",
     "output_type": "stream",
     "text": [
      "    #\n",
      "   ##\n",
      "  ###\n",
      " ####\n",
      "#####\n"
     ]
    }
   ],
   "source": [
    "staircase(5)"
   ]
  }
 ],
 "metadata": {
  "kernelspec": {
   "display_name": "Python 3",
   "language": "python",
   "name": "python3"
  },
  "language_info": {
   "codemirror_mode": {
    "name": "ipython",
    "version": 3
   },
   "file_extension": ".py",
   "mimetype": "text/x-python",
   "name": "python",
   "nbconvert_exporter": "python",
   "pygments_lexer": "ipython3",
   "version": "3.8.8"
  }
 },
 "nbformat": 4,
 "nbformat_minor": 5
}
