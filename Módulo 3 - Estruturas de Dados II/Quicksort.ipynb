{
 "cells": [
  {
   "cell_type": "code",
   "execution_count": 50,
   "id": "2f70de9d",
   "metadata": {},
   "outputs": [],
   "source": [
    "# Partition\n",
    "def partition(Arr, start, end):\n",
    "    # pivot é o último elemento\n",
    "    pivot = Arr[end]\n",
    "    i = start\n",
    "    for j in range(start, end-1):\n",
    "        if Arr[i] <= pivot:\n",
    "            #Swap\n",
    "            Arr[i], Arr[j] = Arr[j], Arr[i]\n",
    "            i += 1\n",
    "    # Swap com o pivot\n",
    "    Arr[i], Arr[end] = Arr[end], Arr[i]\n",
    "    return i"
   ]
  },
  {
   "cell_type": "code",
   "execution_count": 61,
   "id": "14320d7f",
   "metadata": {},
   "outputs": [],
   "source": [
    "def quickSortHelper(Arr, start, end):\n",
    "    if start < end:\n",
    "        splitpoint = partition(Arr, start, end)\n",
    "        quickSortHelper(Arr, start, splitpoint-1)\n",
    "        quickSortHelper(Arr, splitpoint+1, end)\n",
    "    return Arr"
   ]
  },
  {
   "cell_type": "code",
   "execution_count": 62,
   "id": "1792cd60",
   "metadata": {},
   "outputs": [],
   "source": [
    "def quickSort(Arr):\n",
    "    return quickSortHelper(Arr, 0, len(Arr)-1)"
   ]
  },
  {
   "cell_type": "code",
   "execution_count": 63,
   "id": "8f720c72",
   "metadata": {},
   "outputs": [],
   "source": [
    "x = [5,6,4,3,6,8,9,0,3,8,76,23,45,101]"
   ]
  },
  {
   "cell_type": "code",
   "execution_count": 64,
   "id": "1eec4995",
   "metadata": {},
   "outputs": [],
   "source": [
    "a = quickSort(x)"
   ]
  },
  {
   "cell_type": "code",
   "execution_count": 65,
   "id": "3a894395",
   "metadata": {},
   "outputs": [
    {
     "data": {
      "text/plain": [
       "[3, 5, 6, 4, 8, 6, 8, 0, 9, 3, 23, 76, 101, 45]"
      ]
     },
     "execution_count": 65,
     "metadata": {},
     "output_type": "execute_result"
    }
   ],
   "source": [
    "a"
   ]
  },
  {
   "cell_type": "code",
   "execution_count": null,
   "id": "2078bd88",
   "metadata": {},
   "outputs": [],
   "source": []
  }
 ],
 "metadata": {
  "kernelspec": {
   "display_name": "Python 3",
   "language": "python",
   "name": "python3"
  },
  "language_info": {
   "codemirror_mode": {
    "name": "ipython",
    "version": 3
   },
   "file_extension": ".py",
   "mimetype": "text/x-python",
   "name": "python",
   "nbconvert_exporter": "python",
   "pygments_lexer": "ipython3",
   "version": "3.8.8"
  }
 },
 "nbformat": 4,
 "nbformat_minor": 5
}
