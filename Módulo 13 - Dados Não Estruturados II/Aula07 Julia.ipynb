{
 "cells": [
  {
   "cell_type": "code",
   "execution_count": 2,
   "metadata": {},
   "outputs": [],
   "source": [
    "using DataFrames\n",
    "using CSV\n",
    "using Gadfly\n",
    "using TextAnalysis\n",
    "using MLJ\n",
    "using Chain\n",
    "using Pipe\n",
    "using StableRNGs"
   ]
  },
  {
   "cell_type": "code",
   "execution_count": 3,
   "metadata": {},
   "outputs": [
    {
     "name": "stdout",
     "output_type": "stream",
     "text": [
      "┌──────────┬──────────────────────────────────────────────────────────────────────────────────────────────────────────────────────────────────────────────────────────────────┐\n",
      "│\u001b[1m Category \u001b[0m│\u001b[1m Message                                                                                                                                                          \u001b[0m│\n",
      "│\u001b[90m String7  \u001b[0m│\u001b[90m String                                                                                                                                                           \u001b[0m│\n",
      "│\u001b[90m Textual  \u001b[0m│\u001b[90m Textual                                                                                                                                                          \u001b[0m│\n",
      "├──────────┼──────────────────────────────────────────────────────────────────────────────────────────────────────────────────────────────────────────────────────────────────┤\n",
      "│ ham      │ Go until jurong point, crazy.. Available only in bugis n great world la e buffet... Cine there got amore wat...                                                  │\n",
      "│ ham      │ Ok lar... Joking wif u oni...                                                                                                                                    │\n",
      "│ spam     │ Free entry in 2 a wkly comp to win FA Cup final tkts 21st May 2005. Text FA to 87121 to receive entry question(std txt rate)T&C's apply 08452810075over18's      │\n",
      "│ ham      │ U dun say so early hor... U c already then say...                                                                                                                │\n",
      "│ ham      │ Nah I don't think he goes to usf, he lives around here though                                                                                                    │\n",
      "│ spam     │ FreeMsg Hey there darling it's been 3 week's now and no word back! I'd like some fun you up for it still? Tb ok! XxX std chgs to send, £1.50 to rcv              │\n",
      "│ ham      │ Even my brother is not like to speak with me. They treat me like aids patent.                                                                                    │\n",
      "│ ham      │ As per your request 'Melle Melle (Oru Minnaminunginte Nurungu Vettam)' has been set as your callertune for all Callers. Press *9 to copy your friends Callertune │\n",
      "│ spam     │ WINNER!! As a valued network customer you have been selected to receivea £900 prize reward! To claim call 09061701461. Claim code KL341. Valid 12 hours only.    │\n",
      "│ spam     │ Had your mobile 11 months or more? U R entitled to Update to the latest colour mobiles with camera for Free! Call The Mobile Update Co FREE on 08002986030       │\n",
      "└──────────┴──────────────────────────────────────────────────────────────────────────────────────────────────────────────────────────────────────────────────────────────────┘\n"
     ]
    }
   ],
   "source": [
    "df = CSV.read(\"spam_dataset.csv\", DataFrames.DataFrame)\n",
    "first(df, 10) |> pretty"
   ]
  },
  {
   "cell_type": "code",
   "execution_count": 4,
   "metadata": {},
   "outputs": [
    {
     "name": "stdout",
     "output_type": "stream",
     "text": [
      "(5572, 2)\n"
     ]
    }
   ],
   "source": [
    "println(size(df))"
   ]
  },
  {
   "cell_type": "code",
   "execution_count": 5,
   "metadata": {},
   "outputs": [
    {
     "name": "stdout",
     "output_type": "stream",
     "text": [
      "┌──────────┬─────────────────────────────────────────────────────────────────────────────────────────────────────────────────────────────────────────────────────────────┬──────────────────────────┐\n",
      "│\u001b[1m Category \u001b[0m│\u001b[1m Message                                                                                                                                                     \u001b[0m│\u001b[1m Message2                 \u001b[0m│\n",
      "│\u001b[90m String7  \u001b[0m│\u001b[90m String                                                                                                                                                      \u001b[0m│\u001b[90m StringDocument{String}   \u001b[0m│\n",
      "│\u001b[90m Textual  \u001b[0m│\u001b[90m Textual                                                                                                                                                     \u001b[0m│\u001b[90m Unknown                  \u001b[0m│\n",
      "├──────────┼─────────────────────────────────────────────────────────────────────────────────────────────────────────────────────────────────────────────────────────────┼──────────────────────────┤\n",
      "│ ham      │ Go until jurong point, crazy.. Available only in bugis n great world la e buffet... Cine there got amore wat...                                             │ A StringDocument{String} │\n",
      "│ ham      │ Ok lar... Joking wif u oni...                                                                                                                               │ A StringDocument{String} │\n",
      "│ spam     │ Free entry in 2 a wkly comp to win FA Cup final tkts 21st May 2005. Text FA to 87121 to receive entry question(std txt rate)T&C's apply 08452810075over18's │ A StringDocument{String} │\n",
      "│ ham      │ U dun say so early hor... U c already then say...                                                                                                           │ A StringDocument{String} │\n",
      "│ ham      │ Nah I don't think he goes to usf, he lives around here though                                                                                               │ A StringDocument{String} │\n",
      "└──────────┴─────────────────────────────────────────────────────────────────────────────────────────────────────────────────────────────────────────────────────────────┴──────────────────────────┘\n"
     ]
    }
   ],
   "source": [
    "df = @chain df begin\n",
    "    DataFrames.transform(:Message => ByRow(x -> StringDocument(x)) => :Message2)\n",
    "  end\n",
    "  \n",
    "  @chain df begin\n",
    "  first(5)\n",
    "  pretty()\n",
    "  end"
   ]
  },
  {
   "cell_type": "code",
   "execution_count": 6,
   "metadata": {},
   "outputs": [
    {
     "data": {
      "text/plain": [
       "\"Go until jurong point, crazy.. Available only in bugis n great world la e buffet... Cine there got amore wat...\""
      ]
     },
     "metadata": {},
     "output_type": "display_data"
    }
   ],
   "source": [
    "text(df[:, :Message2][1])"
   ]
  },
  {
   "cell_type": "code",
   "execution_count": 7,
   "metadata": {},
   "outputs": [
    {
     "data": {
      "text/plain": [
       "21-element Vector{String}:\n",
       " \"Go\"\n",
       " \"until\"\n",
       " \"jurong\"\n",
       " \"point\"\n",
       " \",\"\n",
       " \"crazy\"\n",
       " \"Available\"\n",
       " \"only\"\n",
       " \"in\"\n",
       " \"bugis\"\n",
       " ⋮\n",
       " \"world\"\n",
       " \"la\"\n",
       " \"e\"\n",
       " \"buffet\"\n",
       " \"Cine\"\n",
       " \"there\"\n",
       " \"got\"\n",
       " \"amore\"\n",
       " \"wat\""
      ]
     },
     "metadata": {},
     "output_type": "display_data"
    }
   ],
   "source": [
    "tokens(df[:, :Message2][1])"
   ]
  },
  {
   "cell_type": "code",
   "execution_count": 8,
   "metadata": {},
   "outputs": [
    {
     "data": {
      "text/plain": [
       "Dict{String, Int64} with 21 entries:\n",
       "  \"amore\"     => 1\n",
       "  \"Available\" => 1\n",
       "  \"e\"         => 1\n",
       "  \"there\"     => 1\n",
       "  \"wat\"       => 1\n",
       "  \"got\"       => 1\n",
       "  \"Go\"        => 1\n",
       "  \",\"         => 1\n",
       "  \"in\"        => 1\n",
       "  \"world\"     => 1\n",
       "  \"point\"     => 1\n",
       "  \"until\"     => 1\n",
       "  \"Cine\"      => 1\n",
       "  \"crazy\"     => 1\n",
       "  \"la\"        => 1\n",
       "  \"great\"     => 1\n",
       "  \"jurong\"    => 1\n",
       "  \"only\"      => 1\n",
       "  \"buffet\"    => 1\n",
       "  ⋮           => ⋮"
      ]
     },
     "metadata": {},
     "output_type": "display_data"
    }
   ],
   "source": [
    "ngrams(df[:, :Message2][1])"
   ]
  },
  {
   "cell_type": "code",
   "execution_count": 9,
   "metadata": {},
   "outputs": [
    {
     "data": {
      "text/plain": [
       "Dict{AbstractString, Int64} with 20 entries:\n",
       "  \"jurong point\"    => 1\n",
       "  \"there got\"       => 1\n",
       "  \"bugis n\"         => 1\n",
       "  \", crazy\"         => 1\n",
       "  \"only in\"         => 1\n",
       "  \"crazy Available\" => 1\n",
       "  \"buffet Cine\"     => 1\n",
       "  \"great world\"     => 1\n",
       "  \"n great\"         => 1\n",
       "  \"Cine there\"      => 1\n",
       "  \"la e\"            => 1\n",
       "  \"Go until\"        => 1\n",
       "  \"point ,\"         => 1\n",
       "  \"amore wat\"       => 1\n",
       "  \"until jurong\"    => 1\n",
       "  \"Available only\"  => 1\n",
       "  \"got amore\"       => 1\n",
       "  \"e buffet\"        => 1\n",
       "  \"world la\"        => 1\n",
       "  \"in bugis\"        => 1"
      ]
     },
     "metadata": {},
     "output_type": "display_data"
    }
   ],
   "source": [
    "ngrams(df[:, :Message2][1], 2)"
   ]
  },
  {
   "cell_type": "code",
   "execution_count": 11,
   "metadata": {},
   "outputs": [
    {
     "name": "stdout",
     "output_type": "stream",
     "text": [
      "┌──────────┬──────────────────────────────────────────────────────────────────────────────────────────────────────────────────────────────────────────────────────────────────┬───────────────────────────────────────────────────────────────────────────────────────────────────────────────────────────────────────────────────┐\n",
      "│\u001b[1m Category \u001b[0m│\u001b[1m Message                                                                                                                                                          \u001b[0m│\u001b[1m Message2                                                                                                                                          \u001b[0m│\n",
      "│\u001b[90m String7  \u001b[0m│\u001b[90m String                                                                                                                                                           \u001b[0m│\u001b[90m String                                                                                                                                            \u001b[0m│\n",
      "│\u001b[90m Textual  \u001b[0m│\u001b[90m Textual                                                                                                                                                          \u001b[0m│\u001b[90m Textual                                                                                                                                           \u001b[0m│\n",
      "├──────────┼──────────────────────────────────────────────────────────────────────────────────────────────────────────────────────────────────────────────────────────────────┼───────────────────────────────────────────────────────────────────────────────────────────────────────────────────────────────────────────────────┤\n",
      "│ ham      │ Go until jurong point, crazy.. Available only in bugis n great world la e buffet... Cine there got amore wat...                                                  │ go until jurong point crazi avail onli in bugi n great world la e buffet cine there got amor wat                                                  │\n",
      "│ ham      │ Ok lar... Joking wif u oni...                                                                                                                                    │ ok lar joke wif u oni                                                                                                                             │\n",
      "│ spam     │ Free entry in 2 a wkly comp to win FA Cup final tkts 21st May 2005. Text FA to 87121 to receive entry question(std txt rate)T&C's apply 08452810075over18's      │ free entri in a wkli comp to win fa cup final tkts st may text fa to to receiv entri questionstd txt ratetc appli over                            │\n",
      "│ ham      │ U dun say so early hor... U c already then say...                                                                                                                │ u dun say so earli hor u c alreadi then say                                                                                                       │\n",
      "│ ham      │ Nah I don't think he goes to usf, he lives around here though                                                                                                    │ nah i dont think he goe to usf he live around here though                                                                                         │\n",
      "│ spam     │ FreeMsg Hey there darling it's been 3 week's now and no word back! I'd like some fun you up for it still? Tb ok! XxX std chgs to send, £1.50 to rcv              │ freemsg hey there darl it been week now and no word back id like some fun you up for it still tb ok xxx std chgs to send £ to rcv                 │\n",
      "│ ham      │ Even my brother is not like to speak with me. They treat me like aids patent.                                                                                    │ even my brother is not like to speak with me they treat me like aid patent                                                                        │\n",
      "│ ham      │ As per your request 'Melle Melle (Oru Minnaminunginte Nurungu Vettam)' has been set as your callertune for all Callers. Press *9 to copy your friends Callertune │ as per your request mell mell oru minnaminungint nurungu vettam has been set as your callertun for all caller press to copi your friend callertun │\n",
      "│ spam     │ WINNER!! As a valued network customer you have been selected to receivea £900 prize reward! To claim call 09061701461. Claim code KL341. Valid 12 hours only.    │ winner as a valu network custom you have been select to receivea £ prize reward to claim call claim code kl valid hour onli                       │\n",
      "│ spam     │ Had your mobile 11 months or more? U R entitled to Update to the latest colour mobiles with camera for Free! Call The Mobile Update Co FREE on 08002986030       │ had your mobil month or more u r entitl to updat to the latest colour mobil with camera for free call the mobil updat co free on                  │\n",
      "└──────────┴──────────────────────────────────────────────────────────────────────────────────────────────────────────────────────────────────────────────────────────────────┴───────────────────────────────────────────────────────────────────────────────────────────────────────────────────────────────────────────────────┘\n",
      "┌──────────┬──────────────────────────────────────────────────────────────────────────────────────────────────────────────────────────────────────────────────────────────────┬───────────────────────────────────────────────────────────────────────────────────────────────────────────────────────────────────────────────────┐\n",
      "│\u001b[1m Category \u001b[0m│\u001b[1m Message                                                                                                                                                          \u001b[0m│\u001b[1m Message2                                                                                                                                          \u001b[0m│\n",
      "│\u001b[90m String7  \u001b[0m│\u001b[90m String                                                                                                                                                           \u001b[0m│\u001b[90m String                                                                                                                                            \u001b[0m│\n",
      "│\u001b[90m Textual  \u001b[0m│\u001b[90m Textual                                                                                                                                                          \u001b[0m│\u001b[90m Textual                                                                                                                                           \u001b[0m│\n",
      "├──────────┼──────────────────────────────────────────────────────────────────────────────────────────────────────────────────────────────────────────────────────────────────┼───────────────────────────────────────────────────────────────────────────────────────────────────────────────────────────────────────────────────┤\n",
      "│ ham      │ Go until jurong point, crazy.. Available only in bugis n great world la e buffet... Cine there got amore wat...                                                  │ go until jurong point crazi avail on in bugi n great world la e buffet cine there got amor wat                                                    │\n",
      "│ ham      │ Ok lar... Joking wif u oni...                                                                                                                                    │ ok lar joke wif u oni                                                                                                                             │\n",
      "│ spam     │ Free entry in 2 a wkly comp to win FA Cup final tkts 21st May 2005. Text FA to 87121 to receive entry question(std txt rate)T&C's apply 08452810075over18's      │ free entri in a wkli comp to win fa cup final tkts st may text fa to to receiv entri questionstd txt ratetc appli over                            │\n",
      "│ ham      │ U dun say so early hor... U c already then say...                                                                                                                │ u dun say so ear hor u c alreadi then say                                                                                                         │\n",
      "│ ham      │ Nah I don't think he goes to usf, he lives around here though                                                                                                    │ nah i dont think he goe to usf he live around here though                                                                                         │\n",
      "│ spam     │ FreeMsg Hey there darling it's been 3 week's now and no word back! I'd like some fun you up for it still? Tb ok! XxX std chgs to send, £1.50 to rcv              │ freemsg hey there darl it been week now and no word back id like some fun you up for it still tb ok xxx std chgs to send £ to rcv                 │\n",
      "│ ham      │ Even my brother is not like to speak with me. They treat me like aids patent.                                                                                    │ even my brother is not like to speak with me they treat me like aid patent                                                                        │\n",
      "│ ham      │ As per your request 'Melle Melle (Oru Minnaminunginte Nurungu Vettam)' has been set as your callertune for all Callers. Press *9 to copy your friends Callertune │ as per your request mell mell oru minnaminungint nurungu vettam has been set as your callertun for all caller press to copi your friend callertun │\n",
      "│ spam     │ WINNER!! As a valued network customer you have been selected to receivea £900 prize reward! To claim call 09061701461. Claim code KL341. Valid 12 hours only.    │ winner as a valu network custom you have been select to receivea £ prize reward to claim call claim code kl valid hour on                         │\n",
      "│ spam     │ Had your mobile 11 months or more? U R entitled to Update to the latest colour mobiles with camera for Free! Call The Mobile Update Co FREE on 08002986030       │ had your mobil month or more u r entitl to updat to the latest colour mobil with camera for free call the mobil updat co free on                  │\n",
      "└──────────┴──────────────────────────────────────────────────────────────────────────────────────────────────────────────────────────────────────────────────────────────────┴───────────────────────────────────────────────────────────────────────────────────────────────────────────────────────────────────────────────────┘\n"
     ]
    }
   ],
   "source": [
    "remove_case!.(df[:, :Message2])\n",
    "prepare!.(df[:, :Message2], strip_html_tags| strip_punctuation| strip_numbers)\n",
    "stem!.(df[:, :Message2])\n",
    "\n",
    "@chain df begin\n",
    "DataFrames.transform(:Message2 => ByRow(x->text(x)) => :Message2)\n",
    "first(10)\n",
    "pretty()\n",
    "end"
   ]
  },
  {
   "cell_type": "code",
   "execution_count": 12,
   "metadata": {},
   "outputs": [],
   "source": [
    "crps = Corpus(df[:, :Message2]);"
   ]
  },
  {
   "cell_type": "code",
   "execution_count": 13,
   "metadata": {},
   "outputs": [],
   "source": [
    "update_lexicon!(crps)"
   ]
  },
  {
   "cell_type": "code",
   "execution_count": 14,
   "metadata": {},
   "outputs": [
    {
     "data": {
      "text/plain": [
       "A 5572 X 7274 DocumentTermMatrix"
      ]
     },
     "metadata": {},
     "output_type": "display_data"
    }
   ],
   "source": [
    "m = DocumentTermMatrix(crps)"
   ]
  },
  {
   "cell_type": "code",
   "execution_count": 15,
   "metadata": {},
   "outputs": [
    {
     "name": "stdout",
     "output_type": "stream",
     "text": [
      "Size of the dense document term matrix : (5572, 7274)\n"
     ]
    }
   ],
   "source": [
    "dense_dtm = dtm(m, :dense)\n",
    "println(\"Size of the dense document term matrix : $(size(dense_dtm))\")"
   ]
  },
  {
   "cell_type": "code",
   "execution_count": 16,
   "metadata": {},
   "outputs": [
    {
     "name": "stdout",
     "output_type": "stream",
     "text": [
      "Size of the tf-idf matrix : (5572, 7274)\n"
     ]
    }
   ],
   "source": [
    "tfidf_mat = tf_idf(m);\n",
    "println(\"Size of the tf-idf matrix : $(size(tfidf_mat))\")"
   ]
  },
  {
   "cell_type": "code",
   "execution_count": 17,
   "metadata": {},
   "outputs": [],
   "source": [
    "X, y = tfidf_mat, df[:, :Category];"
   ]
  },
  {
   "cell_type": "code",
   "execution_count": 18,
   "metadata": {},
   "outputs": [
    {
     "name": "stdout",
     "output_type": "stream",
     "text": [
      "import MLJDecisionTreeInterface ✔\n"
     ]
    },
    {
     "name": "stderr",
     "output_type": "stream",
     "text": [
      "┌ Info: For silent loading, specify `verbosity=0`. \n",
      "└ @ Main C:\\Users\\matheus.pavani\\.julia\\packages\\MLJModels\\hAzAn\\src\\loading.jl:159\n"
     ]
    },
    {
     "data": {
      "text/plain": [
       "DecisionTreeClassifier(\n",
       "  max_depth = -1, \n",
       "  min_samples_leaf = 1, \n",
       "  min_samples_split = 2, \n",
       "  min_purity_increase = 0.0, \n",
       "  n_subfeatures = 0, \n",
       "  post_prune = false, \n",
       "  merge_purity_threshold = 1.0, \n",
       "  display_depth = 5, \n",
       "  feature_importance = :impurity, \n",
       "  rng = Random._GLOBAL_RNG())"
      ]
     },
     "metadata": {},
     "output_type": "display_data"
    }
   ],
   "source": [
    "DecisionTreeClassifier = @load DecisionTreeClassifier pkg=DecisionTree\n",
    "tree_model = DecisionTreeClassifier()"
   ]
  },
  {
   "cell_type": "code",
   "execution_count": 19,
   "metadata": {},
   "outputs": [
    {
     "name": "stderr",
     "output_type": "stream",
     "text": [
      "┌ Warning: The number and/or types of data arguments do not match what the specified model\n",
      "│ supports. Suppress this type check by specifying `scitype_check_level=0`.\n",
      "│ \n",
      "│ Run `@doc DecisionTree.DecisionTreeClassifier` to learn more about your model's requirements.\n",
      "│ \n",
      "│ Commonly, but non exclusively, supervised models are constructed using the syntax\n",
      "│ `machine(model, X, y)` or `machine(model, X, y, w)` while most other models are\n",
      "│ constructed with `machine(model, X)`.  Here `X` are features, `y` a target, and `w`\n",
      "│ sample or class weights.\n",
      "│ \n",
      "│ In general, data in `machine(model, data...)` is expected to satisfy\n",
      "│ \n",
      "│     scitype(data) <: MLJ.fit_data_scitype(model)\n",
      "│ \n",
      "│ In the present case:\n",
      "│ \n",
      "│ scitype(data) = Tuple{AbstractMatrix{Continuous}, AbstractVector{Multiclass{2}}}\n",
      "│ \n",
      "│ fit_data_scitype(model) = Tuple{Table{<:Union{AbstractVector{<:Count}, AbstractVector{<:OrderedFactor}, AbstractVector{<:Continuous}}}, AbstractVector{<:Finite}}\n",
      "└ @ MLJBase C:\\Users\\matheus.pavani\\.julia\\packages\\MLJBase\\Fl6Zc\\src\\machines.jl:176\n"
     ]
    },
    {
     "data": {
      "text/plain": [
       "Machine trained 0 times; caches data\n",
       "  model: DecisionTreeClassifier(max_depth = -1, …)\n",
       "  args: \n",
       "    1:\tSource @649 ⏎ `AbstractMatrix{Continuous}`\n",
       "    2:\tSource @633 ⏎ `AbstractVector{Multiclass{2}}`\n"
      ]
     },
     "metadata": {},
     "output_type": "display_data"
    }
   ],
   "source": [
    "tree = machine(tree_model, coerce(X, Continuous), coerce(y, Multiclass))"
   ]
  },
  {
   "cell_type": "code",
   "execution_count": 20,
   "metadata": {},
   "outputs": [],
   "source": [
    "rng = StableRNG(42)\n",
    "train, test = partition(eachindex(y), 0.85, shuffle=true, rng=rng);"
   ]
  },
  {
   "cell_type": "code",
   "execution_count": 21,
   "metadata": {},
   "outputs": [
    {
     "name": "stderr",
     "output_type": "stream",
     "text": [
      "┌ Info: Training machine(DecisionTreeClassifier(max_depth = -1, …), …).\n",
      "└ @ MLJBase C:\\Users\\matheus.pavani\\.julia\\packages\\MLJBase\\Fl6Zc\\src\\machines.jl:498\n"
     ]
    },
    {
     "data": {
      "text/plain": [
       "Machine trained 1 time; caches data\n",
       "  model: DecisionTreeClassifier(max_depth = -1, …)\n",
       "  args: \n",
       "    1:\tSource @649 ⏎ `AbstractMatrix{Continuous}`\n",
       "    2:\tSource @633 ⏎ `AbstractVector{Multiclass{2}}`\n"
      ]
     },
     "metadata": {},
     "output_type": "display_data"
    }
   ],
   "source": [
    "MLJ.fit!(tree, rows=train)"
   ]
  },
  {
   "cell_type": "code",
   "execution_count": 22,
   "metadata": {},
   "outputs": [
    {
     "data": {
      "text/plain": [
       "0.7329451048026216"
      ]
     },
     "metadata": {},
     "output_type": "display_data"
    }
   ],
   "source": [
    "yhat = MLJ.predict(tree, coerce(X[test, :], Continuous))\n",
    "log_loss(yhat, y[test]) |> mean"
   ]
  },
  {
   "cell_type": "code",
   "execution_count": 23,
   "metadata": {},
   "outputs": [
    {
     "data": {
      "text/plain": [
       "0.9796650717703349"
      ]
     },
     "metadata": {},
     "output_type": "display_data"
    }
   ],
   "source": [
    "accuracy(mode.(yhat), y[test])"
   ]
  },
  {
   "cell_type": "code",
   "execution_count": 24,
   "metadata": {},
   "outputs": [
    {
     "name": "stderr",
     "output_type": "stream",
     "text": [
      "┌ Warning: The classes are un-ordered,\n",
      "│ using: negative='ham' and positive='spam'.\n",
      "│ To suppress this warning, consider coercing to OrderedFactor.\n",
      "└ @ MLJBase C:\\Users\\matheus.pavani\\.julia\\packages\\MLJBase\\Fl6Zc\\src\\measures\\confusion_matrix.jl:116\n"
     ]
    },
    {
     "data": {
      "text/plain": [
       "              ┌───────────────────────────┐\n",
       "              │       Ground Truth        │\n",
       "┌─────────────┼─────────────┬─────────────┤\n",
       "│  Predicted  │     ham     │    spam     │\n",
       "├─────────────┼─────────────┼─────────────┤\n",
       "│     ham     │     722     │     10      │\n",
       "├─────────────┼─────────────┼─────────────┤\n",
       "│    spam     │      7      │     97      │\n",
       "└─────────────┴─────────────┴─────────────┘\n"
      ]
     },
     "metadata": {},
     "output_type": "display_data"
    }
   ],
   "source": [
    "ConfusionMatrix()(mode.(yhat), y[test])"
   ]
  },
  {
   "cell_type": "code",
   "execution_count": 25,
   "metadata": {},
   "outputs": [
    {
     "data": {
      "text/plain": [
       "5-element Vector{NamedTuple{(:name, :package_name, :is_supervised, :abstract_type, :deep_properties, :docstring, :fit_data_scitype, :human_name, :hyperparameter_ranges, :hyperparameter_types, :hyperparameters, :implemented_methods, :inverse_transform_scitype, :is_pure_julia, :is_wrapper, :iteration_parameter, :load_path, :package_license, :package_url, :package_uuid, :predict_scitype, :prediction_type, :reporting_operations, :reports_feature_importances, :supports_class_weights, :supports_online, :supports_training_losses, :supports_weights, :transform_scitype, :input_scitype, :target_scitype, :output_scitype)}}:\n",
       " (name = IForestDetector, package_name = OutlierDetectionPython, ... )\n",
       " (name = RandomForestClassifier, package_name = DecisionTree, ... )\n",
       " (name = RandomForestClassifier, package_name = ScikitLearn, ... )\n",
       " (name = RandomForestRegressor, package_name = DecisionTree, ... )\n",
       " (name = RandomForestRegressor, package_name = ScikitLearn, ... )"
      ]
     },
     "metadata": {},
     "output_type": "display_data"
    }
   ],
   "source": [
    "models(\"forest\")"
   ]
  },
  {
   "cell_type": "code",
   "execution_count": 26,
   "metadata": {},
   "outputs": [
    {
     "name": "stdout",
     "output_type": "stream",
     "text": [
      "import MLJDecisionTreeInterface ✔\n"
     ]
    },
    {
     "name": "stderr",
     "output_type": "stream",
     "text": [
      "┌ Info: For silent loading, specify `verbosity=0`. \n",
      "└ @ Main C:\\Users\\matheus.pavani\\.julia\\packages\\MLJModels\\hAzAn\\src\\loading.jl:159\n"
     ]
    },
    {
     "data": {
      "text/plain": [
       "RandomForestClassifier(\n",
       "  max_depth = -1, \n",
       "  min_samples_leaf = 1, \n",
       "  min_samples_split = 2, \n",
       "  min_purity_increase = 0.0, \n",
       "  n_subfeatures = -1, \n",
       "  n_trees = 10, \n",
       "  sampling_fraction = 0.7, \n",
       "  feature_importance = :impurity, \n",
       "  rng = Random._GLOBAL_RNG())"
      ]
     },
     "metadata": {},
     "output_type": "display_data"
    }
   ],
   "source": [
    "RandomForestClassifier = @load RandomForestClassifier pkg=DecisionTree\n",
    "forest_model = RandomForestClassifier()"
   ]
  },
  {
   "cell_type": "code",
   "execution_count": 27,
   "metadata": {},
   "outputs": [
    {
     "name": "stderr",
     "output_type": "stream",
     "text": [
      "┌ Warning: The number and/or types of data arguments do not match what the specified model\n",
      "│ supports. Suppress this type check by specifying `scitype_check_level=0`.\n",
      "│ \n",
      "│ Run `@doc DecisionTree.RandomForestClassifier` to learn more about your model's requirements.\n",
      "│ \n",
      "│ Commonly, but non exclusively, supervised models are constructed using the syntax\n",
      "│ `machine(model, X, y)` or `machine(model, X, y, w)` while most other models are\n",
      "│ constructed with `machine(model, X)`.  Here `X` are features, `y` a target, and `w`\n",
      "│ sample or class weights.\n",
      "│ \n",
      "│ In general, data in `machine(model, data...)` is expected to satisfy\n",
      "│ \n",
      "│     scitype(data) <: MLJ.fit_data_scitype(model)\n",
      "│ \n",
      "│ In the present case:\n",
      "│ \n",
      "│ scitype(data) = Tuple{AbstractMatrix{Continuous}, AbstractVector{Multiclass{2}}}\n",
      "│ \n",
      "│ fit_data_scitype(model) = Tuple{Table{<:Union{AbstractVector{<:Count}, AbstractVector{<:OrderedFactor}, AbstractVector{<:Continuous}}}, AbstractVector{<:Finite}}\n",
      "└ @ MLJBase C:\\Users\\matheus.pavani\\.julia\\packages\\MLJBase\\Fl6Zc\\src\\machines.jl:176\n"
     ]
    },
    {
     "data": {
      "text/plain": [
       "Machine trained 0 times; caches data\n",
       "  model: RandomForestClassifier(max_depth = -1, …)\n",
       "  args: \n",
       "    1:\tSource @330 ⏎ `AbstractMatrix{Continuous}`\n",
       "    2:\tSource @146 ⏎ `AbstractVector{Multiclass{2}}`\n"
      ]
     },
     "metadata": {},
     "output_type": "display_data"
    }
   ],
   "source": [
    "forest = machine(forest_model, coerce(X, Continuous), coerce(y, Multiclass))"
   ]
  },
  {
   "cell_type": "code",
   "execution_count": 28,
   "metadata": {},
   "outputs": [
    {
     "name": "stderr",
     "output_type": "stream",
     "text": [
      "┌ Info: Training machine(RandomForestClassifier(max_depth = -1, …), …).\n",
      "└ @ MLJBase C:\\Users\\matheus.pavani\\.julia\\packages\\MLJBase\\Fl6Zc\\src\\machines.jl:498\n"
     ]
    },
    {
     "data": {
      "text/plain": [
       "Machine trained 1 time; caches data\n",
       "  model: RandomForestClassifier(max_depth = -1, …)\n",
       "  args: \n",
       "    1:\tSource @330 ⏎ `AbstractMatrix{Continuous}`\n",
       "    2:\tSource @146 ⏎ `AbstractVector{Multiclass{2}}`\n"
      ]
     },
     "metadata": {},
     "output_type": "display_data"
    }
   ],
   "source": [
    "MLJ.fit!(forest, rows=train)"
   ]
  },
  {
   "cell_type": "code",
   "execution_count": 29,
   "metadata": {},
   "outputs": [],
   "source": [
    "yhat = MLJ.predict(forest, coerce(X[test, :], Continuous));"
   ]
  },
  {
   "cell_type": "code",
   "execution_count": 30,
   "metadata": {},
   "outputs": [
    {
     "name": "stdout",
     "output_type": "stream",
     "text": [
      "Log-Loss on the Test Set : 0.37833313067620566\n"
     ]
    }
   ],
   "source": [
    "println(\"Log-Loss on the Test Set : $(log_loss(yhat, coerce(y[test], Multiclass)) |> mean)\")"
   ]
  },
  {
   "cell_type": "code",
   "execution_count": 31,
   "metadata": {},
   "outputs": [
    {
     "name": "stdout",
     "output_type": "stream",
     "text": [
      "Accuracy on the Test Set : 0.9581339712918661\n"
     ]
    }
   ],
   "source": [
    "println(\"Accuracy on the Test Set : $(accuracy(mode.(yhat), coerce(y[test], Multiclass)))\")"
   ]
  },
  {
   "cell_type": "code",
   "execution_count": 32,
   "metadata": {},
   "outputs": [
    {
     "name": "stderr",
     "output_type": "stream",
     "text": [
      "┌ Warning: The classes are un-ordered,\n",
      "│ using: negative='ham' and positive='spam'.\n",
      "│ To suppress this warning, consider coercing to OrderedFactor.\n",
      "└ @ MLJBase C:\\Users\\matheus.pavani\\.julia\\packages\\MLJBase\\Fl6Zc\\src\\measures\\confusion_matrix.jl:116\n"
     ]
    },
    {
     "data": {
      "text/plain": [
       "              ┌───────────────────────────┐\n",
       "              │       Ground Truth        │\n",
       "┌─────────────┼─────────────┬─────────────┤\n",
       "│  Predicted  │     ham     │    spam     │\n",
       "├─────────────┼─────────────┼─────────────┤\n",
       "│     ham     │     728     │     34      │\n",
       "├─────────────┼─────────────┼─────────────┤\n",
       "│    spam     │      1      │     73      │\n",
       "└─────────────┴─────────────┴─────────────┘\n"
      ]
     },
     "metadata": {},
     "output_type": "display_data"
    }
   ],
   "source": [
    "ConfusionMatrix()(mode.(yhat), coerce(y[test], Multiclass))"
   ]
  },
  {
   "cell_type": "code",
   "execution_count": null,
   "metadata": {},
   "outputs": [],
   "source": []
  }
 ],
 "metadata": {
  "kernelspec": {
   "display_name": "Julia 1.7.2",
   "language": "julia",
   "name": "julia-1.7"
  },
  "language_info": {
   "file_extension": ".jl",
   "mimetype": "application/julia",
   "name": "julia",
   "version": "1.7.2"
  },
  "orig_nbformat": 4
 },
 "nbformat": 4,
 "nbformat_minor": 2
}
