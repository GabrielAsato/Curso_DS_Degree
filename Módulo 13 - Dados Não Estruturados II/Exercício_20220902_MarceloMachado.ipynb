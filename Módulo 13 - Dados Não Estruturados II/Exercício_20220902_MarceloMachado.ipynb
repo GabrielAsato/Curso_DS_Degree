{
 "cells": [
  {
   "cell_type": "code",
   "execution_count": 46,
   "metadata": {},
   "outputs": [],
   "source": [
    "# https://drive.google.com/drive/folders/1idNpDd9aEE2j5w7Uc9Tja92ekRIt8hKd?usp=sharing"
   ]
  },
  {
   "cell_type": "code",
   "execution_count": null,
   "metadata": {},
   "outputs": [],
   "source": [
    "import numpy as np\n",
    "import pandas as pd\n",
    "import re\n",
    "import seaborn as sns\n",
    "import matplotlib.pyplot as plt\n",
    "from datetime import datetime\n",
    "\n",
    "import nltk\n",
    "from nltk.util import ngrams\n",
    "from nltk.stem.porter import *\n",
    "from nltk.stem import WordNetLemmatizer\n",
    "from nltk import word_tokenize\n",
    "from nltk.corpus import stopwords\n",
    "\n",
    "from sklearn.model_selection import train_test_split\n",
    "from sklearn.model_selection import StratifiedKFold\n",
    "from sklearn.model_selection import GridSearchCV\n",
    "from sklearn.feature_extraction.text import TfidfVectorizer\n",
    "from sklearn.pipeline import Pipeline\n",
    "from sklearn.decomposition import PCA\n",
    "from sklearn.svm import SVC\n",
    "from sklearn.linear_model import LogisticRegression\n",
    "from sklearn.ensemble import RandomForestClassifier\n",
    "from sklearn.metrics import classification_report, roc_auc_score"
   ]
  },
  {
   "cell_type": "code",
   "execution_count": 2,
   "metadata": {},
   "outputs": [],
   "source": [
    "def text_preprocessing(string, keep_stop=False, keep_num=True, min_len=1):\n",
    "    string = str(string)\n",
    "    string = string.lower()\n",
    "    tokens = word_tokenize(string)\n",
    "    if keep_num:\n",
    "        words = [word for word in tokens if  word.isalnum() ]\n",
    "    else:\n",
    "        words = [word for word in tokens if  word.isalpha() ]\n",
    "    if not keep_stop:\n",
    "        sw_en = set(stopwords.words('english'))\n",
    "        words_clean = [word for word in words if word not in sw_en and len(word)>=min_len]\n",
    "    else:\n",
    "        words_clean = [word for word in words if len(word)>=min_len]\n",
    "    return words_clean\n",
    "\n",
    "def text_stem(string, keep_stop=False, keep_num=True, min_len=1):\n",
    "    stemmer = PorterStemmer()\n",
    "    tokens = text_preprocessing(string, keep_stop, keep_num, min_len)\n",
    "    words_stem = [stemmer.stem(word) for word in tokens]\n",
    "    return words_stem\n",
    "\n",
    "def text_lemma(string, keep_stop=False, keep_num=True, min_len=1):\n",
    "    lemmatizer = WordNetLemmatizer()\n",
    "    tokens = text_preprocessing(string, keep_stop, keep_num, min_len)\n",
    "    words_lemma = [lemmatizer.lemmatize(word) for word in tokens]\n",
    "    return words_lemma"
   ]
  },
  {
   "cell_type": "code",
   "execution_count": 18,
   "metadata": {},
   "outputs": [
    {
     "data": {
      "text/html": [
       "<div>\n",
       "<style scoped>\n",
       "    .dataframe tbody tr th:only-of-type {\n",
       "        vertical-align: middle;\n",
       "    }\n",
       "\n",
       "    .dataframe tbody tr th {\n",
       "        vertical-align: top;\n",
       "    }\n",
       "\n",
       "    .dataframe thead th {\n",
       "        text-align: right;\n",
       "    }\n",
       "</style>\n",
       "<table border=\"1\" class=\"dataframe\">\n",
       "  <thead>\n",
       "    <tr style=\"text-align: right;\">\n",
       "      <th></th>\n",
       "      <th>text</th>\n",
       "      <th>label</th>\n",
       "    </tr>\n",
       "  </thead>\n",
       "  <tbody>\n",
       "    <tr>\n",
       "      <th>0</th>\n",
       "      <td>House Dem Aide: We Didn’t Even See Comey’s Let...</td>\n",
       "      <td>1</td>\n",
       "    </tr>\n",
       "    <tr>\n",
       "      <th>1</th>\n",
       "      <td>Ever get the feeling your life circles the rou...</td>\n",
       "      <td>0</td>\n",
       "    </tr>\n",
       "    <tr>\n",
       "      <th>2</th>\n",
       "      <td>Why the Truth Might Get You Fired October 29, ...</td>\n",
       "      <td>1</td>\n",
       "    </tr>\n",
       "    <tr>\n",
       "      <th>3</th>\n",
       "      <td>Videos 15 Civilians Killed In Single US Airstr...</td>\n",
       "      <td>1</td>\n",
       "    </tr>\n",
       "    <tr>\n",
       "      <th>4</th>\n",
       "      <td>Print \\nAn Iranian woman has been sentenced to...</td>\n",
       "      <td>1</td>\n",
       "    </tr>\n",
       "  </tbody>\n",
       "</table>\n",
       "</div>"
      ],
      "text/plain": [
       "                                                text  label\n",
       "0  House Dem Aide: We Didn’t Even See Comey’s Let...      1\n",
       "1  Ever get the feeling your life circles the rou...      0\n",
       "2  Why the Truth Might Get You Fired October 29, ...      1\n",
       "3  Videos 15 Civilians Killed In Single US Airstr...      1\n",
       "4  Print \\nAn Iranian woman has been sentenced to...      1"
      ]
     },
     "execution_count": 18,
     "metadata": {},
     "output_type": "execute_result"
    }
   ],
   "source": [
    "# exercício ------------------------------------------------\n",
    "fake = pd.read_csv('data/train_fakenews.csv')\n",
    "fake.drop(columns=['id', 'title', 'author'], inplace=True)\n",
    "fake.head()"
   ]
  },
  {
   "cell_type": "code",
   "execution_count": 50,
   "metadata": {},
   "outputs": [],
   "source": [
    "#fake['tokens_with_stop'] = fake['text'].apply(lambda x: text_preprocessing(x, keep_stop=True, keep_num=True, min_len=1)) # tratamento básico\n",
    "#fake['tokens_no_stop'] = fake['text'].apply(lambda x: text_preprocessing(x, keep_stop=False, keep_num=False, min_len=3)) # tratamento básico\n",
    "#fake['stem_words'] = fake['text'].apply(lambda x: text_stem(x, keep_stop=False, keep_num=False, min_len=3)) # pegando só o words_stem\n",
    "fake['lemma_words'] = fake['text'].apply(lambda x: text_lemma(x, keep_stop=False, keep_num=False, min_len=3)) # pegando só o words_lemma\n",
    "fake['lemma_string'] = fake['lemma_words'].apply(lambda x: ' '.join(x))\n",
    "\n",
    "fake['lemma_bigram'] = fake['lemma_words'].apply(lambda x: list(ngrams(x, 2)))"
   ]
  },
  {
   "cell_type": "code",
   "execution_count": 51,
   "metadata": {},
   "outputs": [
    {
     "data": {
      "text/html": [
       "<div>\n",
       "<style scoped>\n",
       "    .dataframe tbody tr th:only-of-type {\n",
       "        vertical-align: middle;\n",
       "    }\n",
       "\n",
       "    .dataframe tbody tr th {\n",
       "        vertical-align: top;\n",
       "    }\n",
       "\n",
       "    .dataframe thead th {\n",
       "        text-align: right;\n",
       "    }\n",
       "</style>\n",
       "<table border=\"1\" class=\"dataframe\">\n",
       "  <thead>\n",
       "    <tr style=\"text-align: right;\">\n",
       "      <th></th>\n",
       "      <th>text</th>\n",
       "      <th>label</th>\n",
       "      <th>lemma_words</th>\n",
       "      <th>lemma_bigram</th>\n",
       "      <th>lemma_string</th>\n",
       "    </tr>\n",
       "  </thead>\n",
       "  <tbody>\n",
       "    <tr>\n",
       "      <th>0</th>\n",
       "      <td>House Dem Aide: We Didn’t Even See Comey’s Let...</td>\n",
       "      <td>1</td>\n",
       "      <td>[house, dem, aide, even, see, comey, letter, j...</td>\n",
       "      <td>[(house, dem), (dem, aide), (aide, even), (eve...</td>\n",
       "      <td>house dem aide even see comey letter jason cha...</td>\n",
       "    </tr>\n",
       "    <tr>\n",
       "      <th>1</th>\n",
       "      <td>Ever get the feeling your life circles the rou...</td>\n",
       "      <td>0</td>\n",
       "      <td>[ever, get, feeling, life, circle, roundabout,...</td>\n",
       "      <td>[(ever, get), (get, feeling), (feeling, life),...</td>\n",
       "      <td>ever get feeling life circle roundabout rather...</td>\n",
       "    </tr>\n",
       "    <tr>\n",
       "      <th>2</th>\n",
       "      <td>Why the Truth Might Get You Fired October 29, ...</td>\n",
       "      <td>1</td>\n",
       "      <td>[truth, might, get, fired, october, tension, i...</td>\n",
       "      <td>[(truth, might), (might, get), (get, fired), (...</td>\n",
       "      <td>truth might get fired october tension intellig...</td>\n",
       "    </tr>\n",
       "    <tr>\n",
       "      <th>3</th>\n",
       "      <td>Videos 15 Civilians Killed In Single US Airstr...</td>\n",
       "      <td>1</td>\n",
       "      <td>[video, civilian, killed, single, airstrike, i...</td>\n",
       "      <td>[(video, civilian), (civilian, killed), (kille...</td>\n",
       "      <td>video civilian killed single airstrike identif...</td>\n",
       "    </tr>\n",
       "    <tr>\n",
       "      <th>4</th>\n",
       "      <td>Print \\nAn Iranian woman has been sentenced to...</td>\n",
       "      <td>1</td>\n",
       "      <td>[print, iranian, woman, sentenced, six, year, ...</td>\n",
       "      <td>[(print, iranian), (iranian, woman), (woman, s...</td>\n",
       "      <td>print iranian woman sentenced six year prison ...</td>\n",
       "    </tr>\n",
       "  </tbody>\n",
       "</table>\n",
       "</div>"
      ],
      "text/plain": [
       "                                                text  label  \\\n",
       "0  House Dem Aide: We Didn’t Even See Comey’s Let...      1   \n",
       "1  Ever get the feeling your life circles the rou...      0   \n",
       "2  Why the Truth Might Get You Fired October 29, ...      1   \n",
       "3  Videos 15 Civilians Killed In Single US Airstr...      1   \n",
       "4  Print \\nAn Iranian woman has been sentenced to...      1   \n",
       "\n",
       "                                         lemma_words  \\\n",
       "0  [house, dem, aide, even, see, comey, letter, j...   \n",
       "1  [ever, get, feeling, life, circle, roundabout,...   \n",
       "2  [truth, might, get, fired, october, tension, i...   \n",
       "3  [video, civilian, killed, single, airstrike, i...   \n",
       "4  [print, iranian, woman, sentenced, six, year, ...   \n",
       "\n",
       "                                        lemma_bigram  \\\n",
       "0  [(house, dem), (dem, aide), (aide, even), (eve...   \n",
       "1  [(ever, get), (get, feeling), (feeling, life),...   \n",
       "2  [(truth, might), (might, get), (get, fired), (...   \n",
       "3  [(video, civilian), (civilian, killed), (kille...   \n",
       "4  [(print, iranian), (iranian, woman), (woman, s...   \n",
       "\n",
       "                                        lemma_string  \n",
       "0  house dem aide even see comey letter jason cha...  \n",
       "1  ever get feeling life circle roundabout rather...  \n",
       "2  truth might get fired october tension intellig...  \n",
       "3  video civilian killed single airstrike identif...  \n",
       "4  print iranian woman sentenced six year prison ...  "
      ]
     },
     "execution_count": 51,
     "metadata": {},
     "output_type": "execute_result"
    }
   ],
   "source": [
    "fake.dropna(inplace=True)\n",
    "fake.head()"
   ]
  },
  {
   "cell_type": "code",
   "execution_count": 52,
   "metadata": {},
   "outputs": [
    {
     "data": {
      "text/plain": [
       "text            0\n",
       "label           0\n",
       "lemma_words     0\n",
       "lemma_bigram    0\n",
       "lemma_string    0\n",
       "dtype: int64"
      ]
     },
     "execution_count": 52,
     "metadata": {},
     "output_type": "execute_result"
    }
   ],
   "source": [
    "fake.isnull().sum()"
   ]
  },
  {
   "cell_type": "code",
   "execution_count": 23,
   "metadata": {},
   "outputs": [],
   "source": [
    "fake_0 = fake[fake['label']==0].reset_index(drop=True)\n",
    "freq_0 = nltk.FreqDist([x for sublist in fake_0['lemma_words'].to_list() for x in sublist])\n",
    "freq_0_bi = nltk.FreqDist([x for sublist in fake_0['lemma_bigram'].to_list() for x in sublist])\n",
    "\n",
    "fake_1 = fake[fake['label']==1].reset_index(drop=True)\n",
    "freq_1 = nltk.FreqDist([x for sublist in fake_1['lemma_words'].to_list() for x in sublist])\n",
    "freq_1_bi = nltk.FreqDist([x for sublist in fake_1['lemma_bigram'].to_list() for x in sublist])"
   ]
  },
  {
   "cell_type": "code",
   "execution_count": 24,
   "metadata": {},
   "outputs": [
    {
     "data": {
      "image/png": "[encoded data removed]",
      "text/plain": [
       "<Figure size 432x288 with 1 Axes>"
      ]
     },
     "metadata": {
      "needs_background": "light"
     },
     "output_type": "display_data"
    },
    {
     "data": {
      "text/plain": [
       "<AxesSubplot:xlabel='Samples', ylabel='Counts'>"
      ]
     },
     "execution_count": 24,
     "metadata": {},
     "output_type": "execute_result"
    }
   ],
   "source": [
    "freq_0.plot(20, cumulative=False)"
   ]
  },
  {
   "cell_type": "code",
   "execution_count": 25,
   "metadata": {},
   "outputs": [
    {
     "data": {
      "image/png": "[encoded data removed]",
      "text/plain": [
       "<Figure size 432x288 with 1 Axes>"
      ]
     },
     "metadata": {
      "needs_background": "light"
     },
     "output_type": "display_data"
    },
    {
     "data": {
      "text/plain": [
       "<AxesSubplot:xlabel='Samples', ylabel='Counts'>"
      ]
     },
     "execution_count": 25,
     "metadata": {},
     "output_type": "execute_result"
    }
   ],
   "source": [
    "freq_0_bi.plot(20, cumulative=False)"
   ]
  },
  {
   "cell_type": "code",
   "execution_count": 26,
   "metadata": {},
   "outputs": [
    {
     "data": {
      "image/png": "[encoded data removed]",
      "text/plain": [
       "<Figure size 432x288 with 1 Axes>"
      ]
     },
     "metadata": {
      "needs_background": "light"
     },
     "output_type": "display_data"
    },
    {
     "data": {
      "text/plain": [
       "<AxesSubplot:xlabel='Samples', ylabel='Counts'>"
      ]
     },
     "execution_count": 26,
     "metadata": {},
     "output_type": "execute_result"
    }
   ],
   "source": [
    "freq_1.plot(20, cumulative=False)"
   ]
  },
  {
   "cell_type": "code",
   "execution_count": 27,
   "metadata": {},
   "outputs": [
    {
     "data": {
      "image/png": "[encoded data removed]",
      "text/plain": [
       "<Figure size 432x288 with 1 Axes>"
      ]
     },
     "metadata": {
      "needs_background": "light"
     },
     "output_type": "display_data"
    },
    {
     "data": {
      "text/plain": [
       "<AxesSubplot:xlabel='Samples', ylabel='Counts'>"
      ]
     },
     "execution_count": 27,
     "metadata": {},
     "output_type": "execute_result"
    }
   ],
   "source": [
    "freq_1_bi.plot(20, cumulative=False)"
   ]
  },
  {
   "cell_type": "code",
   "execution_count": 54,
   "metadata": {},
   "outputs": [],
   "source": [
    "X = fake['lemma_string']\n",
    "y = fake['label']\n",
    "\n",
    "X_train, X_test, y_train, y_test = train_test_split(X, y, test_size=0.3, random_state=42)"
   ]
  },
  {
   "cell_type": "code",
   "execution_count": 29,
   "metadata": {},
   "outputs": [],
   "source": [
    "class DenseTransformer():\n",
    "    def fit(self, X, y=None, **fit_params):\n",
    "        return self\n",
    "    def transform(self, X, y=None, **fit_params):\n",
    "        return X.todense()"
   ]
  },
  {
   "cell_type": "code",
   "execution_count": 71,
   "metadata": {},
   "outputs": [],
   "source": [
    "gscv = StratifiedKFold(n_splits=3, shuffle=True)\n",
    "\n",
    "algorithms = {\n",
    "    'logistic':  GridSearchCV(\n",
    "        Pipeline([\n",
    "            ('tfidf', TfidfVectorizer()),\n",
    "            ('log', LogisticRegression())]), \n",
    "        param_grid={\n",
    "            'log__penalty': ['l1', 'l2'],\n",
    "            'log__solver': ['liblinear'],\n",
    "        },\n",
    "        scoring=['roc_auc', 'f1', 'accuracy'],\n",
    "        refit='f1',\n",
    "        cv=gscv),\n",
    "\n",
    "    'randomforest':  GridSearchCV(\n",
    "        Pipeline([\n",
    "            ('tfidf', TfidfVectorizer()),\n",
    "            ('rf', RandomForestClassifier())]), \n",
    "        param_grid={\n",
    "            'rf__max_depth': [5, 20],\n",
    "            'rf__criterion': ['entropy', 'gini'],\n",
    "        },\n",
    "        scoring=['roc_auc', 'f1', 'accuracy'],\n",
    "        cv=gscv),\n",
    "\n",
    "    'randomforest_pca':  GridSearchCV(\n",
    "        Pipeline([\n",
    "            ('tfidf', TfidfVectorizer()),\n",
    "            ('to_dense', DenseTransformer()),\n",
    "            ('pca', PCA(n_components=50)),\n",
    "            ('rf', RandomForestClassifier())]), \n",
    "        param_grid={\n",
    "            'rf__max_depth': [5, 20],\n",
    "            'rf__criterion': ['entropy', 'gini'],\n",
    "        },\n",
    "        scoring=['roc_auc', 'f1', 'accuracy'],\n",
    "        cv=gscv),\n",
    "        \n",
    "    'svmrbf': GridSearchCV(\n",
    "        Pipeline([\n",
    "            ('tfidf', TfidfVectorizer()),\n",
    "            ('svm', SVC(kernel='rbf'))]), \n",
    "        param_grid={\n",
    "            'pca__n_components': [2, 10],\n",
    "            'svm__C': [1.0],\n",
    "            'svm__gamma': [0.1, 2.0],\n",
    "        },\n",
    "        scoring=['roc_auc', 'f1', 'accuracy'],\n",
    "        cv=gscv),\n",
    "}"
   ]
  },
  {
   "cell_type": "code",
   "execution_count": 72,
   "metadata": {},
   "outputs": [
    {
     "name": "stdout",
     "output_type": "stream",
     "text": [
      "Algorítmo treinado: logistic\t Duração: 0:01:14.814121\n",
      "\n",
      "Tempo total: 0:01:14.814121\n"
     ]
    }
   ],
   "source": [
    "results = {}\n",
    "t = datetime.now()\n",
    "\n",
    "for alg, clf in algorithms.items():\n",
    "    t0 = datetime.now()\n",
    "    clf.fit(X_train, y_train) \n",
    "    t1 = datetime.now()\n",
    "    results[alg] = clf.cv_results_\n",
    "    print(f\"Algorítmo treinado: {alg}\\t Duração: {t1-t0}\")\n",
    "\n",
    "print(f\"\\nTempo total: {t1-t}\")\n",
    "results = pd.DataFrame.from_dict(results)"
   ]
  },
  {
   "cell_type": "code",
   "execution_count": 73,
   "metadata": {},
   "outputs": [
    {
     "data": {
      "text/html": [
       "<div>\n",
       "<style scoped>\n",
       "    .dataframe tbody tr th:only-of-type {\n",
       "        vertical-align: middle;\n",
       "    }\n",
       "\n",
       "    .dataframe tbody tr th {\n",
       "        vertical-align: top;\n",
       "    }\n",
       "\n",
       "    .dataframe thead th {\n",
       "        text-align: right;\n",
       "    }\n",
       "</style>\n",
       "<table border=\"1\" class=\"dataframe\">\n",
       "  <thead>\n",
       "    <tr style=\"text-align: right;\">\n",
       "      <th></th>\n",
       "      <th>logistic</th>\n",
       "    </tr>\n",
       "  </thead>\n",
       "  <tbody>\n",
       "    <tr>\n",
       "      <th>mean_fit_time</th>\n",
       "      <td>[6.234514951705933, 6.774506092071533]</td>\n",
       "    </tr>\n",
       "    <tr>\n",
       "      <th>mean_score_time</th>\n",
       "      <td>[4.504025936126709, 4.492668469746907]</td>\n",
       "    </tr>\n",
       "    <tr>\n",
       "      <th>mean_test_accuracy</th>\n",
       "      <td>[0.9162537847508946, 0.9256124415083953]</td>\n",
       "    </tr>\n",
       "    <tr>\n",
       "      <th>mean_test_f1</th>\n",
       "      <td>[0.9167300194788263, 0.9257891961421332]</td>\n",
       "    </tr>\n",
       "    <tr>\n",
       "      <th>mean_test_roc_auc</th>\n",
       "      <td>[0.9715861399920467, 0.9783801200996969]</td>\n",
       "    </tr>\n",
       "    <tr>\n",
       "      <th>param_log__penalty</th>\n",
       "      <td>[l1, l2]</td>\n",
       "    </tr>\n",
       "    <tr>\n",
       "      <th>param_log__solver</th>\n",
       "      <td>[liblinear, liblinear]</td>\n",
       "    </tr>\n",
       "    <tr>\n",
       "      <th>params</th>\n",
       "      <td>[{'log__penalty': 'l1', 'log__solver': 'liblin...</td>\n",
       "    </tr>\n",
       "    <tr>\n",
       "      <th>rank_test_accuracy</th>\n",
       "      <td>[2, 1]</td>\n",
       "    </tr>\n",
       "    <tr>\n",
       "      <th>rank_test_f1</th>\n",
       "      <td>[2, 1]</td>\n",
       "    </tr>\n",
       "    <tr>\n",
       "      <th>rank_test_roc_auc</th>\n",
       "      <td>[2, 1]</td>\n",
       "    </tr>\n",
       "    <tr>\n",
       "      <th>split0_test_accuracy</th>\n",
       "      <td>[0.9157720891824938, 0.9273327828241124]</td>\n",
       "    </tr>\n",
       "    <tr>\n",
       "      <th>split0_test_f1</th>\n",
       "      <td>[0.9164961113385182, 0.9275720164609054]</td>\n",
       "    </tr>\n",
       "    <tr>\n",
       "      <th>split0_test_roc_auc</th>\n",
       "      <td>[0.9727287093430189, 0.9781589308938079]</td>\n",
       "    </tr>\n",
       "    <tr>\n",
       "      <th>split1_test_accuracy</th>\n",
       "      <td>[0.9207266721717589, 0.9281585466556564]</td>\n",
       "    </tr>\n",
       "    <tr>\n",
       "      <th>split1_test_f1</th>\n",
       "      <td>[0.9210526315789473, 0.92833607907743]</td>\n",
       "    </tr>\n",
       "    <tr>\n",
       "      <th>split1_test_roc_auc</th>\n",
       "      <td>[0.9730909975506508, 0.9808569585519928]</td>\n",
       "    </tr>\n",
       "    <tr>\n",
       "      <th>split2_test_accuracy</th>\n",
       "      <td>[0.912262592898431, 0.921345995045417]</td>\n",
       "    </tr>\n",
       "    <tr>\n",
       "      <th>split2_test_f1</th>\n",
       "      <td>[0.9126413155190134, 0.9214594928880643]</td>\n",
       "    </tr>\n",
       "    <tr>\n",
       "      <th>split2_test_roc_auc</th>\n",
       "      <td>[0.9689387130824706, 0.9761244708532899]</td>\n",
       "    </tr>\n",
       "    <tr>\n",
       "      <th>std_fit_time</th>\n",
       "      <td>[0.9622690499972235, 1.1088449145606545]</td>\n",
       "    </tr>\n",
       "    <tr>\n",
       "      <th>std_score_time</th>\n",
       "      <td>[0.10933882743902294, 0.055717297530405815]</td>\n",
       "    </tr>\n",
       "    <tr>\n",
       "      <th>std_test_accuracy</th>\n",
       "      <td>[0.003472192626353662, 0.0030356103771143274]</td>\n",
       "    </tr>\n",
       "    <tr>\n",
       "      <th>std_test_f1</th>\n",
       "      <td>[0.0034378863883305294, 0.0030774118586580656]</td>\n",
       "    </tr>\n",
       "    <tr>\n",
       "      <th>std_test_roc_auc</th>\n",
       "      <td>[0.0018778471924890071, 0.0019383504074676494]</td>\n",
       "    </tr>\n",
       "  </tbody>\n",
       "</table>\n",
       "</div>"
      ],
      "text/plain": [
       "                                                               logistic\n",
       "mean_fit_time                    [6.234514951705933, 6.774506092071533]\n",
       "mean_score_time                  [4.504025936126709, 4.492668469746907]\n",
       "mean_test_accuracy             [0.9162537847508946, 0.9256124415083953]\n",
       "mean_test_f1                   [0.9167300194788263, 0.9257891961421332]\n",
       "mean_test_roc_auc              [0.9715861399920467, 0.9783801200996969]\n",
       "param_log__penalty                                             [l1, l2]\n",
       "param_log__solver                                [liblinear, liblinear]\n",
       "params                [{'log__penalty': 'l1', 'log__solver': 'liblin...\n",
       "rank_test_accuracy                                               [2, 1]\n",
       "rank_test_f1                                                     [2, 1]\n",
       "rank_test_roc_auc                                                [2, 1]\n",
       "split0_test_accuracy           [0.9157720891824938, 0.9273327828241124]\n",
       "split0_test_f1                 [0.9164961113385182, 0.9275720164609054]\n",
       "split0_test_roc_auc            [0.9727287093430189, 0.9781589308938079]\n",
       "split1_test_accuracy           [0.9207266721717589, 0.9281585466556564]\n",
       "split1_test_f1                   [0.9210526315789473, 0.92833607907743]\n",
       "split1_test_roc_auc            [0.9730909975506508, 0.9808569585519928]\n",
       "split2_test_accuracy             [0.912262592898431, 0.921345995045417]\n",
       "split2_test_f1                 [0.9126413155190134, 0.9214594928880643]\n",
       "split2_test_roc_auc            [0.9689387130824706, 0.9761244708532899]\n",
       "std_fit_time                   [0.9622690499972235, 1.1088449145606545]\n",
       "std_score_time              [0.10933882743902294, 0.055717297530405815]\n",
       "std_test_accuracy         [0.003472192626353662, 0.0030356103771143274]\n",
       "std_test_f1              [0.0034378863883305294, 0.0030774118586580656]\n",
       "std_test_roc_auc         [0.0018778471924890071, 0.0019383504074676494]"
      ]
     },
     "execution_count": 73,
     "metadata": {},
     "output_type": "execute_result"
    }
   ],
   "source": [
    "result"
   ]
  },
  {
   "cell_type": "code",
   "execution_count": null,
   "metadata": {},
   "outputs": [],
   "source": []
  }
 ],
 "metadata": {
  "kernelspec": {
   "display_name": "Python 3",
   "language": "python",
   "name": "python3"
  },
  "language_info": {
   "codemirror_mode": {
    "name": "ipython",
    "version": 3
   },
   "file_extension": ".py",
   "mimetype": "text/x-python",
   "name": "python",
   "nbconvert_exporter": "python",
   "pygments_lexer": "ipython3",
   "version": "3.8.8"
  },
  "vscode": {
   "interpreter": {
    "hash": "c0d3f0ed3089cd13411b5a2ebe388e4aa58e262e30ca5148dcd7bf493791b26c"
   }
  }
 },
 "nbformat": 4,
 "nbformat_minor": 4
}
