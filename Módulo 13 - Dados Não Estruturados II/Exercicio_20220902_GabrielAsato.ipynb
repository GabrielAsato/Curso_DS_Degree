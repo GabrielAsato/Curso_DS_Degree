{
 "cells": [
  {
   "cell_type": "markdown",
   "id": "0e216094-e8fc-4a05-9054-d474e85cc6f0",
   "metadata": {},
   "source": [
    "## Aula 6 - Case : Fake News\n",
    "\n",
    "https://www.kaggle.com/competitions/fake-news/data"
   ]
  },
  {
   "cell_type": "markdown",
   "id": "add67647-3603-4801-a1a0-d0e2cd85a07e",
   "metadata": {},
   "source": [
    "##### Faça um modelo de ML com todos os atributos aprendidos\n",
    "##### Preprocessamento de texto, dataviz (nuvem de palavras ou frequência de palavras - gráfico tipo '1/x') e modelo"
   ]
  },
  {
   "cell_type": "code",
   "execution_count": 21,
   "id": "e8f48960-4b26-4fdc-a860-1eeb42db1391",
   "metadata": {},
   "outputs": [],
   "source": [
    "import pandas as pd\n",
    "import numpy as np"
   ]
  },
  {
   "cell_type": "markdown",
   "id": "c91f4924-91ca-4dfc-becf-b1db34ff6137",
   "metadata": {},
   "source": [
    "Labels\n",
    "\n",
    "- 1 : Unreliable\n",
    "- 0 : Reliable"
   ]
  },
  {
   "cell_type": "code",
   "execution_count": 73,
   "id": "f34584da-b21a-4fb8-8512-81ba765b53cd",
   "metadata": {},
   "outputs": [
    {
     "data": {
      "text/html": [
       "<div>\n",
       "<style scoped>\n",
       "    .dataframe tbody tr th:only-of-type {\n",
       "        vertical-align: middle;\n",
       "    }\n",
       "\n",
       "    .dataframe tbody tr th {\n",
       "        vertical-align: top;\n",
       "    }\n",
       "\n",
       "    .dataframe thead th {\n",
       "        text-align: right;\n",
       "    }\n",
       "</style>\n",
       "<table border=\"1\" class=\"dataframe\">\n",
       "  <thead>\n",
       "    <tr style=\"text-align: right;\">\n",
       "      <th></th>\n",
       "      <th>title</th>\n",
       "      <th>author</th>\n",
       "      <th>text</th>\n",
       "      <th>label</th>\n",
       "    </tr>\n",
       "    <tr>\n",
       "      <th>id</th>\n",
       "      <th></th>\n",
       "      <th></th>\n",
       "      <th></th>\n",
       "      <th></th>\n",
       "    </tr>\n",
       "  </thead>\n",
       "  <tbody>\n",
       "    <tr>\n",
       "      <th>0</th>\n",
       "      <td>House Dem Aide: We Didn’t Even See Comey’s Let...</td>\n",
       "      <td>Darrell Lucus</td>\n",
       "      <td>House Dem Aide: We Didn’t Even See Comey’s Let...</td>\n",
       "      <td>1</td>\n",
       "    </tr>\n",
       "    <tr>\n",
       "      <th>1</th>\n",
       "      <td>FLYNN: Hillary Clinton, Big Woman on Campus - ...</td>\n",
       "      <td>Daniel J. Flynn</td>\n",
       "      <td>Ever get the feeling your life circles the rou...</td>\n",
       "      <td>0</td>\n",
       "    </tr>\n",
       "    <tr>\n",
       "      <th>2</th>\n",
       "      <td>Why the Truth Might Get You Fired</td>\n",
       "      <td>Consortiumnews.com</td>\n",
       "      <td>Why the Truth Might Get You Fired October 29, ...</td>\n",
       "      <td>1</td>\n",
       "    </tr>\n",
       "    <tr>\n",
       "      <th>3</th>\n",
       "      <td>15 Civilians Killed In Single US Airstrike Hav...</td>\n",
       "      <td>Jessica Purkiss</td>\n",
       "      <td>Videos 15 Civilians Killed In Single US Airstr...</td>\n",
       "      <td>1</td>\n",
       "    </tr>\n",
       "    <tr>\n",
       "      <th>4</th>\n",
       "      <td>Iranian woman jailed for fictional unpublished...</td>\n",
       "      <td>Howard Portnoy</td>\n",
       "      <td>Print \\nAn Iranian woman has been sentenced to...</td>\n",
       "      <td>1</td>\n",
       "    </tr>\n",
       "  </tbody>\n",
       "</table>\n",
       "</div>"
      ],
      "text/plain": [
       "                                                title              author  \\\n",
       "id                                                                          \n",
       "0   House Dem Aide: We Didn’t Even See Comey’s Let...       Darrell Lucus   \n",
       "1   FLYNN: Hillary Clinton, Big Woman on Campus - ...     Daniel J. Flynn   \n",
       "2                   Why the Truth Might Get You Fired  Consortiumnews.com   \n",
       "3   15 Civilians Killed In Single US Airstrike Hav...     Jessica Purkiss   \n",
       "4   Iranian woman jailed for fictional unpublished...      Howard Portnoy   \n",
       "\n",
       "                                                 text  label  \n",
       "id                                                            \n",
       "0   House Dem Aide: We Didn’t Even See Comey’s Let...      1  \n",
       "1   Ever get the feeling your life circles the rou...      0  \n",
       "2   Why the Truth Might Get You Fired October 29, ...      1  \n",
       "3   Videos 15 Civilians Killed In Single US Airstr...      1  \n",
       "4   Print \\nAn Iranian woman has been sentenced to...      1  "
      ]
     },
     "execution_count": 73,
     "metadata": {},
     "output_type": "execute_result"
    }
   ],
   "source": [
    "fk_train = pd.read_csv(\"../../fakenews/train.csv\", index_col = \"id\")\n",
    "fk_train.head()"
   ]
  },
  {
   "cell_type": "markdown",
   "id": "a6a80789-d588-481c-9240-e5fc570208a4",
   "metadata": {},
   "source": [
    "#### Análise preliminar dos dados"
   ]
  },
  {
   "cell_type": "code",
   "execution_count": 74,
   "id": "345a71e4-b678-44e5-856f-b2436fbf1aa9",
   "metadata": {
    "collapsed": true,
    "jupyter": {
     "outputs_hidden": true
    },
    "tags": []
   },
   "outputs": [
    {
     "data": {
      "text/plain": [
       "'House Dem Aide: We Didn’t Even See Comey’s Letter Until Jason Chaffetz Tweeted It By Darrell Lucus on October 30, 2016 Subscribe Jason Chaffetz on the stump in American Fork, Utah ( image courtesy Michael Jolley, available under a Creative Commons-BY license) \\nWith apologies to Keith Olbermann, there is no doubt who the Worst Person in The World is this week–FBI Director James Comey. But according to a House Democratic aide, it looks like we also know who the second-worst person is as well. It turns out that when Comey sent his now-infamous letter announcing that the FBI was looking into emails that may be related to Hillary Clinton’s email server, the ranking Democrats on the relevant committees didn’t hear about it from Comey. They found out via a tweet from one of the Republican committee chairmen. \\nAs we now know, Comey notified the Republican chairmen and Democratic ranking members of the House Intelligence, Judiciary, and Oversight committees that his agency was reviewing emails it had recently discovered in order to see if they contained classified information. Not long after this letter went out, Oversight Committee Chairman Jason Chaffetz set the political world ablaze with this tweet. FBI Dir just informed me, \"The FBI has learned of the existence of emails that appear to be pertinent to the investigation.\" Case reopened \\n— Jason Chaffetz (@jasoninthehouse) October 28, 2016 \\nOf course, we now know that this was not the case . Comey was actually saying that it was reviewing the emails in light of “an unrelated case”–which we now know to be Anthony Weiner’s sexting with a teenager. But apparently such little things as facts didn’t matter to Chaffetz. The Utah Republican had already vowed to initiate a raft of investigations if Hillary wins–at least two years’ worth, and possibly an entire term’s worth of them. Apparently Chaffetz thought the FBI was already doing his work for him–resulting in a tweet that briefly roiled the nation before cooler heads realized it was a dud. \\nBut according to a senior House Democratic aide, misreading that letter may have been the least of Chaffetz’ sins. That aide told Shareblue that his boss and other Democrats didn’t even know about Comey’s letter at the time–and only found out when they checked Twitter. “Democratic Ranking Members on the relevant committees didn’t receive Comey’s letter until after the Republican Chairmen. In fact, the Democratic Ranking Members didn’ receive it until after the Chairman of the Oversight and Government Reform Committee, Jason Chaffetz, tweeted it out and made it public.” \\nSo let’s see if we’ve got this right. The FBI director tells Chaffetz and other GOP committee chairmen about a major development in a potentially politically explosive investigation, and neither Chaffetz nor his other colleagues had the courtesy to let their Democratic counterparts know about it. Instead, according to this aide, he made them find out about it on Twitter. \\nThere has already been talk on Daily Kos that Comey himself provided advance notice of this letter to Chaffetz and other Republicans, giving them time to turn on the spin machine. That may make for good theater, but there is nothing so far that even suggests this is the case. After all, there is nothing so far that suggests that Comey was anything other than grossly incompetent and tone-deaf. \\nWhat it does suggest, however, is that Chaffetz is acting in a way that makes Dan Burton and Darrell Issa look like models of responsibility and bipartisanship. He didn’t even have the decency to notify ranking member Elijah Cummings about something this explosive. If that doesn’t trample on basic standards of fairness, I don’t know what does. \\nGranted, it’s not likely that Chaffetz will have to answer for this. He sits in a ridiculously Republican district anchored in Provo and Orem; it has a Cook Partisan Voting Index of R+25, and gave Mitt Romney a punishing 78 percent of the vote in 2012. Moreover, the Republican House leadership has given its full support to Chaffetz’ planned fishing expedition. But that doesn’t mean we can’t turn the hot lights on him. After all, he is a textbook example of what the House has become under Republican control. And he is also the Second Worst Person in the World. About Darrell Lucus \\nDarrell is a 30-something graduate of the University of North Carolina who considers himself a journalist of the old school. An attempt to turn him into a member of the religious right in college only succeeded in turning him into the religious right\\'s worst nightmare--a charismatic Christian who is an unapologetic liberal. His desire to stand up for those who have been scared into silence only increased when he survived an abusive three-year marriage. You may know him on Daily Kos as Christian Dem in NC . Follow him on Twitter @DarrellLucus or connect with him on Facebook . Click here to buy Darrell a Mello Yello. Connect'"
      ]
     },
     "execution_count": 74,
     "metadata": {},
     "output_type": "execute_result"
    }
   ],
   "source": [
    "# Exemplo de texto\n",
    "fk_train.iloc[0][2]"
   ]
  },
  {
   "cell_type": "code",
   "execution_count": 75,
   "id": "1ad77341-0f7c-4efc-97d4-47b009970269",
   "metadata": {},
   "outputs": [
    {
     "data": {
      "text/plain": [
       "(20800, 4)"
      ]
     },
     "execution_count": 75,
     "metadata": {},
     "output_type": "execute_result"
    }
   ],
   "source": [
    "fk_train.shape"
   ]
  },
  {
   "cell_type": "code",
   "execution_count": 76,
   "id": "4591cd4c-4e61-4ad1-8787-e0144c7ea0b7",
   "metadata": {},
   "outputs": [
    {
     "data": {
      "text/plain": [
       "1    0.500625\n",
       "0    0.499375\n",
       "Name: label, dtype: float64"
      ]
     },
     "execution_count": 76,
     "metadata": {},
     "output_type": "execute_result"
    }
   ],
   "source": [
    "# Balanceado\n",
    "fk_train[\"label\"].value_counts(normalize = True)"
   ]
  },
  {
   "cell_type": "code",
   "execution_count": 78,
   "id": "1f98c8f6-26e9-477d-97b0-83507a0132f3",
   "metadata": {},
   "outputs": [
    {
     "data": {
      "text/plain": [
       "title      558\n",
       "author    1957\n",
       "text        39\n",
       "label        0\n",
       "dtype: int64"
      ]
     },
     "execution_count": 78,
     "metadata": {},
     "output_type": "execute_result"
    }
   ],
   "source": [
    "# Analisar quais colunas são NaNs\n",
    "fk_train.isnull().sum()"
   ]
  },
  {
   "cell_type": "code",
   "execution_count": 79,
   "id": "c3b76cee-e4ca-4c23-bd10-b53c8f51b3eb",
   "metadata": {},
   "outputs": [
    {
     "data": {
      "text/plain": [
       "1    0.986714\n",
       "0    0.013286\n",
       "Name: label, dtype: float64"
      ]
     },
     "execution_count": 79,
     "metadata": {},
     "output_type": "execute_result"
    }
   ],
   "source": [
    "# Ter autores anônimos significa cerca de 98.67% de ser fake news - nesse caso, podemos substituir o NaN por 'Anonymous' para incluir no modelo\n",
    "fk_train[fk_train[\"author\"].isna()][\"label\"].value_counts(normalize = True)"
   ]
  },
  {
   "cell_type": "code",
   "execution_count": 80,
   "id": "44cfaf22-3453-4faa-8c85-17728e2210fc",
   "metadata": {},
   "outputs": [
    {
     "data": {
      "text/plain": [
       "1    1.0\n",
       "Name: label, dtype: float64"
      ]
     },
     "execution_count": 80,
     "metadata": {},
     "output_type": "execute_result"
    }
   ],
   "source": [
    "# Podemos dropar as observações com a coluna 'text' vazia, já que não tem texto para analisar e é 100% fake news\n",
    "fk_train[fk_train[\"text\"].isna()][\"label\"].value_counts(normalize = True)"
   ]
  },
  {
   "cell_type": "code",
   "execution_count": 81,
   "id": "3d6d6f2d-175a-46f1-8c80-c55cc6b72442",
   "metadata": {},
   "outputs": [
    {
     "data": {
      "text/plain": [
       "1    1.0\n",
       "Name: label, dtype: float64"
      ]
     },
     "execution_count": 81,
     "metadata": {},
     "output_type": "execute_result"
    }
   ],
   "source": [
    "# Podemos dropar as observações com a coluna 'title' vazia, já que não tem texto para analisar e é 100% fake news\n",
    "fk_train[fk_train[\"title\"].isna()][\"label\"].value_counts(normalize = True)"
   ]
  },
  {
   "cell_type": "code",
   "execution_count": 82,
   "id": "ff0f55dc-33d9-46a4-a9c6-a6b488dfb670",
   "metadata": {},
   "outputs": [],
   "source": [
    "# Substituindo valores vazios por 'anonymous' e dropando os outros NaNs\n",
    "fk_train[\"author\"].fillna(\"anonymous\", inplace = True)\n",
    "fk_train.dropna(inplace = True)"
   ]
  },
  {
   "cell_type": "code",
   "execution_count": 83,
   "id": "690e35aa-3a9b-43e0-acca-81352a8cb3fa",
   "metadata": {},
   "outputs": [
    {
     "data": {
      "text/plain": [
       "title     0\n",
       "author    0\n",
       "text      0\n",
       "label     0\n",
       "dtype: int64"
      ]
     },
     "execution_count": 83,
     "metadata": {},
     "output_type": "execute_result"
    }
   ],
   "source": [
    "# Sem NaNs\n",
    "fk_train.isnull().sum()"
   ]
  },
  {
   "cell_type": "markdown",
   "id": "188811d1-e680-4255-9e47-615ae3c84f1e",
   "metadata": {},
   "source": [
    "#### Pré-processamento"
   ]
  },
  {
   "cell_type": "code",
   "execution_count": 84,
   "id": "53904add-53b7-436f-a85f-941573eba51f",
   "metadata": {},
   "outputs": [
    {
     "name": "stderr",
     "output_type": "stream",
     "text": [
      "[nltk_data] Downloading package stopwords to\n",
      "[nltk_data]     C:\\Users\\gabri\\AppData\\Roaming\\nltk_data...\n",
      "[nltk_data]   Package stopwords is already up-to-date!\n",
      "[nltk_data] Downloading package punkt to\n",
      "[nltk_data]     C:\\Users\\gabri\\AppData\\Roaming\\nltk_data...\n",
      "[nltk_data]   Package punkt is already up-to-date!\n"
     ]
    }
   ],
   "source": [
    "# Preprocessamento\n",
    "\n",
    "# Bibliotecas\n",
    "from nltk.tokenize import word_tokenize  # tokenização\n",
    "from nltk.stem import *  # importar PorterStemmer() e WordNetLemmatizer()\n",
    "from nltk.corpus import stopwords  # Stopwords\n",
    "import nltk  # para baixar os 'stopwords' e 'punkt' (punctuation)\n",
    "import re  # regex\n",
    "\n",
    "nltk.download('stopwords')\n",
    "nltk.download('punkt')\n",
    "# Define as stopwords em inglês\n",
    "sw_english = set(stopwords.words('english'))\n",
    "\n",
    "# Instancia o PorterStemmer e WordNetLemmatizer\n",
    "stemmer = PorterStemmer()\n",
    "lemmatizer = WordNetLemmatizer()\n",
    "\n",
    "# Função de preprocessamento - \n",
    "def preprocessing(string, method = 'stem'):\n",
    "    \"\"\"\n",
    "    Preprocessing for english'\n",
    "    \"\"\"\n",
    "    # Manter somente caracteres e números - sem caracteres especiais\n",
    "    string = re.sub(r\"[^a-zA-Z0-9]+\", \" \", string)\n",
    "    # Letras minúsculas\n",
    "    string = string.lower()\n",
    "    # tokenização\n",
    "    words = word_tokenize(string)\n",
    "    \n",
    "    filter_words = [word for word in words if word not in sw_english]\n",
    "    words = []\n",
    "    \n",
    "    if method == 'stem':\n",
    "        for word in filter_words:\n",
    "            sw = stemmer.stem(word)\n",
    "            words.append(sw)\n",
    "        return words\n",
    "    if method == 'lemma':\n",
    "        for word in filter_words:\n",
    "            sw = lemmatizer.lemmatize(word)\n",
    "            words.append(sw)\n",
    "        return words"
   ]
  },
  {
   "cell_type": "code",
   "execution_count": 86,
   "id": "cc440ba5-9748-438c-a7f0-f12ccf6d0585",
   "metadata": {},
   "outputs": [],
   "source": [
    "# Testando somente com os títulos\n",
    "fk_train['filtered_titles'] = fk_train[\"title\"].apply(lambda x: preprocessing(x, \"lemma\"))\n",
    "fk_train['join_words'] = fk_train['filtered_titles'].apply(lambda x: ' '.join(x))"
   ]
  },
  {
   "cell_type": "code",
   "execution_count": 87,
   "id": "96f33570-dd66-4d71-85ab-9090bd3860b3",
   "metadata": {},
   "outputs": [
    {
     "data": {
      "text/html": [
       "<div>\n",
       "<style scoped>\n",
       "    .dataframe tbody tr th:only-of-type {\n",
       "        vertical-align: middle;\n",
       "    }\n",
       "\n",
       "    .dataframe tbody tr th {\n",
       "        vertical-align: top;\n",
       "    }\n",
       "\n",
       "    .dataframe thead th {\n",
       "        text-align: right;\n",
       "    }\n",
       "</style>\n",
       "<table border=\"1\" class=\"dataframe\">\n",
       "  <thead>\n",
       "    <tr style=\"text-align: right;\">\n",
       "      <th></th>\n",
       "      <th>title</th>\n",
       "      <th>author</th>\n",
       "      <th>text</th>\n",
       "      <th>label</th>\n",
       "      <th>filtered_titles</th>\n",
       "      <th>join_words</th>\n",
       "    </tr>\n",
       "    <tr>\n",
       "      <th>id</th>\n",
       "      <th></th>\n",
       "      <th></th>\n",
       "      <th></th>\n",
       "      <th></th>\n",
       "      <th></th>\n",
       "      <th></th>\n",
       "    </tr>\n",
       "  </thead>\n",
       "  <tbody>\n",
       "    <tr>\n",
       "      <th>0</th>\n",
       "      <td>House Dem Aide: We Didn’t Even See Comey’s Let...</td>\n",
       "      <td>Darrell Lucus</td>\n",
       "      <td>House Dem Aide: We Didn’t Even See Comey’s Let...</td>\n",
       "      <td>1</td>\n",
       "      <td>[house, dem, aide, even, see, comey, letter, j...</td>\n",
       "      <td>house dem aide even see comey letter jason cha...</td>\n",
       "    </tr>\n",
       "    <tr>\n",
       "      <th>1</th>\n",
       "      <td>FLYNN: Hillary Clinton, Big Woman on Campus - ...</td>\n",
       "      <td>Daniel J. Flynn</td>\n",
       "      <td>Ever get the feeling your life circles the rou...</td>\n",
       "      <td>0</td>\n",
       "      <td>[flynn, hillary, clinton, big, woman, campus, ...</td>\n",
       "      <td>flynn hillary clinton big woman campus breitbart</td>\n",
       "    </tr>\n",
       "    <tr>\n",
       "      <th>2</th>\n",
       "      <td>Why the Truth Might Get You Fired</td>\n",
       "      <td>Consortiumnews.com</td>\n",
       "      <td>Why the Truth Might Get You Fired October 29, ...</td>\n",
       "      <td>1</td>\n",
       "      <td>[truth, might, get, fired]</td>\n",
       "      <td>truth might get fired</td>\n",
       "    </tr>\n",
       "    <tr>\n",
       "      <th>3</th>\n",
       "      <td>15 Civilians Killed In Single US Airstrike Hav...</td>\n",
       "      <td>Jessica Purkiss</td>\n",
       "      <td>Videos 15 Civilians Killed In Single US Airstr...</td>\n",
       "      <td>1</td>\n",
       "      <td>[15, civilian, killed, single, u, airstrike, i...</td>\n",
       "      <td>15 civilian killed single u airstrike identified</td>\n",
       "    </tr>\n",
       "    <tr>\n",
       "      <th>4</th>\n",
       "      <td>Iranian woman jailed for fictional unpublished...</td>\n",
       "      <td>Howard Portnoy</td>\n",
       "      <td>Print \\nAn Iranian woman has been sentenced to...</td>\n",
       "      <td>1</td>\n",
       "      <td>[iranian, woman, jailed, fictional, unpublishe...</td>\n",
       "      <td>iranian woman jailed fictional unpublished sto...</td>\n",
       "    </tr>\n",
       "  </tbody>\n",
       "</table>\n",
       "</div>"
      ],
      "text/plain": [
       "                                                title              author  \\\n",
       "id                                                                          \n",
       "0   House Dem Aide: We Didn’t Even See Comey’s Let...       Darrell Lucus   \n",
       "1   FLYNN: Hillary Clinton, Big Woman on Campus - ...     Daniel J. Flynn   \n",
       "2                   Why the Truth Might Get You Fired  Consortiumnews.com   \n",
       "3   15 Civilians Killed In Single US Airstrike Hav...     Jessica Purkiss   \n",
       "4   Iranian woman jailed for fictional unpublished...      Howard Portnoy   \n",
       "\n",
       "                                                 text  label  \\\n",
       "id                                                             \n",
       "0   House Dem Aide: We Didn’t Even See Comey’s Let...      1   \n",
       "1   Ever get the feeling your life circles the rou...      0   \n",
       "2   Why the Truth Might Get You Fired October 29, ...      1   \n",
       "3   Videos 15 Civilians Killed In Single US Airstr...      1   \n",
       "4   Print \\nAn Iranian woman has been sentenced to...      1   \n",
       "\n",
       "                                      filtered_titles  \\\n",
       "id                                                      \n",
       "0   [house, dem, aide, even, see, comey, letter, j...   \n",
       "1   [flynn, hillary, clinton, big, woman, campus, ...   \n",
       "2                          [truth, might, get, fired]   \n",
       "3   [15, civilian, killed, single, u, airstrike, i...   \n",
       "4   [iranian, woman, jailed, fictional, unpublishe...   \n",
       "\n",
       "                                           join_words  \n",
       "id                                                     \n",
       "0   house dem aide even see comey letter jason cha...  \n",
       "1    flynn hillary clinton big woman campus breitbart  \n",
       "2                               truth might get fired  \n",
       "3    15 civilian killed single u airstrike identified  \n",
       "4   iranian woman jailed fictional unpublished sto...  "
      ]
     },
     "execution_count": 87,
     "metadata": {},
     "output_type": "execute_result"
    }
   ],
   "source": [
    "fk_train.head()"
   ]
  },
  {
   "cell_type": "markdown",
   "id": "0608e0b0-6041-4ddd-96a4-b69acee26e5b",
   "metadata": {},
   "source": [
    "#### Dataviz"
   ]
  },
  {
   "cell_type": "code",
   "execution_count": 63,
   "id": "747d052e-f773-4d21-91e7-0e4ac0726383",
   "metadata": {},
   "outputs": [
    {
     "name": "stderr",
     "output_type": "stream",
     "text": [
      "[nltk_data] Downloading package stopwords to\n",
      "[nltk_data]     C:\\Users\\gabri\\AppData\\Roaming\\nltk_data...\n",
      "[nltk_data]   Package stopwords is already up-to-date!\n"
     ]
    },
    {
     "data": {
      "text/plain": [
       "True"
      ]
     },
     "execution_count": 63,
     "metadata": {},
     "output_type": "execute_result"
    }
   ],
   "source": [
    "import matplotlib.pyplot as plt\n",
    "from nltk import word_tokenize\n",
    "from nltk.probability import FreqDist\n",
    "import nltk\n",
    "from nltk.corpus import stopwords\n",
    "\n",
    "stopwords_list = stopwords.words(\"english\")\n",
    "nltk.download(\"stopwords\")"
   ]
  },
  {
   "cell_type": "code",
   "execution_count": 119,
   "id": "e15bebaa-922f-410a-bc3f-89c91e3fedd0",
   "metadata": {},
   "outputs": [
    {
     "name": "stdout",
     "output_type": "stream",
     "text": [
      "['house', 'dem', 'aide', 'even', 'see', 'comey', 'letter', 'jason', 'chaffetz', 'tweeted']\n",
      "['flynn', 'hillary', 'clinton', 'big', 'woman', 'campus', 'breitbart']\n",
      "['house', 'dem', 'aide', 'even', 'see', 'comey', 'letter', 'jason', 'chaffetz', 'tweeted', 'flynn', 'hillary', 'clinton', 'big', 'woman', 'campus', 'breitbart']\n"
     ]
    }
   ],
   "source": [
    "# Concatenar\n",
    "a = fk_train.iloc[0][\"join_words\"].split()\n",
    "b = fk_train.iloc[1][\"join_words\"].split()\n",
    "\n",
    "print(a)\n",
    "print(b)\n",
    "c = a+b\n",
    "print(c)"
   ]
  },
  {
   "cell_type": "code",
   "execution_count": 120,
   "id": "269cf86e-1615-4907-8513-254a507fc8c4",
   "metadata": {},
   "outputs": [
    {
     "data": {
      "text/plain": [
       "[('house', 1),\n",
       " ('dem', 1),\n",
       " ('aide', 1),\n",
       " ('even', 1),\n",
       " ('see', 1),\n",
       " ('comey', 1),\n",
       " ('letter', 1),\n",
       " ('jason', 1),\n",
       " ('chaffetz', 1),\n",
       " ('tweeted', 1)]"
      ]
     },
     "execution_count": 120,
     "metadata": {},
     "output_type": "execute_result"
    }
   ],
   "source": [
    "fdist = FreqDist(c)\n",
    "fdist.most_common(10)"
   ]
  },
  {
   "cell_type": "code",
   "execution_count": 121,
   "id": "faebb24a-d5d5-44f2-ac55-e33acfdef9d1",
   "metadata": {},
   "outputs": [
    {
     "data": {
      "image/png": "[encoded data removed]",
      "text/plain": [
       "<Figure size 432x288 with 1 Axes>"
      ]
     },
     "metadata": {
      "needs_background": "light"
     },
     "output_type": "display_data"
    }
   ],
   "source": [
    "fdist = FreqDist(c)\n",
    "fdist.plot(10)\n",
    "plt.show()"
   ]
  },
  {
   "cell_type": "code",
   "execution_count": null,
   "id": "da631dec-804a-47c1-870b-bdbb4a8b5e48",
   "metadata": {},
   "outputs": [],
   "source": [
    "# concatenar as palavras de 'join_words'"
   ]
  },
  {
   "cell_type": "markdown",
   "id": "89db6c38-2c6c-4d41-a1a7-7f0291768732",
   "metadata": {},
   "source": [
    "for i in range(fk_train.shape[0]):\n",
    "    fk_train.iloc[0][\"join_words\"].split()\n",
    "    words"
   ]
  },
  {
   "cell_type": "markdown",
   "id": "432d75ce-8676-414d-9ce5-ab517769faee",
   "metadata": {},
   "source": [
    "fk_train.iloc[0][\"join_words\"].split()"
   ]
  },
  {
   "cell_type": "markdown",
   "id": "61433ad5-fda3-477e-9662-35855747b036",
   "metadata": {},
   "source": [
    "words = []\n",
    "for i in range(fk_train.shape[0]):\n",
    "    for title in fk_train.iloc[i][\"join_words\"]:"
   ]
  },
  {
   "cell_type": "markdown",
   "id": "846a947e-8bf1-42d5-9a18-f1a1289dad23",
   "metadata": {},
   "source": [
    "## Modelos de ML"
   ]
  },
  {
   "cell_type": "code",
   "execution_count": 88,
   "id": "44e0340d-65f1-4818-9c77-803c908eecc8",
   "metadata": {},
   "outputs": [],
   "source": [
    "# train test split\n",
    "from sklearn.model_selection import train_test_split\n",
    "\n",
    "X = fk_train[\"join_words\"]\n",
    "y = fk_train[\"label\"]\n",
    "\n",
    "X_train, X_test, y_train, y_test = train_test_split(X,y)"
   ]
  },
  {
   "cell_type": "code",
   "execution_count": 91,
   "id": "60ca8c00-2bb4-44bc-869e-8c117c2f1c08",
   "metadata": {},
   "outputs": [],
   "source": [
    "# Bibliotecas e modelos\n",
    "from sklearn.feature_extraction.text import TfidfVectorizer\n",
    "from sklearn.pipeline import Pipeline\n",
    "\n",
    "# Usar os modelos abaixo\n",
    "from sklearn.linear_model import LogisticRegression\n",
    "from sklearn.svm import LinearSVC\n",
    "from sklearn.ensemble import RandomForestClassifier"
   ]
  },
  {
   "cell_type": "markdown",
   "id": "1de36b33-3aa8-4b7e-be31-c9b4792c36f2",
   "metadata": {},
   "source": [
    "#### Baseline com Logistic Regression"
   ]
  },
  {
   "cell_type": "code",
   "execution_count": 93,
   "id": "13fef488-ae9e-46e5-99be-b7f9139ccda2",
   "metadata": {},
   "outputs": [
    {
     "data": {
      "text/plain": [
       "Pipeline(steps=[('tfidf', TfidfVectorizer()), ('model', LogisticRegression())])"
      ]
     },
     "execution_count": 93,
     "metadata": {},
     "output_type": "execute_result"
    }
   ],
   "source": [
    "text_model_lr = Pipeline([\n",
    "    (\"tfidf\", TfidfVectorizer()),\n",
    "    (\"model\", LogisticRegression())\n",
    "])\n",
    "\n",
    "text_model_lr"
   ]
  },
  {
   "cell_type": "code",
   "execution_count": 94,
   "id": "6108f348-3a6e-4cd3-9337-2ace596681d6",
   "metadata": {},
   "outputs": [],
   "source": [
    "text_model_lr.fit(X_train, y_train)\n",
    "predictions = text_model_lr.predict(X_test)"
   ]
  },
  {
   "cell_type": "code",
   "execution_count": 99,
   "id": "e391c47d-7d93-4e2b-8dc0-1db5714ab53d",
   "metadata": {},
   "outputs": [
    {
     "name": "stdout",
     "output_type": "stream",
     "text": [
      "[[2251  341]\n",
      " [  49 2410]]\n",
      "\n",
      "              precision    recall  f1-score   support\n",
      "\n",
      "           0       0.98      0.87      0.92      2592\n",
      "           1       0.88      0.98      0.93      2459\n",
      "\n",
      "    accuracy                           0.92      5051\n",
      "   macro avg       0.93      0.92      0.92      5051\n",
      "weighted avg       0.93      0.92      0.92      5051\n",
      "\n",
      "\n",
      "A acurácia é 0.9227875668184518\n"
     ]
    }
   ],
   "source": [
    "from sklearn.metrics import confusion_matrix, classification_report, accuracy_score, roc_curve, roc_auc_score\n",
    "\n",
    "print(confusion_matrix(y_test, predictions))\n",
    "print()\n",
    "print(classification_report(y_test, predictions))\n",
    "print()\n",
    "print(f\"A acurácia é {accuracy_score(y_test, predictions)}\")"
   ]
  },
  {
   "cell_type": "code",
   "execution_count": 101,
   "id": "be3b1da1-6ea2-4e3e-ae93-19fcecd7d7de",
   "metadata": {},
   "outputs": [],
   "source": [
    "# Predict proba para curva ROC\n",
    "y_prob_lr = text_model_lr.predict_proba(X_test)\n",
    "# Slice do predict proba\n",
    "y_prob_lr = y_prob_lr[:, 1]"
   ]
  },
  {
   "cell_type": "code",
   "execution_count": 103,
   "id": "f1f780f2-8601-4112-88eb-c0291881f959",
   "metadata": {},
   "outputs": [
    {
     "data": {
      "image/png": "[encoded data removed]",
      "text/plain": [
       "<Figure size 432x288 with 1 Axes>"
      ]
     },
     "metadata": {
      "needs_background": "light"
     },
     "output_type": "display_data"
    }
   ],
   "source": [
    "# ROC-AUC \n",
    "fp, tp, thresholds = roc_curve(y_test, y_prob_lr)\n",
    "plt.plot(fp, tp, color = 'red', label = 'ROC')\n",
    "plt.plot([0,1], [0,1], color='green', linestyle='--')\n",
    "plt.xlabel('False Positive Rate')\n",
    "plt.ylabel('True Positive Rate')\n",
    "plt.title('ROC CURVE')\n",
    "plt.legend()\n",
    "plt.show()"
   ]
  }
 ],
 "metadata": {
  "kernelspec": {
   "display_name": "Python 3",
   "language": "python",
   "name": "python3"
  },
  "language_info": {
   "codemirror_mode": {
    "name": "ipython",
    "version": 3
   },
   "file_extension": ".py",
   "mimetype": "text/x-python",
   "name": "python",
   "nbconvert_exporter": "python",
   "pygments_lexer": "ipython3",
   "version": "3.8.8"
  }
 },
 "nbformat": 4,
 "nbformat_minor": 5
}
