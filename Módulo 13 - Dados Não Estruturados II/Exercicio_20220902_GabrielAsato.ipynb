{
 "cells": [
  {
   "cell_type": "markdown",
   "id": "0e216094-e8fc-4a05-9054-d474e85cc6f0",
   "metadata": {},
   "source": [
    "## Aula 6 - Case : Fake News\n",
    "\n",
    "https://www.kaggle.com/competitions/fake-news/data"
   ]
  },
  {
   "cell_type": "markdown",
   "id": "add67647-3603-4801-a1a0-d0e2cd85a07e",
   "metadata": {},
   "source": [
    "##### Faça um modelo de ML com todos os atributos aprendidos\n",
    "##### Preprocessamento de texto, dataviz (nuvem de palavras ou frequência de palavras - gráfico tipo '1/x') e modelo"
   ]
  },
  {
   "cell_type": "code",
   "execution_count": 1,
   "id": "e8f48960-4b26-4fdc-a860-1eeb42db1391",
   "metadata": {},
   "outputs": [],
   "source": [
    "import pandas as pd\n",
    "import numpy as np"
   ]
  },
  {
   "cell_type": "markdown",
   "id": "c91f4924-91ca-4dfc-becf-b1db34ff6137",
   "metadata": {},
   "source": [
    "Labels\n",
    "\n",
    "- 1 : Unreliable\n",
    "- 0 : Reliable"
   ]
  },
  {
   "cell_type": "code",
   "execution_count": 31,
   "id": "f34584da-b21a-4fb8-8512-81ba765b53cd",
   "metadata": {},
   "outputs": [
    {
     "data": {
      "text/html": [
       "<div>\n",
       "<style scoped>\n",
       "    .dataframe tbody tr th:only-of-type {\n",
       "        vertical-align: middle;\n",
       "    }\n",
       "\n",
       "    .dataframe tbody tr th {\n",
       "        vertical-align: top;\n",
       "    }\n",
       "\n",
       "    .dataframe thead th {\n",
       "        text-align: right;\n",
       "    }\n",
       "</style>\n",
       "<table border=\"1\" class=\"dataframe\">\n",
       "  <thead>\n",
       "    <tr style=\"text-align: right;\">\n",
       "      <th></th>\n",
       "      <th>title</th>\n",
       "      <th>author</th>\n",
       "      <th>text</th>\n",
       "      <th>label</th>\n",
       "    </tr>\n",
       "    <tr>\n",
       "      <th>id</th>\n",
       "      <th></th>\n",
       "      <th></th>\n",
       "      <th></th>\n",
       "      <th></th>\n",
       "    </tr>\n",
       "  </thead>\n",
       "  <tbody>\n",
       "    <tr>\n",
       "      <th>0</th>\n",
       "      <td>House Dem Aide: We Didn’t Even See Comey’s Let...</td>\n",
       "      <td>Darrell Lucus</td>\n",
       "      <td>House Dem Aide: We Didn’t Even See Comey’s Let...</td>\n",
       "      <td>1</td>\n",
       "    </tr>\n",
       "    <tr>\n",
       "      <th>1</th>\n",
       "      <td>FLYNN: Hillary Clinton, Big Woman on Campus - ...</td>\n",
       "      <td>Daniel J. Flynn</td>\n",
       "      <td>Ever get the feeling your life circles the rou...</td>\n",
       "      <td>0</td>\n",
       "    </tr>\n",
       "    <tr>\n",
       "      <th>2</th>\n",
       "      <td>Why the Truth Might Get You Fired</td>\n",
       "      <td>Consortiumnews.com</td>\n",
       "      <td>Why the Truth Might Get You Fired October 29, ...</td>\n",
       "      <td>1</td>\n",
       "    </tr>\n",
       "    <tr>\n",
       "      <th>3</th>\n",
       "      <td>15 Civilians Killed In Single US Airstrike Hav...</td>\n",
       "      <td>Jessica Purkiss</td>\n",
       "      <td>Videos 15 Civilians Killed In Single US Airstr...</td>\n",
       "      <td>1</td>\n",
       "    </tr>\n",
       "    <tr>\n",
       "      <th>4</th>\n",
       "      <td>Iranian woman jailed for fictional unpublished...</td>\n",
       "      <td>Howard Portnoy</td>\n",
       "      <td>Print \\nAn Iranian woman has been sentenced to...</td>\n",
       "      <td>1</td>\n",
       "    </tr>\n",
       "  </tbody>\n",
       "</table>\n",
       "</div>"
      ],
      "text/plain": [
       "                                                title              author  \\\n",
       "id                                                                          \n",
       "0   House Dem Aide: We Didn’t Even See Comey’s Let...       Darrell Lucus   \n",
       "1   FLYNN: Hillary Clinton, Big Woman on Campus - ...     Daniel J. Flynn   \n",
       "2                   Why the Truth Might Get You Fired  Consortiumnews.com   \n",
       "3   15 Civilians Killed In Single US Airstrike Hav...     Jessica Purkiss   \n",
       "4   Iranian woman jailed for fictional unpublished...      Howard Portnoy   \n",
       "\n",
       "                                                 text  label  \n",
       "id                                                            \n",
       "0   House Dem Aide: We Didn’t Even See Comey’s Let...      1  \n",
       "1   Ever get the feeling your life circles the rou...      0  \n",
       "2   Why the Truth Might Get You Fired October 29, ...      1  \n",
       "3   Videos 15 Civilians Killed In Single US Airstr...      1  \n",
       "4   Print \\nAn Iranian woman has been sentenced to...      1  "
      ]
     },
     "execution_count": 31,
     "metadata": {},
     "output_type": "execute_result"
    }
   ],
   "source": [
    "fk_train = pd.read_csv(\"../../fakenews/train.csv\", index_col = \"id\")\n",
    "fk_train.head()"
   ]
  },
  {
   "cell_type": "markdown",
   "id": "a6a80789-d588-481c-9240-e5fc570208a4",
   "metadata": {},
   "source": [
    "#### Análise preliminar dos dados"
   ]
  },
  {
   "cell_type": "code",
   "execution_count": 32,
   "id": "345a71e4-b678-44e5-856f-b2436fbf1aa9",
   "metadata": {
    "collapsed": true,
    "jupyter": {
     "outputs_hidden": true
    },
    "tags": []
   },
   "outputs": [
    {
     "data": {
      "text/plain": [
       "'House Dem Aide: We Didn’t Even See Comey’s Letter Until Jason Chaffetz Tweeted It By Darrell Lucus on October 30, 2016 Subscribe Jason Chaffetz on the stump in American Fork, Utah ( image courtesy Michael Jolley, available under a Creative Commons-BY license) \\nWith apologies to Keith Olbermann, there is no doubt who the Worst Person in The World is this week–FBI Director James Comey. But according to a House Democratic aide, it looks like we also know who the second-worst person is as well. It turns out that when Comey sent his now-infamous letter announcing that the FBI was looking into emails that may be related to Hillary Clinton’s email server, the ranking Democrats on the relevant committees didn’t hear about it from Comey. They found out via a tweet from one of the Republican committee chairmen. \\nAs we now know, Comey notified the Republican chairmen and Democratic ranking members of the House Intelligence, Judiciary, and Oversight committees that his agency was reviewing emails it had recently discovered in order to see if they contained classified information. Not long after this letter went out, Oversight Committee Chairman Jason Chaffetz set the political world ablaze with this tweet. FBI Dir just informed me, \"The FBI has learned of the existence of emails that appear to be pertinent to the investigation.\" Case reopened \\n— Jason Chaffetz (@jasoninthehouse) October 28, 2016 \\nOf course, we now know that this was not the case . Comey was actually saying that it was reviewing the emails in light of “an unrelated case”–which we now know to be Anthony Weiner’s sexting with a teenager. But apparently such little things as facts didn’t matter to Chaffetz. The Utah Republican had already vowed to initiate a raft of investigations if Hillary wins–at least two years’ worth, and possibly an entire term’s worth of them. Apparently Chaffetz thought the FBI was already doing his work for him–resulting in a tweet that briefly roiled the nation before cooler heads realized it was a dud. \\nBut according to a senior House Democratic aide, misreading that letter may have been the least of Chaffetz’ sins. That aide told Shareblue that his boss and other Democrats didn’t even know about Comey’s letter at the time–and only found out when they checked Twitter. “Democratic Ranking Members on the relevant committees didn’t receive Comey’s letter until after the Republican Chairmen. In fact, the Democratic Ranking Members didn’ receive it until after the Chairman of the Oversight and Government Reform Committee, Jason Chaffetz, tweeted it out and made it public.” \\nSo let’s see if we’ve got this right. The FBI director tells Chaffetz and other GOP committee chairmen about a major development in a potentially politically explosive investigation, and neither Chaffetz nor his other colleagues had the courtesy to let their Democratic counterparts know about it. Instead, according to this aide, he made them find out about it on Twitter. \\nThere has already been talk on Daily Kos that Comey himself provided advance notice of this letter to Chaffetz and other Republicans, giving them time to turn on the spin machine. That may make for good theater, but there is nothing so far that even suggests this is the case. After all, there is nothing so far that suggests that Comey was anything other than grossly incompetent and tone-deaf. \\nWhat it does suggest, however, is that Chaffetz is acting in a way that makes Dan Burton and Darrell Issa look like models of responsibility and bipartisanship. He didn’t even have the decency to notify ranking member Elijah Cummings about something this explosive. If that doesn’t trample on basic standards of fairness, I don’t know what does. \\nGranted, it’s not likely that Chaffetz will have to answer for this. He sits in a ridiculously Republican district anchored in Provo and Orem; it has a Cook Partisan Voting Index of R+25, and gave Mitt Romney a punishing 78 percent of the vote in 2012. Moreover, the Republican House leadership has given its full support to Chaffetz’ planned fishing expedition. But that doesn’t mean we can’t turn the hot lights on him. After all, he is a textbook example of what the House has become under Republican control. And he is also the Second Worst Person in the World. About Darrell Lucus \\nDarrell is a 30-something graduate of the University of North Carolina who considers himself a journalist of the old school. An attempt to turn him into a member of the religious right in college only succeeded in turning him into the religious right\\'s worst nightmare--a charismatic Christian who is an unapologetic liberal. His desire to stand up for those who have been scared into silence only increased when he survived an abusive three-year marriage. You may know him on Daily Kos as Christian Dem in NC . Follow him on Twitter @DarrellLucus or connect with him on Facebook . Click here to buy Darrell a Mello Yello. Connect'"
      ]
     },
     "execution_count": 32,
     "metadata": {},
     "output_type": "execute_result"
    }
   ],
   "source": [
    "# Exemplo de texto\n",
    "fk_train.iloc[0][2]"
   ]
  },
  {
   "cell_type": "code",
   "execution_count": 33,
   "id": "1ad77341-0f7c-4efc-97d4-47b009970269",
   "metadata": {},
   "outputs": [
    {
     "data": {
      "text/plain": [
       "(20800, 4)"
      ]
     },
     "execution_count": 33,
     "metadata": {},
     "output_type": "execute_result"
    }
   ],
   "source": [
    "fk_train.shape"
   ]
  },
  {
   "cell_type": "code",
   "execution_count": 34,
   "id": "4591cd4c-4e61-4ad1-8787-e0144c7ea0b7",
   "metadata": {},
   "outputs": [
    {
     "data": {
      "text/plain": [
       "1    0.500625\n",
       "0    0.499375\n",
       "Name: label, dtype: float64"
      ]
     },
     "execution_count": 34,
     "metadata": {},
     "output_type": "execute_result"
    }
   ],
   "source": [
    "# Balanceado\n",
    "fk_train[\"label\"].value_counts(normalize = True)"
   ]
  },
  {
   "cell_type": "code",
   "execution_count": 35,
   "id": "1f98c8f6-26e9-477d-97b0-83507a0132f3",
   "metadata": {},
   "outputs": [
    {
     "data": {
      "text/plain": [
       "title      558\n",
       "author    1957\n",
       "text        39\n",
       "label        0\n",
       "dtype: int64"
      ]
     },
     "execution_count": 35,
     "metadata": {},
     "output_type": "execute_result"
    }
   ],
   "source": [
    "# Analisar quais colunas são NaNs\n",
    "fk_train.isnull().sum()"
   ]
  },
  {
   "cell_type": "code",
   "execution_count": 36,
   "id": "c3b76cee-e4ca-4c23-bd10-b53c8f51b3eb",
   "metadata": {},
   "outputs": [
    {
     "data": {
      "text/plain": [
       "1    0.986714\n",
       "0    0.013286\n",
       "Name: label, dtype: float64"
      ]
     },
     "execution_count": 36,
     "metadata": {},
     "output_type": "execute_result"
    }
   ],
   "source": [
    "# Ter autores anônimos significa cerca de 98.67% de ser fake news - nesse caso, podemos substituir o NaN por 'Anonymous' para incluir no modelo\n",
    "fk_train[fk_train[\"author\"].isna()][\"label\"].value_counts(normalize = True)"
   ]
  },
  {
   "cell_type": "code",
   "execution_count": 37,
   "id": "44cfaf22-3453-4faa-8c85-17728e2210fc",
   "metadata": {},
   "outputs": [
    {
     "data": {
      "text/plain": [
       "1    1.0\n",
       "Name: label, dtype: float64"
      ]
     },
     "execution_count": 37,
     "metadata": {},
     "output_type": "execute_result"
    }
   ],
   "source": [
    "# Podemos dropar as observações com a coluna 'text' vazia, já que não tem texto para analisar e é 100% fake news\n",
    "fk_train[fk_train[\"text\"].isna()][\"label\"].value_counts(normalize = True)"
   ]
  },
  {
   "cell_type": "code",
   "execution_count": 38,
   "id": "3d6d6f2d-175a-46f1-8c80-c55cc6b72442",
   "metadata": {},
   "outputs": [
    {
     "data": {
      "text/plain": [
       "1    1.0\n",
       "Name: label, dtype: float64"
      ]
     },
     "execution_count": 38,
     "metadata": {},
     "output_type": "execute_result"
    }
   ],
   "source": [
    "# Podemos dropar as observações com a coluna 'title' vazia, já que não tem texto para analisar e é 100% fake news\n",
    "fk_train[fk_train[\"title\"].isna()][\"label\"].value_counts(normalize = True)"
   ]
  },
  {
   "cell_type": "code",
   "execution_count": 39,
   "id": "ff0f55dc-33d9-46a4-a9c6-a6b488dfb670",
   "metadata": {},
   "outputs": [],
   "source": [
    "# Substituindo valores vazios por 'anonymous' e dropando os outros NaNs\n",
    "fk_train[\"author\"].fillna(\"anonymous\", inplace = True)\n",
    "fk_train.dropna(inplace = True)"
   ]
  },
  {
   "cell_type": "code",
   "execution_count": 40,
   "id": "690e35aa-3a9b-43e0-acca-81352a8cb3fa",
   "metadata": {},
   "outputs": [
    {
     "data": {
      "text/plain": [
       "title     0\n",
       "author    0\n",
       "text      0\n",
       "label     0\n",
       "dtype: int64"
      ]
     },
     "execution_count": 40,
     "metadata": {},
     "output_type": "execute_result"
    }
   ],
   "source": [
    "# Sem NaNs\n",
    "fk_train.isnull().sum()"
   ]
  },
  {
   "cell_type": "markdown",
   "id": "188811d1-e680-4255-9e47-615ae3c84f1e",
   "metadata": {},
   "source": [
    "#### Pré-processamento"
   ]
  },
  {
   "cell_type": "code",
   "execution_count": 41,
   "id": "53904add-53b7-436f-a85f-941573eba51f",
   "metadata": {},
   "outputs": [
    {
     "name": "stderr",
     "output_type": "stream",
     "text": [
      "[nltk_data] Downloading package stopwords to\n",
      "[nltk_data]     C:\\Users\\gabri\\AppData\\Roaming\\nltk_data...\n",
      "[nltk_data]   Package stopwords is already up-to-date!\n",
      "[nltk_data] Downloading package punkt to\n",
      "[nltk_data]     C:\\Users\\gabri\\AppData\\Roaming\\nltk_data...\n",
      "[nltk_data]   Package punkt is already up-to-date!\n"
     ]
    }
   ],
   "source": [
    "# Preprocessamento\n",
    "\n",
    "# Bibliotecas\n",
    "from nltk.tokenize import word_tokenize  # tokenização\n",
    "from nltk.stem import *  # importar PorterStemmer() e WordNetLemmatizer()\n",
    "from nltk.corpus import stopwords  # Stopwords\n",
    "import nltk  # para baixar os 'stopwords' e 'punkt' (punctuation)\n",
    "import re  # regex\n",
    "\n",
    "nltk.download('stopwords')\n",
    "nltk.download('punkt')\n",
    "# Define as stopwords em inglês\n",
    "sw_english = set(stopwords.words('english'))\n",
    "\n",
    "# Instancia o PorterStemmer e WordNetLemmatizer\n",
    "stemmer = PorterStemmer()\n",
    "lemmatizer = WordNetLemmatizer()\n",
    "\n",
    "# Função de preprocessamento\n",
    "def preprocessing(string, method = 'stem'):\n",
    "    \"\"\"\n",
    "    Preprocessing for english'\n",
    "    \"\"\"\n",
    "    # Manter somente caracteres e números - sem caracteres especiais\n",
    "    string = re.sub(r\"[^a-zA-Z0-9]+\", \" \", string)\n",
    "    # Letras minúsculas\n",
    "    string = string.lower()\n",
    "    # tokenização\n",
    "    words = word_tokenize(string)\n",
    "    \n",
    "    filter_words = [word for word in words if word not in sw_english]\n",
    "    words = []\n",
    "    \n",
    "    if method == 'stem':\n",
    "        for word in filter_words:\n",
    "            sw = stemmer.stem(word)\n",
    "            words.append(sw)\n",
    "        return words\n",
    "    if method == 'lemma':\n",
    "        for word in filter_words:\n",
    "            sw = lemmatizer.lemmatize(word)\n",
    "            words.append(sw)\n",
    "        return words"
   ]
  },
  {
   "cell_type": "code",
   "execution_count": 43,
   "id": "cc440ba5-9748-438c-a7f0-f12ccf6d0585",
   "metadata": {},
   "outputs": [],
   "source": [
    "# Testando somente com os títulos\n",
    "fk_train['filtered_text'] = fk_train[\"text\"].apply(lambda x: preprocessing(x, \"lemma\"))\n",
    "fk_train['join_words'] = fk_train['filtered_text'].apply(lambda x: ' '.join(x))"
   ]
  },
  {
   "cell_type": "code",
   "execution_count": 44,
   "id": "96f33570-dd66-4d71-85ab-9090bd3860b3",
   "metadata": {},
   "outputs": [
    {
     "data": {
      "text/html": [
       "<div>\n",
       "<style scoped>\n",
       "    .dataframe tbody tr th:only-of-type {\n",
       "        vertical-align: middle;\n",
       "    }\n",
       "\n",
       "    .dataframe tbody tr th {\n",
       "        vertical-align: top;\n",
       "    }\n",
       "\n",
       "    .dataframe thead th {\n",
       "        text-align: right;\n",
       "    }\n",
       "</style>\n",
       "<table border=\"1\" class=\"dataframe\">\n",
       "  <thead>\n",
       "    <tr style=\"text-align: right;\">\n",
       "      <th></th>\n",
       "      <th>title</th>\n",
       "      <th>author</th>\n",
       "      <th>text</th>\n",
       "      <th>label</th>\n",
       "      <th>filtered_text</th>\n",
       "      <th>join_words</th>\n",
       "    </tr>\n",
       "    <tr>\n",
       "      <th>id</th>\n",
       "      <th></th>\n",
       "      <th></th>\n",
       "      <th></th>\n",
       "      <th></th>\n",
       "      <th></th>\n",
       "      <th></th>\n",
       "    </tr>\n",
       "  </thead>\n",
       "  <tbody>\n",
       "    <tr>\n",
       "      <th>0</th>\n",
       "      <td>House Dem Aide: We Didn’t Even See Comey’s Let...</td>\n",
       "      <td>Darrell Lucus</td>\n",
       "      <td>House Dem Aide: We Didn’t Even See Comey’s Let...</td>\n",
       "      <td>1</td>\n",
       "      <td>[house, dem, aide, even, see, comey, letter, j...</td>\n",
       "      <td>house dem aide even see comey letter jason cha...</td>\n",
       "    </tr>\n",
       "    <tr>\n",
       "      <th>1</th>\n",
       "      <td>FLYNN: Hillary Clinton, Big Woman on Campus - ...</td>\n",
       "      <td>Daniel J. Flynn</td>\n",
       "      <td>Ever get the feeling your life circles the rou...</td>\n",
       "      <td>0</td>\n",
       "      <td>[ever, get, feeling, life, circle, roundabout,...</td>\n",
       "      <td>ever get feeling life circle roundabout rather...</td>\n",
       "    </tr>\n",
       "    <tr>\n",
       "      <th>2</th>\n",
       "      <td>Why the Truth Might Get You Fired</td>\n",
       "      <td>Consortiumnews.com</td>\n",
       "      <td>Why the Truth Might Get You Fired October 29, ...</td>\n",
       "      <td>1</td>\n",
       "      <td>[truth, might, get, fired, october, 29, 2016, ...</td>\n",
       "      <td>truth might get fired october 29 2016 tension ...</td>\n",
       "    </tr>\n",
       "    <tr>\n",
       "      <th>3</th>\n",
       "      <td>15 Civilians Killed In Single US Airstrike Hav...</td>\n",
       "      <td>Jessica Purkiss</td>\n",
       "      <td>Videos 15 Civilians Killed In Single US Airstr...</td>\n",
       "      <td>1</td>\n",
       "      <td>[video, 15, civilian, killed, single, u, airst...</td>\n",
       "      <td>video 15 civilian killed single u airstrike id...</td>\n",
       "    </tr>\n",
       "    <tr>\n",
       "      <th>4</th>\n",
       "      <td>Iranian woman jailed for fictional unpublished...</td>\n",
       "      <td>Howard Portnoy</td>\n",
       "      <td>Print \\nAn Iranian woman has been sentenced to...</td>\n",
       "      <td>1</td>\n",
       "      <td>[print, iranian, woman, sentenced, six, year, ...</td>\n",
       "      <td>print iranian woman sentenced six year prison ...</td>\n",
       "    </tr>\n",
       "  </tbody>\n",
       "</table>\n",
       "</div>"
      ],
      "text/plain": [
       "                                                title              author  \\\n",
       "id                                                                          \n",
       "0   House Dem Aide: We Didn’t Even See Comey’s Let...       Darrell Lucus   \n",
       "1   FLYNN: Hillary Clinton, Big Woman on Campus - ...     Daniel J. Flynn   \n",
       "2                   Why the Truth Might Get You Fired  Consortiumnews.com   \n",
       "3   15 Civilians Killed In Single US Airstrike Hav...     Jessica Purkiss   \n",
       "4   Iranian woman jailed for fictional unpublished...      Howard Portnoy   \n",
       "\n",
       "                                                 text  label  \\\n",
       "id                                                             \n",
       "0   House Dem Aide: We Didn’t Even See Comey’s Let...      1   \n",
       "1   Ever get the feeling your life circles the rou...      0   \n",
       "2   Why the Truth Might Get You Fired October 29, ...      1   \n",
       "3   Videos 15 Civilians Killed In Single US Airstr...      1   \n",
       "4   Print \\nAn Iranian woman has been sentenced to...      1   \n",
       "\n",
       "                                        filtered_text  \\\n",
       "id                                                      \n",
       "0   [house, dem, aide, even, see, comey, letter, j...   \n",
       "1   [ever, get, feeling, life, circle, roundabout,...   \n",
       "2   [truth, might, get, fired, october, 29, 2016, ...   \n",
       "3   [video, 15, civilian, killed, single, u, airst...   \n",
       "4   [print, iranian, woman, sentenced, six, year, ...   \n",
       "\n",
       "                                           join_words  \n",
       "id                                                     \n",
       "0   house dem aide even see comey letter jason cha...  \n",
       "1   ever get feeling life circle roundabout rather...  \n",
       "2   truth might get fired october 29 2016 tension ...  \n",
       "3   video 15 civilian killed single u airstrike id...  \n",
       "4   print iranian woman sentenced six year prison ...  "
      ]
     },
     "execution_count": 44,
     "metadata": {},
     "output_type": "execute_result"
    }
   ],
   "source": [
    "fk_train.head()"
   ]
  },
  {
   "cell_type": "markdown",
   "id": "0608e0b0-6041-4ddd-96a4-b69acee26e5b",
   "metadata": {},
   "source": [
    "#### Dataviz"
   ]
  },
  {
   "cell_type": "code",
   "execution_count": 45,
   "id": "747d052e-f773-4d21-91e7-0e4ac0726383",
   "metadata": {},
   "outputs": [],
   "source": [
    "import matplotlib.pyplot as plt\n",
    "from nltk.probability import FreqDist"
   ]
  },
  {
   "cell_type": "code",
   "execution_count": 46,
   "id": "a4c4044e-e701-4ecf-aa79-b3949fccb0a9",
   "metadata": {},
   "outputs": [],
   "source": [
    "# Separar as observações com títulos fake (1)\n",
    "words_viz_fake = fk_train[fk_train[\"label\"] == 1]\n",
    "# Separar as observações com títulos confiáveis (0)\n",
    "words_viz_true = fk_train[fk_train[\"label\"] == 0]"
   ]
  },
  {
   "cell_type": "markdown",
   "id": "6ddcd571-abfb-4e71-a497-ef53f26fc7b0",
   "metadata": {},
   "source": [
    "#### Palavras masis frequentes nos títulos de fake news"
   ]
  },
  {
   "cell_type": "code",
   "execution_count": 47,
   "id": "c3c7b788-0461-4909-9465-d2350243d532",
   "metadata": {},
   "outputs": [],
   "source": [
    "words_viz_1 = []\n",
    "for i in range(len(words_viz_fake[\"filtered_text\"])):\n",
    "    words_viz_1 += words_viz_fake.iloc[i][\"filtered_text\"]    "
   ]
  },
  {
   "cell_type": "code",
   "execution_count": 48,
   "id": "4a0ddb78-e262-4d1a-9d2e-5b7bbafd06b3",
   "metadata": {
    "tags": []
   },
   "outputs": [
    {
     "data": {
      "text/plain": [
       "3774269"
      ]
     },
     "execution_count": 48,
     "metadata": {},
     "output_type": "execute_result"
    }
   ],
   "source": [
    "len(words_viz_1)"
   ]
  },
  {
   "cell_type": "code",
   "execution_count": 49,
   "id": "269cf86e-1615-4907-8513-254a507fc8c4",
   "metadata": {},
   "outputs": [
    {
     "data": {
      "text/plain": [
       "[('u', 21769),\n",
       " ('clinton', 20185),\n",
       " ('trump', 20131),\n",
       " ('one', 16807),\n",
       " ('people', 16787),\n",
       " ('state', 15405),\n",
       " ('would', 14445),\n",
       " ('hillary', 12698),\n",
       " ('time', 12607),\n",
       " ('said', 11788)]"
      ]
     },
     "execution_count": 49,
     "metadata": {},
     "output_type": "execute_result"
    }
   ],
   "source": [
    "fdist = FreqDist(words_viz_1)\n",
    "fdist.most_common(10)"
   ]
  },
  {
   "cell_type": "code",
   "execution_count": 77,
   "id": "faebb24a-d5d5-44f2-ac55-e33acfdef9d1",
   "metadata": {},
   "outputs": [
    {
     "data": {
      "image/png": "[encoded data removed]",
      "text/plain": [
       "<Figure size 432x288 with 1 Axes>"
      ]
     },
     "metadata": {
      "needs_background": "light"
     },
     "output_type": "display_data"
    }
   ],
   "source": [
    "fdist = FreqDist(words_viz_1)\n",
    "fdist.plot(10, title = \"Palavras comuns em artigos de fake news\")\n",
    "plt.show()"
   ]
  },
  {
   "cell_type": "markdown",
   "id": "5a153a5f-0626-408f-b3a1-bd6de275f530",
   "metadata": {},
   "source": [
    "#### Palavras masis frequentes nos títulos de artigos confiáveis"
   ]
  },
  {
   "cell_type": "code",
   "execution_count": 52,
   "id": "c30f4d93-7c30-4c58-8f20-d55d6963adf8",
   "metadata": {},
   "outputs": [],
   "source": [
    "words_viz_0 = []\n",
    "for i in range(len(words_viz_true[\"filtered_text\"])):\n",
    "    words_viz_0 += words_viz_true.iloc[i][\"filtered_text\"] "
   ]
  },
  {
   "cell_type": "code",
   "execution_count": 53,
   "id": "607104b4-93d8-45de-be11-88f39e481051",
   "metadata": {},
   "outputs": [
    {
     "data": {
      "text/plain": [
       "5105778"
      ]
     },
     "execution_count": 53,
     "metadata": {},
     "output_type": "execute_result"
    }
   ],
   "source": [
    "len(words_viz_0)"
   ]
  },
  {
   "cell_type": "code",
   "execution_count": 54,
   "id": "fab3aec9-1d0c-4c3c-987e-2e5353e754eb",
   "metadata": {},
   "outputs": [
    {
     "data": {
      "text/plain": [
       "[('mr', 69266),\n",
       " ('said', 68179),\n",
       " ('trump', 36180),\n",
       " ('one', 23467),\n",
       " ('would', 22803),\n",
       " ('state', 22543),\n",
       " ('year', 21586),\n",
       " ('people', 20027),\n",
       " ('new', 19661),\n",
       " ('time', 18131)]"
      ]
     },
     "execution_count": 54,
     "metadata": {},
     "output_type": "execute_result"
    }
   ],
   "source": [
    "fdist = FreqDist(words_viz_0)\n",
    "fdist.most_common(10)"
   ]
  },
  {
   "cell_type": "code",
   "execution_count": 82,
   "id": "f1d69713-3f7d-44c8-b67e-dd882efd6249",
   "metadata": {},
   "outputs": [
    {
     "data": {
      "image/png": "[encoded data removed]",
      "text/plain": [
       "<Figure size 432x288 with 1 Axes>"
      ]
     },
     "metadata": {
      "needs_background": "light"
     },
     "output_type": "display_data"
    }
   ],
   "source": [
    "fdist = FreqDist(words_viz_0)\n",
    "fdist.plot(10, title = \"Palavras comuns nos artigos confiáveis\")\n",
    "plt.show()"
   ]
  },
  {
   "cell_type": "markdown",
   "id": "a3df4661-3d82-40f7-9fa3-cc8e43baacb9",
   "metadata": {},
   "source": [
    "##### Muitas palavras estão misturadas. Neste caso, as palavras 'trump', 'clinton', 'election', 'new' aparece nos dois. Uma hipótese para ocorrer em ambos seria a fake news sendo divulgada e artigos confiáveis refutando a mentira. Tendo essas palavras e levando o contexto, as fake news são sobre as eleições (quando Trump perdeu) e sobre Hillary Clinton.\n",
    "\n",
    "##### Fazendo o mesmo para os títulos, 'war' e 'Russia' aparecem bastanteem Fake News."
   ]
  },
  {
   "cell_type": "markdown",
   "id": "846a947e-8bf1-42d5-9a18-f1a1289dad23",
   "metadata": {},
   "source": [
    "## Modelos de ML"
   ]
  },
  {
   "cell_type": "code",
   "execution_count": 56,
   "id": "44e0340d-65f1-4818-9c77-803c908eecc8",
   "metadata": {},
   "outputs": [],
   "source": [
    "# train test split\n",
    "from sklearn.model_selection import train_test_split\n",
    "\n",
    "X = fk_train[\"join_words\"]\n",
    "y = fk_train[\"label\"]\n",
    "\n",
    "X_train, X_test, y_train, y_test = train_test_split(X,y)"
   ]
  },
  {
   "cell_type": "code",
   "execution_count": 57,
   "id": "60ca8c00-2bb4-44bc-869e-8c117c2f1c08",
   "metadata": {},
   "outputs": [],
   "source": [
    "# Bibliotecas e modelos\n",
    "from sklearn.feature_extraction.text import TfidfVectorizer\n",
    "from sklearn.pipeline import Pipeline\n",
    "\n",
    "# Usar os modelos abaixo\n",
    "from sklearn.linear_model import LogisticRegression\n",
    "from sklearn.svm import LinearSVC\n",
    "from sklearn.ensemble import RandomForestClassifier\n",
    "# Adaboost e XGBoost foram usados tb"
   ]
  },
  {
   "cell_type": "markdown",
   "id": "1de36b33-3aa8-4b7e-be31-c9b4792c36f2",
   "metadata": {},
   "source": [
    "#### Baseline com Logistic Regression"
   ]
  },
  {
   "cell_type": "code",
   "execution_count": 58,
   "id": "13fef488-ae9e-46e5-99be-b7f9139ccda2",
   "metadata": {},
   "outputs": [
    {
     "data": {
      "text/plain": [
       "Pipeline(steps=[('tfidf', TfidfVectorizer()), ('model', LogisticRegression())])"
      ]
     },
     "execution_count": 58,
     "metadata": {},
     "output_type": "execute_result"
    }
   ],
   "source": [
    "text_model_lr = Pipeline([\n",
    "    (\"tfidf\", TfidfVectorizer()),\n",
    "    (\"model\", LogisticRegression())\n",
    "])\n",
    "\n",
    "text_model_lr"
   ]
  },
  {
   "cell_type": "code",
   "execution_count": 59,
   "id": "6108f348-3a6e-4cd3-9337-2ace596681d6",
   "metadata": {},
   "outputs": [],
   "source": [
    "text_model_lr.fit(X_train, y_train)\n",
    "predictions = text_model_lr.predict(X_test)"
   ]
  },
  {
   "cell_type": "code",
   "execution_count": 60,
   "id": "e391c47d-7d93-4e2b-8dc0-1db5714ab53d",
   "metadata": {},
   "outputs": [
    {
     "name": "stdout",
     "output_type": "stream",
     "text": [
      "[[2421  159]\n",
      " [ 124 2347]]\n",
      "\n",
      "              precision    recall  f1-score   support\n",
      "\n",
      "           0       0.95      0.94      0.94      2580\n",
      "           1       0.94      0.95      0.94      2471\n",
      "\n",
      "    accuracy                           0.94      5051\n",
      "   macro avg       0.94      0.94      0.94      5051\n",
      "weighted avg       0.94      0.94      0.94      5051\n",
      "\n",
      "\n",
      "A acurácia é 0.9439714907939022\n"
     ]
    }
   ],
   "source": [
    "from sklearn.metrics import confusion_matrix, classification_report, accuracy_score, roc_curve, roc_auc_score\n",
    "\n",
    "print(confusion_matrix(y_test, predictions))\n",
    "print()\n",
    "print(classification_report(y_test, predictions))\n",
    "print()\n",
    "print(f\"A acurácia é {accuracy_score(y_test, predictions)}\")"
   ]
  },
  {
   "cell_type": "code",
   "execution_count": 61,
   "id": "be3b1da1-6ea2-4e3e-ae93-19fcecd7d7de",
   "metadata": {},
   "outputs": [],
   "source": [
    "# Predict proba para curva ROC\n",
    "y_prob_lr = text_model_lr.predict_proba(X_test)\n",
    "# Slice do predict proba\n",
    "y_prob_lr = y_prob_lr[:, 1]"
   ]
  },
  {
   "cell_type": "code",
   "execution_count": 62,
   "id": "f1f780f2-8601-4112-88eb-c0291881f959",
   "metadata": {},
   "outputs": [
    {
     "data": {
      "image/png": "[encoded data removed]",
      "text/plain": [
       "<Figure size 432x288 with 1 Axes>"
      ]
     },
     "metadata": {
      "needs_background": "light"
     },
     "output_type": "display_data"
    }
   ],
   "source": [
    "# ROC-AUC \n",
    "fp, tp, thresholds = roc_curve(y_test, y_prob_lr)\n",
    "plt.plot(fp, tp, color = 'red', label = 'ROC')\n",
    "plt.plot([0,1], [0,1], color='green', linestyle='--')\n",
    "plt.xlabel('False Positive Rate')\n",
    "plt.ylabel('True Positive Rate')\n",
    "plt.title('ROC CURVE')\n",
    "plt.legend()\n",
    "plt.show()"
   ]
  },
  {
   "cell_type": "markdown",
   "id": "466e43f4-5084-4b65-9ece-b6d256833816",
   "metadata": {},
   "source": [
    "#### Random Forest Classifier"
   ]
  },
  {
   "cell_type": "code",
   "execution_count": 63,
   "id": "3649a6f0-4b0d-444a-ae98-619523f92f15",
   "metadata": {},
   "outputs": [
    {
     "data": {
      "text/plain": [
       "Pipeline(steps=[('tfidf', TfidfVectorizer()),\n",
       "                ('model', RandomForestClassifier())])"
      ]
     },
     "execution_count": 63,
     "metadata": {},
     "output_type": "execute_result"
    }
   ],
   "source": [
    "text_model_rfc = Pipeline([\n",
    "    (\"tfidf\", TfidfVectorizer()),\n",
    "    (\"model\", RandomForestClassifier())\n",
    "])\n",
    "\n",
    "text_model_rfc"
   ]
  },
  {
   "cell_type": "code",
   "execution_count": 64,
   "id": "f481054f-e5c3-4447-84fe-c112cc094247",
   "metadata": {},
   "outputs": [],
   "source": [
    "text_model_rfc.fit(X_train, y_train)\n",
    "predictions = text_model_rfc.predict(X_test)"
   ]
  },
  {
   "cell_type": "code",
   "execution_count": 65,
   "id": "29f71f02-151e-49fe-8fe6-daee3bec38ea",
   "metadata": {},
   "outputs": [
    {
     "name": "stdout",
     "output_type": "stream",
     "text": [
      "[[2449  131]\n",
      " [ 235 2236]]\n",
      "\n",
      "              precision    recall  f1-score   support\n",
      "\n",
      "           0       0.91      0.95      0.93      2580\n",
      "           1       0.94      0.90      0.92      2471\n",
      "\n",
      "    accuracy                           0.93      5051\n",
      "   macro avg       0.93      0.93      0.93      5051\n",
      "weighted avg       0.93      0.93      0.93      5051\n",
      "\n",
      "\n",
      "A acurácia é 0.9275391011680856\n"
     ]
    }
   ],
   "source": [
    "from sklearn.metrics import confusion_matrix, classification_report, accuracy_score, roc_curve, roc_auc_score\n",
    "\n",
    "print(confusion_matrix(y_test, predictions))\n",
    "print()\n",
    "print(classification_report(y_test, predictions))\n",
    "print()\n",
    "print(f\"A acurácia é {accuracy_score(y_test, predictions)}\")"
   ]
  },
  {
   "cell_type": "code",
   "execution_count": 68,
   "id": "83868e1b-beb2-44de-aac3-e1f6b9513cab",
   "metadata": {},
   "outputs": [],
   "source": [
    "# Predict proba para curva ROC\n",
    "y_prob_rfc = text_model_rfc.predict_proba(X_test)\n",
    "# Slice do predict proba\n",
    "y_prob_rfc = y_prob_rfc[:, 1]"
   ]
  },
  {
   "cell_type": "code",
   "execution_count": 70,
   "id": "8a10bb94-cc49-48b8-a738-1d2e905ba900",
   "metadata": {},
   "outputs": [
    {
     "data": {
      "image/png": "[encoded data removed]",
      "text/plain": [
       "<Figure size 432x288 with 1 Axes>"
      ]
     },
     "metadata": {
      "needs_background": "light"
     },
     "output_type": "display_data"
    }
   ],
   "source": [
    "# ROC-AUC \n",
    "fp, tp, thresholds = roc_curve(y_test, y_prob_rfc)\n",
    "plt.plot(fp, tp, color = 'red', label = 'ROC')\n",
    "plt.plot([0,1], [0,1], color='green', linestyle='--')\n",
    "plt.xlabel('False Positive Rate')\n",
    "plt.ylabel('True Positive Rate')\n",
    "plt.title('ROC CURVE')\n",
    "plt.legend()\n",
    "plt.show()"
   ]
  },
  {
   "cell_type": "markdown",
   "id": "cb5f65eb-2997-416d-b13d-b1b068c77348",
   "metadata": {},
   "source": [
    "#### SVC"
   ]
  },
  {
   "cell_type": "code",
   "execution_count": 97,
   "id": "bb3110c3-c38d-4e2f-af4d-9f2ff6cbd471",
   "metadata": {},
   "outputs": [
    {
     "data": {
      "text/plain": [
       "Pipeline(steps=[('tfidf', TfidfVectorizer()), ('model', LinearSVC())])"
      ]
     },
     "execution_count": 97,
     "metadata": {},
     "output_type": "execute_result"
    }
   ],
   "source": [
    "text_model_svc = Pipeline([\n",
    "    (\"tfidf\", TfidfVectorizer()),\n",
    "    (\"model\", LinearSVC())\n",
    "])\n",
    "\n",
    "text_model_svc"
   ]
  },
  {
   "cell_type": "code",
   "execution_count": 98,
   "id": "57c2fcc5-cd86-4376-ad1f-d39572ef4b39",
   "metadata": {},
   "outputs": [],
   "source": [
    "text_model_svc.fit(X_train, y_train)\n",
    "predictions = text_model_svc.predict(X_test)"
   ]
  },
  {
   "cell_type": "code",
   "execution_count": 100,
   "id": "50d82459-27b5-46d7-8767-65f6e287c6db",
   "metadata": {},
   "outputs": [
    {
     "name": "stdout",
     "output_type": "stream",
     "text": [
      "[[2486   94]\n",
      " [  97 2374]]\n",
      "\n",
      "              precision    recall  f1-score   support\n",
      "\n",
      "           0       0.96      0.96      0.96      2580\n",
      "           1       0.96      0.96      0.96      2471\n",
      "\n",
      "    accuracy                           0.96      5051\n",
      "   macro avg       0.96      0.96      0.96      5051\n",
      "weighted avg       0.96      0.96      0.96      5051\n",
      "\n",
      "\n",
      "A acurácia é 0.9621857058008315\n"
     ]
    }
   ],
   "source": [
    "from sklearn.metrics import confusion_matrix, classification_report, accuracy_score, roc_curve, roc_auc_score\n",
    "\n",
    "print(confusion_matrix(y_test, predictions))\n",
    "print()\n",
    "print(classification_report(y_test, predictions))\n",
    "print()\n",
    "print(f\"A acurácia é {accuracy_score(y_test, predictions)}\")"
   ]
  },
  {
   "cell_type": "markdown",
   "id": "36ac27b0-28c4-43ee-8f33-f64fce89776c",
   "metadata": {},
   "source": [
    "#### Adaboost"
   ]
  },
  {
   "cell_type": "code",
   "execution_count": 83,
   "id": "7d50b0eb-deba-4a17-b6fd-acce3b2f94f9",
   "metadata": {},
   "outputs": [],
   "source": [
    "from sklearn.ensemble import AdaBoostClassifier"
   ]
  },
  {
   "cell_type": "code",
   "execution_count": 84,
   "id": "f15f4e55-ff81-4a5b-bf7e-74ae7c0cb89d",
   "metadata": {},
   "outputs": [
    {
     "data": {
      "text/plain": [
       "Pipeline(steps=[('tfidf', TfidfVectorizer()), ('model', AdaBoostClassifier())])"
      ]
     },
     "execution_count": 84,
     "metadata": {},
     "output_type": "execute_result"
    }
   ],
   "source": [
    "text_model_ada = Pipeline([\n",
    "    (\"tfidf\", TfidfVectorizer()),\n",
    "    (\"model\", AdaBoostClassifier())\n",
    "])\n",
    "\n",
    "text_model_ada"
   ]
  },
  {
   "cell_type": "code",
   "execution_count": 85,
   "id": "b48d0e3c-7396-42a0-8ad1-b9855532d1df",
   "metadata": {},
   "outputs": [],
   "source": [
    "text_model_ada.fit(X_train, y_train)\n",
    "predictions = text_model_ada.predict(X_test)"
   ]
  },
  {
   "cell_type": "code",
   "execution_count": 86,
   "id": "e3b9ea02-0710-4797-ad51-2e26e50f73cb",
   "metadata": {},
   "outputs": [
    {
     "name": "stdout",
     "output_type": "stream",
     "text": [
      "[[2368  212]\n",
      " [ 160 2311]]\n",
      "\n",
      "              precision    recall  f1-score   support\n",
      "\n",
      "           0       0.94      0.92      0.93      2580\n",
      "           1       0.92      0.94      0.93      2471\n",
      "\n",
      "    accuracy                           0.93      5051\n",
      "   macro avg       0.93      0.93      0.93      5051\n",
      "weighted avg       0.93      0.93      0.93      5051\n",
      "\n",
      "\n",
      "A acurácia é 0.9263512175806771\n"
     ]
    }
   ],
   "source": [
    "from sklearn.metrics import confusion_matrix, classification_report, accuracy_score, roc_curve, roc_auc_score\n",
    "\n",
    "print(confusion_matrix(y_test, predictions))\n",
    "print()\n",
    "print(classification_report(y_test, predictions))\n",
    "print()\n",
    "print(f\"A acurácia é {accuracy_score(y_test, predictions)}\")"
   ]
  },
  {
   "cell_type": "code",
   "execution_count": 87,
   "id": "f469a0f6-263d-4e97-92ce-ae2c7996f3a1",
   "metadata": {},
   "outputs": [],
   "source": [
    "# Predict proba para curva ROC\n",
    "y_prob_ada = text_model_ada.predict_proba(X_test)\n",
    "# Slice do predict proba\n",
    "y_prob_ada = y_prob_ada[:, 1]"
   ]
  },
  {
   "cell_type": "code",
   "execution_count": 88,
   "id": "1b0eec36-77d6-4a55-8bbf-f4c5a5a16411",
   "metadata": {},
   "outputs": [
    {
     "data": {
      "image/png": "[encoded data removed]",
      "text/plain": [
       "<Figure size 432x288 with 1 Axes>"
      ]
     },
     "metadata": {
      "needs_background": "light"
     },
     "output_type": "display_data"
    }
   ],
   "source": [
    "# ROC-AUC \n",
    "fp, tp, thresholds = roc_curve(y_test, y_prob_ada)\n",
    "plt.plot(fp, tp, color = 'red', label = 'ROC')\n",
    "plt.plot([0,1], [0,1], color='green', linestyle='--')\n",
    "plt.xlabel('False Positive Rate')\n",
    "plt.ylabel('True Positive Rate')\n",
    "plt.title('ROC CURVE')\n",
    "plt.legend()\n",
    "plt.show()"
   ]
  },
  {
   "cell_type": "markdown",
   "id": "11cf28ce-0c33-4f51-bc59-3d38f1aeb138",
   "metadata": {},
   "source": [
    "#### XGBoost"
   ]
  },
  {
   "cell_type": "code",
   "execution_count": 89,
   "id": "b8295b2d-9b81-4b3e-990a-4f87c76c06b1",
   "metadata": {},
   "outputs": [],
   "source": [
    "from xgboost import XGBClassifier"
   ]
  },
  {
   "cell_type": "code",
   "execution_count": 91,
   "id": "c00222d8-600b-463c-a413-08eff519e937",
   "metadata": {},
   "outputs": [
    {
     "data": {
      "text/plain": [
       "Pipeline(steps=[('tfidf', TfidfVectorizer()),\n",
       "                ('model',\n",
       "                 XGBClassifier(base_score=None, booster=None,\n",
       "                               colsample_bylevel=None, colsample_bynode=None,\n",
       "                               colsample_bytree=None, eval_metric='logloss',\n",
       "                               gamma=None, gpu_id=None, importance_type='gain',\n",
       "                               interaction_constraints=None, learning_rate=0.1,\n",
       "                               max_delta_step=None, max_depth=None,\n",
       "                               min_child_weight=None, missing=nan,\n",
       "                               monotone_constraints=None, n_estimators=100,\n",
       "                               n_jobs=None, num_parallel_tree=None,\n",
       "                               random_state=None, reg_alpha=None,\n",
       "                               reg_lambda=None, scale_pos_weight=None,\n",
       "                               subsample=None, tree_method=None,\n",
       "                               validate_parameters=None, verbosity=None))])"
      ]
     },
     "execution_count": 91,
     "metadata": {},
     "output_type": "execute_result"
    }
   ],
   "source": [
    "text_model_xgb = Pipeline([\n",
    "    (\"tfidf\", TfidfVectorizer()),\n",
    "    (\"model\", XGBClassifier(learning_rate = 0.1, eval_metric = \"logloss\"))\n",
    "])\n",
    "\n",
    "text_model_xgb"
   ]
  },
  {
   "cell_type": "code",
   "execution_count": 92,
   "id": "d87f8674-7be0-4633-b091-87945ba417f4",
   "metadata": {},
   "outputs": [
    {
     "name": "stderr",
     "output_type": "stream",
     "text": [
      "C:\\Users\\gabri\\Anaconda3\\lib\\site-packages\\xgboost\\sklearn.py:1146: UserWarning: The use of label encoder in XGBClassifier is deprecated and will be removed in a future release. To remove this warning, do the following: 1) Pass option use_label_encoder=False when constructing XGBClassifier object; and 2) Encode your labels (y) as integers starting with 0, i.e. 0, 1, 2, ..., [num_class - 1].\n",
      "  warnings.warn(label_encoder_deprecation_msg, UserWarning)\n"
     ]
    }
   ],
   "source": [
    "text_model_xgb.fit(X_train, y_train)\n",
    "predictions = text_model_xgb.predict(X_test)"
   ]
  },
  {
   "cell_type": "code",
   "execution_count": 93,
   "id": "a674b24d-8400-43a9-af12-454799d2aedb",
   "metadata": {},
   "outputs": [
    {
     "name": "stdout",
     "output_type": "stream",
     "text": [
      "[[2421  159]\n",
      " [ 107 2364]]\n",
      "\n",
      "              precision    recall  f1-score   support\n",
      "\n",
      "           0       0.96      0.94      0.95      2580\n",
      "           1       0.94      0.96      0.95      2471\n",
      "\n",
      "    accuracy                           0.95      5051\n",
      "   macro avg       0.95      0.95      0.95      5051\n",
      "weighted avg       0.95      0.95      0.95      5051\n",
      "\n",
      "\n",
      "A acurácia é 0.9473371609582261\n"
     ]
    }
   ],
   "source": [
    "from sklearn.metrics import confusion_matrix, classification_report, accuracy_score, roc_curve, roc_auc_score\n",
    "\n",
    "print(confusion_matrix(y_test, predictions))\n",
    "print()\n",
    "print(classification_report(y_test, predictions))\n",
    "print()\n",
    "print(f\"A acurácia é {accuracy_score(y_test, predictions)}\")"
   ]
  },
  {
   "cell_type": "code",
   "execution_count": 94,
   "id": "986781e8-6710-4b6d-b128-d135ee7c7f84",
   "metadata": {},
   "outputs": [],
   "source": [
    "# Predict proba para curva ROC\n",
    "y_prob_xgb = text_model_xgb.predict_proba(X_test)\n",
    "# Slice do predict proba\n",
    "y_prob_xgb = y_prob_xgb[:, 1]"
   ]
  },
  {
   "cell_type": "code",
   "execution_count": 95,
   "id": "4dcbdfb4-1427-4623-aabd-69410da34f32",
   "metadata": {},
   "outputs": [
    {
     "data": {
      "image/png": "[encoded data removed]",
      "text/plain": [
       "<Figure size 432x288 with 1 Axes>"
      ]
     },
     "metadata": {
      "needs_background": "light"
     },
     "output_type": "display_data"
    }
   ],
   "source": [
    "# ROC-AUC \n",
    "fp, tp, thresholds = roc_curve(y_test, y_prob_xgb)\n",
    "plt.plot(fp, tp, color = 'red', label = 'ROC')\n",
    "plt.plot([0,1], [0,1], color='green', linestyle='--')\n",
    "plt.xlabel('False Positive Rate')\n",
    "plt.ylabel('True Positive Rate')\n",
    "plt.title('ROC CURVE')\n",
    "plt.legend()\n",
    "plt.show()"
   ]
  },
  {
   "cell_type": "markdown",
   "id": "1acd597b-d9ec-456c-b97e-a21c44c97ef7",
   "metadata": {},
   "source": [
    "----"
   ]
  },
  {
   "cell_type": "markdown",
   "id": "2362e54c-5532-4bc5-9274-12594fd4df1c",
   "metadata": {},
   "source": [
    "#### SVC apresentou a maior acurácia"
   ]
  }
 ],
 "metadata": {
  "kernelspec": {
   "display_name": "Python 3",
   "language": "python",
   "name": "python3"
  },
  "language_info": {
   "codemirror_mode": {
    "name": "ipython",
    "version": 3
   },
   "file_extension": ".py",
   "mimetype": "text/x-python",
   "name": "python",
   "nbconvert_exporter": "python",
   "pygments_lexer": "ipython3",
   "version": "3.8.8"
  }
 },
 "nbformat": 4,
 "nbformat_minor": 5
}
