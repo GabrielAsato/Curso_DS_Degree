{
  "nbformat": 4,
  "nbformat_minor": 0,
  "metadata": {
    "colab": {
      "provenance": []
    },
    "kernelspec": {
      "name": "python3",
      "display_name": "Python 3"
    },
    "language_info": {
      "name": "python"
    }
  },
  "cells": [
    {
      "cell_type": "code",
      "execution_count": null,
      "metadata": {
        "colab": {
          "base_uri": "https://localhost:8080/"
        },
        "id": "czrdDpnZj9b-",
        "outputId": "cf749731-661b-4ed9-d9dd-a7eee943ccf0"
      },
      "outputs": [
        {
          "output_type": "stream",
          "name": "stdout",
          "text": [
            "Looking in indexes: https://pypi.org/simple, https://us-python.pkg.dev/colab-wheels/public/simple/\n",
            "Collecting glove-python-binary\n",
            "  Downloading glove_python_binary-0.2.0-cp37-cp37m-manylinux1_x86_64.whl (948 kB)\n",
            "\u001b[K     |████████████████████████████████| 948 kB 7.5 MB/s \n",
            "\u001b[?25hRequirement already satisfied: numpy in /usr/local/lib/python3.7/dist-packages (from glove-python-binary) (1.21.6)\n",
            "Requirement already satisfied: scipy in /usr/local/lib/python3.7/dist-packages (from glove-python-binary) (1.7.3)\n",
            "Installing collected packages: glove-python-binary\n",
            "Successfully installed glove-python-binary-0.2.0\n"
          ]
        }
      ],
      "source": [
        "!pip install glove-python-binary\n",
        "#!pip install gensim"
      ]
    },
    {
      "cell_type": "code",
      "source": [
        "# Word Embedding\n",
        "\n",
        "#Word2Vec --> Redes Neurais (CBOW e Skip-Gram)\n",
        "#CBOW ---> fazer a previsão de uma palavra central a partir das minhas palavras na vizinhança\n",
        "from gensim.models import Word2Vec\n",
        "\n",
        "# Hoje vai chover pela manhã\n",
        "\n",
        "# ([Hoje, chover], vai)\n",
        "# ([vai, pela], chover)\n",
        "\n",
        "modelo = Word2Vec([['ola','eu', 'me', 'chamo', 'matheus'],\n",
        "                   ['hoje', 'estou', 'com', 'calor'],\n",
        "                   ['cansei', 'de', 'acordar', 'na', 'madrugada']], min_count=1)\n",
        "\n",
        "\n"
      ],
      "metadata": {
        "colab": {
          "base_uri": "https://localhost:8080/"
        },
        "id": "tE8c6neSkYiQ",
        "outputId": "095d9857-4993-4f3a-a6df-000af9b42447"
      },
      "execution_count": null,
      "outputs": [
        {
          "output_type": "stream",
          "name": "stderr",
          "text": [
            "WARNING:gensim.models.base_any2vec:under 10 jobs per worker: consider setting a smaller `batch_words' for smoother alpha decay\n"
          ]
        }
      ]
    },
    {
      "cell_type": "code",
      "source": [
        "words =list(modelo.wv.index2word)\n",
        "\n",
        "print(f'As primeiras 3 palavras:{words[:3]}')"
      ],
      "metadata": {
        "colab": {
          "base_uri": "https://localhost:8080/"
        },
        "id": "E0z4jr1r0lyv",
        "outputId": "985e8196-3998-4c2d-9a49-2c6ac3277155"
      },
      "execution_count": null,
      "outputs": [
        {
          "output_type": "stream",
          "name": "stdout",
          "text": [
            "As primeiras 3 palavras:['eu']\n"
          ]
        }
      ]
    },
    {
      "cell_type": "code",
      "source": [
        "modelo.wv.most_similar('estou')"
      ],
      "metadata": {
        "colab": {
          "base_uri": "https://localhost:8080/",
          "height": 311
        },
        "id": "H7fdOt691fm1",
        "outputId": "8c509d37-c349-4650-84bf-a85f506b2260"
      },
      "execution_count": null,
      "outputs": [
        {
          "output_type": "error",
          "ename": "KeyError",
          "evalue": "ignored",
          "traceback": [
            "\u001b[0;31m---------------------------------------------------------------------------\u001b[0m",
            "\u001b[0;31mKeyError\u001b[0m                                  Traceback (most recent call last)",
            "\u001b[0;32m<ipython-input-19-bd24471af240>\u001b[0m in \u001b[0;36m<module>\u001b[0;34m\u001b[0m\n\u001b[0;32m----> 1\u001b[0;31m \u001b[0mmodelo\u001b[0m\u001b[0;34m.\u001b[0m\u001b[0mwv\u001b[0m\u001b[0;34m.\u001b[0m\u001b[0mmost_similar\u001b[0m\u001b[0;34m(\u001b[0m\u001b[0;34m'estou'\u001b[0m\u001b[0;34m)\u001b[0m\u001b[0;34m\u001b[0m\u001b[0;34m\u001b[0m\u001b[0m\n\u001b[0m",
            "\u001b[0;32m/usr/local/lib/python3.7/dist-packages/gensim/models/keyedvectors.py\u001b[0m in \u001b[0;36mmost_similar\u001b[0;34m(self, positive, negative, topn, restrict_vocab, indexer)\u001b[0m\n\u001b[1;32m    529\u001b[0m                 \u001b[0mmean\u001b[0m\u001b[0;34m.\u001b[0m\u001b[0mappend\u001b[0m\u001b[0;34m(\u001b[0m\u001b[0mweight\u001b[0m \u001b[0;34m*\u001b[0m \u001b[0mword\u001b[0m\u001b[0;34m)\u001b[0m\u001b[0;34m\u001b[0m\u001b[0;34m\u001b[0m\u001b[0m\n\u001b[1;32m    530\u001b[0m             \u001b[0;32melse\u001b[0m\u001b[0;34m:\u001b[0m\u001b[0;34m\u001b[0m\u001b[0;34m\u001b[0m\u001b[0m\n\u001b[0;32m--> 531\u001b[0;31m                 \u001b[0mmean\u001b[0m\u001b[0;34m.\u001b[0m\u001b[0mappend\u001b[0m\u001b[0;34m(\u001b[0m\u001b[0mweight\u001b[0m \u001b[0;34m*\u001b[0m \u001b[0mself\u001b[0m\u001b[0;34m.\u001b[0m\u001b[0mword_vec\u001b[0m\u001b[0;34m(\u001b[0m\u001b[0mword\u001b[0m\u001b[0;34m,\u001b[0m \u001b[0muse_norm\u001b[0m\u001b[0;34m=\u001b[0m\u001b[0;32mTrue\u001b[0m\u001b[0;34m)\u001b[0m\u001b[0;34m)\u001b[0m\u001b[0;34m\u001b[0m\u001b[0;34m\u001b[0m\u001b[0m\n\u001b[0m\u001b[1;32m    532\u001b[0m                 \u001b[0;32mif\u001b[0m \u001b[0mword\u001b[0m \u001b[0;32min\u001b[0m \u001b[0mself\u001b[0m\u001b[0;34m.\u001b[0m\u001b[0mvocab\u001b[0m\u001b[0;34m:\u001b[0m\u001b[0;34m\u001b[0m\u001b[0;34m\u001b[0m\u001b[0m\n\u001b[1;32m    533\u001b[0m                     \u001b[0mall_words\u001b[0m\u001b[0;34m.\u001b[0m\u001b[0madd\u001b[0m\u001b[0;34m(\u001b[0m\u001b[0mself\u001b[0m\u001b[0;34m.\u001b[0m\u001b[0mvocab\u001b[0m\u001b[0;34m[\u001b[0m\u001b[0mword\u001b[0m\u001b[0;34m]\u001b[0m\u001b[0;34m.\u001b[0m\u001b[0mindex\u001b[0m\u001b[0;34m)\u001b[0m\u001b[0;34m\u001b[0m\u001b[0;34m\u001b[0m\u001b[0m\n",
            "\u001b[0;32m/usr/local/lib/python3.7/dist-packages/gensim/models/keyedvectors.py\u001b[0m in \u001b[0;36mword_vec\u001b[0;34m(self, word, use_norm)\u001b[0m\n\u001b[1;32m    450\u001b[0m             \u001b[0;32mreturn\u001b[0m \u001b[0mresult\u001b[0m\u001b[0;34m\u001b[0m\u001b[0;34m\u001b[0m\u001b[0m\n\u001b[1;32m    451\u001b[0m         \u001b[0;32melse\u001b[0m\u001b[0;34m:\u001b[0m\u001b[0;34m\u001b[0m\u001b[0;34m\u001b[0m\u001b[0m\n\u001b[0;32m--> 452\u001b[0;31m             \u001b[0;32mraise\u001b[0m \u001b[0mKeyError\u001b[0m\u001b[0;34m(\u001b[0m\u001b[0;34m\"word '%s' not in vocabulary\"\u001b[0m \u001b[0;34m%\u001b[0m \u001b[0mword\u001b[0m\u001b[0;34m)\u001b[0m\u001b[0;34m\u001b[0m\u001b[0;34m\u001b[0m\u001b[0m\n\u001b[0m\u001b[1;32m    453\u001b[0m \u001b[0;34m\u001b[0m\u001b[0m\n\u001b[1;32m    454\u001b[0m     \u001b[0;32mdef\u001b[0m \u001b[0mget_vector\u001b[0m\u001b[0;34m(\u001b[0m\u001b[0mself\u001b[0m\u001b[0;34m,\u001b[0m \u001b[0mword\u001b[0m\u001b[0;34m)\u001b[0m\u001b[0;34m:\u001b[0m\u001b[0;34m\u001b[0m\u001b[0;34m\u001b[0m\u001b[0m\n",
            "\u001b[0;31mKeyError\u001b[0m: \"word 'estou' not in vocabulary\""
          ]
        }
      ]
    },
    {
      "cell_type": "code",
      "source": [
        "modelo.wv.get_vector('cansei')"
      ],
      "metadata": {
        "colab": {
          "base_uri": "https://localhost:8080/"
        },
        "id": "KHA0VxEP2JXl",
        "outputId": "ad2ca591-d989-4c63-ed7f-93598991cc39"
      },
      "execution_count": null,
      "outputs": [
        {
          "output_type": "execute_result",
          "data": {
            "text/plain": [
              "array([ 4.6681049e-03,  7.2044451e-05,  1.0010581e-03,  3.7637767e-03,\n",
              "        7.1599707e-04, -2.8667206e-04, -6.0321280e-04, -5.4223614e-04,\n",
              "        9.1719575e-04,  4.0567378e-03,  2.7588753e-03,  4.6839691e-03,\n",
              "       -1.9647935e-03,  3.5797791e-03, -4.5439950e-03,  3.0745857e-03,\n",
              "       -3.9142855e-03,  4.4511226e-03, -3.0121091e-03,  6.3849078e-04,\n",
              "       -1.9347378e-03, -3.7961728e-03, -3.4418604e-03, -4.1997889e-03,\n",
              "       -1.6609260e-03,  9.1903011e-04,  4.2588938e-05, -3.8460319e-04,\n",
              "       -1.8458297e-03,  4.8768898e-03,  2.3539228e-04,  2.9575513e-03,\n",
              "        2.4666931e-03, -2.9241920e-03,  1.1917902e-03, -1.0185267e-03,\n",
              "       -1.8045550e-03,  2.6177829e-03,  1.8129429e-03,  3.1280511e-03,\n",
              "        4.9423235e-03, -3.7075223e-03,  1.4861416e-03,  4.7260378e-03,\n",
              "        2.6223922e-04,  1.2900600e-03,  6.8601832e-04, -9.9633311e-05,\n",
              "        6.3568813e-04, -6.6688715e-04, -9.1295231e-05,  4.8809466e-03,\n",
              "       -2.3292550e-03, -3.6531207e-03, -3.3359705e-03,  4.0568174e-03,\n",
              "       -3.4001963e-03, -7.3376356e-04,  3.1452341e-04, -3.4399375e-03,\n",
              "        4.6933065e-03,  4.8096823e-03, -2.6126062e-03, -2.7935950e-03,\n",
              "       -4.1223648e-03,  9.3667395e-04, -1.6706545e-03,  4.3262313e-03,\n",
              "        4.7922144e-03,  1.2225872e-03, -4.2249910e-03,  1.3477615e-03,\n",
              "       -3.1694139e-03, -1.5769410e-03,  1.0909413e-04,  4.1084145e-03,\n",
              "        3.3078884e-04,  4.6292953e-03, -9.3064795e-04,  2.7852559e-03,\n",
              "       -2.8012122e-03,  1.2189527e-03,  3.9648982e-03, -2.4432928e-04,\n",
              "       -1.0230400e-03, -2.8082454e-03,  4.0293718e-03, -1.1705257e-03,\n",
              "       -3.3140425e-03, -2.2778398e-04,  3.5867686e-03,  3.6826818e-03,\n",
              "       -2.5700147e-03,  4.4334875e-03,  2.1892974e-04,  2.5921986e-03,\n",
              "        7.2437478e-04, -5.8296073e-04,  1.5762284e-04, -4.2825686e-03],\n",
              "      dtype=float32)"
            ]
          },
          "metadata": {},
          "execution_count": 13
        }
      ]
    },
    {
      "cell_type": "code",
      "source": [
        "X = modelo.wv[words]\n",
        "\n",
        "print(X)"
      ],
      "metadata": {
        "colab": {
          "base_uri": "https://localhost:8080/"
        },
        "id": "_4E_yPSz5xJ_",
        "outputId": "e8e54376-c98b-4ac6-dfe5-d9c3cc82a826"
      },
      "execution_count": null,
      "outputs": [
        {
          "output_type": "stream",
          "name": "stdout",
          "text": [
            "[[ 2.9422634e-03 -2.6095079e-03  4.5542899e-03 ...  4.7053937e-03\n",
            "   4.0120133e-03  1.6853492e-03]\n",
            " [ 3.8412733e-03 -8.8859338e-04  9.6134213e-04 ... -2.5512655e-03\n",
            "  -2.7844810e-03 -3.6971199e-03]\n",
            " [ 1.9263306e-03  4.3879533e-03 -9.6355611e-04 ...  1.9440379e-03\n",
            "  -4.1101249e-03  1.8963731e-03]\n",
            " ...\n",
            " [-8.7690241e-05  2.6665628e-03  3.2304609e-03 ...  4.6887221e-03\n",
            "  -3.8875337e-03 -4.6856287e-03]\n",
            " [-4.0531908e-03  3.1650648e-03 -1.5150695e-03 ...  1.7184343e-03\n",
            "  -3.7484360e-03  3.8774419e-03]\n",
            " [ 1.4435778e-03 -2.1959064e-03 -2.1893824e-03 ...  4.5917211e-03\n",
            "  -6.7315751e-04 -3.2541195e-03]]\n"
          ]
        }
      ]
    },
    {
      "cell_type": "code",
      "source": [
        "#Glove : Global Vectors for Word Representation (Stanford)\n",
        "\n",
        "\n",
        "\n",
        "# from glove import Corpus, Glove\n",
        "\n",
        "# corpus = Corpus()\n",
        "\n",
        "# corpus.fit()"
      ],
      "metadata": {
        "id": "ls34mDxi6IDL"
      },
      "execution_count": null,
      "outputs": []
    }
  ]
}