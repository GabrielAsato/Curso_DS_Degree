{
 "cells": [
  {
   "cell_type": "markdown",
   "id": "2b8f1cc1-7e6f-4ea7-8e88-4084f9cfddc1",
   "metadata": {},
   "source": [
    "## Exercício Aula 3 - 26/08/2022"
   ]
  },
  {
   "cell_type": "code",
   "execution_count": 94,
   "id": "40bebf87-c5d8-4335-a3aa-2a18864e2a6f",
   "metadata": {},
   "outputs": [],
   "source": [
    "# Carrega as bibliotecas\n",
    "import pandas as pd\n",
    "import numpy as np\n",
    "import seaborn as sns\n",
    "import matplotlib.pyplot as plt\n",
    "import nltk\n",
    "from nltk.stem.porter import *\n",
    "from nltk.tokenize import word_tokenize\n",
    "from nltk.corpus import stopwords\n",
    "import re"
   ]
  },
  {
   "cell_type": "code",
   "execution_count": 95,
   "id": "b0d225eb-5102-47b9-a440-ffa876f8d8e1",
   "metadata": {},
   "outputs": [
    {
     "data": {
      "text/html": [
       "<div>\n",
       "<style scoped>\n",
       "    .dataframe tbody tr th:only-of-type {\n",
       "        vertical-align: middle;\n",
       "    }\n",
       "\n",
       "    .dataframe tbody tr th {\n",
       "        vertical-align: top;\n",
       "    }\n",
       "\n",
       "    .dataframe thead th {\n",
       "        text-align: right;\n",
       "    }\n",
       "</style>\n",
       "<table border=\"1\" class=\"dataframe\">\n",
       "  <thead>\n",
       "    <tr style=\"text-align: right;\">\n",
       "      <th></th>\n",
       "      <th>label</th>\n",
       "      <th>message</th>\n",
       "    </tr>\n",
       "  </thead>\n",
       "  <tbody>\n",
       "    <tr>\n",
       "      <th>0</th>\n",
       "      <td>ham</td>\n",
       "      <td>Go until jurong point, crazy.. Available only ...</td>\n",
       "    </tr>\n",
       "    <tr>\n",
       "      <th>1</th>\n",
       "      <td>ham</td>\n",
       "      <td>Ok lar... Joking wif u oni...</td>\n",
       "    </tr>\n",
       "    <tr>\n",
       "      <th>2</th>\n",
       "      <td>spam</td>\n",
       "      <td>Free entry in 2 a wkly comp to win FA Cup fina...</td>\n",
       "    </tr>\n",
       "    <tr>\n",
       "      <th>3</th>\n",
       "      <td>ham</td>\n",
       "      <td>U dun say so early hor... U c already then say...</td>\n",
       "    </tr>\n",
       "    <tr>\n",
       "      <th>4</th>\n",
       "      <td>ham</td>\n",
       "      <td>Nah I don't think he goes to usf, he lives aro...</td>\n",
       "    </tr>\n",
       "  </tbody>\n",
       "</table>\n",
       "</div>"
      ],
      "text/plain": [
       "  label                                            message\n",
       "0   ham  Go until jurong point, crazy.. Available only ...\n",
       "1   ham                      Ok lar... Joking wif u oni...\n",
       "2  spam  Free entry in 2 a wkly comp to win FA Cup fina...\n",
       "3   ham  U dun say so early hor... U c already then say...\n",
       "4   ham  Nah I don't think he goes to usf, he lives aro..."
      ]
     },
     "execution_count": 95,
     "metadata": {},
     "output_type": "execute_result"
    }
   ],
   "source": [
    "# Queremos identificar se a mensagem é um spam (1) ou não (0)\n",
    "spam = pd.read_csv(\"dataset/SMSSpamCollection\", sep = \"\\t\", names = [\"label\",\"message\"])\n",
    "spam.head()"
   ]
  },
  {
   "cell_type": "code",
   "execution_count": 96,
   "id": "15f95ae8-e16f-4c73-8bc8-6cfbca290455",
   "metadata": {},
   "outputs": [
    {
     "name": "stdout",
     "output_type": "stream",
     "text": [
      "<class 'pandas.core.frame.DataFrame'>\n",
      "RangeIndex: 5572 entries, 0 to 5571\n",
      "Data columns (total 2 columns):\n",
      " #   Column   Non-Null Count  Dtype \n",
      "---  ------   --------------  ----- \n",
      " 0   label    5572 non-null   object\n",
      " 1   message  5572 non-null   object\n",
      "dtypes: object(2)\n",
      "memory usage: 87.2+ KB\n"
     ]
    }
   ],
   "source": [
    "spam.info()\n",
    "# Sem valores nulos"
   ]
  },
  {
   "cell_type": "code",
   "execution_count": 97,
   "id": "bef90c17-bd6d-4c7e-9e4d-eb32a59a401c",
   "metadata": {},
   "outputs": [],
   "source": [
    "# Trocando os labels para '0' ('ham') e '1' ('spam')\n",
    "from sklearn.preprocessing import LabelEncoder\n",
    "\n",
    "le = LabelEncoder()\n",
    "label = le.fit_transform(spam[\"label\"])"
   ]
  },
  {
   "cell_type": "code",
   "execution_count": 98,
   "id": "5df38b48-87b8-4f69-a819-dc8db829a17e",
   "metadata": {},
   "outputs": [
    {
     "data": {
      "text/plain": [
       "array([0, 0, 1, ..., 0, 0, 0])"
      ]
     },
     "execution_count": 98,
     "metadata": {},
     "output_type": "execute_result"
    }
   ],
   "source": [
    "label"
   ]
  },
  {
   "cell_type": "code",
   "execution_count": 99,
   "id": "ee702d1f-6574-4bcc-9382-7e437a0d47bc",
   "metadata": {},
   "outputs": [
    {
     "data": {
      "text/html": [
       "<div>\n",
       "<style scoped>\n",
       "    .dataframe tbody tr th:only-of-type {\n",
       "        vertical-align: middle;\n",
       "    }\n",
       "\n",
       "    .dataframe tbody tr th {\n",
       "        vertical-align: top;\n",
       "    }\n",
       "\n",
       "    .dataframe thead th {\n",
       "        text-align: right;\n",
       "    }\n",
       "</style>\n",
       "<table border=\"1\" class=\"dataframe\">\n",
       "  <thead>\n",
       "    <tr style=\"text-align: right;\">\n",
       "      <th></th>\n",
       "      <th>label</th>\n",
       "      <th>message</th>\n",
       "    </tr>\n",
       "  </thead>\n",
       "  <tbody>\n",
       "    <tr>\n",
       "      <th>0</th>\n",
       "      <td>0</td>\n",
       "      <td>Go until jurong point, crazy.. Available only ...</td>\n",
       "    </tr>\n",
       "    <tr>\n",
       "      <th>1</th>\n",
       "      <td>0</td>\n",
       "      <td>Ok lar... Joking wif u oni...</td>\n",
       "    </tr>\n",
       "    <tr>\n",
       "      <th>2</th>\n",
       "      <td>1</td>\n",
       "      <td>Free entry in 2 a wkly comp to win FA Cup fina...</td>\n",
       "    </tr>\n",
       "    <tr>\n",
       "      <th>3</th>\n",
       "      <td>0</td>\n",
       "      <td>U dun say so early hor... U c already then say...</td>\n",
       "    </tr>\n",
       "    <tr>\n",
       "      <th>4</th>\n",
       "      <td>0</td>\n",
       "      <td>Nah I don't think he goes to usf, he lives aro...</td>\n",
       "    </tr>\n",
       "  </tbody>\n",
       "</table>\n",
       "</div>"
      ],
      "text/plain": [
       "   label                                            message\n",
       "0      0  Go until jurong point, crazy.. Available only ...\n",
       "1      0                      Ok lar... Joking wif u oni...\n",
       "2      1  Free entry in 2 a wkly comp to win FA Cup fina...\n",
       "3      0  U dun say so early hor... U c already then say...\n",
       "4      0  Nah I don't think he goes to usf, he lives aro..."
      ]
     },
     "execution_count": 99,
     "metadata": {},
     "output_type": "execute_result"
    }
   ],
   "source": [
    "spam[\"label\"] = label\n",
    "spam.head()"
   ]
  },
  {
   "cell_type": "code",
   "execution_count": 100,
   "id": "b546016e-b2c7-4acc-aab6-eb1a3e763348",
   "metadata": {},
   "outputs": [
    {
     "name": "stderr",
     "output_type": "stream",
     "text": [
      "[nltk_data] Downloading package stopwords to\n",
      "[nltk_data]     C:\\Users\\gabri\\AppData\\Roaming\\nltk_data...\n",
      "[nltk_data]   Package stopwords is already up-to-date!\n",
      "[nltk_data] Downloading package punkt to\n",
      "[nltk_data]     C:\\Users\\gabri\\AppData\\Roaming\\nltk_data...\n",
      "[nltk_data]   Package punkt is already up-to-date!\n"
     ]
    }
   ],
   "source": [
    "# Baixa as listas de stopwords e as tokenizações\n",
    "nltk.download('stopwords')\n",
    "nltk.download('punkt')\n",
    "\n",
    "# Define as stopwords em inglês\n",
    "sw_english = set(stopwords.words('english'))\n",
    "\n",
    "# Instancia o PorterStemmer | trocar por lemmatização\n",
    "stemmer = PorterStemmer()"
   ]
  },
  {
   "cell_type": "code",
   "execution_count": 101,
   "id": "97c150f3-c721-48ec-9ec2-98f4787cd8dd",
   "metadata": {},
   "outputs": [],
   "source": [
    "# Função de Stemming\n",
    "def pre_text(string):\n",
    "    string = re.sub(r\"[^a-zA-Z0-9]+\", \" \", string)\n",
    "    string = string.lower()\n",
    "    words = word_tokenize(string)\n",
    "    filter_words = [word for word in words if word not in sw_english]\n",
    "    stem_words = []\n",
    "    for word in filter_words:\n",
    "        sw = stemmer.stem(word)\n",
    "        stem_words.append(sw)\n",
    "    return stem_words"
   ]
  },
  {
   "cell_type": "code",
   "execution_count": 102,
   "id": "dd1921cb-5a8a-4711-828a-d1d133969e2a",
   "metadata": {},
   "outputs": [],
   "source": [
    "spam['filtered_words'] = spam[\"message\"].apply(lambda x: pre_text(x))\n",
    "spam['join_words'] = spam['filtered_words'].apply(lambda x: ' '.join(x))"
   ]
  },
  {
   "cell_type": "code",
   "execution_count": 103,
   "id": "5402c4bb-f2db-4321-8ea0-653fc308c5e6",
   "metadata": {},
   "outputs": [],
   "source": [
    "from sklearn.model_selection import train_test_split\n",
    "\n",
    "\n",
    "X = spam[\"join_words\"]\n",
    "y = spam[\"label\"]\n",
    "\n",
    "X_train, X_test, y_train, y_test = train_test_split(X,y)"
   ]
  },
  {
   "cell_type": "markdown",
   "id": "fcbfd131-7e32-4708-8cd9-4d8e3ef64675",
   "metadata": {},
   "source": [
    "### TrucatedSVD\n",
    "\n",
    "- Tem muitas features e queremos reduzir a quantidade\n",
    "- Sabemos que temos features não relevants\n",
    "- Antes de aplicar o PCA devemos escalar as features originais com StandardScaler\n",
    "- https://analyticsindiamag.com/beginners-guide-to-truncated-svd-for-dimensionality-reduction/\n",
    "- https://stackoverflow.com/questions/34725726/is-it-possible-apply-pca-on-any-text-classification\n",
    "- https://scikit-learn.org/stable/modules/generated/sklearn.decomposition.TruncatedSVD.html"
   ]
  },
  {
   "cell_type": "markdown",
   "id": "011f159a-ba19-476e-8640-c85cd7068376",
   "metadata": {},
   "source": [
    "### LogisticRegression"
   ]
  },
  {
   "cell_type": "code",
   "execution_count": 104,
   "id": "9ff4bd5b-5c04-4a1a-8d7d-968d8cc91fa2",
   "metadata": {},
   "outputs": [
    {
     "data": {
      "text/plain": [
       "Pipeline(steps=[('tfidf', TfidfVectorizer()),\n",
       "                ('sc', StandardScaler(with_mean=False)),\n",
       "                ('svd', TruncatedSVD(n_components=4, random_state=42)),\n",
       "                ('lr', LogisticRegression())])"
      ]
     },
     "execution_count": 104,
     "metadata": {},
     "output_type": "execute_result"
    }
   ],
   "source": [
    "# Usar SVD ao invés de PCA\n",
    "from sklearn.decomposition import TruncatedSVD\n",
    "from sklearn.feature_extraction.text import TfidfVectorizer\n",
    "from sklearn.preprocessing import StandardScaler\n",
    "from sklearn.linear_model import LogisticRegression\n",
    "from sklearn.pipeline import Pipeline\n",
    "\n",
    "text_lr = Pipeline([\n",
    "    (\"tfidf\", TfidfVectorizer()),\n",
    "    (\"sc\", StandardScaler(with_mean=False)),\n",
    "    (\"svd\", TruncatedSVD(n_components = 4, random_state = 42)),\n",
    "    (\"lr\", LogisticRegression())\n",
    "])\n",
    "\n",
    "text_lr"
   ]
  },
  {
   "cell_type": "code",
   "execution_count": 105,
   "id": "36905522-488d-4213-bf40-5049520d6706",
   "metadata": {},
   "outputs": [],
   "source": [
    "text_lr.fit(X_train, y_train)\n",
    "predictions = text_lr.predict(X_test)"
   ]
  },
  {
   "cell_type": "code",
   "execution_count": 106,
   "id": "351691c6-66cd-42da-8481-cf876e6e8fa0",
   "metadata": {},
   "outputs": [
    {
     "name": "stdout",
     "output_type": "stream",
     "text": [
      "              precision    recall  f1-score   support\n",
      "\n",
      "           0       0.88      1.00      0.93      1217\n",
      "           1       0.43      0.02      0.03       176\n",
      "\n",
      "    accuracy                           0.87      1393\n",
      "   macro avg       0.65      0.51      0.48      1393\n",
      "weighted avg       0.82      0.87      0.82      1393\n",
      "\n",
      "0.8729361091170137\n"
     ]
    }
   ],
   "source": [
    "from sklearn.metrics import confusion_matrix, classification_report, accuracy_score, roc_curve, roc_auc_score\n",
    "\n",
    "confusion_matrix(y_test, predictions)\n",
    "print(classification_report(y_test, predictions))\n",
    "print(accuracy_score(y_test, predictions))"
   ]
  },
  {
   "cell_type": "code",
   "execution_count": 107,
   "id": "637a486c-ef9d-4880-b621-87d2136221e0",
   "metadata": {},
   "outputs": [],
   "source": [
    "y_prob_lr = text_lr.predict_proba(X_test)\n",
    "# Slice do predict proba\n",
    "y_prob_lr = y_prob_lr[:,1] "
   ]
  },
  {
   "cell_type": "code",
   "execution_count": 108,
   "id": "c4dfd3c0-5bdd-429b-a407-bc960f8254de",
   "metadata": {},
   "outputs": [
    {
     "data": {
      "image/png": "[encoded data removed]",
      "text/plain": [
       "<Figure size 432x288 with 1 Axes>"
      ]
     },
     "metadata": {
      "needs_background": "light"
     },
     "output_type": "display_data"
    }
   ],
   "source": [
    "# ROC-AUC \n",
    "fp, tp, thresholds = roc_curve(y_test, y_prob_lr)\n",
    "plt.plot(fp, tp, color = 'red', label = 'ROC')\n",
    "plt.plot([0,1], [0,1], color='green', linestyle='--')\n",
    "plt.xlabel('False Positive Rate')\n",
    "plt.ylabel('True Positive Rate')\n",
    "plt.title('ROC CURVE')\n",
    "plt.legend()\n",
    "plt.show()"
   ]
  },
  {
   "cell_type": "code",
   "execution_count": 109,
   "id": "569dd56a-b8af-477e-b0d6-5e4d18cc87ad",
   "metadata": {},
   "outputs": [
    {
     "name": "stdout",
     "output_type": "stream",
     "text": [
      "0.9054679913348771\n"
     ]
    }
   ],
   "source": [
    "auc = roc_auc_score(y_test, y_prob_lr)\n",
    "print(auc)"
   ]
  },
  {
   "cell_type": "markdown",
   "id": "ebd26cfe-7d1e-4f73-a0e8-f9bda1e78e2f",
   "metadata": {},
   "source": [
    "### Random Forest Classifier"
   ]
  },
  {
   "cell_type": "code",
   "execution_count": 110,
   "id": "a1c02933-b02f-4b10-a001-885d36a6ad55",
   "metadata": {},
   "outputs": [
    {
     "data": {
      "text/plain": [
       "Pipeline(steps=[('tfidf', TfidfVectorizer()),\n",
       "                ('sc', StandardScaler(with_mean=False)),\n",
       "                ('svd', TruncatedSVD(n_components=4, random_state=42)),\n",
       "                ('rf', RandomForestClassifier())])"
      ]
     },
     "execution_count": 110,
     "metadata": {},
     "output_type": "execute_result"
    }
   ],
   "source": [
    "# Usar SVD ao invés de PCA\n",
    "from sklearn.decomposition import TruncatedSVD\n",
    "from sklearn.feature_extraction.text import TfidfVectorizer\n",
    "from sklearn.preprocessing import StandardScaler\n",
    "from sklearn.ensemble import RandomForestClassifier\n",
    "from sklearn.pipeline import Pipeline\n",
    "\n",
    "text_rf = Pipeline([\n",
    "    (\"tfidf\", TfidfVectorizer()),\n",
    "    (\"sc\", StandardScaler(with_mean=False)),\n",
    "    (\"svd\", TruncatedSVD(n_components = 4, random_state = 42)),\n",
    "    (\"rf\", RandomForestClassifier())\n",
    "])\n",
    "\n",
    "text_rf"
   ]
  },
  {
   "cell_type": "code",
   "execution_count": 111,
   "id": "0e99f76e-05e8-4ecd-88c0-0f3174279f92",
   "metadata": {},
   "outputs": [],
   "source": [
    "text_rf.fit(X_train, y_train)\n",
    "predictions = text_rf.predict(X_test)"
   ]
  },
  {
   "cell_type": "code",
   "execution_count": 112,
   "id": "ef2578d4-a0ca-4bc5-b2c1-d64a5e38d6f4",
   "metadata": {},
   "outputs": [
    {
     "name": "stdout",
     "output_type": "stream",
     "text": [
      "              precision    recall  f1-score   support\n",
      "\n",
      "           0       0.97      0.96      0.97      1217\n",
      "           1       0.76      0.78      0.77       176\n",
      "\n",
      "    accuracy                           0.94      1393\n",
      "   macro avg       0.86      0.87      0.87      1393\n",
      "weighted avg       0.94      0.94      0.94      1393\n",
      "\n",
      "0.9404163675520459\n"
     ]
    }
   ],
   "source": [
    "from sklearn.metrics import confusion_matrix, classification_report, accuracy_score, roc_curve, roc_auc_score\n",
    "\n",
    "confusion_matrix(y_test, predictions)\n",
    "print(classification_report(y_test, predictions))\n",
    "print(accuracy_score(y_test, predictions))"
   ]
  },
  {
   "cell_type": "code",
   "execution_count": 113,
   "id": "a6e133c6-a33b-423f-b899-ba4cae49b362",
   "metadata": {},
   "outputs": [],
   "source": [
    "y_prob_rf = text_rf.predict_proba(X_test)\n",
    "y_prob_rf = y_prob_rf[:,1]"
   ]
  },
  {
   "cell_type": "code",
   "execution_count": 114,
   "id": "aef31342-56ad-4f82-877c-6a7bc540cfc5",
   "metadata": {},
   "outputs": [
    {
     "data": {
      "image/png": "[encoded data removed]",
      "text/plain": [
       "<Figure size 432x288 with 1 Axes>"
      ]
     },
     "metadata": {
      "needs_background": "light"
     },
     "output_type": "display_data"
    }
   ],
   "source": [
    "# ROC-AUC \n",
    "fp, tp, thresholds = roc_curve(y_test, y_prob_rf)\n",
    "plt.plot(fp, tp, color = 'red', label = 'ROC')\n",
    "plt.plot([0,1], [0,1], color='green', linestyle='--')\n",
    "plt.xlabel('False Positive Rate')\n",
    "plt.ylabel('True Positive Rate')\n",
    "plt.title('ROC CURVE')\n",
    "plt.legend()\n",
    "plt.show()"
   ]
  },
  {
   "cell_type": "code",
   "execution_count": 115,
   "id": "48304915-2e9f-4376-8d4a-b1b63fed3b8d",
   "metadata": {},
   "outputs": [
    {
     "name": "stdout",
     "output_type": "stream",
     "text": [
      "0.9534646485396281\n"
     ]
    }
   ],
   "source": [
    "auc = roc_auc_score(y_test, y_prob_rf)\n",
    "print(auc)"
   ]
  }
 ],
 "metadata": {
  "kernelspec": {
   "display_name": "Python 3",
   "language": "python",
   "name": "python3"
  },
  "language_info": {
   "codemirror_mode": {
    "name": "ipython",
    "version": 3
   },
   "file_extension": ".py",
   "mimetype": "text/x-python",
   "name": "python",
   "nbconvert_exporter": "python",
   "pygments_lexer": "ipython3",
   "version": "3.8.8"
  }
 },
 "nbformat": 4,
 "nbformat_minor": 5
}
