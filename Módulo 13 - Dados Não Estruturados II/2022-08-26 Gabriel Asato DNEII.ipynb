{
 "cells": [
  {
   "cell_type": "markdown",
   "id": "2b8f1cc1-7e6f-4ea7-8e88-4084f9cfddc1",
   "metadata": {},
   "source": [
    "## Exercício Aula 3 - 26/08/2022"
   ]
  },
  {
   "cell_type": "code",
   "execution_count": 1,
   "id": "40bebf87-c5d8-4335-a3aa-2a18864e2a6f",
   "metadata": {},
   "outputs": [],
   "source": [
    "# Carrega as bibliotecas\n",
    "import pandas as pd\n",
    "import numpy as np\n",
    "import seaborn as sns\n",
    "import matplotlib.pyplot as plt\n",
    "import nltk\n",
    "from nltk.stem.porter import *\n",
    "from nltk.tokenize import word_tokenize\n",
    "from nltk.corpus import stopwords\n",
    "import re"
   ]
  },
  {
   "cell_type": "code",
   "execution_count": 66,
   "id": "b0d225eb-5102-47b9-a440-ffa876f8d8e1",
   "metadata": {},
   "outputs": [
    {
     "data": {
      "text/html": [
       "<div>\n",
       "<style scoped>\n",
       "    .dataframe tbody tr th:only-of-type {\n",
       "        vertical-align: middle;\n",
       "    }\n",
       "\n",
       "    .dataframe tbody tr th {\n",
       "        vertical-align: top;\n",
       "    }\n",
       "\n",
       "    .dataframe thead th {\n",
       "        text-align: right;\n",
       "    }\n",
       "</style>\n",
       "<table border=\"1\" class=\"dataframe\">\n",
       "  <thead>\n",
       "    <tr style=\"text-align: right;\">\n",
       "      <th></th>\n",
       "      <th>label</th>\n",
       "      <th>message</th>\n",
       "    </tr>\n",
       "  </thead>\n",
       "  <tbody>\n",
       "    <tr>\n",
       "      <th>0</th>\n",
       "      <td>ham</td>\n",
       "      <td>Go until jurong point, crazy.. Available only ...</td>\n",
       "    </tr>\n",
       "    <tr>\n",
       "      <th>1</th>\n",
       "      <td>ham</td>\n",
       "      <td>Ok lar... Joking wif u oni...</td>\n",
       "    </tr>\n",
       "    <tr>\n",
       "      <th>2</th>\n",
       "      <td>spam</td>\n",
       "      <td>Free entry in 2 a wkly comp to win FA Cup fina...</td>\n",
       "    </tr>\n",
       "    <tr>\n",
       "      <th>3</th>\n",
       "      <td>ham</td>\n",
       "      <td>U dun say so early hor... U c already then say...</td>\n",
       "    </tr>\n",
       "    <tr>\n",
       "      <th>4</th>\n",
       "      <td>ham</td>\n",
       "      <td>Nah I don't think he goes to usf, he lives aro...</td>\n",
       "    </tr>\n",
       "  </tbody>\n",
       "</table>\n",
       "</div>"
      ],
      "text/plain": [
       "  label                                            message\n",
       "0   ham  Go until jurong point, crazy.. Available only ...\n",
       "1   ham                      Ok lar... Joking wif u oni...\n",
       "2  spam  Free entry in 2 a wkly comp to win FA Cup fina...\n",
       "3   ham  U dun say so early hor... U c already then say...\n",
       "4   ham  Nah I don't think he goes to usf, he lives aro..."
      ]
     },
     "execution_count": 66,
     "metadata": {},
     "output_type": "execute_result"
    }
   ],
   "source": [
    "# Queremos identificar se a mensagem é um spam (1) ou não (0)\n",
    "spam = pd.read_csv(\"dataset/SMSSpamCollection\", sep = \"\\t\", names = [\"label\",\"message\"])\n",
    "spam.head()"
   ]
  },
  {
   "cell_type": "code",
   "execution_count": 67,
   "id": "15f95ae8-e16f-4c73-8bc8-6cfbca290455",
   "metadata": {},
   "outputs": [
    {
     "name": "stdout",
     "output_type": "stream",
     "text": [
      "<class 'pandas.core.frame.DataFrame'>\n",
      "RangeIndex: 5572 entries, 0 to 5571\n",
      "Data columns (total 2 columns):\n",
      " #   Column   Non-Null Count  Dtype \n",
      "---  ------   --------------  ----- \n",
      " 0   label    5572 non-null   object\n",
      " 1   message  5572 non-null   object\n",
      "dtypes: object(2)\n",
      "memory usage: 87.2+ KB\n"
     ]
    }
   ],
   "source": [
    "spam.info()\n",
    "# Sem valores nulos"
   ]
  },
  {
   "cell_type": "code",
   "execution_count": 68,
   "id": "bef90c17-bd6d-4c7e-9e4d-eb32a59a401c",
   "metadata": {},
   "outputs": [],
   "source": [
    "# Trocando os labels para '0' ('ham') e '1' ('spam')\n",
    "from sklearn.preprocessing import LabelEncoder\n",
    "\n",
    "le = LabelEncoder()\n",
    "label = le.fit_transform(spam[\"label\"])"
   ]
  },
  {
   "cell_type": "code",
   "execution_count": 69,
   "id": "5df38b48-87b8-4f69-a819-dc8db829a17e",
   "metadata": {},
   "outputs": [
    {
     "data": {
      "text/plain": [
       "array([0, 0, 1, ..., 0, 0, 0])"
      ]
     },
     "execution_count": 69,
     "metadata": {},
     "output_type": "execute_result"
    }
   ],
   "source": [
    "label"
   ]
  },
  {
   "cell_type": "code",
   "execution_count": 71,
   "id": "ee702d1f-6574-4bcc-9382-7e437a0d47bc",
   "metadata": {},
   "outputs": [
    {
     "data": {
      "text/html": [
       "<div>\n",
       "<style scoped>\n",
       "    .dataframe tbody tr th:only-of-type {\n",
       "        vertical-align: middle;\n",
       "    }\n",
       "\n",
       "    .dataframe tbody tr th {\n",
       "        vertical-align: top;\n",
       "    }\n",
       "\n",
       "    .dataframe thead th {\n",
       "        text-align: right;\n",
       "    }\n",
       "</style>\n",
       "<table border=\"1\" class=\"dataframe\">\n",
       "  <thead>\n",
       "    <tr style=\"text-align: right;\">\n",
       "      <th></th>\n",
       "      <th>label</th>\n",
       "      <th>message</th>\n",
       "    </tr>\n",
       "  </thead>\n",
       "  <tbody>\n",
       "    <tr>\n",
       "      <th>0</th>\n",
       "      <td>0</td>\n",
       "      <td>Go until jurong point, crazy.. Available only ...</td>\n",
       "    </tr>\n",
       "    <tr>\n",
       "      <th>1</th>\n",
       "      <td>0</td>\n",
       "      <td>Ok lar... Joking wif u oni...</td>\n",
       "    </tr>\n",
       "    <tr>\n",
       "      <th>2</th>\n",
       "      <td>1</td>\n",
       "      <td>Free entry in 2 a wkly comp to win FA Cup fina...</td>\n",
       "    </tr>\n",
       "    <tr>\n",
       "      <th>3</th>\n",
       "      <td>0</td>\n",
       "      <td>U dun say so early hor... U c already then say...</td>\n",
       "    </tr>\n",
       "    <tr>\n",
       "      <th>4</th>\n",
       "      <td>0</td>\n",
       "      <td>Nah I don't think he goes to usf, he lives aro...</td>\n",
       "    </tr>\n",
       "  </tbody>\n",
       "</table>\n",
       "</div>"
      ],
      "text/plain": [
       "   label                                            message\n",
       "0      0  Go until jurong point, crazy.. Available only ...\n",
       "1      0                      Ok lar... Joking wif u oni...\n",
       "2      1  Free entry in 2 a wkly comp to win FA Cup fina...\n",
       "3      0  U dun say so early hor... U c already then say...\n",
       "4      0  Nah I don't think he goes to usf, he lives aro..."
      ]
     },
     "execution_count": 71,
     "metadata": {},
     "output_type": "execute_result"
    }
   ],
   "source": [
    "spam[\"label\"] = label\n",
    "spam.head()"
   ]
  },
  {
   "cell_type": "code",
   "execution_count": 72,
   "id": "b546016e-b2c7-4acc-aab6-eb1a3e763348",
   "metadata": {},
   "outputs": [
    {
     "name": "stderr",
     "output_type": "stream",
     "text": [
      "[nltk_data] Downloading package stopwords to\n",
      "[nltk_data]     C:\\Users\\gabri\\AppData\\Roaming\\nltk_data...\n",
      "[nltk_data]   Package stopwords is already up-to-date!\n",
      "[nltk_data] Downloading package punkt to\n",
      "[nltk_data]     C:\\Users\\gabri\\AppData\\Roaming\\nltk_data...\n",
      "[nltk_data]   Package punkt is already up-to-date!\n"
     ]
    }
   ],
   "source": [
    "# Baixa as listas de stopwords e as tokenizações\n",
    "nltk.download('stopwords')\n",
    "nltk.download('punkt')\n",
    "\n",
    "# Define as stopwords em inglês\n",
    "sw_english = set(stopwords.words('english'))\n",
    "\n",
    "# Instancia o PorterStemmer | trocar por lemmatização\n",
    "stemmer = PorterStemmer()"
   ]
  },
  {
   "cell_type": "code",
   "execution_count": 73,
   "id": "97c150f3-c721-48ec-9ec2-98f4787cd8dd",
   "metadata": {},
   "outputs": [],
   "source": [
    "# Função de Stemming\n",
    "def pre_text(string):\n",
    "    string = re.sub(r\"[^a-zA-Z0-9]+\", \" \", string)\n",
    "    string = string.lower()\n",
    "    words = word_tokenize(string)\n",
    "    filter_words = [word for word in words if word not in sw_english]\n",
    "    stem_words = []\n",
    "    for word in filter_words:\n",
    "        sw = stemmer.stem(word)\n",
    "        stem_words.append(sw)\n",
    "    return stem_words"
   ]
  },
  {
   "cell_type": "code",
   "execution_count": 74,
   "id": "dd1921cb-5a8a-4711-828a-d1d133969e2a",
   "metadata": {},
   "outputs": [],
   "source": [
    "spam['filtered_words'] = spam[\"message\"].apply(lambda x: pre_text(x))\n",
    "spam['join_words'] = spam['filtered_words'].apply(lambda x: ' '.join(x))"
   ]
  },
  {
   "cell_type": "code",
   "execution_count": 75,
   "id": "5402c4bb-f2db-4321-8ea0-653fc308c5e6",
   "metadata": {},
   "outputs": [],
   "source": [
    "from sklearn.model_selection import train_test_split\n",
    "from sklearn.feature_extraction.text import CountVectorizer, TfidfTransformer, TfidfVectorizer\n",
    "\n",
    "X = spam[\"join_words\"]\n",
    "y = spam[\"label\"]\n",
    "\n",
    "X_train, X_test, y_train, y_test = train_test_split(X,y)"
   ]
  },
  {
   "cell_type": "markdown",
   "id": "011f159a-ba19-476e-8640-c85cd7068376",
   "metadata": {},
   "source": [
    "### LinearSVC"
   ]
  },
  {
   "cell_type": "code",
   "execution_count": 10,
   "id": "9ff4bd5b-5c04-4a1a-8d7d-968d8cc91fa2",
   "metadata": {},
   "outputs": [
    {
     "data": {
      "text/plain": [
       "Pipeline(steps=[('tfidf', TfidfVectorizer()), ('c', LinearSVC())])"
      ]
     },
     "execution_count": 10,
     "metadata": {},
     "output_type": "execute_result"
    }
   ],
   "source": [
    "from sklearn.svm import LinearSVC\n",
    "from sklearn.pipeline import Pipeline\n",
    "\n",
    "text_svc = Pipeline([\n",
    "    (\"tfidf\", TfidfVectorizer()),\n",
    "    (\"c\", LinearSVC())\n",
    "])\n",
    "\n",
    "text_svc"
   ]
  },
  {
   "cell_type": "code",
   "execution_count": 11,
   "id": "0680c3d4-b930-4b27-858e-2030587d2934",
   "metadata": {},
   "outputs": [],
   "source": [
    "text_svc.fit(X_train, y_train)\n",
    "predictions = text_svc.predict(X_test)"
   ]
  },
  {
   "cell_type": "code",
   "execution_count": 12,
   "id": "0c9d73d0-c7ea-4947-8728-20ffd4c7f7af",
   "metadata": {},
   "outputs": [
    {
     "name": "stdout",
     "output_type": "stream",
     "text": [
      "              precision    recall  f1-score   support\n",
      "\n",
      "           0       0.98      1.00      0.99      1205\n",
      "           1       0.98      0.88      0.93       188\n",
      "\n",
      "    accuracy                           0.98      1393\n",
      "   macro avg       0.98      0.94      0.96      1393\n",
      "weighted avg       0.98      0.98      0.98      1393\n",
      "\n",
      "0.9820531227566404\n"
     ]
    }
   ],
   "source": [
    "from sklearn.metrics import confusion_matrix, classification_report, accuracy_score, roc_curve, roc_auc_score\n",
    "\n",
    "confusion_matrix(y_test, predictions)\n",
    "print(classification_report(y_test, predictions))\n",
    "print(accuracy_score(y_test, predictions))"
   ]
  },
  {
   "cell_type": "markdown",
   "id": "b9349ab3-4a95-4ad1-84e4-324309621e08",
   "metadata": {},
   "source": [
    "### LogisticRegression"
   ]
  },
  {
   "cell_type": "code",
   "execution_count": 13,
   "id": "f9bd87f3-fd67-4562-b591-3c3020ed9b21",
   "metadata": {},
   "outputs": [
    {
     "data": {
      "text/plain": [
       "Pipeline(steps=[('tfidf', TfidfVectorizer()), ('c', LogisticRegression())])"
      ]
     },
     "execution_count": 13,
     "metadata": {},
     "output_type": "execute_result"
    }
   ],
   "source": [
    "from sklearn.linear_model import LogisticRegression\n",
    "from sklearn.pipeline import Pipeline\n",
    "\n",
    "text_lr = Pipeline([\n",
    "    (\"tfidf\", TfidfVectorizer()),\n",
    "    (\"c\", LogisticRegression())\n",
    "])\n",
    "\n",
    "text_lr"
   ]
  },
  {
   "cell_type": "code",
   "execution_count": 14,
   "id": "36905522-488d-4213-bf40-5049520d6706",
   "metadata": {},
   "outputs": [],
   "source": [
    "text_lr.fit(X_train, y_train)\n",
    "predictions = text_lr.predict(X_test)"
   ]
  },
  {
   "cell_type": "code",
   "execution_count": 15,
   "id": "351691c6-66cd-42da-8481-cf876e6e8fa0",
   "metadata": {},
   "outputs": [
    {
     "name": "stdout",
     "output_type": "stream",
     "text": [
      "              precision    recall  f1-score   support\n",
      "\n",
      "           0       0.96      1.00      0.98      1205\n",
      "           1       1.00      0.71      0.83       188\n",
      "\n",
      "    accuracy                           0.96      1393\n",
      "   macro avg       0.98      0.86      0.91      1393\n",
      "weighted avg       0.96      0.96      0.96      1393\n",
      "\n",
      "0.9612347451543432\n"
     ]
    }
   ],
   "source": [
    "from sklearn.metrics import confusion_matrix, classification_report, accuracy_score, roc_curve, roc_auc_score\n",
    "\n",
    "confusion_matrix(y_test, predictions)\n",
    "print(classification_report(y_test, predictions))\n",
    "print(accuracy_score(y_test, predictions))"
   ]
  },
  {
   "cell_type": "code",
   "execution_count": 16,
   "id": "637a486c-ef9d-4880-b621-87d2136221e0",
   "metadata": {},
   "outputs": [],
   "source": [
    "y_prob_lr = text_lr.predict_proba(X_test)\n",
    "# Slice do predict proba\n",
    "y_prob_lr = y_prob_lr[:,1] "
   ]
  },
  {
   "cell_type": "code",
   "execution_count": 17,
   "id": "c4dfd3c0-5bdd-429b-a407-bc960f8254de",
   "metadata": {},
   "outputs": [
    {
     "data": {
      "image/png": "[encoded data removed]",
      "text/plain": [
       "<Figure size 432x288 with 1 Axes>"
      ]
     },
     "metadata": {
      "needs_background": "light"
     },
     "output_type": "display_data"
    }
   ],
   "source": [
    "# ROC-AUC \n",
    "fp, tp, thresholds = roc_curve(y_test, y_prob_lr)\n",
    "plt.plot(fp, tp, color = 'red', label = 'ROC')\n",
    "plt.plot([0,1], [0,1], color='green', linestyle='--')\n",
    "plt.xlabel('False Positive Rate')\n",
    "plt.ylabel('True Positive Rate')\n",
    "plt.title('ROC CURVE')\n",
    "plt.legend()\n",
    "plt.show()"
   ]
  },
  {
   "cell_type": "code",
   "execution_count": 19,
   "id": "569dd56a-b8af-477e-b0d6-5e4d18cc87ad",
   "metadata": {},
   "outputs": [
    {
     "name": "stdout",
     "output_type": "stream",
     "text": [
      "0.9841793943674406\n"
     ]
    }
   ],
   "source": [
    "auc = roc_auc_score(y_test, y_prob_lr)\n",
    "print(auc)"
   ]
  },
  {
   "cell_type": "markdown",
   "id": "ebd26cfe-7d1e-4f73-a0e8-f9bda1e78e2f",
   "metadata": {},
   "source": [
    "### Random Forest Classifier"
   ]
  },
  {
   "cell_type": "code",
   "execution_count": 20,
   "id": "a1c02933-b02f-4b10-a001-885d36a6ad55",
   "metadata": {},
   "outputs": [
    {
     "data": {
      "text/plain": [
       "Pipeline(steps=[('tfidf', TfidfVectorizer()), ('c', RandomForestClassifier())])"
      ]
     },
     "execution_count": 20,
     "metadata": {},
     "output_type": "execute_result"
    }
   ],
   "source": [
    "from sklearn.ensemble import RandomForestClassifier\n",
    "from sklearn.pipeline import Pipeline\n",
    "\n",
    "text_rf = Pipeline([\n",
    "    (\"tfidf\", TfidfVectorizer()),\n",
    "    (\"c\", RandomForestClassifier())\n",
    "])\n",
    "\n",
    "text_rf"
   ]
  },
  {
   "cell_type": "code",
   "execution_count": 21,
   "id": "0e99f76e-05e8-4ecd-88c0-0f3174279f92",
   "metadata": {},
   "outputs": [],
   "source": [
    "text_rf.fit(X_train, y_train)\n",
    "predictions = text_rf.predict(X_test)"
   ]
  },
  {
   "cell_type": "code",
   "execution_count": 22,
   "id": "ef2578d4-a0ca-4bc5-b2c1-d64a5e38d6f4",
   "metadata": {},
   "outputs": [
    {
     "name": "stdout",
     "output_type": "stream",
     "text": [
      "              precision    recall  f1-score   support\n",
      "\n",
      "           0       0.97      1.00      0.98      1205\n",
      "           1       1.00      0.80      0.89       188\n",
      "\n",
      "    accuracy                           0.97      1393\n",
      "   macro avg       0.99      0.90      0.94      1393\n",
      "weighted avg       0.97      0.97      0.97      1393\n",
      "\n",
      "0.9734386216798278\n"
     ]
    }
   ],
   "source": [
    "from sklearn.metrics import confusion_matrix, classification_report, accuracy_score, roc_curve, roc_auc_score\n",
    "\n",
    "confusion_matrix(y_test, predictions)\n",
    "print(classification_report(y_test, predictions))\n",
    "print(accuracy_score(y_test, predictions))"
   ]
  },
  {
   "cell_type": "code",
   "execution_count": 23,
   "id": "a6e133c6-a33b-423f-b899-ba4cae49b362",
   "metadata": {},
   "outputs": [],
   "source": [
    "y_prob_rf = text_rf.predict_proba(X_test)\n",
    "y_prob_rf = y_prob_rf[:,1]"
   ]
  },
  {
   "cell_type": "code",
   "execution_count": 25,
   "id": "aef31342-56ad-4f82-877c-6a7bc540cfc5",
   "metadata": {},
   "outputs": [
    {
     "data": {
      "image/png": "[encoded data removed]",
      "text/plain": [
       "<Figure size 432x288 with 1 Axes>"
      ]
     },
     "metadata": {
      "needs_background": "light"
     },
     "output_type": "display_data"
    }
   ],
   "source": [
    "# ROC-AUC \n",
    "fp, tp, thresholds = roc_curve(y_test, y_prob_rf)\n",
    "plt.plot(fp, tp, color = 'red', label = 'ROC')\n",
    "plt.plot([0,1], [0,1], color='green', linestyle='--')\n",
    "plt.xlabel('False Positive Rate')\n",
    "plt.ylabel('True Positive Rate')\n",
    "plt.title('ROC CURVE')\n",
    "plt.legend()\n",
    "plt.show()"
   ]
  },
  {
   "cell_type": "code",
   "execution_count": 27,
   "id": "48304915-2e9f-4376-8d4a-b1b63fed3b8d",
   "metadata": {},
   "outputs": [
    {
     "name": "stdout",
     "output_type": "stream",
     "text": [
      "0.9803522556722875\n"
     ]
    }
   ],
   "source": [
    "auc = roc_auc_score(y_test, y_prob_rf)\n",
    "print(auc)"
   ]
  },
  {
   "cell_type": "markdown",
   "id": "a0eec670-af5a-4178-a024-ebfd97d0dab8",
   "metadata": {},
   "source": [
    "### PCA\n",
    "\n",
    "- Tem que fazer scale nos dados"
   ]
  },
  {
   "cell_type": "code",
   "execution_count": null,
   "id": "dccc62fd-91c9-443b-bdbc-b64ced000ac7",
   "metadata": {},
   "outputs": [],
   "source": []
  },
  {
   "cell_type": "code",
   "execution_count": null,
   "id": "16dcadaa-fa2e-4bc6-bc74-d101e84ec4f3",
   "metadata": {},
   "outputs": [],
   "source": []
  },
  {
   "cell_type": "code",
   "execution_count": null,
   "id": "1f5afc0a-738b-4ae0-8fb9-a2f2f7fccf53",
   "metadata": {},
   "outputs": [],
   "source": []
  },
  {
   "cell_type": "code",
   "execution_count": null,
   "id": "a87f93ef-469b-466f-b964-ec13b49d7adb",
   "metadata": {},
   "outputs": [],
   "source": []
  },
  {
   "cell_type": "code",
   "execution_count": null,
   "id": "34f3c7ac-5ec0-4c75-adc7-e827cf3efb48",
   "metadata": {},
   "outputs": [],
   "source": []
  },
  {
   "cell_type": "code",
   "execution_count": null,
   "id": "c5bb27a0-0443-4fa3-bb48-7ae6f9a0aa26",
   "metadata": {},
   "outputs": [],
   "source": []
  }
 ],
 "metadata": {
  "kernelspec": {
   "display_name": "Python 3",
   "language": "python",
   "name": "python3"
  },
  "language_info": {
   "codemirror_mode": {
    "name": "ipython",
    "version": 3
   },
   "file_extension": ".py",
   "mimetype": "text/x-python",
   "name": "python",
   "nbconvert_exporter": "python",
   "pygments_lexer": "ipython3",
   "version": "3.8.8"
  }
 },
 "nbformat": 4,
 "nbformat_minor": 5
}
