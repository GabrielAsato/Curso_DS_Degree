{
 "cells": [
  {
   "cell_type": "markdown",
   "id": "89c92c39-0705-4d1f-8b5a-3d275054435c",
   "metadata": {},
   "source": [
    "## Aula 3 - BoW - Bag of Words: mochila de palavras (CountVectorizer e tf-idf)"
   ]
  },
  {
   "cell_type": "markdown",
   "id": "57e29662-15b5-459f-b3a0-e7dcb662c2b3",
   "metadata": {},
   "source": [
    "- **BoW** : transformar textos em matrizes por similaridade -> transfomração esparsa\n",
    "- **Embbedings** : transformação densa\n",
    "- **tf-idf** = tf(t,d) * idf(t,D), onde idf(t,D) = log(|D|/{n_t}) -> Importância de um termo t.\n",
    "- **sklearn** : CountVectorizer e TfidfTransformer -> TfidfVectorizer "
   ]
  },
  {
   "cell_type": "code",
   "execution_count": 1,
   "id": "161f2848-6892-4e5d-a1a2-1d2bf51c128b",
   "metadata": {},
   "outputs": [
    {
     "name": "stderr",
     "output_type": "stream",
     "text": [
      "[nltk_data] Downloading package stopwords to\n",
      "[nltk_data]     C:\\Users\\gabri\\AppData\\Roaming\\nltk_data...\n",
      "[nltk_data]   Package stopwords is already up-to-date!\n",
      "[nltk_data] Downloading package punkt to\n",
      "[nltk_data]     C:\\Users\\gabri\\AppData\\Roaming\\nltk_data...\n",
      "[nltk_data]   Package punkt is already up-to-date!\n"
     ]
    }
   ],
   "source": [
    "# Carrega as bibliotecas\n",
    "import pandas as pd\n",
    "import numpy as np\n",
    "import seaborn as sns\n",
    "import matplotlib.pyplot as plt\n",
    "import nltk\n",
    "from nltk.stem.porter import *\n",
    "from nltk.tokenize import word_tokenize\n",
    "from nltk.corpus import stopwords\n",
    "import re\n",
    "\n",
    "# Baixa as listas de stopwords e as tokenizações\n",
    "nltk.download('stopwords')\n",
    "nltk.download('punkt')\n",
    "\n",
    "# Define as stopwords em inglês\n",
    "sw_english = set(stopwords.words('english'))\n",
    "\n",
    "# Instancia o PorterStemmer | trocar por lemmatização\n",
    "stemmer = PorterStemmer()"
   ]
  },
  {
   "cell_type": "code",
   "execution_count": 82,
   "id": "f8ad9cfc-d47c-41e7-b505-e400506e9c6b",
   "metadata": {},
   "outputs": [],
   "source": [
    "# Carrega o conjunto de dados\n",
    "movies = pd.read_csv('dataset/movies.csv', index_col = 0)\n",
    "\n",
    "# Retira uma amostra do conjunto de dados\n",
    "movies_sample = movies.sample(frac = 0.1, replace=False)\n",
    "\n",
    "# Cria um pipeline\n",
    "def pre_text(string):\n",
    "    string = re.sub(r\"[^a-zA-Z0-9]+\", \" \", string)\n",
    "    string = string.lower()\n",
    "    words = word_tokenize(string)\n",
    "    filter_words = [word for word in words if word not in sw_english]\n",
    "    stem_words = []\n",
    "    for word in filter_words:\n",
    "        sw = stemmer.stem(word)\n",
    "        stem_words.append(sw)\n",
    "    return stem_words"
   ]
  },
  {
   "cell_type": "code",
   "execution_count": 83,
   "id": "c21e172b-d18d-4c75-a8a5-b5eb2d3b68d9",
   "metadata": {},
   "outputs": [
    {
     "data": {
      "text/html": [
       "<div>\n",
       "<style scoped>\n",
       "    .dataframe tbody tr th:only-of-type {\n",
       "        vertical-align: middle;\n",
       "    }\n",
       "\n",
       "    .dataframe tbody tr th {\n",
       "        vertical-align: top;\n",
       "    }\n",
       "\n",
       "    .dataframe thead th {\n",
       "        text-align: right;\n",
       "    }\n",
       "</style>\n",
       "<table border=\"1\" class=\"dataframe\">\n",
       "  <thead>\n",
       "    <tr style=\"text-align: right;\">\n",
       "      <th></th>\n",
       "      <th>text</th>\n",
       "      <th>label</th>\n",
       "    </tr>\n",
       "  </thead>\n",
       "  <tbody>\n",
       "    <tr>\n",
       "      <th>33740</th>\n",
       "      <td>I am in a movie club at my school and I was fo...</td>\n",
       "      <td>0</td>\n",
       "    </tr>\n",
       "    <tr>\n",
       "      <th>33357</th>\n",
       "      <td>First things first, how can someone with his c...</td>\n",
       "      <td>0</td>\n",
       "    </tr>\n",
       "    <tr>\n",
       "      <th>3036</th>\n",
       "      <td>I have two good things to say about this film:...</td>\n",
       "      <td>0</td>\n",
       "    </tr>\n",
       "    <tr>\n",
       "      <th>19522</th>\n",
       "      <td>Whoo-boy, that was definitely one of the worst...</td>\n",
       "      <td>0</td>\n",
       "    </tr>\n",
       "    <tr>\n",
       "      <th>23104</th>\n",
       "      <td>This film was the worst film I have ever seen....</td>\n",
       "      <td>0</td>\n",
       "    </tr>\n",
       "  </tbody>\n",
       "</table>\n",
       "</div>"
      ],
      "text/plain": [
       "                                                    text  label\n",
       "33740  I am in a movie club at my school and I was fo...      0\n",
       "33357  First things first, how can someone with his c...      0\n",
       "3036   I have two good things to say about this film:...      0\n",
       "19522  Whoo-boy, that was definitely one of the worst...      0\n",
       "23104  This film was the worst film I have ever seen....      0"
      ]
     },
     "execution_count": 83,
     "metadata": {},
     "output_type": "execute_result"
    }
   ],
   "source": [
    "movies_sample.head()"
   ]
  },
  {
   "cell_type": "code",
   "execution_count": 84,
   "id": "a01a3274-e8be-4dc7-89a1-40d448fd560c",
   "metadata": {},
   "outputs": [
    {
     "data": {
      "text/plain": [
       "\"I am in a movie club at my school and I was forced to sit and watch this utterly dismal film. The film's story is not dismal, but the entire movie itself is exceedingly dismal. The acting was absolutely dreadful. The children were overly whiny. A metal pole could have done a better job. I wanted desperately to fall asleep, but because the television was so loud, I was kept from peace. The monkey's are neither cute, nor are they funny. The drama is laugh-worthy. I cannot remember when I saw a more dreadful film. The story is weak, thin, predictable, and completely fake. The adults try to be good actors, but they just can't seem to break through stereotypes. The girl even appears to want to leave the film via falling off a hill during the movie in order to leave it, I don't blame her. Micheal Anderson should publicly apologize for this film. Not just to me, but to everyone else who was forced to sit through this awful film. In fact, I apologize to you. Even if I had nothing to do with this project, I apologize for this film, because this means at least someone will. This film even surpasses the dismalness of films that of Rob Schneider and the Cheetah Girls. I would even go as far to say that it is even worse that Hilary Duff's collection of films, but that's pushing it. Just please don't see this film, or else you'll be pushed to write a review similar to this one on how awful this film is. I'm very sorry.\""
      ]
     },
     "execution_count": 84,
     "metadata": {},
     "output_type": "execute_result"
    }
   ],
   "source": [
    "movies_sample.iloc[0,0]"
   ]
  },
  {
   "cell_type": "code",
   "execution_count": 85,
   "id": "9091649e-97c8-4150-aeb2-4f05572b64a5",
   "metadata": {},
   "outputs": [],
   "source": [
    "movies_sample['filtered_words'] = movies_sample[\"text\"].apply(lambda x: pre_text(x))\n",
    "\n",
    "movies_sample['join_words'] = movies_sample['filtered_words'].apply(lambda x: ' '.join(x))"
   ]
  },
  {
   "cell_type": "code",
   "execution_count": 86,
   "id": "46a82bec-cc20-494c-9ff6-44aff83051ff",
   "metadata": {},
   "outputs": [],
   "source": [
    "from sklearn.model_selection import train_test_split\n",
    "from sklearn.feature_extraction.text import CountVectorizer, TfidfTransformer, TfidfVectorizer\n",
    "\n",
    "X = movies_sample[\"join_words\"]\n",
    "y = movies_sample[\"label\"]\n",
    "\n",
    "X_train, X_test, y_train, y_test = train_test_split(X,y)"
   ]
  },
  {
   "cell_type": "code",
   "execution_count": 87,
   "id": "bb222282-fc1f-4b67-8ff3-1dbdea6d0b69",
   "metadata": {},
   "outputs": [
    {
     "data": {
      "text/plain": [
       "Pipeline(steps=[('tfidf', TfidfVectorizer()), ('c', RandomForestClassifier())])"
      ]
     },
     "execution_count": 87,
     "metadata": {},
     "output_type": "execute_result"
    }
   ],
   "source": [
    "from sklearn.svm import LinearSVC\n",
    "from sklearn.linear_model import LogisticRegression\n",
    "from sklearn.ensemble import RandomForestClassifier\n",
    "from sklearn.pipeline import Pipeline\n",
    "\n",
    "text_c = Pipeline([\n",
    "    (\"tfidf\", TfidfVectorizer()),\n",
    "    (\"c\", RandomForestClassifier())\n",
    "])\n",
    "\n",
    "text_c"
   ]
  },
  {
   "cell_type": "code",
   "execution_count": 88,
   "id": "4eb408f6-0627-4f7e-9f36-099aefb2f585",
   "metadata": {},
   "outputs": [],
   "source": [
    "text_c.fit(X_train, y_train)\n",
    "predictions = text_c.predict(X_test)"
   ]
  },
  {
   "cell_type": "code",
   "execution_count": 89,
   "id": "c5ae05b2-5525-4001-8c51-7c7d9cda2241",
   "metadata": {},
   "outputs": [
    {
     "data": {
      "text/plain": [
       "array([1, 0, 0, ..., 0, 0, 1], dtype=int64)"
      ]
     },
     "execution_count": 89,
     "metadata": {},
     "output_type": "execute_result"
    }
   ],
   "source": [
    "predictions"
   ]
  },
  {
   "cell_type": "code",
   "execution_count": 90,
   "id": "cfbfed99-a10c-4ea0-87c7-1711c37883c5",
   "metadata": {},
   "outputs": [
    {
     "data": {
      "text/plain": [
       "array([[527, 115],\n",
       "       [ 90, 518]], dtype=int64)"
      ]
     },
     "execution_count": 90,
     "metadata": {},
     "output_type": "execute_result"
    }
   ],
   "source": [
    "from sklearn.metrics import confusion_matrix, classification_report, accuracy_score, roc_curve, roc_auc_score\n",
    "\n",
    "confusion_matrix(y_test, predictions)"
   ]
  },
  {
   "cell_type": "code",
   "execution_count": 91,
   "id": "de571c3b-36f8-4bea-a960-e465e039d364",
   "metadata": {},
   "outputs": [
    {
     "name": "stdout",
     "output_type": "stream",
     "text": [
      "              precision    recall  f1-score   support\n",
      "\n",
      "           0       0.85      0.82      0.84       642\n",
      "           1       0.82      0.85      0.83       608\n",
      "\n",
      "    accuracy                           0.84      1250\n",
      "   macro avg       0.84      0.84      0.84      1250\n",
      "weighted avg       0.84      0.84      0.84      1250\n",
      "\n"
     ]
    }
   ],
   "source": [
    "print(classification_report(y_test, predictions))"
   ]
  },
  {
   "cell_type": "code",
   "execution_count": 92,
   "id": "2a17d250-364f-4c9c-99df-cb508ecb50fb",
   "metadata": {},
   "outputs": [
    {
     "name": "stdout",
     "output_type": "stream",
     "text": [
      "0.836\n"
     ]
    }
   ],
   "source": [
    "print(accuracy_score(y_test, predictions))"
   ]
  },
  {
   "cell_type": "code",
   "execution_count": 94,
   "id": "4670f6a0-c495-4c1d-81d3-595e38d5ad03",
   "metadata": {},
   "outputs": [],
   "source": [
    "y_prob_rf = text_c.predict_proba(X_test)\n",
    "# Slice do predict proba\n",
    "y_prob_rf = y_prob_rf[:, 1]"
   ]
  },
  {
   "cell_type": "code",
   "execution_count": 96,
   "id": "4753541e-5fbd-4a71-a4cf-51197d76cde5",
   "metadata": {},
   "outputs": [
    {
     "data": {
      "text/plain": [
       "array([0.66, 0.29, 0.28, ..., 0.37, 0.3 , 0.6 ])"
      ]
     },
     "execution_count": 96,
     "metadata": {},
     "output_type": "execute_result"
    }
   ],
   "source": [
    "y_prob_rf"
   ]
  },
  {
   "cell_type": "code",
   "execution_count": 99,
   "id": "7797a4a3-552f-4c88-b7fa-41c3ebe76159",
   "metadata": {},
   "outputs": [
    {
     "data": {
      "image/png": "[encoded data removed]",
      "text/plain": [
       "<Figure size 432x288 with 1 Axes>"
      ]
     },
     "metadata": {
      "needs_background": "light"
     },
     "output_type": "display_data"
    }
   ],
   "source": [
    "# ROC-AUC \n",
    "fp, tp, thresholds = roc_curve(y_test, y_prob_rf)\n",
    "plt.plot(fp, tp, color = 'red', label = 'ROC')\n",
    "plt.plot([0,1], [0,1], color='green', linestyle='--')\n",
    "plt.xlabel('False Positive Rate')\n",
    "plt.ylabel('True Positive Rate')\n",
    "plt.title('ROC CURVE')\n",
    "plt.legend()\n",
    "plt.show()"
   ]
  },
  {
   "cell_type": "code",
   "execution_count": 100,
   "id": "aaff8733-0e38-4aa6-8f20-b51c93af889d",
   "metadata": {},
   "outputs": [
    {
     "name": "stdout",
     "output_type": "stream",
     "text": [
      "0.9163951057550418\n"
     ]
    }
   ],
   "source": [
    "auc = roc_auc_score(y_test, y_prob_rf)\n",
    "print(auc)"
   ]
  },
  {
   "cell_type": "markdown",
   "id": "cb2e0500-540f-4c2b-8168-8c4d1cf8ea04",
   "metadata": {},
   "source": [
    "LeIA: https://github.com/rafjaa/LeIA"
   ]
  },
  {
   "cell_type": "markdown",
   "id": "b0ba7a9b-6e43-4182-bd4d-b7d7ae97122a",
   "metadata": {},
   "source": [
    "----"
   ]
  },
  {
   "cell_type": "markdown",
   "id": "ea191c11-7884-43ac-b45c-54f5bfc6aff7",
   "metadata": {},
   "source": [
    "#### Exercício"
   ]
  },
  {
   "cell_type": "code",
   "execution_count": 101,
   "id": "ccf5f86b-0e9e-4bd2-9ae6-23249905fb39",
   "metadata": {},
   "outputs": [],
   "source": [
    "# Carrega as bibliotecas\n",
    "import pandas as pd\n",
    "import numpy as np\n",
    "import seaborn as sns\n",
    "import matplotlib.pyplot as plt\n",
    "import nltk\n",
    "from nltk.stem.porter import *\n",
    "from nltk.tokenize import word_tokenize\n",
    "from nltk.corpus import stopwords\n",
    "import re"
   ]
  },
  {
   "cell_type": "code",
   "execution_count": 102,
   "id": "6b24e6ee-b195-44e9-b7b7-ae3535c505ba",
   "metadata": {},
   "outputs": [
    {
     "data": {
      "text/html": [
       "<div>\n",
       "<style scoped>\n",
       "    .dataframe tbody tr th:only-of-type {\n",
       "        vertical-align: middle;\n",
       "    }\n",
       "\n",
       "    .dataframe tbody tr th {\n",
       "        vertical-align: top;\n",
       "    }\n",
       "\n",
       "    .dataframe thead th {\n",
       "        text-align: right;\n",
       "    }\n",
       "</style>\n",
       "<table border=\"1\" class=\"dataframe\">\n",
       "  <thead>\n",
       "    <tr style=\"text-align: right;\">\n",
       "      <th></th>\n",
       "      <th>label</th>\n",
       "      <th>message</th>\n",
       "    </tr>\n",
       "  </thead>\n",
       "  <tbody>\n",
       "    <tr>\n",
       "      <th>0</th>\n",
       "      <td>ham</td>\n",
       "      <td>Go until jurong point, crazy.. Available only ...</td>\n",
       "    </tr>\n",
       "    <tr>\n",
       "      <th>1</th>\n",
       "      <td>ham</td>\n",
       "      <td>Ok lar... Joking wif u oni...</td>\n",
       "    </tr>\n",
       "    <tr>\n",
       "      <th>2</th>\n",
       "      <td>spam</td>\n",
       "      <td>Free entry in 2 a wkly comp to win FA Cup fina...</td>\n",
       "    </tr>\n",
       "    <tr>\n",
       "      <th>3</th>\n",
       "      <td>ham</td>\n",
       "      <td>U dun say so early hor... U c already then say...</td>\n",
       "    </tr>\n",
       "    <tr>\n",
       "      <th>4</th>\n",
       "      <td>ham</td>\n",
       "      <td>Nah I don't think he goes to usf, he lives aro...</td>\n",
       "    </tr>\n",
       "  </tbody>\n",
       "</table>\n",
       "</div>"
      ],
      "text/plain": [
       "  label                                            message\n",
       "0   ham  Go until jurong point, crazy.. Available only ...\n",
       "1   ham                      Ok lar... Joking wif u oni...\n",
       "2  spam  Free entry in 2 a wkly comp to win FA Cup fina...\n",
       "3   ham  U dun say so early hor... U c already then say...\n",
       "4   ham  Nah I don't think he goes to usf, he lives aro..."
      ]
     },
     "execution_count": 102,
     "metadata": {},
     "output_type": "execute_result"
    }
   ],
   "source": [
    "spam = pd.read_csv(\"dataset/SMSSpamCollection\", sep = \"\\t\", names = [\"label\",\"message\"])\n",
    "spam.head()\n",
    "# Queremos determinar se a mensagem é um spam (1) ou não (0)"
   ]
  },
  {
   "cell_type": "code",
   "execution_count": 124,
   "id": "a741e8e7-c6ae-453b-9efd-11b6211fb434",
   "metadata": {},
   "outputs": [
    {
     "name": "stdout",
     "output_type": "stream",
     "text": [
      "<class 'pandas.core.frame.DataFrame'>\n",
      "RangeIndex: 5572 entries, 0 to 5571\n",
      "Data columns (total 4 columns):\n",
      " #   Column          Non-Null Count  Dtype \n",
      "---  ------          --------------  ----- \n",
      " 0   label           5572 non-null   object\n",
      " 1   message         5572 non-null   object\n",
      " 2   filtered_words  5572 non-null   object\n",
      " 3   join_words      5572 non-null   object\n",
      "dtypes: object(4)\n",
      "memory usage: 174.2+ KB\n"
     ]
    }
   ],
   "source": [
    "spam.info()\n",
    "# Sem valores nulos"
   ]
  },
  {
   "cell_type": "code",
   "execution_count": 126,
   "id": "5d0240aa-44a3-4fd1-94a6-e3b3a3fb4f5f",
   "metadata": {},
   "outputs": [],
   "source": [
    "# Trocar os nomes das classes para 0 ('ham') e 1 ('spam')\n",
    "spam[\"label\"].replace(\"ham\", 0, inplace = True)\n",
    "spam[\"label\"].replace(\"spam\", 1, inplace = True)"
   ]
  },
  {
   "cell_type": "code",
   "execution_count": 128,
   "id": "bcbd5ddc-7231-4742-ac01-f31519848155",
   "metadata": {},
   "outputs": [
    {
     "data": {
      "text/plain": [
       "array([0, 1], dtype=int64)"
      ]
     },
     "execution_count": 128,
     "metadata": {},
     "output_type": "execute_result"
    }
   ],
   "source": [
    "spam[\"label\"].unique()"
   ]
  },
  {
   "cell_type": "code",
   "execution_count": 129,
   "id": "80359d5e-f954-4641-ba8d-beab7c627875",
   "metadata": {},
   "outputs": [
    {
     "name": "stderr",
     "output_type": "stream",
     "text": [
      "[nltk_data] Downloading package stopwords to\n",
      "[nltk_data]     C:\\Users\\gabri\\AppData\\Roaming\\nltk_data...\n",
      "[nltk_data]   Package stopwords is already up-to-date!\n",
      "[nltk_data] Downloading package punkt to\n",
      "[nltk_data]     C:\\Users\\gabri\\AppData\\Roaming\\nltk_data...\n",
      "[nltk_data]   Package punkt is already up-to-date!\n"
     ]
    }
   ],
   "source": [
    "# Baixa as listas de stopwords e as tokenizações\n",
    "nltk.download('stopwords')\n",
    "nltk.download('punkt')\n",
    "\n",
    "# Define as stopwords em inglês\n",
    "sw_english = set(stopwords.words('english'))\n",
    "\n",
    "# Instancia o PorterStemmer | trocar por lemmatização\n",
    "stemmer = PorterStemmer()"
   ]
  },
  {
   "cell_type": "code",
   "execution_count": 130,
   "id": "6ae4fc44-ea26-4f97-a2d8-5f1f9715272f",
   "metadata": {},
   "outputs": [],
   "source": [
    "# Cria um pipeline\n",
    "def pre_text(string):\n",
    "    string = re.sub(r\"[^a-zA-Z0-9]+\", \" \", string)\n",
    "    string = string.lower()\n",
    "    words = word_tokenize(string)\n",
    "    filter_words = [word for word in words if word not in sw_english]\n",
    "    stem_words = []\n",
    "    for word in filter_words:\n",
    "        sw = stemmer.stem(word)\n",
    "        stem_words.append(sw)\n",
    "    return stem_words"
   ]
  },
  {
   "cell_type": "code",
   "execution_count": 131,
   "id": "1d8c315d-c08c-4099-8ac0-7987573cb255",
   "metadata": {},
   "outputs": [],
   "source": [
    "spam['filtered_words'] = spam[\"message\"].apply(lambda x: pre_text(x))\n",
    "spam['join_words'] = spam['filtered_words'].apply(lambda x: ' '.join(x))"
   ]
  },
  {
   "cell_type": "code",
   "execution_count": 132,
   "id": "f0acf395-bd63-42e5-b187-c963508b8c1f",
   "metadata": {},
   "outputs": [],
   "source": [
    "from sklearn.model_selection import train_test_split\n",
    "from sklearn.feature_extraction.text import CountVectorizer, TfidfTransformer, TfidfVectorizer\n",
    "\n",
    "X = spam[\"join_words\"]\n",
    "y = spam[\"label\"]\n",
    "\n",
    "X_train, X_test, y_train, y_test = train_test_split(X,y)"
   ]
  },
  {
   "cell_type": "code",
   "execution_count": 133,
   "id": "b9c02947-d19a-49a7-832f-1bdeb4ef0b21",
   "metadata": {},
   "outputs": [
    {
     "data": {
      "text/plain": [
       "Pipeline(steps=[('tfidf', TfidfVectorizer()), ('c', RandomForestClassifier())])"
      ]
     },
     "execution_count": 133,
     "metadata": {},
     "output_type": "execute_result"
    }
   ],
   "source": [
    "from sklearn.svm import LinearSVC\n",
    "from sklearn.linear_model import LogisticRegression\n",
    "from sklearn.ensemble import RandomForestClassifier\n",
    "from sklearn.pipeline import Pipeline\n",
    "\n",
    "text_c = Pipeline([\n",
    "    (\"tfidf\", TfidfVectorizer()),\n",
    "    (\"c\", RandomForestClassifier())\n",
    "])\n",
    "\n",
    "text_c"
   ]
  },
  {
   "cell_type": "code",
   "execution_count": 134,
   "id": "8af125a6-e6f4-4553-ab72-fa3e8c8e68f6",
   "metadata": {},
   "outputs": [],
   "source": [
    "text_c.fit(X_train, y_train)\n",
    "predictions = text_c.predict(X_test)"
   ]
  },
  {
   "cell_type": "code",
   "execution_count": 135,
   "id": "0f15a287-e964-4de5-91c7-6ba7343ab13d",
   "metadata": {},
   "outputs": [
    {
     "data": {
      "text/plain": [
       "array([[1202,    0],\n",
       "       [  26,  165]], dtype=int64)"
      ]
     },
     "execution_count": 135,
     "metadata": {},
     "output_type": "execute_result"
    }
   ],
   "source": [
    "from sklearn.metrics import confusion_matrix, classification_report, accuracy_score, roc_curve, roc_auc_score\n",
    "\n",
    "confusion_matrix(y_test, predictions)"
   ]
  },
  {
   "cell_type": "code",
   "execution_count": 136,
   "id": "74832167-463b-4ac4-8d66-b95204a05257",
   "metadata": {},
   "outputs": [
    {
     "name": "stdout",
     "output_type": "stream",
     "text": [
      "              precision    recall  f1-score   support\n",
      "\n",
      "           0       0.98      1.00      0.99      1202\n",
      "           1       1.00      0.86      0.93       191\n",
      "\n",
      "    accuracy                           0.98      1393\n",
      "   macro avg       0.99      0.93      0.96      1393\n",
      "weighted avg       0.98      0.98      0.98      1393\n",
      "\n"
     ]
    }
   ],
   "source": [
    "print(classification_report(y_test, predictions))"
   ]
  },
  {
   "cell_type": "code",
   "execution_count": 137,
   "id": "e4373202-cced-474c-8bdd-35eb78bd229a",
   "metadata": {},
   "outputs": [
    {
     "name": "stdout",
     "output_type": "stream",
     "text": [
      "0.9813352476669059\n"
     ]
    }
   ],
   "source": [
    "print(accuracy_score(y_test, predictions))"
   ]
  },
  {
   "cell_type": "code",
   "execution_count": 138,
   "id": "fa0b31a0-c81a-4f00-9632-cffe1bf161e6",
   "metadata": {},
   "outputs": [],
   "source": [
    "y_prob_rf = text_c.predict_proba(X_test)\n",
    "# Slice do predict proba\n",
    "y_prob_rf = y_prob_rf[:,1] "
   ]
  },
  {
   "cell_type": "code",
   "execution_count": 139,
   "id": "3015d07d-68ac-4eeb-a26a-9c9b913d2d95",
   "metadata": {},
   "outputs": [
    {
     "data": {
      "text/plain": [
       "array([0.  , 0.  , 0.05, ..., 0.02, 0.  , 0.14])"
      ]
     },
     "execution_count": 139,
     "metadata": {},
     "output_type": "execute_result"
    }
   ],
   "source": [
    "y_prob_rf"
   ]
  },
  {
   "cell_type": "code",
   "execution_count": 140,
   "id": "a1013938-ef22-4375-b7d7-687abc292371",
   "metadata": {},
   "outputs": [
    {
     "data": {
      "image/png": "[encoded data removed]",
      "text/plain": [
       "<Figure size 432x288 with 1 Axes>"
      ]
     },
     "metadata": {
      "needs_background": "light"
     },
     "output_type": "display_data"
    }
   ],
   "source": [
    "# ROC-AUC \n",
    "fp, tp, thresholds = roc_curve(y_test, y_prob_rf)\n",
    "plt.plot(fp, tp, color = 'red', label = 'ROC')\n",
    "plt.plot([0,1], [0,1], color='green', linestyle='--')\n",
    "plt.xlabel('False Positive Rate')\n",
    "plt.ylabel('True Positive Rate')\n",
    "plt.title('ROC CURVE')\n",
    "plt.legend()\n",
    "plt.show()"
   ]
  },
  {
   "cell_type": "code",
   "execution_count": 142,
   "id": "4aaf729c-3dc3-4689-b804-8d789bffcad7",
   "metadata": {},
   "outputs": [
    {
     "name": "stdout",
     "output_type": "stream",
     "text": [
      "0.9966613236229321\n"
     ]
    }
   ],
   "source": [
    "auc = roc_auc_score(y_test, y_prob_rf)\n",
    "print(auc)"
   ]
  },
  {
   "cell_type": "markdown",
   "id": "b0d1280b-a29c-4859-8757-4c8eb86c404c",
   "metadata": {},
   "source": [
    "#### Testando com LinearSVC"
   ]
  },
  {
   "cell_type": "code",
   "execution_count": 143,
   "id": "ec13ab05-51b2-49a7-9a35-8f703d72eb4a",
   "metadata": {},
   "outputs": [
    {
     "data": {
      "text/plain": [
       "Pipeline(steps=[('tfidf', TfidfVectorizer()), ('SVC', LinearSVC())])"
      ]
     },
     "execution_count": 143,
     "metadata": {},
     "output_type": "execute_result"
    }
   ],
   "source": [
    "from sklearn.svm import LinearSVC\n",
    "from sklearn.pipeline import Pipeline\n",
    "\n",
    "text_SVC = Pipeline([\n",
    "    (\"tfidf\", TfidfVectorizer()),\n",
    "    (\"SVC\", LinearSVC())\n",
    "])\n",
    "\n",
    "text_SVC"
   ]
  },
  {
   "cell_type": "markdown",
   "id": "48655dff-9a41-4932-a689-6927462be9cf",
   "metadata": {},
   "source": [
    "----"
   ]
  },
  {
   "cell_type": "markdown",
   "id": "38ab7a57-b735-48b3-aa3d-27ad0c34468b",
   "metadata": {},
   "source": [
    "### Análise de Sentimentos"
   ]
  },
  {
   "cell_type": "code",
   "execution_count": 144,
   "id": "84af5721-7752-4860-b0cb-2fab28998780",
   "metadata": {},
   "outputs": [
    {
     "name": "stderr",
     "output_type": "stream",
     "text": [
      "[nltk_data] Downloading package vader_lexicon to\n",
      "[nltk_data]     C:\\Users\\gabri\\AppData\\Roaming\\nltk_data...\n"
     ]
    },
    {
     "data": {
      "text/plain": [
       "True"
      ]
     },
     "execution_count": 144,
     "metadata": {},
     "output_type": "execute_result"
    }
   ],
   "source": [
    "nltk.download(\"vader_lexicon\")"
   ]
  },
  {
   "cell_type": "code",
   "execution_count": 146,
   "id": "d65f5188-cc23-4b9f-8d97-904c9ed42834",
   "metadata": {},
   "outputs": [],
   "source": [
    "from nltk.sentiment.vader import SentimentIntensityAnalyzer\n",
    "\n",
    "sentiment = SentimentIntensityAnalyzer()"
   ]
  },
  {
   "cell_type": "code",
   "execution_count": 152,
   "id": "817c37b1-1e75-47ae-883b-d1c938afcc2c",
   "metadata": {},
   "outputs": [
    {
     "name": "stdout",
     "output_type": "stream",
     "text": [
      "{'neg': 0.0, 'neu': 0.423, 'pos': 0.577, 'compound': 0.6249}\n"
     ]
    }
   ],
   "source": [
    "m = 'this movie is awesome'\n",
    "print(sentiment.polarity_scores(m))"
   ]
  },
  {
   "cell_type": "code",
   "execution_count": 153,
   "id": "64d3fcd0-5494-4755-8b66-39f3e0771b09",
   "metadata": {},
   "outputs": [
    {
     "name": "stdout",
     "output_type": "stream",
     "text": [
      "{'neg': 0.0, 'neu': 0.519, 'pos': 0.481, 'compound': 0.5719}\n"
     ]
    }
   ],
   "source": [
    "m = 'this ice cream is delicious'\n",
    "print(sentiment.polarity_scores(m))"
   ]
  },
  {
   "cell_type": "code",
   "execution_count": 154,
   "id": "57a36bde-c1d4-4b57-8e0c-6d40725312cc",
   "metadata": {},
   "outputs": [
    {
     "name": "stdout",
     "output_type": "stream",
     "text": [
      "{'neg': 0.0, 'neu': 0.132, 'pos': 0.868, 'compound': 0.765}\n"
     ]
    }
   ],
   "source": [
    "m = 'Happy good times'\n",
    "print(sentiment.polarity_scores(m))"
   ]
  }
 ],
 "metadata": {
  "kernelspec": {
   "display_name": "Python 3",
   "language": "python",
   "name": "python3"
  },
  "language_info": {
   "codemirror_mode": {
    "name": "ipython",
    "version": 3
   },
   "file_extension": ".py",
   "mimetype": "text/x-python",
   "name": "python",
   "nbconvert_exporter": "python",
   "pygments_lexer": "ipython3",
   "version": "3.8.8"
  }
 },
 "nbformat": 4,
 "nbformat_minor": 5
}
