{
 "cells": [
  {
   "cell_type": "markdown",
   "id": "5a0d5ea8",
   "metadata": {},
   "source": [
    "# Lista de Exercícios do Class"
   ]
  },
  {
   "cell_type": "code",
   "execution_count": 5,
   "id": "5850e6d4",
   "metadata": {},
   "outputs": [],
   "source": [
    "import numpy as np\n",
    "import pandas as pd"
   ]
  },
  {
   "cell_type": "code",
   "execution_count": 102,
   "id": "f5ac618e",
   "metadata": {},
   "outputs": [],
   "source": [
    "pd.options.display.float_format = '{:,.2f}'.format"
   ]
  },
  {
   "cell_type": "markdown",
   "id": "c0c9a9a9",
   "metadata": {},
   "source": [
    "## LC | Numpy - Manipulação de Arrays"
   ]
  },
  {
   "cell_type": "markdown",
   "id": "6203e129",
   "metadata": {},
   "source": [
    "### 1) \n",
    "Printe os elementos dos seguintes dois vetores usando apenas um for:\n",
    "\n",
    "```python\n",
    "arr = np.array([[[1, 2, 3], [4, 5, 6]], [[7, 8, 9], [10, 11, 12]]])\n",
    "```\n",
    "\n",
    "Depois, faça o mesmo usando numpy (usando a função nditer) e deixe um comentário sobre a diferença dos dois métodos.\n",
    "\n",
    "```python\n",
    "arr = np.array([[[1, 2, 3], [4, 5, 6]], [[7, 8, 9], [10, 11, 12]]])\n",
    "```"
   ]
  },
  {
   "cell_type": "code",
   "execution_count": 12,
   "id": "5b4567ef",
   "metadata": {},
   "outputs": [],
   "source": [
    "arr = np.array([[[1, 2, 3], [4, 5, 6]], [[7, 8, 9], [10, 11, 12]]])"
   ]
  },
  {
   "cell_type": "code",
   "execution_count": 13,
   "id": "a6679d62",
   "metadata": {},
   "outputs": [
    {
     "name": "stdout",
     "output_type": "stream",
     "text": [
      "[[1 2 3]\n",
      " [4 5 6]]\n",
      "[[ 7  8  9]\n",
      " [10 11 12]]\n"
     ]
    }
   ],
   "source": [
    "# loop \"for\"\n",
    "for element in arr:\n",
    "    print(element)"
   ]
  },
  {
   "cell_type": "code",
   "execution_count": 15,
   "id": "4e25e129",
   "metadata": {},
   "outputs": [
    {
     "name": "stdout",
     "output_type": "stream",
     "text": [
      "1\n",
      "2\n",
      "3\n",
      "4\n",
      "5\n",
      "6\n",
      "7\n",
      "8\n",
      "9\n",
      "10\n",
      "11\n",
      "12\n"
     ]
    }
   ],
   "source": [
    "# np.nditer()\n",
    "for element in np.nditer(arr):\n",
    "    print(element)"
   ]
  },
  {
   "cell_type": "markdown",
   "id": "69d3f301",
   "metadata": {},
   "source": [
    "**Resp**: Para o loop ``for``, os elementos iterados são listas, no caso, [1,2,3], [4,5,6], etc. Para o ``np.nditer(arr)`` o valor iterado são os elementos dentro de outras listas."
   ]
  },
  {
   "cell_type": "markdown",
   "id": "7a9d504c",
   "metadata": {},
   "source": [
    "### 2)\n",
    "Enunciado\n",
    "Peça para o usuário uma lista com as comidas favoritas dele, depois transforme isso em um objeto numpy. Agora transformado, elimine todas as comidas que começam com uma vogal. Mostre o resultado.\n",
    "\n",
    "Exemplo:\n",
    "```python\n",
    "Entrada: [maçã, uva, morango, melancia, acelga]\n",
    "```\n",
    "\n",
    "```python\n",
    "Saída: [maçã, morango, melancia]\n",
    "```"
   ]
  },
  {
   "cell_type": "code",
   "execution_count": 2,
   "id": "ee22e7b5",
   "metadata": {},
   "outputs": [],
   "source": [
    "comidas = [\"maçã\", \"uva\", \"morango\", \"melancia\", \"acelga\"]\n",
    "comidas = np.array(comidas)"
   ]
  },
  {
   "cell_type": "code",
   "execution_count": 7,
   "id": "71f8dc10",
   "metadata": {},
   "outputs": [
    {
     "data": {
      "text/plain": [
       "array(['maçã', 'uva', 'morango', 'melancia', 'acelga'], dtype='<U8')"
      ]
     },
     "execution_count": 7,
     "metadata": {},
     "output_type": "execute_result"
    }
   ],
   "source": [
    "comidas"
   ]
  },
  {
   "cell_type": "code",
   "execution_count": 4,
   "id": "5b418bb6",
   "metadata": {},
   "outputs": [
    {
     "data": {
      "text/plain": [
       "['maçã', 'morango', 'melancia']"
      ]
     },
     "execution_count": 4,
     "metadata": {},
     "output_type": "execute_result"
    }
   ],
   "source": [
    "# filtrar strings que começam com vogal\n",
    "filt_cons = [comida for comida in comidas if comida[0] not in [\"a\",\"e\",\"i\",\"o\",\"u\"]]\n",
    "filt_cons"
   ]
  },
  {
   "cell_type": "code",
   "execution_count": 12,
   "id": "0aa8e735",
   "metadata": {},
   "outputs": [
    {
     "data": {
      "text/plain": [
       "array(['maçã', 'morango', 'melancia'], dtype='<U8')"
      ]
     },
     "execution_count": 12,
     "metadata": {},
     "output_type": "execute_result"
    }
   ],
   "source": [
    "# Deu certo\n",
    "filt_1 = np.char.startswith(comidas, \"a\")\n",
    "filt_2 = np.char.startswith(comidas, \"e\")\n",
    "filt_3 = np.char.startswith(comidas, \"i\")\n",
    "filt_4 = np.char.startswith(comidas, \"o\")\n",
    "filt_5 = np.char.startswith(comidas, \"u\")\n",
    "\n",
    "comidas[~filt_1 & ~filt_2 & ~filt_3 & ~filt_4 & ~filt_5]"
   ]
  },
  {
   "cell_type": "markdown",
   "id": "c17fc374",
   "metadata": {},
   "source": [
    "### 3)\n",
    "Imprima a dimensão dos seguintes objetos numpy:\n",
    "```python\n",
    "a = np.array(2)\n",
    "```\n",
    "```python\n",
    "b = np.array([1, 2, 3, 4, 5])\n",
    "```\n",
    "```python\n",
    "c = np.array([[1, 2, 3], [4, 5, 6]])\n",
    "```\n",
    "```python\n",
    "d = np.array([[[1, 2, 3], [4, 5, 6]], [[7, 8, 9], [10, 11, 12]]])\n",
    "```"
   ]
  },
  {
   "cell_type": "code",
   "execution_count": 35,
   "id": "ff1f2d25",
   "metadata": {},
   "outputs": [],
   "source": [
    "a = np.array(2)\n",
    "b = np.array([1, 2, 3, 4, 5])\n",
    "c = np.array([[1, 2, 3], [4, 5, 6]])\n",
    "d = np.array([[[1, 2, 3], [4, 5, 6]], [[7, 8, 9], [10, 11, 12]]])"
   ]
  },
  {
   "cell_type": "code",
   "execution_count": 39,
   "id": "8c40e1b3",
   "metadata": {},
   "outputs": [
    {
     "name": "stdout",
     "output_type": "stream",
     "text": [
      "0\n",
      "1\n",
      "2\n",
      "3\n"
     ]
    }
   ],
   "source": [
    "print(a.ndim)\n",
    "print(b.ndim)\n",
    "print(c.ndim)\n",
    "print(d.ndim)"
   ]
  },
  {
   "cell_type": "markdown",
   "id": "355a98fc",
   "metadata": {},
   "source": [
    "### 4)\n",
    "Transforme o array em uma matriz 4 por 3 utilizando numpy.\n",
    "\n",
    "```python\n",
    "arr = [1, 2, 3, 4, 'Amelia, 'Bruna, 'Carolina', 'Débora', True, False, False, True]\n",
    "```\n",
    "Depois, faça o mesmo para uma matriz 3 por 4."
   ]
  },
  {
   "cell_type": "code",
   "execution_count": 50,
   "id": "7b4c2926",
   "metadata": {},
   "outputs": [
    {
     "data": {
      "text/plain": [
       "array([['1', '2', '3'],\n",
       "       ['4', 'Amelia', 'Bruna'],\n",
       "       ['Carolina', 'Débora', 'True'],\n",
       "       ['False', 'False', 'True']], dtype='<U11')"
      ]
     },
     "execution_count": 50,
     "metadata": {},
     "output_type": "execute_result"
    }
   ],
   "source": [
    "# Matriz 4x3\n",
    "arr = np.array([1, 2, 3, 4, 'Amelia', 'Bruna', 'Carolina', 'Débora', True, False, False, True]).reshape(4,3)\n",
    "arr"
   ]
  },
  {
   "cell_type": "code",
   "execution_count": 51,
   "id": "019167ce",
   "metadata": {},
   "outputs": [
    {
     "data": {
      "text/plain": [
       "array([['1', '2', '3', '4'],\n",
       "       ['Amelia', 'Bruna', 'Carolina', 'Débora'],\n",
       "       ['True', 'False', 'False', 'True']], dtype='<U11')"
      ]
     },
     "execution_count": 51,
     "metadata": {},
     "output_type": "execute_result"
    }
   ],
   "source": [
    "# Matriz 3x4\n",
    "arr.reshape(3,4)"
   ]
  },
  {
   "cell_type": "markdown",
   "id": "62a21f04",
   "metadata": {},
   "source": [
    "### 5)\n",
    "Transforme o seguinte array em uma matriz 3D 3x3x3:\n",
    "```python\n",
    "arr = range(27)\n",
    "```\n",
    "Deixe um comentário explicando o que significa uma matriz 3D."
   ]
  },
  {
   "cell_type": "code",
   "execution_count": 53,
   "id": "819d21b0",
   "metadata": {},
   "outputs": [
    {
     "data": {
      "text/plain": [
       "array([[[ 0,  1,  2],\n",
       "        [ 3,  4,  5],\n",
       "        [ 6,  7,  8]],\n",
       "\n",
       "       [[ 9, 10, 11],\n",
       "        [12, 13, 14],\n",
       "        [15, 16, 17]],\n",
       "\n",
       "       [[18, 19, 20],\n",
       "        [21, 22, 23],\n",
       "        [24, 25, 26]]])"
      ]
     },
     "execution_count": 53,
     "metadata": {},
     "output_type": "execute_result"
    }
   ],
   "source": [
    "arr = np.array(range(27)).reshape(3,3,3)\n",
    "arr"
   ]
  },
  {
   "cell_type": "markdown",
   "id": "57367190",
   "metadata": {},
   "source": [
    "**Resp**: matriz 3D seria um conjunto de números de 3 camadas de uma matriz 3x3"
   ]
  },
  {
   "cell_type": "markdown",
   "id": "d11d0ce9",
   "metadata": {},
   "source": [
    "### 6)\n",
    "Tente transformar o seguinte array em uma matriz 3x3x3\n",
    "```python\n",
    "arr = [1, 2, 3, 4, 5, 6, 7, 8]\n",
    "```\n",
    "Funciona? Se sim, explique o motivo. Se não, explique o erro."
   ]
  },
  {
   "cell_type": "code",
   "execution_count": 54,
   "id": "894aaf6d",
   "metadata": {},
   "outputs": [
    {
     "ename": "ValueError",
     "evalue": "cannot reshape array of size 8 into shape (3,3,3)",
     "output_type": "error",
     "traceback": [
      "\u001b[1;31m---------------------------------------------------------------------------\u001b[0m",
      "\u001b[1;31mValueError\u001b[0m                                Traceback (most recent call last)",
      "\u001b[1;32m<ipython-input-54-38462e4a1d07>\u001b[0m in \u001b[0;36m<module>\u001b[1;34m\u001b[0m\n\u001b[1;32m----> 1\u001b[1;33m \u001b[0marr\u001b[0m \u001b[1;33m=\u001b[0m \u001b[0mnp\u001b[0m\u001b[1;33m.\u001b[0m\u001b[0marray\u001b[0m\u001b[1;33m(\u001b[0m\u001b[1;33m[\u001b[0m\u001b[1;36m1\u001b[0m\u001b[1;33m,\u001b[0m \u001b[1;36m2\u001b[0m\u001b[1;33m,\u001b[0m \u001b[1;36m3\u001b[0m\u001b[1;33m,\u001b[0m \u001b[1;36m4\u001b[0m\u001b[1;33m,\u001b[0m \u001b[1;36m5\u001b[0m\u001b[1;33m,\u001b[0m \u001b[1;36m6\u001b[0m\u001b[1;33m,\u001b[0m \u001b[1;36m7\u001b[0m\u001b[1;33m,\u001b[0m \u001b[1;36m8\u001b[0m\u001b[1;33m]\u001b[0m\u001b[1;33m)\u001b[0m\u001b[1;33m.\u001b[0m\u001b[0mreshape\u001b[0m\u001b[1;33m(\u001b[0m\u001b[1;36m3\u001b[0m\u001b[1;33m,\u001b[0m\u001b[1;36m3\u001b[0m\u001b[1;33m,\u001b[0m\u001b[1;36m3\u001b[0m\u001b[1;33m)\u001b[0m\u001b[1;33m\u001b[0m\u001b[1;33m\u001b[0m\u001b[0m\n\u001b[0m",
      "\u001b[1;31mValueError\u001b[0m: cannot reshape array of size 8 into shape (3,3,3)"
     ]
    }
   ],
   "source": [
    "arr = np.array([1, 2, 3, 4, 5, 6, 7, 8]).reshape(3,3,3)"
   ]
  },
  {
   "cell_type": "markdown",
   "id": "cd708ce5",
   "metadata": {},
   "source": [
    "**Resp**: o número de elementos no array deverá ser igual à 27"
   ]
  },
  {
   "cell_type": "markdown",
   "id": "392e7640",
   "metadata": {},
   "source": [
    "### 7)\n",
    "Percorra o seguinte array utilizando for encaixado:\n",
    "```python\n",
    "arr = [[[1, 2], [3, 4]], [[5, 6], [7, 8]]]\n",
    "```\n",
    "Agora, percorra o mesmo array utilizando a função nditer de numpy."
   ]
  },
  {
   "cell_type": "code",
   "execution_count": 55,
   "id": "8c502409",
   "metadata": {},
   "outputs": [],
   "source": [
    "arr = [[[1, 2], [3, 4]], [[5, 6], [7, 8]]]"
   ]
  },
  {
   "cell_type": "code",
   "execution_count": 56,
   "id": "ec3690ad",
   "metadata": {},
   "outputs": [
    {
     "name": "stdout",
     "output_type": "stream",
     "text": [
      "[[1, 2], [3, 4]]\n",
      "[[5, 6], [7, 8]]\n"
     ]
    }
   ],
   "source": [
    "# utilizando for\n",
    "for element in arr:\n",
    "    print(element)"
   ]
  },
  {
   "cell_type": "code",
   "execution_count": 58,
   "id": "1f2cb38b",
   "metadata": {},
   "outputs": [
    {
     "name": "stdout",
     "output_type": "stream",
     "text": [
      "(array(1), array(5))\n",
      "(array(2), array(6))\n",
      "(array(3), array(7))\n",
      "(array(4), array(8))\n"
     ]
    }
   ],
   "source": [
    "# utilizando nditer\n",
    "for element in np.nditer(arr):\n",
    "    print(element)"
   ]
  },
  {
   "cell_type": "markdown",
   "id": "cf7d0569",
   "metadata": {},
   "source": [
    "### 8)\n",
    "Percorra os indexes do seguinte array utilizando for encaixado:\n",
    "```python\n",
    "arr = [[[1, 2], [3, 4]], [[5, 6], [7, 8]]]\n",
    "```\n",
    "Agora faça o mesmo trabalho utilizando a função ndenumerate."
   ]
  },
  {
   "cell_type": "code",
   "execution_count": 34,
   "id": "72a84b9b",
   "metadata": {},
   "outputs": [],
   "source": [
    "arr = [[[1, 2], [3, 4]], [[5, 6], [7, 8]]]"
   ]
  },
  {
   "cell_type": "code",
   "execution_count": 35,
   "id": "ad6a42c2",
   "metadata": {},
   "outputs": [
    {
     "name": "stdout",
     "output_type": "stream",
     "text": [
      "[[1, 2], [3, 4]]\n",
      "[[5, 6], [7, 8]]\n"
     ]
    }
   ],
   "source": [
    "for element in arr:\n",
    "    print(element)"
   ]
  },
  {
   "cell_type": "code",
   "execution_count": 36,
   "id": "efb870f0",
   "metadata": {},
   "outputs": [
    {
     "name": "stdout",
     "output_type": "stream",
     "text": [
      "(0, 0, 0) 1\n",
      "(0, 0, 1) 2\n",
      "(0, 1, 0) 3\n",
      "(0, 1, 1) 4\n",
      "(1, 0, 0) 5\n",
      "(1, 0, 1) 6\n",
      "(1, 1, 0) 7\n",
      "(1, 1, 1) 8\n"
     ]
    }
   ],
   "source": [
    "for index, element in np.ndenumerate(arr):\n",
    "    print(index, element)"
   ]
  },
  {
   "cell_type": "markdown",
   "id": "a4576f2f",
   "metadata": {},
   "source": [
    "### 9)\n",
    "Junte os dois seguintes arrays na horizontal:\n",
    "```python\n",
    "arr1 = [1, 2, 3]\n",
    "```\n",
    "```python\n",
    "arr2 = [4, 5, 6]\n",
    "```\n",
    "Depois, os junte verticalmente."
   ]
  },
  {
   "cell_type": "code",
   "execution_count": 64,
   "id": "99e8e02f",
   "metadata": {},
   "outputs": [],
   "source": [
    "arr1 = [1, 2, 3]\n",
    "arr2 = [4, 5, 6]"
   ]
  },
  {
   "cell_type": "code",
   "execution_count": 67,
   "id": "0d94eb95",
   "metadata": {},
   "outputs": [
    {
     "data": {
      "text/plain": [
       "array([1, 2, 3, 4, 5, 6])"
      ]
     },
     "execution_count": 67,
     "metadata": {},
     "output_type": "execute_result"
    }
   ],
   "source": [
    "# juntar na horizontal\n",
    "np.hstack([arr1, arr2])"
   ]
  },
  {
   "cell_type": "code",
   "execution_count": 68,
   "id": "def76a96",
   "metadata": {},
   "outputs": [
    {
     "data": {
      "text/plain": [
       "array([[1, 2, 3],\n",
       "       [4, 5, 6]])"
      ]
     },
     "execution_count": 68,
     "metadata": {},
     "output_type": "execute_result"
    }
   ],
   "source": [
    "# juntar na vertical\n",
    "np.vstack([arr1, arr2])"
   ]
  },
  {
   "cell_type": "markdown",
   "id": "25ba997b",
   "metadata": {},
   "source": [
    "### 10)\n",
    "DESAFIO: Utilizando manipulação de arrays, ache os indexes do array cujo valor possua apenas 2 vogais no nome usando numpy.\n",
    "```python\n",
    "frutas = ['banana', 'morango', 'uva', 'pitaia', 'abacate', 'abacaxi', 'acerola', 'jenipapo', 'kiwi']\n",
    "```"
   ]
  },
  {
   "cell_type": "code",
   "execution_count": 15,
   "id": "27f09d72",
   "metadata": {},
   "outputs": [
    {
     "data": {
      "text/plain": [
       "array(['uva', 'kiwi'], dtype='<U4')"
      ]
     },
     "execution_count": 15,
     "metadata": {},
     "output_type": "execute_result"
    }
   ],
   "source": [
    "# Manipular por listas: Muito complicado fazer isso com numpy\n",
    "def count_vogal(word):\n",
    "    soma = 0\n",
    "    for letter in word:\n",
    "        if letter in \"aeiou\":\n",
    "            soma += 1\n",
    "    return soma\n",
    "\n",
    "frutas = ['banana', 'morango', 'uva', 'pitaia', 'abacate', 'abacaxi', 'acerola', 'jenipapo', 'kiwi']\n",
    "frutas = np.array([fruta for fruta in frutas if count_vogal(fruta) == 2])\n",
    "\n",
    "frutas"
   ]
  },
  {
   "cell_type": "markdown",
   "id": "42d6f3d6",
   "metadata": {},
   "source": [
    "### 11) Usando ``.split()``\n",
    "a) Tranforme o seguinte array 2D em dois arrays 2D:\n",
    "```python\n",
    "arr = [[1, 2], [3, 4], [5, 6], [7, 8]]\n",
    "```\n",
    "b) Transforme o seguinte array em três arrays com apenas uma coluna:\n",
    "```python\n",
    "arr = [[1, 2, 3], [4, 5, 6], [7, 8, 9]]\n",
    "```"
   ]
  },
  {
   "cell_type": "code",
   "execution_count": 26,
   "id": "f27a357a",
   "metadata": {},
   "outputs": [
    {
     "name": "stdout",
     "output_type": "stream",
     "text": [
      "[[1 2]\n",
      " [3 4]]\n",
      "\n",
      "[[5 6]\n",
      " [7 8]]\n"
     ]
    }
   ],
   "source": [
    "arr = np.array([[1, 2], [3, 4], [5, 6], [7, 8]])\n",
    "arrays = np.split(arr, 2)\n",
    "print(arrays[0])\n",
    "print()\n",
    "print(arrays[1])"
   ]
  },
  {
   "cell_type": "code",
   "execution_count": 25,
   "id": "9d300fb9",
   "metadata": {},
   "outputs": [
    {
     "name": "stdout",
     "output_type": "stream",
     "text": [
      "[[1 2 3]]\n",
      "\n",
      "[[4 5 6]]\n",
      "\n",
      "[[7 8 9]]\n"
     ]
    }
   ],
   "source": [
    "arr = np.array([[1, 2, 3], [4, 5, 6], [7, 8, 9]])\n",
    "arrays2 = np.split(arr, 3)\n",
    "print(arrays2[0])\n",
    "print()\n",
    "print(arrays2[1])\n",
    "print()\n",
    "print(arrays2[2])"
   ]
  },
  {
   "cell_type": "markdown",
   "id": "17a26590",
   "metadata": {},
   "source": [
    "### 12)\n",
    "DESAFIO: Utilizando manipulação de arrays, vamos seguir um conjunto de passos para organizar alguns dados. Teremos nesse seguinte array uma ordem que segue:\n",
    "```python\n",
    "[Nome do aluno, idade, 'gênero', signo, altura, nota do 1° semestre, nota do 2° bimestre, se está ou não inscrito no próximo ano da escola, nome do outro aluno, idade do outro aluno...]\n",
    "```\n",
    "```python\n",
    "arr = ['Amélia', 13, 'F', 'peixes', 1.51, 9, 7, True, 'Bruno', 14, 'O', 'leão', 1.60, 4, 10, False, 'João', 14, 'M', 'escorpião', 1.58, 8, 9, True, 'Jordana', 13, 'F', 'escorpião', 1.72, 9, 9, False]\n",
    "```\n",
    "a) Enumere os indexes de todas as informações que são do tipo string.\n",
    "\n",
    "b) Separe essas informações do objeto arr de forma que cada aluno tenha seu próprio array.\n",
    "\n",
    "c) Separe em duas colunas, a primeira com o nome, a idade, o gênero e o signo e a segunda com a altura, nota do primeiro bimestre, nota do segundo bimestre e se está ou não inscrito no próximo ano.\n",
    "\n",
    "d) Elimine o gênero de todos os arrays cujos alunos tem menos de 14 anos."
   ]
  },
  {
   "cell_type": "code",
   "execution_count": 52,
   "id": "67e090c2",
   "metadata": {},
   "outputs": [],
   "source": [
    "# a) Enumere os indexes de todas as informações que são do tipo string.\n",
    "arr = ['Amélia', 13, 'F', 'peixes', 1.51, 9, 7, True, 'Bruno', 14, 'O', 'leão', 1.60, 4, 10, False, 'João', 14, 'M', 'escorpião', 1.58, 8, 9, True, 'Jordana', 13, 'F', 'escorpião', 1.72, 9, 9, False]"
   ]
  },
  {
   "cell_type": "code",
   "execution_count": 53,
   "id": "18e53dbf",
   "metadata": {},
   "outputs": [
    {
     "data": {
      "text/plain": [
       "[0, 2, 3, 8, 10, 11, 16, 18, 19, 24, 26, 27]"
      ]
     },
     "execution_count": 53,
     "metadata": {},
     "output_type": "execute_result"
    }
   ],
   "source": [
    "[indice for indice in range(len(arr)) if isinstance(arr[indice], str)]"
   ]
  },
  {
   "cell_type": "code",
   "execution_count": 69,
   "id": "004c4787",
   "metadata": {},
   "outputs": [
    {
     "data": {
      "text/plain": [
       "[array(['Amélia', '13', 'F', 'peixes', '1.51', '9', '7', 'True'],\n",
       "       dtype='<U32'),\n",
       " array(['Bruno', '14', 'O', 'leão', '1.6', '4', '10', 'False'],\n",
       "       dtype='<U32'),\n",
       " array(['João', '14', 'M', 'escorpião', '1.58', '8', '9', 'True'],\n",
       "       dtype='<U32'),\n",
       " array(['Jordana', '13', 'F', 'escorpião', '1.72', '9', '9', 'False'],\n",
       "       dtype='<U32')]"
      ]
     },
     "execution_count": 69,
     "metadata": {},
     "output_type": "execute_result"
    }
   ],
   "source": [
    "# b) Separando as informações em arrays\n",
    "arr1 = np.array(arr)\n",
    "alunos = np.split(arr1, 4)\n",
    "alunos"
   ]
  },
  {
   "cell_type": "code",
   "execution_count": 70,
   "id": "68be1b2b",
   "metadata": {},
   "outputs": [
    {
     "data": {
      "text/plain": [
       "[array(['Amélia', '13', 'F', 'peixes'], dtype='<U32'),\n",
       " array(['1.51', '9', '7', 'True'], dtype='<U32'),\n",
       " array(['Bruno', '14', 'O', 'leão'], dtype='<U32'),\n",
       " array(['1.6', '4', '10', 'False'], dtype='<U32'),\n",
       " array(['João', '14', 'M', 'escorpião'], dtype='<U32'),\n",
       " array(['1.58', '8', '9', 'True'], dtype='<U32'),\n",
       " array(['Jordana', '13', 'F', 'escorpião'], dtype='<U32'),\n",
       " array(['1.72', '9', '9', 'False'], dtype='<U32')]"
      ]
     },
     "execution_count": 70,
     "metadata": {},
     "output_type": "execute_result"
    }
   ],
   "source": [
    "# c)\n",
    "arr2 = np.split(arr1, 8)\n",
    "arr2"
   ]
  },
  {
   "cell_type": "code",
   "execution_count": 74,
   "id": "8309607a",
   "metadata": {},
   "outputs": [
    {
     "ename": "TypeError",
     "evalue": "'<' not supported between instances of 'numpy.str_' and 'int'",
     "output_type": "error",
     "traceback": [
      "\u001b[1;31m---------------------------------------------------------------------------\u001b[0m",
      "\u001b[1;31mTypeError\u001b[0m                                 Traceback (most recent call last)",
      "\u001b[1;32m<ipython-input-74-e8baa7028001>\u001b[0m in \u001b[0;36m<module>\u001b[1;34m\u001b[0m\n\u001b[0;32m      1\u001b[0m \u001b[1;31m# d)\u001b[0m\u001b[1;33m\u001b[0m\u001b[1;33m\u001b[0m\u001b[1;33m\u001b[0m\u001b[0m\n\u001b[1;32m----> 2\u001b[1;33m \u001b[0malunos2\u001b[0m \u001b[1;33m=\u001b[0m \u001b[0mnp\u001b[0m\u001b[1;33m.\u001b[0m\u001b[0mwhere\u001b[0m\u001b[1;33m(\u001b[0m\u001b[0malunos\u001b[0m\u001b[1;33m[\u001b[0m\u001b[1;36m0\u001b[0m\u001b[1;33m]\u001b[0m\u001b[1;33m[\u001b[0m\u001b[1;36m1\u001b[0m\u001b[1;33m]\u001b[0m \u001b[1;33m<\u001b[0m \u001b[1;36m14\u001b[0m\u001b[1;33m,\u001b[0m \u001b[0mnp\u001b[0m\u001b[1;33m.\u001b[0m\u001b[0mnan\u001b[0m\u001b[1;33m,\u001b[0m \u001b[0malunos\u001b[0m\u001b[1;33m[\u001b[0m\u001b[1;36m0\u001b[0m\u001b[1;33m]\u001b[0m\u001b[1;33m[\u001b[0m\u001b[1;36m1\u001b[0m\u001b[1;33m]\u001b[0m\u001b[1;33m)\u001b[0m\u001b[1;33m\u001b[0m\u001b[1;33m\u001b[0m\u001b[0m\n\u001b[0m",
      "\u001b[1;31mTypeError\u001b[0m: '<' not supported between instances of 'numpy.str_' and 'int'"
     ]
    }
   ],
   "source": [
    "# d)"
   ]
  },
  {
   "cell_type": "markdown",
   "id": "bdd02e2d",
   "metadata": {},
   "source": [
    "## LC | Numpy 1"
   ]
  },
  {
   "cell_type": "markdown",
   "id": "22b9adc5",
   "metadata": {},
   "source": [
    "### 1)\n",
    "Dado o array:\n",
    "```python\n",
    "arr = np.arange(50)\n",
    "```\n",
    "Selecione a alternativa INCORRETA na utilização de filtros e máscaras neste Numpy array."
   ]
  },
  {
   "cell_type": "code",
   "execution_count": 37,
   "id": "fb9f8c73",
   "metadata": {},
   "outputs": [
    {
     "name": "stdout",
     "output_type": "stream",
     "text": [
      "[ 0  1  2  3  4  5  6  7  8  9 10 11 12 13 14 15 16 17 18 19 20 21 22 23\n",
      " 24 25 26 27 28 29 30 31 32 33 34 35 36 37 38 39 40 41 42 43 44 45 46 47\n",
      " 48 49]\n"
     ]
    }
   ],
   "source": [
    "arr = np.arange(50)\n",
    "arr_atualizado = arr[(arr != 1) | (arr != 3)]\n",
    "print(arr_atualizado)\n",
    "\n",
    "# Resp: Não altera o array original"
   ]
  },
  {
   "cell_type": "markdown",
   "id": "7e614733",
   "metadata": {},
   "source": [
    "## 2)\n",
    "Agora, vamos explorar os arrays aleatórios e máscaras. Faça o que se pede:\n",
    "\n",
    "a) Crie um array aleatório de 15 itens entre 0 e 100;\n",
    "\n",
    "b) Qual o maior número do array?\n",
    "\n",
    "c) Qual a sua posição?\n",
    "\n",
    "d) Verifique quais números do array são maior que 10;\n",
    "\n",
    "e) Salve em uma nova lista apenas os itens entre 10 e 30."
   ]
  },
  {
   "cell_type": "code",
   "execution_count": 70,
   "id": "e7389413",
   "metadata": {},
   "outputs": [
    {
     "data": {
      "text/plain": [
       "array([77, 41, 64, 10, 21, 47, 88, 19, 47, 45, 56, 96, 10, 66, 59])"
      ]
     },
     "execution_count": 70,
     "metadata": {},
     "output_type": "execute_result"
    }
   ],
   "source": [
    "# a)\n",
    "array = np.random.randint(0, 100, 15)\n",
    "array"
   ]
  },
  {
   "cell_type": "code",
   "execution_count": 72,
   "id": "de69baf2",
   "metadata": {},
   "outputs": [
    {
     "data": {
      "text/plain": [
       "96"
      ]
     },
     "execution_count": 72,
     "metadata": {},
     "output_type": "execute_result"
    }
   ],
   "source": [
    "# b)\n",
    "array.max()"
   ]
  },
  {
   "cell_type": "code",
   "execution_count": 77,
   "id": "ff1fcec6",
   "metadata": {},
   "outputs": [
    {
     "data": {
      "text/plain": [
       "(array([11], dtype=int64),)"
      ]
     },
     "execution_count": 77,
     "metadata": {},
     "output_type": "execute_result"
    }
   ],
   "source": [
    "# c)\n",
    "np.where(array == array.max())"
   ]
  },
  {
   "cell_type": "code",
   "execution_count": 78,
   "id": "3878ae57",
   "metadata": {},
   "outputs": [
    {
     "data": {
      "text/plain": [
       "array([77, 41, 64, 21, 47, 88, 19, 47, 45, 56, 96, 66, 59])"
      ]
     },
     "execution_count": 78,
     "metadata": {},
     "output_type": "execute_result"
    }
   ],
   "source": [
    "# d)\n",
    "array[array > 10]"
   ]
  },
  {
   "cell_type": "code",
   "execution_count": 82,
   "id": "dff75b32",
   "metadata": {},
   "outputs": [
    {
     "data": {
      "text/plain": [
       "array([21, 19])"
      ]
     },
     "execution_count": 82,
     "metadata": {},
     "output_type": "execute_result"
    }
   ],
   "source": [
    "# e)\n",
    "new_array = array[(array > 10) & (array < 30)]\n",
    "new_array"
   ]
  },
  {
   "cell_type": "markdown",
   "id": "fe43ca9b",
   "metadata": {},
   "source": [
    "## 3)\n",
    "Nosso próximo foco serão as matrizes. Faça o que se pede:\n",
    "\n",
    "a) Gere uma matriz (3,2) com números linearmente espaçados entre 0 e 100 e intervalos de 20, usando ```np.linspace()```;\n",
    "\n",
    "b) Gere uma matriz aleatória (5,2) com números entre 0 e 100;\n",
    "\n",
    "c) Crie um array com as dimensões apropriadas que, quando multiplicado pela matriz do item a), devolva essa mesma matriz. Use o método ```np.matmul()```."
   ]
  },
  {
   "cell_type": "code",
   "execution_count": 93,
   "id": "39ef1f91",
   "metadata": {},
   "outputs": [],
   "source": [
    "# a)\n",
    "arr1 = np.linspace(0, 100, 6)"
   ]
  },
  {
   "cell_type": "code",
   "execution_count": 94,
   "id": "874a7b94",
   "metadata": {},
   "outputs": [
    {
     "data": {
      "text/plain": [
       "array([[  0.,  20.],\n",
       "       [ 40.,  60.],\n",
       "       [ 80., 100.]])"
      ]
     },
     "execution_count": 94,
     "metadata": {},
     "output_type": "execute_result"
    }
   ],
   "source": [
    "arr1.reshape(3,2)"
   ]
  },
  {
   "cell_type": "code",
   "execution_count": 80,
   "id": "43e7f09b",
   "metadata": {},
   "outputs": [
    {
     "data": {
      "text/plain": [
       "array([[37, 21],\n",
       "       [28, 47],\n",
       "       [ 5, 58],\n",
       "       [96, 74],\n",
       "       [19, 22]])"
      ]
     },
     "execution_count": 80,
     "metadata": {},
     "output_type": "execute_result"
    }
   ],
   "source": [
    "# b)\n",
    "array = np.random.randint(0, 100, 10).reshape(5,2)\n",
    "array"
   ]
  },
  {
   "cell_type": "code",
   "execution_count": 86,
   "id": "e01c4ee2",
   "metadata": {},
   "outputs": [
    {
     "data": {
      "text/plain": [
       "array([[1., 1., 1.],\n",
       "       [1., 1., 1.]])"
      ]
     },
     "execution_count": 86,
     "metadata": {},
     "output_type": "execute_result"
    }
   ],
   "source": [
    "# c)\n",
    "arr2 = np.ones(6).reshape(2, 3)\n",
    "arr2"
   ]
  },
  {
   "cell_type": "code",
   "execution_count": 96,
   "id": "6292a9c4",
   "metadata": {},
   "outputs": [
    {
     "ename": "ValueError",
     "evalue": "matmul: Input operand 1 has a mismatch in its core dimension 0, with gufunc signature (n?,k),(k,m?)->(n?,m?) (size 2 is different from 6)",
     "output_type": "error",
     "traceback": [
      "\u001b[1;31m---------------------------------------------------------------------------\u001b[0m",
      "\u001b[1;31mValueError\u001b[0m                                Traceback (most recent call last)",
      "\u001b[1;32m<ipython-input-96-c392db06761e>\u001b[0m in \u001b[0;36m<module>\u001b[1;34m\u001b[0m\n\u001b[1;32m----> 1\u001b[1;33m \u001b[0mnp\u001b[0m\u001b[1;33m.\u001b[0m\u001b[0mmatmul\u001b[0m\u001b[1;33m(\u001b[0m\u001b[0marr1\u001b[0m\u001b[1;33m,\u001b[0m \u001b[0marr2\u001b[0m\u001b[1;33m)\u001b[0m\u001b[1;33m\u001b[0m\u001b[1;33m\u001b[0m\u001b[0m\n\u001b[0m",
      "\u001b[1;31mValueError\u001b[0m: matmul: Input operand 1 has a mismatch in its core dimension 0, with gufunc signature (n?,k),(k,m?)->(n?,m?) (size 2 is different from 6)"
     ]
    }
   ],
   "source": [
    "np.matmul(arr1, arr2)"
   ]
  },
  {
   "cell_type": "markdown",
   "id": "6b4e9e3f",
   "metadata": {},
   "source": [
    "## LC | Pandas 1"
   ]
  },
  {
   "cell_type": "markdown",
   "id": "72ff786a",
   "metadata": {},
   "source": [
    "### 1)\n",
    "Em um concurso público foram contabilizados os números de pessoas inscritas (até a data inicialmente estabelecida para a inscrição) segundo os níveis de escolaridade: fundamental completo, médio completo, superior completo e pós-graduação completa. Segue abaixo a tabela com os valores observados.\n",
    "\n",
    "|Nível de escolaridade|Inscritos|\n",
    "|-|-|\n",
    "|Fundamental completo|\t451|\n",
    "|Médio completo|\t627|\n",
    "|Superior completo\t|292|\n",
    "|Pós-graduação completa\t|95|\n",
    "\n",
    "Com base na tabela acima, crie uma Series com esses valores e calcule:\n",
    "\n",
    "(a) O número total de inscritos.\n",
    "\n",
    "(b) Número inscritos que possuem, pelo menos, o superior completo.\n",
    "\n",
    "(c) Suponha que a inscrição foi prorrogada e, com isso, foi obtido um número adicional de inscrições: 68, 93, 22 e 0 inscritos a mais em cada uma das categorias de escolaridade apresentados na tabela acima (na mesma ordem). Assim, crie uma nova Series com esses valores.\n",
    "\n",
    "(d) Utilizando as duas Series que você tem, calcule o número total de inscritos após a prorrogação do período de inscrições."
   ]
  },
  {
   "cell_type": "code",
   "execution_count": 102,
   "id": "c783f949",
   "metadata": {},
   "outputs": [
    {
     "data": {
      "text/html": [
       "<div>\n",
       "<style scoped>\n",
       "    .dataframe tbody tr th:only-of-type {\n",
       "        vertical-align: middle;\n",
       "    }\n",
       "\n",
       "    .dataframe tbody tr th {\n",
       "        vertical-align: top;\n",
       "    }\n",
       "\n",
       "    .dataframe thead th {\n",
       "        text-align: right;\n",
       "    }\n",
       "</style>\n",
       "<table border=\"1\" class=\"dataframe\">\n",
       "  <thead>\n",
       "    <tr style=\"text-align: right;\">\n",
       "      <th></th>\n",
       "      <th>Nível de escolaridade</th>\n",
       "      <th>Inscritos</th>\n",
       "    </tr>\n",
       "  </thead>\n",
       "  <tbody>\n",
       "    <tr>\n",
       "      <th>0</th>\n",
       "      <td>Fundamental completo</td>\n",
       "      <td>451</td>\n",
       "    </tr>\n",
       "    <tr>\n",
       "      <th>1</th>\n",
       "      <td>Médio completo</td>\n",
       "      <td>627</td>\n",
       "    </tr>\n",
       "    <tr>\n",
       "      <th>2</th>\n",
       "      <td>Superior completo</td>\n",
       "      <td>292</td>\n",
       "    </tr>\n",
       "    <tr>\n",
       "      <th>3</th>\n",
       "      <td>Pós-graduação completa</td>\n",
       "      <td>95</td>\n",
       "    </tr>\n",
       "  </tbody>\n",
       "</table>\n",
       "</div>"
      ],
      "text/plain": [
       "    Nível de escolaridade  Inscritos\n",
       "0    Fundamental completo        451\n",
       "1          Médio completo        627\n",
       "2       Superior completo        292\n",
       "3  Pós-graduação completa         95"
      ]
     },
     "execution_count": 102,
     "metadata": {},
     "output_type": "execute_result"
    }
   ],
   "source": [
    "concurso = pd.read_clipboard()\n",
    "concurso"
   ]
  },
  {
   "cell_type": "code",
   "execution_count": 103,
   "id": "8b0cb277",
   "metadata": {},
   "outputs": [
    {
     "data": {
      "text/plain": [
       "1465"
      ]
     },
     "execution_count": 103,
     "metadata": {},
     "output_type": "execute_result"
    }
   ],
   "source": [
    "# a)\n",
    "concurso[\"Inscritos\"].sum()"
   ]
  },
  {
   "cell_type": "code",
   "execution_count": 105,
   "id": "8c65a02a",
   "metadata": {},
   "outputs": [
    {
     "data": {
      "text/plain": [
       "Nível de escolaridade    Superior completoPós-graduação completa\n",
       "Inscritos                                                    387\n",
       "dtype: object"
      ]
     },
     "execution_count": 105,
     "metadata": {},
     "output_type": "execute_result"
    }
   ],
   "source": [
    "# b)\n",
    "concurso[(concurso[\"Nível de escolaridade\"] == \"Superior completo\") |\n",
    "         (concurso[\"Nível de escolaridade\"] == \"Pós-graduação completa\")].sum()"
   ]
  },
  {
   "cell_type": "code",
   "execution_count": 107,
   "id": "45c63368",
   "metadata": {},
   "outputs": [],
   "source": [
    "# c) e d)\n",
    "prorrogados = np.array([68, 93, 22, 0])\n",
    "concurso[\"Inscritos\"] = concurso[\"Inscritos\"] + prorrogados"
   ]
  },
  {
   "cell_type": "code",
   "execution_count": 108,
   "id": "f688182e",
   "metadata": {},
   "outputs": [
    {
     "data": {
      "text/html": [
       "<div>\n",
       "<style scoped>\n",
       "    .dataframe tbody tr th:only-of-type {\n",
       "        vertical-align: middle;\n",
       "    }\n",
       "\n",
       "    .dataframe tbody tr th {\n",
       "        vertical-align: top;\n",
       "    }\n",
       "\n",
       "    .dataframe thead th {\n",
       "        text-align: right;\n",
       "    }\n",
       "</style>\n",
       "<table border=\"1\" class=\"dataframe\">\n",
       "  <thead>\n",
       "    <tr style=\"text-align: right;\">\n",
       "      <th></th>\n",
       "      <th>Nível de escolaridade</th>\n",
       "      <th>Inscritos</th>\n",
       "    </tr>\n",
       "  </thead>\n",
       "  <tbody>\n",
       "    <tr>\n",
       "      <th>0</th>\n",
       "      <td>Fundamental completo</td>\n",
       "      <td>519</td>\n",
       "    </tr>\n",
       "    <tr>\n",
       "      <th>1</th>\n",
       "      <td>Médio completo</td>\n",
       "      <td>720</td>\n",
       "    </tr>\n",
       "    <tr>\n",
       "      <th>2</th>\n",
       "      <td>Superior completo</td>\n",
       "      <td>314</td>\n",
       "    </tr>\n",
       "    <tr>\n",
       "      <th>3</th>\n",
       "      <td>Pós-graduação completa</td>\n",
       "      <td>95</td>\n",
       "    </tr>\n",
       "  </tbody>\n",
       "</table>\n",
       "</div>"
      ],
      "text/plain": [
       "    Nível de escolaridade  Inscritos\n",
       "0    Fundamental completo        519\n",
       "1          Médio completo        720\n",
       "2       Superior completo        314\n",
       "3  Pós-graduação completa         95"
      ]
     },
     "execution_count": 108,
     "metadata": {},
     "output_type": "execute_result"
    }
   ],
   "source": [
    "concurso"
   ]
  },
  {
   "cell_type": "markdown",
   "id": "d435e918",
   "metadata": {},
   "source": [
    "### 2)\n",
    "Uma turma de cinco alunos foi submetida a uma avaliação e a nota de cada um dos alunos é apresentada na tabela abaixo:\n",
    "\n",
    "|Nome do Aluno|\tNota|\n",
    "|-|-|\n",
    "|Wilfred|\t2|\n",
    "|Abbie|\t7|\n",
    "|Harry|\t5.5|\n",
    "|Julia|\t10|\n",
    "|Carrie|\t6.2|\n",
    "\n",
    "(a) Crie uma Series com os valores da tabela acima.\n",
    "\n",
    "(b) Retorne o número de alunos que foram aprovados (considerando que a nota mínima para a aprovação é 7).\n",
    "\n",
    "(c) Qual foi a nota média da turma.\n",
    "\n",
    "(d) Obtenha o nome dos alunos que tiraram notas acima da média da turma.\n",
    "\n"
   ]
  },
  {
   "cell_type": "code",
   "execution_count": 139,
   "id": "0049e81c",
   "metadata": {},
   "outputs": [],
   "source": [
    "# a)\n",
    "alunos = pd.read_clipboard()"
   ]
  },
  {
   "cell_type": "code",
   "execution_count": 140,
   "id": "89d4da64",
   "metadata": {},
   "outputs": [],
   "source": [
    "aluno = alunos[\"Nome do Aluno\"]"
   ]
  },
  {
   "cell_type": "code",
   "execution_count": 141,
   "id": "630cccd8",
   "metadata": {},
   "outputs": [
    {
     "data": {
      "text/plain": [
       "0    Wilfred\n",
       "1      Abbie\n",
       "2      Harry\n",
       "3      Julia\n",
       "4     Carrie\n",
       "Name: Nome do Aluno, dtype: object"
      ]
     },
     "execution_count": 141,
     "metadata": {},
     "output_type": "execute_result"
    }
   ],
   "source": [
    "aluno"
   ]
  },
  {
   "cell_type": "code",
   "execution_count": 131,
   "id": "81ebce3f",
   "metadata": {},
   "outputs": [],
   "source": [
    "nota = alunos[\"Nota\"]"
   ]
  },
  {
   "cell_type": "code",
   "execution_count": 132,
   "id": "27fa5cbd",
   "metadata": {},
   "outputs": [
    {
     "data": {
      "text/plain": [
       "0     2.0\n",
       "1     7.0\n",
       "2     5.5\n",
       "3    10.0\n",
       "4     6.2\n",
       "Name: Nota, dtype: float64"
      ]
     },
     "execution_count": 132,
     "metadata": {},
     "output_type": "execute_result"
    }
   ],
   "source": [
    "nota"
   ]
  },
  {
   "cell_type": "code",
   "execution_count": 142,
   "id": "4df1c27f",
   "metadata": {},
   "outputs": [
    {
     "data": {
      "text/html": [
       "<div>\n",
       "<style scoped>\n",
       "    .dataframe tbody tr th:only-of-type {\n",
       "        vertical-align: middle;\n",
       "    }\n",
       "\n",
       "    .dataframe tbody tr th {\n",
       "        vertical-align: top;\n",
       "    }\n",
       "\n",
       "    .dataframe thead th {\n",
       "        text-align: right;\n",
       "    }\n",
       "</style>\n",
       "<table border=\"1\" class=\"dataframe\">\n",
       "  <thead>\n",
       "    <tr style=\"text-align: right;\">\n",
       "      <th></th>\n",
       "      <th>Nome do Aluno</th>\n",
       "      <th>Nota</th>\n",
       "    </tr>\n",
       "  </thead>\n",
       "  <tbody>\n",
       "    <tr>\n",
       "      <th>1</th>\n",
       "      <td>Abbie</td>\n",
       "      <td>7.00</td>\n",
       "    </tr>\n",
       "    <tr>\n",
       "      <th>3</th>\n",
       "      <td>Julia</td>\n",
       "      <td>10.00</td>\n",
       "    </tr>\n",
       "  </tbody>\n",
       "</table>\n",
       "</div>"
      ],
      "text/plain": [
       "  Nome do Aluno  Nota\n",
       "1         Abbie  7.00\n",
       "3         Julia 10.00"
      ]
     },
     "execution_count": 142,
     "metadata": {},
     "output_type": "execute_result"
    }
   ],
   "source": [
    "# b)\n",
    "alunos[alunos[\"Nota\"] >= 7]"
   ]
  },
  {
   "cell_type": "code",
   "execution_count": 134,
   "id": "42efed00",
   "metadata": {},
   "outputs": [
    {
     "data": {
      "text/plain": [
       "6.14"
      ]
     },
     "execution_count": 134,
     "metadata": {},
     "output_type": "execute_result"
    }
   ],
   "source": [
    "# c)\n",
    "nota.mean()"
   ]
  },
  {
   "cell_type": "code",
   "execution_count": 135,
   "id": "f722f683",
   "metadata": {},
   "outputs": [
    {
     "data": {
      "text/html": [
       "<div>\n",
       "<style scoped>\n",
       "    .dataframe tbody tr th:only-of-type {\n",
       "        vertical-align: middle;\n",
       "    }\n",
       "\n",
       "    .dataframe tbody tr th {\n",
       "        vertical-align: top;\n",
       "    }\n",
       "\n",
       "    .dataframe thead th {\n",
       "        text-align: right;\n",
       "    }\n",
       "</style>\n",
       "<table border=\"1\" class=\"dataframe\">\n",
       "  <thead>\n",
       "    <tr style=\"text-align: right;\">\n",
       "      <th></th>\n",
       "      <th>Nome do Aluno</th>\n",
       "      <th>Nota</th>\n",
       "    </tr>\n",
       "  </thead>\n",
       "  <tbody>\n",
       "    <tr>\n",
       "      <th>1</th>\n",
       "      <td>Abbie</td>\n",
       "      <td>7.0</td>\n",
       "    </tr>\n",
       "    <tr>\n",
       "      <th>3</th>\n",
       "      <td>Julia</td>\n",
       "      <td>10.0</td>\n",
       "    </tr>\n",
       "    <tr>\n",
       "      <th>4</th>\n",
       "      <td>Carrie</td>\n",
       "      <td>6.2</td>\n",
       "    </tr>\n",
       "  </tbody>\n",
       "</table>\n",
       "</div>"
      ],
      "text/plain": [
       "  Nome do Aluno  Nota\n",
       "1         Abbie   7.0\n",
       "3         Julia  10.0\n",
       "4        Carrie   6.2"
      ]
     },
     "execution_count": 135,
     "metadata": {},
     "output_type": "execute_result"
    }
   ],
   "source": [
    "# d)\n",
    "alunos[alunos[\"Nota\"] > nota.mean()]"
   ]
  },
  {
   "cell_type": "markdown",
   "id": "c59c64f1",
   "metadata": {},
   "source": [
    "### 3)\n",
    "Crie um objeto DataFrame que contenha os dados da tabela abaixo, os quais se referem ao peso, altura e idade de cinco pessoas:\n",
    "\n",
    "|Peso (kg)|Altura (cm)|Idade|\n",
    "|-|-|-|\n",
    "|72|180|31|\n",
    "|80\t|170|21|\n",
    "|60\t|175|16|\n",
    "|90\t|174|28|\n",
    "|100|185|23|\n",
    "\n",
    "Com base no DataFrame criado, realize o que pedido nos itens abaixo:\n",
    "\n",
    "(a) Visualize apenas os dados da coluna que contém a altura das pessoas.\n",
    "\n",
    "(b) Obtenha a idade média das pessoas.\n",
    "\n",
    "(c) Obtenha os dados das pessoas que estão abaixo da altura média.\n",
    "\n",
    "(d) Crie um nova coluna no DataFrame que contenha o IMC (Índice de Massa Corporal) de cada pessoa.\n",
    "\n",
    "(e) Remova a coluna que contém a idade das pessoas.\n",
    "\n",
    "(f) Salve esses dados do DataFrame em um arquivo csv.\n",
    "\n"
   ]
  },
  {
   "cell_type": "code",
   "execution_count": 48,
   "id": "f6651d61",
   "metadata": {},
   "outputs": [],
   "source": [
    "# dataframe\n",
    "imc = pd.read_clipboard()"
   ]
  },
  {
   "cell_type": "code",
   "execution_count": 49,
   "id": "fe60c287",
   "metadata": {},
   "outputs": [
    {
     "data": {
      "text/html": [
       "<div>\n",
       "<style scoped>\n",
       "    .dataframe tbody tr th:only-of-type {\n",
       "        vertical-align: middle;\n",
       "    }\n",
       "\n",
       "    .dataframe tbody tr th {\n",
       "        vertical-align: top;\n",
       "    }\n",
       "\n",
       "    .dataframe thead th {\n",
       "        text-align: right;\n",
       "    }\n",
       "</style>\n",
       "<table border=\"1\" class=\"dataframe\">\n",
       "  <thead>\n",
       "    <tr style=\"text-align: right;\">\n",
       "      <th></th>\n",
       "      <th>Peso (kg)</th>\n",
       "      <th>Altura (cm)</th>\n",
       "      <th>Idade</th>\n",
       "    </tr>\n",
       "  </thead>\n",
       "  <tbody>\n",
       "    <tr>\n",
       "      <th>0</th>\n",
       "      <td>72</td>\n",
       "      <td>180</td>\n",
       "      <td>31</td>\n",
       "    </tr>\n",
       "    <tr>\n",
       "      <th>1</th>\n",
       "      <td>80</td>\n",
       "      <td>170</td>\n",
       "      <td>21</td>\n",
       "    </tr>\n",
       "    <tr>\n",
       "      <th>2</th>\n",
       "      <td>60</td>\n",
       "      <td>175</td>\n",
       "      <td>16</td>\n",
       "    </tr>\n",
       "    <tr>\n",
       "      <th>3</th>\n",
       "      <td>90</td>\n",
       "      <td>174</td>\n",
       "      <td>28</td>\n",
       "    </tr>\n",
       "    <tr>\n",
       "      <th>4</th>\n",
       "      <td>100</td>\n",
       "      <td>185</td>\n",
       "      <td>23</td>\n",
       "    </tr>\n",
       "  </tbody>\n",
       "</table>\n",
       "</div>"
      ],
      "text/plain": [
       "   Peso (kg)  Altura (cm)  Idade\n",
       "0         72          180     31\n",
       "1         80          170     21\n",
       "2         60          175     16\n",
       "3         90          174     28\n",
       "4        100          185     23"
      ]
     },
     "execution_count": 49,
     "metadata": {},
     "output_type": "execute_result"
    }
   ],
   "source": [
    "imc"
   ]
  },
  {
   "cell_type": "code",
   "execution_count": 50,
   "id": "6701a276",
   "metadata": {},
   "outputs": [
    {
     "data": {
      "text/plain": [
       "0    180\n",
       "1    170\n",
       "2    175\n",
       "3    174\n",
       "4    185\n",
       "Name: Altura (cm), dtype: int64"
      ]
     },
     "execution_count": 50,
     "metadata": {},
     "output_type": "execute_result"
    }
   ],
   "source": [
    "# a)\n",
    "imc[\"Altura (cm)\"]"
   ]
  },
  {
   "cell_type": "code",
   "execution_count": 51,
   "id": "752a5b1b",
   "metadata": {},
   "outputs": [
    {
     "data": {
      "text/plain": [
       "23.8"
      ]
     },
     "execution_count": 51,
     "metadata": {},
     "output_type": "execute_result"
    }
   ],
   "source": [
    "# b)\n",
    "imc[\"Idade\"].mean()"
   ]
  },
  {
   "cell_type": "code",
   "execution_count": 52,
   "id": "985f5a0d",
   "metadata": {},
   "outputs": [
    {
     "data": {
      "text/html": [
       "<div>\n",
       "<style scoped>\n",
       "    .dataframe tbody tr th:only-of-type {\n",
       "        vertical-align: middle;\n",
       "    }\n",
       "\n",
       "    .dataframe tbody tr th {\n",
       "        vertical-align: top;\n",
       "    }\n",
       "\n",
       "    .dataframe thead th {\n",
       "        text-align: right;\n",
       "    }\n",
       "</style>\n",
       "<table border=\"1\" class=\"dataframe\">\n",
       "  <thead>\n",
       "    <tr style=\"text-align: right;\">\n",
       "      <th></th>\n",
       "      <th>Peso (kg)</th>\n",
       "      <th>Altura (cm)</th>\n",
       "      <th>Idade</th>\n",
       "    </tr>\n",
       "  </thead>\n",
       "  <tbody>\n",
       "    <tr>\n",
       "      <th>1</th>\n",
       "      <td>80</td>\n",
       "      <td>170</td>\n",
       "      <td>21</td>\n",
       "    </tr>\n",
       "    <tr>\n",
       "      <th>2</th>\n",
       "      <td>60</td>\n",
       "      <td>175</td>\n",
       "      <td>16</td>\n",
       "    </tr>\n",
       "    <tr>\n",
       "      <th>3</th>\n",
       "      <td>90</td>\n",
       "      <td>174</td>\n",
       "      <td>28</td>\n",
       "    </tr>\n",
       "  </tbody>\n",
       "</table>\n",
       "</div>"
      ],
      "text/plain": [
       "   Peso (kg)  Altura (cm)  Idade\n",
       "1         80          170     21\n",
       "2         60          175     16\n",
       "3         90          174     28"
      ]
     },
     "execution_count": 52,
     "metadata": {},
     "output_type": "execute_result"
    }
   ],
   "source": [
    "# c) Abaixo da altura média\n",
    "imc[imc[\"Altura (cm)\"] < imc[\"Altura (cm)\"].mean()]"
   ]
  },
  {
   "cell_type": "code",
   "execution_count": 61,
   "id": "82cd0a15",
   "metadata": {},
   "outputs": [
    {
     "data": {
      "text/html": [
       "<div>\n",
       "<style scoped>\n",
       "    .dataframe tbody tr th:only-of-type {\n",
       "        vertical-align: middle;\n",
       "    }\n",
       "\n",
       "    .dataframe tbody tr th {\n",
       "        vertical-align: top;\n",
       "    }\n",
       "\n",
       "    .dataframe thead th {\n",
       "        text-align: right;\n",
       "    }\n",
       "</style>\n",
       "<table border=\"1\" class=\"dataframe\">\n",
       "  <thead>\n",
       "    <tr style=\"text-align: right;\">\n",
       "      <th></th>\n",
       "      <th>Peso (kg)</th>\n",
       "      <th>Altura (cm)</th>\n",
       "      <th>Idade</th>\n",
       "      <th>IMC</th>\n",
       "    </tr>\n",
       "  </thead>\n",
       "  <tbody>\n",
       "    <tr>\n",
       "      <th>0</th>\n",
       "      <td>72</td>\n",
       "      <td>180</td>\n",
       "      <td>31</td>\n",
       "      <td>22.222222</td>\n",
       "    </tr>\n",
       "    <tr>\n",
       "      <th>1</th>\n",
       "      <td>80</td>\n",
       "      <td>170</td>\n",
       "      <td>21</td>\n",
       "      <td>27.681661</td>\n",
       "    </tr>\n",
       "    <tr>\n",
       "      <th>2</th>\n",
       "      <td>60</td>\n",
       "      <td>175</td>\n",
       "      <td>16</td>\n",
       "      <td>19.591837</td>\n",
       "    </tr>\n",
       "    <tr>\n",
       "      <th>3</th>\n",
       "      <td>90</td>\n",
       "      <td>174</td>\n",
       "      <td>28</td>\n",
       "      <td>29.726516</td>\n",
       "    </tr>\n",
       "    <tr>\n",
       "      <th>4</th>\n",
       "      <td>100</td>\n",
       "      <td>185</td>\n",
       "      <td>23</td>\n",
       "      <td>29.218408</td>\n",
       "    </tr>\n",
       "  </tbody>\n",
       "</table>\n",
       "</div>"
      ],
      "text/plain": [
       "   Peso (kg)  Altura (cm)  Idade        IMC\n",
       "0         72          180     31  22.222222\n",
       "1         80          170     21  27.681661\n",
       "2         60          175     16  19.591837\n",
       "3         90          174     28  29.726516\n",
       "4        100          185     23  29.218408"
      ]
     },
     "execution_count": 61,
     "metadata": {},
     "output_type": "execute_result"
    }
   ],
   "source": [
    "# d)\n",
    "imc[\"IMC\"] = imc[\"Peso (kg)\"] / (imc[\"Altura (cm)\"]/100)**2\n",
    "imc"
   ]
  },
  {
   "cell_type": "code",
   "execution_count": 63,
   "id": "f7d7a64c",
   "metadata": {},
   "outputs": [
    {
     "data": {
      "text/html": [
       "<div>\n",
       "<style scoped>\n",
       "    .dataframe tbody tr th:only-of-type {\n",
       "        vertical-align: middle;\n",
       "    }\n",
       "\n",
       "    .dataframe tbody tr th {\n",
       "        vertical-align: top;\n",
       "    }\n",
       "\n",
       "    .dataframe thead th {\n",
       "        text-align: right;\n",
       "    }\n",
       "</style>\n",
       "<table border=\"1\" class=\"dataframe\">\n",
       "  <thead>\n",
       "    <tr style=\"text-align: right;\">\n",
       "      <th></th>\n",
       "      <th>Peso (kg)</th>\n",
       "      <th>Altura (cm)</th>\n",
       "      <th>IMC</th>\n",
       "    </tr>\n",
       "  </thead>\n",
       "  <tbody>\n",
       "    <tr>\n",
       "      <th>0</th>\n",
       "      <td>72</td>\n",
       "      <td>180</td>\n",
       "      <td>22.222222</td>\n",
       "    </tr>\n",
       "    <tr>\n",
       "      <th>1</th>\n",
       "      <td>80</td>\n",
       "      <td>170</td>\n",
       "      <td>27.681661</td>\n",
       "    </tr>\n",
       "    <tr>\n",
       "      <th>2</th>\n",
       "      <td>60</td>\n",
       "      <td>175</td>\n",
       "      <td>19.591837</td>\n",
       "    </tr>\n",
       "    <tr>\n",
       "      <th>3</th>\n",
       "      <td>90</td>\n",
       "      <td>174</td>\n",
       "      <td>29.726516</td>\n",
       "    </tr>\n",
       "    <tr>\n",
       "      <th>4</th>\n",
       "      <td>100</td>\n",
       "      <td>185</td>\n",
       "      <td>29.218408</td>\n",
       "    </tr>\n",
       "  </tbody>\n",
       "</table>\n",
       "</div>"
      ],
      "text/plain": [
       "   Peso (kg)  Altura (cm)        IMC\n",
       "0         72          180  22.222222\n",
       "1         80          170  27.681661\n",
       "2         60          175  19.591837\n",
       "3         90          174  29.726516\n",
       "4        100          185  29.218408"
      ]
     },
     "execution_count": 63,
     "metadata": {},
     "output_type": "execute_result"
    }
   ],
   "source": [
    "# e)\n",
    "imc.drop(\"Idade\", axis = 1, inplace = True)\n",
    "imc"
   ]
  },
  {
   "cell_type": "code",
   "execution_count": 64,
   "id": "bcfe0443",
   "metadata": {},
   "outputs": [],
   "source": [
    "# f)\n",
    "imc.to_csv(\"IMC.csv\", index=False)"
   ]
  },
  {
   "cell_type": "markdown",
   "id": "a39f3050",
   "metadata": {},
   "source": [
    "### 4)\n",
    "Carregue, em um objeto DataFrame, o arquivo CSV que você salvou no item (f) da questão anterior. Em seguida,\n",
    "\n",
    "(a) Crie uma nova coluna que contenha o nome das pessoas (sinta-se à vontade para atribuir os nomes que preferir).\n",
    "\n",
    "(b) Defina a nova coluna criada (com os nomes) como o índice (index) do seu DataFrame.\n",
    "\n",
    "(c) Obtenha o nome das pessoas que são classificadas com Sobrepeso (IMC entre 25 e 29,9)."
   ]
  },
  {
   "cell_type": "code",
   "execution_count": 65,
   "id": "a2724d5c",
   "metadata": {},
   "outputs": [],
   "source": [
    "imc = pd.read_csv(\"IMC.csv\")"
   ]
  },
  {
   "cell_type": "code",
   "execution_count": 70,
   "id": "22353046",
   "metadata": {},
   "outputs": [
    {
     "data": {
      "text/html": [
       "<div>\n",
       "<style scoped>\n",
       "    .dataframe tbody tr th:only-of-type {\n",
       "        vertical-align: middle;\n",
       "    }\n",
       "\n",
       "    .dataframe tbody tr th {\n",
       "        vertical-align: top;\n",
       "    }\n",
       "\n",
       "    .dataframe thead th {\n",
       "        text-align: right;\n",
       "    }\n",
       "</style>\n",
       "<table border=\"1\" class=\"dataframe\">\n",
       "  <thead>\n",
       "    <tr style=\"text-align: right;\">\n",
       "      <th></th>\n",
       "      <th>Peso (kg)</th>\n",
       "      <th>Altura (cm)</th>\n",
       "      <th>IMC</th>\n",
       "    </tr>\n",
       "    <tr>\n",
       "      <th>Nome</th>\n",
       "      <th></th>\n",
       "      <th></th>\n",
       "      <th></th>\n",
       "    </tr>\n",
       "  </thead>\n",
       "  <tbody>\n",
       "    <tr>\n",
       "      <th>João</th>\n",
       "      <td>72</td>\n",
       "      <td>180</td>\n",
       "      <td>22.222222</td>\n",
       "    </tr>\n",
       "    <tr>\n",
       "      <th>Maria</th>\n",
       "      <td>80</td>\n",
       "      <td>170</td>\n",
       "      <td>27.681661</td>\n",
       "    </tr>\n",
       "    <tr>\n",
       "      <th>Carlos</th>\n",
       "      <td>60</td>\n",
       "      <td>175</td>\n",
       "      <td>19.591837</td>\n",
       "    </tr>\n",
       "    <tr>\n",
       "      <th>José</th>\n",
       "      <td>90</td>\n",
       "      <td>174</td>\n",
       "      <td>29.726516</td>\n",
       "    </tr>\n",
       "    <tr>\n",
       "      <th>Ana</th>\n",
       "      <td>100</td>\n",
       "      <td>185</td>\n",
       "      <td>29.218408</td>\n",
       "    </tr>\n",
       "  </tbody>\n",
       "</table>\n",
       "</div>"
      ],
      "text/plain": [
       "        Peso (kg)  Altura (cm)        IMC\n",
       "Nome                                     \n",
       "João           72          180  22.222222\n",
       "Maria          80          170  27.681661\n",
       "Carlos         60          175  19.591837\n",
       "José           90          174  29.726516\n",
       "Ana           100          185  29.218408"
      ]
     },
     "execution_count": 70,
     "metadata": {},
     "output_type": "execute_result"
    }
   ],
   "source": [
    "# a) e b)\n",
    "imc['Nome'] = [\"João\", \"Maria\", \"Carlos\", \"José\", \"Ana\"]\n",
    "imc.set_index('Nome', inplace = True)\n",
    "imc"
   ]
  },
  {
   "cell_type": "code",
   "execution_count": 75,
   "id": "2bbbdf67",
   "metadata": {},
   "outputs": [
    {
     "data": {
      "text/plain": [
       "Index(['Maria', 'José', 'Ana'], dtype='object', name='Nome')"
      ]
     },
     "execution_count": 75,
     "metadata": {},
     "output_type": "execute_result"
    }
   ],
   "source": [
    "# c)\n",
    "imc[(imc[\"IMC\"] > 25) & (imc[\"IMC\"] < 29.9)].index"
   ]
  },
  {
   "cell_type": "markdown",
   "id": "7ea2576e",
   "metadata": {},
   "source": [
    "### 5)\n",
    "Carregue, em um objeto DataFrame, o mesmo dataset que você salvou na Questão 3. Em seguida,\n",
    "\n",
    "(a) Adicione uma nova coluna nesse DF chamada Classificação, que contenha a classificação de cada indivíduo, de acordo com o seu IMC. Para isso, consulte a tabela abaixo.\n",
    "\n",
    "|IMC|\tClassificação|\tObesidade (grau)|\n",
    "|-|-|-|\n",
    "|Menor que 18,5|\tMagreza|\t0|\n",
    "|Entre 18,5 e 24,9|\tNormal\t|0|\n",
    "|Entre 25,0 e 29,9\t|Sobrepeso\t|I|\n",
    "|Entre 30,0 e 39,9\t|Obesidade\t|II|\n",
    "|Maior que 40,0\t|Obesidade Grave|\tIII|\n",
    "\n",
    "(b) Salve em DataFrame no formato xlsx."
   ]
  },
  {
   "cell_type": "code",
   "execution_count": 76,
   "id": "5fec2c8d",
   "metadata": {},
   "outputs": [],
   "source": [
    "imc = pd.read_csv(\"IMC.csv\")"
   ]
  },
  {
   "cell_type": "code",
   "execution_count": 77,
   "id": "4a4cb471",
   "metadata": {},
   "outputs": [
    {
     "data": {
      "text/html": [
       "<div>\n",
       "<style scoped>\n",
       "    .dataframe tbody tr th:only-of-type {\n",
       "        vertical-align: middle;\n",
       "    }\n",
       "\n",
       "    .dataframe tbody tr th {\n",
       "        vertical-align: top;\n",
       "    }\n",
       "\n",
       "    .dataframe thead th {\n",
       "        text-align: right;\n",
       "    }\n",
       "</style>\n",
       "<table border=\"1\" class=\"dataframe\">\n",
       "  <thead>\n",
       "    <tr style=\"text-align: right;\">\n",
       "      <th></th>\n",
       "      <th>Peso (kg)</th>\n",
       "      <th>Altura (cm)</th>\n",
       "      <th>IMC</th>\n",
       "    </tr>\n",
       "  </thead>\n",
       "  <tbody>\n",
       "    <tr>\n",
       "      <th>0</th>\n",
       "      <td>72</td>\n",
       "      <td>180</td>\n",
       "      <td>22.222222</td>\n",
       "    </tr>\n",
       "    <tr>\n",
       "      <th>1</th>\n",
       "      <td>80</td>\n",
       "      <td>170</td>\n",
       "      <td>27.681661</td>\n",
       "    </tr>\n",
       "    <tr>\n",
       "      <th>2</th>\n",
       "      <td>60</td>\n",
       "      <td>175</td>\n",
       "      <td>19.591837</td>\n",
       "    </tr>\n",
       "    <tr>\n",
       "      <th>3</th>\n",
       "      <td>90</td>\n",
       "      <td>174</td>\n",
       "      <td>29.726516</td>\n",
       "    </tr>\n",
       "    <tr>\n",
       "      <th>4</th>\n",
       "      <td>100</td>\n",
       "      <td>185</td>\n",
       "      <td>29.218408</td>\n",
       "    </tr>\n",
       "  </tbody>\n",
       "</table>\n",
       "</div>"
      ],
      "text/plain": [
       "   Peso (kg)  Altura (cm)        IMC\n",
       "0         72          180  22.222222\n",
       "1         80          170  27.681661\n",
       "2         60          175  19.591837\n",
       "3         90          174  29.726516\n",
       "4        100          185  29.218408"
      ]
     },
     "execution_count": 77,
     "metadata": {},
     "output_type": "execute_result"
    }
   ],
   "source": [
    "imc"
   ]
  },
  {
   "cell_type": "code",
   "execution_count": 78,
   "id": "d788ea3e",
   "metadata": {},
   "outputs": [
    {
     "data": {
      "text/html": [
       "<div>\n",
       "<style scoped>\n",
       "    .dataframe tbody tr th:only-of-type {\n",
       "        vertical-align: middle;\n",
       "    }\n",
       "\n",
       "    .dataframe tbody tr th {\n",
       "        vertical-align: top;\n",
       "    }\n",
       "\n",
       "    .dataframe thead th {\n",
       "        text-align: right;\n",
       "    }\n",
       "</style>\n",
       "<table border=\"1\" class=\"dataframe\">\n",
       "  <thead>\n",
       "    <tr style=\"text-align: right;\">\n",
       "      <th></th>\n",
       "      <th>Peso (kg)</th>\n",
       "      <th>Altura (cm)</th>\n",
       "      <th>IMC</th>\n",
       "      <th>Classificação</th>\n",
       "    </tr>\n",
       "  </thead>\n",
       "  <tbody>\n",
       "    <tr>\n",
       "      <th>0</th>\n",
       "      <td>72</td>\n",
       "      <td>180</td>\n",
       "      <td>22.222222</td>\n",
       "      <td>Normal</td>\n",
       "    </tr>\n",
       "    <tr>\n",
       "      <th>1</th>\n",
       "      <td>80</td>\n",
       "      <td>170</td>\n",
       "      <td>27.681661</td>\n",
       "      <td>Sobrepeso</td>\n",
       "    </tr>\n",
       "    <tr>\n",
       "      <th>2</th>\n",
       "      <td>60</td>\n",
       "      <td>175</td>\n",
       "      <td>19.591837</td>\n",
       "      <td>Normal</td>\n",
       "    </tr>\n",
       "    <tr>\n",
       "      <th>3</th>\n",
       "      <td>90</td>\n",
       "      <td>174</td>\n",
       "      <td>29.726516</td>\n",
       "      <td>Sobrepeso</td>\n",
       "    </tr>\n",
       "    <tr>\n",
       "      <th>4</th>\n",
       "      <td>100</td>\n",
       "      <td>185</td>\n",
       "      <td>29.218408</td>\n",
       "      <td>Sobrepeso</td>\n",
       "    </tr>\n",
       "  </tbody>\n",
       "</table>\n",
       "</div>"
      ],
      "text/plain": [
       "   Peso (kg)  Altura (cm)        IMC Classificação\n",
       "0         72          180  22.222222        Normal\n",
       "1         80          170  27.681661     Sobrepeso\n",
       "2         60          175  19.591837        Normal\n",
       "3         90          174  29.726516     Sobrepeso\n",
       "4        100          185  29.218408     Sobrepeso"
      ]
     },
     "execution_count": 78,
     "metadata": {},
     "output_type": "execute_result"
    }
   ],
   "source": [
    "# a)\n",
    "imc[\"Classificação\"] = [\"Normal\", \"Sobrepeso\", \"Normal\", \"Sobrepeso\", \"Sobrepeso\"]\n",
    "imc"
   ]
  },
  {
   "cell_type": "markdown",
   "id": "8770331c",
   "metadata": {},
   "source": [
    "## LC | Pandas 2"
   ]
  },
  {
   "cell_type": "markdown",
   "id": "e7a7bafe",
   "metadata": {},
   "source": [
    "### 1)\n",
    "O arquivo ```avocado.csv``` consiste em um dataset que contém dados sobre vendas de abacates (avocado, em inglês) em diversas regiões dos Estados Unidos. Essa dataset contém as seguintes colunas:\n",
    "\n",
    "```Date``` - a data da observação\n",
    "\n",
    "```AveragePrice``` - o preço médio de um único abacate\n",
    "\n",
    "```year``` - o ano\n",
    "\n",
    "```region``` - a cidade ou região da observação\n",
    "\n",
    "```Total Volume``` - volume total de abacates vendidos\n",
    "\n",
    "Além das informações acima, contidas no arquivo ```avocado.csv```, o tipo do abacate (convencional ou orgânico) também seria uma informação importante para a sua análise. Suponhamos que você conseguiu essas informações para cada uma das observações do arquivo ```avocado.csv```, na mesma ordem, e salvou-as no arquivo ```avocado_type.csv```. Portanto, tudo o que você precisa é juntar esses dois arquivos em um mesmo DataFrame. E, em seguida, salve-o em um arquivo csv.\n",
    "\n",
    "PS. Caso queira criar uma Series com os dados aleatórios para o tipo de abacate, utilize o código abaixo:\n",
    "\n",
    "```python\n",
    "tipos = pd.Series(np.random.randint(0, 2, df_avocado.shape[0]))\n",
    "tipos = tipos.map({0: 'convencional', 1:'orgânico'})\n",
    "```\n"
   ]
  },
  {
   "cell_type": "code",
   "execution_count": 98,
   "id": "36f2ca67",
   "metadata": {},
   "outputs": [],
   "source": [
    "avocado = pd.read_csv(\"avocado.csv\")\n",
    "tipos = pd.read_csv(\"avocado_type.csv\")"
   ]
  },
  {
   "cell_type": "code",
   "execution_count": 99,
   "id": "ea0c2e91",
   "metadata": {},
   "outputs": [
    {
     "data": {
      "text/html": [
       "<div>\n",
       "<style scoped>\n",
       "    .dataframe tbody tr th:only-of-type {\n",
       "        vertical-align: middle;\n",
       "    }\n",
       "\n",
       "    .dataframe tbody tr th {\n",
       "        vertical-align: top;\n",
       "    }\n",
       "\n",
       "    .dataframe thead th {\n",
       "        text-align: right;\n",
       "    }\n",
       "</style>\n",
       "<table border=\"1\" class=\"dataframe\">\n",
       "  <thead>\n",
       "    <tr style=\"text-align: right;\">\n",
       "      <th></th>\n",
       "      <th>Date</th>\n",
       "      <th>AveragePrice</th>\n",
       "      <th>Total Volume</th>\n",
       "      <th>year</th>\n",
       "      <th>region</th>\n",
       "      <th>Type</th>\n",
       "    </tr>\n",
       "  </thead>\n",
       "  <tbody>\n",
       "    <tr>\n",
       "      <th>0</th>\n",
       "      <td>2015-12-27</td>\n",
       "      <td>1.33</td>\n",
       "      <td>64236.62</td>\n",
       "      <td>2015</td>\n",
       "      <td>Albany</td>\n",
       "      <td>conventional</td>\n",
       "    </tr>\n",
       "    <tr>\n",
       "      <th>1</th>\n",
       "      <td>2015-12-20</td>\n",
       "      <td>1.35</td>\n",
       "      <td>54876.98</td>\n",
       "      <td>2015</td>\n",
       "      <td>Albany</td>\n",
       "      <td>conventional</td>\n",
       "    </tr>\n",
       "    <tr>\n",
       "      <th>2</th>\n",
       "      <td>2015-12-13</td>\n",
       "      <td>0.93</td>\n",
       "      <td>118220.22</td>\n",
       "      <td>2015</td>\n",
       "      <td>Albany</td>\n",
       "      <td>conventional</td>\n",
       "    </tr>\n",
       "    <tr>\n",
       "      <th>3</th>\n",
       "      <td>2015-12-06</td>\n",
       "      <td>1.08</td>\n",
       "      <td>78992.15</td>\n",
       "      <td>2015</td>\n",
       "      <td>Albany</td>\n",
       "      <td>conventional</td>\n",
       "    </tr>\n",
       "    <tr>\n",
       "      <th>4</th>\n",
       "      <td>2015-11-29</td>\n",
       "      <td>1.28</td>\n",
       "      <td>51039.60</td>\n",
       "      <td>2015</td>\n",
       "      <td>Albany</td>\n",
       "      <td>conventional</td>\n",
       "    </tr>\n",
       "    <tr>\n",
       "      <th>...</th>\n",
       "      <td>...</td>\n",
       "      <td>...</td>\n",
       "      <td>...</td>\n",
       "      <td>...</td>\n",
       "      <td>...</td>\n",
       "      <td>...</td>\n",
       "    </tr>\n",
       "    <tr>\n",
       "      <th>18244</th>\n",
       "      <td>2018-02-04</td>\n",
       "      <td>1.63</td>\n",
       "      <td>17074.83</td>\n",
       "      <td>2018</td>\n",
       "      <td>WestTexNewMexico</td>\n",
       "      <td>organic</td>\n",
       "    </tr>\n",
       "    <tr>\n",
       "      <th>18245</th>\n",
       "      <td>2018-01-28</td>\n",
       "      <td>1.71</td>\n",
       "      <td>13888.04</td>\n",
       "      <td>2018</td>\n",
       "      <td>WestTexNewMexico</td>\n",
       "      <td>organic</td>\n",
       "    </tr>\n",
       "    <tr>\n",
       "      <th>18246</th>\n",
       "      <td>2018-01-21</td>\n",
       "      <td>1.87</td>\n",
       "      <td>13766.76</td>\n",
       "      <td>2018</td>\n",
       "      <td>WestTexNewMexico</td>\n",
       "      <td>organic</td>\n",
       "    </tr>\n",
       "    <tr>\n",
       "      <th>18247</th>\n",
       "      <td>2018-01-14</td>\n",
       "      <td>1.93</td>\n",
       "      <td>16205.22</td>\n",
       "      <td>2018</td>\n",
       "      <td>WestTexNewMexico</td>\n",
       "      <td>organic</td>\n",
       "    </tr>\n",
       "    <tr>\n",
       "      <th>18248</th>\n",
       "      <td>2018-01-07</td>\n",
       "      <td>1.62</td>\n",
       "      <td>17489.58</td>\n",
       "      <td>2018</td>\n",
       "      <td>WestTexNewMexico</td>\n",
       "      <td>organic</td>\n",
       "    </tr>\n",
       "  </tbody>\n",
       "</table>\n",
       "<p>18249 rows × 6 columns</p>\n",
       "</div>"
      ],
      "text/plain": [
       "             Date  AveragePrice  Total Volume  year            region  \\\n",
       "0      2015-12-27          1.33      64236.62  2015            Albany   \n",
       "1      2015-12-20          1.35      54876.98  2015            Albany   \n",
       "2      2015-12-13          0.93     118220.22  2015            Albany   \n",
       "3      2015-12-06          1.08      78992.15  2015            Albany   \n",
       "4      2015-11-29          1.28      51039.60  2015            Albany   \n",
       "...           ...           ...           ...   ...               ...   \n",
       "18244  2018-02-04          1.63      17074.83  2018  WestTexNewMexico   \n",
       "18245  2018-01-28          1.71      13888.04  2018  WestTexNewMexico   \n",
       "18246  2018-01-21          1.87      13766.76  2018  WestTexNewMexico   \n",
       "18247  2018-01-14          1.93      16205.22  2018  WestTexNewMexico   \n",
       "18248  2018-01-07          1.62      17489.58  2018  WestTexNewMexico   \n",
       "\n",
       "               Type  \n",
       "0      conventional  \n",
       "1      conventional  \n",
       "2      conventional  \n",
       "3      conventional  \n",
       "4      conventional  \n",
       "...             ...  \n",
       "18244       organic  \n",
       "18245       organic  \n",
       "18246       organic  \n",
       "18247       organic  \n",
       "18248       organic  \n",
       "\n",
       "[18249 rows x 6 columns]"
      ]
     },
     "execution_count": 99,
     "metadata": {},
     "output_type": "execute_result"
    }
   ],
   "source": [
    "avocado[\"Type\"] = tipos\n",
    "avocado"
   ]
  },
  {
   "cell_type": "markdown",
   "id": "1786040f",
   "metadata": {},
   "source": [
    "### 2)\n",
    "Carregue o arquivo csv que você salvou na questão anterior e, em seguida, obtenha o que é solicitado nos itens elencados abaixo:\n",
    "\n",
    "(a) A quantidade de abacates do tipo convecional e do tipo orgânico.\n",
    "\n",
    "(b) A quantidade de registros (linhas) de abacates vendidos para cada região.\n",
    "\n",
    "(c) Para que todos os labels das colunas fiquem padronizados, renomeie aqueles que estão iniciando em letra minúscula para que iniciem em letra maiúscula.\n",
    "\n",
    "(d) Uma vez que você já possui uma coluna com a data, remova a coluna que apresenta o ano."
   ]
  },
  {
   "cell_type": "code",
   "execution_count": 152,
   "id": "84f7b7fb",
   "metadata": {},
   "outputs": [
    {
     "data": {
      "text/plain": [
       "conventional    9126\n",
       "organic         9123\n",
       "Name: Type, dtype: int64"
      ]
     },
     "execution_count": 152,
     "metadata": {},
     "output_type": "execute_result"
    }
   ],
   "source": [
    "# a)\n",
    "avocado[\"Type\"].value_counts()"
   ]
  },
  {
   "cell_type": "code",
   "execution_count": 153,
   "id": "bb4fe8d0",
   "metadata": {},
   "outputs": [
    {
     "data": {
      "text/html": [
       "<div>\n",
       "<style scoped>\n",
       "    .dataframe tbody tr th:only-of-type {\n",
       "        vertical-align: middle;\n",
       "    }\n",
       "\n",
       "    .dataframe tbody tr th {\n",
       "        vertical-align: top;\n",
       "    }\n",
       "\n",
       "    .dataframe thead th {\n",
       "        text-align: right;\n",
       "    }\n",
       "</style>\n",
       "<table border=\"1\" class=\"dataframe\">\n",
       "  <thead>\n",
       "    <tr style=\"text-align: right;\">\n",
       "      <th></th>\n",
       "      <th>Total Volume</th>\n",
       "    </tr>\n",
       "    <tr>\n",
       "      <th>region</th>\n",
       "      <th></th>\n",
       "    </tr>\n",
       "  </thead>\n",
       "  <tbody>\n",
       "    <tr>\n",
       "      <th>Albany</th>\n",
       "      <td>338</td>\n",
       "    </tr>\n",
       "    <tr>\n",
       "      <th>Atlanta</th>\n",
       "      <td>338</td>\n",
       "    </tr>\n",
       "    <tr>\n",
       "      <th>BaltimoreWashington</th>\n",
       "      <td>338</td>\n",
       "    </tr>\n",
       "    <tr>\n",
       "      <th>Boise</th>\n",
       "      <td>338</td>\n",
       "    </tr>\n",
       "    <tr>\n",
       "      <th>Boston</th>\n",
       "      <td>338</td>\n",
       "    </tr>\n",
       "    <tr>\n",
       "      <th>BuffaloRochester</th>\n",
       "      <td>338</td>\n",
       "    </tr>\n",
       "    <tr>\n",
       "      <th>California</th>\n",
       "      <td>338</td>\n",
       "    </tr>\n",
       "    <tr>\n",
       "      <th>Charlotte</th>\n",
       "      <td>338</td>\n",
       "    </tr>\n",
       "    <tr>\n",
       "      <th>Chicago</th>\n",
       "      <td>338</td>\n",
       "    </tr>\n",
       "    <tr>\n",
       "      <th>CincinnatiDayton</th>\n",
       "      <td>338</td>\n",
       "    </tr>\n",
       "    <tr>\n",
       "      <th>Columbus</th>\n",
       "      <td>338</td>\n",
       "    </tr>\n",
       "    <tr>\n",
       "      <th>DallasFtWorth</th>\n",
       "      <td>338</td>\n",
       "    </tr>\n",
       "    <tr>\n",
       "      <th>Denver</th>\n",
       "      <td>338</td>\n",
       "    </tr>\n",
       "    <tr>\n",
       "      <th>Detroit</th>\n",
       "      <td>338</td>\n",
       "    </tr>\n",
       "    <tr>\n",
       "      <th>GrandRapids</th>\n",
       "      <td>338</td>\n",
       "    </tr>\n",
       "    <tr>\n",
       "      <th>GreatLakes</th>\n",
       "      <td>338</td>\n",
       "    </tr>\n",
       "    <tr>\n",
       "      <th>HarrisburgScranton</th>\n",
       "      <td>338</td>\n",
       "    </tr>\n",
       "    <tr>\n",
       "      <th>HartfordSpringfield</th>\n",
       "      <td>338</td>\n",
       "    </tr>\n",
       "    <tr>\n",
       "      <th>Houston</th>\n",
       "      <td>338</td>\n",
       "    </tr>\n",
       "    <tr>\n",
       "      <th>Indianapolis</th>\n",
       "      <td>338</td>\n",
       "    </tr>\n",
       "    <tr>\n",
       "      <th>Jacksonville</th>\n",
       "      <td>338</td>\n",
       "    </tr>\n",
       "    <tr>\n",
       "      <th>LasVegas</th>\n",
       "      <td>338</td>\n",
       "    </tr>\n",
       "    <tr>\n",
       "      <th>LosAngeles</th>\n",
       "      <td>338</td>\n",
       "    </tr>\n",
       "    <tr>\n",
       "      <th>Louisville</th>\n",
       "      <td>338</td>\n",
       "    </tr>\n",
       "    <tr>\n",
       "      <th>MiamiFtLauderdale</th>\n",
       "      <td>338</td>\n",
       "    </tr>\n",
       "    <tr>\n",
       "      <th>Midsouth</th>\n",
       "      <td>338</td>\n",
       "    </tr>\n",
       "    <tr>\n",
       "      <th>Nashville</th>\n",
       "      <td>338</td>\n",
       "    </tr>\n",
       "    <tr>\n",
       "      <th>NewOrleansMobile</th>\n",
       "      <td>338</td>\n",
       "    </tr>\n",
       "    <tr>\n",
       "      <th>NewYork</th>\n",
       "      <td>338</td>\n",
       "    </tr>\n",
       "    <tr>\n",
       "      <th>Northeast</th>\n",
       "      <td>338</td>\n",
       "    </tr>\n",
       "    <tr>\n",
       "      <th>NorthernNewEngland</th>\n",
       "      <td>338</td>\n",
       "    </tr>\n",
       "    <tr>\n",
       "      <th>Orlando</th>\n",
       "      <td>338</td>\n",
       "    </tr>\n",
       "    <tr>\n",
       "      <th>Philadelphia</th>\n",
       "      <td>338</td>\n",
       "    </tr>\n",
       "    <tr>\n",
       "      <th>PhoenixTucson</th>\n",
       "      <td>338</td>\n",
       "    </tr>\n",
       "    <tr>\n",
       "      <th>Pittsburgh</th>\n",
       "      <td>338</td>\n",
       "    </tr>\n",
       "    <tr>\n",
       "      <th>Plains</th>\n",
       "      <td>338</td>\n",
       "    </tr>\n",
       "    <tr>\n",
       "      <th>Portland</th>\n",
       "      <td>338</td>\n",
       "    </tr>\n",
       "    <tr>\n",
       "      <th>RaleighGreensboro</th>\n",
       "      <td>338</td>\n",
       "    </tr>\n",
       "    <tr>\n",
       "      <th>RichmondNorfolk</th>\n",
       "      <td>338</td>\n",
       "    </tr>\n",
       "    <tr>\n",
       "      <th>Roanoke</th>\n",
       "      <td>338</td>\n",
       "    </tr>\n",
       "    <tr>\n",
       "      <th>Sacramento</th>\n",
       "      <td>338</td>\n",
       "    </tr>\n",
       "    <tr>\n",
       "      <th>SanDiego</th>\n",
       "      <td>338</td>\n",
       "    </tr>\n",
       "    <tr>\n",
       "      <th>SanFrancisco</th>\n",
       "      <td>338</td>\n",
       "    </tr>\n",
       "    <tr>\n",
       "      <th>Seattle</th>\n",
       "      <td>338</td>\n",
       "    </tr>\n",
       "    <tr>\n",
       "      <th>SouthCarolina</th>\n",
       "      <td>338</td>\n",
       "    </tr>\n",
       "    <tr>\n",
       "      <th>SouthCentral</th>\n",
       "      <td>338</td>\n",
       "    </tr>\n",
       "    <tr>\n",
       "      <th>Southeast</th>\n",
       "      <td>338</td>\n",
       "    </tr>\n",
       "    <tr>\n",
       "      <th>Spokane</th>\n",
       "      <td>338</td>\n",
       "    </tr>\n",
       "    <tr>\n",
       "      <th>StLouis</th>\n",
       "      <td>338</td>\n",
       "    </tr>\n",
       "    <tr>\n",
       "      <th>Syracuse</th>\n",
       "      <td>338</td>\n",
       "    </tr>\n",
       "    <tr>\n",
       "      <th>Tampa</th>\n",
       "      <td>338</td>\n",
       "    </tr>\n",
       "    <tr>\n",
       "      <th>TotalUS</th>\n",
       "      <td>338</td>\n",
       "    </tr>\n",
       "    <tr>\n",
       "      <th>West</th>\n",
       "      <td>338</td>\n",
       "    </tr>\n",
       "    <tr>\n",
       "      <th>WestTexNewMexico</th>\n",
       "      <td>335</td>\n",
       "    </tr>\n",
       "  </tbody>\n",
       "</table>\n",
       "</div>"
      ],
      "text/plain": [
       "                     Total Volume\n",
       "region                           \n",
       "Albany                        338\n",
       "Atlanta                       338\n",
       "BaltimoreWashington           338\n",
       "Boise                         338\n",
       "Boston                        338\n",
       "BuffaloRochester              338\n",
       "California                    338\n",
       "Charlotte                     338\n",
       "Chicago                       338\n",
       "CincinnatiDayton              338\n",
       "Columbus                      338\n",
       "DallasFtWorth                 338\n",
       "Denver                        338\n",
       "Detroit                       338\n",
       "GrandRapids                   338\n",
       "GreatLakes                    338\n",
       "HarrisburgScranton            338\n",
       "HartfordSpringfield           338\n",
       "Houston                       338\n",
       "Indianapolis                  338\n",
       "Jacksonville                  338\n",
       "LasVegas                      338\n",
       "LosAngeles                    338\n",
       "Louisville                    338\n",
       "MiamiFtLauderdale             338\n",
       "Midsouth                      338\n",
       "Nashville                     338\n",
       "NewOrleansMobile              338\n",
       "NewYork                       338\n",
       "Northeast                     338\n",
       "NorthernNewEngland            338\n",
       "Orlando                       338\n",
       "Philadelphia                  338\n",
       "PhoenixTucson                 338\n",
       "Pittsburgh                    338\n",
       "Plains                        338\n",
       "Portland                      338\n",
       "RaleighGreensboro             338\n",
       "RichmondNorfolk               338\n",
       "Roanoke                       338\n",
       "Sacramento                    338\n",
       "SanDiego                      338\n",
       "SanFrancisco                  338\n",
       "Seattle                       338\n",
       "SouthCarolina                 338\n",
       "SouthCentral                  338\n",
       "Southeast                     338\n",
       "Spokane                       338\n",
       "StLouis                       338\n",
       "Syracuse                      338\n",
       "Tampa                         338\n",
       "TotalUS                       338\n",
       "West                          338\n",
       "WestTexNewMexico              335"
      ]
     },
     "execution_count": 153,
     "metadata": {},
     "output_type": "execute_result"
    }
   ],
   "source": [
    "# b)\n",
    "avocado.groupby(\"region\")[[\"Total Volume\"]].count()"
   ]
  },
  {
   "cell_type": "code",
   "execution_count": 155,
   "id": "59d98d94",
   "metadata": {},
   "outputs": [],
   "source": [
    "# c)\n",
    "avocado.columns = avocado.columns.str.capitalize()"
   ]
  },
  {
   "cell_type": "code",
   "execution_count": 157,
   "id": "f9c2b796",
   "metadata": {},
   "outputs": [
    {
     "data": {
      "text/html": [
       "<div>\n",
       "<style scoped>\n",
       "    .dataframe tbody tr th:only-of-type {\n",
       "        vertical-align: middle;\n",
       "    }\n",
       "\n",
       "    .dataframe tbody tr th {\n",
       "        vertical-align: top;\n",
       "    }\n",
       "\n",
       "    .dataframe thead th {\n",
       "        text-align: right;\n",
       "    }\n",
       "</style>\n",
       "<table border=\"1\" class=\"dataframe\">\n",
       "  <thead>\n",
       "    <tr style=\"text-align: right;\">\n",
       "      <th></th>\n",
       "      <th>Date</th>\n",
       "      <th>Averageprice</th>\n",
       "      <th>Total volume</th>\n",
       "      <th>Year</th>\n",
       "      <th>Region</th>\n",
       "      <th>Type</th>\n",
       "    </tr>\n",
       "  </thead>\n",
       "  <tbody>\n",
       "    <tr>\n",
       "      <th>0</th>\n",
       "      <td>2015-12-27</td>\n",
       "      <td>1.33</td>\n",
       "      <td>64,236.62</td>\n",
       "      <td>2015</td>\n",
       "      <td>Albany</td>\n",
       "      <td>conventional</td>\n",
       "    </tr>\n",
       "    <tr>\n",
       "      <th>1</th>\n",
       "      <td>2015-12-20</td>\n",
       "      <td>1.35</td>\n",
       "      <td>54,876.98</td>\n",
       "      <td>2015</td>\n",
       "      <td>Albany</td>\n",
       "      <td>conventional</td>\n",
       "    </tr>\n",
       "    <tr>\n",
       "      <th>2</th>\n",
       "      <td>2015-12-13</td>\n",
       "      <td>0.93</td>\n",
       "      <td>118,220.22</td>\n",
       "      <td>2015</td>\n",
       "      <td>Albany</td>\n",
       "      <td>conventional</td>\n",
       "    </tr>\n",
       "    <tr>\n",
       "      <th>3</th>\n",
       "      <td>2015-12-06</td>\n",
       "      <td>1.08</td>\n",
       "      <td>78,992.15</td>\n",
       "      <td>2015</td>\n",
       "      <td>Albany</td>\n",
       "      <td>conventional</td>\n",
       "    </tr>\n",
       "    <tr>\n",
       "      <th>4</th>\n",
       "      <td>2015-11-29</td>\n",
       "      <td>1.28</td>\n",
       "      <td>51,039.60</td>\n",
       "      <td>2015</td>\n",
       "      <td>Albany</td>\n",
       "      <td>conventional</td>\n",
       "    </tr>\n",
       "  </tbody>\n",
       "</table>\n",
       "</div>"
      ],
      "text/plain": [
       "         Date  Averageprice  Total volume  Year  Region          Type\n",
       "0  2015-12-27          1.33     64,236.62  2015  Albany  conventional\n",
       "1  2015-12-20          1.35     54,876.98  2015  Albany  conventional\n",
       "2  2015-12-13          0.93    118,220.22  2015  Albany  conventional\n",
       "3  2015-12-06          1.08     78,992.15  2015  Albany  conventional\n",
       "4  2015-11-29          1.28     51,039.60  2015  Albany  conventional"
      ]
     },
     "execution_count": 157,
     "metadata": {},
     "output_type": "execute_result"
    }
   ],
   "source": [
    "avocado.head()"
   ]
  },
  {
   "cell_type": "code",
   "execution_count": 158,
   "id": "918624ca",
   "metadata": {},
   "outputs": [
    {
     "data": {
      "text/html": [
       "<div>\n",
       "<style scoped>\n",
       "    .dataframe tbody tr th:only-of-type {\n",
       "        vertical-align: middle;\n",
       "    }\n",
       "\n",
       "    .dataframe tbody tr th {\n",
       "        vertical-align: top;\n",
       "    }\n",
       "\n",
       "    .dataframe thead th {\n",
       "        text-align: right;\n",
       "    }\n",
       "</style>\n",
       "<table border=\"1\" class=\"dataframe\">\n",
       "  <thead>\n",
       "    <tr style=\"text-align: right;\">\n",
       "      <th></th>\n",
       "      <th>Date</th>\n",
       "      <th>Averageprice</th>\n",
       "      <th>Total volume</th>\n",
       "      <th>Region</th>\n",
       "      <th>Type</th>\n",
       "    </tr>\n",
       "  </thead>\n",
       "  <tbody>\n",
       "    <tr>\n",
       "      <th>0</th>\n",
       "      <td>2015-12-27</td>\n",
       "      <td>1.33</td>\n",
       "      <td>64,236.62</td>\n",
       "      <td>Albany</td>\n",
       "      <td>conventional</td>\n",
       "    </tr>\n",
       "    <tr>\n",
       "      <th>1</th>\n",
       "      <td>2015-12-20</td>\n",
       "      <td>1.35</td>\n",
       "      <td>54,876.98</td>\n",
       "      <td>Albany</td>\n",
       "      <td>conventional</td>\n",
       "    </tr>\n",
       "    <tr>\n",
       "      <th>2</th>\n",
       "      <td>2015-12-13</td>\n",
       "      <td>0.93</td>\n",
       "      <td>118,220.22</td>\n",
       "      <td>Albany</td>\n",
       "      <td>conventional</td>\n",
       "    </tr>\n",
       "    <tr>\n",
       "      <th>3</th>\n",
       "      <td>2015-12-06</td>\n",
       "      <td>1.08</td>\n",
       "      <td>78,992.15</td>\n",
       "      <td>Albany</td>\n",
       "      <td>conventional</td>\n",
       "    </tr>\n",
       "    <tr>\n",
       "      <th>4</th>\n",
       "      <td>2015-11-29</td>\n",
       "      <td>1.28</td>\n",
       "      <td>51,039.60</td>\n",
       "      <td>Albany</td>\n",
       "      <td>conventional</td>\n",
       "    </tr>\n",
       "    <tr>\n",
       "      <th>...</th>\n",
       "      <td>...</td>\n",
       "      <td>...</td>\n",
       "      <td>...</td>\n",
       "      <td>...</td>\n",
       "      <td>...</td>\n",
       "    </tr>\n",
       "    <tr>\n",
       "      <th>18244</th>\n",
       "      <td>2018-02-04</td>\n",
       "      <td>1.63</td>\n",
       "      <td>17,074.83</td>\n",
       "      <td>WestTexNewMexico</td>\n",
       "      <td>organic</td>\n",
       "    </tr>\n",
       "    <tr>\n",
       "      <th>18245</th>\n",
       "      <td>2018-01-28</td>\n",
       "      <td>1.71</td>\n",
       "      <td>13,888.04</td>\n",
       "      <td>WestTexNewMexico</td>\n",
       "      <td>organic</td>\n",
       "    </tr>\n",
       "    <tr>\n",
       "      <th>18246</th>\n",
       "      <td>2018-01-21</td>\n",
       "      <td>1.87</td>\n",
       "      <td>13,766.76</td>\n",
       "      <td>WestTexNewMexico</td>\n",
       "      <td>organic</td>\n",
       "    </tr>\n",
       "    <tr>\n",
       "      <th>18247</th>\n",
       "      <td>2018-01-14</td>\n",
       "      <td>1.93</td>\n",
       "      <td>16,205.22</td>\n",
       "      <td>WestTexNewMexico</td>\n",
       "      <td>organic</td>\n",
       "    </tr>\n",
       "    <tr>\n",
       "      <th>18248</th>\n",
       "      <td>2018-01-07</td>\n",
       "      <td>1.62</td>\n",
       "      <td>17,489.58</td>\n",
       "      <td>WestTexNewMexico</td>\n",
       "      <td>organic</td>\n",
       "    </tr>\n",
       "  </tbody>\n",
       "</table>\n",
       "<p>18249 rows × 5 columns</p>\n",
       "</div>"
      ],
      "text/plain": [
       "             Date  Averageprice  Total volume            Region          Type\n",
       "0      2015-12-27          1.33     64,236.62            Albany  conventional\n",
       "1      2015-12-20          1.35     54,876.98            Albany  conventional\n",
       "2      2015-12-13          0.93    118,220.22            Albany  conventional\n",
       "3      2015-12-06          1.08     78,992.15            Albany  conventional\n",
       "4      2015-11-29          1.28     51,039.60            Albany  conventional\n",
       "...           ...           ...           ...               ...           ...\n",
       "18244  2018-02-04          1.63     17,074.83  WestTexNewMexico       organic\n",
       "18245  2018-01-28          1.71     13,888.04  WestTexNewMexico       organic\n",
       "18246  2018-01-21          1.87     13,766.76  WestTexNewMexico       organic\n",
       "18247  2018-01-14          1.93     16,205.22  WestTexNewMexico       organic\n",
       "18248  2018-01-07          1.62     17,489.58  WestTexNewMexico       organic\n",
       "\n",
       "[18249 rows x 5 columns]"
      ]
     },
     "execution_count": 158,
     "metadata": {},
     "output_type": "execute_result"
    }
   ],
   "source": [
    "# d)\n",
    "avocado.drop(\"Year\", axis = 1, inplace = True)"
   ]
  },
  {
   "cell_type": "markdown",
   "id": "dd613ec2",
   "metadata": {},
   "source": [
    "### 3)\n",
    "Carregue, em um objeto DataFrame, o mesmo dataset que você salvou na questão Q1, agrupe os dados do DF pelo tipo do abacate e, em seguida, obtenha:\n",
    "\n",
    "(a) A volume total de abacates vendidos para cada tipo.\n",
    "\n",
    "(b) O preço médio dos abacates vendidos para cada tipo."
   ]
  },
  {
   "cell_type": "code",
   "execution_count": 105,
   "id": "d54118f2",
   "metadata": {},
   "outputs": [
    {
     "data": {
      "text/html": [
       "<div>\n",
       "<style scoped>\n",
       "    .dataframe tbody tr th:only-of-type {\n",
       "        vertical-align: middle;\n",
       "    }\n",
       "\n",
       "    .dataframe tbody tr th {\n",
       "        vertical-align: top;\n",
       "    }\n",
       "\n",
       "    .dataframe thead th {\n",
       "        text-align: right;\n",
       "    }\n",
       "</style>\n",
       "<table border=\"1\" class=\"dataframe\">\n",
       "  <thead>\n",
       "    <tr style=\"text-align: right;\">\n",
       "      <th></th>\n",
       "      <th>Total Volume</th>\n",
       "    </tr>\n",
       "    <tr>\n",
       "      <th>Type</th>\n",
       "      <th></th>\n",
       "    </tr>\n",
       "  </thead>\n",
       "  <tbody>\n",
       "    <tr>\n",
       "      <th>conventional</th>\n",
       "      <td>15,087,220,911.31</td>\n",
       "    </tr>\n",
       "    <tr>\n",
       "      <th>organic</th>\n",
       "      <td>436,181,682.09</td>\n",
       "    </tr>\n",
       "  </tbody>\n",
       "</table>\n",
       "</div>"
      ],
      "text/plain": [
       "                  Total Volume\n",
       "Type                          \n",
       "conventional 15,087,220,911.31\n",
       "organic         436,181,682.09"
      ]
     },
     "execution_count": 105,
     "metadata": {},
     "output_type": "execute_result"
    }
   ],
   "source": [
    "# a)\n",
    "avocado.groupby(\"Type\")[[\"Total Volume\"]].sum()"
   ]
  },
  {
   "cell_type": "code",
   "execution_count": 107,
   "id": "6c5571e8",
   "metadata": {},
   "outputs": [
    {
     "data": {
      "text/html": [
       "<div>\n",
       "<style scoped>\n",
       "    .dataframe tbody tr th:only-of-type {\n",
       "        vertical-align: middle;\n",
       "    }\n",
       "\n",
       "    .dataframe tbody tr th {\n",
       "        vertical-align: top;\n",
       "    }\n",
       "\n",
       "    .dataframe thead th {\n",
       "        text-align: right;\n",
       "    }\n",
       "</style>\n",
       "<table border=\"1\" class=\"dataframe\">\n",
       "  <thead>\n",
       "    <tr style=\"text-align: right;\">\n",
       "      <th></th>\n",
       "      <th>AveragePrice</th>\n",
       "    </tr>\n",
       "    <tr>\n",
       "      <th>Type</th>\n",
       "      <th></th>\n",
       "    </tr>\n",
       "  </thead>\n",
       "  <tbody>\n",
       "    <tr>\n",
       "      <th>conventional</th>\n",
       "      <td>10,568.27</td>\n",
       "    </tr>\n",
       "    <tr>\n",
       "      <th>organic</th>\n",
       "      <td>15,089.43</td>\n",
       "    </tr>\n",
       "  </tbody>\n",
       "</table>\n",
       "</div>"
      ],
      "text/plain": [
       "              AveragePrice\n",
       "Type                      \n",
       "conventional     10,568.27\n",
       "organic          15,089.43"
      ]
     },
     "execution_count": 107,
     "metadata": {},
     "output_type": "execute_result"
    }
   ],
   "source": [
    "# b)\n",
    "avocado.groupby(\"Type\")[[\"AveragePrice\"]].sum()"
   ]
  },
  {
   "cell_type": "markdown",
   "id": "2d9fc117",
   "metadata": {},
   "source": [
    "### 4)\n",
    "O arquivo ```googleplaystore.csv``` é um dataset que contém diversas informações sobre aplicativos disponíveis para download na Google Play Store. Logo após, verifique se existem dados duplicados e/ou ausentes nesse dataset.\n",
    "\n",
    "Caso existam dados duplicados, remova-os. Caso existam dados ausentes, você pode removê-los ou pensar em alguma maneira de preenchê-los."
   ]
  },
  {
   "cell_type": "code",
   "execution_count": 112,
   "id": "d0d92617",
   "metadata": {},
   "outputs": [
    {
     "name": "stdout",
     "output_type": "stream",
     "text": [
      "<class 'pandas.core.frame.DataFrame'>\n",
      "RangeIndex: 10841 entries, 0 to 10840\n",
      "Data columns (total 13 columns):\n",
      " #   Column          Non-Null Count  Dtype  \n",
      "---  ------          --------------  -----  \n",
      " 0   App             10841 non-null  object \n",
      " 1   Category        10841 non-null  object \n",
      " 2   Rating          9367 non-null   float64\n",
      " 3   Reviews         10841 non-null  object \n",
      " 4   Size            10841 non-null  object \n",
      " 5   Installs        10841 non-null  object \n",
      " 6   Type            10840 non-null  object \n",
      " 7   Price           10841 non-null  object \n",
      " 8   Content Rating  10840 non-null  object \n",
      " 9   Genres          10841 non-null  object \n",
      " 10  Last Updated    10841 non-null  object \n",
      " 11  Current Ver     10833 non-null  object \n",
      " 12  Android Ver     10838 non-null  object \n",
      "dtypes: float64(1), object(12)\n",
      "memory usage: 1.1+ MB\n"
     ]
    }
   ],
   "source": [
    "play = pd.read_csv(\"googleplaystore.csv\", sep = \",\")\n",
    "play.info()"
   ]
  },
  {
   "cell_type": "code",
   "execution_count": 114,
   "id": "2eb9ad54",
   "metadata": {},
   "outputs": [],
   "source": [
    "# Como a quantidade rows era baixa, melhor dropar\n",
    "play.dropna(subset = [\"Type\", \"Content Rating\", \"Current Ver\", \"Android Ver\"], inplace = True)"
   ]
  },
  {
   "cell_type": "code",
   "execution_count": 120,
   "id": "d675d5e1",
   "metadata": {},
   "outputs": [],
   "source": [
    "# Preenchimento com o valor da frente\n",
    "play.fillna(method = \"ffill\", inplace = True)"
   ]
  },
  {
   "cell_type": "code",
   "execution_count": 124,
   "id": "5ae4df02",
   "metadata": {},
   "outputs": [],
   "source": [
    "# Dropar duplicatas\n",
    "play.drop_duplicates(inplace = True)"
   ]
  },
  {
   "cell_type": "code",
   "execution_count": 126,
   "id": "bd69d05b",
   "metadata": {},
   "outputs": [
    {
     "name": "stdout",
     "output_type": "stream",
     "text": [
      "<class 'pandas.core.frame.DataFrame'>\n",
      "Int64Index: 10355 entries, 0 to 10840\n",
      "Data columns (total 13 columns):\n",
      " #   Column          Non-Null Count  Dtype  \n",
      "---  ------          --------------  -----  \n",
      " 0   App             10355 non-null  object \n",
      " 1   Category        10355 non-null  object \n",
      " 2   Rating          10355 non-null  float64\n",
      " 3   Reviews         10355 non-null  object \n",
      " 4   Size            10355 non-null  object \n",
      " 5   Installs        10355 non-null  object \n",
      " 6   Type            10355 non-null  object \n",
      " 7   Price           10355 non-null  object \n",
      " 8   Content Rating  10355 non-null  object \n",
      " 9   Genres          10355 non-null  object \n",
      " 10  Last Updated    10355 non-null  object \n",
      " 11  Current Ver     10355 non-null  object \n",
      " 12  Android Ver     10355 non-null  object \n",
      "dtypes: float64(1), object(12)\n",
      "memory usage: 1.1+ MB\n"
     ]
    }
   ],
   "source": [
    "play.info()"
   ]
  },
  {
   "cell_type": "markdown",
   "id": "93d0b220",
   "metadata": {},
   "source": [
    "### 5)\n",
    "O arquivo ```houses_to_rent.csv``` consiste em um dataset que contém dados sobre casas para alugar no Brasil. Carregue-o em um objeto DataFrame e verifique os dados contidos nas colunas desse DF (você pode utilizar os métodos ```head```, ```tail``` e ```info```). Logo após, verifique se existem dados duplicados e/ou ausentes nesse dataset.\n",
    "\n",
    "Caso existam dados duplicados, remova-os. Caso existam dados ausentes, você pode removê-los ou pensar em alguma maneira de preenchê-los."
   ]
  },
  {
   "cell_type": "code",
   "execution_count": 127,
   "id": "b7f23919",
   "metadata": {},
   "outputs": [],
   "source": [
    "houses = pd.read_csv(\"houses_to_rent.csv\")"
   ]
  },
  {
   "cell_type": "code",
   "execution_count": 134,
   "id": "aa1d7439",
   "metadata": {},
   "outputs": [
    {
     "data": {
      "text/html": [
       "<div>\n",
       "<style scoped>\n",
       "    .dataframe tbody tr th:only-of-type {\n",
       "        vertical-align: middle;\n",
       "    }\n",
       "\n",
       "    .dataframe tbody tr th {\n",
       "        vertical-align: top;\n",
       "    }\n",
       "\n",
       "    .dataframe thead th {\n",
       "        text-align: right;\n",
       "    }\n",
       "</style>\n",
       "<table border=\"1\" class=\"dataframe\">\n",
       "  <thead>\n",
       "    <tr style=\"text-align: right;\">\n",
       "      <th></th>\n",
       "      <th>city</th>\n",
       "      <th>area</th>\n",
       "      <th>rooms</th>\n",
       "      <th>bathroom</th>\n",
       "      <th>parking spaces</th>\n",
       "      <th>floor</th>\n",
       "      <th>animal</th>\n",
       "      <th>furniture</th>\n",
       "      <th>hoa (R$)</th>\n",
       "      <th>rent amount (R$)</th>\n",
       "      <th>property tax (R$)</th>\n",
       "      <th>fire insurance (R$)</th>\n",
       "      <th>total (R$)</th>\n",
       "    </tr>\n",
       "  </thead>\n",
       "  <tbody>\n",
       "    <tr>\n",
       "      <th>0</th>\n",
       "      <td>São Paulo</td>\n",
       "      <td>70</td>\n",
       "      <td>2</td>\n",
       "      <td>1</td>\n",
       "      <td>1</td>\n",
       "      <td>7</td>\n",
       "      <td>acept</td>\n",
       "      <td>furnished</td>\n",
       "      <td>2065</td>\n",
       "      <td>3300</td>\n",
       "      <td>211</td>\n",
       "      <td>42</td>\n",
       "      <td>5618</td>\n",
       "    </tr>\n",
       "    <tr>\n",
       "      <th>1</th>\n",
       "      <td>São Paulo</td>\n",
       "      <td>320</td>\n",
       "      <td>4</td>\n",
       "      <td>4</td>\n",
       "      <td>0</td>\n",
       "      <td>20</td>\n",
       "      <td>acept</td>\n",
       "      <td>not furnished</td>\n",
       "      <td>1200</td>\n",
       "      <td>4960</td>\n",
       "      <td>1750</td>\n",
       "      <td>63</td>\n",
       "      <td>7973</td>\n",
       "    </tr>\n",
       "    <tr>\n",
       "      <th>2</th>\n",
       "      <td>Porto Alegre</td>\n",
       "      <td>80</td>\n",
       "      <td>1</td>\n",
       "      <td>1</td>\n",
       "      <td>1</td>\n",
       "      <td>6</td>\n",
       "      <td>acept</td>\n",
       "      <td>not furnished</td>\n",
       "      <td>1000</td>\n",
       "      <td>2800</td>\n",
       "      <td>0</td>\n",
       "      <td>41</td>\n",
       "      <td>3841</td>\n",
       "    </tr>\n",
       "    <tr>\n",
       "      <th>3</th>\n",
       "      <td>Porto Alegre</td>\n",
       "      <td>51</td>\n",
       "      <td>2</td>\n",
       "      <td>1</td>\n",
       "      <td>0</td>\n",
       "      <td>2</td>\n",
       "      <td>acept</td>\n",
       "      <td>not furnished</td>\n",
       "      <td>270</td>\n",
       "      <td>1112</td>\n",
       "      <td>22</td>\n",
       "      <td>17</td>\n",
       "      <td>1421</td>\n",
       "    </tr>\n",
       "    <tr>\n",
       "      <th>4</th>\n",
       "      <td>São Paulo</td>\n",
       "      <td>25</td>\n",
       "      <td>1</td>\n",
       "      <td>1</td>\n",
       "      <td>0</td>\n",
       "      <td>1</td>\n",
       "      <td>not acept</td>\n",
       "      <td>not furnished</td>\n",
       "      <td>0</td>\n",
       "      <td>800</td>\n",
       "      <td>25</td>\n",
       "      <td>11</td>\n",
       "      <td>836</td>\n",
       "    </tr>\n",
       "  </tbody>\n",
       "</table>\n",
       "</div>"
      ],
      "text/plain": [
       "           city  area  rooms  bathroom  parking spaces floor     animal  \\\n",
       "0     São Paulo    70      2         1               1     7      acept   \n",
       "1     São Paulo   320      4         4               0    20      acept   \n",
       "2  Porto Alegre    80      1         1               1     6      acept   \n",
       "3  Porto Alegre    51      2         1               0     2      acept   \n",
       "4     São Paulo    25      1         1               0     1  not acept   \n",
       "\n",
       "       furniture  hoa (R$)  rent amount (R$)  property tax (R$)  \\\n",
       "0      furnished      2065              3300                211   \n",
       "1  not furnished      1200              4960               1750   \n",
       "2  not furnished      1000              2800                  0   \n",
       "3  not furnished       270              1112                 22   \n",
       "4  not furnished         0               800                 25   \n",
       "\n",
       "   fire insurance (R$)  total (R$)  \n",
       "0                   42        5618  \n",
       "1                   63        7973  \n",
       "2                   41        3841  \n",
       "3                   17        1421  \n",
       "4                   11         836  "
      ]
     },
     "execution_count": 134,
     "metadata": {},
     "output_type": "execute_result"
    }
   ],
   "source": [
    "houses.head()"
   ]
  },
  {
   "cell_type": "code",
   "execution_count": 129,
   "id": "7b030c40",
   "metadata": {},
   "outputs": [
    {
     "name": "stdout",
     "output_type": "stream",
     "text": [
      "<class 'pandas.core.frame.DataFrame'>\n",
      "RangeIndex: 10692 entries, 0 to 10691\n",
      "Data columns (total 13 columns):\n",
      " #   Column               Non-Null Count  Dtype \n",
      "---  ------               --------------  ----- \n",
      " 0   city                 10692 non-null  object\n",
      " 1   area                 10692 non-null  int64 \n",
      " 2   rooms                10692 non-null  int64 \n",
      " 3   bathroom             10692 non-null  int64 \n",
      " 4   parking spaces       10692 non-null  int64 \n",
      " 5   floor                10692 non-null  object\n",
      " 6   animal               10692 non-null  object\n",
      " 7   furniture            10692 non-null  object\n",
      " 8   hoa (R$)             10692 non-null  int64 \n",
      " 9   rent amount (R$)     10692 non-null  int64 \n",
      " 10  property tax (R$)    10692 non-null  int64 \n",
      " 11  fire insurance (R$)  10692 non-null  int64 \n",
      " 12  total (R$)           10692 non-null  int64 \n",
      "dtypes: int64(9), object(4)\n",
      "memory usage: 1.1+ MB\n"
     ]
    }
   ],
   "source": [
    "houses.info()\n",
    "# Sem valores nulos"
   ]
  },
  {
   "cell_type": "code",
   "execution_count": 132,
   "id": "7d61bd4e",
   "metadata": {},
   "outputs": [
    {
     "data": {
      "text/plain": [
       "358"
      ]
     },
     "execution_count": 132,
     "metadata": {},
     "output_type": "execute_result"
    }
   ],
   "source": [
    "houses.duplicated().sum()\n",
    "# dropar duplicatas"
   ]
  },
  {
   "cell_type": "code",
   "execution_count": 136,
   "id": "057065dd",
   "metadata": {},
   "outputs": [],
   "source": [
    "houses.drop_duplicates(inplace = True)"
   ]
  },
  {
   "cell_type": "code",
   "execution_count": 138,
   "id": "4527a97d",
   "metadata": {},
   "outputs": [
    {
     "name": "stdout",
     "output_type": "stream",
     "text": [
      "<class 'pandas.core.frame.DataFrame'>\n",
      "Int64Index: 10334 entries, 0 to 10691\n",
      "Data columns (total 13 columns):\n",
      " #   Column               Non-Null Count  Dtype \n",
      "---  ------               --------------  ----- \n",
      " 0   city                 10334 non-null  object\n",
      " 1   area                 10334 non-null  int64 \n",
      " 2   rooms                10334 non-null  int64 \n",
      " 3   bathroom             10334 non-null  int64 \n",
      " 4   parking spaces       10334 non-null  int64 \n",
      " 5   floor                10334 non-null  object\n",
      " 6   animal               10334 non-null  object\n",
      " 7   furniture            10334 non-null  object\n",
      " 8   hoa (R$)             10334 non-null  int64 \n",
      " 9   rent amount (R$)     10334 non-null  int64 \n",
      " 10  property tax (R$)    10334 non-null  int64 \n",
      " 11  fire insurance (R$)  10334 non-null  int64 \n",
      " 12  total (R$)           10334 non-null  int64 \n",
      "dtypes: int64(9), object(4)\n",
      "memory usage: 1.1+ MB\n"
     ]
    }
   ],
   "source": [
    "houses.info()"
   ]
  }
 ],
 "metadata": {
  "kernelspec": {
   "display_name": "Python 3",
   "language": "python",
   "name": "python3"
  },
  "language_info": {
   "codemirror_mode": {
    "name": "ipython",
    "version": 3
   },
   "file_extension": ".py",
   "mimetype": "text/x-python",
   "name": "python",
   "nbconvert_exporter": "python",
   "pygments_lexer": "ipython3",
   "version": "3.8.8"
  }
 },
 "nbformat": 4,
 "nbformat_minor": 5
}
