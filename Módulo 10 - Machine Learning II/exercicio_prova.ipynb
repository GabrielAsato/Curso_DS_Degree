{
 "cells": [
  {
   "cell_type": "markdown",
   "id": "10e0516d",
   "metadata": {},
   "source": [
    "# Preparação para a Avaliação"
   ]
  },
  {
   "cell_type": "code",
   "execution_count": 1,
   "id": "bb94c132",
   "metadata": {},
   "outputs": [],
   "source": [
    "pergunta = \"\"\"\n",
    "{} - Pensando no algoritimo de Machine Learning \\\"{}\\\" responda:\n",
    "a) Resumidamente como ele funciona?\n",
    "b) Quais são suas forças, o que o difere dos outros algoritmos?\n",
    "c) E suas fraquezas?\n",
    "d) Como é seu método de avaliação?\n",
    "\"\"\""
   ]
  },
  {
   "cell_type": "code",
   "execution_count": 2,
   "id": "5a328fb2",
   "metadata": {},
   "outputs": [],
   "source": [
    "nomes_algoritmos = [\n",
    "    'SVM',\n",
    "    'SVR',\n",
    "    'AdaBoosting',\n",
    "    'GradientBooting',\n",
    "    'XGBoosting',\n",
    "    'K-Means',\n",
    "    'DBScan',\n",
    "    'Agglomerative Clustering'\n",
    "    \n",
    "]"
   ]
  },
  {
   "cell_type": "code",
   "execution_count": 3,
   "id": "1e848561",
   "metadata": {},
   "outputs": [
    {
     "name": "stdout",
     "output_type": "stream",
     "text": [
      "\n",
      "1 - Pensando no algoritimo de Machine Learning \"SVM\" responda:\n",
      "a) Resumidamente como ele funciona?\n",
      "b) Quais são suas forças, o que o difere dos outros algoritmos?\n",
      "c) E suas fraquezas?\n",
      "d) Como é seu método de avaliação?\n",
      "\n",
      "\n",
      "2 - Pensando no algoritimo de Machine Learning \"SVR\" responda:\n",
      "a) Resumidamente como ele funciona?\n",
      "b) Quais são suas forças, o que o difere dos outros algoritmos?\n",
      "c) E suas fraquezas?\n",
      "d) Como é seu método de avaliação?\n",
      "\n",
      "\n",
      "3 - Pensando no algoritimo de Machine Learning \"AdaBoosting\" responda:\n",
      "a) Resumidamente como ele funciona?\n",
      "b) Quais são suas forças, o que o difere dos outros algoritmos?\n",
      "c) E suas fraquezas?\n",
      "d) Como é seu método de avaliação?\n",
      "\n",
      "\n",
      "4 - Pensando no algoritimo de Machine Learning \"GradientBooting\" responda:\n",
      "a) Resumidamente como ele funciona?\n",
      "b) Quais são suas forças, o que o difere dos outros algoritmos?\n",
      "c) E suas fraquezas?\n",
      "d) Como é seu método de avaliação?\n",
      "\n",
      "\n",
      "5 - Pensando no algoritimo de Machine Learning \"XGBoosting\" responda:\n",
      "a) Resumidamente como ele funciona?\n",
      "b) Quais são suas forças, o que o difere dos outros algoritmos?\n",
      "c) E suas fraquezas?\n",
      "d) Como é seu método de avaliação?\n",
      "\n",
      "\n",
      "6 - Pensando no algoritimo de Machine Learning \"K-Means\" responda:\n",
      "a) Resumidamente como ele funciona?\n",
      "b) Quais são suas forças, o que o difere dos outros algoritmos?\n",
      "c) E suas fraquezas?\n",
      "d) Como é seu método de avaliação?\n",
      "\n",
      "\n",
      "7 - Pensando no algoritimo de Machine Learning \"DBScan\" responda:\n",
      "a) Resumidamente como ele funciona?\n",
      "b) Quais são suas forças, o que o difere dos outros algoritmos?\n",
      "c) E suas fraquezas?\n",
      "d) Como é seu método de avaliação?\n",
      "\n",
      "\n",
      "8 - Pensando no algoritimo de Machine Learning \"Agglomerative Clustering\" responda:\n",
      "a) Resumidamente como ele funciona?\n",
      "b) Quais são suas forças, o que o difere dos outros algoritmos?\n",
      "c) E suas fraquezas?\n",
      "d) Como é seu método de avaliação?\n",
      "\n"
     ]
    }
   ],
   "source": [
    "for i, nome_algoritmo in enumerate(nomes_algoritmos, start=1):\n",
    "    print(pergunta.format(i, nome_algoritmo))"
   ]
  }
 ],
 "metadata": {
  "kernelspec": {
   "display_name": "Python 3 (ipykernel)",
   "language": "python",
   "name": "python3"
  },
  "language_info": {
   "codemirror_mode": {
    "name": "ipython",
    "version": 3
   },
   "file_extension": ".py",
   "mimetype": "text/x-python",
   "name": "python",
   "nbconvert_exporter": "python",
   "pygments_lexer": "ipython3",
   "version": "3.8.10"
  }
 },
 "nbformat": 4,
 "nbformat_minor": 5
}
