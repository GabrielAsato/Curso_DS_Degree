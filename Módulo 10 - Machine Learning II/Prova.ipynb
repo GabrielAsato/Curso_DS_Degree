{
 "cells": [
  {
   "cell_type": "markdown",
   "id": "0c7ee8e5",
   "metadata": {},
   "source": [
    "# Prova - Módulo Machine Learning II"
   ]
  },
  {
   "cell_type": "markdown",
   "id": "6226b025",
   "metadata": {},
   "source": [
    "Vocês devem fazer hoje:  \n",
    "- Autoavaliação: https://forms.gle/gEjKfoBuMzKwnmpE6  \n",
    "- Avaliação do Professor: https://forms.gle/oBauCNiUXAVb4Qih6  "
   ]
  },
  {
   "cell_type": "markdown",
   "id": "62d3b9bb",
   "metadata": {},
   "source": [
    "thiago.kuma@gmail.com"
   ]
  },
  {
   "cell_type": "markdown",
   "id": "ba89490e",
   "metadata": {},
   "source": [
    "# Entrega do Projeto\n",
    "  \n",
    "Vocês devem fazer hoje, um planejamento inicial de como utilizar o tempo até o próximo módulo.\n",
    "  \n",
    "Deve conter nesse planejamento os passos(mínimo esses) e as datas:\n",
    "- Entendimento do dataset, quanto ao problema  \n",
    "- Análise exploratória \n",
    "- Definição dos preprocessamentos necessários  \n",
    "- Criação do pipeline com um modelo base  \n",
    "  \n",
    "No início do próximo módulo vamos avaliar esses passos para fazer parte da nota do projeto.\n",
    "  \n",
    "Durante o módulo de Machine Learning III vamos continuar com esse projeto e faremos uma nova avaliação para compor a nota final."
   ]
  },
  {
   "cell_type": "markdown",
   "id": "9115a4da",
   "metadata": {},
   "source": [
    "# Aula extra de Séries Temporais"
   ]
  },
  {
   "cell_type": "markdown",
   "id": "43dc13d5",
   "metadata": {},
   "source": [
    "---"
   ]
  },
  {
   "cell_type": "markdown",
   "id": "2e30fc64",
   "metadata": {},
   "source": [
    "# Quais estimadores tem predict_proba"
   ]
  },
  {
   "cell_type": "code",
   "execution_count": 1,
   "id": "423960b7",
   "metadata": {},
   "outputs": [
    {
     "name": "stdout",
     "output_type": "stream",
     "text": [
      "AdaBoostClassifier\n",
      "BaggingClassifier\n",
      "BayesianGaussianMixture\n",
      "BernoulliNB\n",
      "CalibratedClassifierCV\n",
      "CategoricalNB\n",
      "ClassifierChain\n",
      "ComplementNB\n",
      "DecisionTreeClassifier\n",
      "DummyClassifier\n",
      "ExtraTreeClassifier\n",
      "ExtraTreesClassifier\n",
      "GaussianMixture\n",
      "GaussianNB\n",
      "GaussianProcessClassifier\n",
      "GradientBoostingClassifier\n",
      "GridSearchCV\n",
      "HalvingGridSearchCV\n",
      "HalvingRandomSearchCV\n",
      "HistGradientBoostingClassifier\n",
      "KNeighborsClassifier\n",
      "LabelPropagation\n",
      "LabelSpreading\n",
      "LinearDiscriminantAnalysis\n",
      "LogisticRegression\n",
      "LogisticRegressionCV\n",
      "MLPClassifier\n",
      "MultiOutputClassifier\n",
      "MultinomialNB\n",
      "NuSVC\n",
      "OneVsRestClassifier\n",
      "Pipeline\n",
      "QuadraticDiscriminantAnalysis\n",
      "RFE\n",
      "RFECV\n",
      "RadiusNeighborsClassifier\n",
      "RandomForestClassifier\n",
      "RandomizedSearchCV\n",
      "SGDClassifier\n",
      "SVC\n",
      "SelfTrainingClassifier\n",
      "StackingClassifier\n",
      "VotingClassifier\n"
     ]
    }
   ],
   "source": [
    "# Ver quais estimadores tem predict_proba\n",
    "import sklearn\n",
    "estimators = sklearn.utils.all_estimators(type_filter=None)\n",
    "for name, class_ in estimators:\n",
    "    if hasattr(class_, 'predict_proba'):\n",
    "        print(name)"
   ]
  },
  {
   "cell_type": "code",
   "execution_count": null,
   "id": "9b782bb7",
   "metadata": {},
   "outputs": [],
   "source": []
  }
 ],
 "metadata": {
  "kernelspec": {
   "display_name": "Python 3",
   "language": "python",
   "name": "python3"
  },
  "language_info": {
   "codemirror_mode": {
    "name": "ipython",
    "version": 3
   },
   "file_extension": ".py",
   "mimetype": "text/x-python",
   "name": "python",
   "nbconvert_exporter": "python",
   "pygments_lexer": "ipython3",
   "version": "3.8.8"
  }
 },
 "nbformat": 4,
 "nbformat_minor": 5
}
