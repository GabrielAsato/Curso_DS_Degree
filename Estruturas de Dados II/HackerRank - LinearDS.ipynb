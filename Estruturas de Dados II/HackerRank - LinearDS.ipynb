{
 "cells": [
  {
   "cell_type": "markdown",
   "id": "bb47b7fc",
   "metadata": {},
   "source": [
    "# Print the Elements of a Linked List"
   ]
  },
  {
   "cell_type": "markdown",
   "id": "951747c2",
   "metadata": {},
   "source": [
    "```python\n",
    "# Contexto: a lista já existe, então criamos uma variável it que aponta para head (data = qualquer valor diferente de None, next = ponteiro para o próximo valor).\n",
    "\n",
    "# Como head não é None, então it.data é printado\n",
    "def printLinkedList(head):\n",
    "    it = head # head é um valor qualquer diferente de None\n",
    "    while it is not None: # Enquanto it não for None...\n",
    "        print(it.data) # ...it.data (atributo) é printado e...\n",
    "        it = it.next # ...it aponta para o valor seguinte.\n",
    "```"
   ]
  },
  {
   "cell_type": "markdown",
   "id": "1e11a4cf",
   "metadata": {},
   "source": [
    "# Insert a node at the head of a linked list"
   ]
  },
  {
   "cell_type": "markdown",
   "id": "a85f2d4f",
   "metadata": {},
   "source": [
    "```python\n",
    "# Contexto: a lista linkada (llist) existe, queremos criar um node com node.data = data, e node.next = llist (head de llist)\n",
    "\n",
    "\n",
    "def insertNodeAtHead(llist, data):\n",
    "    # Write your code here\n",
    "    nod = SinglyLinkedListNode(data) # Outro nome para a classe Node\n",
    "    if llist is not None: # Se a llist (linked list) nao aponta para None, entao: \n",
    "        nod.next = llist # o nod.next aponta para o head ja existente em llist\n",
    "    return nod\n",
    "```"
   ]
  },
  {
   "cell_type": "markdown",
   "id": "59738d08",
   "metadata": {},
   "source": [
    "# Insert a Node at the Tail of a Linked List"
   ]
  },
  {
   "cell_type": "markdown",
   "id": "00fb191e",
   "metadata": {},
   "source": [
    "```python\n",
    "# Contexto: Colocar o node no fim da lista linkada (já existente).\n",
    "# O exercício pede para retornar head. Para não perdermos o controle da lista, criamos uma variável que aponta para head.\n",
    "# Assim, sua posição fica intacta.\n",
    "\n",
    "def insertNodeAtTail(head, data):\n",
    "    nod = SinglyLinkedListNode(data) # Criei um node de classe SinglyLinkedListNode\n",
    "    it = head # it aponta para mesmo espaço de memória de head (aponta para mesmo valor)\n",
    "    if it == None: # Condicional: head == None\n",
    "        return nod # Nesse caso, nod é retornado e aponta para None (da sua criação em class)\n",
    "    while it.next != None: # Condicional: it não é None, nem it.next é None:\n",
    "        it = it.next # Para para a próxima iteração\n",
    "    it.next = nod # Caso it.next é None, esse espaço na memória receve o node (com o valor de data e nod.next = None)\n",
    "    return head # Exercício pede para retornar head\n",
    "```"
   ]
  },
  {
   "cell_type": "markdown",
   "id": "26d21434",
   "metadata": {},
   "source": [
    "# Insert a node at a specific position in a linked list"
   ]
  },
  {
   "cell_type": "markdown",
   "id": "9e0530b8",
   "metadata": {},
   "source": [
    "```python\n",
    "def insertNodeAtPosition(head, data, position):\n",
    "    # Write your code here\n",
    "    # Controlling based on position\n",
    "    if position == 0:\n",
    "        node = SinglyLinkedListNode(data)\n",
    "        head = node\n",
    "        return head\n",
    "    \n",
    "    # In case that a linked list already exists\n",
    "    it = head\n",
    "    index = 0\n",
    "    # Get to the position\n",
    "    while index < position:\n",
    "        it = it.next\n",
    "        index += 1\n",
    "    # Create a node and make \"it\" as node.next\n",
    "    node = SinglyLinkedListNode(data)\n",
    "    node.next = it\n",
    "    # Get to the position before the node we want to insert \n",
    "    index = 0\n",
    "    it = head\n",
    "    while index < position - 1:\n",
    "        it = it.next\n",
    "        index += 1\n",
    "    # Make \"it\" point to node \n",
    "    it.next = node\n",
    "    return head\n",
    "```"
   ]
  },
  {
   "cell_type": "markdown",
   "id": "f089f807",
   "metadata": {},
   "source": [
    "# Print in Reverse"
   ]
  },
  {
   "cell_type": "markdown",
   "id": "5601e993",
   "metadata": {},
   "source": [
    "```python\n",
    "def reversePrint(llist):\n",
    "    # Write your code here\n",
    "    # llist is the head of the list\n",
    "    linkedlist = []\n",
    "    it = llist\n",
    "    while it is not None:\n",
    "        linkedlist.append(it.data)\n",
    "        it = it.next\n",
    "    linkedlist = linkedlist[::-1]\n",
    "    for number in linkedlist:\n",
    "        print(number)    \n",
    "```"
   ]
  },
  {
   "cell_type": "markdown",
   "id": "4127b5a8",
   "metadata": {},
   "source": [
    "# Delete a Node"
   ]
  },
  {
   "cell_type": "markdown",
   "id": "52b099d2",
   "metadata": {},
   "source": [
    "```python\n",
    "def deleteNode(llist, position):\n",
    "    # Write your code here\n",
    "    # The idea is to conect the it.next to it.next.next\n",
    "    if position == 0:\n",
    "        return llist.next # new head\n",
    "    it = llist\n",
    "    i = 0\n",
    "    while i < position-1: # it goes to a position before\n",
    "        it = it.next\n",
    "        i += 1\n",
    "    # when it gets to the position, it.next conects to it.next.next\n",
    "    it.next = it.next.next\n",
    "    return llist\n",
    "```"
   ]
  },
  {
   "cell_type": "markdown",
   "id": "d0276ea1",
   "metadata": {},
   "source": [
    "# Compare two linked lists"
   ]
  },
  {
   "cell_type": "markdown",
   "id": "df1e8c54",
   "metadata": {},
   "source": [
    "```python\n",
    "def compare_lists(llist1, llist2):\n",
    "    while True:\n",
    "        # llist1 and llist2 are both None\n",
    "        if llist1 == None and llist2 == None:\n",
    "            return 1\n",
    "        # only one of them are None\n",
    "        if (llist1 == None and llist2 != None) or (llist2 == None and llist1 != None):\n",
    "            return 0\n",
    "        # the data for both are different\n",
    "        if llist1.data != llist2.data:\n",
    "            return 0\n",
    "        # update llist1 and llist2\n",
    "        llist1 = llist1.next\n",
    "        llist2 = llist2.next    \n",
    "```"
   ]
  },
  {
   "cell_type": "markdown",
   "id": "cd854d1f",
   "metadata": {},
   "source": [
    "# Get Node value"
   ]
  },
  {
   "cell_type": "markdown",
   "id": "fbba82db",
   "metadata": {},
   "source": [
    "```python\n",
    "def getNode(llist, positionFromTail):\n",
    "    # Write your code here\n",
    "    # Create a list and add the data\n",
    "    llista = []\n",
    "    while llist != None:\n",
    "        llista.append(llist.data)\n",
    "        llist = llist.next\n",
    "    # Invert the list\n",
    "    llista = llista[::-1]\n",
    "    return llista[positionFromTail]\n",
    "```"
   ]
  },
  {
   "cell_type": "markdown",
   "id": "cd689bc0",
   "metadata": {},
   "source": [
    "# Merge two sorted linked lists"
   ]
  },
  {
   "cell_type": "markdown",
   "id": "15a038aa",
   "metadata": {},
   "source": [
    "```python\n",
    "def mergeLists(head1, head2):\n",
    "    # Creating a third linked list with a arbitrary data (to be discarded)\n",
    "    head3 = SinglyLinkedListNode(0)\n",
    "    it = head3\n",
    "    \n",
    "    while head1 and head2: # are different of None\n",
    "    # this while will run until head1 or head2 reach value None\n",
    "        if head1.data < head2.data:\n",
    "            it.next = head1\n",
    "            head1 = head1.next\n",
    "        else:\n",
    "            it.next = head2\n",
    "            head2 = head2.next\n",
    "        it = it.next\n",
    "    \n",
    "    # After the while above, will add the remaining linked list\n",
    "    if head1: # not None\n",
    "        it.next = head1\n",
    "    if head2:\n",
    "        it.next = head2\n",
    "    \n",
    "    return head3.next # Discard the first Node of head3\n",
    "```"
   ]
  },
  {
   "cell_type": "markdown",
   "id": "01f281e7",
   "metadata": {},
   "source": [
    "# Reverse a linked list"
   ]
  },
  {
   "cell_type": "markdown",
   "id": "34daac7f",
   "metadata": {},
   "source": [
    "```python\n",
    "def reverse(llist):\n",
    "    # Write your code here\n",
    "    # Creates 3 pointers: past, present, future\n",
    "    past = None\n",
    "    present = llist\n",
    "    \n",
    "    while present != None:\n",
    "        future = present.next # future points to next node from present\n",
    "        present.next = past # reverse the pointer to the past, which is None\n",
    "        # past and present pointers moves one node forward\n",
    "        past = present\n",
    "        present = future\n",
    "    # past points to the last node of llist, and present and future points to None\n",
    "    return past\n",
    "```"
   ]
  },
  {
   "cell_type": "markdown",
   "id": "9ab42cc0",
   "metadata": {},
   "source": [
    "# Delete duplicate-value nodes from a sorted linked list"
   ]
  },
  {
   "cell_type": "markdown",
   "id": "1c91bc13",
   "metadata": {},
   "source": [
    "```python\n",
    "def removeDuplicates(llist):\n",
    "    # Write your code here\n",
    "    it = llist\n",
    "    while it.next != None:\n",
    "        if it.data != it.next.data:\n",
    "            it = it.next\n",
    "        else:\n",
    "            it.next = it.next.next\n",
    "    return llist\n",
    "```"
   ]
  },
  {
   "cell_type": "markdown",
   "id": "157c9c2b",
   "metadata": {},
   "source": [
    "# Find Merge Point of Two Lists"
   ]
  },
  {
   "cell_type": "markdown",
   "id": "0eeb3581",
   "metadata": {},
   "source": [
    "```python\n",
    "def findMergeNode(head1, head2):\n",
    "    # Para head1, comparar com todos os nodos de head2\n",
    "    while head1: # is not None\n",
    "        it2 = head2 # iterar varias vezes head2\n",
    "        while it2: # is not None\n",
    "            if head1 != it2:\n",
    "                it2 = it2.next\n",
    "            else:\n",
    "                return head1.data\n",
    "        head1 = head1.next   \n",
    "```"
   ]
  }
 ],
 "metadata": {
  "kernelspec": {
   "display_name": "Python 3",
   "language": "python",
   "name": "python3"
  },
  "language_info": {
   "codemirror_mode": {
    "name": "ipython",
    "version": 3
   },
   "file_extension": ".py",
   "mimetype": "text/x-python",
   "name": "python",
   "nbconvert_exporter": "python",
   "pygments_lexer": "ipython3",
   "version": "3.8.8"
  }
 },
 "nbformat": 4,
 "nbformat_minor": 5
}
