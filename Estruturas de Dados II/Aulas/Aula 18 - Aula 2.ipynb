{
 "cells": [
  {
   "cell_type": "markdown",
   "id": "befccbaf",
   "metadata": {},
   "source": [
    "# Aula 2 - Módulo 3"
   ]
  },
  {
   "cell_type": "code",
   "execution_count": 3,
   "id": "333543f1",
   "metadata": {},
   "outputs": [
    {
     "data": {
      "text/plain": [
       "10"
      ]
     },
     "execution_count": 3,
     "metadata": {},
     "output_type": "execute_result"
    }
   ],
   "source": [
    "def gcd(m,n):\n",
    "    # Verifica qual o menor\n",
    "    menor = m\n",
    "    if n < m:\n",
    "        menor = n\n",
    "    # Enquanto menor é maior ou igual a 1\n",
    "    while menor >= 1:\n",
    "        if m % menor == 0 and n % menor == 0:\n",
    "            return menor\n",
    "        return menor - 1\n",
    "\n",
    "gcd(100, 10)    "
   ]
  },
  {
   "cell_type": "code",
   "execution_count": 10,
   "id": "d11a2f96",
   "metadata": {},
   "outputs": [
    {
     "data": {
      "text/plain": [
       "12"
      ]
     },
     "execution_count": 10,
     "metadata": {},
     "output_type": "execute_result"
    }
   ],
   "source": [
    "def gcd(m,n):\n",
    "    if m < n:\n",
    "        m, n = n, m\n",
    "    while n != 0:\n",
    "        res = m % n\n",
    "        m = n\n",
    "        n = res\n",
    "    return m\n",
    "\n",
    "gcd(24, 60)"
   ]
  },
  {
   "cell_type": "code",
   "execution_count": null,
   "id": "62e43067",
   "metadata": {},
   "outputs": [],
   "source": [
    "# Checagem consecutiva de inteiros\n",
    "# Fazer"
   ]
  },
  {
   "cell_type": "code",
   "execution_count": 11,
   "id": "a38bfd56",
   "metadata": {},
   "outputs": [
    {
     "ename": "TypeError",
     "evalue": "insert expected 2 arguments, got 0",
     "output_type": "error",
     "traceback": [
      "\u001b[1;31m---------------------------------------------------------------------------\u001b[0m",
      "\u001b[1;31mTypeError\u001b[0m                                 Traceback (most recent call last)",
      "\u001b[1;32m<ipython-input-11-7c986f518f52>\u001b[0m in \u001b[0;36m<module>\u001b[1;34m\u001b[0m\n\u001b[0;32m      1\u001b[0m \u001b[0mlista\u001b[0m \u001b[1;33m=\u001b[0m \u001b[1;33m[\u001b[0m\u001b[1;33m]\u001b[0m\u001b[1;33m\u001b[0m\u001b[1;33m\u001b[0m\u001b[0m\n\u001b[1;32m----> 2\u001b[1;33m \u001b[0mlista\u001b[0m\u001b[1;33m.\u001b[0m\u001b[0minsert\u001b[0m\u001b[1;33m(\u001b[0m\u001b[1;33m)\u001b[0m\u001b[1;33m\u001b[0m\u001b[1;33m\u001b[0m\u001b[0m\n\u001b[0m",
      "\u001b[1;31mTypeError\u001b[0m: insert expected 2 arguments, got 0"
     ]
    }
   ],
   "source": [
    "lista = [1,2,3]\n",
    "lista.insert()"
   ]
  },
  {
   "cell_type": "code",
   "execution_count": 77,
   "id": "6679fc86",
   "metadata": {},
   "outputs": [],
   "source": [
    "import math\n",
    "\n",
    "def primos(n):\n",
    "    prime = [True for i in range(n + 1)]\n",
    "    for p in range (2, math.floor(math.sqrt(n))):\n",
    "        if (prime[p] is False):\n",
    "            continue\n",
    "        # Qualquer número entre p*p e n+1 se torna False\n",
    "        for p in range(p * p, n + 1, p):\n",
    "            if (prime[p]):\n",
    "                prime[p] = False\n",
    "    return prime[2:n]"
   ]
  },
  {
   "cell_type": "code",
   "execution_count": 80,
   "id": "eb4a7bf7",
   "metadata": {},
   "outputs": [
    {
     "ename": "TypeError",
     "evalue": "'function' object is not subscriptable",
     "output_type": "error",
     "traceback": [
      "\u001b[1;31m---------------------------------------------------------------------------\u001b[0m",
      "\u001b[1;31mTypeError\u001b[0m                                 Traceback (most recent call last)",
      "\u001b[1;32m<ipython-input-80-f737dda59658>\u001b[0m in \u001b[0;36m<module>\u001b[1;34m\u001b[0m\n\u001b[0;32m      1\u001b[0m \u001b[0mlista\u001b[0m \u001b[1;33m=\u001b[0m \u001b[1;33m[\u001b[0m\u001b[1;33m]\u001b[0m\u001b[1;33m\u001b[0m\u001b[1;33m\u001b[0m\u001b[0m\n\u001b[0;32m      2\u001b[0m \u001b[1;32mfor\u001b[0m \u001b[0mi\u001b[0m \u001b[1;32min\u001b[0m \u001b[0mrange\u001b[0m\u001b[1;33m(\u001b[0m\u001b[1;36m2\u001b[0m\u001b[1;33m,\u001b[0m \u001b[1;36m5\u001b[0m\u001b[1;33m)\u001b[0m\u001b[1;33m:\u001b[0m\u001b[1;33m\u001b[0m\u001b[1;33m\u001b[0m\u001b[0m\n\u001b[1;32m----> 3\u001b[1;33m     \u001b[1;32mif\u001b[0m \u001b[0mprimos\u001b[0m\u001b[1;33m[\u001b[0m\u001b[0mi\u001b[0m\u001b[1;33m]\u001b[0m\u001b[1;33m:\u001b[0m\u001b[1;33m\u001b[0m\u001b[1;33m\u001b[0m\u001b[0m\n\u001b[0m\u001b[0;32m      4\u001b[0m         \u001b[0mlista\u001b[0m\u001b[1;33m.\u001b[0m\u001b[0mappend\u001b[0m\u001b[1;33m(\u001b[0m\u001b[0mi\u001b[0m\u001b[1;33m)\u001b[0m\u001b[1;33m\u001b[0m\u001b[1;33m\u001b[0m\u001b[0m\n\u001b[0;32m      5\u001b[0m \u001b[0mprint\u001b[0m\u001b[1;33m(\u001b[0m\u001b[0mlista\u001b[0m\u001b[1;33m)\u001b[0m\u001b[1;33m\u001b[0m\u001b[1;33m\u001b[0m\u001b[0m\n",
      "\u001b[1;31mTypeError\u001b[0m: 'function' object is not subscriptable"
     ]
    }
   ],
   "source": [
    "lista = []\n",
    "for i in range(2, 5):\n",
    "    if primos[i]:\n",
    "        lista.append(i)\n",
    "print(lista)"
   ]
  },
  {
   "cell_type": "code",
   "execution_count": null,
   "id": "f99b33bc",
   "metadata": {},
   "outputs": [],
   "source": []
  }
 ],
 "metadata": {
  "kernelspec": {
   "display_name": "Python 3",
   "language": "python",
   "name": "python3"
  },
  "language_info": {
   "codemirror_mode": {
    "name": "ipython",
    "version": 3
   },
   "file_extension": ".py",
   "mimetype": "text/x-python",
   "name": "python",
   "nbconvert_exporter": "python",
   "pygments_lexer": "ipython3",
   "version": "3.8.8"
  }
 },
 "nbformat": 4,
 "nbformat_minor": 5
}
