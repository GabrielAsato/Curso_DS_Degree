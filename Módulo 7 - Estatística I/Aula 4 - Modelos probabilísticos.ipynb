{
 "cells": [
  {
   "cell_type": "markdown",
   "id": "d97b65a6",
   "metadata": {},
   "source": [
    "# Modelos Probabilísticos"
   ]
  },
  {
   "cell_type": "code",
   "execution_count": 1,
   "id": "06fdcb8c",
   "metadata": {
    "ExecuteTime": {
     "end_time": "2021-12-03T08:02:49.645714Z",
     "start_time": "2021-12-03T08:02:49.630142Z"
    }
   },
   "outputs": [],
   "source": [
    "#Bibliotecas utilizadas\n",
    "import matplotlib.pyplot as plt\n",
    "import seaborn as sns\n",
    "import numpy as np\n",
    "import math\n",
    "from scipy import stats"
   ]
  },
  {
   "cell_type": "markdown",
   "id": "ea3ac378",
   "metadata": {},
   "source": [
    "## Variável aleatória\n",
    "\n",
    "Uma quantidade X, associado a cada possível resultado do espaço amostral é denominado de **variável aleatória discreta** se assume valores num conjunto enumerável, com certa probabilidade. Por outro lado será denominado **variável aleatória contínua** se seu conjunto de valores é qualquer intervalo dos números reais, associando uma probabilidade nesse intervalo.\n",
    "\n",
    "Exemplo:\n",
    "\n",
    "1) Lançamento de 2 moedas simultâneas\n",
    "\n",
    "Espaço amostral: S={ (cara, cara), (cara, coroa), (coroa, coroa), (coroa, cara) }\n",
    "\n",
    "A variável aleatória X é o número de caras\n",
    "\n",
    "| Ponto Amostral | X |\n",
    "|----------------|---|\n",
    "| (cara, cara)   | 2 |\n",
    "| (cara, coroa)  | 1 |\n",
    "| (coroa, cara)  | 1 |\n",
    "| (coroa, coroa) | 0 |"
   ]
  },
  {
   "cell_type": "markdown",
   "id": "2ce26aa2",
   "metadata": {},
   "source": [
    "2) Considere a distribuição de frequências relativa ao número de acidentes diários em um estacionamento:\n",
    "\n",
    "espaço amostral: S = {nenhum acidente, 1 acidente, 2 acidentes, 3 acidentes}\n",
    "\n",
    "| Número de acidentes | Frequências |\n",
    "|---------------------|-------------|\n",
    "| 0                   | 22          |\n",
    "| 1                   | 5           |\n",
    "| 2                   | 2           |\n",
    "| 3                   | 1           |\n",
    "\n",
    "Em um dia a probabilidade de:\n",
    "\n",
    "- não ocorrer acidente é:\n",
    "    \n",
    "    p = 22/30 = 0.73\n",
    "    \n",
    "- ocorrer 1 acidente é:\n",
    "\n",
    "    p = 5/30 = 0.17\n",
    "    \n",
    "- ocorrer 2 acidentes é:\n",
    " \n",
    "     p = 2/30 = 0.07\n",
    "     \n",
    "- ocorrer 3 acidentes é:\n",
    "\n",
    "    p = 1/30 = 0.03\n",
    "    \n",
    "    \n",
    "| Número de acidentes | Probabilidades |\n",
    "|---------------------|----------------|\n",
    "| 0                   | 0.73           |\n",
    "| 1                   | 0.17           |\n",
    "| 2                   | 0.07           |\n",
    "| 3                   | 0.03           |\n",
    "|                     | **Soma = 1**   |\n",
    "\n",
    "Essa tabela é denominada **distribuição de probabilidade**\n",
    "\n",
    "\n",
    "A relação entre a variável aleatória X e os valores da variável P é denominada função de probabilidade:\n",
    "  \n",
    "**$f(x_i) = P(X = x_i)$**\n",
    "  \n",
    "A função $P(X = x_i)$ determina a distribuição de probabilidade da variável aleatória X."
   ]
  },
  {
   "cell_type": "markdown",
   "id": "e11ae13b",
   "metadata": {},
   "source": [
    "Voltando no exemplo das moedas:\n",
    "\n",
    "Espaço amostral de uma moeda S={cara, coroa}   \n",
    "A probabilidade de aparecer uma cara é $p = \\frac{1}{2}$\n",
    "\n",
    "Espaço amostral de 2 moedas S={ (cara, cara), (cara, coroa), (coroa, coroa), (coroa, cara) }.\n",
    "Qual a probabilidade de aparecer (cara, cara)? Resposta $p = \\frac{1}{4}$\n",
    "\n",
    "    \n",
    "| Ponto Amostral | X | P(X)            |\n",
    "|----------------|---|-----------------|\n",
    "| (cara, cara)   | 2 |  1/4 ou 1/2* 1/2=1/4|\n",
    "| (cara, coroa)  | 1 |  1/4           |\n",
    "| (coroa, cara)  | 1 |  1/4            |\n",
    "| (coroa, coroa) | 0 |  1/4            |\n",
    "|                |   |                 |\n",
    "\n",
    "Essa tabela é a distribuição de probabilidade:\n",
    "\n",
    "| Número de caras | X        |\n",
    "|-----------------|----------|\n",
    "| 2               |  1/4     |\n",
    "| 1               |  2/4=1/2  |\n",
    "| 0               |  1/4    |\n",
    "|                 | **soma = 1** |"
   ]
  },
  {
   "cell_type": "markdown",
   "id": "7ebfdb6c",
   "metadata": {},
   "source": [
    "Represetação gráfica da tabela de distribuição de probabilidade"
   ]
  },
  {
   "cell_type": "code",
   "execution_count": 3,
   "id": "6b41fe34",
   "metadata": {
    "ExecuteTime": {
     "end_time": "2021-12-03T21:49:58.092250Z",
     "start_time": "2021-12-03T21:49:57.709595Z"
    },
    "scrolled": false
   },
   "outputs": [
    {
     "data": {
      "image/png": "[encoded data removed]",
      "text/plain": [
       "<Figure size 432x288 with 1 Axes>"
      ]
     },
     "metadata": {
      "needs_background": "light"
     },
     "output_type": "display_data"
    }
   ],
   "source": [
    "plt.bar(x=[0,1,2], height=[1/4,1/2,1/4])\n",
    "plt.title('Distribuição de Probabilidade do lançamento de 2 moedas simultaneamente')\n",
    "plt.ylabel('Probabilidade')\n",
    "plt.xlabel('Variável Aleatória')\n",
    "plt.show()"
   ]
  },
  {
   "cell_type": "markdown",
   "id": "13135654",
   "metadata": {},
   "source": [
    "Experimento que mostra a distribuição de probabilidade:\n",
    "\n",
    "https://www.youtube.com/watch?v=Vo9Esp1yaC8"
   ]
  },
  {
   "cell_type": "markdown",
   "id": "9c3cc470",
   "metadata": {},
   "source": [
    "No caso de uma variável aleatória contínua, valores pontuais são dados pela **função densidade de probabilidade** (fdp). Os valores pontuais são associados a um valor de probabilidade nulo. As probabilidades são calculadas por meio da função densidade de probabilidade, sempre considerada em um intervalo. Graficamente, probabilidade é dada pela área sob a curva (fdp) no intervalo dado (pode ser calculado pela _integral_ da fdp)"
   ]
  },
  {
   "attachments": {
    "integral_VA.png": {
     "image/png": "[encoded data removed]"
    }
   },
   "cell_type": "markdown",
   "id": "58729374",
   "metadata": {},
   "source": [
    "![integral_VA.png](attachment:integral_VA.png)"
   ]
  },
  {
   "cell_type": "markdown",
   "id": "101927aa",
   "metadata": {},
   "source": [
    "## Esperança e variância de uma variável aleatória discreta\n",
    "\n",
    "Em Estatística, em teoria das probabilidades, o valor esperado, também chamado esperança matemática ou expectância, de uma variável aleatória é a soma do produto de cada probabilidade de saída da experiência pelo seu respectivo valor.\n",
    "\n",
    "\n",
    "A média, valor esperado ou esperança de uma variável X é dada pela expressão:\n",
    "\\\\[ E(X) = \\sum_{i=1}^{k} x_{i} p_{i}\\\\]\n",
    "\n",
    "\n",
    "A variância já foi apresentada como:\n",
    "$$ Var(X) = \\sum_{i=1}^{n}\\frac{(x_i-\\mu)^{2}}{n}$$\n",
    "\n",
    "Uma forma alternativa para calcular a variância, utilizando a Esperança, é:\n",
    "\n",
    "\\\\[ Var(X) = E(X^2) - [E(X)]^2 \\\\]"
   ]
  },
  {
   "cell_type": "markdown",
   "id": "7222409b",
   "metadata": {},
   "source": [
    "Exemplo:\n",
    "    \n",
    "Um grupo de amigos compra um cartão de rifa a cada mês e que todo mês são vendidos mil bilhetes do sorteio por 1,00 real cada. Cada bilhete tem uma chance igual de ganhar o prêmio, sendo o primeiro prêmio de 300,00 reais, o segundo de 200,00 reais e o terceiro de 100,00 reais. Qual o ganho líquido potencial ao se comprar um desses bilhetes, ou seja, qual será o valor esperado de X?\n",
    "\n",
    "\n",
    "|  X | P(X) |\n",
    "|---|---|\n",
    "| 300 - 1 = 299  | 1/1000  |\n",
    "| 200 - 1 = 199  | 1/1000  |\n",
    "| 100 - 1 = 99  | 1/1000  |\n",
    "|  0 - 1 = -1 | 997/1000  |\n",
    "\n",
    "O valor esperado da rifa é:\n",
    "\n",
    "E(X) = (299 * 0.001) + (199 * 0.001) + (99 * 0.001) + ((-1) * 0.997) = - 0.4\n",
    "\n",
    "Sabendo que:\n",
    "\n",
    "\\\\[E(X^2) = (299^2 * 0.001) + (199^2 * 0.001) + (99^2 * 0.001) + ((-1)^2 * 0.997)) = 139.8\\\\]\n",
    "\n",
    "A variância da rifa será:\n",
    "\n",
    "\\\\[Var(X) = E(X^2) - [E(X)]^2 = 139.8 - (-0.4)^2 = 139.64 \\\\]\n",
    "\n",
    "Calculando o desvio padrão:\n",
    "\n",
    "$$ Dp(X) = \\sqrt{Var(X)} = \\sqrt{139.64} \\approx 11.82$$"
   ]
  },
  {
   "cell_type": "markdown",
   "id": "1a89a3c7",
   "metadata": {},
   "source": []
  },
  {
   "cell_type": "code",
   "execution_count": 6,
   "id": "ef3a9390",
   "metadata": {},
   "outputs": [
    {
     "name": "stdout",
     "output_type": "stream",
     "text": [
      "Esperança =  -0.4\n",
      "Var(X) = 139.64\n",
      "Var(X) = 139.64000000000001\n"
     ]
    }
   ],
   "source": [
    "#Calculando a Esperança e a variância\n",
    "\n",
    "p = [1/1000, 1/1000, 1/1000, 997/1000]\n",
    "\n",
    "X = [299, 199, 99, -1]\n",
    "\n",
    "#Calculando a esperança de X\n",
    "esperanca = 0\n",
    "for i in range(len(X)):\n",
    "    esperanca += p[i]*X[i]\n",
    "\n",
    "print(f'Esperança =  {esperanca}')\n",
    "\n",
    "#Calculando a variância de X\n",
    "#Primeira maneira    \n",
    "variancia = 0\n",
    "for i in range(len(X)):\n",
    "    variancia += p[i]*(X[i] - esperanca)**2\n",
    "\n",
    "print(f'Var(X) = {variancia}')\n",
    "\n",
    "#Segunda maneira\n",
    "variancia = 0\n",
    "ex2 = 0\n",
    "for i in range(len(X)):\n",
    "    ex2 += p[i]*(X[i])**2\n",
    "\n",
    "variancia = ex2 - (esperanca)**2\n",
    "print(f'Var(X) = {variancia}')\n",
    "\n"
   ]
  },
  {
   "cell_type": "code",
   "execution_count": null,
   "id": "b0deaae9",
   "metadata": {},
   "outputs": [],
   "source": []
  },
  {
   "cell_type": "code",
   "execution_count": null,
   "id": "9376cc28",
   "metadata": {},
   "outputs": [],
   "source": []
  },
  {
   "cell_type": "markdown",
   "id": "e15ff980",
   "metadata": {},
   "source": [
    "## Propriedades de uma variável aleatória"
   ]
  },
  {
   "cell_type": "markdown",
   "id": "26f2939e",
   "metadata": {},
   "source": [
    "#### Média/Esperança de uma variável aleatória\n",
    "\n",
    "$E(X) = \\sum_i^n x_i P(x_i)$ $\\rightarrow$  v.a. discreta\n",
    "\n",
    "\n",
    "$E(X) = \\int_{-\\infty}^{\\infty} x f(x)dx$ $\\rightarrow$  v.a. contínua"
   ]
  },
  {
   "cell_type": "markdown",
   "id": "bc7668bf",
   "metadata": {},
   "source": [
    "#### Variância de uma variável aleatória\n",
    "\n",
    "$var(X) = \\sigma^2 = \\sum_i^n (x_i - \\mu)^2 P(x_i)$ $\\rightarrow$  v.a. discreta\n",
    "\n",
    "\n",
    "\n",
    "$var(X) = \\sigma^2 = \\int_{-\\infty}^{\\infty} (x - \\mu)^2 f(x)dx$ $\\rightarrow$  v.a. contínua"
   ]
  },
  {
   "cell_type": "markdown",
   "id": "32bfe5a1",
   "metadata": {},
   "source": [
    "#### Combinando variáveis aleatórias X e Y ( $\\alpha$ e $K$ constantes)\n",
    "------------------------\n",
    "Esperança: \n",
    "\n",
    "$E(X \\pm Y) = E(X) \\pm E(Y)$\n",
    "\n",
    "$E(X \\pm K) = E(X) \\pm K$\n",
    "\n",
    "$E(\\alpha X) = \\alpha E(X)$\n",
    "\n",
    "\n",
    "-------------------------\n",
    "Variância\n",
    "\n",
    "$var(X \\pm Y) = var(X) + var(Y)$ $\\rightarrow$ Em alguns casos:  $var(X \\pm Y) = var(X) + var(Y) \\pm 2cov(X,Y)$\n",
    "\n",
    "$var(X \\pm K) = var(X)$\n",
    "\n",
    "$var(\\alpha X) =\\alpha^2 var(X)$"
   ]
  },
  {
   "cell_type": "code",
   "execution_count": null,
   "id": "b9b3eebb",
   "metadata": {},
   "outputs": [],
   "source": []
  },
  {
   "cell_type": "code",
   "execution_count": null,
   "id": "cf861629",
   "metadata": {},
   "outputs": [],
   "source": []
  },
  {
   "cell_type": "markdown",
   "id": "dd0b52c6",
   "metadata": {},
   "source": [
    "## Distribuições de Probabilidade\n",
    "\n",
    "Uma **distribuição de probabilidade** é uma função que descreve o comportamento aleatório de um fenômeno dependente do acaso.\n",
    "\n",
    "A distribuição de probabilidade pode **modelar incertezas** e descrever fenômenos físicos, biológicos, econômicos, entre outros.\n",
    "\n",
    "Para representar a distribuição matematicamente, frequentemente utilizamos a função de probabilidade (variáveis aleatórias discretas) ou [função densidade de probabilidade](https://en.wikipedia.org/wiki/Probability_density_function) (variáveis aleatórias contínuas) .\n",
    "\n",
    "Há muitas distribuições de probabilidade diferentes.\n",
    "\n",
    "Entre as distribuições de probabilidade, a **distribuição normal** tem uma importância particular. "
   ]
  },
  {
   "cell_type": "code",
   "execution_count": null,
   "id": "f2be3bdc",
   "metadata": {},
   "outputs": [],
   "source": []
  },
  {
   "cell_type": "code",
   "execution_count": null,
   "id": "42aafa58",
   "metadata": {},
   "outputs": [],
   "source": []
  },
  {
   "cell_type": "code",
   "execution_count": null,
   "id": "d6a9f652",
   "metadata": {},
   "outputs": [],
   "source": []
  },
  {
   "cell_type": "markdown",
   "id": "01f52da8",
   "metadata": {},
   "source": [
    "## Principais modelos discretos :\n",
    "\n",
    "\n",
    "#### **Bernoulli** \n",
    "\n",
    "\n",
    "Uma **distribuição de Bernoulli** tem apenas dois resultados possíveis, a saber 1 *(sucesso)* e 0 *(falha)*, e uma única tentativa, por exemplo, um sorteio. Portanto, a variável aleatória X que tem uma distribuição de Bernoulli pode assumir o valor 1 com a probabilidade de sucesso, p, e o valor 0 com a probabilidade de falha, q ou 1-p. As probabilidades de sucesso e fracasso não precisam ser igualmente prováveis. \n",
    "\n",
    "\\\\[  P(X=x) = p^{x} * (1-p) ^{1-x}\\\\]\n"
   ]
  },
  {
   "cell_type": "code",
   "execution_count": 10,
   "id": "784e43d7",
   "metadata": {
    "ExecuteTime": {
     "end_time": "2021-12-03T08:03:12.625185Z",
     "start_time": "2021-12-03T08:03:10.139189Z"
    }
   },
   "outputs": [
    {
     "data": {
      "image/png": "[encoded data removed]",
      "text/plain": [
       "<Figure size 360x360 with 1 Axes>"
      ]
     },
     "metadata": {
      "needs_background": "light"
     },
     "output_type": "display_data"
    }
   ],
   "source": [
    "from scipy.stats import bernoulli\n",
    "X = bernoulli(0.6) #40% falha e 60% de sucesso\n",
    "X_samples = X.rvs(100000) #random variates sample\n",
    "sns.displot(X_samples, kind='hist', discrete=True, shrink=0.2)\n",
    "plt.xlabel('Distribuição Bernoulli')\n",
    "plt.ylabel('Frequência');"
   ]
  },
  {
   "cell_type": "code",
   "execution_count": 34,
   "id": "76b2409e",
   "metadata": {},
   "outputs": [
    {
     "data": {
      "text/plain": [
       "array([1, 0, 0, ..., 0, 1, 1])"
      ]
     },
     "execution_count": 34,
     "metadata": {},
     "output_type": "execute_result"
    }
   ],
   "source": [
    "X_samples"
   ]
  },
  {
   "cell_type": "markdown",
   "id": "bab7d798",
   "metadata": {},
   "source": [
    "#### **Binomial**\n",
    "\n",
    "Uma distribuição em que apenas dois resultados são possíveis, como sucesso ou fracasso, ganho ou perda, vitória ou perda e em que a probabilidade de sucesso e fracasso é a mesma para todas as tentativas é chamada de Distribuição Binomial. No entanto, os resultados não precisam ser igualmente prováveis e cada estudo é independente um do outro. Os parâmetros de uma distribuição binomial são **n** e **p** onde n é o número total de tentativas e p é a probabilidade de sucesso em cada tentativa. Sua função de distribuição de probabilidade é dada por:\n",
    "\n",
    "\n",
    "\n",
    "\\\\[f(k, n, p)  =  \\binom{n}{k} \\cdot p^k(1-p)^{n-k}\\\\]\n",
    "\n",
    "\n",
    "- k sucessos e n-k insucessos\n",
    "- probabilidade de sucesso é p e a probabilidade de insucesso q = 1 - p"
   ]
  },
  {
   "cell_type": "code",
   "execution_count": 25,
   "id": "d336fd42",
   "metadata": {
    "ExecuteTime": {
     "end_time": "2021-12-03T21:19:43.072500Z",
     "start_time": "2021-12-03T21:19:42.885161Z"
    },
    "scrolled": false
   },
   "outputs": [
    {
     "data": {
      "image/png": "[encoded data removed]",
      "text/plain": [
       "<Figure size 360x360 with 1 Axes>"
      ]
     },
     "metadata": {
      "needs_background": "light"
     },
     "output_type": "display_data"
    }
   ],
   "source": [
    "#from scipy.stats import binom\n",
    "\n",
    "from numpy.random import binomial\n",
    "\n",
    "data_binom = binomial(n=3, p=0.6, size=6)\n",
    "\n",
    "ax = sns.displot(\n",
    "    data_binom,\n",
    "    kind='hist',\n",
    "    color='skyblue',\n",
    ")\n",
    "ax.set(xlabel='Distribuição Binomial', ylabel='Frequência');"
   ]
  },
  {
   "cell_type": "code",
   "execution_count": 15,
   "id": "16626b1a",
   "metadata": {},
   "outputs": [
    {
     "data": {
      "text/plain": [
       "array([31, 29, 30, 30, 30, 33, 32, 33, 28, 29, 35, 28, 26, 34, 31, 31, 27,\n",
       "       27, 29, 29, 33, 30, 21, 31, 34, 34, 37, 32, 36, 33, 25, 31, 29, 31,\n",
       "       32, 28, 27, 21, 33, 35, 23, 29, 32, 34, 27, 30, 28, 29, 29, 32, 28,\n",
       "       27, 32, 32, 30, 26, 32, 27, 27, 31, 36, 35, 31, 32, 26, 27, 28, 26,\n",
       "       25, 33, 31, 29, 27, 31, 25, 30, 30, 35, 33, 26, 27, 31, 31, 27, 29,\n",
       "       29, 29, 23, 27, 32, 24, 33, 32, 27, 27, 30, 29, 36, 29, 28, 31, 31,\n",
       "       26, 24, 36, 33, 28, 29, 30, 35, 32, 34, 35, 26, 27, 30, 27, 30, 30,\n",
       "       33, 30, 29, 33, 32, 27, 24, 33, 32, 30, 29, 24, 35, 31, 29, 26, 24,\n",
       "       28, 30, 27, 30, 22, 25, 35, 33, 26, 28, 30, 27, 28, 32, 27, 23, 25,\n",
       "       29, 30, 31, 35, 33, 35, 37, 30, 34, 36, 35, 29, 22, 31, 33, 27, 27,\n",
       "       29, 28, 35, 32, 37, 26, 30, 29, 26, 29, 31, 33, 28, 33, 26, 30, 30,\n",
       "       30, 35, 32, 31, 34, 33, 32, 28, 27, 24, 31, 26, 29, 35, 38, 24, 32,\n",
       "       31, 28, 25, 28, 35, 33, 30, 24, 26, 25, 30, 29, 30, 34, 22, 30, 33,\n",
       "       28, 31, 36, 32, 25, 29, 25, 34, 34, 28, 27, 32, 26, 34, 25, 34, 27,\n",
       "       31, 23, 27, 26, 31, 30, 27, 26, 34, 29, 33, 30, 30, 30, 33, 28, 37,\n",
       "       26, 28, 28, 29, 30, 30, 27, 33, 26, 26, 26, 27, 29, 30, 25, 29, 30,\n",
       "       35, 30, 32, 29, 35, 23, 27, 35, 30, 28, 33, 28, 34, 30, 27, 36, 29,\n",
       "       30, 27, 35, 27, 35, 34, 27, 33, 31, 29, 33, 32, 28, 30, 23, 22, 28,\n",
       "       35, 39, 30, 30, 31, 28, 26, 31, 31, 35, 29, 28, 28, 27, 36, 37, 28,\n",
       "       30, 28, 27, 24, 29, 21, 34, 33, 35, 30, 24, 29, 30, 29, 36, 27, 32,\n",
       "       30, 32, 30, 35, 25, 31, 35, 34, 33, 32, 33, 31, 32, 30, 32, 26, 27,\n",
       "       25, 35, 36, 31, 33, 33, 28, 31, 32, 32, 23, 37, 27, 20, 21, 32, 22,\n",
       "       27, 29, 28, 30, 34, 26, 33, 28, 28, 27, 31, 28, 29, 27, 29, 31, 26,\n",
       "       32, 28, 30, 29, 33, 33, 30, 28, 32, 29, 33, 36, 34, 34, 31, 34, 27,\n",
       "       35, 34, 36, 28, 27, 29, 26, 30, 33, 33, 32, 31, 28, 29, 24, 32, 31,\n",
       "       25, 31, 25, 22, 34, 32, 32, 29, 36, 33, 39, 28, 30, 31, 26, 33, 30,\n",
       "       31, 32, 30, 25, 27, 37, 32, 31, 27, 32, 30, 29, 29, 31, 29, 31, 30,\n",
       "       30, 37, 32, 34, 31, 33, 27, 25, 23, 30, 26, 30, 34, 31, 32, 28, 29,\n",
       "       27, 30, 27, 34, 24, 32, 19, 29, 29, 28, 29, 29, 29, 29, 29, 26, 29,\n",
       "       29, 34, 28, 29, 26, 32, 30, 24, 27, 36, 25, 34, 32, 35, 32, 37, 34,\n",
       "       31, 30, 27, 32, 27, 26, 31, 31, 30, 33, 31, 27, 34, 28, 31, 31, 28,\n",
       "       28, 33, 27, 32, 30, 31, 33, 31, 27, 21, 29, 29, 31, 29, 34, 28, 31,\n",
       "       34, 26, 27, 33, 30, 33, 26, 35, 32, 29, 29, 30, 33, 31, 30, 34, 32,\n",
       "       26, 31, 25, 32, 27, 36, 31, 39, 32, 31, 31, 30, 32, 27, 27, 37, 35,\n",
       "       32, 29, 31, 30, 30, 36, 32, 38, 26, 24, 32, 29, 28, 32, 27, 32, 30,\n",
       "       34, 28, 28, 32, 36, 37, 30, 30, 38, 32, 31, 31, 35, 26, 26, 34, 31,\n",
       "       31, 32, 28, 26, 21, 26, 29, 32, 23, 28, 31, 29, 30, 30, 28, 25, 30,\n",
       "       29, 27, 25, 33, 30, 28, 34, 29, 34, 31, 25, 24, 30, 26, 26, 28, 30,\n",
       "       27, 24, 31, 29, 31, 41, 27, 23, 34, 33, 31, 37, 34, 30, 30, 28, 29,\n",
       "       25, 33, 32, 26, 31, 36, 32, 20, 36, 26, 31, 33, 34, 35, 24, 30, 33,\n",
       "       30, 29, 29, 31, 31, 27, 27, 33, 27, 33, 27, 32, 31, 30, 29, 30, 30,\n",
       "       32, 36, 26, 27, 33, 31, 27, 32, 25, 30, 29, 30, 30, 28, 27, 28, 32,\n",
       "       32, 31, 36, 33, 31, 31, 31, 32, 23, 30, 32, 31, 30, 32, 30, 30, 32,\n",
       "       25, 32, 25, 31, 28, 24, 25, 33, 33, 29, 37, 26, 31, 29, 25, 25, 29,\n",
       "       27, 33, 32, 29, 38, 35, 30, 25, 29, 34, 42, 34, 30, 32, 26, 30, 35,\n",
       "       37, 29, 30, 27, 30, 25, 29, 34, 30, 35, 34, 29, 30, 30, 26, 36, 28,\n",
       "       34, 30, 33, 33, 30, 28, 33, 32, 40, 28, 32, 29, 25, 32, 26, 29, 30,\n",
       "       26, 34, 28, 22, 33, 31, 32, 28, 34, 31, 32, 30, 28, 33, 30, 33, 34,\n",
       "       29, 31, 31, 26, 32, 29, 32, 29, 28, 26, 30, 31, 27, 27, 24, 28, 28,\n",
       "       29, 30, 26, 33, 25, 24, 27, 35, 31, 26, 34, 32, 32, 26, 29, 30, 28,\n",
       "       28, 30, 40, 33, 31, 29, 30, 37, 28, 35, 26, 31, 31, 24, 31, 33, 33,\n",
       "       32, 32, 33, 32, 31, 23, 34, 34, 32, 31, 35, 35, 32, 36, 33, 30, 34,\n",
       "       27, 28, 32, 28, 28, 33, 34, 27, 29, 24, 31, 31, 27, 29, 29, 27, 28,\n",
       "       27, 28, 27, 36, 36, 27, 28, 35, 26, 20, 28, 32, 22, 33, 27, 28, 28,\n",
       "       24, 28, 32, 25, 24, 30, 28, 30, 28, 32, 31, 31, 29, 32, 37, 28, 26,\n",
       "       30, 32, 31, 35, 29, 34, 33, 30, 30, 35, 24, 24, 31, 24, 29, 28, 30,\n",
       "       30, 27, 28, 30, 32, 33, 27, 29, 31, 33, 33, 21, 29, 30, 31, 25, 26,\n",
       "       35, 29, 29, 27, 26, 35, 28, 25, 29, 28, 28, 35, 34, 31, 28, 32, 22,\n",
       "       34, 32, 33, 25, 35, 32, 26, 33, 32, 32, 25, 22, 33, 27])"
      ]
     },
     "execution_count": 15,
     "metadata": {},
     "output_type": "execute_result"
    }
   ],
   "source": [
    "data_binom"
   ]
  },
  {
   "cell_type": "markdown",
   "id": "7b30fa23",
   "metadata": {},
   "source": [
    "**Exercício**: Uma prova de Estatística contém 6 questões, cada um contendo 5 alternativas e apenas uma correta. Qual a probabilidade de alguém, no chute, acertar pelo menos 3 questões?  "
   ]
  },
  {
   "cell_type": "code",
   "execution_count": 46,
   "id": "e1854b4f",
   "metadata": {},
   "outputs": [
    {
     "data": {
      "image/png": "[encoded data removed]",
      "text/plain": [
       "<Figure size 360x360 with 1 Axes>"
      ]
     },
     "metadata": {
      "needs_background": "light"
     },
     "output_type": "display_data"
    }
   ],
   "source": [
    "# FAZER\n",
    "\n",
    "#from scipy.stats import binom\n",
    "\n",
    "from numpy.random import binomial\n",
    "#f(3,6,0.2)\n",
    "data_binom = binomial(n=6, p=0.2, size=100)\n",
    "\n",
    "ax = sns.displot(\n",
    "    data_binom,\n",
    "    kind='hist',\n",
    "    color='skyblue',\n",
    ")\n",
    "ax.set(xlabel='Distribuição Binomial', ylabel='Frequência');"
   ]
  },
  {
   "cell_type": "code",
   "execution_count": 43,
   "id": "1c89d44f",
   "metadata": {},
   "outputs": [
    {
     "data": {
      "text/plain": [
       "array([2, 2, 1, 3, 0, 0, 1, 1, 0, 2, 1, 0, 0, 2, 3, 2, 0, 0, 1, 1, 1, 1,\n",
       "       0, 3, 0, 1, 4, 2, 1, 0, 3, 2, 1, 1, 0, 0, 1, 1, 2, 3, 1, 0, 3, 1,\n",
       "       0, 1, 3, 0, 0, 0, 0, 2, 2, 0, 1, 2, 3, 0, 3, 1, 0, 0, 3, 2, 2, 1,\n",
       "       1, 2, 0, 2, 1, 1, 1, 2, 2, 0, 1, 1, 1, 3, 3, 0, 1, 2, 0, 2, 3, 2,\n",
       "       1, 2, 0, 1, 0, 1, 3, 0, 2, 2, 1, 1, 2, 1, 1, 1, 0, 1, 0, 2, 3, 1,\n",
       "       3, 1, 1, 1, 1, 1, 1, 1, 0, 1, 1, 2, 2, 0, 1, 1, 2, 4, 0, 0, 1, 3,\n",
       "       1, 0, 2, 1, 2, 2, 0, 2, 1, 1, 1, 3, 1, 0, 2, 0, 0, 1, 2, 0, 2, 2,\n",
       "       3, 2, 2, 0, 2, 2, 1, 1, 0, 2, 2, 0, 2, 0, 0, 1, 1, 0, 0, 1, 1, 2,\n",
       "       1, 1, 1, 1, 0, 2, 2, 1, 0, 0, 1, 2, 0, 2, 2, 1, 2, 1, 1, 2, 0, 1,\n",
       "       0, 1, 0, 1, 1, 1, 2, 2, 1, 2, 1, 1, 3, 2, 2, 1, 1, 0, 2, 0, 1, 0,\n",
       "       1, 0, 1, 1, 1, 1, 4, 0, 2, 0, 2, 3, 1, 0, 0, 0, 0, 2, 2, 1, 0, 1,\n",
       "       2, 1, 0, 1, 0, 1, 1, 1, 2, 0, 1, 0, 1, 2, 2, 1, 1, 0, 2, 0, 0, 2,\n",
       "       1, 3, 2, 3, 1, 1, 2, 4, 3, 1, 3, 2, 1, 1, 3, 1, 1, 1, 0, 1, 0, 2,\n",
       "       1, 1, 3, 2, 1, 1, 0, 2, 1, 0, 1, 1, 0, 0, 0, 0, 1, 1, 1, 0, 2, 1,\n",
       "       0, 2, 2, 2, 2, 2, 1, 0, 0, 2, 1, 1, 0, 0, 2, 4, 2, 1, 0, 2, 0, 1,\n",
       "       1, 1, 2, 2, 1, 0, 0, 0, 1, 2, 0, 3, 2, 3, 1, 2, 1, 1, 0, 2, 1, 0,\n",
       "       1, 2, 0, 2, 1, 1, 4, 0, 1, 2, 0, 1, 0, 1, 2, 3, 1, 1, 2, 2, 1, 1,\n",
       "       1, 2, 0, 3, 3, 3, 0, 2, 0, 1, 1, 3, 0, 0, 2, 1, 1, 1, 1, 2, 2, 1,\n",
       "       1, 2, 1, 3, 0, 2, 1, 0, 1, 0, 2, 2, 4, 1, 0, 1, 2, 0, 1, 1, 1, 2,\n",
       "       1, 0, 0, 1, 1, 1, 0, 3, 3, 1, 1, 1, 3, 1, 1, 2, 0, 0, 0, 1, 1, 1,\n",
       "       3, 2, 1, 2, 2, 1, 1, 0, 3, 1, 0, 2, 1, 0, 3, 4, 1, 2, 0, 1, 2, 1,\n",
       "       3, 1, 2, 3, 2, 1, 2, 2, 1, 0, 0, 1, 1, 0, 0, 2, 1, 1, 2, 0, 2, 0,\n",
       "       3, 2, 0, 0, 1, 0, 1, 0, 1, 0, 3, 0, 0, 2, 3, 0, 3, 1, 0, 2, 0, 2,\n",
       "       0, 1, 0, 0, 2, 0, 2, 3, 0, 2, 0, 2, 0, 2, 1, 2, 1, 1, 2, 2, 0, 0,\n",
       "       0, 1, 0, 1, 0, 1, 0, 3, 1, 1, 3, 1, 0, 1, 1, 1, 2, 1, 1, 1, 0, 0,\n",
       "       2, 1, 1, 2, 2, 1, 3, 2, 1, 0, 1, 1, 1, 1, 0, 1, 1, 2, 0, 2, 0, 2,\n",
       "       1, 2, 1, 1, 2, 1, 0, 1, 1, 2, 1, 1, 2, 1, 1, 1, 2, 1, 1, 2, 0, 0,\n",
       "       0, 0, 2, 1, 2, 3, 3, 3, 1, 2, 0, 1, 0, 0, 1, 1, 1, 1, 0, 3, 0, 2,\n",
       "       2, 0, 0, 1, 0, 2, 0, 1, 2, 0, 0, 2, 2, 1, 1, 3, 2, 1, 2, 0, 0, 0,\n",
       "       1, 0, 1, 2, 0, 3, 1, 1, 3, 1, 1, 0, 2, 0, 1, 1, 0, 0, 3, 1, 0, 2,\n",
       "       0, 3, 2, 1, 1, 1, 2, 3, 2, 3, 1, 0, 0, 3, 1, 2, 3, 1, 0, 1, 1, 1,\n",
       "       2, 1, 0, 2, 1, 2, 1, 0, 0, 1, 2, 0, 1, 1, 0, 1, 1, 1, 1, 0, 0, 1,\n",
       "       0, 0, 3, 2, 1, 2, 4, 2, 0, 0, 3, 1, 1, 2, 1, 3, 0, 2, 1, 1, 2, 1,\n",
       "       0, 1, 0, 3, 1, 2, 0, 2, 2, 1, 0, 0, 1, 2, 1, 2, 1, 0, 0, 2, 3, 2,\n",
       "       1, 1, 1, 1, 1, 3, 1, 2, 2, 1, 2, 0, 1, 0, 1, 3, 2, 2, 1, 1, 1, 0,\n",
       "       1, 2, 1, 0, 2, 0, 2, 2, 1, 0, 2, 1, 1, 0, 2, 1, 2, 2, 1, 0, 1, 1,\n",
       "       0, 1, 0, 1, 1, 1, 0, 0, 1, 0, 0, 0, 1, 1, 0, 0, 2, 1, 2, 1, 1, 1,\n",
       "       3, 2, 1, 2, 2, 0, 1, 0, 2, 2, 0, 3, 0, 1, 2, 1, 0, 4, 1, 0, 0, 0,\n",
       "       0, 1, 2, 1, 1, 1, 1, 1, 2, 0, 1, 1, 3, 2, 2, 1, 1, 1, 1, 2, 0, 1,\n",
       "       0, 0, 2, 2, 0, 1, 1, 1, 1, 2, 2, 0, 0, 2, 1, 4, 1, 3, 1, 2, 0, 2,\n",
       "       1, 4, 0, 0, 2, 1, 0, 0, 2, 1, 2, 2, 2, 1, 1, 0, 0, 1, 1, 1, 1, 2,\n",
       "       1, 2, 2, 1, 1, 4, 1, 1, 3, 1, 1, 0, 1, 2, 2, 2, 2, 3, 0, 3, 1, 1,\n",
       "       3, 3, 1, 2, 1, 0, 2, 2, 2, 2, 1, 0, 1, 2, 2, 2, 2, 2, 0, 1, 0, 2,\n",
       "       1, 2, 1, 0, 2, 1, 1, 2, 1, 1, 2, 1, 1, 0, 0, 2, 0, 1, 2, 0, 0, 2,\n",
       "       1, 2, 2, 2, 1, 0, 1, 2, 3, 1, 2, 1, 2, 1, 3, 2, 1, 1, 0, 0, 1, 1,\n",
       "       1, 1, 3, 1, 1, 3, 2, 2, 2, 1])"
      ]
     },
     "execution_count": 43,
     "metadata": {},
     "output_type": "execute_result"
    }
   ],
   "source": [
    "data_binom"
   ]
  },
  {
   "cell_type": "code",
   "execution_count": null,
   "id": "0f1d6463",
   "metadata": {},
   "outputs": [],
   "source": []
  },
  {
   "cell_type": "markdown",
   "id": "68eb5da0",
   "metadata": {},
   "source": [
    "### **Modelo Poisson**\n",
    "\n",
    "Dizemos que um modelo tem distribuição de Poisson se \n",
    "\n",
    "\\\\[ P(X=k) = \\frac{e^{-\\lambda}\\lambda^{k}}{k!} \\\\]\n",
    " \n",
    "onde $\\lambda$ é o número de ocorrência por unidade de tempo.\n",
    "\n",
    "Esse modelo descreve experimentos onde a probabilidade de ocorrência de k eventos em um determinado intervalo de tempo é independente da ocorrência do último evento. \n",
    " \n"
   ]
  },
  {
   "cell_type": "code",
   "execution_count": 47,
   "id": "f7c90e26",
   "metadata": {
    "ExecuteTime": {
     "end_time": "2021-12-03T21:22:15.121327Z",
     "start_time": "2021-12-03T21:22:14.850444Z"
    }
   },
   "outputs": [
    {
     "data": {
      "text/plain": [
       "<seaborn.axisgrid.FacetGrid at 0x24780a868e0>"
      ]
     },
     "execution_count": 47,
     "metadata": {},
     "output_type": "execute_result"
    },
    {
     "data": {
      "image/png": "[encoded data removed]",
      "text/plain": [
       "<Figure size 360x360 with 1 Axes>"
      ]
     },
     "metadata": {
      "needs_background": "light"
     },
     "output_type": "display_data"
    }
   ],
   "source": [
    "\n",
    "from scipy.stats import poisson\n",
    "data_poisson = poisson.rvs(mu=3, size=10000)\n",
    "\n",
    "\n",
    "ax = sns.displot(data_poisson,\n",
    "                  bins=30,\n",
    "                  kde=False,\n",
    "                  color='skyblue',\n",
    "                  )\n",
    "ax.set(xlabel='Distribuição Poisson', ylabel='Frequência')"
   ]
  },
  {
   "cell_type": "code",
   "execution_count": 48,
   "id": "84c42edd",
   "metadata": {},
   "outputs": [
    {
     "data": {
      "text/plain": [
       "array([1, 4, 3, ..., 3, 0, 2])"
      ]
     },
     "execution_count": 48,
     "metadata": {},
     "output_type": "execute_result"
    }
   ],
   "source": [
    "data_poisson"
   ]
  },
  {
   "cell_type": "markdown",
   "id": "7f7fc8b8",
   "metadata": {},
   "source": [
    "Exercício: O número médio de acidentes por mês, em um certo cruzamento, é três. Qual a probabilidade de, em qualquer mês, ocorrerem quatro acidentes nesse cruzamento?"
   ]
  },
  {
   "cell_type": "code",
   "execution_count": 120,
   "id": "6c7067ef",
   "metadata": {
    "ExecuteTime": {
     "end_time": "2021-12-04T00:00:39.209255Z",
     "start_time": "2021-12-04T00:00:39.187315Z"
    }
   },
   "outputs": [
    {
     "data": {
      "text/plain": [
       "0.0008101511794681432"
      ]
     },
     "execution_count": 120,
     "metadata": {},
     "output_type": "execute_result"
    }
   ],
   "source": [
    "#numpy.math.factorial -->outra forma de calcular fatorial\n",
    "\n",
    "def fat(n):\n",
    "    if n == 0 or n == 1:\n",
    "        return 1\n",
    "    else:\n",
    "        return n * fat(n-1)\n",
    "\n",
    "lambda1 = 3\n",
    "k = 10\n",
    "np.exp(-lambda1) * lambda1**k / fat(k)\n"
   ]
  },
  {
   "cell_type": "markdown",
   "id": "448a3799",
   "metadata": {},
   "source": [
    "### Uniforme\n",
    "\n",
    "No lançamento de um dado, a variável aleatória X pode tomar os valores 1,2,3,4,5,6\n",
    "\n",
    "Como cada um desdes valores está associada uma só probabilidade de realização e $\\sum P(x_i)=1$, a função probabilidade resulta da distribuição de probabilidade:\n",
    "\n",
    "\n",
    "| X | P(X) |\n",
    "|---|------|\n",
    "| 1 | 1/6  |\n",
    "| 2 | 1/6  |\n",
    "| 3 | 1/6  |\n",
    "| 4 | 1/6  |\n",
    "| 5 | 1/6  |\n",
    "| 6 | 1/6  |"
   ]
  },
  {
   "cell_type": "code",
   "execution_count": 92,
   "id": "2321e33e",
   "metadata": {
    "ExecuteTime": {
     "end_time": "2021-12-03T21:27:00.334077Z",
     "start_time": "2021-12-03T21:27:00.216172Z"
    }
   },
   "outputs": [
    {
     "data": {
      "text/plain": [
       "<BarContainer object of 6 artists>"
      ]
     },
     "execution_count": 92,
     "metadata": {},
     "output_type": "execute_result"
    },
    {
     "data": {
      "image/png": "[encoded data removed]",
      "text/plain": [
       "<Figure size 432x288 with 1 Axes>"
      ]
     },
     "metadata": {
      "needs_background": "light"
     },
     "output_type": "display_data"
    }
   ],
   "source": [
    "plt.bar(x=[1, 2, 3, 4, 5, 6], height=1/6)"
   ]
  },
  {
   "cell_type": "code",
   "execution_count": 108,
   "id": "b4140e68",
   "metadata": {
    "ExecuteTime": {
     "end_time": "2021-12-03T21:29:08.646401Z",
     "start_time": "2021-12-03T21:29:08.377589Z"
    }
   },
   "outputs": [
    {
     "data": {
      "text/plain": [
       "<seaborn.axisgrid.FacetGrid at 0x13df1620910>"
      ]
     },
     "execution_count": 108,
     "metadata": {},
     "output_type": "execute_result"
    },
    {
     "data": {
      "image/png": "[encoded data removed]",
      "text/plain": [
       "<Figure size 360x360 with 1 Axes>"
      ]
     },
     "metadata": {
      "needs_background": "light"
     },
     "output_type": "display_data"
    }
   ],
   "source": [
    "from scipy.stats import uniform\n",
    "# random numbers from uniform distribution\n",
    "n = 10000\n",
    "start = 1\n",
    "width = 5\n",
    "data_uniform = uniform.rvs(size=n, loc = start, scale=width)\n",
    "\n",
    "ax = sns.displot(data_uniform,\n",
    "                  bins=6,\n",
    "                  kde=True,\n",
    "                  color='skyblue',\n",
    "                  )\n",
    "ax.set(xlabel='Uniform Distribution ', ylabel='Frequency')"
   ]
  },
  {
   "cell_type": "code",
   "execution_count": null,
   "id": "0217f204",
   "metadata": {},
   "outputs": [],
   "source": []
  },
  {
   "cell_type": "markdown",
   "id": "351365e0",
   "metadata": {},
   "source": [
    "**Diversas distribuições de probabilidade**\n",
    "\n",
    "http://ucla.jamesyxu.com/wp-content/uploads/2011/08/A-probability-and-statistics-cheatsheet.pdf\n",
    "\n",
    "https://docs.scipy.org/doc/scipy/reference/stats.html"
   ]
  },
  {
   "cell_type": "markdown",
   "id": "b77a561f",
   "metadata": {
    "ExecuteTime": {
     "end_time": "2021-10-15T23:16:07.672080Z",
     "start_time": "2021-10-15T23:16:07.661109Z"
    }
   },
   "source": [
    "## Principais modelos contínuos :\n",
    "\n",
    "Uma variável aleatória contínua X tem distribuição uniforme com parâmetros a e b (com a<b) se sua função de densidade de probabilidade é dada por:\n",
    "\n",
    "\\\\[f(x) = \\frac{1}{b-a} \\\\]\n",
    "\n",
    "Se x é maior ou igual a ao valor a e menor ou igual ao valor b, então f(x) = 1. Caso x não pertença ao intervalo entre a e b, então f(x) = 0.\n",
    "\n",
    "\n",
    "<center><img src=https://media.geeksforgeeks.org/wp-content/uploads/probability-distribution-1.jpg width=\"200\" height=\"500\" />"
   ]
  },
  {
   "cell_type": "markdown",
   "id": "aeb85af8",
   "metadata": {},
   "source": [
    "Esperança (média): $$ E(X) = \\frac{a+b}{2}$$\n",
    "\n",
    "Variância: $$Var(X) = \\frac{(b-a)^2}{12}$$\n",
    "\n",
    "Função acumulada: $$ \n",
    "F(x) = P(X < x) = \n",
    "  \\begin{cases}\n",
    "      0, & x<a \\\\\n",
    "      \\frac{x-a}{b-a}, & a \\le x \\leq b \\\\\n",
    "      1, & x > b\n",
    "  \\end{cases}\n",
    "$$"
   ]
  },
  {
   "cell_type": "markdown",
   "id": "d85a404e",
   "metadata": {},
   "source": [
    "## Distribuição Normal\n",
    "\n",
    "É representada por uma **curva simétrica em torno do seu ponto médio**, apresentando assim seu famoso formato de **sino** (bell shape).  \n",
    "\n",
    "A curva de distribuição normal representa o comportamento de **diversos processos e fenômenos comuns**, como por exemplo: altura ou peso de uma população, a pressão sanguínea de um grupo de pessoas, o tempo que um grupo de estudantes gasta para realizar uma prova, etc.\n",
    "\n",
    "A distribuição normal serve também como base para a inferência estatística clássica, sendo a premissa em diversos modelos e métodos.\n",
    "\n",
    "Na distribuição normal, a média, mediana e moda dos dados possuem o mesmo valor. \n",
    "\n",
    "<img src=\"https://dietassessmentprimer.cancer.gov/images/learn/distribution1.jpg\">\n",
    "\n",
    "Usaremos a notação X ~ N($\\mu$,$\\sigma^2$) para representar uma variável aleatória **com distribuição normal** de média $\\mu$ e variância $\\sigma^2$.\n",
    "\n",
    "<img src=\"https://upload.wikimedia.org/wikipedia/commons/thumb/7/74/Normal_Distribution_PDF.svg/1280px-Normal_Distribution_PDF.svg.png\" width=500>\n",
    "\n",
    "A equação da distribuição normal é:\n",
    "\n",
    "<img src=\"https://www.onlinemathlearning.com/image-files/normal-distribution-formula.png\" width=200>\n",
    "\n"
   ]
  },
  {
   "cell_type": "markdown",
   "id": "73b25029",
   "metadata": {},
   "source": [
    "Em resumo, a distribuição normal (distribuição teórica da variável aleatória contínua):\n",
    "- formato em sino\n",
    "- simétrica em torno do x (média), ou seja, a média, moda e mediana estão no mesmo ponto\n",
    "- a curva normal ou curva de Gauss\n",
    "- Área sob a curva é igual a 1\n",
    "- assintótica nas abcissas, ou seja, aproxima do eixo mas não toca\n"
   ]
  },
  {
   "cell_type": "markdown",
   "id": "218f734e",
   "metadata": {},
   "source": [
    "## Z-Score\n",
    "\n",
    "O **z-score** de uma observação nada mais é que **o número de desvios padrões que a obervação está com relação à média**:\n",
    "\n",
    "$$ z = \\frac{x - \\mu}{\\sigma} $$\n",
    "\n",
    "$$ z \\sigma = x - \\mu $$\n",
    "\n",
    "$$  x = \\mu + z \\sigma  $$\n",
    "\n",
    "Como vimos acima, em uma distribuição normal, 99.73% das observações são esperadas de estar entre 3 desvios-padrão da média. Assim, obervações para além desta faixa são muito improváveis de ocorrer (0.27% de chance), de forma que podem ser consideradas outliers.\n",
    "\n",
    "Assim, é comum considerar outliers os pontos tais que $|z| > 3$ (embora seja comum também variar este z-score limite, para 2.5 o, 3.5, etc.)\n",
    "\n",
    "**OBS.: naturalmente, este método é altamente dependente da hipótese de que seus dados são normalmente distribuídos! Por isso, funciona apenas aproximadamente para outros casos. Mas é uma boa aproximação, em geral.**"
   ]
  },
  {
   "cell_type": "markdown",
   "id": "9164a60c",
   "metadata": {},
   "source": [
    "Exercícios:\n",
    "\n",
    "1) Encontre a área acumulada que corresponde a um z-score de 1.23\n",
    "\n",
    "2) Encontre a área acumulada que corresponde a um z-score de -0.83\n",
    "\n",
    "3) Calcule o z-score que resulta em uma área de 0.38 acima (a partir do z = 0) \n",
    "\n",
    "4) Calcule o z-score que resulta em uma área de 0.38 acima\n",
    "\n",
    "5) As contas de serviços\n",
    "públicos mensais em uma cidade são normalmente distribuídas, com média de $R\\$100$ e desvio padrão de $ R\\$12$.\n",
    "Calcule a probabilidade de que uma conta de serviço público selecionada aleatoriamente tenha valor (a) menor\n",
    "que $ R\\$70$, (b) entre $ R\\$90$ e $ R\\$120$ e (c) maior que $ R\\$140$.\n"
   ]
  },
  {
   "cell_type": "code",
   "execution_count": 26,
   "id": "74a6e354",
   "metadata": {},
   "outputs": [
    {
     "data": {
      "text/plain": [
       "0.8906514475743081"
      ]
     },
     "execution_count": 26,
     "metadata": {},
     "output_type": "execute_result"
    }
   ],
   "source": [
    "#1 cdf na qual z varia de -inf até o valor em 1.23\n",
    "stats.norm.cdf(1.23)"
   ]
  },
  {
   "cell_type": "code",
   "execution_count": 27,
   "id": "3ab8c23e",
   "metadata": {},
   "outputs": [
    {
     "data": {
      "text/plain": [
       "0.2032693918280684"
      ]
     },
     "execution_count": 27,
     "metadata": {},
     "output_type": "execute_result"
    }
   ],
   "source": [
    "#2 z = -inf até -0.83\n",
    "stats.norm.cdf(-0.83)"
   ]
  },
  {
   "cell_type": "code",
   "execution_count": 28,
   "id": "9286c0fc",
   "metadata": {},
   "outputs": [
    {
     "data": {
      "text/plain": [
       "1.1749867920660904"
      ]
     },
     "execution_count": 28,
     "metadata": {},
     "output_type": "execute_result"
    }
   ],
   "source": [
    "#3\n",
    "stats.norm.ppf(0.5+0.38)"
   ]
  },
  {
   "cell_type": "code",
   "execution_count": 29,
   "id": "cb6a06d9",
   "metadata": {},
   "outputs": [
    {
     "data": {
      "text/plain": [
       "-0.3054807880993974"
      ]
     },
     "execution_count": 29,
     "metadata": {},
     "output_type": "execute_result"
    }
   ],
   "source": [
    "#4\n",
    "stats.norm.ppf(0.38)"
   ]
  },
  {
   "cell_type": "code",
   "execution_count": 30,
   "id": "398bf8c9",
   "metadata": {},
   "outputs": [
    {
     "data": {
      "text/plain": [
       "0.006209665325776132"
      ]
     },
     "execution_count": 30,
     "metadata": {},
     "output_type": "execute_result"
    }
   ],
   "source": [
    "#5a\n",
    "stats.norm.cdf(70, loc = 100, scale = 12)"
   ]
  },
  {
   "cell_type": "code",
   "execution_count": 31,
   "id": "3bf479e7",
   "metadata": {},
   "outputs": [
    {
     "data": {
      "text/plain": [
       "0.7498812667635422"
      ]
     },
     "execution_count": 31,
     "metadata": {},
     "output_type": "execute_result"
    }
   ],
   "source": [
    "#5b\n",
    "stats.norm.cdf(120, loc = 100, scale = 12)-stats.norm.cdf(90, loc = 100, scale = 12)"
   ]
  },
  {
   "cell_type": "code",
   "execution_count": 32,
   "id": "1eef7c75",
   "metadata": {},
   "outputs": [
    {
     "data": {
      "text/plain": [
       "0.0004290603331967846"
      ]
     },
     "execution_count": 32,
     "metadata": {},
     "output_type": "execute_result"
    }
   ],
   "source": [
    "#5c\n",
    "1-stats.norm.cdf(140, loc = 100, scale = 12)"
   ]
  },
  {
   "cell_type": "code",
   "execution_count": 33,
   "id": "5f11669e",
   "metadata": {},
   "outputs": [
    {
     "data": {
      "text/plain": [
       "0.0004290603331968372"
      ]
     },
     "execution_count": 33,
     "metadata": {},
     "output_type": "execute_result"
    }
   ],
   "source": [
    "stats.norm.sf(140, loc = 100, scale = 12)"
   ]
  },
  {
   "cell_type": "markdown",
   "id": "11425644",
   "metadata": {},
   "source": [
    "Tabela de Distribuição Normal Padrão"
   ]
  },
  {
   "cell_type": "markdown",
   "id": "5ddc523f",
   "metadata": {},
   "source": [
    "<img src=\"https://bloglosbifes.files.wordpress.com/2013/10/distribuicao_normal_padrao.png\" width=500>\n",
    "     \n",
    "     "
   ]
  },
  {
   "cell_type": "code",
   "execution_count": 65,
   "id": "3e7e7b56",
   "metadata": {
    "ExecuteTime": {
     "end_time": "2021-12-01T21:41:31.809707Z",
     "start_time": "2021-12-01T21:41:31.708230Z"
    },
    "scrolled": true
   },
   "outputs": [
    {
     "data": {
      "image/png": "[encoded data removed]",
      "text/plain": [
       "<Figure size 432x288 with 1 Axes>"
      ]
     },
     "metadata": {
      "needs_background": "light"
     },
     "output_type": "display_data"
    }
   ],
   "source": [
    "x = np.linspace(-5, 5, 400)\n",
    "\n",
    "mu = 0 #média\n",
    "sigma = 1 #desvio padrão\n",
    "# usando o scipy\n",
    "y = stats.norm(loc=mu, scale=sigma).pdf(x) #probability density function (pdf)\n",
    "\n",
    "plt.plot(x, y)\n",
    "\n",
    "plt.show()"
   ]
  },
  {
   "cell_type": "code",
   "execution_count": 66,
   "id": "006e98f5",
   "metadata": {},
   "outputs": [
    {
     "data": {
      "text/plain": [
       "array([1.48671951e-06, 1.68467260e-06, 1.90778392e-06, 2.15908659e-06,\n",
       "       2.44195772e-06, 2.76015471e-06, 3.11785499e-06, 3.51969964e-06,\n",
       "       3.97084101e-06, 4.47699488e-06, 5.04449737e-06, 5.68036713e-06,\n",
       "       6.39237310e-06, 7.18910834e-06, 8.08007042e-06, 9.07574879e-06,\n",
       "       1.01877198e-05, 1.14287496e-05, 1.28129063e-05, 1.43556805e-05,\n",
       "       1.60741170e-05, 1.79869558e-05, 2.01147859e-05, 2.24802100e-05,\n",
       "       2.51080230e-05, 2.80254035e-05, 3.12621207e-05, 3.48507558e-05,\n",
       "       3.88269404e-05, 4.32296123e-05, 4.81012892e-05, 5.34883617e-05,\n",
       "       5.94414068e-05, 6.60155226e-05, 7.32706858e-05, 8.12721316e-05,\n",
       "       9.00907595e-05, 9.98035639e-05, 1.10494091e-04, 1.22252926e-04,\n",
       "       1.35178205e-04, 1.49376160e-04, 1.64961696e-04, 1.82058993e-04,\n",
       "       2.00802152e-04, 2.21335866e-04, 2.43816127e-04, 2.68410973e-04,\n",
       "       2.95301265e-04, 3.24681507e-04, 3.56760696e-04, 3.91763215e-04,\n",
       "       4.29929764e-04, 4.71518321e-04, 5.16805154e-04, 5.66085855e-04,\n",
       "       6.19676426e-04, 6.77914385e-04, 7.41159924e-04, 8.09797087e-04,\n",
       "       8.84234990e-04, 9.64909064e-04, 1.05228233e-03, 1.14684672e-03,\n",
       "       1.24912436e-03, 1.35966895e-03, 1.47906714e-03, 1.60793986e-03,\n",
       "       1.74694373e-03, 1.89677246e-03, 2.05815822e-03, 2.23187303e-03,\n",
       "       2.41873012e-03, 2.61958531e-03, 2.83533830e-03, 3.06693397e-03,\n",
       "       3.31536364e-03, 3.58166628e-03, 3.86692964e-03, 4.17229134e-03,\n",
       "       4.49893984e-03, 4.84811540e-03, 5.22111087e-03, 5.61927240e-03,\n",
       "       6.04400005e-03, 6.49674824e-03, 6.97902604e-03, 7.49239739e-03,\n",
       "       8.03848105e-03, 8.61895047e-03, 9.23553335e-03, 9.89001113e-03,\n",
       "       1.05842182e-02, 1.13200408e-02, 1.20994158e-02, 1.29243293e-02,\n",
       "       1.37968148e-02, 1.47189509e-02, 1.56928593e-02, 1.67207021e-02,\n",
       "       1.78046788e-02, 1.89470229e-02, 2.01499986e-02, 2.14158967e-02,\n",
       "       2.27470306e-02, 2.41457312e-02, 2.56143428e-02, 2.71552169e-02,\n",
       "       2.87707072e-02, 3.04631637e-02, 3.22349257e-02, 3.40883159e-02,\n",
       "       3.60256332e-02, 3.80491451e-02, 4.01610804e-02, 4.23636212e-02,\n",
       "       4.46588944e-02, 4.70489638e-02, 4.95358206e-02, 5.21213750e-02,\n",
       "       5.48074467e-02, 5.75957556e-02, 6.04879121e-02, 6.34854074e-02,\n",
       "       6.65896040e-02, 6.98017252e-02, 7.31228458e-02, 7.65538817e-02,\n",
       "       8.00955803e-02, 8.37485105e-02, 8.75130529e-02, 9.13893905e-02,\n",
       "       9.53774993e-02, 9.94771388e-02, 1.03687844e-01, 1.08008915e-01,\n",
       "       1.12439413e-01, 1.16978147e-01, 1.21623672e-01, 1.26374278e-01,\n",
       "       1.31227987e-01, 1.36182546e-01, 1.41235423e-01, 1.46383803e-01,\n",
       "       1.51624584e-01, 1.56954373e-01, 1.62369488e-01, 1.67865955e-01,\n",
       "       1.73439509e-01, 1.79085593e-01, 1.84799361e-01, 1.90575683e-01,\n",
       "       1.96409147e-01, 2.02294062e-01, 2.08224471e-01, 2.14194148e-01,\n",
       "       2.20196616e-01, 2.26225149e-01, 2.32272785e-01, 2.38332340e-01,\n",
       "       2.44396415e-01, 2.50457411e-01, 2.56507547e-01, 2.62538870e-01,\n",
       "       2.68543274e-01, 2.74512517e-01, 2.80438236e-01, 2.86311970e-01,\n",
       "       2.92125176e-01, 2.97869251e-01, 3.03535551e-01, 3.09115411e-01,\n",
       "       3.14600171e-01, 3.19981194e-01, 3.25249891e-01, 3.30397740e-01,\n",
       "       3.35416312e-01, 3.40297294e-01, 3.45032508e-01, 3.49613937e-01,\n",
       "       3.54033749e-01, 3.58284314e-01, 3.62358229e-01, 3.66248341e-01,\n",
       "       3.69947764e-01, 3.73449904e-01, 3.76748473e-01, 3.79837512e-01,\n",
       "       3.82711409e-01, 3.85364911e-01, 3.87793148e-01, 3.89991641e-01,\n",
       "       3.91956318e-01, 3.93683527e-01, 3.95170049e-01, 3.96413105e-01,\n",
       "       3.97410364e-01, 3.98159954e-01, 3.98660466e-01, 3.98910958e-01,\n",
       "       3.98910958e-01, 3.98660466e-01, 3.98159954e-01, 3.97410364e-01,\n",
       "       3.96413105e-01, 3.95170049e-01, 3.93683527e-01, 3.91956318e-01,\n",
       "       3.89991641e-01, 3.87793148e-01, 3.85364911e-01, 3.82711409e-01,\n",
       "       3.79837512e-01, 3.76748473e-01, 3.73449904e-01, 3.69947764e-01,\n",
       "       3.66248341e-01, 3.62358229e-01, 3.58284314e-01, 3.54033749e-01,\n",
       "       3.49613937e-01, 3.45032508e-01, 3.40297294e-01, 3.35416312e-01,\n",
       "       3.30397740e-01, 3.25249891e-01, 3.19981194e-01, 3.14600171e-01,\n",
       "       3.09115411e-01, 3.03535551e-01, 2.97869251e-01, 2.92125176e-01,\n",
       "       2.86311970e-01, 2.80438236e-01, 2.74512517e-01, 2.68543274e-01,\n",
       "       2.62538870e-01, 2.56507547e-01, 2.50457411e-01, 2.44396415e-01,\n",
       "       2.38332340e-01, 2.32272785e-01, 2.26225149e-01, 2.20196616e-01,\n",
       "       2.14194148e-01, 2.08224471e-01, 2.02294062e-01, 1.96409147e-01,\n",
       "       1.90575683e-01, 1.84799361e-01, 1.79085593e-01, 1.73439509e-01,\n",
       "       1.67865955e-01, 1.62369488e-01, 1.56954373e-01, 1.51624584e-01,\n",
       "       1.46383803e-01, 1.41235423e-01, 1.36182546e-01, 1.31227987e-01,\n",
       "       1.26374278e-01, 1.21623672e-01, 1.16978147e-01, 1.12439413e-01,\n",
       "       1.08008915e-01, 1.03687844e-01, 9.94771388e-02, 9.53774993e-02,\n",
       "       9.13893905e-02, 8.75130529e-02, 8.37485105e-02, 8.00955803e-02,\n",
       "       7.65538817e-02, 7.31228458e-02, 6.98017252e-02, 6.65896040e-02,\n",
       "       6.34854074e-02, 6.04879121e-02, 5.75957556e-02, 5.48074467e-02,\n",
       "       5.21213750e-02, 4.95358206e-02, 4.70489638e-02, 4.46588944e-02,\n",
       "       4.23636212e-02, 4.01610804e-02, 3.80491451e-02, 3.60256332e-02,\n",
       "       3.40883159e-02, 3.22349257e-02, 3.04631637e-02, 2.87707072e-02,\n",
       "       2.71552169e-02, 2.56143428e-02, 2.41457312e-02, 2.27470306e-02,\n",
       "       2.14158967e-02, 2.01499986e-02, 1.89470229e-02, 1.78046788e-02,\n",
       "       1.67207021e-02, 1.56928593e-02, 1.47189509e-02, 1.37968148e-02,\n",
       "       1.29243293e-02, 1.20994158e-02, 1.13200408e-02, 1.05842182e-02,\n",
       "       9.89001113e-03, 9.23553335e-03, 8.61895047e-03, 8.03848105e-03,\n",
       "       7.49239739e-03, 6.97902604e-03, 6.49674824e-03, 6.04400005e-03,\n",
       "       5.61927240e-03, 5.22111087e-03, 4.84811540e-03, 4.49893984e-03,\n",
       "       4.17229134e-03, 3.86692964e-03, 3.58166628e-03, 3.31536364e-03,\n",
       "       3.06693397e-03, 2.83533830e-03, 2.61958531e-03, 2.41873012e-03,\n",
       "       2.23187303e-03, 2.05815822e-03, 1.89677246e-03, 1.74694373e-03,\n",
       "       1.60793986e-03, 1.47906714e-03, 1.35966895e-03, 1.24912436e-03,\n",
       "       1.14684672e-03, 1.05228233e-03, 9.64909064e-04, 8.84234990e-04,\n",
       "       8.09797087e-04, 7.41159924e-04, 6.77914385e-04, 6.19676426e-04,\n",
       "       5.66085855e-04, 5.16805154e-04, 4.71518321e-04, 4.29929764e-04,\n",
       "       3.91763215e-04, 3.56760696e-04, 3.24681507e-04, 2.95301265e-04,\n",
       "       2.68410973e-04, 2.43816127e-04, 2.21335866e-04, 2.00802152e-04,\n",
       "       1.82058993e-04, 1.64961696e-04, 1.49376160e-04, 1.35178205e-04,\n",
       "       1.22252926e-04, 1.10494091e-04, 9.98035639e-05, 9.00907595e-05,\n",
       "       8.12721316e-05, 7.32706858e-05, 6.60155226e-05, 5.94414068e-05,\n",
       "       5.34883617e-05, 4.81012892e-05, 4.32296123e-05, 3.88269404e-05,\n",
       "       3.48507558e-05, 3.12621207e-05, 2.80254035e-05, 2.51080230e-05,\n",
       "       2.24802100e-05, 2.01147859e-05, 1.79869558e-05, 1.60741170e-05,\n",
       "       1.43556805e-05, 1.28129063e-05, 1.14287496e-05, 1.01877198e-05,\n",
       "       9.07574879e-06, 8.08007042e-06, 7.18910834e-06, 6.39237310e-06,\n",
       "       5.68036713e-06, 5.04449737e-06, 4.47699488e-06, 3.97084101e-06,\n",
       "       3.51969964e-06, 3.11785499e-06, 2.76015471e-06, 2.44195772e-06,\n",
       "       2.15908659e-06, 1.90778392e-06, 1.68467260e-06, 1.48671951e-06])"
      ]
     },
     "execution_count": 66,
     "metadata": {},
     "output_type": "execute_result"
    }
   ],
   "source": [
    "y"
   ]
  },
  {
   "cell_type": "code",
   "execution_count": 13,
   "id": "e0b6ec8d",
   "metadata": {
    "ExecuteTime": {
     "end_time": "2021-12-01T21:42:03.586799Z",
     "start_time": "2021-12-01T21:42:03.464645Z"
    }
   },
   "outputs": [
    {
     "data": {
      "image/png": "[encoded data removed]",
      "text/plain": [
       "<Figure size 432x288 with 1 Axes>"
      ]
     },
     "metadata": {
      "needs_background": "light"
     },
     "output_type": "display_data"
    }
   ],
   "source": [
    "x = np.linspace(-5, 5, 400)\n",
    "\n",
    "mu = 0 #média  \n",
    "sigma = 1 #devio padrão\n",
    "\n",
    "# definição explícita da curva\n",
    "y = (1/(sigma*np.sqrt(2*np.pi)))*np.exp(-(x - mu)**2/2*sigma**2)\n",
    "\n",
    "plt.plot(x, y)\n",
    "\n",
    "plt.show()"
   ]
  },
  {
   "cell_type": "code",
   "execution_count": 29,
   "id": "dc0beddf",
   "metadata": {
    "ExecuteTime": {
     "end_time": "2021-12-01T21:49:20.413972Z",
     "start_time": "2021-12-01T21:49:20.252798Z"
    }
   },
   "outputs": [
    {
     "data": {
      "image/png": "[encoded data removed]",
      "text/plain": [
       "<Figure size 360x360 with 1 Axes>"
      ]
     },
     "metadata": {
      "needs_background": "light"
     },
     "output_type": "display_data"
    }
   ],
   "source": [
    "# utilizando o seaborn\n",
    "\n",
    "N = 100 #número de pontos a serem escolhidos aleatoriamente\n",
    "amostra_normal = np.random.normal(0, 1, N) \n",
    "\n",
    "sns.displot(amostra_normal, kde=True)\n",
    "plt.show()\n"
   ]
  },
  {
   "cell_type": "code",
   "execution_count": 9,
   "id": "5c58131a",
   "metadata": {
    "ExecuteTime": {
     "end_time": "2021-12-01T21:35:32.743013Z",
     "start_time": "2021-12-01T21:35:32.547606Z"
    }
   },
   "outputs": [
    {
     "data": {
      "image/png": "[encoded data removed]",
      "text/plain": [
       "<Figure size 360x360 with 1 Axes>"
      ]
     },
     "metadata": {
      "needs_background": "light"
     },
     "output_type": "display_data"
    }
   ],
   "source": [
    "N = 1000\n",
    "amostra_normal = np.random.normal(0, 1, N)\n",
    "\n",
    "sns.displot(amostra_normal, kde=True)\n",
    "\n",
    "plt.show()"
   ]
  },
  {
   "cell_type": "code",
   "execution_count": 9,
   "id": "09879032",
   "metadata": {
    "ExecuteTime": {
     "end_time": "2021-12-01T20:56:23.015050Z",
     "start_time": "2021-12-01T20:56:22.064626Z"
    }
   },
   "outputs": [
    {
     "data": {
      "image/png": "[encoded data removed]",
      "text/plain": [
       "<Figure size 360x360 with 1 Axes>"
      ]
     },
     "metadata": {
      "needs_background": "light"
     },
     "output_type": "display_data"
    }
   ],
   "source": [
    "N = 10000\n",
    "amostra_normal = np.random.normal(0, 1, N)\n",
    "\n",
    "sns.displot(amostra_normal, kde=True)\n",
    "\n",
    "plt.show()"
   ]
  },
  {
   "cell_type": "markdown",
   "id": "95ba384f",
   "metadata": {},
   "source": [
    "Na distribuição normal, os dados são distribuídos de forma muito particular, tal que o **desvio padrão** determina a proporção de dados em cada faixa:\n",
    "\n",
    "<img src=\"https://miro.medium.com/max/24000/1*IdGgdrY_n_9_YfkaCh-dag.png\" width=500>\n",
    "\n",
    "<img src=\"https://miro.medium.com/max/24000/1*IZ2II2HYKeoMrdLU5jW6Dw.png\" width=500>"
   ]
  },
  {
   "cell_type": "code",
   "execution_count": 59,
   "id": "de7d7cf2",
   "metadata": {
    "ExecuteTime": {
     "end_time": "2021-12-01T21:52:28.504267Z",
     "start_time": "2021-12-01T21:52:28.377593Z"
    }
   },
   "outputs": [
    {
     "data": {
      "text/plain": [
       "[<matplotlib.lines.Line2D at 0x247805c3b50>]"
      ]
     },
     "execution_count": 59,
     "metadata": {},
     "output_type": "execute_result"
    },
    {
     "data": {
      "image/png": "[encoded data removed]",
      "text/plain": [
       "<Figure size 432x288 with 1 Axes>"
      ]
     },
     "metadata": {
      "needs_background": "light"
     },
     "output_type": "display_data"
    }
   ],
   "source": [
    "x = np.linspace(-5, 5, 400)\n",
    "#Função acumulada\n",
    "y = stats.norm(loc=mu, scale=sigma).cdf(x)\n",
    "\n",
    "plt.plot(x,y)"
   ]
  },
  {
   "cell_type": "code",
   "execution_count": 60,
   "id": "33fbe622",
   "metadata": {
    "ExecuteTime": {
     "end_time": "2021-12-01T21:56:29.037730Z",
     "start_time": "2021-12-01T21:56:29.021739Z"
    }
   },
   "outputs": [
    {
     "data": {
      "text/plain": [
       "0.06999203404538518"
      ]
     },
     "execution_count": 60,
     "metadata": {},
     "output_type": "execute_result"
    }
   ],
   "source": [
    "x = np.linspace(-5, 5, 400)\n",
    "#Calcundo o z-score\n",
    "y = stats.norm(loc=mu, scale=sigma).ppf(.5279)\n",
    "y"
   ]
  },
  {
   "cell_type": "code",
   "execution_count": 63,
   "id": "39d58ae2",
   "metadata": {},
   "outputs": [
    {
     "data": {
      "text/plain": [
       "array([-5.        , -4.97493734, -4.94987469, -4.92481203, -4.89974937,\n",
       "       -4.87468672, -4.84962406, -4.8245614 , -4.79949875, -4.77443609,\n",
       "       -4.74937343, -4.72431078, -4.69924812, -4.67418546, -4.64912281,\n",
       "       -4.62406015, -4.59899749, -4.57393484, -4.54887218, -4.52380952,\n",
       "       -4.49874687, -4.47368421, -4.44862155, -4.4235589 , -4.39849624,\n",
       "       -4.37343358, -4.34837093, -4.32330827, -4.29824561, -4.27318296,\n",
       "       -4.2481203 , -4.22305764, -4.19799499, -4.17293233, -4.14786967,\n",
       "       -4.12280702, -4.09774436, -4.0726817 , -4.04761905, -4.02255639,\n",
       "       -3.99749373, -3.97243108, -3.94736842, -3.92230576, -3.89724311,\n",
       "       -3.87218045, -3.84711779, -3.82205514, -3.79699248, -3.77192982,\n",
       "       -3.74686717, -3.72180451, -3.69674185, -3.6716792 , -3.64661654,\n",
       "       -3.62155388, -3.59649123, -3.57142857, -3.54636591, -3.52130326,\n",
       "       -3.4962406 , -3.47117794, -3.44611529, -3.42105263, -3.39598997,\n",
       "       -3.37092732, -3.34586466, -3.32080201, -3.29573935, -3.27067669,\n",
       "       -3.24561404, -3.22055138, -3.19548872, -3.17042607, -3.14536341,\n",
       "       -3.12030075, -3.0952381 , -3.07017544, -3.04511278, -3.02005013,\n",
       "       -2.99498747, -2.96992481, -2.94486216, -2.9197995 , -2.89473684,\n",
       "       -2.86967419, -2.84461153, -2.81954887, -2.79448622, -2.76942356,\n",
       "       -2.7443609 , -2.71929825, -2.69423559, -2.66917293, -2.64411028,\n",
       "       -2.61904762, -2.59398496, -2.56892231, -2.54385965, -2.51879699,\n",
       "       -2.49373434, -2.46867168, -2.44360902, -2.41854637, -2.39348371,\n",
       "       -2.36842105, -2.3433584 , -2.31829574, -2.29323308, -2.26817043,\n",
       "       -2.24310777, -2.21804511, -2.19298246, -2.1679198 , -2.14285714,\n",
       "       -2.11779449, -2.09273183, -2.06766917, -2.04260652, -2.01754386,\n",
       "       -1.9924812 , -1.96741855, -1.94235589, -1.91729323, -1.89223058,\n",
       "       -1.86716792, -1.84210526, -1.81704261, -1.79197995, -1.76691729,\n",
       "       -1.74185464, -1.71679198, -1.69172932, -1.66666667, -1.64160401,\n",
       "       -1.61654135, -1.5914787 , -1.56641604, -1.54135338, -1.51629073,\n",
       "       -1.49122807, -1.46616541, -1.44110276, -1.4160401 , -1.39097744,\n",
       "       -1.36591479, -1.34085213, -1.31578947, -1.29072682, -1.26566416,\n",
       "       -1.2406015 , -1.21553885, -1.19047619, -1.16541353, -1.14035088,\n",
       "       -1.11528822, -1.09022556, -1.06516291, -1.04010025, -1.01503759,\n",
       "       -0.98997494, -0.96491228, -0.93984962, -0.91478697, -0.88972431,\n",
       "       -0.86466165, -0.839599  , -0.81453634, -0.78947368, -0.76441103,\n",
       "       -0.73934837, -0.71428571, -0.68922306, -0.6641604 , -0.63909774,\n",
       "       -0.61403509, -0.58897243, -0.56390977, -0.53884712, -0.51378446,\n",
       "       -0.4887218 , -0.46365915, -0.43859649, -0.41353383, -0.38847118,\n",
       "       -0.36340852, -0.33834586, -0.31328321, -0.28822055, -0.26315789,\n",
       "       -0.23809524, -0.21303258, -0.18796992, -0.16290727, -0.13784461,\n",
       "       -0.11278195, -0.0877193 , -0.06265664, -0.03759398, -0.01253133,\n",
       "        0.01253133,  0.03759398,  0.06265664,  0.0877193 ,  0.11278195,\n",
       "        0.13784461,  0.16290727,  0.18796992,  0.21303258,  0.23809524,\n",
       "        0.26315789,  0.28822055,  0.31328321,  0.33834586,  0.36340852,\n",
       "        0.38847118,  0.41353383,  0.43859649,  0.46365915,  0.4887218 ,\n",
       "        0.51378446,  0.53884712,  0.56390977,  0.58897243,  0.61403509,\n",
       "        0.63909774,  0.6641604 ,  0.68922306,  0.71428571,  0.73934837,\n",
       "        0.76441103,  0.78947368,  0.81453634,  0.839599  ,  0.86466165,\n",
       "        0.88972431,  0.91478697,  0.93984962,  0.96491228,  0.98997494,\n",
       "        1.01503759,  1.04010025,  1.06516291,  1.09022556,  1.11528822,\n",
       "        1.14035088,  1.16541353,  1.19047619,  1.21553885,  1.2406015 ,\n",
       "        1.26566416,  1.29072682,  1.31578947,  1.34085213,  1.36591479,\n",
       "        1.39097744,  1.4160401 ,  1.44110276,  1.46616541,  1.49122807,\n",
       "        1.51629073,  1.54135338,  1.56641604,  1.5914787 ,  1.61654135,\n",
       "        1.64160401,  1.66666667,  1.69172932,  1.71679198,  1.74185464,\n",
       "        1.76691729,  1.79197995,  1.81704261,  1.84210526,  1.86716792,\n",
       "        1.89223058,  1.91729323,  1.94235589,  1.96741855,  1.9924812 ,\n",
       "        2.01754386,  2.04260652,  2.06766917,  2.09273183,  2.11779449,\n",
       "        2.14285714,  2.1679198 ,  2.19298246,  2.21804511,  2.24310777,\n",
       "        2.26817043,  2.29323308,  2.31829574,  2.3433584 ,  2.36842105,\n",
       "        2.39348371,  2.41854637,  2.44360902,  2.46867168,  2.49373434,\n",
       "        2.51879699,  2.54385965,  2.56892231,  2.59398496,  2.61904762,\n",
       "        2.64411028,  2.66917293,  2.69423559,  2.71929825,  2.7443609 ,\n",
       "        2.76942356,  2.79448622,  2.81954887,  2.84461153,  2.86967419,\n",
       "        2.89473684,  2.9197995 ,  2.94486216,  2.96992481,  2.99498747,\n",
       "        3.02005013,  3.04511278,  3.07017544,  3.0952381 ,  3.12030075,\n",
       "        3.14536341,  3.17042607,  3.19548872,  3.22055138,  3.24561404,\n",
       "        3.27067669,  3.29573935,  3.32080201,  3.34586466,  3.37092732,\n",
       "        3.39598997,  3.42105263,  3.44611529,  3.47117794,  3.4962406 ,\n",
       "        3.52130326,  3.54636591,  3.57142857,  3.59649123,  3.62155388,\n",
       "        3.64661654,  3.6716792 ,  3.69674185,  3.72180451,  3.74686717,\n",
       "        3.77192982,  3.79699248,  3.82205514,  3.84711779,  3.87218045,\n",
       "        3.89724311,  3.92230576,  3.94736842,  3.97243108,  3.99749373,\n",
       "        4.02255639,  4.04761905,  4.0726817 ,  4.09774436,  4.12280702,\n",
       "        4.14786967,  4.17293233,  4.19799499,  4.22305764,  4.2481203 ,\n",
       "        4.27318296,  4.29824561,  4.32330827,  4.34837093,  4.37343358,\n",
       "        4.39849624,  4.4235589 ,  4.44862155,  4.47368421,  4.49874687,\n",
       "        4.52380952,  4.54887218,  4.57393484,  4.59899749,  4.62406015,\n",
       "        4.64912281,  4.67418546,  4.69924812,  4.72431078,  4.74937343,\n",
       "        4.77443609,  4.79949875,  4.8245614 ,  4.84962406,  4.87468672,\n",
       "        4.89974937,  4.92481203,  4.94987469,  4.97493734,  5.        ])"
      ]
     },
     "execution_count": 63,
     "metadata": {},
     "output_type": "execute_result"
    }
   ],
   "source": [
    "x = np.linspace(-5, 5, 400)\n",
    "x"
   ]
  },
  {
   "cell_type": "markdown",
   "id": "58b089b2",
   "metadata": {},
   "source": [
    "Diversas distribuições de probabilidade\n",
    "\n",
    "http://ucla.jamesyxu.com/wp-content/uploads/2011/08/A-probability-and-statistics-cheatsheet.pdf"
   ]
  },
  {
   "cell_type": "code",
   "execution_count": null,
   "id": "f748679c",
   "metadata": {},
   "outputs": [],
   "source": []
  }
 ],
 "metadata": {
  "kernelspec": {
   "display_name": "Python 3",
   "language": "python",
   "name": "python3"
  },
  "language_info": {
   "codemirror_mode": {
    "name": "ipython",
    "version": 3
   },
   "file_extension": ".py",
   "mimetype": "text/x-python",
   "name": "python",
   "nbconvert_exporter": "python",
   "pygments_lexer": "ipython3",
   "version": "3.8.8"
  },
  "varInspector": {
   "cols": {
    "lenName": 16,
    "lenType": 16,
    "lenVar": 40
   },
   "kernels_config": {
    "python": {
     "delete_cmd_postfix": "",
     "delete_cmd_prefix": "del ",
     "library": "var_list.py",
     "varRefreshCmd": "print(var_dic_list())"
    },
    "r": {
     "delete_cmd_postfix": ") ",
     "delete_cmd_prefix": "rm(",
     "library": "var_list.r",
     "varRefreshCmd": "cat(var_dic_list()) "
    }
   },
   "types_to_exclude": [
    "module",
    "function",
    "builtin_function_or_method",
    "instance",
    "_Feature"
   ],
   "window_display": false
  }
 },
 "nbformat": 4,
 "nbformat_minor": 5
}
