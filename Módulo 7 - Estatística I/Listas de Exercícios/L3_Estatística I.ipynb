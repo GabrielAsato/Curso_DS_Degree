{
 "cells": [
  {
   "cell_type": "markdown",
   "id": "615f2026",
   "metadata": {
    "id": "615f2026"
   },
   "source": [
    "# Exercícios - Estatística"
   ]
  },
  {
   "cell_type": "code",
   "execution_count": 1,
   "id": "afacb804",
   "metadata": {},
   "outputs": [],
   "source": [
    "import numpy as np\n",
    "import pandas as pd\n",
    "import random\n",
    "from scipy.stats import norm"
   ]
  },
  {
   "cell_type": "markdown",
   "id": "b3fd867e",
   "metadata": {
    "id": "b3fd867e"
   },
   "source": [
    "### Questão 1"
   ]
  },
  {
   "cell_type": "markdown",
   "id": "1a47d0ed",
   "metadata": {
    "id": "1a47d0ed"
   },
   "source": [
    "Uma relação bem importante entre uma população e uma amostra, é que uma amostra pode ser significativa daquela população (ou seja, podemos inferir que a média e variância da amostra será bem próximo do valor real da população), isto quando essa amostra for grande o suficiente para isso. Vamos fazer algumas simulações utilizando o _Python_ para testar esses conceitos, resolvendo os itens a seguir:\n",
    "\n",
    "__A)__ Crie uma lista com número aleatórios entre 20 e 50 e que essa lista contenha 1 milhão de elementos;\n",
    "\n",
    "__B)__ Calcule a média e a variância para essa lista;\n",
    "\n",
    "__C)__ Faça amostra aleatórias de diversos tamanhos (10, 100, 1.000 e 10.000 elementos) e calcule as mesmas métricas que o item anterior, para avaliar o conceito proposto no enunciado"
   ]
  },
  {
   "cell_type": "code",
   "execution_count": 22,
   "id": "0e93f872",
   "metadata": {
    "id": "0e93f872"
   },
   "outputs": [
    {
     "data": {
      "text/plain": [
       "1000000"
      ]
     },
     "execution_count": 22,
     "metadata": {},
     "output_type": "execute_result"
    }
   ],
   "source": [
    "# a)\n",
    "lista = np.random.randint(20, 50, 1000000)\n",
    "lista = list(lista)\n",
    "len(lista)"
   ]
  },
  {
   "cell_type": "code",
   "execution_count": 13,
   "id": "662ecc60",
   "metadata": {},
   "outputs": [
    {
     "name": "stdout",
     "output_type": "stream",
     "text": [
      "A média é 34.492112\n",
      " A variância é 74.916737779456\n"
     ]
    }
   ],
   "source": [
    "# b)\n",
    "print(f\"A média é {lista.mean()}\")\n",
    "print(f\" A variância é {lista.var()}\")"
   ]
  },
  {
   "cell_type": "code",
   "execution_count": 34,
   "id": "192f2df1",
   "metadata": {},
   "outputs": [
    {
     "name": "stdout",
     "output_type": "stream",
     "text": [
      "Digite um número: 1000000\n",
      "Média é 34.490331\n",
      "Variância é 74.84881135924849\n"
     ]
    }
   ],
   "source": [
    "# c)\n",
    "n = int(input(\"Digite um número: \"))\n",
    "amostra = random.sample(lista, n)\n",
    "amostra = pd.Series(amostra)\n",
    "\n",
    "print(f\"Média é {amostra.mean()}\")\n",
    "print(f\"Variância é {amostra.var()}\")"
   ]
  },
  {
   "cell_type": "markdown",
   "id": "60d0805c",
   "metadata": {},
   "source": [
    "---"
   ]
  },
  {
   "cell_type": "markdown",
   "id": "3502aea3",
   "metadata": {
    "id": "3502aea3"
   },
   "source": [
    "### Questão 2"
   ]
  },
  {
   "cell_type": "markdown",
   "id": "97416ea6",
   "metadata": {
    "id": "97416ea6"
   },
   "source": [
    "Neste exercício vamos demonstrar a importância de uma amostragem estratificada quando temos grupos significantes dentro da população. Faça os seguintes itens:\n",
    "\n",
    "__A)__ Crie 3 listas de números aleatórios sendo elas:\n",
    "    - uma lista com números aleatórios entre 40 e 50 contendo 10.000 elementos;\n",
    "    - uma lista com números aleatórios entre 10 e 20 contendo 6.000 elementos;\n",
    "    - uma lista com números aleatórios entre 80 e 90 contendo 4.000 elementos.\n",
    "    \n",
    "__B)__ Calcule a média e a variância para cada uma das 3 listas;\n",
    "\n",
    "__C)__ Calcule a média e a variância para a população, onde a população seja as 3 listas juntas;\n",
    "\n",
    "__Dica.:__ Neste caso, temos que trabalhar com média e variância ponderada!\n",
    "\n",
    "__D)__ Una as 3 listas em uma só e retire uma amostra de 1% da lista resultante. Calcule a média e a variância para esta amostra;\n",
    "\n",
    "__E)__ Por fim, faça uma amostra estratificada da seguinte forma: faça uma amostra aleatória de 1% de cada uma das 3 listas e em seguida calcule a média e a variância para a amostra estratificada (será necessário utilizar a média e variância ponderada!).\n",
    "\n",
    "__F)__ Compare o resultado das métricas para a amostra e a amostra estratificada com o valor das métricas da população."
   ]
  },
  {
   "cell_type": "code",
   "execution_count": 3,
   "id": "119245b9",
   "metadata": {
    "id": "119245b9"
   },
   "outputs": [],
   "source": [
    "# a) Criar três listas: 40-50 com 10.000 elementos, 10-20 com 6.000 elementos, 80-90 com 4.000 elementos\n",
    "qua_cinq = np.random.randint(low = 40, high = 50, size = 10000)\n",
    "dez_vin = np.random.randint(10, 20, size = 6000)\n",
    "oit_nov = np.random.randint(80, 90, size = 4000)"
   ]
  },
  {
   "cell_type": "code",
   "execution_count": 11,
   "id": "4bbf1e10",
   "metadata": {},
   "outputs": [
    {
     "name": "stdout",
     "output_type": "stream",
     "text": [
      "Lista 40-50 com 10.000\n",
      "A média é 44.4803\n",
      "A variância é 2.887942504621586\n",
      "---------------------------------\n",
      "Lista 10-20 com 6.000\n",
      "A média é 14.5285\n",
      "A variância é 2.8654588492363082\n",
      "---------------------------------\n",
      "Lista 80-90 com 4.000\n",
      "A média é 84.4585\n",
      "A variância é 2.8410874238572807\n",
      "---------------------------------\n"
     ]
    }
   ],
   "source": [
    "# b) Média e variância para as três listas\n",
    "print(\"Lista 40-50 com 10.000\")\n",
    "print(f\"A média é {qua_cinq.mean()}\")\n",
    "print(f\"A variância é {qua_cinq.std()}\")\n",
    "print(\"---------------------------------\")\n",
    "print(\"Lista 10-20 com 6.000\")\n",
    "print(f\"A média é {dez_vin.mean()}\")\n",
    "print(f\"A variância é {dez_vin.std()}\")\n",
    "print(\"---------------------------------\")\n",
    "print(\"Lista 80-90 com 4.000\")\n",
    "print(f\"A média é {oit_nov.mean()}\")\n",
    "print(f\"A variância é {oit_nov.std()}\")\n",
    "print(\"---------------------------------\")"
   ]
  },
  {
   "cell_type": "code",
   "execution_count": 27,
   "id": "0a90422f",
   "metadata": {},
   "outputs": [],
   "source": [
    "# c) Média e variância para as três lista juntas\n",
    "\n",
    "# Converter em pd.Series\n",
    "qua_cinq = pd.Series(qua_cinq)\n",
    "dez_vin = pd.Series(dez_vin)\n",
    "oit_nov = pd.Series(oit_nov)\n",
    "toda_lista = pd.concat([qua_cinq, dez_vin, oit_nov])"
   ]
  },
  {
   "cell_type": "code",
   "execution_count": 18,
   "id": "8394702c",
   "metadata": {},
   "outputs": [
    {
     "name": "stdout",
     "output_type": "stream",
     "text": [
      "A média é 43.4904\n",
      "A variância é 24.414790843678798\n"
     ]
    }
   ],
   "source": [
    "print(f\"A média é {toda_lista.mean()}\")\n",
    "print(f\"A variância é {toda_lista.std()}\")"
   ]
  },
  {
   "cell_type": "code",
   "execution_count": 34,
   "id": "b8c6a499",
   "metadata": {},
   "outputs": [
    {
     "data": {
      "text/plain": [
       "200"
      ]
     },
     "execution_count": 34,
     "metadata": {},
     "output_type": "execute_result"
    }
   ],
   "source": [
    "toda_lista = list(toda_lista)\n",
    "# d) Unir as três listas e retirar uma amostra de 1%. Calcular a média e a variância\n",
    "amostra = random.sample(toda_lista, int(0.01*len(toda_lista)))\n",
    "len(amostra)"
   ]
  },
  {
   "cell_type": "code",
   "execution_count": 48,
   "id": "8c6ccbbe",
   "metadata": {},
   "outputs": [
    {
     "name": "stdout",
     "output_type": "stream",
     "text": [
      "Amostra da Lista 40-50 com 10.000\n",
      "A média é 44.47\n",
      "A variância é 2.9897298955733174\n",
      "---------------------------------------\n",
      "Amostra da Lista 10-20 com 6.000\n",
      "A média é 14.783333333333333\n",
      "A variância é 3.025830417838072\n",
      "--------------------------------------\n",
      "Amostra da Lista 80-90 com 4.000\n",
      "A média é 84.85\n",
      "A variância é 2.7877939076974236\n",
      "--------------------------------------\n"
     ]
    }
   ],
   "source": [
    "# e) 1% de cada lista e calcule a média e a variância da amostra estratificada\n",
    "qua_cinq = list(qua_cinq)\n",
    "dez_vin = list(dez_vin)\n",
    "oit_nov = list(oit_nov)\n",
    "\n",
    "amostra_qua_cinq = pd.Series(random.sample(qua_cinq, int(0.01*(len(qua_cinq)))))\n",
    "amostra_dez_vin = pd.Series(random.sample(dez_vin, int(0.01*(len(dez_vin)))))\n",
    "amostra_oit_nov = pd.Series(random.sample(oit_nov, int(0.01*(len(oit_nov)))))\n",
    "\n",
    "print(\"Amostra da Lista 40-50 com 10.000\")\n",
    "print(f\"A média é {amostra_qua_cinq.mean()}\")\n",
    "print(f\"A variância é {amostra_qua_cinq.std()}\")\n",
    "print(\"---------------------------------------\")\n",
    "print(\"Amostra da Lista 10-20 com 6.000\")\n",
    "print(f\"A média é {amostra_dez_vin.mean()}\")\n",
    "print(f\"A variância é {amostra_dez_vin.std()}\")\n",
    "print(\"--------------------------------------\")\n",
    "print(\"Amostra da Lista 80-90 com 4.000\")\n",
    "print(f\"A média é {amostra_oit_nov.mean()}\")\n",
    "print(f\"A variância é {amostra_oit_nov.std()}\")\n",
    "print(\"--------------------------------------\")"
   ]
  },
  {
   "cell_type": "code",
   "execution_count": 55,
   "id": "7851ecde",
   "metadata": {},
   "outputs": [
    {
     "name": "stdout",
     "output_type": "stream",
     "text": [
      "Amostra aleatória simples\n",
      "A média é 43.715\n",
      "A variância é 22.711955875672455\n",
      "--------------------------------------\n",
      "Amostra estratificada\n",
      "A média é 43.64\n",
      "A variância é 24.524634318215856\n",
      "--------------------------------------\n",
      "Parâmetros populacionais\n",
      "A média é 43.4904\n",
      "A variância é 24.414790843678798\n"
     ]
    }
   ],
   "source": [
    "# f) Comparar as amostras, amostras estratificadas e da população\n",
    "# juntar todas as amostras\n",
    "amostra_simples =  pd.Series(amostra)\n",
    "amostra_estr = pd.concat([amostra_qua_cinq, amostra_dez_vin, amostra_oit_nov])\n",
    "toda_lista = pd.Series(toda_lista)\n",
    "print(\"Amostra aleatória simples\")\n",
    "print(f\"A média é {amostra_simples.mean()}\")\n",
    "print(f\"A variância é {amostra_simples.std()}\")\n",
    "print(\"--------------------------------------\")\n",
    "print(\"Amostra estratificada\")\n",
    "print(f\"A média é {amostra_estr.mean()}\")\n",
    "print(f\"A variância é {amostra_estr.std()}\")\n",
    "print(\"--------------------------------------\")\n",
    "print(\"Parâmetros populacionais\")\n",
    "print(f\"A média é {toda_lista.mean()}\")\n",
    "print(f\"A variância é {toda_lista.std()}\")"
   ]
  },
  {
   "cell_type": "markdown",
   "id": "82f50f40",
   "metadata": {},
   "source": [
    "---"
   ]
  },
  {
   "cell_type": "markdown",
   "id": "2e3a7b3a",
   "metadata": {
    "id": "2e3a7b3a"
   },
   "source": [
    "### Questão 3"
   ]
  },
  {
   "cell_type": "markdown",
   "id": "8d8b9db9",
   "metadata": {
    "id": "8d8b9db9"
   },
   "source": [
    " Uma máquina de sorvete está regulada de modo a servir uma média de 120g por casquinha. Se a quantidade servida por casquinha seguir uma distribuição normal com desvio padrão de 18g, determine a porcentagem de casquinhas que conterão mais de 150g de sorvete."
   ]
  },
  {
   "cell_type": "code",
   "execution_count": 63,
   "id": "69ffdfb1",
   "metadata": {
    "id": "3b3ff14e"
   },
   "outputs": [
    {
     "name": "stdout",
     "output_type": "stream",
     "text": [
      "4.78 %\n"
     ]
    }
   ],
   "source": [
    "# from scipy.stats import norm\n",
    "mu = 120\n",
    "dp = 18\n",
    "# quantas terâo mais de 150g?\n",
    "# Achar o z para 150g\n",
    "z150 = (150-mu)/dp\n",
    "# Área sobre a curva da direita para esqueda, até z150\n",
    "prob = norm.sf(z150)*100\n",
    "print(f\"{round(prob,2)} %\")"
   ]
  },
  {
   "cell_type": "markdown",
   "id": "f63282cd",
   "metadata": {},
   "source": [
    "---"
   ]
  },
  {
   "cell_type": "markdown",
   "id": "18951732",
   "metadata": {
    "id": "18951732"
   },
   "source": [
    "### Questão 4"
   ]
  },
  {
   "cell_type": "markdown",
   "id": "91d33a4a",
   "metadata": {
    "id": "91d33a4a"
   },
   "source": [
    "O peso médio de 500 estudantes do sexo masculino de uma determinada universidade é 71 Kg e o desvio padrão é 5,3 Kg. Admitindo que os pesos são normalmente distribuídos, determine a porcentagem de estudantes que pesam entre 65 e 72,5 kg"
   ]
  },
  {
   "cell_type": "code",
   "execution_count": 68,
   "id": "9dcf53ee",
   "metadata": {
    "id": "9dcf53ee"
   },
   "outputs": [
    {
     "name": "stdout",
     "output_type": "stream",
     "text": [
      "48.0 %\n"
     ]
    }
   ],
   "source": [
    "mu, dp = 71, 5.3 # 500 estudantes\n",
    "# Quantos pesam entre 65 e 72,5\n",
    "z650 = (65-mu)/(dp)\n",
    "z725 = (72.5-mu)/(dp)\n",
    "prob650 = norm.cdf(z650)\n",
    "prob725 = norm.cdf(z725)\n",
    "\n",
    "print(f\"{100*round(prob725 - prob650,2)} %\")"
   ]
  },
  {
   "cell_type": "markdown",
   "id": "d29e60ce",
   "metadata": {},
   "source": [
    "---"
   ]
  },
  {
   "cell_type": "markdown",
   "id": "49a54c36",
   "metadata": {
    "id": "49a54c36"
   },
   "source": [
    "### Questão 5"
   ]
  },
  {
   "cell_type": "markdown",
   "id": "ad7af421",
   "metadata": {
    "id": "ad7af421"
   },
   "source": [
    "Uma fábrica anuncia que o índice de cafeína em um refrigerante de uma dada marca é igual a 20 mg por lata. Um laboratório realiza 20 análises do índice obtendo: 22, 19, 21, 22, 20, 18, 27, 20, 21, 19, 20, 22, 17, 20, 21,18, 25, 16, 20, 21. Sabe-se que o índice de cafeína do refrigerante dessa marca se distribui normalmente com variância 4 mg$^2$. Pode-se aceitar a afirmação do fabricante, ao nível de 5%?"
   ]
  },
  {
   "cell_type": "code",
   "execution_count": 12,
   "id": "46281c0d",
   "metadata": {
    "id": "46281c0d"
   },
   "outputs": [
    {
     "name": "stdout",
     "output_type": "stream",
     "text": [
      "Pela afirmação do fabricante, os valores de açúcares devem estar entre 19.12 mg e 20.88 mg\n",
      "A média da amostra é 20.45 mg\n",
      "Aceita H0, ou seja, a amostra tem 20 mg de açúcares.\n"
     ]
    }
   ],
   "source": [
    "# Dados de qualidade\n",
    "mu = 20\n",
    "var = 4\n",
    "# Achar o desvio padrão\n",
    "dp = var**(1/2)\n",
    "#-----------------------------------------------------------------------------------------\n",
    "# Dados da amostragem\n",
    "n = 20 # n < 30, var (dp) é conhecido e distribui normalmente. Usar teste teste Z\n",
    "lista = [22, 19, 21, 22, 20, 18, 27, 20, 21, 19, 20, 22, 17, 20, 21,18, 25, 16, 20, 21]\n",
    "# média da amostra\n",
    "amostra = pd.Series(lista)\n",
    "# Média\n",
    "x_med = amostra.mean()\n",
    "# Erro padrão\n",
    "se = dp/np.sqrt(n)\n",
    "#-----------------------------------------------------------------------------------------\n",
    "# Teste de hipóteses\n",
    "alpha = 0.05\n",
    "# H0: x_mean = 20\n",
    "# H1: x_mean !- 20\n",
    "# Intervalo de que determina significância\n",
    "maximo = norm.ppf(1-alpha/2, loc = mu, scale = se)\n",
    "minimo = norm.ppf(alpha/2, loc = mu, scale = se)\n",
    "print(f\"Pela afirmação do fabricante, os valores de açúcares devem estar entre {minimo:.2f} mg e {maximo:.2f} mg\")\n",
    "print(f\"A média da amostra é {x_med} mg\")\n",
    "\n",
    "# Comparando com alpha\n",
    "from scipy.stats import normaltest\n",
    "stats_test, pvalue = normaltest(amostra)\n",
    "if pvalue <= alpha:\n",
    "    print('Rejeita H0, ou seja, a amostra não tem 20 mg de açúcares.')\n",
    "else:\n",
    "    print('Aceita H0, ou seja, a amostra tem 20 mg de açúcares.')"
   ]
  },
  {
   "cell_type": "code",
   "execution_count": null,
   "id": "9de93583",
   "metadata": {},
   "outputs": [],
   "source": []
  }
 ],
 "metadata": {
  "colab": {
   "name": "L3 - Estatística II.ipynb",
   "provenance": []
  },
  "kernelspec": {
   "display_name": "Python 3",
   "language": "python",
   "name": "python3"
  },
  "language_info": {
   "codemirror_mode": {
    "name": "ipython",
    "version": 3
   },
   "file_extension": ".py",
   "mimetype": "text/x-python",
   "name": "python",
   "nbconvert_exporter": "python",
   "pygments_lexer": "ipython3",
   "version": "3.8.8"
  },
  "varInspector": {
   "cols": {
    "lenName": 16,
    "lenType": 16,
    "lenVar": 40
   },
   "kernels_config": {
    "python": {
     "delete_cmd_postfix": "",
     "delete_cmd_prefix": "del ",
     "library": "var_list.py",
     "varRefreshCmd": "print(var_dic_list())"
    },
    "r": {
     "delete_cmd_postfix": ") ",
     "delete_cmd_prefix": "rm(",
     "library": "var_list.r",
     "varRefreshCmd": "cat(var_dic_list()) "
    }
   },
   "types_to_exclude": [
    "module",
    "function",
    "builtin_function_or_method",
    "instance",
    "_Feature"
   ],
   "window_display": false
  }
 },
 "nbformat": 4,
 "nbformat_minor": 5
}
