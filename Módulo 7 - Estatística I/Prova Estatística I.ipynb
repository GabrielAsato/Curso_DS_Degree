{
 "cells": [
  {
   "cell_type": "markdown",
   "id": "d975b425",
   "metadata": {},
   "source": [
    "103/93"
   ]
  },
  {
   "cell_type": "markdown",
   "id": "1646bb73",
   "metadata": {},
   "source": [
    "#1"
   ]
  },
  {
   "cell_type": "markdown",
   "id": "d15bf745",
   "metadata": {},
   "source": [
    "Métricas de posição: mediana e moda"
   ]
  },
  {
   "cell_type": "markdown",
   "id": "1ed38853",
   "metadata": {},
   "source": [
    "---"
   ]
  },
  {
   "cell_type": "markdown",
   "id": "3da2084b",
   "metadata": {},
   "source": [
    "#2"
   ]
  },
  {
   "cell_type": "markdown",
   "id": "6f88b366",
   "metadata": {},
   "source": [
    "limite superior = Q3 + 1.5 * (Q3-Q1)\n",
    "\n",
    "limite inferior = Q1 - 1.5 * (Q3-Q1)"
   ]
  },
  {
   "cell_type": "markdown",
   "id": "da1200ec",
   "metadata": {},
   "source": [
    "---"
   ]
  },
  {
   "cell_type": "markdown",
   "id": "0e73ce79",
   "metadata": {},
   "source": [
    "#3"
   ]
  },
  {
   "cell_type": "code",
   "execution_count": 36,
   "id": "888e9a83",
   "metadata": {},
   "outputs": [
    {
     "name": "stdout",
     "output_type": "stream",
     "text": [
      "1.6%\n"
     ]
    }
   ],
   "source": [
    "moedas = 5+3+10+2\n",
    "moedas\n",
    "\n",
    "# Retirar respectivamente (nessa ordem) uma moeda de 1 real e uma moeda de 25 centavos\n",
    "n_umreal = 2\n",
    "n_25cent = 3\n",
    "\n",
    "prob = 2/moedas * 3/(moedas-1)\n",
    "print(f\"{prob*100:.1f}%\")"
   ]
  },
  {
   "cell_type": "markdown",
   "id": "308e2749",
   "metadata": {},
   "source": [
    "----"
   ]
  },
  {
   "cell_type": "markdown",
   "id": "f7868b0e",
   "metadata": {},
   "source": [
    "#4"
   ]
  },
  {
   "cell_type": "code",
   "execution_count": 5,
   "id": "f32cad95",
   "metadata": {},
   "outputs": [],
   "source": [
    "def fat(n):\n",
    "    if n < 2:\n",
    "        return 1\n",
    "    else:\n",
    "        return n*fat(n-1)"
   ]
  },
  {
   "cell_type": "code",
   "execution_count": 37,
   "id": "40b7fc7c",
   "metadata": {},
   "outputs": [
    {
     "name": "stdout",
     "output_type": "stream",
     "text": [
      "57.8%\n"
     ]
    }
   ],
   "source": [
    "prob = []\n",
    "for i in range(1,13):\n",
    "    f = (fat(30)/fat(i)/fat(30-i))*(0.4**i)*(0.6**(30-i))\n",
    "    prob.append(f)\n",
    "print(f\"{sum(prob)*100:.1f}%\")"
   ]
  },
  {
   "cell_type": "markdown",
   "id": "5ad66700",
   "metadata": {},
   "source": [
    "---"
   ]
  },
  {
   "cell_type": "markdown",
   "id": "d3389bc8",
   "metadata": {},
   "source": [
    "#5"
   ]
  },
  {
   "cell_type": "code",
   "execution_count": 38,
   "id": "979a4cec",
   "metadata": {},
   "outputs": [
    {
     "name": "stdout",
     "output_type": "stream",
     "text": [
      "6.1%\n"
     ]
    }
   ],
   "source": [
    "from math import e\n",
    "\n",
    "mu = 1\n",
    "k = 3\n",
    "\n",
    "poisson = (mu**k)*(e**(-mu))/fat(k)\n",
    "print(f\"{poisson*100:.1f}%\")"
   ]
  },
  {
   "cell_type": "markdown",
   "id": "0ca6d362",
   "metadata": {},
   "source": [
    "---"
   ]
  },
  {
   "cell_type": "markdown",
   "id": "10d9b34a",
   "metadata": {},
   "source": [
    "#6"
   ]
  },
  {
   "cell_type": "code",
   "execution_count": 19,
   "id": "950da2b8",
   "metadata": {},
   "outputs": [],
   "source": [
    "import pandas as pd\n",
    "\n",
    "data = {'Grávida' : [0.96,0.04], \"Não grávida\" : [0.01,0.99]}\n",
    "ind = [\"Positivo\", \"Negativo\"]\n",
    "p_gravida = 0.6\n",
    "\n",
    "teste_gravidez = pd.DataFrame(data = data, index = ind)\n",
    "mat_conf_col1 = teste_gravidez[\"Grávida\"]*p_gravida\n",
    "mat_conf_col2 = teste_gravidez[\"Não grávida\"]*(1-p_gravida)\n",
    "\n",
    "mat_conf = pd.DataFrame(data = [mat_conf_col1, mat_conf_col2]).transpose()"
   ]
  },
  {
   "cell_type": "code",
   "execution_count": 20,
   "id": "1ae7a98c",
   "metadata": {},
   "outputs": [
    {
     "data": {
      "text/html": [
       "<div>\n",
       "<style scoped>\n",
       "    .dataframe tbody tr th:only-of-type {\n",
       "        vertical-align: middle;\n",
       "    }\n",
       "\n",
       "    .dataframe tbody tr th {\n",
       "        vertical-align: top;\n",
       "    }\n",
       "\n",
       "    .dataframe thead th {\n",
       "        text-align: right;\n",
       "    }\n",
       "</style>\n",
       "<table border=\"1\" class=\"dataframe\">\n",
       "  <thead>\n",
       "    <tr style=\"text-align: right;\">\n",
       "      <th></th>\n",
       "      <th>Grávida</th>\n",
       "      <th>Não grávida</th>\n",
       "    </tr>\n",
       "  </thead>\n",
       "  <tbody>\n",
       "    <tr>\n",
       "      <th>Positivo</th>\n",
       "      <td>0.576</td>\n",
       "      <td>0.004</td>\n",
       "    </tr>\n",
       "    <tr>\n",
       "      <th>Negativo</th>\n",
       "      <td>0.024</td>\n",
       "      <td>0.396</td>\n",
       "    </tr>\n",
       "  </tbody>\n",
       "</table>\n",
       "</div>"
      ],
      "text/plain": [
       "          Grávida  Não grávida\n",
       "Positivo    0.576        0.004\n",
       "Negativo    0.024        0.396"
      ]
     },
     "execution_count": 20,
     "metadata": {},
     "output_type": "execute_result"
    }
   ],
   "source": [
    "mat_conf"
   ]
  },
  {
   "cell_type": "code",
   "execution_count": 39,
   "id": "6fabbd6e",
   "metadata": {},
   "outputs": [
    {
     "name": "stdout",
     "output_type": "stream",
     "text": [
      "99.3 %\n"
     ]
    }
   ],
   "source": [
    "# teste deu Positivo (+) e a mulher estar grávida (G)\n",
    "p_pos_d = mat_conf[\"Grávida\"][\"Positivo\"]/(mat_conf[\"Grávida\"][\"Positivo\"] + mat_conf[\"Não grávida\"][\"Positivo\"]) * 100\n",
    "print(f\"{p_pos_d:.1f} %\")"
   ]
  },
  {
   "cell_type": "markdown",
   "id": "4f4e2296",
   "metadata": {},
   "source": [
    "---"
   ]
  },
  {
   "cell_type": "markdown",
   "id": "7c2995eb",
   "metadata": {},
   "source": [
    "#7"
   ]
  },
  {
   "cell_type": "code",
   "execution_count": 26,
   "id": "6d59413f",
   "metadata": {},
   "outputs": [
    {
     "name": "stdout",
     "output_type": "stream",
     "text": [
      "A probabilidade de ter mais que 90g é igual a:  10.6 %\n"
     ]
    }
   ],
   "source": [
    "import scipy.stats as st\n",
    "import numpy as np\n",
    "\n",
    "# Definindo as metricas\n",
    "media = 80\n",
    "dp = 8\n",
    "\n",
    "# Calculand o valor Z para o nosso caso\n",
    "z = (90-media)/dp\n",
    "\n",
    "print('A probabilidade de ter mais que 90g é igual a: ', np.round((st.norm.sf(z))*100, 1), '%')"
   ]
  },
  {
   "cell_type": "markdown",
   "id": "1b145bff",
   "metadata": {},
   "source": [
    "---"
   ]
  },
  {
   "cell_type": "markdown",
   "id": "7c7557fe",
   "metadata": {},
   "source": [
    "#8"
   ]
  },
  {
   "cell_type": "code",
   "execution_count": 44,
   "id": "b3d457b2",
   "metadata": {},
   "outputs": [
    {
     "name": "stdout",
     "output_type": "stream",
     "text": [
      "Probabilidade: 91.0 %\n",
      "z1=-1.5, z2=2.0\n"
     ]
    }
   ],
   "source": [
    "# importando as bilbiotecas\n",
    "#import scipy.stats as st\n",
    "#import numpy as np\n",
    "\n",
    "# Definindo as métricas\n",
    "media = 7\n",
    "dp = 2\n",
    "\n",
    "#Calculando Z1 e Z2\n",
    "z1 = (4-media)/dp\n",
    "z2 = (11-media)/dp\n",
    "\n",
    "# Print do resultado\n",
    "print('Probabilidade:',np.round((st.norm.cdf(z2)-st.norm.cdf(z1))*100, 1), '%')\n",
    "print(f\"z1={z1}, z2={z2}\")"
   ]
  },
  {
   "cell_type": "markdown",
   "id": "4a73cfea",
   "metadata": {},
   "source": [
    "---"
   ]
  },
  {
   "cell_type": "markdown",
   "id": "63ead8a3",
   "metadata": {},
   "source": [
    "#9"
   ]
  },
  {
   "cell_type": "markdown",
   "id": "84a5044b",
   "metadata": {},
   "source": [
    "1 - Amostra aleatória simples : III - Método de amostragem mais simples onde serão escolhidos aleatoriamente elementos com ou sem reposição\n",
    "2 - Amostragem Estratificada : I - Método de amostragem onde a população é dividida em grupos (estratos) segundo algumas características conhecidas sobre a população em estudo\n",
    "3 - Amostragem por Conglomerado : II - Método de amostragem que divide em subpopulações (conglomerados), onde escolhem aleatóriamente por amostragem simples as subpopulações e todos os elementos de uma subpopulação irão fazer parte da amostra\n",
    "\n",
    "1-III, 2-I, 3-II"
   ]
  },
  {
   "cell_type": "markdown",
   "id": "5d049b9f",
   "metadata": {},
   "source": [
    "#10"
   ]
  },
  {
   "cell_type": "code",
   "execution_count": 31,
   "id": "8c484170",
   "metadata": {},
   "outputs": [],
   "source": [
    "from scipy.stats import norm"
   ]
  },
  {
   "cell_type": "code",
   "execution_count": 41,
   "id": "da5ab622",
   "metadata": {},
   "outputs": [
    {
     "name": "stdout",
     "output_type": "stream",
     "text": [
      "Pela afirmação do fabricante, os valores de açúcares devem estar menor que 35.74 mg\n",
      "A média da amostra é 34.4 mg\n",
      "Não rejeita H0, X_critico = 35.74\n"
     ]
    }
   ],
   "source": [
    "# Dados de qualidade\n",
    "mu = 35\n",
    "var = 4\n",
    "# Achar o desvio padrão\n",
    "dp = var**(1/2)\n",
    "#-----------------------------------------------------------------------------------------\n",
    "# Dados da amostragem\n",
    "n = 20 # n < 30, var (dp) é conhecido e distribui normalmente. Usar teste teste Z\n",
    "lista = [37, 34, 36, 37, 35, 32, 30, 35, 34, 36, 39, 38, 34, 35, 31, 30, 33, 35, 36, 31]\n",
    "# média da amostra\n",
    "amostra = pd.Series(lista)\n",
    "# Média\n",
    "x_med = amostra.mean()\n",
    "# Erro padrão\n",
    "se = dp/np.sqrt(n)\n",
    "#-----------------------------------------------------------------------------------------\n",
    "# Teste de hipóteses\n",
    "alpha = 0.05\n",
    "# H0: x_mean <= 35\n",
    "# H1: x_mean > 35'\n",
    "# Intervalo de que determina significância\n",
    "maximo = norm.ppf(1-alpha, loc = mu, scale = se)\n",
    "print(f\"Pela afirmação do fabricante, os valores de açúcares devem estar menor que {maximo:.2f} mg\")\n",
    "print(f\"A média da amostra é {x_med} mg\")\n",
    "if x_med <= maximo:\n",
    "    print(f\"Não rejeita H0, X_critico = {maximo:.2f}\")\n",
    "else:\n",
    "    print(f\"Rejeita H0, X_critico = {maximo:.2f}\")"
   ]
  },
  {
   "cell_type": "markdown",
   "id": "cab9243c",
   "metadata": {},
   "source": [
    "---"
   ]
  },
  {
   "cell_type": "markdown",
   "id": "9c50794c",
   "metadata": {},
   "source": [
    "#11"
   ]
  },
  {
   "cell_type": "markdown",
   "id": "40d9a105",
   "metadata": {},
   "source": [
    "Série temporal estacionária: Média e variância constante ao longo do tempo"
   ]
  },
  {
   "cell_type": "markdown",
   "id": "6954a59c",
   "metadata": {},
   "source": [
    "---"
   ]
  },
  {
   "cell_type": "markdown",
   "id": "bf8571a2",
   "metadata": {},
   "source": [
    "#12"
   ]
  },
  {
   "cell_type": "markdown",
   "id": "b11be985",
   "metadata": {},
   "source": [
    "Ruído Aleatório: Alterações irregulares e inexplicáveis"
   ]
  },
  {
   "cell_type": "markdown",
   "id": "7aeb1748",
   "metadata": {},
   "source": [
    "---"
   ]
  }
 ],
 "metadata": {
  "kernelspec": {
   "display_name": "Python 3",
   "language": "python",
   "name": "python3"
  },
  "language_info": {
   "codemirror_mode": {
    "name": "ipython",
    "version": 3
   },
   "file_extension": ".py",
   "mimetype": "text/x-python",
   "name": "python",
   "nbconvert_exporter": "python",
   "pygments_lexer": "ipython3",
   "version": "3.8.8"
  }
 },
 "nbformat": 4,
 "nbformat_minor": 5
}
