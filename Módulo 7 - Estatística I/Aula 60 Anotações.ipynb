{
 "cells": [
  {
   "cell_type": "markdown",
   "id": "d7d1b22b",
   "metadata": {},
   "source": [
    "## Séries temporais e Forecasting"
   ]
  },
  {
   "cell_type": "code",
   "execution_count": null,
   "id": "aa27127b",
   "metadata": {},
   "outputs": [],
   "source": [
    "# 1) Introdução às Séries Temporais\n",
    "df.set_index()\n"
   ]
  }
 ],
 "metadata": {
  "kernelspec": {
   "display_name": "Python 3",
   "language": "python",
   "name": "python3"
  },
  "language_info": {
   "codemirror_mode": {
    "name": "ipython",
    "version": 3
   },
   "file_extension": ".py",
   "mimetype": "text/x-python",
   "name": "python",
   "nbconvert_exporter": "python",
   "pygments_lexer": "ipython3",
   "version": "3.8.8"
  }
 },
 "nbformat": 4,
 "nbformat_minor": 5
}
