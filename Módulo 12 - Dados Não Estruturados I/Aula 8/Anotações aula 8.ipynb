{
 "cells": [
  {
   "cell_type": "markdown",
   "id": "d654c487-39e2-488d-aa3c-f360cfd44e85",
   "metadata": {},
   "source": [
    "### Aula 8 - Anotações : Case\n",
    "\n",
    "https://www.kaggle.com/c/dogs-vs-cats\n",
    "\n",
    "https://www.kaggle.com/code/guedrioussema/dogs-vs-cats-accuracy-98-86-val-acc-78-86"
   ]
  },
  {
   "cell_type": "code",
   "execution_count": null,
   "id": "a79fcd37-afeb-4267-8477-7aadf4c1e135",
   "metadata": {},
   "outputs": [],
   "source": []
  }
 ],
 "metadata": {
  "kernelspec": {
   "display_name": "Python 3",
   "language": "python",
   "name": "python3"
  },
  "language_info": {
   "codemirror_mode": {
    "name": "ipython",
    "version": 3
   },
   "file_extension": ".py",
   "mimetype": "text/x-python",
   "name": "python",
   "nbconvert_exporter": "python",
   "pygments_lexer": "ipython3",
   "version": "3.8.8"
  }
 },
 "nbformat": 4,
 "nbformat_minor": 5
}
