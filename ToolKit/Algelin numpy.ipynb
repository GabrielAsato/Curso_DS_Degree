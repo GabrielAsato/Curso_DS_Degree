{
 "cells": [
  {
   "cell_type": "markdown",
   "id": "e04513f2",
   "metadata": {},
   "source": [
    "### Alguns conceitos de Linalg"
   ]
  },
  {
   "cell_type": "code",
   "execution_count": 41,
   "id": "4e07f37f",
   "metadata": {},
   "outputs": [],
   "source": [
    "import numpy as np\n",
    "from numpy.linalg import solve, inv"
   ]
  },
  {
   "cell_type": "code",
   "execution_count": 2,
   "id": "6356a62e",
   "metadata": {},
   "outputs": [],
   "source": [
    "a = np.array([1,2,3])"
   ]
  },
  {
   "cell_type": "code",
   "execution_count": 3,
   "id": "5887ace9",
   "metadata": {
    "scrolled": true
   },
   "outputs": [
    {
     "data": {
      "text/plain": [
       "(3,)"
      ]
     },
     "execution_count": 3,
     "metadata": {},
     "output_type": "execute_result"
    }
   ],
   "source": [
    "a.shape"
   ]
  },
  {
   "cell_type": "code",
   "execution_count": 4,
   "id": "ab94f2a7",
   "metadata": {},
   "outputs": [
    {
     "data": {
      "text/plain": [
       "(3,)"
      ]
     },
     "execution_count": 4,
     "metadata": {},
     "output_type": "execute_result"
    }
   ],
   "source": [
    "# transpose()\n",
    "a.T.shape"
   ]
  },
  {
   "cell_type": "code",
   "execution_count": 5,
   "id": "992b56b1",
   "metadata": {},
   "outputs": [
    {
     "data": {
      "text/plain": [
       "array([1, 4, 9])"
      ]
     },
     "execution_count": 5,
     "metadata": {},
     "output_type": "execute_result"
    }
   ],
   "source": [
    "a*a"
   ]
  },
  {
   "cell_type": "markdown",
   "id": "5263021b",
   "metadata": {},
   "source": [
    "#### For mathematical purposes, a must be reshape for calculations. Operations must be done in matrix (i,j)"
   ]
  },
  {
   "cell_type": "code",
   "execution_count": 6,
   "id": "e512d538",
   "metadata": {},
   "outputs": [
    {
     "data": {
      "text/plain": [
       "array([[1],\n",
       "       [2],\n",
       "       [3]])"
      ]
     },
     "execution_count": 6,
     "metadata": {},
     "output_type": "execute_result"
    }
   ],
   "source": [
    "a.reshape(3,1)"
   ]
  },
  {
   "cell_type": "code",
   "execution_count": 7,
   "id": "d2285ddf",
   "metadata": {},
   "outputs": [
    {
     "data": {
      "text/plain": [
       "array([[1],\n",
       "       [2],\n",
       "       [3]])"
      ]
     },
     "execution_count": 7,
     "metadata": {},
     "output_type": "execute_result"
    }
   ],
   "source": [
    "a2 = np.array([[1],[2],[3]])\n",
    "a2"
   ]
  },
  {
   "cell_type": "code",
   "execution_count": 8,
   "id": "ff01917a",
   "metadata": {},
   "outputs": [
    {
     "data": {
      "text/plain": [
       "array([[1],\n",
       "       [4],\n",
       "       [9]])"
      ]
     },
     "execution_count": 8,
     "metadata": {},
     "output_type": "execute_result"
    }
   ],
   "source": [
    "a2*a2"
   ]
  },
  {
   "cell_type": "code",
   "execution_count": 9,
   "id": "69ff3c79",
   "metadata": {},
   "outputs": [
    {
     "data": {
      "text/plain": [
       "(3, 1)"
      ]
     },
     "execution_count": 9,
     "metadata": {},
     "output_type": "execute_result"
    }
   ],
   "source": [
    "a2.shape"
   ]
  },
  {
   "cell_type": "code",
   "execution_count": 10,
   "id": "4b5c0494",
   "metadata": {},
   "outputs": [
    {
     "data": {
      "text/plain": [
       "array([[1, 2, 3]])"
      ]
     },
     "execution_count": 10,
     "metadata": {},
     "output_type": "execute_result"
    }
   ],
   "source": [
    "a3 = np.array([[1,2,3]])\n",
    "a3"
   ]
  },
  {
   "cell_type": "code",
   "execution_count": 11,
   "id": "32cd682b",
   "metadata": {},
   "outputs": [
    {
     "data": {
      "text/plain": [
       "array([[1, 4, 9]])"
      ]
     },
     "execution_count": 11,
     "metadata": {},
     "output_type": "execute_result"
    }
   ],
   "source": [
    "a3*a3"
   ]
  },
  {
   "cell_type": "code",
   "execution_count": 12,
   "id": "0d7f294f",
   "metadata": {},
   "outputs": [
    {
     "data": {
      "text/plain": [
       "(1, 3)"
      ]
     },
     "execution_count": 12,
     "metadata": {},
     "output_type": "execute_result"
    }
   ],
   "source": [
    "a3.shape"
   ]
  },
  {
   "cell_type": "markdown",
   "id": "df9f799f",
   "metadata": {},
   "source": [
    "#### Other operations"
   ]
  },
  {
   "cell_type": "code",
   "execution_count": 13,
   "id": "1a0d33de",
   "metadata": {},
   "outputs": [
    {
     "data": {
      "text/plain": [
       "array([[1],\n",
       "       [4],\n",
       "       [9]])"
      ]
     },
     "execution_count": 13,
     "metadata": {},
     "output_type": "execute_result"
    }
   ],
   "source": [
    "a2*a2"
   ]
  },
  {
   "cell_type": "code",
   "execution_count": 14,
   "id": "5865af9f",
   "metadata": {},
   "outputs": [
    {
     "data": {
      "text/plain": [
       "array([[1, 4, 9]])"
      ]
     },
     "execution_count": 14,
     "metadata": {},
     "output_type": "execute_result"
    }
   ],
   "source": [
    "a3*a3"
   ]
  },
  {
   "cell_type": "code",
   "execution_count": 15,
   "id": "82a7c516",
   "metadata": {},
   "outputs": [
    {
     "data": {
      "text/plain": [
       "array([[1, 2, 3],\n",
       "       [2, 4, 6],\n",
       "       [3, 6, 9]])"
      ]
     },
     "execution_count": 15,
     "metadata": {},
     "output_type": "execute_result"
    }
   ],
   "source": [
    "a2*a3"
   ]
  },
  {
   "cell_type": "code",
   "execution_count": 16,
   "id": "3379ae3f",
   "metadata": {},
   "outputs": [
    {
     "data": {
      "text/plain": [
       "array([[ True,  True,  True]])"
      ]
     },
     "execution_count": 16,
     "metadata": {},
     "output_type": "execute_result"
    }
   ],
   "source": [
    "a2.T == a3"
   ]
  },
  {
   "cell_type": "markdown",
   "id": "47f33a1a",
   "metadata": {},
   "source": [
    "#### Linalg.solve(a,b): a.x=b"
   ]
  },
  {
   "cell_type": "code",
   "execution_count": 17,
   "id": "c6b4ddd6",
   "metadata": {},
   "outputs": [],
   "source": [
    "a = np.array([[1,2],[3,5]])\n",
    "b = np.array([1.,2.])"
   ]
  },
  {
   "cell_type": "code",
   "execution_count": 18,
   "id": "6afc9080",
   "metadata": {},
   "outputs": [
    {
     "data": {
      "text/plain": [
       "array([-1.,  1.])"
      ]
     },
     "execution_count": 18,
     "metadata": {},
     "output_type": "execute_result"
    }
   ],
   "source": [
    "x = np.linalg.solve(a,b)\n",
    "x"
   ]
  },
  {
   "cell_type": "code",
   "execution_count": 19,
   "id": "7a2cbc6d",
   "metadata": {},
   "outputs": [
    {
     "data": {
      "text/plain": [
       "array([1., 2.])"
      ]
     },
     "execution_count": 19,
     "metadata": {},
     "output_type": "execute_result"
    }
   ],
   "source": [
    "np.dot(a,x)"
   ]
  },
  {
   "cell_type": "code",
   "execution_count": 20,
   "id": "1b00dd2f",
   "metadata": {},
   "outputs": [
    {
     "data": {
      "text/plain": [
       "array([1., 2.])"
      ]
     },
     "execution_count": 20,
     "metadata": {},
     "output_type": "execute_result"
    }
   ],
   "source": [
    "b"
   ]
  },
  {
   "cell_type": "markdown",
   "id": "2cf3a544",
   "metadata": {},
   "source": [
    "### Convertendo vetores em matrizes"
   ]
  },
  {
   "cell_type": "code",
   "execution_count": 21,
   "id": "9d7beaec",
   "metadata": {},
   "outputs": [
    {
     "data": {
      "text/plain": [
       "(2, 2)"
      ]
     },
     "execution_count": 21,
     "metadata": {},
     "output_type": "execute_result"
    }
   ],
   "source": [
    "a1 = np.matrix(a)\n",
    "a1.shape # uma linha e três colunas"
   ]
  },
  {
   "cell_type": "code",
   "execution_count": 22,
   "id": "02d1f27a",
   "metadata": {},
   "outputs": [
    {
     "data": {
      "text/plain": [
       "(2, 2)"
      ]
     },
     "execution_count": 22,
     "metadata": {},
     "output_type": "execute_result"
    }
   ],
   "source": [
    "a1.T.shape"
   ]
  },
  {
   "cell_type": "markdown",
   "id": "7a932f12",
   "metadata": {},
   "source": [
    "#### Exemplos"
   ]
  },
  {
   "cell_type": "code",
   "execution_count": 30,
   "id": "2a6ab7ef",
   "metadata": {},
   "outputs": [
    {
     "data": {
      "text/plain": [
       "((3,), (2, 3))"
      ]
     },
     "execution_count": 30,
     "metadata": {},
     "output_type": "execute_result"
    }
   ],
   "source": [
    "A = np.array([1,2,3])\n",
    "B = np.array([[1,1,1],[2,2,2]])\n",
    "A.shape, B.shape"
   ]
  },
  {
   "cell_type": "code",
   "execution_count": 27,
   "id": "f500e393",
   "metadata": {},
   "outputs": [
    {
     "data": {
      "text/plain": [
       "array([[1, 2, 3],\n",
       "       [2, 4, 6]])"
      ]
     },
     "execution_count": 27,
     "metadata": {},
     "output_type": "execute_result"
    }
   ],
   "source": [
    "C = A*B\n",
    "C"
   ]
  },
  {
   "cell_type": "code",
   "execution_count": 31,
   "id": "4dfdba24",
   "metadata": {},
   "outputs": [
    {
     "data": {
      "text/plain": [
       "array([[1, 2, 3],\n",
       "       [2, 4, 6]])"
      ]
     },
     "execution_count": 31,
     "metadata": {},
     "output_type": "execute_result"
    }
   ],
   "source": [
    "D = B*A\n",
    "D"
   ]
  },
  {
   "cell_type": "code",
   "execution_count": 32,
   "id": "595a2393",
   "metadata": {},
   "outputs": [
    {
     "data": {
      "text/plain": [
       "array([[ True,  True,  True],\n",
       "       [ True,  True,  True]])"
      ]
     },
     "execution_count": 32,
     "metadata": {},
     "output_type": "execute_result"
    }
   ],
   "source": [
    "C == D"
   ]
  },
  {
   "cell_type": "markdown",
   "id": "56bf560e",
   "metadata": {},
   "source": [
    "#### Exemplo 1 - Matrizes e Estatísticas\n",
    "\n",
    "||Lógica|Cálculo|Python|Inglês|\n",
    "\n",
    "|Turma A|6|5|9|6|\n",
    "|Turma B|8|9|8|7|\n",
    "|Turma C|9|9|8|6|\n",
    "|Turma D|7|8|6|9|"
   ]
  },
  {
   "cell_type": "code",
   "execution_count": 34,
   "id": "a8f1fcc1",
   "metadata": {},
   "outputs": [
    {
     "data": {
      "text/plain": [
       "array([[6, 5, 9, 6],\n",
       "       [8, 9, 8, 7],\n",
       "       [9, 9, 8, 6],\n",
       "       [7, 8, 6, 9]])"
      ]
     },
     "execution_count": 34,
     "metadata": {},
     "output_type": "execute_result"
    }
   ],
   "source": [
    "T = np.array(([6,5,9,6],[8,9,8,7],[9,9,8,6],[7,8,6,9]))\n",
    "T"
   ]
  },
  {
   "cell_type": "code",
   "execution_count": 37,
   "id": "93c57a61",
   "metadata": {},
   "outputs": [
    {
     "data": {
      "text/plain": [
       "(7.5, 7.75, 7.75, 7.0)"
      ]
     },
     "execution_count": 37,
     "metadata": {},
     "output_type": "execute_result"
    }
   ],
   "source": [
    "mean_logic = T[:,0].mean()\n",
    "mean_calc = T[:,1].mean()\n",
    "mean_py = T[:,2].mean()\n",
    "mean_ing = T[:,3].mean()\n",
    "mean_logic, mean_calc, mean_py, mean_ing"
   ]
  },
  {
   "cell_type": "code",
   "execution_count": 38,
   "id": "7e8a9266",
   "metadata": {},
   "outputs": [
    {
     "data": {
      "text/plain": [
       "(6.5, 8.0, 8.0, 7.5)"
      ]
     },
     "execution_count": 38,
     "metadata": {},
     "output_type": "execute_result"
    }
   ],
   "source": [
    "mean_A = T[0,:].mean()\n",
    "mean_B = T[1,:].mean()\n",
    "mean_C = T[2,:].mean()\n",
    "mean_D = T[3,:].mean()\n",
    "mean_A, mean_B, mean_C, mean_D"
   ]
  },
  {
   "cell_type": "code",
   "execution_count": 40,
   "id": "c0d753a3",
   "metadata": {},
   "outputs": [
    {
     "data": {
      "text/plain": [
       "(7.5, 1.3228756555322954)"
      ]
     },
     "execution_count": 40,
     "metadata": {},
     "output_type": "execute_result"
    }
   ],
   "source": [
    "med_fac = T.mean() # média\n",
    "std_fac = T.std() # desvio padrão\n",
    "med_fac, std_fac"
   ]
  },
  {
   "cell_type": "markdown",
   "id": "99ad470f",
   "metadata": {},
   "source": [
    "#### Exemplo 2 - Matrizes e inversa"
   ]
  },
  {
   "cell_type": "code",
   "execution_count": 42,
   "id": "ae7294a8",
   "metadata": {},
   "outputs": [
    {
     "data": {
      "text/plain": [
       "(array([[1, 2],\n",
       "        [3, 4]]),\n",
       " array([[-2. ,  1. ],\n",
       "        [ 1.5, -0.5]]))"
      ]
     },
     "execution_count": 42,
     "metadata": {},
     "output_type": "execute_result"
    }
   ],
   "source": [
    "C = np.array(([1,2],[3,4]))\n",
    "D = inv(C)\n",
    "C, D"
   ]
  },
  {
   "cell_type": "code",
   "execution_count": 45,
   "id": "98664583",
   "metadata": {},
   "outputs": [
    {
     "data": {
      "text/plain": [
       "array([[1.00000000e+00, 1.11022302e-16],\n",
       "       [0.00000000e+00, 1.00000000e+00]])"
      ]
     },
     "execution_count": 45,
     "metadata": {},
     "output_type": "execute_result"
    }
   ],
   "source": [
    "np.dot(C,D) # Matriz identidade"
   ]
  },
  {
   "cell_type": "markdown",
   "id": "02de0ee8",
   "metadata": {},
   "source": [
    "#### Exemplo 3 - Sistemas lineares"
   ]
  },
  {
   "cell_type": "code",
   "execution_count": 46,
   "id": "4e3bd128",
   "metadata": {},
   "outputs": [
    {
     "data": {
      "text/plain": [
       "(array([[ 1, -2],\n",
       "        [ 1,  3]]),\n",
       " array([5, 2]))"
      ]
     },
     "execution_count": 46,
     "metadata": {},
     "output_type": "execute_result"
    }
   ],
   "source": [
    "A = np.array(([1, -2],[1,3]))\n",
    "B = np.array(([5,2]))\n",
    "A, B"
   ]
  },
  {
   "cell_type": "code",
   "execution_count": 48,
   "id": "341ccdd1",
   "metadata": {},
   "outputs": [
    {
     "data": {
      "text/plain": [
       "array([ 3.8, -0.6])"
      ]
     },
     "execution_count": 48,
     "metadata": {},
     "output_type": "execute_result"
    }
   ],
   "source": [
    "C = inv(A).dot(B)\n",
    "C"
   ]
  },
  {
   "cell_type": "code",
   "execution_count": null,
   "id": "17990b18",
   "metadata": {},
   "outputs": [],
   "source": []
  },
  {
   "cell_type": "code",
   "execution_count": null,
   "id": "b04f4990",
   "metadata": {},
   "outputs": [],
   "source": []
  }
 ],
 "metadata": {
  "kernelspec": {
   "display_name": "Python 3",
   "language": "python",
   "name": "python3"
  },
  "language_info": {
   "codemirror_mode": {
    "name": "ipython",
    "version": 3
   },
   "file_extension": ".py",
   "mimetype": "text/x-python",
   "name": "python",
   "nbconvert_exporter": "python",
   "pygments_lexer": "ipython3",
   "version": "3.8.8"
  }
 },
 "nbformat": 4,
 "nbformat_minor": 5
}
