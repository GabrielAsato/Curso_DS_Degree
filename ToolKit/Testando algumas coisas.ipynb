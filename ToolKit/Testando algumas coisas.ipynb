{
 "cells": [
  {
   "cell_type": "code",
   "execution_count": 7,
   "id": "f91abf61",
   "metadata": {},
   "outputs": [
    {
     "name": "stdout",
     "output_type": "stream",
     "text": [
      "Digite algo: h\n",
      "Digite algo: g\n",
      "Digite algo: f\n",
      "Digite algo: d\n",
      "Digite algo: v\n",
      "Digite algo: g\n",
      "Digite algo: vf\n",
      "Digite algo: t\n",
      "Digite algo: b\n",
      "\n",
      "Foi digitado b\n"
     ]
    }
   ],
   "source": [
    "while True:\n",
    "    opcao = input(\"Digite algo: \")\n",
    "    if (opcao == \"a\") or (opcao == \"b\"):\n",
    "        print(f\"\\nFoi digitado {opcao}\")\n",
    "        break"
   ]
  },
  {
   "cell_type": "code",
   "execution_count": 19,
   "id": "20c63d11",
   "metadata": {},
   "outputs": [
    {
     "name": "stdout",
     "output_type": "stream",
     "text": [
      "Digite algo: ew\n",
      "Digite outro: f\n",
      "Digite outro: g\n",
      "Digite outro: j\n",
      "Digite outro: \n",
      "Digite outro: \n",
      "Digite outro: gf\n",
      "Digite outro: fg\n",
      "Digite outro: d\n",
      "Digite outro: a\n",
      "\n",
      "Foi digitado a\n"
     ]
    }
   ],
   "source": [
    "opcao = input(\"Digite algo: \")\n",
    "while (opcao not in [\"a\",\"b\"]):\n",
    "    opcao = input(\"Digite outro: \")\n",
    "print(f\"\\nFoi digitado {opcao}\")"
   ]
  },
  {
   "cell_type": "code",
   "execution_count": 18,
   "id": "05f99cf4",
   "metadata": {},
   "outputs": [
    {
     "name": "stdout",
     "output_type": "stream",
     "text": [
      "45\n",
      "25\n",
      "13\n"
     ]
    }
   ],
   "source": [
    "lst = [3, 5, 8, 13, 4, 45, 25]\n",
    "lst.sort(reverse=True)\n",
    "for i in range(3):\n",
    "    print(lst[i])"
   ]
  },
  {
   "cell_type": "code",
   "execution_count": 19,
   "id": "1878b293",
   "metadata": {},
   "outputs": [
    {
     "data": {
      "text/plain": [
       "[45, 25, 13, 8, 5, 4, 3]"
      ]
     },
     "execution_count": 19,
     "metadata": {},
     "output_type": "execute_result"
    }
   ],
   "source": [
    "lista = sorted(lst, reverse=True)\n",
    "lista"
   ]
  },
  {
   "cell_type": "code",
   "execution_count": null,
   "id": "6c98ac5b",
   "metadata": {},
   "outputs": [],
   "source": []
  },
  {
   "cell_type": "code",
   "execution_count": 2,
   "id": "5ecbac3d",
   "metadata": {},
   "outputs": [
    {
     "name": "stdout",
     "output_type": "stream",
     "text": [
      "b\n"
     ]
    }
   ],
   "source": [
    "def mid(s):\n",
    "    length = len(s)\n",
    "    if length%2==0:\n",
    "        return \"\"\n",
    "    else:\n",
    "        return s[int((length-1)/2)]\n",
    "\n",
    "print(mid(\"abc\"))"
   ]
  },
  {
   "cell_type": "code",
   "execution_count": 4,
   "id": "ae1def63",
   "metadata": {},
   "outputs": [
    {
     "name": "stdout",
     "output_type": "stream",
     "text": [
      "0\n"
     ]
    }
   ],
   "source": [
    "def online_count(statuses):\n",
    "    on = 0\n",
    "    for i in statuses:\n",
    "        if statuses.values() == \"online\":\n",
    "            on += 1\n",
    "    return on\n",
    "\n",
    "statuses = {\n",
    "    \"Alice\": \"online\",\n",
    "    \"Bob\": \"offline\",\n",
    "    \"Eve\": \"online\"\n",
    "}\n",
    "\n",
    "print(online_count(statuses))"
   ]
  },
  {
   "cell_type": "code",
   "execution_count": 1,
   "id": "46550eb7",
   "metadata": {},
   "outputs": [],
   "source": [
    "def fat(n):\n",
    "    if n <= 1:\n",
    "        return 1\n",
    "    return n*fat(n-1)"
   ]
  },
  {
   "cell_type": "code",
   "execution_count": 8,
   "id": "567fe58c",
   "metadata": {},
   "outputs": [],
   "source": [
    "# Paradoxo do aniversário\n",
    "def birthday(n):\n",
    "    i = 0\n",
    "    prob = 1\n",
    "    while i < n:\n",
    "        prob *= ((365-i)/365)\n",
    "        i += 1\n",
    "    return 1-prob"
   ]
  },
  {
   "cell_type": "code",
   "execution_count": 9,
   "id": "6ad67e47",
   "metadata": {},
   "outputs": [
    {
     "name": "stdout",
     "output_type": "stream",
     "text": [
      "50.73% for 23 people\n"
     ]
    }
   ],
   "source": [
    "i = 0\n",
    "while True:\n",
    "    if birthday(i) > 0.5:\n",
    "        print(f\"{birthday(i)*100:.2f}% for {i} people\")\n",
    "        break\n",
    "    i += 1"
   ]
  },
  {
   "cell_type": "code",
   "execution_count": null,
   "id": "84392463",
   "metadata": {},
   "outputs": [],
   "source": []
  },
  {
   "cell_type": "code",
   "execution_count": 13,
   "id": "445e3189",
   "metadata": {},
   "outputs": [
    {
     "name": "stdout",
     "output_type": "stream",
     "text": [
      "50.73% for 23 people\n"
     ]
    }
   ],
   "source": [
    "def bday(n):\n",
    "    i = 0\n",
    "    prob = 1\n",
    "    while i < n:\n",
    "        prob *= ((365-i)/365)\n",
    "        i += 1\n",
    "    return 1-prob\n",
    "\n",
    "i = 0\n",
    "while True:\n",
    "    if bday(i) > 0.5:\n",
    "        print(f\"{bday(i)*100:.2f}% for {i} people\")\n",
    "        break\n",
    "    i += 1"
   ]
  },
  {
   "cell_type": "code",
   "execution_count": 4,
   "id": "c8f24c2a",
   "metadata": {},
   "outputs": [],
   "source": [
    "def somar(a,b):\n",
    "    soma = a+b\n",
    "    print(f\"{a} + {b} = {soma}\")"
   ]
  },
  {
   "cell_type": "code",
   "execution_count": 5,
   "id": "e8ba7812",
   "metadata": {},
   "outputs": [
    {
     "name": "stdout",
     "output_type": "stream",
     "text": [
      "1 + 2 = 3\n"
     ]
    }
   ],
   "source": [
    "y = somar(1,2)"
   ]
  },
  {
   "cell_type": "code",
   "execution_count": 6,
   "id": "5e61f8ac",
   "metadata": {},
   "outputs": [
    {
     "ename": "TypeError",
     "evalue": "unsupported operand type(s) for +: 'NoneType' and 'int'",
     "output_type": "error",
     "traceback": [
      "\u001b[1;31m---------------------------------------------------------------------------\u001b[0m",
      "\u001b[1;31mTypeError\u001b[0m                                 Traceback (most recent call last)",
      "\u001b[1;32m<ipython-input-6-f90b4c9e79b5>\u001b[0m in \u001b[0;36m<module>\u001b[1;34m\u001b[0m\n\u001b[1;32m----> 1\u001b[1;33m \u001b[0my\u001b[0m\u001b[1;33m+\u001b[0m\u001b[1;36m1\u001b[0m\u001b[1;33m\u001b[0m\u001b[1;33m\u001b[0m\u001b[0m\n\u001b[0m",
      "\u001b[1;31mTypeError\u001b[0m: unsupported operand type(s) for +: 'NoneType' and 'int'"
     ]
    }
   ],
   "source": [
    "y+1"
   ]
  },
  {
   "cell_type": "code",
   "execution_count": 1,
   "id": "3a408c4b",
   "metadata": {},
   "outputs": [],
   "source": [
    "# DBSCAN\n",
    "import numpy as np\n",
    "import pandas as pd\n",
    "import matplotlib.pyplot as plt\n",
    "import seaborn as sns\n",
    "\n",
    "from sklearn.preprocessing import StandardScaler\n",
    "from sklearn.datasets import make_blobs"
   ]
  },
  {
   "cell_type": "code",
   "execution_count": 27,
   "id": "ee1c19f5",
   "metadata": {},
   "outputs": [],
   "source": [
    "X, _ = make_blobs(n_samples = 300, n_features = 2, centers = 4, cluster_std = 0.5, random_state = 1)"
   ]
  },
  {
   "cell_type": "code",
   "execution_count": 28,
   "id": "3ece6cbc",
   "metadata": {},
   "outputs": [
    {
     "data": {
      "text/plain": [
       "(300, 2)"
      ]
     },
     "execution_count": 28,
     "metadata": {},
     "output_type": "execute_result"
    }
   ],
   "source": [
    "X.shape"
   ]
  },
  {
   "cell_type": "code",
   "execution_count": 29,
   "id": "2ddfe24e",
   "metadata": {},
   "outputs": [
    {
     "data": {
      "text/html": [
       "<div>\n",
       "<style scoped>\n",
       "    .dataframe tbody tr th:only-of-type {\n",
       "        vertical-align: middle;\n",
       "    }\n",
       "\n",
       "    .dataframe tbody tr th {\n",
       "        vertical-align: top;\n",
       "    }\n",
       "\n",
       "    .dataframe thead th {\n",
       "        text-align: right;\n",
       "    }\n",
       "</style>\n",
       "<table border=\"1\" class=\"dataframe\">\n",
       "  <thead>\n",
       "    <tr style=\"text-align: right;\">\n",
       "      <th></th>\n",
       "      <th>x1</th>\n",
       "      <th>x2</th>\n",
       "    </tr>\n",
       "  </thead>\n",
       "  <tbody>\n",
       "    <tr>\n",
       "      <th>0</th>\n",
       "      <td>1.541644</td>\n",
       "      <td>1.640487</td>\n",
       "    </tr>\n",
       "    <tr>\n",
       "      <th>1</th>\n",
       "      <td>-0.298452</td>\n",
       "      <td>-1.299025</td>\n",
       "    </tr>\n",
       "    <tr>\n",
       "      <th>2</th>\n",
       "      <td>1.469371</td>\n",
       "      <td>1.621162</td>\n",
       "    </tr>\n",
       "    <tr>\n",
       "      <th>3</th>\n",
       "      <td>1.483530</td>\n",
       "      <td>1.453422</td>\n",
       "    </tr>\n",
       "    <tr>\n",
       "      <th>4</th>\n",
       "      <td>1.688389</td>\n",
       "      <td>1.601580</td>\n",
       "    </tr>\n",
       "  </tbody>\n",
       "</table>\n",
       "</div>"
      ],
      "text/plain": [
       "         x1        x2\n",
       "0  1.541644  1.640487\n",
       "1 -0.298452 -1.299025\n",
       "2  1.469371  1.621162\n",
       "3  1.483530  1.453422\n",
       "4  1.688389  1.601580"
      ]
     },
     "execution_count": 29,
     "metadata": {},
     "output_type": "execute_result"
    }
   ],
   "source": [
    "X = StandardScaler().fit_transform(X)\n",
    "X_df = pd.DataFrame(X, columns = [\"x1\",\"x2\"])\n",
    "X_df.head()"
   ]
  },
  {
   "cell_type": "code",
   "execution_count": 30,
   "id": "83de6b71",
   "metadata": {},
   "outputs": [
    {
     "data": {
      "image/png": "[encoded data removed]",
      "text/plain": [
       "<Figure size 432x288 with 1 Axes>"
      ]
     },
     "metadata": {
      "needs_background": "light"
     },
     "output_type": "display_data"
    }
   ],
   "source": [
    "plt.scatter(X[:,0], X[:,1])\n",
    "plt.show()"
   ]
  },
  {
   "cell_type": "code",
   "execution_count": 31,
   "id": "841e5eeb",
   "metadata": {},
   "outputs": [],
   "source": [
    "from sklearn.cluster import DBSCAN\n",
    "\n",
    "dbscan = DBSCAN().fit(X)"
   ]
  },
  {
   "cell_type": "code",
   "execution_count": 32,
   "id": "3b0b76f9",
   "metadata": {},
   "outputs": [
    {
     "data": {
      "text/plain": [
       "array([0, 1, 2], dtype=int64)"
      ]
     },
     "execution_count": 32,
     "metadata": {},
     "output_type": "execute_result"
    }
   ],
   "source": [
    "np.unique(dbscan.labels_)"
   ]
  },
  {
   "cell_type": "code",
   "execution_count": 33,
   "id": "c71c5f32",
   "metadata": {},
   "outputs": [
    {
     "data": {
      "text/plain": [
       "{'algorithm': 'auto',\n",
       " 'eps': 0.5,\n",
       " 'leaf_size': 30,\n",
       " 'metric': 'euclidean',\n",
       " 'metric_params': None,\n",
       " 'min_samples': 5,\n",
       " 'n_jobs': None,\n",
       " 'p': None}"
      ]
     },
     "execution_count": 33,
     "metadata": {},
     "output_type": "execute_result"
    }
   ],
   "source": [
    "dbscan.get_params()"
   ]
  },
  {
   "cell_type": "code",
   "execution_count": 34,
   "id": "984aec05",
   "metadata": {},
   "outputs": [
    {
     "data": {
      "text/plain": [
       "array([-1,  0,  1,  2,  3], dtype=int64)"
      ]
     },
     "execution_count": 34,
     "metadata": {},
     "output_type": "execute_result"
    }
   ],
   "source": [
    "from sklearn.cluster import DBSCAN\n",
    "\n",
    "dbscan = DBSCAN(eps = 0.1).fit(X)\n",
    "np.unique(dbscan.labels_)"
   ]
  },
  {
   "cell_type": "code",
   "execution_count": 35,
   "id": "6fc1a5c8",
   "metadata": {},
   "outputs": [
    {
     "data": {
      "text/plain": [
       "NearestNeighbors(n_neighbors=2)"
      ]
     },
     "execution_count": 35,
     "metadata": {},
     "output_type": "execute_result"
    }
   ],
   "source": [
    "# Como podemos melhorar?\n",
    "from sklearn.neighbors import NearestNeighbors\n",
    "\n",
    "viz = NearestNeighbors(n_neighbors = 2).fit(X)\n",
    "viz"
   ]
  },
  {
   "cell_type": "code",
   "execution_count": 36,
   "id": "2e432043",
   "metadata": {},
   "outputs": [],
   "source": [
    "dist, index = viz.kneighbors(X)"
   ]
  },
  {
   "cell_type": "code",
   "execution_count": 38,
   "id": "fead90b2",
   "metadata": {},
   "outputs": [
    {
     "data": {
      "text/plain": [
       "array([[  0, 196],\n",
       "       [  1, 295],\n",
       "       [  2, 165],\n",
       "       [  3, 268],\n",
       "       [  4, 110],\n",
       "       [  5,  16],\n",
       "       [  6,  69],\n",
       "       [  7, 207],\n",
       "       [  8, 297],\n",
       "       [  9,   7],\n",
       "       [ 10,  93],\n",
       "       [ 11, 183],\n",
       "       [ 12, 230],\n",
       "       [ 13, 290],\n",
       "       [ 14, 124],\n",
       "       [ 15, 116],\n",
       "       [ 16, 173],\n",
       "       [ 17, 271],\n",
       "       [ 18,  58],\n",
       "       [ 19,  47],\n",
       "       [ 20,  94],\n",
       "       [ 21, 214],\n",
       "       [ 22, 144],\n",
       "       [ 23, 200],\n",
       "       [ 24, 177],\n",
       "       [ 25,  49],\n",
       "       [ 26, 242],\n",
       "       [ 27, 239],\n",
       "       [ 28,  10],\n",
       "       [ 29, 118],\n",
       "       [ 30, 184],\n",
       "       [ 31, 109],\n",
       "       [ 32,  40],\n",
       "       [ 33, 162],\n",
       "       [ 34,  67],\n",
       "       [ 35, 140],\n",
       "       [ 36, 130],\n",
       "       [ 37, 187],\n",
       "       [ 38, 147],\n",
       "       [ 39,  74],\n",
       "       [ 40, 157],\n",
       "       [ 41, 265],\n",
       "       [ 42,  73],\n",
       "       [ 43,  89],\n",
       "       [ 44, 142],\n",
       "       [ 45, 218],\n",
       "       [ 46, 284],\n",
       "       [ 47,  19],\n",
       "       [ 48, 158],\n",
       "       [ 49,  25],\n",
       "       [ 50, 154],\n",
       "       [ 51, 141],\n",
       "       [ 52, 131],\n",
       "       [ 53,  64],\n",
       "       [ 54, 130],\n",
       "       [ 55, 262],\n",
       "       [ 56, 167],\n",
       "       [ 57, 289],\n",
       "       [ 58,   2],\n",
       "       [ 59,  82],\n",
       "       [ 60, 223],\n",
       "       [ 61, 106],\n",
       "       [ 62, 101],\n",
       "       [ 63, 298],\n",
       "       [ 64,  53],\n",
       "       [ 65, 252],\n",
       "       [ 66,  42],\n",
       "       [ 67,  34],\n",
       "       [ 68, 235],\n",
       "       [ 69, 297],\n",
       "       [ 70, 241],\n",
       "       [ 71, 130],\n",
       "       [ 72, 217],\n",
       "       [ 73, 294],\n",
       "       [ 74,  39],\n",
       "       [ 75, 132],\n",
       "       [ 76, 198],\n",
       "       [ 77,  26],\n",
       "       [ 78,  81],\n",
       "       [ 79, 268],\n",
       "       [ 80, 180],\n",
       "       [ 81, 157],\n",
       "       [ 82, 114],\n",
       "       [ 83, 114],\n",
       "       [ 84,  30],\n",
       "       [ 85, 246],\n",
       "       [ 86, 231],\n",
       "       [ 87, 230],\n",
       "       [ 88, 293],\n",
       "       [ 89,  43],\n",
       "       [ 90, 174],\n",
       "       [ 91, 223],\n",
       "       [ 92, 131],\n",
       "       [ 93, 175],\n",
       "       [ 94, 169],\n",
       "       [ 95, 107],\n",
       "       [ 96,  83],\n",
       "       [ 97, 257],\n",
       "       [ 98, 164],\n",
       "       [ 99, 183],\n",
       "       [100, 151],\n",
       "       [101,  62],\n",
       "       [102, 292],\n",
       "       [103, 244],\n",
       "       [104, 191],\n",
       "       [105, 274],\n",
       "       [106,  61],\n",
       "       [107,  95],\n",
       "       [108, 117],\n",
       "       [109,  31],\n",
       "       [110,   4],\n",
       "       [111, 112],\n",
       "       [112, 111],\n",
       "       [113, 209],\n",
       "       [114,  82],\n",
       "       [115, 230],\n",
       "       [116,  15],\n",
       "       [117, 108],\n",
       "       [118,  29],\n",
       "       [119, 281],\n",
       "       [120, 190],\n",
       "       [121,  87],\n",
       "       [122, 142],\n",
       "       [123,  80],\n",
       "       [124,  14],\n",
       "       [125, 119],\n",
       "       [126, 200],\n",
       "       [127, 257],\n",
       "       [128, 161],\n",
       "       [129, 179],\n",
       "       [130,  71],\n",
       "       [131,  52],\n",
       "       [132, 192],\n",
       "       [133, 131],\n",
       "       [134, 213],\n",
       "       [135, 178],\n",
       "       [136, 268],\n",
       "       [137, 255],\n",
       "       [138, 272],\n",
       "       [139, 256],\n",
       "       [140, 295],\n",
       "       [141,  51],\n",
       "       [142,  44],\n",
       "       [143, 290],\n",
       "       [144,  22],\n",
       "       [145,  91],\n",
       "       [146, 204],\n",
       "       [147,  38],\n",
       "       [148, 286],\n",
       "       [149,  11],\n",
       "       [150, 186],\n",
       "       [151, 100],\n",
       "       [152, 259],\n",
       "       [153, 248],\n",
       "       [154,  50],\n",
       "       [155, 163],\n",
       "       [156,  85],\n",
       "       [157,  81],\n",
       "       [158, 238],\n",
       "       [159,  62],\n",
       "       [160,  50],\n",
       "       [161, 128],\n",
       "       [162,  33],\n",
       "       [163, 155],\n",
       "       [164,  98],\n",
       "       [165,   2],\n",
       "       [166, 186],\n",
       "       [167,  56],\n",
       "       [168, 150],\n",
       "       [169,  94],\n",
       "       [170, 279],\n",
       "       [171, 219],\n",
       "       [172, 196],\n",
       "       [173,  16],\n",
       "       [174, 185],\n",
       "       [175,  93],\n",
       "       [176, 277],\n",
       "       [177,  24],\n",
       "       [178, 135],\n",
       "       [179, 129],\n",
       "       [180,  80],\n",
       "       [181, 131],\n",
       "       [182, 259],\n",
       "       [183,  99],\n",
       "       [184,  30],\n",
       "       [185, 270],\n",
       "       [186, 166],\n",
       "       [187,  37],\n",
       "       [188,   0],\n",
       "       [189, 267],\n",
       "       [190, 120],\n",
       "       [191, 212],\n",
       "       [192, 287],\n",
       "       [193, 275],\n",
       "       [194, 269],\n",
       "       [195, 231],\n",
       "       [196,   0],\n",
       "       [197, 188],\n",
       "       [198,  76],\n",
       "       [199,  49],\n",
       "       [200,  23],\n",
       "       [201,  14],\n",
       "       [202,  60],\n",
       "       [203,  28],\n",
       "       [204, 146],\n",
       "       [205,  71],\n",
       "       [206, 106],\n",
       "       [207,   7],\n",
       "       [208, 291],\n",
       "       [209, 113],\n",
       "       [210, 249],\n",
       "       [211,  70],\n",
       "       [212, 191],\n",
       "       [213, 134],\n",
       "       [214, 264],\n",
       "       [215, 265],\n",
       "       [216, 228],\n",
       "       [217,  72],\n",
       "       [218, 236],\n",
       "       [219, 171],\n",
       "       [220, 156],\n",
       "       [221, 128],\n",
       "       [222, 235],\n",
       "       [223,  91],\n",
       "       [224,  75],\n",
       "       [225, 233],\n",
       "       [226, 258],\n",
       "       [227, 126],\n",
       "       [228, 149],\n",
       "       [229,   0],\n",
       "       [230,  87],\n",
       "       [231,  86],\n",
       "       [232,  23],\n",
       "       [233, 225],\n",
       "       [234, 221],\n",
       "       [235, 222],\n",
       "       [236, 218],\n",
       "       [237, 285],\n",
       "       [238, 158],\n",
       "       [239, 281],\n",
       "       [240, 260],\n",
       "       [241,  70],\n",
       "       [242, 244],\n",
       "       [243, 273],\n",
       "       [244, 103],\n",
       "       [245,  20],\n",
       "       [246,  85],\n",
       "       [247, 278],\n",
       "       [248, 153],\n",
       "       [249, 210],\n",
       "       [250, 129],\n",
       "       [251,  20],\n",
       "       [252,  65],\n",
       "       [253,  67],\n",
       "       [254, 197],\n",
       "       [255,  53],\n",
       "       [256, 176],\n",
       "       [257, 127],\n",
       "       [258, 226],\n",
       "       [259, 208],\n",
       "       [260, 240],\n",
       "       [261, 201],\n",
       "       [262,  55],\n",
       "       [263,  54],\n",
       "       [264, 150],\n",
       "       [265,  41],\n",
       "       [266, 152],\n",
       "       [267, 189],\n",
       "       [268,  79],\n",
       "       [269, 194],\n",
       "       [270, 185],\n",
       "       [271,  17],\n",
       "       [272,  50],\n",
       "       [273, 243],\n",
       "       [274, 277],\n",
       "       [275, 107],\n",
       "       [276, 209],\n",
       "       [277, 176],\n",
       "       [278,  15],\n",
       "       [279, 170],\n",
       "       [280, 258],\n",
       "       [281, 239],\n",
       "       [282, 297],\n",
       "       [283, 119],\n",
       "       [284,  46],\n",
       "       [285, 204],\n",
       "       [286, 148],\n",
       "       [287, 192],\n",
       "       [288, 137],\n",
       "       [289, 253],\n",
       "       [290, 143],\n",
       "       [291, 208],\n",
       "       [292,  57],\n",
       "       [293,  88],\n",
       "       [294,  73],\n",
       "       [295, 173],\n",
       "       [296, 286],\n",
       "       [297,  69],\n",
       "       [298, 240],\n",
       "       [299, 146]], dtype=int64)"
      ]
     },
     "execution_count": 38,
     "metadata": {},
     "output_type": "execute_result"
    }
   ],
   "source": [
    "index"
   ]
  },
  {
   "cell_type": "code",
   "execution_count": 40,
   "id": "b3701160",
   "metadata": {},
   "outputs": [
    {
     "data": {
      "text/plain": [
       "0.02"
      ]
     },
     "execution_count": 40,
     "metadata": {},
     "output_type": "execute_result"
    }
   ],
   "source": [
    "np.mean(dist).round(2)"
   ]
  },
  {
   "cell_type": "code",
   "execution_count": 42,
   "id": "3fa10144",
   "metadata": {},
   "outputs": [
    {
     "data": {
      "text/plain": [
       "array([-1,  0,  1,  2,  3,  4,  5,  6,  7,  8,  9, 10, 11, 12, 13, 14],\n",
       "      dtype=int64)"
      ]
     },
     "execution_count": 42,
     "metadata": {},
     "output_type": "execute_result"
    }
   ],
   "source": [
    "from sklearn.cluster import DBSCAN\n",
    "\n",
    "dbscan = DBSCAN(eps = 0.05).fit(X)\n",
    "np.unique(dbscan.labels_)"
   ]
  },
  {
   "cell_type": "markdown",
   "id": "a2dbd235",
   "metadata": {},
   "source": [
    "---"
   ]
  },
  {
   "cell_type": "code",
   "execution_count": 1,
   "id": "387ad5b9",
   "metadata": {},
   "outputs": [],
   "source": [
    "# Agglomerative Clustering\n",
    "import numpy as np\n",
    "import pandas as pd\n",
    "import matplotlib.pyplot as plt\n",
    "import seaborn as sns"
   ]
  },
  {
   "cell_type": "code",
   "execution_count": 2,
   "id": "0af4d4de",
   "metadata": {},
   "outputs": [],
   "source": [
    "dados = {\n",
    "    'valores': [[1.0, 1.0],\n",
    "                [1.5, 1.5],\n",
    "                [5.0, 5.0],\n",
    "                [3.0, 4.0],\n",
    "                [4.0, 4.0],\n",
    "                [3.0, 3.5]\n",
    "               ],\n",
    "    'indices':[\n",
    "        'A',\n",
    "        'B',\n",
    "        'C',\n",
    "        'D',\n",
    "        'E',\n",
    "        'F'\n",
    "    ],\n",
    "    'colunas':[\n",
    "        'x1',\n",
    "        'x2'\n",
    "    ]\n",
    "}"
   ]
  },
  {
   "cell_type": "code",
   "execution_count": 3,
   "id": "b770e62a",
   "metadata": {},
   "outputs": [],
   "source": [
    "df = pd.DataFrame(data = dados['valores'], columns = dados['colunas'], index = dados['indices'])"
   ]
  },
  {
   "cell_type": "code",
   "execution_count": 4,
   "id": "c577fee7",
   "metadata": {},
   "outputs": [
    {
     "data": {
      "text/html": [
       "<div>\n",
       "<style scoped>\n",
       "    .dataframe tbody tr th:only-of-type {\n",
       "        vertical-align: middle;\n",
       "    }\n",
       "\n",
       "    .dataframe tbody tr th {\n",
       "        vertical-align: top;\n",
       "    }\n",
       "\n",
       "    .dataframe thead th {\n",
       "        text-align: right;\n",
       "    }\n",
       "</style>\n",
       "<table border=\"1\" class=\"dataframe\">\n",
       "  <thead>\n",
       "    <tr style=\"text-align: right;\">\n",
       "      <th></th>\n",
       "      <th>x1</th>\n",
       "      <th>x2</th>\n",
       "    </tr>\n",
       "  </thead>\n",
       "  <tbody>\n",
       "    <tr>\n",
       "      <th>A</th>\n",
       "      <td>1.0</td>\n",
       "      <td>1.0</td>\n",
       "    </tr>\n",
       "    <tr>\n",
       "      <th>B</th>\n",
       "      <td>1.5</td>\n",
       "      <td>1.5</td>\n",
       "    </tr>\n",
       "    <tr>\n",
       "      <th>C</th>\n",
       "      <td>5.0</td>\n",
       "      <td>5.0</td>\n",
       "    </tr>\n",
       "    <tr>\n",
       "      <th>D</th>\n",
       "      <td>3.0</td>\n",
       "      <td>4.0</td>\n",
       "    </tr>\n",
       "    <tr>\n",
       "      <th>E</th>\n",
       "      <td>4.0</td>\n",
       "      <td>4.0</td>\n",
       "    </tr>\n",
       "    <tr>\n",
       "      <th>F</th>\n",
       "      <td>3.0</td>\n",
       "      <td>3.5</td>\n",
       "    </tr>\n",
       "  </tbody>\n",
       "</table>\n",
       "</div>"
      ],
      "text/plain": [
       "    x1   x2\n",
       "A  1.0  1.0\n",
       "B  1.5  1.5\n",
       "C  5.0  5.0\n",
       "D  3.0  4.0\n",
       "E  4.0  4.0\n",
       "F  3.0  3.5"
      ]
     },
     "execution_count": 4,
     "metadata": {},
     "output_type": "execute_result"
    }
   ],
   "source": [
    "df"
   ]
  },
  {
   "cell_type": "code",
   "execution_count": 5,
   "id": "c7c3fdb6",
   "metadata": {},
   "outputs": [],
   "source": [
    "from sklearn.metrics.pairwise import euclidean_distances\n",
    "\n",
    "matrix_dist = euclidean_distances(df, df)"
   ]
  },
  {
   "cell_type": "code",
   "execution_count": 6,
   "id": "2cff02d6",
   "metadata": {},
   "outputs": [
    {
     "name": "stdout",
     "output_type": "stream",
     "text": [
      "[[0.         0.70710678 5.65685425 3.60555128 4.24264069 3.20156212]\n",
      " [0.70710678 0.         4.94974747 2.91547595 3.53553391 2.5       ]\n",
      " [5.65685425 4.94974747 0.         2.23606798 1.41421356 2.5       ]\n",
      " [3.60555128 2.91547595 2.23606798 0.         1.         0.5       ]\n",
      " [4.24264069 3.53553391 1.41421356 1.         0.         1.11803399]\n",
      " [3.20156212 2.5        2.5        0.5        1.11803399 0.        ]]\n"
     ]
    }
   ],
   "source": [
    "print(matrix_dist)"
   ]
  },
  {
   "cell_type": "code",
   "execution_count": 7,
   "id": "5f6f3785",
   "metadata": {},
   "outputs": [
    {
     "data": {
      "text/plain": [
       "array([[1. , 1. ],\n",
       "       [1.5, 1.5],\n",
       "       [5. , 5. ],\n",
       "       [3. , 4. ],\n",
       "       [4. , 4. ],\n",
       "       [3. , 3.5]])"
      ]
     },
     "execution_count": 7,
     "metadata": {},
     "output_type": "execute_result"
    }
   ],
   "source": [
    "X = df.values\n",
    "X"
   ]
  },
  {
   "cell_type": "code",
   "execution_count": 8,
   "id": "5575f185",
   "metadata": {},
   "outputs": [],
   "source": [
    "labels = ['A', 'B', 'C', 'D', 'E', 'F']"
   ]
  },
  {
   "cell_type": "code",
   "execution_count": 9,
   "id": "3f6e2693",
   "metadata": {},
   "outputs": [
    {
     "data": {
      "image/png": "[encoded data removed]",
      "text/plain": [
       "<Figure size 720x504 with 1 Axes>"
      ]
     },
     "metadata": {
      "needs_background": "light"
     },
     "output_type": "display_data"
    }
   ],
   "source": [
    "plt.figure(figsize=(10, 7))\n",
    "# plt.subplots_adjust(bottom=0.1)\n",
    "\n",
    "plt.scatter(X[:,0], X[:,1], label='True Postion')\n",
    "\n",
    "for label, x, y in zip(labels, X[:,0], X[:,1]):\n",
    "    plt.annotate(\n",
    "        label,\n",
    "        xy=(x, y), xytext=(-3, 3),\n",
    "        textcoords='offset points', ha='right', va='bottom'\n",
    "    )\n",
    "plt.show()"
   ]
  },
  {
   "cell_type": "code",
   "execution_count": 10,
   "id": "19f18509",
   "metadata": {},
   "outputs": [],
   "source": [
    "from scipy.cluster.hierarchy import dendrogram, linkage\n",
    "\n",
    "linked = linkage(X)"
   ]
  },
  {
   "cell_type": "code",
   "execution_count": 11,
   "id": "5324b22f",
   "metadata": {},
   "outputs": [
    {
     "data": {
      "text/plain": [
       "array([[3.        , 5.        , 0.5       , 2.        ],\n",
       "       [0.        , 1.        , 0.70710678, 2.        ],\n",
       "       [4.        , 6.        , 1.        , 3.        ],\n",
       "       [2.        , 8.        , 1.41421356, 4.        ],\n",
       "       [7.        , 9.        , 2.5       , 6.        ]])"
      ]
     },
     "execution_count": 11,
     "metadata": {},
     "output_type": "execute_result"
    }
   ],
   "source": [
    "linked"
   ]
  },
  {
   "cell_type": "code",
   "execution_count": 12,
   "id": "16c8494f",
   "metadata": {},
   "outputs": [
    {
     "data": {
      "image/png": "[encoded data removed]",
      "text/plain": [
       "<Figure size 720x504 with 1 Axes>"
      ]
     },
     "metadata": {
      "needs_background": "light"
     },
     "output_type": "display_data"
    }
   ],
   "source": [
    "plt.figure(figsize=(10, 7))\n",
    "\n",
    "dendrogram(\n",
    "    linked,\n",
    "    orientation='top',\n",
    "    labels=labels,\n",
    "    show_leaf_counts=True\n",
    ")\n",
    "\n",
    "plt.show()"
   ]
  },
  {
   "cell_type": "markdown",
   "id": "6cb36680",
   "metadata": {},
   "source": [
    "### Mais complexo"
   ]
  },
  {
   "cell_type": "code",
   "execution_count": 13,
   "id": "69765318",
   "metadata": {},
   "outputs": [
    {
     "data": {
      "text/plain": [
       "<matplotlib.collections.PathCollection at 0x29d37ea1d90>"
      ]
     },
     "execution_count": 13,
     "metadata": {},
     "output_type": "execute_result"
    },
    {
     "data": {
      "image/png": "[encoded data removed]",
      "text/plain": [
       "<Figure size 720x504 with 1 Axes>"
      ]
     },
     "metadata": {
      "needs_background": "light"
     },
     "output_type": "display_data"
    }
   ],
   "source": [
    "# Criando dataset\n",
    "from sklearn.datasets import make_blobs\n",
    "\n",
    "X, _ = make_blobs(n_samples=250, random_state=8, centers=4,\n",
    "                 center_box=[0, 100], cluster_std=10)\n",
    "\n",
    "plt.figure(figsize=(10, 7))\n",
    "\n",
    "plt.scatter(X[:,0], X[:,1])\n"
   ]
  },
  {
   "cell_type": "code",
   "execution_count": 14,
   "id": "d48adcca",
   "metadata": {},
   "outputs": [
    {
     "data": {
      "text/plain": [
       "AgglomerativeClustering(n_clusters=4)"
      ]
     },
     "execution_count": 14,
     "metadata": {},
     "output_type": "execute_result"
    }
   ],
   "source": [
    "from sklearn.cluster import AgglomerativeClustering\n",
    "\n",
    "estimador = AgglomerativeClustering(n_clusters=4, linkage='ward')\n",
    "estimador.fit(X)"
   ]
  },
  {
   "cell_type": "code",
   "execution_count": 15,
   "id": "625cfab7",
   "metadata": {},
   "outputs": [
    {
     "data": {
      "text/plain": [
       "array([0, 0, 3, 0, 1, 0, 0, 3, 3, 2, 0, 0, 0, 1, 0, 2, 0, 3, 1, 1, 2, 2,\n",
       "       2, 0, 1, 1, 0, 0, 2, 3, 0, 0, 1, 2, 1, 3, 0, 2, 3, 0, 3, 1, 1, 2,\n",
       "       1, 2, 1, 1, 3, 0, 1, 2, 0, 1, 1, 2, 0, 0, 2, 3, 0, 0, 1, 0, 2, 0,\n",
       "       1, 0, 1, 2, 0, 3, 0, 2, 0, 2, 2, 1, 0, 2, 0, 0, 1, 1, 1, 0, 2, 1,\n",
       "       0, 2, 0, 2, 2, 1, 2, 1, 1, 3, 3, 1, 3, 2, 1, 1, 0, 3, 0, 1, 1, 1,\n",
       "       2, 1, 0, 3, 3, 0, 1, 0, 2, 2, 3, 1, 2, 3, 3, 1, 2, 2, 1, 2, 3, 1,\n",
       "       3, 3, 3, 3, 1, 2, 1, 2, 0, 2, 1, 1, 1, 3, 1, 0, 0, 2, 3, 1, 0, 1,\n",
       "       3, 0, 2, 2, 1, 0, 1, 3, 0, 0, 1, 3, 2, 2, 3, 0, 2, 3, 3, 3, 1, 3,\n",
       "       2, 0, 1, 3, 1, 2, 0, 0, 1, 3, 1, 1, 1, 2, 0, 1, 0, 1, 1, 2, 1, 2,\n",
       "       2, 2, 3, 3, 1, 2, 0, 3, 1, 2, 0, 3, 0, 1, 0, 2, 1, 3, 3, 1, 0, 0,\n",
       "       3, 2, 2, 1, 3, 3, 0, 0, 3, 0, 3, 2, 3, 3, 2, 0, 2, 3, 3, 0, 3, 0,\n",
       "       0, 2, 1, 3, 0, 1, 2, 2], dtype=int64)"
      ]
     },
     "execution_count": 15,
     "metadata": {},
     "output_type": "execute_result"
    }
   ],
   "source": [
    "labels = estimador.labels_\n",
    "labels"
   ]
  },
  {
   "cell_type": "code",
   "execution_count": 16,
   "id": "f7713867",
   "metadata": {},
   "outputs": [
    {
     "data": {
      "image/png": "[encoded data removed]",
      "text/plain": [
       "<Figure size 720x504 with 1 Axes>"
      ]
     },
     "metadata": {
      "needs_background": "light"
     },
     "output_type": "display_data"
    }
   ],
   "source": [
    "plt.figure(figsize=(10, 7))\n",
    "_ = plt.scatter(X[:,0], X[:,1], c=labels, cmap='rainbow')"
   ]
  },
  {
   "cell_type": "code",
   "execution_count": 20,
   "id": "1f1107d3",
   "metadata": {},
   "outputs": [
    {
     "name": "stdout",
     "output_type": "stream",
     "text": [
      "For n_clusters = 2 The average silhouette_score is : 0.49\n",
      "For n_clusters = 3 The average silhouette_score is : 0.51\n",
      "For n_clusters = 4 The average silhouette_score is : 0.55\n",
      "For n_clusters = 5 The average silhouette_score is : 0.47\n",
      "For n_clusters = 6 The average silhouette_score is : 0.4\n"
     ]
    }
   ],
   "source": [
    "from sklearn.metrics import silhouette_score\n",
    "\n",
    "range_n_clusters = [2, 3, 4, 5, 6]\n",
    "\n",
    "for n_clusters in range_n_clusters:\n",
    "    # Initialize the clusterer with n_clusters value and a random generator\n",
    "    # seed of 10 for reproducibility.\n",
    "    clusterer = AgglomerativeClustering(n_clusters=n_clusters, linkage='ward')\n",
    "    cluster_labels = clusterer.fit_predict(X)\n",
    "\n",
    "    # The silhouette_score gives the average value for all the samples.\n",
    "    # This gives a perspective into the density and separation of the formed\n",
    "    # clusters\n",
    "    silhouette_avg = silhouette_score(X, cluster_labels)\n",
    "    print(\n",
    "        \"For n_clusters =\",\n",
    "        n_clusters,\n",
    "        \"The average silhouette_score is :\",\n",
    "        round(silhouette_avg,2)\n",
    "    )\n"
   ]
  },
  {
   "cell_type": "markdown",
   "id": "91e7ccce",
   "metadata": {},
   "source": [
    "---"
   ]
  },
  {
   "cell_type": "code",
   "execution_count": 1,
   "id": "395ff477",
   "metadata": {},
   "outputs": [],
   "source": [
    "import numpy as np\n",
    "import pandas as pd"
   ]
  },
  {
   "cell_type": "code",
   "execution_count": 39,
   "id": "7b652fe8",
   "metadata": {},
   "outputs": [],
   "source": [
    "data0 = [[1,2,3,4,5,6],\n",
    "         [10,20,30,40,50,60],\n",
    "         [100, 127, 128, 129,500,600],\n",
    "         [1000,2000,3000,4000,5000,6000]]\n",
    "data1 = [1]\n",
    "data2 = [1,2]\n",
    "data3 = [[1,2],\n",
    "        [3,4]]\n",
    "data4 = [[1],\n",
    "        [3]]"
   ]
  },
  {
   "cell_type": "code",
   "execution_count": 40,
   "id": "c87a57a5",
   "metadata": {},
   "outputs": [
    {
     "data": {
      "text/html": [
       "<div>\n",
       "<style scoped>\n",
       "    .dataframe tbody tr th:only-of-type {\n",
       "        vertical-align: middle;\n",
       "    }\n",
       "\n",
       "    .dataframe tbody tr th {\n",
       "        vertical-align: top;\n",
       "    }\n",
       "\n",
       "    .dataframe thead th {\n",
       "        text-align: right;\n",
       "    }\n",
       "</style>\n",
       "<table border=\"1\" class=\"dataframe\">\n",
       "  <thead>\n",
       "    <tr style=\"text-align: right;\">\n",
       "      <th></th>\n",
       "      <th>0</th>\n",
       "      <th>1</th>\n",
       "      <th>2</th>\n",
       "      <th>3</th>\n",
       "      <th>4</th>\n",
       "      <th>5</th>\n",
       "    </tr>\n",
       "  </thead>\n",
       "  <tbody>\n",
       "    <tr>\n",
       "      <th>0</th>\n",
       "      <td>1</td>\n",
       "      <td>2</td>\n",
       "      <td>3</td>\n",
       "      <td>4</td>\n",
       "      <td>5</td>\n",
       "      <td>6</td>\n",
       "    </tr>\n",
       "    <tr>\n",
       "      <th>1</th>\n",
       "      <td>10</td>\n",
       "      <td>20</td>\n",
       "      <td>30</td>\n",
       "      <td>40</td>\n",
       "      <td>50</td>\n",
       "      <td>60</td>\n",
       "    </tr>\n",
       "    <tr>\n",
       "      <th>2</th>\n",
       "      <td>100</td>\n",
       "      <td>127</td>\n",
       "      <td>128</td>\n",
       "      <td>129</td>\n",
       "      <td>500</td>\n",
       "      <td>600</td>\n",
       "    </tr>\n",
       "    <tr>\n",
       "      <th>3</th>\n",
       "      <td>1000</td>\n",
       "      <td>2000</td>\n",
       "      <td>3000</td>\n",
       "      <td>4000</td>\n",
       "      <td>5000</td>\n",
       "      <td>6000</td>\n",
       "    </tr>\n",
       "  </tbody>\n",
       "</table>\n",
       "</div>"
      ],
      "text/plain": [
       "      0     1     2     3     4     5\n",
       "0     1     2     3     4     5     6\n",
       "1    10    20    30    40    50    60\n",
       "2   100   127   128   129   500   600\n",
       "3  1000  2000  3000  4000  5000  6000"
      ]
     },
     "execution_count": 40,
     "metadata": {},
     "output_type": "execute_result"
    }
   ],
   "source": [
    "# dtypes em numpy para redução de uso de memória\n",
    "dataset = pd.DataFrame(data0)\n",
    "dataset"
   ]
  },
  {
   "cell_type": "code",
   "execution_count": 41,
   "id": "ea7b5113",
   "metadata": {},
   "outputs": [
    {
     "ename": "KeyError",
     "evalue": "'A'",
     "output_type": "error",
     "traceback": [
      "\u001b[1;31m---------------------------------------------------------------------------\u001b[0m",
      "\u001b[1;31mKeyError\u001b[0m                                  Traceback (most recent call last)",
      "\u001b[1;32m<ipython-input-41-79dbf248a9d4>\u001b[0m in \u001b[0;36m<module>\u001b[1;34m\u001b[0m\n\u001b[1;32m----> 1\u001b[1;33m \u001b[0mdataset\u001b[0m\u001b[1;33m[\u001b[0m\u001b[1;34m\"A\"\u001b[0m\u001b[1;33m]\u001b[0m\u001b[1;33m.\u001b[0m\u001b[0mdtype\u001b[0m\u001b[1;33m(\u001b[0m\u001b[1;33m)\u001b[0m\u001b[1;33m\u001b[0m\u001b[1;33m\u001b[0m\u001b[0m\n\u001b[0m",
      "\u001b[1;32m~\\Anaconda3\\lib\\site-packages\\pandas\\core\\frame.py\u001b[0m in \u001b[0;36m__getitem__\u001b[1;34m(self, key)\u001b[0m\n\u001b[0;32m   3022\u001b[0m             \u001b[1;32mif\u001b[0m \u001b[0mself\u001b[0m\u001b[1;33m.\u001b[0m\u001b[0mcolumns\u001b[0m\u001b[1;33m.\u001b[0m\u001b[0mnlevels\u001b[0m \u001b[1;33m>\u001b[0m \u001b[1;36m1\u001b[0m\u001b[1;33m:\u001b[0m\u001b[1;33m\u001b[0m\u001b[1;33m\u001b[0m\u001b[0m\n\u001b[0;32m   3023\u001b[0m                 \u001b[1;32mreturn\u001b[0m \u001b[0mself\u001b[0m\u001b[1;33m.\u001b[0m\u001b[0m_getitem_multilevel\u001b[0m\u001b[1;33m(\u001b[0m\u001b[0mkey\u001b[0m\u001b[1;33m)\u001b[0m\u001b[1;33m\u001b[0m\u001b[1;33m\u001b[0m\u001b[0m\n\u001b[1;32m-> 3024\u001b[1;33m             \u001b[0mindexer\u001b[0m \u001b[1;33m=\u001b[0m \u001b[0mself\u001b[0m\u001b[1;33m.\u001b[0m\u001b[0mcolumns\u001b[0m\u001b[1;33m.\u001b[0m\u001b[0mget_loc\u001b[0m\u001b[1;33m(\u001b[0m\u001b[0mkey\u001b[0m\u001b[1;33m)\u001b[0m\u001b[1;33m\u001b[0m\u001b[1;33m\u001b[0m\u001b[0m\n\u001b[0m\u001b[0;32m   3025\u001b[0m             \u001b[1;32mif\u001b[0m \u001b[0mis_integer\u001b[0m\u001b[1;33m(\u001b[0m\u001b[0mindexer\u001b[0m\u001b[1;33m)\u001b[0m\u001b[1;33m:\u001b[0m\u001b[1;33m\u001b[0m\u001b[1;33m\u001b[0m\u001b[0m\n\u001b[0;32m   3026\u001b[0m                 \u001b[0mindexer\u001b[0m \u001b[1;33m=\u001b[0m \u001b[1;33m[\u001b[0m\u001b[0mindexer\u001b[0m\u001b[1;33m]\u001b[0m\u001b[1;33m\u001b[0m\u001b[1;33m\u001b[0m\u001b[0m\n",
      "\u001b[1;32m~\\Anaconda3\\lib\\site-packages\\pandas\\core\\indexes\\range.py\u001b[0m in \u001b[0;36mget_loc\u001b[1;34m(self, key, method, tolerance)\u001b[0m\n\u001b[0;32m    352\u001b[0m                 \u001b[1;32mexcept\u001b[0m \u001b[0mValueError\u001b[0m \u001b[1;32mas\u001b[0m \u001b[0merr\u001b[0m\u001b[1;33m:\u001b[0m\u001b[1;33m\u001b[0m\u001b[1;33m\u001b[0m\u001b[0m\n\u001b[0;32m    353\u001b[0m                     \u001b[1;32mraise\u001b[0m \u001b[0mKeyError\u001b[0m\u001b[1;33m(\u001b[0m\u001b[0mkey\u001b[0m\u001b[1;33m)\u001b[0m \u001b[1;32mfrom\u001b[0m \u001b[0merr\u001b[0m\u001b[1;33m\u001b[0m\u001b[1;33m\u001b[0m\u001b[0m\n\u001b[1;32m--> 354\u001b[1;33m             \u001b[1;32mraise\u001b[0m \u001b[0mKeyError\u001b[0m\u001b[1;33m(\u001b[0m\u001b[0mkey\u001b[0m\u001b[1;33m)\u001b[0m\u001b[1;33m\u001b[0m\u001b[1;33m\u001b[0m\u001b[0m\n\u001b[0m\u001b[0;32m    355\u001b[0m         \u001b[1;32mreturn\u001b[0m \u001b[0msuper\u001b[0m\u001b[1;33m(\u001b[0m\u001b[1;33m)\u001b[0m\u001b[1;33m.\u001b[0m\u001b[0mget_loc\u001b[0m\u001b[1;33m(\u001b[0m\u001b[0mkey\u001b[0m\u001b[1;33m,\u001b[0m \u001b[0mmethod\u001b[0m\u001b[1;33m=\u001b[0m\u001b[0mmethod\u001b[0m\u001b[1;33m,\u001b[0m \u001b[0mtolerance\u001b[0m\u001b[1;33m=\u001b[0m\u001b[0mtolerance\u001b[0m\u001b[1;33m)\u001b[0m\u001b[1;33m\u001b[0m\u001b[1;33m\u001b[0m\u001b[0m\n\u001b[0;32m    356\u001b[0m \u001b[1;33m\u001b[0m\u001b[0m\n",
      "\u001b[1;31mKeyError\u001b[0m: 'A'"
     ]
    }
   ],
   "source": [
    "dataset[\"A\"].dtype()"
   ]
  },
  {
   "cell_type": "code",
   "execution_count": 42,
   "id": "53a6ab12",
   "metadata": {},
   "outputs": [
    {
     "data": {
      "text/plain": [
       "320"
      ]
     },
     "execution_count": 42,
     "metadata": {},
     "output_type": "execute_result"
    }
   ],
   "source": [
    "mem1 = dataset.memory_usage().sum()\n",
    "mem1"
   ]
  },
  {
   "cell_type": "code",
   "execution_count": 44,
   "id": "57e26c8a",
   "metadata": {},
   "outputs": [],
   "source": [
    "for i in range(0,5):\n",
    "    dataset[i] = dataset[i].astype(np.int8)\n",
    "#for i in [\"C\",\"D\"]:\n",
    "#    dataset[i] = dataset[i].astype(np.int16)"
   ]
  },
  {
   "cell_type": "code",
   "execution_count": 45,
   "id": "d338ab57",
   "metadata": {},
   "outputs": [
    {
     "data": {
      "text/plain": [
       "180"
      ]
     },
     "execution_count": 45,
     "metadata": {},
     "output_type": "execute_result"
    }
   ],
   "source": [
    "mem2 = dataset.memory_usage().sum()\n",
    "mem2"
   ]
  },
  {
   "cell_type": "code",
   "execution_count": 46,
   "id": "8d0205b9",
   "metadata": {},
   "outputs": [
    {
     "data": {
      "text/html": [
       "<div>\n",
       "<style scoped>\n",
       "    .dataframe tbody tr th:only-of-type {\n",
       "        vertical-align: middle;\n",
       "    }\n",
       "\n",
       "    .dataframe tbody tr th {\n",
       "        vertical-align: top;\n",
       "    }\n",
       "\n",
       "    .dataframe thead th {\n",
       "        text-align: right;\n",
       "    }\n",
       "</style>\n",
       "<table border=\"1\" class=\"dataframe\">\n",
       "  <thead>\n",
       "    <tr style=\"text-align: right;\">\n",
       "      <th></th>\n",
       "      <th>0</th>\n",
       "      <th>1</th>\n",
       "      <th>2</th>\n",
       "      <th>3</th>\n",
       "      <th>4</th>\n",
       "      <th>5</th>\n",
       "    </tr>\n",
       "  </thead>\n",
       "  <tbody>\n",
       "    <tr>\n",
       "      <th>0</th>\n",
       "      <td>1</td>\n",
       "      <td>2</td>\n",
       "      <td>3</td>\n",
       "      <td>4</td>\n",
       "      <td>5</td>\n",
       "      <td>6</td>\n",
       "    </tr>\n",
       "    <tr>\n",
       "      <th>1</th>\n",
       "      <td>10</td>\n",
       "      <td>20</td>\n",
       "      <td>30</td>\n",
       "      <td>40</td>\n",
       "      <td>50</td>\n",
       "      <td>60</td>\n",
       "    </tr>\n",
       "    <tr>\n",
       "      <th>2</th>\n",
       "      <td>100</td>\n",
       "      <td>127</td>\n",
       "      <td>-128</td>\n",
       "      <td>-127</td>\n",
       "      <td>-12</td>\n",
       "      <td>600</td>\n",
       "    </tr>\n",
       "    <tr>\n",
       "      <th>3</th>\n",
       "      <td>-24</td>\n",
       "      <td>-48</td>\n",
       "      <td>-72</td>\n",
       "      <td>-96</td>\n",
       "      <td>-120</td>\n",
       "      <td>6000</td>\n",
       "    </tr>\n",
       "  </tbody>\n",
       "</table>\n",
       "</div>"
      ],
      "text/plain": [
       "     0    1    2    3    4     5\n",
       "0    1    2    3    4    5     6\n",
       "1   10   20   30   40   50    60\n",
       "2  100  127 -128 -127  -12   600\n",
       "3  -24  -48  -72  -96 -120  6000"
      ]
     },
     "execution_count": 46,
     "metadata": {},
     "output_type": "execute_result"
    }
   ],
   "source": [
    "dataset"
   ]
  },
  {
   "cell_type": "code",
   "execution_count": 47,
   "id": "7ed3ce06",
   "metadata": {},
   "outputs": [
    {
     "name": "stdout",
     "output_type": "stream",
     "text": [
      "Redução de consumo de memória de 56.25 %\n"
     ]
    }
   ],
   "source": [
    "mem = mem2/mem1\n",
    "print(f\"Redução de consumo de memória de {mem*100:.2f} %\")"
   ]
  },
  {
   "cell_type": "markdown",
   "id": "c8ebaf9c",
   "metadata": {},
   "source": [
    "----"
   ]
  },
  {
   "cell_type": "code",
   "execution_count": 1,
   "id": "57d55984",
   "metadata": {},
   "outputs": [],
   "source": [
    "import pandas as pd\n",
    "import json"
   ]
  },
  {
   "cell_type": "code",
   "execution_count": 48,
   "id": "befb2e38",
   "metadata": {},
   "outputs": [],
   "source": [
    "x = '{\"name\": \"John\", \"age\": 30, \"married\": true, \"divorced\": false, \"children\": [[\"Ann\",\"Billy\"]], \"pets\": null, \"cars\": [[{\"model\": \"BMW 230\", \"mpg\": 27.5}, {\"model\": \"Ford Edge\", \"mpg\": 24.1}]]}'"
   ]
  },
  {
   "cell_type": "code",
   "execution_count": 49,
   "id": "b6b9a9e8",
   "metadata": {},
   "outputs": [],
   "source": [
    "y = json.loads(x)"
   ]
  },
  {
   "cell_type": "code",
   "execution_count": 50,
   "id": "f58ecb8d",
   "metadata": {},
   "outputs": [
    {
     "data": {
      "text/plain": [
       "{'name': 'John',\n",
       " 'age': 30,\n",
       " 'married': True,\n",
       " 'divorced': False,\n",
       " 'children': [['Ann', 'Billy']],\n",
       " 'pets': None,\n",
       " 'cars': [[{'model': 'BMW 230', 'mpg': 27.5},\n",
       "   {'model': 'Ford Edge', 'mpg': 24.1}]]}"
      ]
     },
     "execution_count": 50,
     "metadata": {},
     "output_type": "execute_result"
    }
   ],
   "source": [
    "y"
   ]
  },
  {
   "cell_type": "code",
   "execution_count": 46,
   "id": "781f60aa",
   "metadata": {},
   "outputs": [
    {
     "data": {
      "text/plain": [
       "dict"
      ]
     },
     "execution_count": 46,
     "metadata": {},
     "output_type": "execute_result"
    }
   ],
   "source": [
    "type(y)"
   ]
  },
  {
   "cell_type": "code",
   "execution_count": 51,
   "id": "6e2f7a2c",
   "metadata": {},
   "outputs": [
    {
     "data": {
      "text/html": [
       "<div>\n",
       "<style scoped>\n",
       "    .dataframe tbody tr th:only-of-type {\n",
       "        vertical-align: middle;\n",
       "    }\n",
       "\n",
       "    .dataframe tbody tr th {\n",
       "        vertical-align: top;\n",
       "    }\n",
       "\n",
       "    .dataframe thead th {\n",
       "        text-align: right;\n",
       "    }\n",
       "</style>\n",
       "<table border=\"1\" class=\"dataframe\">\n",
       "  <thead>\n",
       "    <tr style=\"text-align: right;\">\n",
       "      <th></th>\n",
       "      <th>name</th>\n",
       "      <th>age</th>\n",
       "      <th>married</th>\n",
       "      <th>divorced</th>\n",
       "      <th>children</th>\n",
       "      <th>pets</th>\n",
       "      <th>cars</th>\n",
       "    </tr>\n",
       "  </thead>\n",
       "  <tbody>\n",
       "    <tr>\n",
       "      <th>0</th>\n",
       "      <td>John</td>\n",
       "      <td>30</td>\n",
       "      <td>True</td>\n",
       "      <td>False</td>\n",
       "      <td>[Ann, Billy]</td>\n",
       "      <td>None</td>\n",
       "      <td>[{'model': 'BMW 230', 'mpg': 27.5}, {'model': ...</td>\n",
       "    </tr>\n",
       "  </tbody>\n",
       "</table>\n",
       "</div>"
      ],
      "text/plain": [
       "   name  age  married  divorced      children  pets  \\\n",
       "0  John   30     True     False  [Ann, Billy]  None   \n",
       "\n",
       "                                                cars  \n",
       "0  [{'model': 'BMW 230', 'mpg': 27.5}, {'model': ...  "
      ]
     },
     "execution_count": 51,
     "metadata": {},
     "output_type": "execute_result"
    }
   ],
   "source": [
    "y_df = pd.DataFrame(data = y)\n",
    "y_df"
   ]
  },
  {
   "cell_type": "code",
   "execution_count": 23,
   "id": "d8034754",
   "metadata": {},
   "outputs": [
    {
     "data": {
      "text/plain": [
       "array([['John', 30, True, False, 'Ann', None,\n",
       "        {'model': 'BMW 230', 'mpg': 27.5}],\n",
       "       ['John', 30, True, False, 'Billy', None,\n",
       "        {'model': 'Ford Edge', 'mpg': 24.1}]], dtype=object)"
      ]
     },
     "execution_count": 23,
     "metadata": {},
     "output_type": "execute_result"
    }
   ],
   "source": [
    "y_df.values"
   ]
  },
  {
   "cell_type": "markdown",
   "id": "5313728c",
   "metadata": {},
   "source": [
    "---"
   ]
  },
  {
   "cell_type": "code",
   "execution_count": 10,
   "id": "025c818e",
   "metadata": {},
   "outputs": [],
   "source": [
    "import pandas as pd\n",
    "import numpy as np"
   ]
  },
  {
   "cell_type": "code",
   "execution_count": 11,
   "id": "6639b478",
   "metadata": {},
   "outputs": [],
   "source": [
    "dicionario = {\n",
    "    'a':[1,2,3,4,5,6],\n",
    "    'b':['a','b','c','d','e','f'],\n",
    "    'c':[1.1,1.2,1.3,1.4,1.5,1.6]\n",
    "}"
   ]
  },
  {
   "cell_type": "code",
   "execution_count": 12,
   "id": "e2bc9363",
   "metadata": {},
   "outputs": [],
   "source": [
    "df = pd.DataFrame(dicionario)"
   ]
  },
  {
   "cell_type": "code",
   "execution_count": 13,
   "id": "4817ffce",
   "metadata": {},
   "outputs": [
    {
     "data": {
      "text/plain": [
       "a      int64\n",
       "b     object\n",
       "c    float64\n",
       "dtype: object"
      ]
     },
     "execution_count": 13,
     "metadata": {},
     "output_type": "execute_result"
    }
   ],
   "source": [
    "df.dtypes"
   ]
  },
  {
   "cell_type": "code",
   "execution_count": 14,
   "id": "c604db36",
   "metadata": {},
   "outputs": [
    {
     "data": {
      "text/plain": [
       "272"
      ]
     },
     "execution_count": 14,
     "metadata": {},
     "output_type": "execute_result"
    }
   ],
   "source": [
    "df.memory_usage().sum()"
   ]
  },
  {
   "cell_type": "code",
   "execution_count": 15,
   "id": "13fff676",
   "metadata": {},
   "outputs": [],
   "source": [
    "def reduce_mem_usage(df, verbose=True):\n",
    "    numerics = ['int16', 'int32', 'int64', 'float16', 'float32', 'float64']\n",
    "    start_mem = df.memory_usage().sum() / 1024**2\n",
    "    for col in df.columns:\n",
    "        col_type = df[col].dtypes\n",
    "        if col_type in numerics:\n",
    "            c_min = df[col].min()\n",
    "            c_max = df[col].max()\n",
    "            if str(col_type)[:3] == 'int':\n",
    "                if c_min > np.iinfo(np.int8).min and c_max < np.iinfo(np.int8).max:\n",
    "                    df[col] = df[col].astype(np.int8)\n",
    "                elif c_min > np.iinfo(np.int16).min and c_max < np.iinfo(np.int16).max:\n",
    "                    df[col] = df[col].astype(np.int16)\n",
    "                elif c_min > np.iinfo(np.int32).min and c_max < np.iinfo(np.int32).max:\n",
    "                    df[col] = df[col].astype(np.int32)\n",
    "                elif c_min > np.iinfo(np.int64).min and c_max < np.iinfo(np.int64).max: #Não sei se precisa disso\n",
    "                    df[col] = df[col].astype(np.int64)\n",
    "            else:\n",
    "                if c_min > np.finfo(np.float16).min and c_max < np.finfo(np.float16).max:\n",
    "                    df[col] = df[col].astype(np.float16)\n",
    "                elif c_min > np.finfo(np.float32).min and c_max < np.finfo(np.float32).max:\n",
    "                    df[col] = df[col].astype(np.float32)\n",
    "                else:\n",
    "                    df[col] = df[col].astype(np.float64)\n",
    "\n",
    "    end_mem = df.memory_usage().sum() / 1024**2\n",
    "    print('Memory usage after optimization is: {:.2f} MB'.format(end_mem))\n",
    "    print('Decreased by {:.1f}%'.format(100 * (start_mem - end_mem) / start_mem))\n",
    "\n",
    "    return df"
   ]
  },
  {
   "cell_type": "code",
   "execution_count": 16,
   "id": "27d1a412",
   "metadata": {},
   "outputs": [
    {
     "name": "stdout",
     "output_type": "stream",
     "text": [
      "Memory usage after optimization is: 0.00 MB\n",
      "Decreased by 28.7%\n"
     ]
    }
   ],
   "source": [
    "df = reduce_mem_usage(df)"
   ]
  },
  {
   "cell_type": "code",
   "execution_count": 17,
   "id": "5da08d76",
   "metadata": {},
   "outputs": [
    {
     "data": {
      "text/plain": [
       "194"
      ]
     },
     "execution_count": 17,
     "metadata": {},
     "output_type": "execute_result"
    }
   ],
   "source": [
    "df.memory_usage().sum()"
   ]
  },
  {
   "cell_type": "code",
   "execution_count": 19,
   "id": "49fa274d",
   "metadata": {},
   "outputs": [
    {
     "data": {
      "text/plain": [
       "0.2867647058823529"
      ]
     },
     "execution_count": 19,
     "metadata": {},
     "output_type": "execute_result"
    }
   ],
   "source": [
    "1- (194/272)"
   ]
  },
  {
   "cell_type": "code",
   "execution_count": 20,
   "id": "30e0f382",
   "metadata": {},
   "outputs": [
    {
     "data": {
      "text/plain": [
       "a       int8\n",
       "b     object\n",
       "c    float16\n",
       "dtype: object"
      ]
     },
     "execution_count": 20,
     "metadata": {},
     "output_type": "execute_result"
    }
   ],
   "source": [
    "df.dtypes"
   ]
  },
  {
   "cell_type": "markdown",
   "id": "dbcbfe9a",
   "metadata": {},
   "source": [
    "---"
   ]
  },
  {
   "cell_type": "code",
   "execution_count": 90,
   "id": "184ff542",
   "metadata": {},
   "outputs": [],
   "source": [
    "a = {'a'}\n",
    "d = pd.DataFrame(a)"
   ]
  },
  {
   "cell_type": "code",
   "execution_count": 91,
   "id": "7104efe9",
   "metadata": {},
   "outputs": [
    {
     "data": {
      "text/plain": [
       "Index    128\n",
       "0          8\n",
       "dtype: int64"
      ]
     },
     "execution_count": 91,
     "metadata": {},
     "output_type": "execute_result"
    }
   ],
   "source": [
    "d.memory_usage()"
   ]
  },
  {
   "cell_type": "code",
   "execution_count": 85,
   "id": "95fab5dc",
   "metadata": {},
   "outputs": [],
   "source": [
    "d['a'] = d['a'].astype(np.int8)\n",
    "d['b'] = d['b'].astype(np.int8)"
   ]
  },
  {
   "cell_type": "code",
   "execution_count": 86,
   "id": "b760a576",
   "metadata": {},
   "outputs": [
    {
     "data": {
      "text/plain": [
       "132"
      ]
     },
     "execution_count": 86,
     "metadata": {},
     "output_type": "execute_result"
    }
   ],
   "source": [
    "d.memory_usage().sum()"
   ]
  },
  {
   "cell_type": "markdown",
   "id": "1e7927d9",
   "metadata": {},
   "source": [
    "---\n"
   ]
  },
  {
   "cell_type": "code",
   "execution_count": 1,
   "id": "dcc8e582",
   "metadata": {},
   "outputs": [],
   "source": [
    "# Torre de Hanoi\n",
    "def move_tower(n, fromPole, withPole, toPole):\n",
    "    if n>=1:\n",
    "        move_tower(n-1, fromPole,toPole,withPole)\n",
    "        print(f\"Move {fromPole} to {toPole}\")\n",
    "        move_tower(n-1,withPole, fromPole, toPole)"
   ]
  },
  {
   "cell_type": "code",
   "execution_count": 11,
   "id": "1629b69d",
   "metadata": {},
   "outputs": [
    {
     "name": "stdout",
     "output_type": "stream",
     "text": [
      "Move A to C\n",
      "Move A to B\n",
      "Move C to B\n",
      "Move A to C\n",
      "Move B to A\n",
      "Move B to C\n",
      "Move A to C\n"
     ]
    }
   ],
   "source": [
    "move_tower(3,'A','B','C')"
   ]
  },
  {
   "cell_type": "markdown",
   "id": "ee606a66",
   "metadata": {},
   "source": [
    "----"
   ]
  },
  {
   "cell_type": "code",
   "execution_count": 2,
   "id": "b43914ac",
   "metadata": {},
   "outputs": [
    {
     "data": {
      "text/plain": [
       "0    19.869595\n",
       "1    39.660044\n",
       "2    58.817322\n",
       "dtype: float64"
      ]
     },
     "execution_count": 2,
     "metadata": {},
     "output_type": "execute_result"
    }
   ],
   "source": [
    "import pandas as pd\n",
    "# Relembrando o OLS\n",
    "# Setando um dataset\n",
    "dataset = {'Food Quality': [22,20,21,20,24,22,22,20,22,21,19,21],\n",
    "           'Service Quality': [20,19,18,17,21,21,21,21,22,19,20,21],\n",
    "           'Price':[43,32,34,41,54,52,34,34,39,44,45,47]}\n",
    "df_ex = pd.DataFrame(dataset)\n",
    "df_ex\n",
    "\n",
    "# Features e target de treino\n",
    "X = df_ex.drop('Price', axis = 1)\n",
    "y = df_ex['Price']\n",
    "\n",
    "# importando a biblioteca de OLS\n",
    "import statsmodels.api as sm\n",
    "\n",
    "#Treinando o modelo\n",
    "model = sm.OLS(y,X).fit()\n",
    "# Parâmetros do vetor b\n",
    "model.params\n",
    "# Estatísticas da regressão\n",
    "#print(model.summary())\n",
    "\n",
    "# Criando uma base de teste\n",
    "X_pred = {'Food Quality': [10,20,30],\n",
    "          'Service Quality': [12,23,26]\n",
    "         }\n",
    "X_pred_df = pd.DataFrame(X_pred)\n",
    "X_pred_df\n",
    "\n",
    "# Aplicando os parâmetros do modelo na base de teste\n",
    "model.predict(X_pred_df)"
   ]
  },
  {
   "cell_type": "markdown",
   "id": "47473ebd",
   "metadata": {},
   "source": [
    "----"
   ]
  },
  {
   "cell_type": "code",
   "execution_count": 1,
   "id": "19b80ca1",
   "metadata": {},
   "outputs": [
    {
     "data": {
      "text/plain": [
       "array([[1., 0., 1.],\n",
       "       [1., 0., 0.],\n",
       "       [0., 1., 0.]])"
      ]
     },
     "execution_count": 1,
     "metadata": {},
     "output_type": "execute_result"
    }
   ],
   "source": [
    "# O que faz Binarizer?\n",
    "from sklearn.preprocessing import Binarizer \n",
    "# Configura 1 se acima de um threshold e 0 se igual ou menor oa threshold. Threshold default é 0.0\n",
    "X = [[ 1., -1.,  2.],\n",
    "     [ 2.,  0.,  0.],\n",
    "     [ 0.,  1., -1.]]\n",
    "transformer = Binarizer() # threshold=0.0\n",
    "transformer.fit(X)\n",
    "transformer.transform(X)"
   ]
  },
  {
   "cell_type": "markdown",
   "id": "5e44f214",
   "metadata": {},
   "source": [
    "---"
   ]
  },
  {
   "cell_type": "code",
   "execution_count": 3,
   "id": "ca37eeb2",
   "metadata": {},
   "outputs": [
    {
     "data": {
      "text/html": [
       "<div>\n",
       "<style scoped>\n",
       "    .dataframe tbody tr th:only-of-type {\n",
       "        vertical-align: middle;\n",
       "    }\n",
       "\n",
       "    .dataframe tbody tr th {\n",
       "        vertical-align: top;\n",
       "    }\n",
       "\n",
       "    .dataframe thead th {\n",
       "        text-align: right;\n",
       "    }\n",
       "</style>\n",
       "<table border=\"1\" class=\"dataframe\">\n",
       "  <thead>\n",
       "    <tr style=\"text-align: right;\">\n",
       "      <th></th>\n",
       "      <th>A</th>\n",
       "      <th>B</th>\n",
       "    </tr>\n",
       "  </thead>\n",
       "  <tbody>\n",
       "    <tr>\n",
       "      <th>0</th>\n",
       "      <td>0</td>\n",
       "      <td>1</td>\n",
       "    </tr>\n",
       "    <tr>\n",
       "      <th>1</th>\n",
       "      <td>2</td>\n",
       "      <td>3</td>\n",
       "    </tr>\n",
       "    <tr>\n",
       "      <th>2</th>\n",
       "      <td>4</td>\n",
       "      <td>5</td>\n",
       "    </tr>\n",
       "    <tr>\n",
       "      <th>3</th>\n",
       "      <td>6</td>\n",
       "      <td>7</td>\n",
       "    </tr>\n",
       "    <tr>\n",
       "      <th>4</th>\n",
       "      <td>8</td>\n",
       "      <td>9</td>\n",
       "    </tr>\n",
       "  </tbody>\n",
       "</table>\n",
       "</div>"
      ],
      "text/plain": [
       "   A  B\n",
       "0  0  1\n",
       "1  2  3\n",
       "2  4  5\n",
       "3  6  7\n",
       "4  8  9"
      ]
     },
     "execution_count": 3,
     "metadata": {},
     "output_type": "execute_result"
    }
   ],
   "source": [
    "import pandas as pd\n",
    "import numpy as np\n",
    "df = pd.DataFrame(np.arange(10).reshape(-1, 2), columns=['A', 'B'])\n",
    "df"
   ]
  },
  {
   "cell_type": "code",
   "execution_count": 7,
   "id": "1e0d1c68",
   "metadata": {},
   "outputs": [
    {
     "data": {
      "text/html": [
       "<div>\n",
       "<style scoped>\n",
       "    .dataframe tbody tr th:only-of-type {\n",
       "        vertical-align: middle;\n",
       "    }\n",
       "\n",
       "    .dataframe tbody tr th {\n",
       "        vertical-align: top;\n",
       "    }\n",
       "\n",
       "    .dataframe thead th {\n",
       "        text-align: right;\n",
       "    }\n",
       "</style>\n",
       "<table border=\"1\" class=\"dataframe\">\n",
       "  <thead>\n",
       "    <tr style=\"text-align: right;\">\n",
       "      <th></th>\n",
       "      <th>A</th>\n",
       "      <th>B</th>\n",
       "    </tr>\n",
       "  </thead>\n",
       "  <tbody>\n",
       "    <tr>\n",
       "      <th>0</th>\n",
       "      <td>10</td>\n",
       "      <td>10</td>\n",
       "    </tr>\n",
       "    <tr>\n",
       "      <th>1</th>\n",
       "      <td>10</td>\n",
       "      <td>10</td>\n",
       "    </tr>\n",
       "    <tr>\n",
       "      <th>2</th>\n",
       "      <td>10</td>\n",
       "      <td>5</td>\n",
       "    </tr>\n",
       "    <tr>\n",
       "      <th>3</th>\n",
       "      <td>6</td>\n",
       "      <td>7</td>\n",
       "    </tr>\n",
       "    <tr>\n",
       "      <th>4</th>\n",
       "      <td>8</td>\n",
       "      <td>9</td>\n",
       "    </tr>\n",
       "  </tbody>\n",
       "</table>\n",
       "</div>"
      ],
      "text/plain": [
       "    A   B\n",
       "0  10  10\n",
       "1  10  10\n",
       "2  10   5\n",
       "3   6   7\n",
       "4   8   9"
      ]
     },
     "execution_count": 7,
     "metadata": {},
     "output_type": "execute_result"
    }
   ],
   "source": [
    "df.where(df > 4,10)\n",
    "# 'cond' : Se a condição é True, o valor original se mantém. Se a condição é False, substitui com o valor em 'other'.\n",
    "# 'other' : Entrada de valores caso 'cond' seja False."
   ]
  },
  {
   "cell_type": "markdown",
   "id": "fc2ef731",
   "metadata": {},
   "source": [
    "----"
   ]
  },
  {
   "cell_type": "code",
   "execution_count": 1,
   "id": "8d77b057",
   "metadata": {},
   "outputs": [],
   "source": [
    "import numpy as np\n",
    "import pandas as pd\n",
    "import matplotlib.pyplot as plt\n",
    "import seaborn as sns"
   ]
  },
  {
   "cell_type": "code",
   "execution_count": 2,
   "id": "a637c37d",
   "metadata": {},
   "outputs": [
    {
     "data": {
      "text/html": [
       "<div>\n",
       "<style scoped>\n",
       "    .dataframe tbody tr th:only-of-type {\n",
       "        vertical-align: middle;\n",
       "    }\n",
       "\n",
       "    .dataframe tbody tr th {\n",
       "        vertical-align: top;\n",
       "    }\n",
       "\n",
       "    .dataframe thead th {\n",
       "        text-align: right;\n",
       "    }\n",
       "</style>\n",
       "<table border=\"1\" class=\"dataframe\">\n",
       "  <thead>\n",
       "    <tr style=\"text-align: right;\">\n",
       "      <th></th>\n",
       "      <th>total_bill</th>\n",
       "      <th>tip</th>\n",
       "      <th>sex</th>\n",
       "      <th>smoker</th>\n",
       "      <th>day</th>\n",
       "      <th>time</th>\n",
       "      <th>size</th>\n",
       "    </tr>\n",
       "  </thead>\n",
       "  <tbody>\n",
       "    <tr>\n",
       "      <th>0</th>\n",
       "      <td>16.99</td>\n",
       "      <td>1.01</td>\n",
       "      <td>Female</td>\n",
       "      <td>No</td>\n",
       "      <td>Sun</td>\n",
       "      <td>Dinner</td>\n",
       "      <td>2.0</td>\n",
       "    </tr>\n",
       "    <tr>\n",
       "      <th>1</th>\n",
       "      <td>10.34</td>\n",
       "      <td>1.66</td>\n",
       "      <td>NaN</td>\n",
       "      <td>No</td>\n",
       "      <td>Sun</td>\n",
       "      <td>Dinner</td>\n",
       "      <td>3.0</td>\n",
       "    </tr>\n",
       "    <tr>\n",
       "      <th>2</th>\n",
       "      <td>21.01</td>\n",
       "      <td>3.50</td>\n",
       "      <td>NaN</td>\n",
       "      <td>No</td>\n",
       "      <td>Sun</td>\n",
       "      <td>Dinner</td>\n",
       "      <td>3.0</td>\n",
       "    </tr>\n",
       "    <tr>\n",
       "      <th>3</th>\n",
       "      <td>23.68</td>\n",
       "      <td>3.31</td>\n",
       "      <td>Male</td>\n",
       "      <td>No</td>\n",
       "      <td>Sun</td>\n",
       "      <td>Dinner</td>\n",
       "      <td>2.0</td>\n",
       "    </tr>\n",
       "    <tr>\n",
       "      <th>4</th>\n",
       "      <td>24.59</td>\n",
       "      <td>3.61</td>\n",
       "      <td>NaN</td>\n",
       "      <td>No</td>\n",
       "      <td>Sun</td>\n",
       "      <td>Dinner</td>\n",
       "      <td>4.0</td>\n",
       "    </tr>\n",
       "    <tr>\n",
       "      <th>...</th>\n",
       "      <td>...</td>\n",
       "      <td>...</td>\n",
       "      <td>...</td>\n",
       "      <td>...</td>\n",
       "      <td>...</td>\n",
       "      <td>...</td>\n",
       "      <td>...</td>\n",
       "    </tr>\n",
       "    <tr>\n",
       "      <th>239</th>\n",
       "      <td>29.03</td>\n",
       "      <td>5.92</td>\n",
       "      <td>Male</td>\n",
       "      <td>No</td>\n",
       "      <td>Sat</td>\n",
       "      <td>Dinner</td>\n",
       "      <td>3.0</td>\n",
       "    </tr>\n",
       "    <tr>\n",
       "      <th>240</th>\n",
       "      <td>27.18</td>\n",
       "      <td>2.00</td>\n",
       "      <td>Female</td>\n",
       "      <td>Yes</td>\n",
       "      <td>Sat</td>\n",
       "      <td>Dinner</td>\n",
       "      <td>2.0</td>\n",
       "    </tr>\n",
       "    <tr>\n",
       "      <th>241</th>\n",
       "      <td>22.67</td>\n",
       "      <td>2.00</td>\n",
       "      <td>Male</td>\n",
       "      <td>Yes</td>\n",
       "      <td>Sat</td>\n",
       "      <td>Dinner</td>\n",
       "      <td>2.0</td>\n",
       "    </tr>\n",
       "    <tr>\n",
       "      <th>242</th>\n",
       "      <td>17.82</td>\n",
       "      <td>1.75</td>\n",
       "      <td>Male</td>\n",
       "      <td>No</td>\n",
       "      <td>Sat</td>\n",
       "      <td>Dinner</td>\n",
       "      <td>2.0</td>\n",
       "    </tr>\n",
       "    <tr>\n",
       "      <th>243</th>\n",
       "      <td>18.78</td>\n",
       "      <td>3.00</td>\n",
       "      <td>Female</td>\n",
       "      <td>No</td>\n",
       "      <td>Thur</td>\n",
       "      <td>Dinner</td>\n",
       "      <td>2.0</td>\n",
       "    </tr>\n",
       "  </tbody>\n",
       "</table>\n",
       "<p>244 rows × 7 columns</p>\n",
       "</div>"
      ],
      "text/plain": [
       "     total_bill   tip     sex smoker   day    time  size\n",
       "0         16.99  1.01  Female     No   Sun  Dinner   2.0\n",
       "1         10.34  1.66     NaN     No   Sun  Dinner   3.0\n",
       "2         21.01  3.50     NaN     No   Sun  Dinner   3.0\n",
       "3         23.68  3.31    Male     No   Sun  Dinner   2.0\n",
       "4         24.59  3.61     NaN     No   Sun  Dinner   4.0\n",
       "..          ...   ...     ...    ...   ...     ...   ...\n",
       "239       29.03  5.92    Male     No   Sat  Dinner   3.0\n",
       "240       27.18  2.00  Female    Yes   Sat  Dinner   2.0\n",
       "241       22.67  2.00    Male    Yes   Sat  Dinner   2.0\n",
       "242       17.82  1.75    Male     No   Sat  Dinner   2.0\n",
       "243       18.78  3.00  Female     No  Thur  Dinner   2.0\n",
       "\n",
       "[244 rows x 7 columns]"
      ]
     },
     "execution_count": 2,
     "metadata": {},
     "output_type": "execute_result"
    }
   ],
   "source": [
    "# Vamos importar o dataset\n",
    "df = sns.load_dataset('tips')\n",
    "\n",
    "# Add missing values -> pra dar uma graça no dataset\n",
    "df.iloc[[1, 2, 4, 12], [2]] = np.nan\n",
    "df.iloc[[10, 20, 40, 120, 222], [1]] = np.nan\n",
    "df.iloc[[61, 27, 145, 212], [3]] = np.nan\n",
    "df.iloc[[143, 237, 48, 102, 20], [4]] = np.nan\n",
    "df.iloc[[71, 172, 194, 182], [5]] = np.nan\n",
    "df.iloc[[83, 90, 33, 228], [6]] = np.nan\n",
    "df"
   ]
  },
  {
   "cell_type": "code",
   "execution_count": 3,
   "id": "e8c38786",
   "metadata": {},
   "outputs": [],
   "source": [
    "# particionando os dados\n",
    "from sklearn.model_selection import train_test_split\n",
    "X_train, X_test, y_train, y_test = train_test_split(df.drop(columns=['total_bill']), \n",
    "                                                    df['total_bill'], \n",
    "                                                    test_size=.2, \n",
    "                                                    random_state=42)"
   ]
  },
  {
   "cell_type": "code",
   "execution_count": 4,
   "id": "199b7157",
   "metadata": {},
   "outputs": [],
   "source": [
    "# Para os passos de processamento das features, faremos todos juntos, com um Pipeline.\n",
    "from sklearn.pipeline import Pipeline\n",
    "\n",
    "from sklearn.impute import SimpleImputer\n",
    "from sklearn.preprocessing import StandardScaler\n",
    "from sklearn.neighbors import KNeighborsRegressor\n",
    "from sklearn.metrics import mean_squared_error, mean_absolute_error"
   ]
  },
  {
   "cell_type": "code",
   "execution_count": 5,
   "id": "f72f8b2b",
   "metadata": {},
   "outputs": [],
   "source": [
    "# Separa variáveis numéricas das categóricas\n",
    "num_cols = X_train.select_dtypes(\"number\").columns\n",
    "cat_cols = X_train.select_dtypes(exclude=\"number\").columns\n",
    "\n",
    "# Cria nosso Pipeline com SimpleImputer, StandardScaler e KNeighborsRegressor\n",
    "pipe_knn = Pipeline([\n",
    "    ('imputer', SimpleImputer(strategy='median')),\n",
    "    ('scaler', StandardScaler()),\n",
    "    ('model', KNeighborsRegressor(n_neighbors=7))\n",
    "], verbose=2)"
   ]
  },
  {
   "cell_type": "code",
   "execution_count": 6,
   "id": "e8631e49",
   "metadata": {},
   "outputs": [
    {
     "name": "stdout",
     "output_type": "stream",
     "text": [
      "[Pipeline] ........... (step 1 of 3) Processing imputer, total=   0.0s\n",
      "[Pipeline] ............ (step 2 of 3) Processing scaler, total=   0.0s\n",
      "[Pipeline] ............. (step 3 of 3) Processing model, total=   0.0s\n"
     ]
    },
    {
     "data": {
      "text/plain": [
       "Pipeline(steps=[('imputer', SimpleImputer(strategy='median')),\n",
       "                ('scaler', StandardScaler()),\n",
       "                ('model', KNeighborsRegressor(n_neighbors=7))],\n",
       "         verbose=2)"
      ]
     },
     "execution_count": 6,
     "metadata": {},
     "output_type": "execute_result"
    }
   ],
   "source": [
    "# Vamos rodar nosso pipeline no treino utilizando apenas as colunas numéricas\n",
    "pipe_knn.fit(X_train[num_cols], y_train)"
   ]
  },
  {
   "cell_type": "code",
   "execution_count": 5,
   "id": "56482fe9",
   "metadata": {},
   "outputs": [
    {
     "name": "stdout",
     "output_type": "stream",
     "text": [
      "True\n"
     ]
    }
   ],
   "source": [
    "my_list = [1,2,3,4]\n",
    "if type(my_list) == []:\n",
    "    print(1==1)"
   ]
  },
  {
   "cell_type": "markdown",
   "id": "8b14c36c-1684-4563-8754-4e62ac70bce9",
   "metadata": {},
   "source": [
    "#### Sympy"
   ]
  },
  {
   "cell_type": "code",
   "execution_count": 29,
   "id": "e4e5ca50",
   "metadata": {},
   "outputs": [],
   "source": [
    "# Precisa importar desse modo para poder utilizar tudo dessa biblioteca\n",
    "from sympy import *"
   ]
  },
  {
   "cell_type": "code",
   "execution_count": 30,
   "id": "324d2630-466d-4bc5-ac0e-bd8f0dddb622",
   "metadata": {},
   "outputs": [],
   "source": [
    "x = sp.symbols(\"x\")"
   ]
  },
  {
   "cell_type": "code",
   "execution_count": 31,
   "id": "23ec7421-f4b3-452f-81d1-d5f1f891045e",
   "metadata": {},
   "outputs": [
    {
     "data": {
      "text/latex": [
       "$\\displaystyle \\frac{1}{x}$"
      ],
      "text/plain": [
       "1/x"
      ]
     },
     "execution_count": 31,
     "metadata": {},
     "output_type": "execute_result"
    }
   ],
   "source": [
    "f = 1/x\n",
    "f"
   ]
  },
  {
   "cell_type": "code",
   "execution_count": 32,
   "id": "d0b3dd1c-5063-471f-817e-a3e967b3e2eb",
   "metadata": {},
   "outputs": [
    {
     "data": {
      "text/latex": [
       "$\\displaystyle 0$"
      ],
      "text/plain": [
       "0"
      ]
     },
     "execution_count": 32,
     "metadata": {},
     "output_type": "execute_result"
    }
   ],
   "source": [
    "result = sp.limit(f, x, oo)\n",
    "result"
   ]
  },
  {
   "cell_type": "code",
   "execution_count": 1,
   "id": "c3632362-28c0-4d9a-8f00-5fee99723231",
   "metadata": {},
   "outputs": [],
   "source": [
    "# Series.str() - String methods\n",
    "import pandas as pd"
   ]
  },
  {
   "cell_type": "code",
   "execution_count": 6,
   "id": "bd86a040-6749-45ee-8a9f-569b6d9c1b2b",
   "metadata": {},
   "outputs": [
    {
     "data": {
      "text/plain": [
       "1    Data Science\n",
       "dtype: object"
      ]
     },
     "execution_count": 6,
     "metadata": {},
     "output_type": "execute_result"
    }
   ],
   "source": [
    "s =pd.Series([\"Series em Pandas\", \"Data Science\", \"Ada\"])\n",
    "s[s.str.contains(\"Science\")]"
   ]
  },
  {
   "cell_type": "code",
   "execution_count": 19,
   "id": "7df6c49e-14b2-45d4-b2b0-16348238e2ed",
   "metadata": {},
   "outputs": [
    {
     "data": {
      "text/plain": [
       "0    2\n",
       "1    2\n",
       "2    2\n",
       "dtype: int64"
      ]
     },
     "execution_count": 19,
     "metadata": {},
     "output_type": "execute_result"
    }
   ],
   "source": [
    "s.str.lower().str.count(\"a\")"
   ]
  }
 ],
 "metadata": {
  "kernelspec": {
   "display_name": "Python 3",
   "language": "python",
   "name": "python3"
  },
  "language_info": {
   "codemirror_mode": {
    "name": "ipython",
    "version": 3
   },
   "file_extension": ".py",
   "mimetype": "text/x-python",
   "name": "python",
   "nbconvert_exporter": "python",
   "pygments_lexer": "ipython3",
   "version": "3.8.8"
  }
 },
 "nbformat": 4,
 "nbformat_minor": 5
}
