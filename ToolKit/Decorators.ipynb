{
 "cells": [
  {
   "cell_type": "markdown",
   "id": "4289a694-ac39-4827-9156-265683249e92",
   "metadata": {},
   "source": [
    "### Python decorators\n",
    "\n",
    "Um decorator pega uma função existente, adiciona algumas funcionalidades e retorna. é conhecido também como metaprogramação porque uma parte do programa tenta modificar outra parte em tempo de compilação.\n",
    "\n",
    "https://www.programiz.com/python-programming/decorator"
   ]
  },
  {
   "cell_type": "code",
   "execution_count": 1,
   "id": "fc745ec2-f259-43aa-a201-0774f054ce57",
   "metadata": {},
   "outputs": [
    {
     "name": "stdout",
     "output_type": "stream",
     "text": [
      "Hello\n",
      "Hello2\n"
     ]
    }
   ],
   "source": [
    "# Tudo em Python é um objeto\n",
    "def first(msg):\n",
    "    print(msg)\n",
    "first(\"Hello\")\n",
    "second = first\n",
    "second(\"Hello2\")"
   ]
  },
  {
   "cell_type": "markdown",
   "id": "f9b5081a-e932-4594-bbc5-3c6a623e4ca9",
   "metadata": {},
   "source": [
    "Quando vc roda o código, ambas as funções `first` e `second` retornam um output. Tanto `first` quanto `second` referem-se ao mesmo objeto.\n",
    "\n",
    "Funções podem se passar como argumentos para outras funções. Se vc já usou funções como `map`, `filter` e `reduce` no Python vc já sabe. exemplo"
   ]
  },
  {
   "cell_type": "code",
   "execution_count": 2,
   "id": "05066761-414d-4f98-9cb4-a7483b1d5569",
   "metadata": {},
   "outputs": [],
   "source": [
    "def inc(x):\n",
    "    return x + 1\n",
    "\n",
    "def dec(x):\n",
    "    return x - 1\n",
    "\n",
    "def operate(func, x):\n",
    "    result = func(x)\n",
    "    return result"
   ]
  },
  {
   "cell_type": "code",
   "execution_count": 4,
   "id": "b01ed9a2-f187-4143-b4b5-d407feab509a",
   "metadata": {},
   "outputs": [
    {
     "name": "stdout",
     "output_type": "stream",
     "text": [
      "4\n",
      "2\n"
     ]
    }
   ],
   "source": [
    "print(operate(inc, 3))\n",
    "\n",
    "print(operate(dec, 3))"
   ]
  },
  {
   "cell_type": "code",
   "execution_count": 7,
   "id": "25327908-43d7-42ab-b73e-24ca405f8e5c",
   "metadata": {},
   "outputs": [
    {
     "name": "stdout",
     "output_type": "stream",
     "text": [
      "Hello\n"
     ]
    }
   ],
   "source": [
    "def is_called():\n",
    "    def is_returned():\n",
    "        print(\"Hello\")\n",
    "    return is_returned\n",
    "\n",
    "new = is_called()\n",
    "new()"
   ]
  },
  {
   "cell_type": "markdown",
   "id": "a72b7e7c-8a76-4315-923a-758bdd02d2de",
   "metadata": {},
   "source": [
    "Aqui `is_returned()` é uma função aninhada na qual é definida e retornada cada vez que chamamos `is_called()`"
   ]
  },
  {
   "cell_type": "markdown",
   "id": "eaed8ac8-0340-4951-9263-74cb30d51de5",
   "metadata": {},
   "source": [
    "#### Getting back to Decorators\n",
    "\n",
    "Funções e métodods são chamados de \"chamáveis\" pois podem ser chamados. De fato, qualquer objeto que implementa o método especial `__call__()` é chamado de \"chamável\". Basicamente, um decorador toma uma função, adiciona alguma funcionalidade e retorna."
   ]
  },
  {
   "cell_type": "code",
   "execution_count": 8,
   "id": "8d74170a-4fa6-43ce-9922-b3e045de8f59",
   "metadata": {},
   "outputs": [],
   "source": [
    "def make_pretty(func):\n",
    "    def inner():\n",
    "        print(\"I got decorated\")\n",
    "        func()\n",
    "    return inner\n",
    "\n",
    "def ordinary():\n",
    "    print(\"I am ordinary\")"
   ]
  },
  {
   "cell_type": "code",
   "execution_count": 9,
   "id": "a3b2498c-9bac-4957-b664-c0330d637d88",
   "metadata": {},
   "outputs": [
    {
     "name": "stdout",
     "output_type": "stream",
     "text": [
      "I am ordinary\n"
     ]
    }
   ],
   "source": [
    "ordinary()"
   ]
  },
  {
   "cell_type": "code",
   "execution_count": 10,
   "id": "8ac708e8-d347-45a2-95cd-2a9559f14088",
   "metadata": {},
   "outputs": [
    {
     "name": "stdout",
     "output_type": "stream",
     "text": [
      "I got decorated\n",
      "I am ordinary\n"
     ]
    }
   ],
   "source": [
    "# Com decorator\n",
    "pretty = make_pretty(ordinary)\n",
    "pretty()"
   ]
  },
  {
   "cell_type": "markdown",
   "id": "80cb0c69-c9e9-4e1c-b355-37502e08c17d",
   "metadata": {},
   "source": [
    "Podemos ver que a função decoradora adiciona alguma funcionalidade à função original. Como empacotar um presente. O decorador é como o embrulho. O objeto decorado não muda. Como é um construtor comum, já existe uma sintaxe para simplificar."
   ]
  },
  {
   "cell_type": "code",
   "execution_count": 15,
   "id": "f80ab50b-1bbd-466e-a06f-6d5c3258aa5c",
   "metadata": {},
   "outputs": [],
   "source": [
    "@make_pretty\n",
    "def ordinary():\n",
    "    print(\"I am ordinary\")\n",
    "    \n",
    "# é o mesmo que\n",
    "def ordinary():\n",
    "    print(\"I am ordinary\")\n",
    "ordinary = make_pretty(ordinary)    "
   ]
  },
  {
   "cell_type": "code",
   "execution_count": 19,
   "id": "568d574e-0a9f-4c84-84e0-3dde35fd4f61",
   "metadata": {},
   "outputs": [
    {
     "name": "stdout",
     "output_type": "stream",
     "text": [
      "I got decorated\n",
      "I am ordinary2\n"
     ]
    }
   ],
   "source": [
    "ordinary()"
   ]
  },
  {
   "cell_type": "markdown",
   "id": "d3bd9643-47c3-4587-b31d-7ac30fb4b90d",
   "metadata": {},
   "source": [
    "Exemplo"
   ]
  },
  {
   "cell_type": "code",
   "execution_count": 20,
   "id": "76aee77c-7c35-4ad5-b9de-99ff3d1d763a",
   "metadata": {},
   "outputs": [],
   "source": [
    "def divide(a, b):\n",
    "    return a/b"
   ]
  },
  {
   "cell_type": "code",
   "execution_count": 21,
   "id": "844f6826-ccb2-4443-b619-c22af192b110",
   "metadata": {},
   "outputs": [
    {
     "data": {
      "text/plain": [
       "2.0"
      ]
     },
     "execution_count": 21,
     "metadata": {},
     "output_type": "execute_result"
    }
   ],
   "source": [
    "divide(4,2)"
   ]
  },
  {
   "cell_type": "code",
   "execution_count": 22,
   "id": "11447ecc-44ab-4f7b-8ad9-b4950e231df0",
   "metadata": {},
   "outputs": [
    {
     "ename": "ZeroDivisionError",
     "evalue": "division by zero",
     "output_type": "error",
     "traceback": [
      "\u001b[1;31m---------------------------------------------------------------------------\u001b[0m",
      "\u001b[1;31mZeroDivisionError\u001b[0m                         Traceback (most recent call last)",
      "\u001b[1;32m<ipython-input-22-030e2eec799d>\u001b[0m in \u001b[0;36m<module>\u001b[1;34m\u001b[0m\n\u001b[1;32m----> 1\u001b[1;33m \u001b[0mdivide\u001b[0m\u001b[1;33m(\u001b[0m\u001b[1;36m2\u001b[0m\u001b[1;33m,\u001b[0m\u001b[1;36m0\u001b[0m\u001b[1;33m)\u001b[0m\u001b[1;33m\u001b[0m\u001b[1;33m\u001b[0m\u001b[0m\n\u001b[0m",
      "\u001b[1;32m<ipython-input-20-7507bdc665d5>\u001b[0m in \u001b[0;36mdivide\u001b[1;34m(a, b)\u001b[0m\n\u001b[0;32m      1\u001b[0m \u001b[1;32mdef\u001b[0m \u001b[0mdivide\u001b[0m\u001b[1;33m(\u001b[0m\u001b[0ma\u001b[0m\u001b[1;33m,\u001b[0m \u001b[0mb\u001b[0m\u001b[1;33m)\u001b[0m\u001b[1;33m:\u001b[0m\u001b[1;33m\u001b[0m\u001b[1;33m\u001b[0m\u001b[0m\n\u001b[1;32m----> 2\u001b[1;33m     \u001b[1;32mreturn\u001b[0m \u001b[0ma\u001b[0m\u001b[1;33m/\u001b[0m\u001b[0mb\u001b[0m\u001b[1;33m\u001b[0m\u001b[1;33m\u001b[0m\u001b[0m\n\u001b[0m",
      "\u001b[1;31mZeroDivisionError\u001b[0m: division by zero"
     ]
    }
   ],
   "source": [
    "divide(2,0)"
   ]
  },
  {
   "cell_type": "code",
   "execution_count": 23,
   "id": "2cdba09d-9019-4be3-bd92-f3733dd60893",
   "metadata": {},
   "outputs": [],
   "source": [
    "def smart_divide(func):\n",
    "    def inner(a, b):\n",
    "        print(f\"I am going to divide {a} and {b}\")\n",
    "        if b == 0:\n",
    "            print(\"Can't divide by 0\")\n",
    "            return\n",
    "        return func(a,b)\n",
    "    return inner"
   ]
  },
  {
   "cell_type": "code",
   "execution_count": 24,
   "id": "723db8ff-879c-4d5d-ac30-3132d2fdb074",
   "metadata": {},
   "outputs": [],
   "source": [
    "@smart_divide\n",
    "def divide(a,b):\n",
    "    return a/b"
   ]
  },
  {
   "cell_type": "code",
   "execution_count": 25,
   "id": "e104b96c-b757-48d7-aaae-d978a02b190d",
   "metadata": {},
   "outputs": [
    {
     "name": "stdout",
     "output_type": "stream",
     "text": [
      "I am going to divide 4 and 2\n"
     ]
    },
    {
     "data": {
      "text/plain": [
       "2.0"
      ]
     },
     "execution_count": 25,
     "metadata": {},
     "output_type": "execute_result"
    }
   ],
   "source": [
    "divide(4,2)"
   ]
  },
  {
   "cell_type": "code",
   "execution_count": 26,
   "id": "3f3e8dbe-7112-422b-b404-6e2b2bb8d695",
   "metadata": {},
   "outputs": [
    {
     "name": "stdout",
     "output_type": "stream",
     "text": [
      "I am going to divide 2 and 0\n",
      "Can't divide by 0\n"
     ]
    }
   ],
   "source": [
    "divide(2,0)"
   ]
  },
  {
   "cell_type": "code",
   "execution_count": null,
   "id": "3f9c79a2-07ec-45e4-adbd-5bcce6cf8eda",
   "metadata": {},
   "outputs": [],
   "source": []
  }
 ],
 "metadata": {
  "kernelspec": {
   "display_name": "Python 3",
   "language": "python",
   "name": "python3"
  },
  "language_info": {
   "codemirror_mode": {
    "name": "ipython",
    "version": 3
   },
   "file_extension": ".py",
   "mimetype": "text/x-python",
   "name": "python",
   "nbconvert_exporter": "python",
   "pygments_lexer": "ipython3",
   "version": "3.8.8"
  }
 },
 "nbformat": 4,
 "nbformat_minor": 5
}
