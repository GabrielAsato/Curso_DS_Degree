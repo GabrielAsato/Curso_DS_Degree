{
 "cells": [
  {
   "cell_type": "markdown",
   "metadata": {},
   "source": [
    "# Avaliação módulo 1 - Degree Data Science\n",
    "\n",
    "Na empresa em que você trabalha foi solicitada a implementação de um sistema de cadastro dos fornecedores. As informações que devem ser cadastradas são:\n",
    "\n",
    "- Código do fornecedor;\n",
    "- Nome do fornecedor;\n",
    "- Telefone do fornecedor;\n",
    "- Email do fornecedor.\n",
    "\n",
    "Para isso, você deverá criar um script para armazenar essas informações em alguma estrutura de dados.\n",
    "\n",
    "Também como parte do sistema de cadastro, é necessário criar uma \"interface de navegação\" pelo sistema, que tenha as seguintes funcionalidades:\n",
    "\n",
    "- Permite a exibição (usando o `print`) de todas as informaçoes de contatos específicos, a partir da busca pelo código do fornecedor;\n",
    "- Permite a remoção e adição de fornecedores à estrutura de cadastro.\n",
    "\n",
    "Requisitos:\n",
    "\n",
    "- Requisito #1 - Não existe um limite para fornecedores cadastrados, portanto você deverá permitir que o usuário cadastre a quantidade que desejar.\n",
    "- Requisito #2 - Crie pelo menos uma função em seu script. Você deverá escolher pelo menos uma tarefa do seu script e implementar em uma função para chamá-la dentro da sua lógica de cadastro.\n",
    "- Requisito #3 - Crie pelo menos uma verificação em seu código, por exemplo: Se o dicionário estiver vazio, não permita a opção remover.\n",
    "\n",
    "Tópicos avaliados:\n",
    "\n",
    "- Variáveis;\n",
    "- Tipos de dados;\n",
    "- Operadores aritméticos;\n",
    "- I/O de dados;\n",
    "- Expressões lógicas e condicionais;\n",
    "- Laços de repetição;\n",
    "- Listas e dicionários;\n",
    "- Funções.\n"
   ]
  },
  {
   "cell_type": "markdown",
   "metadata": {},
   "source": [
    "----\n",
    "----"
   ]
  },
  {
   "cell_type": "markdown",
   "metadata": {},
   "source": [
    "## Uso do script\n",
    "\n",
    "- Os cadastros estão dentro de um dicionário **'cadastros'**.\n",
    "- Como navegar:\n",
    "    - Use a função interface_de_navegacao().\n",
    "        - Para ver as informações sobre um cadastro, digite **info** e, em seguida, digite o <ins>Código de cadastro</ins>\n",
    "        - Para adicionar um cadastro, digite **adicionar** e, em seguida, digite:\n",
    "            - número de cadastros a serem adicionados\n",
    "            - <ins>Código de cadastro</ins> (utilize números inteiros: 1,2,3,4,... (opcional))\n",
    "            - Nome\n",
    "            - Telefone\n",
    "            - E-mail\n",
    "        - Para deletar um cadastro, digite **deletar** e, em seguida, digite o <ins>Código de cadastro</ins>\n",
    "        - Para ver todo o dicionário, digite **cadastros**"
   ]
  },
  {
   "cell_type": "code",
   "execution_count": 116,
   "metadata": {},
   "outputs": [],
   "source": [
    "################################ Dicionário de cadastros vazia ################################\n",
    "# ---------------------------------------------------------------------------------------------\n",
    "cadastros = {\"Código\": [],\n",
    "            \"Nome\": [],\n",
    "            \"Telefone\": [],\n",
    "            \"E-mail\":[]}\n",
    "\n",
    "########################################### Funções ###########################################\n",
    "# ---------------------------------------------------------------------------------------------\n",
    "def info():\n",
    "    \n",
    "    # Checklist de Requisitos\n",
    "    # Requisito #2: info() como função (X)\n",
    "    # Requisito #3: Verificar se o dicionário 'cadastros' está vazio e se o 'Código' existe (X)\n",
    "    \n",
    "    # Se 'cadastros' estiver vazio\n",
    "    if (list(cadastros.values()) == [[],[],[],[]]):\n",
    "        print(\"Não há nenhum cadastro\")\n",
    "    \n",
    "    else:\n",
    "        # Com o 'Código' informa 'Nome', 'Telefone' e 'E-mail'\n",
    "        codigo = input(\"Digite o código do fornecedor para ver as informações: \")\n",
    "        \n",
    "        # Se valor 'Código' está vazio\n",
    "        if codigo not in cadastros[\"Código\"]:\n",
    "            print(\"Não existe cadastro com esse código\")\n",
    "        \n",
    "        # Mostra os dados do cadastro\n",
    "        else:\n",
    "            idx_codigo = cadastros[\"Código\"].index(codigo)\n",
    "            for chave, valor in cadastros.items():\n",
    "                print(chave+\":\",valor[idx_codigo])\n",
    "\n",
    "# ---------------------------------------------------------------------------------------------\n",
    "def adicionar():\n",
    "    \n",
    "    # Checklist de Requisitos\n",
    "    # Requisito #1: Número de cadastros é ilimitado (X)\n",
    "    # Requisito #2: adicionar() como função (X)\n",
    "    # Requisito #3: Verificação de Código único (X)\n",
    "    \n",
    "    # Verificação de Código único\n",
    "    while True:\n",
    "        codigo = input(\"Código do fornecedor: \")\n",
    "        if codigo not in cadastros[\"Código\"]:\n",
    "            break\n",
    "    cadastros[\"Código\"].append(codigo)\n",
    "    \n",
    "    # input do nome\n",
    "    cadastros[\"Nome\"].append(input(\"Nome do fornecedor: \"))\n",
    "    \n",
    "    # input do telefone\n",
    "    cadastros[\"Telefone\"].append(input(\"Telefone do fornecedor: \"))\n",
    "    \n",
    "    # input do e-mail\n",
    "    cadastros[\"E-mail\"].append(input(\"E-mail do fornecedor: \"))\n",
    "    \n",
    "# ---------------------------------------------------------------------------------------------       \n",
    "def deletar():\n",
    "    \n",
    "    # Checklist de Requisitos\n",
    "    # Requisito #2: deletar() como função (X)\n",
    "    # Requisito #3: Verificação de dicionário vazio e se código existe (X)\n",
    "    \n",
    "    # Verificação de dicionário vazio\n",
    "    if (list(cadastros.values()) == [[],[],[],[]]):\n",
    "        print(\"Não há nenhum cadastro para ser removido.\")\n",
    "    else:\n",
    "        # Identificar o index pelo código\n",
    "        codigo = input(\"Digite o código do fornecedor para deletar seu cadastro: \")\n",
    "        \n",
    "        # Verificar se código existe        \n",
    "        if (codigo not in cadastros[\"Código\"]):\n",
    "            print(\"Não existe cadastro com esse código\")\n",
    "        else:\n",
    "            # Deletar\n",
    "            idx_codigo = cadastros[\"Código\"].index(codigo)\n",
    "            for valor in cadastros.values():\n",
    "                del valor[idx_codigo]\n",
    "# ---------------------------------------------------------------------------------------------\n",
    "########################################## Interface ##########################################\n",
    "def interface_de_navegacao():\n",
    "    \n",
    "    # Checklist de Requisitos\n",
    "    # Requisito #2: interface_de_navagacao() como função (X)\n",
    "    # Requisito #3: Verificação se ação existe e o número de cadastros a serem adicionados (X)\n",
    "    \n",
    "    # Verificação se ação existe\n",
    "    while True:\n",
    "        acao = input(\"Digite uma ação (info, adicionar, deletar, cadastros): \").lower()\n",
    "        if acao in [\"info\", \"adicionar\", \"deletar\",\"cadastros\"]:\n",
    "            break\n",
    "    \n",
    "    # Mostra todos os dados pelo Código\n",
    "    if acao == \"info\":\n",
    "        info()\n",
    "    \n",
    "    # Adiciona n * cadastros\n",
    "    elif acao == \"adicionar\":\n",
    "        # Checa se o número de cadastros é um número\n",
    "        while True:\n",
    "            n = input(\"Digite quantos cadastros vão ser adicionados: \")\n",
    "            if n.isnumeric():\n",
    "                n = int(n)\n",
    "                break\n",
    "                \n",
    "        for _ in range(n):\n",
    "            adicionar()\n",
    "    \n",
    "    # Deletar cadastro individualmente\n",
    "    elif acao == \"deletar\":\n",
    "        deletar()\n",
    "          \n",
    "    # Mostrar todos os dados em formato de dicionário\n",
    "    elif acao == \"cadastros\":\n",
    "        print(cadastros)\n"
   ]
  },
  {
   "cell_type": "markdown",
   "metadata": {},
   "source": [
    "----"
   ]
  },
  {
   "cell_type": "markdown",
   "metadata": {},
   "source": [
    "# Interface de navegação: <Ctrl+Enter> na célula abaixo para iniciar"
   ]
  },
  {
   "cell_type": "code",
   "execution_count": 128,
   "metadata": {},
   "outputs": [
    {
     "name": "stdout",
     "output_type": "stream",
     "text": [
      "Digite uma ação (info, adicionar, deletar, cadastros): info\n",
      "Não há nenhum cadastro\n"
     ]
    }
   ],
   "source": [
    "interface_de_navegacao()"
   ]
  },
  {
   "cell_type": "markdown",
   "metadata": {},
   "source": [
    "-----"
   ]
  }
 ],
 "metadata": {
  "kernelspec": {
   "display_name": "Python 3",
   "language": "python",
   "name": "python3"
  },
  "language_info": {
   "codemirror_mode": {
    "name": "ipython",
    "version": 3
   },
   "file_extension": ".py",
   "mimetype": "text/x-python",
   "name": "python",
   "nbconvert_exporter": "python",
   "pygments_lexer": "ipython3",
   "version": "3.8.8"
  }
 },
 "nbformat": 4,
 "nbformat_minor": 4
}
