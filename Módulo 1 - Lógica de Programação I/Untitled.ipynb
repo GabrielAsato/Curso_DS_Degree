{
 "cells": [
  {
   "cell_type": "code",
   "execution_count": 33,
   "id": "a80304e9",
   "metadata": {},
   "outputs": [],
   "source": [
    "estados = \"Os estados são SP MG RN BA\""
   ]
  },
  {
   "cell_type": "code",
   "execution_count": 25,
   "id": "e8ea1fc8",
   "metadata": {},
   "outputs": [],
   "source": [
    "c = \"SP RN\".split()"
   ]
  },
  {
   "cell_type": "code",
   "execution_count": 36,
   "id": "16177a46",
   "metadata": {},
   "outputs": [
    {
     "data": {
      "text/plain": [
       "['SP', 'RN']"
      ]
     },
     "execution_count": 36,
     "metadata": {},
     "output_type": "execute_result"
    }
   ],
   "source": [
    "c"
   ]
  },
  {
   "cell_type": "code",
   "execution_count": 35,
   "id": "a7769d16",
   "metadata": {},
   "outputs": [
    {
     "data": {
      "text/plain": [
       "['Os', 'estados', 'são', 'SP', 'MG', 'RN', 'BA']"
      ]
     },
     "execution_count": 35,
     "metadata": {},
     "output_type": "execute_result"
    }
   ],
   "source": [
    "estados.split()"
   ]
  },
  {
   "cell_type": "code",
   "execution_count": 39,
   "id": "7245d54b",
   "metadata": {},
   "outputs": [
    {
     "data": {
      "text/plain": [
       "True"
      ]
     },
     "execution_count": 39,
     "metadata": {},
     "output_type": "execute_result"
    }
   ],
   "source": [
    "\"SP\" in estados.split()"
   ]
  },
  {
   "cell_type": "code",
   "execution_count": 41,
   "id": "25414ffb",
   "metadata": {},
   "outputs": [
    {
     "name": "stdout",
     "output_type": "stream",
     "text": [
      "False\n"
     ]
    }
   ],
   "source": [
    "print(any(c) in estados.split())"
   ]
  },
  {
   "cell_type": "code",
   "execution_count": 51,
   "id": "a051ec4e",
   "metadata": {},
   "outputs": [
    {
     "data": {
      "text/plain": [
       "True"
      ]
     },
     "execution_count": 51,
     "metadata": {},
     "output_type": "execute_result"
    }
   ],
   "source": [
    "any([1,2]) in [1,2,3,4,5,6]"
   ]
  },
  {
   "cell_type": "code",
   "execution_count": 49,
   "id": "bd22b2d8",
   "metadata": {},
   "outputs": [
    {
     "data": {
      "text/plain": [
       "True"
      ]
     },
     "execution_count": 49,
     "metadata": {},
     "output_type": "execute_result"
    }
   ],
   "source": [
    "any(x in [1,2] for x in [1,2,3,4,5])"
   ]
  },
  {
   "cell_type": "code",
   "execution_count": null,
   "id": "9a531721",
   "metadata": {},
   "outputs": [],
   "source": []
  },
  {
   "cell_type": "code",
   "execution_count": null,
   "id": "c3b805ac",
   "metadata": {},
   "outputs": [],
   "source": []
  },
  {
   "cell_type": "code",
   "execution_count": 15,
   "id": "91ba2c6d",
   "metadata": {},
   "outputs": [
    {
     "data": {
      "text/plain": [
       "['Os', 'estados', 'são', 'SP,', 'MG,', 'RN,', 'BA']"
      ]
     },
     "execution_count": 15,
     "metadata": {},
     "output_type": "execute_result"
    }
   ],
   "source": [
    "estados.split()"
   ]
  },
  {
   "cell_type": "code",
   "execution_count": 29,
   "id": "0d22cf51",
   "metadata": {},
   "outputs": [
    {
     "data": {
      "text/plain": [
       "True"
      ]
     },
     "execution_count": 29,
     "metadata": {},
     "output_type": "execute_result"
    }
   ],
   "source": [
    "all(estado in estados for estado in \"SP RN\".split())"
   ]
  },
  {
   "cell_type": "code",
   "execution_count": null,
   "id": "5e89566c",
   "metadata": {},
   "outputs": [],
   "source": []
  },
  {
   "cell_type": "code",
   "execution_count": 4,
   "id": "58148dd0",
   "metadata": {},
   "outputs": [
    {
     "data": {
      "text/plain": [
       "'c'"
      ]
     },
     "execution_count": 4,
     "metadata": {},
     "output_type": "execute_result"
    }
   ],
   "source": [
    "from random import choice\n",
    "\n",
    "choice([\"a\",\"b\",\"c\"])"
   ]
  },
  {
   "cell_type": "code",
   "execution_count": null,
   "id": "fb3d917c",
   "metadata": {},
   "outputs": [],
   "source": [
    "lista = []\n",
    "lista.app"
   ]
  },
  {
   "cell_type": "code",
   "execution_count": null,
   "id": "d48ae9fa",
   "metadata": {},
   "outputs": [],
   "source": []
  }
 ],
 "metadata": {
  "kernelspec": {
   "display_name": "Python 3",
   "language": "python",
   "name": "python3"
  },
  "language_info": {
   "codemirror_mode": {
    "name": "ipython",
    "version": 3
   },
   "file_extension": ".py",
   "mimetype": "text/x-python",
   "name": "python",
   "nbconvert_exporter": "python",
   "pygments_lexer": "ipython3",
   "version": "3.8.8"
  }
 },
 "nbformat": 4,
 "nbformat_minor": 5
}
