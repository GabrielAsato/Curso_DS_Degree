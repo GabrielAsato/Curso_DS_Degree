{
 "cells": [
  {
   "cell_type": "markdown",
   "id": "be47b7a0-b624-418f-8cb8-a1d85e90b0ca",
   "metadata": {},
   "source": [
    "### Aula 02 - API\n",
    "\n",
    "APIs: https://github.com/public-apis/public-apis\n",
    "miro: https://miro.com/app/board/uXjVPGdl_MU=/\n",
    "\n",
    "Como isolar um modelo atrás de uma aplicação (em produção).\n",
    "Precisamos entregar o modelo como um produto (numa caixa executável).\n",
    "\n",
    "<img src = \"Figs/Aula02-Figura01.png\">\n",
    "<img src = \"Figs/Aula02-Figura02.png\">\n",
    "\n",
    "API Web : Application Interface Programming\n",
    "\n",
    "Iremos usar Python, Flask e Pickle\n",
    "\n",
    "A arquitetura fica:\n",
    "<img src = \"Figs/Aula02-Figura07.png\">"
   ]
  },
  {
   "cell_type": "code",
   "execution_count": null,
   "id": "edcc798b-adb3-4e7b-afb6-7790f4289ccd",
   "metadata": {},
   "outputs": [],
   "source": [
    "# Exemplo de pedido de requests\n",
    "import requests\n",
    "\n",
    "url = \"<url>\"\n",
    "req = requests.get(url=url)\n",
    "print(req.text)\n",
    "\n",
    "# usando um objeto json\n",
    "dados = req.json()\n",
    "for i in dados:\n",
    "    print(i)\n",
    "\n",
    "for pos, i in enumerate(dados):\n",
    "    print(pos, i)"
   ]
  },
  {
   "cell_type": "code",
   "execution_count": null,
   "id": "c2956bc8-d48b-4394-ae83-b054e90b737f",
   "metadata": {},
   "outputs": [],
   "source": [
    "# Do Marcelo\n",
    "from pandas_datareader import data as pdr\n",
    "\n",
    "df = pdr.DataReader('VALE3.SA', data_source='yahoo', start='2010-1-1')"
   ]
  },
  {
   "cell_type": "markdown",
   "id": "cba48a17-e040-4d1d-9b7c-394b91c1602a",
   "metadata": {},
   "source": [
    "Problema no VSCode (se não roda venv)\n",
    "PowerShell como Administrador (botão direito)\n",
    "- Set-ExecutionPolicy unrestricte\n",
    "- s\n",
    "\n",
    "No VSCode\n",
    "- python -m venv venv"
   ]
  }
 ],
 "metadata": {
  "kernelspec": {
   "display_name": "Python 3",
   "language": "python",
   "name": "python3"
  },
  "language_info": {
   "codemirror_mode": {
    "name": "ipython",
    "version": 3
   },
   "file_extension": ".py",
   "mimetype": "text/x-python",
   "name": "python",
   "nbconvert_exporter": "python",
   "pygments_lexer": "ipython3",
   "version": "3.8.8"
  }
 },
 "nbformat": 4,
 "nbformat_minor": 5
}
