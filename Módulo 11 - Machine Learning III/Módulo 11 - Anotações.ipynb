{
 "cells": [
  {
   "cell_type": "markdown",
   "id": "61b66067-7e22-45d6-8b07-1e31a10f7617",
   "metadata": {},
   "source": [
    "## Módulo 11"
   ]
  },
  {
   "cell_type": "markdown",
   "id": "5e86bb39-62f4-4e0d-aed2-087ecf84d66c",
   "metadata": {},
   "source": []
  }
 ],
 "metadata": {
  "kernelspec": {
   "display_name": "Python 3",
   "language": "python",
   "name": "python3"
  },
  "language_info": {
   "codemirror_mode": {
    "name": "ipython",
    "version": 3
   },
   "file_extension": ".py",
   "mimetype": "text/x-python",
   "name": "python",
   "nbconvert_exporter": "python",
   "pygments_lexer": "ipython3",
   "version": "3.8.8"
  }
 },
 "nbformat": 4,
 "nbformat_minor": 5
}
