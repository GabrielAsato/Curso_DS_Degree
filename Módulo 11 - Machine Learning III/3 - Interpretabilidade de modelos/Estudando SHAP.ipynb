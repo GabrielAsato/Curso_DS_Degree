{
 "cells": [
  {
   "cell_type": "markdown",
   "id": "8a1e4d8e-4027-4744-8b63-052e890504a4",
   "metadata": {},
   "source": [
    "## SHAP\n",
    "https://towardsdatascience.com/using-shap-values-to-explain-how-your-machine-learning-model-works-732b3f40e137\n",
    "\n",
    "https://m.mage.ai/how-to-interpret-and-explain-your-machine-learning-models-using-shap-values-471c2635b78e"
   ]
  },
  {
   "cell_type": "markdown",
   "id": "e3715d44-4604-4ecb-9795-78454ccb4d9a",
   "metadata": {},
   "source": [
    "#### SHAP\n",
    "SHAP stands for SHapley Additive exPlanations. The essence of SHAP values is to measure the contribuitions to the final outcome from each player separately among the coalition."
   ]
  },
  {
   "cell_type": "code",
   "execution_count": 10,
   "id": "f395c957-87be-4b24-9c21-82094e0b97b0",
   "metadata": {},
   "outputs": [],
   "source": [
    "import pandas as pd\n",
    "import numpy as np\n",
    "import matplotlib.pyplot as plt\n",
    "import seaborn as sns"
   ]
  },
  {
   "cell_type": "code",
   "execution_count": 99,
   "id": "73f6312b-7ff1-4f87-add1-60c6a10082ec",
   "metadata": {},
   "outputs": [
    {
     "data": {
      "text/html": [
       "<div>\n",
       "<style scoped>\n",
       "    .dataframe tbody tr th:only-of-type {\n",
       "        vertical-align: middle;\n",
       "    }\n",
       "\n",
       "    .dataframe tbody tr th {\n",
       "        vertical-align: top;\n",
       "    }\n",
       "\n",
       "    .dataframe thead th {\n",
       "        text-align: right;\n",
       "    }\n",
       "</style>\n",
       "<table border=\"1\" class=\"dataframe\">\n",
       "  <thead>\n",
       "    <tr style=\"text-align: right;\">\n",
       "      <th></th>\n",
       "      <th>Survived</th>\n",
       "      <th>Pclass</th>\n",
       "      <th>Name</th>\n",
       "      <th>Sex</th>\n",
       "      <th>Age</th>\n",
       "      <th>SibSp</th>\n",
       "      <th>Parch</th>\n",
       "      <th>Ticket</th>\n",
       "      <th>Fare</th>\n",
       "      <th>Cabin</th>\n",
       "      <th>Embarked</th>\n",
       "    </tr>\n",
       "    <tr>\n",
       "      <th>PassengerId</th>\n",
       "      <th></th>\n",
       "      <th></th>\n",
       "      <th></th>\n",
       "      <th></th>\n",
       "      <th></th>\n",
       "      <th></th>\n",
       "      <th></th>\n",
       "      <th></th>\n",
       "      <th></th>\n",
       "      <th></th>\n",
       "      <th></th>\n",
       "    </tr>\n",
       "  </thead>\n",
       "  <tbody>\n",
       "    <tr>\n",
       "      <th>1</th>\n",
       "      <td>0</td>\n",
       "      <td>3</td>\n",
       "      <td>Braund, Mr. Owen Harris</td>\n",
       "      <td>male</td>\n",
       "      <td>22.0</td>\n",
       "      <td>1</td>\n",
       "      <td>0</td>\n",
       "      <td>A/5 21171</td>\n",
       "      <td>7.2500</td>\n",
       "      <td>NaN</td>\n",
       "      <td>S</td>\n",
       "    </tr>\n",
       "    <tr>\n",
       "      <th>2</th>\n",
       "      <td>1</td>\n",
       "      <td>1</td>\n",
       "      <td>Cumings, Mrs. John Bradley (Florence Briggs Th...</td>\n",
       "      <td>female</td>\n",
       "      <td>38.0</td>\n",
       "      <td>1</td>\n",
       "      <td>0</td>\n",
       "      <td>PC 17599</td>\n",
       "      <td>71.2833</td>\n",
       "      <td>C85</td>\n",
       "      <td>C</td>\n",
       "    </tr>\n",
       "    <tr>\n",
       "      <th>3</th>\n",
       "      <td>1</td>\n",
       "      <td>3</td>\n",
       "      <td>Heikkinen, Miss. Laina</td>\n",
       "      <td>female</td>\n",
       "      <td>26.0</td>\n",
       "      <td>0</td>\n",
       "      <td>0</td>\n",
       "      <td>STON/O2. 3101282</td>\n",
       "      <td>7.9250</td>\n",
       "      <td>NaN</td>\n",
       "      <td>S</td>\n",
       "    </tr>\n",
       "    <tr>\n",
       "      <th>4</th>\n",
       "      <td>1</td>\n",
       "      <td>1</td>\n",
       "      <td>Futrelle, Mrs. Jacques Heath (Lily May Peel)</td>\n",
       "      <td>female</td>\n",
       "      <td>35.0</td>\n",
       "      <td>1</td>\n",
       "      <td>0</td>\n",
       "      <td>113803</td>\n",
       "      <td>53.1000</td>\n",
       "      <td>C123</td>\n",
       "      <td>S</td>\n",
       "    </tr>\n",
       "    <tr>\n",
       "      <th>5</th>\n",
       "      <td>0</td>\n",
       "      <td>3</td>\n",
       "      <td>Allen, Mr. William Henry</td>\n",
       "      <td>male</td>\n",
       "      <td>35.0</td>\n",
       "      <td>0</td>\n",
       "      <td>0</td>\n",
       "      <td>373450</td>\n",
       "      <td>8.0500</td>\n",
       "      <td>NaN</td>\n",
       "      <td>S</td>\n",
       "    </tr>\n",
       "  </tbody>\n",
       "</table>\n",
       "</div>"
      ],
      "text/plain": [
       "             Survived  Pclass  \\\n",
       "PassengerId                     \n",
       "1                   0       3   \n",
       "2                   1       1   \n",
       "3                   1       3   \n",
       "4                   1       1   \n",
       "5                   0       3   \n",
       "\n",
       "                                                          Name     Sex   Age  \\\n",
       "PassengerId                                                                    \n",
       "1                                      Braund, Mr. Owen Harris    male  22.0   \n",
       "2            Cumings, Mrs. John Bradley (Florence Briggs Th...  female  38.0   \n",
       "3                                       Heikkinen, Miss. Laina  female  26.0   \n",
       "4                 Futrelle, Mrs. Jacques Heath (Lily May Peel)  female  35.0   \n",
       "5                                     Allen, Mr. William Henry    male  35.0   \n",
       "\n",
       "             SibSp  Parch            Ticket     Fare Cabin Embarked  \n",
       "PassengerId                                                          \n",
       "1                1      0         A/5 21171   7.2500   NaN        S  \n",
       "2                1      0          PC 17599  71.2833   C85        C  \n",
       "3                0      0  STON/O2. 3101282   7.9250   NaN        S  \n",
       "4                1      0            113803  53.1000  C123        S  \n",
       "5                0      0            373450   8.0500   NaN        S  "
      ]
     },
     "execution_count": 99,
     "metadata": {},
     "output_type": "execute_result"
    }
   ],
   "source": [
    "# importando titnaic_train\n",
    "train = pd.read_csv(\"../datasets/titanic_train.csv\", index_col = ['PassengerId'])\n",
    "train.head()"
   ]
  },
  {
   "cell_type": "code",
   "execution_count": 100,
   "id": "8d83b7e1-1c35-489f-b66a-a503a476ebd1",
   "metadata": {},
   "outputs": [],
   "source": [
    "train[\"Sex\"] = train[\"Sex\"].replace('male', 0).replace('female',1)\n",
    "train.dropna(inplace = True)"
   ]
  },
  {
   "cell_type": "code",
   "execution_count": 101,
   "id": "2159fbd0-f582-437e-b940-ab8b7937145e",
   "metadata": {},
   "outputs": [],
   "source": [
    "# Features e target\n",
    "X_train = train.drop([\"Survived\", \"Name\", \"Ticket\", \"Cabin\", \"Embarked\"], axis = 1)\n",
    "y_train = train[\"Survived\"]"
   ]
  },
  {
   "cell_type": "code",
   "execution_count": 110,
   "id": "941624a8-8035-497d-9c66-aa923fc3253e",
   "metadata": {},
   "outputs": [
    {
     "data": {
      "text/html": [
       "<div>\n",
       "<style scoped>\n",
       "    .dataframe tbody tr th:only-of-type {\n",
       "        vertical-align: middle;\n",
       "    }\n",
       "\n",
       "    .dataframe tbody tr th {\n",
       "        vertical-align: top;\n",
       "    }\n",
       "\n",
       "    .dataframe thead th {\n",
       "        text-align: right;\n",
       "    }\n",
       "</style>\n",
       "<table border=\"1\" class=\"dataframe\">\n",
       "  <thead>\n",
       "    <tr style=\"text-align: right;\">\n",
       "      <th></th>\n",
       "      <th>Pclass</th>\n",
       "      <th>Sex</th>\n",
       "      <th>Age</th>\n",
       "      <th>SibSp</th>\n",
       "      <th>Parch</th>\n",
       "      <th>Fare</th>\n",
       "    </tr>\n",
       "    <tr>\n",
       "      <th>PassengerId</th>\n",
       "      <th></th>\n",
       "      <th></th>\n",
       "      <th></th>\n",
       "      <th></th>\n",
       "      <th></th>\n",
       "      <th></th>\n",
       "    </tr>\n",
       "  </thead>\n",
       "  <tbody>\n",
       "    <tr>\n",
       "      <th>2</th>\n",
       "      <td>1</td>\n",
       "      <td>1</td>\n",
       "      <td>38.0</td>\n",
       "      <td>1</td>\n",
       "      <td>0</td>\n",
       "      <td>71.2833</td>\n",
       "    </tr>\n",
       "    <tr>\n",
       "      <th>4</th>\n",
       "      <td>1</td>\n",
       "      <td>1</td>\n",
       "      <td>35.0</td>\n",
       "      <td>1</td>\n",
       "      <td>0</td>\n",
       "      <td>53.1000</td>\n",
       "    </tr>\n",
       "    <tr>\n",
       "      <th>7</th>\n",
       "      <td>1</td>\n",
       "      <td>0</td>\n",
       "      <td>54.0</td>\n",
       "      <td>0</td>\n",
       "      <td>0</td>\n",
       "      <td>51.8625</td>\n",
       "    </tr>\n",
       "    <tr>\n",
       "      <th>11</th>\n",
       "      <td>3</td>\n",
       "      <td>1</td>\n",
       "      <td>4.0</td>\n",
       "      <td>1</td>\n",
       "      <td>1</td>\n",
       "      <td>16.7000</td>\n",
       "    </tr>\n",
       "    <tr>\n",
       "      <th>12</th>\n",
       "      <td>1</td>\n",
       "      <td>1</td>\n",
       "      <td>58.0</td>\n",
       "      <td>0</td>\n",
       "      <td>0</td>\n",
       "      <td>26.5500</td>\n",
       "    </tr>\n",
       "  </tbody>\n",
       "</table>\n",
       "</div>"
      ],
      "text/plain": [
       "             Pclass  Sex   Age  SibSp  Parch     Fare\n",
       "PassengerId                                          \n",
       "2                 1    1  38.0      1      0  71.2833\n",
       "4                 1    1  35.0      1      0  53.1000\n",
       "7                 1    0  54.0      0      0  51.8625\n",
       "11                3    1   4.0      1      1  16.7000\n",
       "12                1    1  58.0      0      0  26.5500"
      ]
     },
     "execution_count": 110,
     "metadata": {},
     "output_type": "execute_result"
    }
   ],
   "source": [
    "X_train.head()"
   ]
  },
  {
   "cell_type": "code",
   "execution_count": 102,
   "id": "034baf1d-b3d7-4293-b76f-48e0f81bca29",
   "metadata": {},
   "outputs": [],
   "source": [
    "from sklearn.ensemble import GradientBoostingClassifier\n",
    "gb = GradientBoostingClassifier(random_state = 42).fit(X_train, y_train)"
   ]
  },
  {
   "cell_type": "code",
   "execution_count": 103,
   "id": "be54d381-ab49-47ae-93a7-78f714d187db",
   "metadata": {},
   "outputs": [
    {
     "name": "stderr",
     "output_type": "stream",
     "text": [
      "ntree_limit is deprecated, use `iteration_range` or model slicing instead.\n"
     ]
    }
   ],
   "source": [
    "# importando SHAP\n",
    "import shap\n",
    "\n",
    "explainer = shap.Explainer(xgb)\n",
    "shap_values = explainer.shap_values(X_train)"
   ]
  },
  {
   "cell_type": "code",
   "execution_count": 111,
   "id": "e092eed1-0a9d-4402-be9b-a1c6abbd219c",
   "metadata": {},
   "outputs": [
    {
     "data": {
      "text/plain": [
       "array([[ 1.9769708 ,  3.0309463 , -0.5845689 ,  0.04686328,  0.31281638,\n",
       "         1.2972862 ],\n",
       "       [ 1.9491785 ,  3.2494133 ,  0.77489   , -0.2613299 ,  0.2291048 ,\n",
       "         1.5355054 ],\n",
       "       [ 0.6615127 , -1.7904929 , -1.0277811 , -0.06156458,  0.14880398,\n",
       "        -0.56691086],\n",
       "       ...,\n",
       "       [ 2.051711  ,  3.2063024 , -1.467487  ,  0.1568518 , -0.15499914,\n",
       "         1.3855705 ],\n",
       "       [ 2.3871996 ,  2.9019668 , -0.28600273,  0.18845317,  0.05188017,\n",
       "         0.8658219 ],\n",
       "       [ 1.4183115 , -0.97801787,  1.1468692 ,  0.32132396,  0.07369465,\n",
       "         1.936062  ]], dtype=float32)"
      ]
     },
     "execution_count": 111,
     "metadata": {},
     "output_type": "execute_result"
    }
   ],
   "source": [
    "shap_values"
   ]
  },
  {
   "cell_type": "code",
   "execution_count": 105,
   "id": "dd05672d-72a8-44cf-bbe7-ec1388f834a6",
   "metadata": {},
   "outputs": [
    {
     "data": {
      "text/html": [
       "<div>\n",
       "<style scoped>\n",
       "    .dataframe tbody tr th:only-of-type {\n",
       "        vertical-align: middle;\n",
       "    }\n",
       "\n",
       "    .dataframe tbody tr th {\n",
       "        vertical-align: top;\n",
       "    }\n",
       "\n",
       "    .dataframe thead th {\n",
       "        text-align: right;\n",
       "    }\n",
       "</style>\n",
       "<table border=\"1\" class=\"dataframe\">\n",
       "  <thead>\n",
       "    <tr style=\"text-align: right;\">\n",
       "      <th></th>\n",
       "      <th>0</th>\n",
       "      <th>1</th>\n",
       "      <th>2</th>\n",
       "      <th>3</th>\n",
       "      <th>4</th>\n",
       "      <th>5</th>\n",
       "    </tr>\n",
       "  </thead>\n",
       "  <tbody>\n",
       "    <tr>\n",
       "      <th>0</th>\n",
       "      <td>1.976971</td>\n",
       "      <td>3.030946</td>\n",
       "      <td>-0.584569</td>\n",
       "      <td>0.046863</td>\n",
       "      <td>0.312816</td>\n",
       "      <td>1.297286</td>\n",
       "    </tr>\n",
       "    <tr>\n",
       "      <th>1</th>\n",
       "      <td>1.949178</td>\n",
       "      <td>3.249413</td>\n",
       "      <td>0.774890</td>\n",
       "      <td>-0.261330</td>\n",
       "      <td>0.229105</td>\n",
       "      <td>1.535505</td>\n",
       "    </tr>\n",
       "    <tr>\n",
       "      <th>2</th>\n",
       "      <td>0.661513</td>\n",
       "      <td>-1.790493</td>\n",
       "      <td>-1.027781</td>\n",
       "      <td>-0.061565</td>\n",
       "      <td>0.148804</td>\n",
       "      <td>-0.566911</td>\n",
       "    </tr>\n",
       "    <tr>\n",
       "      <th>3</th>\n",
       "      <td>-0.740514</td>\n",
       "      <td>0.825979</td>\n",
       "      <td>3.247400</td>\n",
       "      <td>0.209679</td>\n",
       "      <td>0.171765</td>\n",
       "      <td>0.533471</td>\n",
       "    </tr>\n",
       "    <tr>\n",
       "      <th>4</th>\n",
       "      <td>1.703497</td>\n",
       "      <td>2.799813</td>\n",
       "      <td>-2.633749</td>\n",
       "      <td>0.215289</td>\n",
       "      <td>0.157868</td>\n",
       "      <td>0.322045</td>\n",
       "    </tr>\n",
       "    <tr>\n",
       "      <th>...</th>\n",
       "      <td>...</td>\n",
       "      <td>...</td>\n",
       "      <td>...</td>\n",
       "      <td>...</td>\n",
       "      <td>...</td>\n",
       "      <td>...</td>\n",
       "    </tr>\n",
       "    <tr>\n",
       "      <th>178</th>\n",
       "      <td>2.143072</td>\n",
       "      <td>2.991342</td>\n",
       "      <td>-1.553512</td>\n",
       "      <td>-0.013160</td>\n",
       "      <td>0.055904</td>\n",
       "      <td>1.777155</td>\n",
       "    </tr>\n",
       "    <tr>\n",
       "      <th>179</th>\n",
       "      <td>0.993927</td>\n",
       "      <td>-1.436513</td>\n",
       "      <td>-0.803233</td>\n",
       "      <td>0.158861</td>\n",
       "      <td>0.020859</td>\n",
       "      <td>-2.838970</td>\n",
       "    </tr>\n",
       "    <tr>\n",
       "      <th>180</th>\n",
       "      <td>2.051711</td>\n",
       "      <td>3.206302</td>\n",
       "      <td>-1.467487</td>\n",
       "      <td>0.156852</td>\n",
       "      <td>-0.154999</td>\n",
       "      <td>1.385571</td>\n",
       "    </tr>\n",
       "    <tr>\n",
       "      <th>181</th>\n",
       "      <td>2.387200</td>\n",
       "      <td>2.901967</td>\n",
       "      <td>-0.286003</td>\n",
       "      <td>0.188453</td>\n",
       "      <td>0.051880</td>\n",
       "      <td>0.865822</td>\n",
       "    </tr>\n",
       "    <tr>\n",
       "      <th>182</th>\n",
       "      <td>1.418311</td>\n",
       "      <td>-0.978018</td>\n",
       "      <td>1.146869</td>\n",
       "      <td>0.321324</td>\n",
       "      <td>0.073695</td>\n",
       "      <td>1.936062</td>\n",
       "    </tr>\n",
       "  </tbody>\n",
       "</table>\n",
       "<p>183 rows × 6 columns</p>\n",
       "</div>"
      ],
      "text/plain": [
       "            0         1         2         3         4         5\n",
       "0    1.976971  3.030946 -0.584569  0.046863  0.312816  1.297286\n",
       "1    1.949178  3.249413  0.774890 -0.261330  0.229105  1.535505\n",
       "2    0.661513 -1.790493 -1.027781 -0.061565  0.148804 -0.566911\n",
       "3   -0.740514  0.825979  3.247400  0.209679  0.171765  0.533471\n",
       "4    1.703497  2.799813 -2.633749  0.215289  0.157868  0.322045\n",
       "..        ...       ...       ...       ...       ...       ...\n",
       "178  2.143072  2.991342 -1.553512 -0.013160  0.055904  1.777155\n",
       "179  0.993927 -1.436513 -0.803233  0.158861  0.020859 -2.838970\n",
       "180  2.051711  3.206302 -1.467487  0.156852 -0.154999  1.385571\n",
       "181  2.387200  2.901967 -0.286003  0.188453  0.051880  0.865822\n",
       "182  1.418311 -0.978018  1.146869  0.321324  0.073695  1.936062\n",
       "\n",
       "[183 rows x 6 columns]"
      ]
     },
     "execution_count": 105,
     "metadata": {},
     "output_type": "execute_result"
    }
   ],
   "source": [
    "pd.DataFrame(shap_values)"
   ]
  },
  {
   "cell_type": "markdown",
   "id": "57dee06e-44dd-402d-9ebf-80bc1da0afe0",
   "metadata": {},
   "source": [
    "### Como é feito a avaliação"
   ]
  },
  {
   "cell_type": "code",
   "execution_count": 106,
   "id": "687cef3d-0eaa-40f8-983a-8c5adc26cd3c",
   "metadata": {},
   "outputs": [
    {
     "data": {
      "text/plain": [
       "array([ 1.9769708 ,  3.0309463 , -0.5845689 ,  0.04686328,  0.31281638,\n",
       "        1.2972862 ], dtype=float32)"
      ]
     },
     "execution_count": 106,
     "metadata": {},
     "output_type": "execute_result"
    }
   ],
   "source": [
    "shap_values[0]"
   ]
  },
  {
   "cell_type": "code",
   "execution_count": 107,
   "id": "c1d9fc20-4bbf-4106-92ed-14d541c1263b",
   "metadata": {},
   "outputs": [
    {
     "data": {
      "text/plain": [
       "6.0803137"
      ]
     },
     "execution_count": 107,
     "metadata": {},
     "output_type": "execute_result"
    }
   ],
   "source": [
    "# logit\n",
    "f_x = shap_values[0].sum() \n",
    "f_x"
   ]
  },
  {
   "cell_type": "code",
   "execution_count": 108,
   "id": "1bc190cf-4e1b-43a6-8181-fe0529f553c4",
   "metadata": {},
   "outputs": [
    {
     "name": "stdout",
     "output_type": "stream",
     "text": [
      "Conversão do f(x) em probabilidade:  0.997717761447706\n",
      "Valor predito:  [[0.0042491 0.9957509]]\n"
     ]
    }
   ],
   "source": [
    "import numpy as np\n",
    "def logodds2prob(logit):\n",
    "    # exp(logit) = odds\n",
    "    odds = np.exp(logit)\n",
    "    # p = odds/(1+odds)\n",
    "    prob = odds / (1 + odds)\n",
    "    return prob\n",
    "\n",
    "print('Conversão do f(x) em probabilidade: ', logodds2prob(f_x))\n",
    "print('Valor predito: ', xgb.predict_proba(X_train.iloc[[0]]))\n",
    "# a princípio prob devia ser igual a xgb.predict_proba(X_train.iloc[[0]])[1]"
   ]
  },
  {
   "cell_type": "code",
   "execution_count": 109,
   "id": "3e3122f1-3a29-4cba-bf4d-7949fe79b73c",
   "metadata": {},
   "outputs": [
    {
     "data": {
      "text/plain": [
       "PassengerId\n",
       "2    1\n",
       "Name: Survived, dtype: int64"
      ]
     },
     "execution_count": 109,
     "metadata": {},
     "output_type": "execute_result"
    }
   ],
   "source": [
    "y_train.head(1)"
   ]
  },
  {
   "cell_type": "markdown",
   "id": "a559e4d5-c6bd-48a5-8e62-dc6cedc5a986",
   "metadata": {},
   "source": [
    "Cada linha do SHAP_values representa uma única previsão feita pelo modelo. Cada coluna representa a feature usada no modelo. Cada SHAP value representa o quanto essa feature contribuiu para o output da previsão de cada observação (cada linha).\n",
    "\n",
    "**Valores de SHAP positivos siginifica impactos positivos na predição levando o modelo a prever 1 (no exemplo, o Passageiro sobreviver). Enquanto valores de SHAP negativos significa um impacto negativo, levando o modelo a prever 0 (o passageiro não sobreviveu).**"
   ]
  },
  {
   "cell_type": "markdown",
   "id": "7ca1cddb-3cf7-430a-a1f9-fd50c20646c6",
   "metadata": {},
   "source": [
    "### Feature Importance"
   ]
  },
  {
   "cell_type": "code",
   "execution_count": 112,
   "id": "93be83c2-0376-4ce6-b982-1f0318ce24ba",
   "metadata": {},
   "outputs": [
    {
     "data": {
      "image/png": "[encoded data removed]",
      "text/plain": [
       "<Figure size 576x280.8 with 1 Axes>"
      ]
     },
     "metadata": {
      "needs_background": "light"
     },
     "output_type": "display_data"
    }
   ],
   "source": [
    "shap.summary_plot(shap_values, X_train, plot_type = 'bar')"
   ]
  },
  {
   "cell_type": "markdown",
   "id": "c6590a0c-9029-4847-a84d-59f75cc35849",
   "metadata": {},
   "source": [
    "As features estão ordenadas em quanto elas influenciam a predição do modelo. O eixo-X representa a média absoluta do SHAP value para cad afeature."
   ]
  },
  {
   "cell_type": "markdown",
   "id": "52dcd77c-c723-4f9a-8150-6550319e86d2",
   "metadata": {},
   "source": [
    "### Directionality impact"
   ]
  },
  {
   "cell_type": "code",
   "execution_count": 113,
   "id": "009cd1c4-5e80-4704-9d9f-3e28c32b41d1",
   "metadata": {},
   "outputs": [
    {
     "data": {
      "image/png": "[encoded data removed]",
      "text/plain": [
       "<Figure size 576x280.8 with 2 Axes>"
      ]
     },
     "metadata": {
      "needs_background": "light"
     },
     "output_type": "display_data"
    }
   ],
   "source": [
    "shap.summary_plot(shap_values, X_train)"
   ]
  },
  {
   "cell_type": "markdown",
   "id": "236b86e6-770c-493d-935c-ac78ddb4eaf8",
   "metadata": {},
   "source": [
    "Cada ponto no chart é um valor SHAP para a predição de uma feature. Vermelho significa alto valor da feature (no caso de \"Sex\" é 1 para female). Azul siginifica baixo valor (ou 0, para male). Podemos ter um senso de impacto de direcionalidae baseado na distribuição de vermelhos e azuis. No caso de 'Sex', azul tende a ter menos chance de sobreviver. Altos valores, '1' no caso, tende a ter mais chances de soberviver.Altos valores de 'Pclass' tende a não sobreviver (3º classe), enquanto baixos valores tende a sobreviver (1º classe).  "
   ]
  }
 ],
 "metadata": {
  "kernelspec": {
   "display_name": "Python 3",
   "language": "python",
   "name": "python3"
  },
  "language_info": {
   "codemirror_mode": {
    "name": "ipython",
    "version": 3
   },
   "file_extension": ".py",
   "mimetype": "text/x-python",
   "name": "python",
   "nbconvert_exporter": "python",
   "pygments_lexer": "ipython3",
   "version": "3.8.8"
  }
 },
 "nbformat": 4,
 "nbformat_minor": 5
}
