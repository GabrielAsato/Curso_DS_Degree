{
 "cells": [
  {
   "cell_type": "markdown",
   "id": "d378be21-3d81-47c4-8b79-f69c23ef0f38",
   "metadata": {},
   "source": [
    "# Estudando feature selection"
   ]
  },
  {
   "cell_type": "code",
   "execution_count": 1,
   "id": "da70f8ce-6ac4-46a9-a7e0-ccdfaae5a2d4",
   "metadata": {},
   "outputs": [],
   "source": [
    "# Bibliotecas\n",
    "import numpy  as np\n",
    "import pandas as pd \n",
    "\n",
    "import matplotlib.pyplot as plt\n",
    "import seaborn as sns\n",
    "\n",
    "from sklearn.model_selection import train_test_split\n",
    "\n",
    "import warnings\n",
    "warnings.filterwarnings('ignore')"
   ]
  },
  {
   "cell_type": "code",
   "execution_count": 2,
   "id": "2b807687-d173-42f9-ba4c-a26bfbf78e07",
   "metadata": {},
   "outputs": [],
   "source": [
    "# Função de avaliação\n",
    "from sklearn.metrics import classification_report, ConfusionMatrixDisplay\n",
    "\n",
    "def metricas_classificacao(estimator, X_train, X_test, y_train, y_test):\n",
    "    \n",
    "    # ============================================\n",
    "\n",
    "    print(\"\\nMétricas de avaliação de treino:\")\n",
    "\n",
    "    y_pred_train = estimator.predict(X_train)\n",
    "\n",
    "    ConfusionMatrixDisplay.from_predictions(y_train, y_pred_train)\n",
    "    plt.show()\n",
    "\n",
    "    print(classification_report(y_train, y_pred_train))\n",
    "\n",
    "    # ============================================\n",
    "\n",
    "    print(\"\\nMétricas de avaliação de teste:\")\n",
    "\n",
    "    y_pred_test = estimator.predict(X_test)\n",
    "\n",
    "    ConfusionMatrixDisplay.from_predictions(y_test, y_pred_test)\n",
    "    plt.show()\n",
    "\n",
    "    print(classification_report(y_test, y_pred_test))"
   ]
  },
  {
   "cell_type": "code",
   "execution_count": 3,
   "id": "4037f264-3c1c-445d-9bba-7573e57df1e1",
   "metadata": {},
   "outputs": [],
   "source": [
    "from sklearn import datasets\n",
    "\n",
    "# Load do Dataset Breast Cancer\n",
    "bc = datasets.load_breast_cancer(as_frame=True)\n",
    "X = bc.data\n",
    "y = bc.target"
   ]
  },
  {
   "cell_type": "markdown",
   "id": "1fc9e9e2-091b-4de4-b3fd-9ef3ccce9603",
   "metadata": {},
   "source": [
    "## Analisando o dataset"
   ]
  },
  {
   "cell_type": "code",
   "execution_count": 4,
   "id": "82228e33-d322-4f04-aab8-0f7249bc3009",
   "metadata": {},
   "outputs": [
    {
     "name": "stdout",
     "output_type": "stream",
     "text": [
      "<class 'pandas.core.frame.DataFrame'>\n",
      "RangeIndex: 569 entries, 0 to 568\n",
      "Data columns (total 30 columns):\n",
      " #   Column                   Non-Null Count  Dtype  \n",
      "---  ------                   --------------  -----  \n",
      " 0   mean radius              569 non-null    float64\n",
      " 1   mean texture             569 non-null    float64\n",
      " 2   mean perimeter           569 non-null    float64\n",
      " 3   mean area                569 non-null    float64\n",
      " 4   mean smoothness          569 non-null    float64\n",
      " 5   mean compactness         569 non-null    float64\n",
      " 6   mean concavity           569 non-null    float64\n",
      " 7   mean concave points      569 non-null    float64\n",
      " 8   mean symmetry            569 non-null    float64\n",
      " 9   mean fractal dimension   569 non-null    float64\n",
      " 10  radius error             569 non-null    float64\n",
      " 11  texture error            569 non-null    float64\n",
      " 12  perimeter error          569 non-null    float64\n",
      " 13  area error               569 non-null    float64\n",
      " 14  smoothness error         569 non-null    float64\n",
      " 15  compactness error        569 non-null    float64\n",
      " 16  concavity error          569 non-null    float64\n",
      " 17  concave points error     569 non-null    float64\n",
      " 18  symmetry error           569 non-null    float64\n",
      " 19  fractal dimension error  569 non-null    float64\n",
      " 20  worst radius             569 non-null    float64\n",
      " 21  worst texture            569 non-null    float64\n",
      " 22  worst perimeter          569 non-null    float64\n",
      " 23  worst area               569 non-null    float64\n",
      " 24  worst smoothness         569 non-null    float64\n",
      " 25  worst compactness        569 non-null    float64\n",
      " 26  worst concavity          569 non-null    float64\n",
      " 27  worst concave points     569 non-null    float64\n",
      " 28  worst symmetry           569 non-null    float64\n",
      " 29  worst fractal dimension  569 non-null    float64\n",
      "dtypes: float64(30)\n",
      "memory usage: 133.5 KB\n"
     ]
    }
   ],
   "source": [
    "X.info()"
   ]
  },
  {
   "cell_type": "code",
   "execution_count": 10,
   "id": "24dad142-905a-47b3-ab5a-2f9a855b2d2f",
   "metadata": {},
   "outputs": [],
   "source": [
    "from sklearn.preprocessing import MinMaxScaler\n",
    "from sklearn.model_selection import train_test_split"
   ]
  },
  {
   "cell_type": "code",
   "execution_count": 11,
   "id": "428f91c3-25f3-4397-b638-b54fe59de1cc",
   "metadata": {},
   "outputs": [],
   "source": [
    "X_train, X_test, y_train, y_test = train_test_split(X, y, test_size = 0.3, random_state = 42, stratify=y)"
   ]
  },
  {
   "cell_type": "markdown",
   "id": "c9223767-6e95-48c4-86a9-bfee1f08001d",
   "metadata": {},
   "source": [
    "## Feature Selection"
   ]
  },
  {
   "cell_type": "markdown",
   "id": "f9e3eceb-7d27-4bfe-8db5-00b9b95be534",
   "metadata": {},
   "source": [
    "Seleção de atributos consiste na escolha, com base em alguns critérios, de um **subconjunto original** de features de um dado problema que proporcione um modelo com performance comparável. O resultado do processo é uma **redução de dimensionalidade** do espaço de features, mas mantendo o espaço de features originais."
   ]
  },
  {
   "cell_type": "markdown",
   "id": "3f7ef200-8e84-4c1c-98d1-3b6c7f321cf3",
   "metadata": {},
   "source": [
    "Diferentes combinações de features são selecionadas, avaliadas utilizando um modelo e comparadas com as outras combinações com base dos resultados desse estimador. Dessa forma, a escolha das features depende do estimador escolhido e a **busca será feira em todas as possíveis combinações de features utiliznado a métrica escolhida**.\n",
    "\n",
    "#### Backward elimination - RFE\n",
    "Feature ranking with recursive feature elimination. Given an external estimator that assigns weigths to features (e.g., the coefficients of a linear model), the goal of a recursive feature elimination (RFE) is to select features by recursively considering smaller and smaller sets of features. First, the estimator is trained on the initial set of features and the importance of each feature is obtained either through any specific attribute or callable. Then, the least important features are pruned from current set of features. That procedure is recursively repeated on the pruned set until the desired number of features to select is eventually reached.\n",
    "\n",
    "Parameters:\n",
    "- estimator : superviser learning that provides information about the feature importance (esse método (RFE) só funciona com estimadores que retornam coef_, feature_importances_)\n",
    "- n_features_to_select : number of features to select. If it is float, it is the fraction of features to select.\n",
    "\n",
    "Attributes\n",
    "- feature_names_in_ : names of features seen during .fit()\n",
    "- ranking_ : Corresponds the ranking position of the i-th feature. Selected features are assigned rank 1\n",
    "- support_ : mask of selected features"
   ]
  },
  {
   "cell_type": "code",
   "execution_count": 5,
   "id": "7a5d53b1-c574-4f38-bded-4e16c8ba92ce",
   "metadata": {},
   "outputs": [],
   "source": [
    "# Importando o método e o estimador\n",
    "from sklearn.feature_selection import RFE\n",
    "from sklearn.tree import DecisionTreeClassifier"
   ]
  },
  {
   "cell_type": "code",
   "execution_count": 13,
   "id": "5d527232-5ed8-4518-a4d2-0f1ea91d6c8e",
   "metadata": {},
   "outputs": [],
   "source": [
    "# Instaciamento e fit com rfe\n",
    "dt = DecisionTreeClassifier(random_state = 42)\n",
    "rfe = RFE(estimator=dt , n_features_to_select=10).fit(X_train, y_train)"
   ]
  },
  {
   "cell_type": "code",
   "execution_count": 41,
   "id": "42a69c7c-fbe8-40b3-90b9-312e6cf06b4c",
   "metadata": {},
   "outputs": [
    {
     "data": {
      "text/plain": [
       "array([False, False, False, False, False, False, False, False, False,\n",
       "        True, False,  True, False,  True,  True, False, False, False,\n",
       "       False, False,  True,  True, False, False, False,  True,  True,\n",
       "        True,  True, False])"
      ]
     },
     "execution_count": 41,
     "metadata": {},
     "output_type": "execute_result"
    }
   ],
   "source": [
    "# support_ retorna uma máscara com as features selecionadas\n",
    "mask = rfe.support_\n",
    "mask"
   ]
  },
  {
   "cell_type": "code",
   "execution_count": 15,
   "id": "0a446681-b713-4473-bcf5-b0007fcba187",
   "metadata": {},
   "outputs": [
    {
     "data": {
      "text/plain": [
       "array([21, 19, 18, 17, 16, 15, 14, 12, 10,  1,  9,  1,  7,  1,  1, 20,  6,\n",
       "        5, 13, 11,  1,  1,  4,  3,  2,  1,  1,  1,  1,  8])"
      ]
     },
     "execution_count": 15,
     "metadata": {},
     "output_type": "execute_result"
    }
   ],
   "source": [
    "rfe.ranking_"
   ]
  },
  {
   "cell_type": "code",
   "execution_count": 47,
   "id": "d1f6f670-dc16-4211-841a-52738d134a91",
   "metadata": {},
   "outputs": [
    {
     "data": {
      "text/plain": [
       "Index(['mean radius', 'mean texture', 'mean perimeter', 'mean area',\n",
       "       'mean smoothness', 'mean compactness', 'mean concavity',\n",
       "       'mean concave points', 'mean symmetry', 'mean fractal dimension',\n",
       "       'radius error', 'texture error', 'perimeter error', 'area error',\n",
       "       'smoothness error', 'compactness error', 'concavity error',\n",
       "       'concave points error', 'symmetry error', 'fractal dimension error',\n",
       "       'worst radius', 'worst texture', 'worst perimeter', 'worst area',\n",
       "       'worst smoothness', 'worst compactness', 'worst concavity',\n",
       "       'worst concave points', 'worst symmetry', 'worst fractal dimension'],\n",
       "      dtype='object')"
      ]
     },
     "execution_count": 47,
     "metadata": {},
     "output_type": "execute_result"
    }
   ],
   "source": [
    "X.columns"
   ]
  },
  {
   "cell_type": "code",
   "execution_count": 54,
   "id": "a8607f38-956f-4341-a2dd-070910648e4f",
   "metadata": {},
   "outputs": [
    {
     "data": {
      "text/plain": [
       "Index(['worst fractal dimension'], dtype='object')"
      ]
     },
     "execution_count": 54,
     "metadata": {},
     "output_type": "execute_result"
    }
   ],
   "source": [
    "# Como usar a máscara para selecionar o nome das colunas - funciona se usar uma lista ou array de booleans com o mesmo length de columns\n",
    "selected_feat = X.columns[[False,False,False,False,False,False,False,False,False, False,\n",
    "                           False,False,False,False,False,False,False,False,False, False,\n",
    "                           False,False,False,False,False,False,False,False,False, True]]\n",
    "selected_feat"
   ]
  },
  {
   "cell_type": "code",
   "execution_count": 55,
   "id": "d9fc3545-69fb-4859-bbb8-aef4bddbc684",
   "metadata": {},
   "outputs": [
    {
     "data": {
      "text/plain": [
       "Index(['mean fractal dimension', 'texture error', 'area error',\n",
       "       'smoothness error', 'worst radius', 'worst texture',\n",
       "       'worst compactness', 'worst concavity', 'worst concave points',\n",
       "       'worst symmetry'],\n",
       "      dtype='object')"
      ]
     },
     "execution_count": 55,
     "metadata": {},
     "output_type": "execute_result"
    }
   ],
   "source": [
    "# ou\n",
    "selected_feat = X.columns[mask]\n",
    "selected_feat"
   ]
  },
  {
   "cell_type": "markdown",
   "id": "20932d94-383d-4da4-80f3-46998aa71a1c",
   "metadata": {},
   "source": [
    "#### ANOVA\n",
    "\n",
    "Pressupões que as variáveis são contínuas de uma lado e categóricas do outro. Para avaliar as features mais importantes, ela compara os grupos categóricos analisando se há uma igual variância nos dados contínuos. Se par aos diferentes grupos temos uma mesma variância, isso significa que essa feature contínua não é relevante para separar os grupos e, portanto, pode serr eliminada da modelagem. "
   ]
  },
  {
   "cell_type": "code",
   "execution_count": 17,
   "id": "0f7ad431-e7b6-4389-9536-01650879b201",
   "metadata": {},
   "outputs": [],
   "source": [
    "from sklearn.feature_selection import SelectKBest, f_classif"
   ]
  },
  {
   "cell_type": "code",
   "execution_count": 18,
   "id": "e3d85556-ed50-4eca-a9ff-d4160284e442",
   "metadata": {},
   "outputs": [
    {
     "name": "stdout",
     "output_type": "stream",
     "text": [
      "A quantidade de features antes era de 30, agora é de 10\n"
     ]
    }
   ],
   "source": [
    "fs = SelectKBest(score_func = f_classif, k = 10)\n",
    "X_new = fs.fit_transform(X_train, y_train)\n",
    "print(f\"A quantidade de features antes era de {X_train.shape[1]}, agora é de {X_new.shape[1]}\")"
   ]
  },
  {
   "cell_type": "code",
   "execution_count": 19,
   "id": "cfe915f9-1002-4999-a1cb-1f71194767c5",
   "metadata": {},
   "outputs": [
    {
     "data": {
      "text/plain": [
       "array(['mean radius', 'mean perimeter', 'mean area', 'mean concavity',\n",
       "       'mean concave points', 'worst radius', 'worst perimeter',\n",
       "       'worst area', 'worst concavity', 'worst concave points'],\n",
       "      dtype=object)"
      ]
     },
     "execution_count": 19,
     "metadata": {},
     "output_type": "execute_result"
    }
   ],
   "source": [
    "fs.get_feature_names_out()"
   ]
  },
  {
   "cell_type": "code",
   "execution_count": 24,
   "id": "fbde32a1-046a-4920-a830-895da14a151b",
   "metadata": {},
   "outputs": [
    {
     "data": {
      "text/plain": [
       "array([4.80594009e+02, 7.30809534e+01, 5.19551421e+02, 4.50499138e+02,\n",
       "       6.82480951e+01, 2.35101305e+02, 3.65480510e+02, 6.35025749e+02,\n",
       "       5.24483545e+01, 5.31343724e-03, 2.22806961e+02, 1.27184749e+00,\n",
       "       2.06798349e+02, 2.78960274e+02, 5.34605383e+00, 3.51063285e+01,\n",
       "       2.36099869e+01, 7.68295227e+01, 5.00864231e-02, 7.85634972e-01,\n",
       "       6.17391336e+02, 9.84586408e+01, 6.43459905e+02, 4.86344354e+02,\n",
       "       9.34278899e+01, 2.37748913e+02, 3.35294070e+02, 7.32283255e+02,\n",
       "       9.58762662e+01, 5.19076118e+01])"
      ]
     },
     "execution_count": 24,
     "metadata": {},
     "output_type": "execute_result"
    }
   ],
   "source": [
    "fs.scores_"
   ]
  },
  {
   "cell_type": "code",
   "execution_count": 39,
   "id": "9a5520cb-8981-4e33-a8d1-f51ce75f66fd",
   "metadata": {},
   "outputs": [
    {
     "data": {
      "text/html": [
       "<div>\n",
       "<style scoped>\n",
       "    .dataframe tbody tr th:only-of-type {\n",
       "        vertical-align: middle;\n",
       "    }\n",
       "\n",
       "    .dataframe tbody tr th {\n",
       "        vertical-align: top;\n",
       "    }\n",
       "\n",
       "    .dataframe thead th {\n",
       "        text-align: right;\n",
       "    }\n",
       "</style>\n",
       "<table border=\"1\" class=\"dataframe\">\n",
       "  <thead>\n",
       "    <tr style=\"text-align: right;\">\n",
       "      <th></th>\n",
       "      <th>Features</th>\n",
       "      <th>scores</th>\n",
       "    </tr>\n",
       "  </thead>\n",
       "  <tbody>\n",
       "    <tr>\n",
       "      <th>7</th>\n",
       "      <td>worst area</td>\n",
       "      <td>635.025749</td>\n",
       "    </tr>\n",
       "    <tr>\n",
       "      <th>2</th>\n",
       "      <td>mean area</td>\n",
       "      <td>519.551421</td>\n",
       "    </tr>\n",
       "    <tr>\n",
       "      <th>0</th>\n",
       "      <td>mean radius</td>\n",
       "      <td>480.594009</td>\n",
       "    </tr>\n",
       "    <tr>\n",
       "      <th>3</th>\n",
       "      <td>mean concavity</td>\n",
       "      <td>450.499138</td>\n",
       "    </tr>\n",
       "    <tr>\n",
       "      <th>6</th>\n",
       "      <td>worst perimeter</td>\n",
       "      <td>365.480510</td>\n",
       "    </tr>\n",
       "    <tr>\n",
       "      <th>5</th>\n",
       "      <td>worst radius</td>\n",
       "      <td>235.101305</td>\n",
       "    </tr>\n",
       "    <tr>\n",
       "      <th>1</th>\n",
       "      <td>mean perimeter</td>\n",
       "      <td>73.080953</td>\n",
       "    </tr>\n",
       "    <tr>\n",
       "      <th>4</th>\n",
       "      <td>mean concave points</td>\n",
       "      <td>68.248095</td>\n",
       "    </tr>\n",
       "    <tr>\n",
       "      <th>8</th>\n",
       "      <td>worst concavity</td>\n",
       "      <td>52.448354</td>\n",
       "    </tr>\n",
       "    <tr>\n",
       "      <th>9</th>\n",
       "      <td>worst concave points</td>\n",
       "      <td>0.005313</td>\n",
       "    </tr>\n",
       "  </tbody>\n",
       "</table>\n",
       "</div>"
      ],
      "text/plain": [
       "               Features      scores\n",
       "7            worst area  635.025749\n",
       "2             mean area  519.551421\n",
       "0           mean radius  480.594009\n",
       "3        mean concavity  450.499138\n",
       "6       worst perimeter  365.480510\n",
       "5          worst radius  235.101305\n",
       "1        mean perimeter   73.080953\n",
       "4   mean concave points   68.248095\n",
       "8       worst concavity   52.448354\n",
       "9  worst concave points    0.005313"
      ]
     },
     "execution_count": 39,
     "metadata": {},
     "output_type": "execute_result"
    }
   ],
   "source": [
    "data = zip(fs.get_feature_names_out(), fs.scores_)\n",
    "data_df = pd.DataFrame(data, columns=[\"Features\", \"scores\"])\n",
    "data_df.sort_values(by = 'scores', ascending = False)"
   ]
  }
 ],
 "metadata": {
  "kernelspec": {
   "display_name": "Python 3",
   "language": "python",
   "name": "python3"
  },
  "language_info": {
   "codemirror_mode": {
    "name": "ipython",
    "version": 3
   },
   "file_extension": ".py",
   "mimetype": "text/x-python",
   "name": "python",
   "nbconvert_exporter": "python",
   "pygments_lexer": "ipython3",
   "version": "3.8.8"
  }
 },
 "nbformat": 4,
 "nbformat_minor": 5
}
