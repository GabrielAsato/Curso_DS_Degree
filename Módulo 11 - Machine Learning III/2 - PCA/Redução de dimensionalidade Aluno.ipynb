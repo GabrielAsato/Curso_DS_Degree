{
 "cells": [
  {
   "cell_type": "markdown",
   "metadata": {},
   "source": [
    "# Aula 16 - redução de dimensionalidade\n",
    "\n",
    "Na aula de hoje, vamos explorar os seguintes tópicos em Python:\n",
    "\n",
    "- 1) PCA\n",
    "- 2) PCA na Pipeline\n",
    "- 3) Vantagens e Desvantagens\n"
   ]
  },
  {
   "cell_type": "markdown",
   "metadata": {},
   "source": [
    "## Motivação:\n",
    "- Temos muitas features e queremos reduzir a quantidade\n",
    "- Sabemos que que temos features que não são relevantes\n",
    "- Reduzir ruído ao eliminar componentes menos importantes\n",
    "- Reduzir probabilidade de overfiting\n",
    "- Pode melhorar o score do modelo\n",
    "- Acelera o treinamento\n",
    "- Facilita a visualização de dados\n",
    "- Criar features novas baseadas nas existentes\n",
    "\n",
    "<img src=\"images/pre-processing_order.png\" />"
   ]
  },
  {
   "cell_type": "code",
   "execution_count": 1,
   "metadata": {
    "ExecuteTime": {
     "end_time": "2022-03-09T21:48:09.888683Z",
     "start_time": "2022-03-09T21:47:34.719833Z"
    }
   },
   "outputs": [],
   "source": [
    "import numpy  as np\n",
    "import pandas as pd \n",
    "\n",
    "import matplotlib.pyplot as plt\n",
    "import seaborn as sns"
   ]
  },
  {
   "cell_type": "markdown",
   "metadata": {},
   "source": [
    "____\n",
    "_____"
   ]
  },
  {
   "cell_type": "markdown",
   "metadata": {},
   "source": [
    "## 1) PCA\n",
    "\n",
    "**Objetivo:**\n",
    "Queremos criar um novo conjunto de features que seja menor e capaz de resumir e manter as principais propriedades contidas no conjunto original de dados. Para isso, faremos uma transformação que irá converter um conjunto de dados X em um novo conjunto X' por meio de uma combinação linear.\n",
    "\n",
    "### Intuição\n",
    "Suponha que você quer tirar uma foto dos seus amigos que estão nas posições representadas abaixo, qual das três alternativas seria melhor?\n",
    "\n",
    "<img src=\"images/pca_intuition.png\" width=500 text=\"https://www.youtube.com/watch?v=g-Hb26agBFg&t=72s\" />\n",
    "\n",
    "É isso que o PCA faz, ele tira uma \"foto\" dos seus dados de um novo ângulo de forma a manter a maior quantidade de dados.\n",
    "\n",
    "### O que o PCA faz?\n",
    "PCA (principal component analysis) é uma técnica **não supervisionada** que determina **as direções de máxima variância** no espaço de features, de modo que **as direções são ortogonais entre si**.\n",
    "\n",
    "Ou seja,\n",
    "\n",
    "> A primeira componente principal é a direção que maximiza a variáncia dos dados projetados em sua direção; A segunda componente principal é uma direção ortogonal à primeira que também maximiza a variância nesta direção, e assim sucessivamente.\n",
    "\n",
    "<img src=https://austingwalters.com/wp-content/uploads/2014/11/gaussDist-labeled.png width=400>"
   ]
  },
  {
   "cell_type": "markdown",
   "metadata": {},
   "source": [
    "É importante lembrar que:\n",
    "\n",
    "- Se o espaço original tem $n$ features, é possível construir $n$ componentes principais;<br><br>\n",
    "- Cada componente principal é uma **combinação linear das features originais**;<br><br>\n",
    "- As componentes principais são ortogonais entre si;<br><br>\n",
    "- As componentes principais são linearmente descorrelacionadas;<br>"
   ]
  },
  {
   "cell_type": "markdown",
   "metadata": {},
   "source": [
    "É muito comum que PCA seja utilizada como uma técnica de **redução de dimensionalidade**, isto porque, **no espaço transformado de componentes principais**, é comum que grande parte da variância completa dos dados esteja contida nas $L$ primeiras componentes principais ($L < n$).\n",
    "\n",
    "Sendo assim, ao invés de utilizar o espaço de features completo (de dimensão $n$) para a construção de modelos, podemos utilizar apenas $L$ dimensões **do espaço de features de componentes principais**, reduzindo, assim, a dimensionalidade do espaço de features efetivo em que os estimadores irão trabalhar.\n",
    "\n",
    "Os objetivos desta redução podem ser:\n",
    "\n",
    "- Evitar a maldição da dimensionalidade;\n",
    "- Treinar modelos mais rápido (de maneira mais eficiente), afinal, há menos dados;\n",
    "- Fornecer dados sem qualquer colinearidade (há estimadores que assumem não-colinearidade!)"
   ]
  },
  {
   "cell_type": "markdown",
   "metadata": {},
   "source": [
    "### 1.1) Como o PCA faz?\n",
    "\n",
    "O PCA primeiro translada os dados pro eixo (0,0) e depois projeta os nossos pontos em novos eixos e escolhe os que possuem maior variância (chamados de componentes principais). Isso é feito para reduzir a perda de informação que possam impactar na predição do modelo.\n",
    "\n",
    "No gif abaixo estamos projetando nossos dados bidimensionais em uma única dimensão.\n",
    "\n",
    "<img src=https://img-blog.csdnimg.cn/20200216202613847.gif width=500>"
   ]
  },
  {
   "cell_type": "markdown",
   "metadata": {},
   "source": [
    "### O que é cada PC?\n",
    "\n",
    "Como dissemos acima, cada componente principal é uma **combinação linear das features originais**.\n",
    "\n",
    "Nesse sentido, podemos enxergar o PCA como um método que constrói um novo espaço de features, de mesma dimensão que o espaço original:\n",
    "\n",
    "<img src=https://miro.medium.com/max/1200/1*V3JWBvxB92Uo116Bpxa3Tw.png width=700>\n",
    "\n",
    "O ponto é que o espaço de features construído pelo PCA é muito particular: as novas features são ortogonais entre si, e tais que maximizam a variância dos dados em cada sub-espaço de projeção, como dissemos acima.\n",
    "\n",
    "Assim, na prática, seja um espaço de input $\\mathcal{X}$ de $n$ dimensões, tal que cada vetor de features $\\vec{x} \\in \\mathcal{X}$ é dado por:\n",
    "\n",
    "$$ \\vec{x} = \\left ( x_1, x_2, x_3, \\cdots , x_n \\right) $$\n",
    "\n",
    "Após a aplicação do PCA, estaremos no espaço de componentes principais, tal que um vetor de features neste espaço, $\\vec{x}_{PC}$, será dado por:\n",
    "\n",
    "$$ \\vec{x}_{PC} = \\left ( PC_1, PC_2, PC_3, \\cdots , PC_n \\right) $$\n",
    "\n",
    "Onde cada componente principal é uma combinação linear das features originais, isto é, \n",
    "\n",
    "$$ PC_i = \\sum_{k=1}^n \\alpha_{i, k} x_k = \\alpha_{i, 1} x_1 +  \\alpha_{i, 2} x_2 + \\cdots +  \\alpha_{i, n} x_n$$\n",
    "\n",
    "Note que cada componente principal $i$ tem $n$ coeficientes diferentes $\\alpha_{i, k}$, que acompanham cada uma das features $k$ do espaço original.\n",
    "\n",
    "Para entender melhor, vamos tomar um dataset bem simples!"
   ]
  },
  {
   "cell_type": "code",
   "execution_count": 27,
   "metadata": {
    "ExecuteTime": {
     "end_time": "2022-03-09T21:48:10.294631Z",
     "start_time": "2022-03-09T21:48:09.891160Z"
    }
   },
   "outputs": [],
   "source": [
    "from sklearn import datasets\n",
    "from sklearn.model_selection import train_test_split\n",
    "\n",
    "iris = datasets.load_iris(as_frame=True)\n",
    "\n",
    "X = iris.data\n",
    "y = iris.target\n",
    "\n",
    "X_train, X_test, y_train, y_test = train_test_split(X, y, test_size=0.2, \n",
    "                                                    random_state=42, stratify=y)"
   ]
  },
  {
   "cell_type": "markdown",
   "metadata": {},
   "source": [
    "No caso do dataset iris, temos 4 features, de modo que o espaço original tem 4 dimensões e um vetor de features pode ser descrito por:\n",
    "\n",
    "$ \\vec{x} = (x_1, x_2, x_3, x_4)$.\n",
    "\n",
    "Sendo que:\n",
    "\n",
    "- $x_1$ : 'sepal_length', \n",
    "- $x_2$ : 'sepal_width', \n",
    "- $x_3$ : 'petal_length', \n",
    "- $x_4$ : 'petal_width'."
   ]
  },
  {
   "cell_type": "markdown",
   "metadata": {},
   "source": [
    "Assim, esperamos que após o PCA, o espaço de componentes principais também tenha 4 dimensões, isto é, \n",
    "\n",
    "$ \\vec{x}_{PC} = \\left ( PC_1, PC_2, PC_3, PC_4 \\right) $\n",
    "\n",
    "E as componentes principais serão: \n",
    "\n",
    "$ PC_1 = \\alpha_{1, 1} x_1 + \\alpha_{1, 2} x_2 + \\alpha_{1, 3} x_3 + \\alpha_{1, 4} x_4$\n",
    "\n",
    "$ PC_2 = \\alpha_{2, 1} x_1 + \\alpha_{2, 2} x_2 + \\alpha_{2, 3} x_3 + \\alpha_{2, 4} x_4$\n",
    "\n",
    "$ PC_3 = \\alpha_{3, 1} x_1 + \\alpha_{3, 2} x_2 + \\alpha_{3, 3} x_3 + \\alpha_{3, 4} x_4$\n",
    "\n",
    "$ PC_4 = \\alpha_{4, 1} x_1 + \\alpha_{4, 2} x_2 + \\alpha_{4, 3} x_3 + \\alpha_{4, 4} x_4$"
   ]
  },
  {
   "cell_type": "markdown",
   "metadata": {},
   "source": [
    "Vamos agora aplicar o PCA para calcular as componentes principais!"
   ]
  },
  {
   "cell_type": "markdown",
   "metadata": {},
   "source": [
    "Mas antes, um ponto muito importante: **devemos escalar as features originais com o StandardScaler antes de aplicarmos o PCA**!\n",
    "\n",
    "Isso porque o método matemático recebe dados com média 0 e desvio padrão 1!"
   ]
  },
  {
   "cell_type": "code",
   "execution_count": 3,
   "metadata": {
    "ExecuteTime": {
     "end_time": "2022-03-09T21:48:14.232038Z",
     "start_time": "2022-03-09T21:48:13.998491Z"
    }
   },
   "outputs": [
    {
     "data": {
      "text/html": [
       "<div>\n",
       "<style scoped>\n",
       "    .dataframe tbody tr th:only-of-type {\n",
       "        vertical-align: middle;\n",
       "    }\n",
       "\n",
       "    .dataframe tbody tr th {\n",
       "        vertical-align: top;\n",
       "    }\n",
       "\n",
       "    .dataframe thead th {\n",
       "        text-align: right;\n",
       "    }\n",
       "</style>\n",
       "<table border=\"1\" class=\"dataframe\">\n",
       "  <thead>\n",
       "    <tr style=\"text-align: right;\">\n",
       "      <th></th>\n",
       "      <th>sepal length (cm)</th>\n",
       "      <th>sepal width (cm)</th>\n",
       "      <th>petal length (cm)</th>\n",
       "      <th>petal width (cm)</th>\n",
       "    </tr>\n",
       "  </thead>\n",
       "  <tbody>\n",
       "    <tr>\n",
       "      <th>0</th>\n",
       "      <td>-1.721568</td>\n",
       "      <td>-0.332101</td>\n",
       "      <td>-1.345722</td>\n",
       "      <td>-1.323276</td>\n",
       "    </tr>\n",
       "    <tr>\n",
       "      <th>1</th>\n",
       "      <td>-1.124492</td>\n",
       "      <td>-1.227655</td>\n",
       "      <td>0.414505</td>\n",
       "      <td>0.651763</td>\n",
       "    </tr>\n",
       "    <tr>\n",
       "      <th>2</th>\n",
       "      <td>1.144395</td>\n",
       "      <td>-0.555990</td>\n",
       "      <td>0.584850</td>\n",
       "      <td>0.256755</td>\n",
       "    </tr>\n",
       "    <tr>\n",
       "      <th>3</th>\n",
       "      <td>-1.124492</td>\n",
       "      <td>0.115676</td>\n",
       "      <td>-1.288941</td>\n",
       "      <td>-1.454945</td>\n",
       "    </tr>\n",
       "    <tr>\n",
       "      <th>4</th>\n",
       "      <td>-0.408002</td>\n",
       "      <td>-1.227655</td>\n",
       "      <td>0.130598</td>\n",
       "      <td>0.125086</td>\n",
       "    </tr>\n",
       "  </tbody>\n",
       "</table>\n",
       "</div>"
      ],
      "text/plain": [
       "   sepal length (cm)  sepal width (cm)  petal length (cm)  petal width (cm)\n",
       "0          -1.721568         -0.332101          -1.345722         -1.323276\n",
       "1          -1.124492         -1.227655           0.414505          0.651763\n",
       "2           1.144395         -0.555990           0.584850          0.256755\n",
       "3          -1.124492          0.115676          -1.288941         -1.454945\n",
       "4          -0.408002         -1.227655           0.130598          0.125086"
      ]
     },
     "execution_count": 3,
     "metadata": {},
     "output_type": "execute_result"
    }
   ],
   "source": [
    "# importa StandardScale\n",
    "from sklearn.preprocessing import StandardScaler\n",
    "\n",
    "# instancia e fita o scale\n",
    "sc = StandardScaler()\n",
    "X_sc = sc.fit_transform(X_train)\n",
    "\n",
    "# Cria um df com os dados escalados\n",
    "X_sc = pd.DataFrame(X_sc, columns = X_train.columns)\n",
    "X_sc.head()"
   ]
  },
  {
   "cell_type": "markdown",
   "metadata": {},
   "source": [
    "Agora sim!"
   ]
  },
  {
   "cell_type": "code",
   "execution_count": 4,
   "metadata": {
    "ExecuteTime": {
     "end_time": "2022-03-09T21:48:16.668891Z",
     "start_time": "2022-03-09T21:48:14.237032Z"
    }
   },
   "outputs": [
    {
     "data": {
      "text/plain": [
       "PCA(random_state=42)"
      ]
     },
     "execution_count": 4,
     "metadata": {},
     "output_type": "execute_result"
    }
   ],
   "source": [
    "# importar o decomposition.PCA\n",
    "from sklearn.decomposition import PCA\n",
    "\n",
    "# instancia e fita o PCA\n",
    "pca = PCA(random_state = 42)\n",
    "pca.fit(X_sc)"
   ]
  },
  {
   "cell_type": "markdown",
   "metadata": {},
   "source": [
    "Com o PCA fitado, temos alguns atributos importantes!"
   ]
  },
  {
   "cell_type": "code",
   "execution_count": 5,
   "metadata": {
    "ExecuteTime": {
     "end_time": "2022-03-09T21:48:16.683887Z",
     "start_time": "2022-03-09T21:48:16.671894Z"
    }
   },
   "outputs": [
    {
     "data": {
      "text/plain": [
       "array(['sepal length (cm)', 'sepal width (cm)', 'petal length (cm)',\n",
       "       'petal width (cm)'], dtype=object)"
      ]
     },
     "execution_count": 5,
     "metadata": {},
     "output_type": "execute_result"
    }
   ],
   "source": [
    "# nome das features de entrada\n",
    "pca.feature_names_in_"
   ]
  },
  {
   "cell_type": "code",
   "execution_count": 6,
   "metadata": {
    "ExecuteTime": {
     "end_time": "2022-03-09T21:48:16.997238Z",
     "start_time": "2022-03-09T21:48:16.892318Z"
    }
   },
   "outputs": [
    {
     "data": {
      "text/plain": [
       "4"
      ]
     },
     "execution_count": 6,
     "metadata": {},
     "output_type": "execute_result"
    }
   ],
   "source": [
    "# n_components_: quantidade de componentes\n",
    "pca.n_components_"
   ]
  },
  {
   "cell_type": "code",
   "execution_count": 7,
   "metadata": {
    "ExecuteTime": {
     "end_time": "2022-03-09T21:48:16.889339Z",
     "start_time": "2022-03-09T21:48:16.686885Z"
    }
   },
   "outputs": [
    {
     "data": {
      "text/plain": [
       "array([[ 0.52679335, -0.25307206,  0.58186918,  0.56557189],\n",
       "       [ 0.34813945,  0.93470791,  0.02689438,  0.06630793],\n",
       "       [-0.72745724,  0.22196252,  0.1386138 ,  0.6342908 ],\n",
       "       [ 0.26850263, -0.11405393, -0.80093144,  0.52288323]])"
      ]
     },
     "execution_count": 7,
     "metadata": {},
     "output_type": "execute_result"
    }
   ],
   "source": [
    "# components_: coeficientes da combinação linear (alfas)\n",
    "pca.components_"
   ]
  },
  {
   "cell_type": "markdown",
   "metadata": {},
   "source": [
    "O atributo `components_` dá exatamente os coeficientes $\\alpha_{i, k}$ que determinam as combinações lineares de cada componente principal!"
   ]
  },
  {
   "cell_type": "code",
   "execution_count": 8,
   "metadata": {
    "ExecuteTime": {
     "end_time": "2022-03-09T21:48:17.107902Z",
     "start_time": "2022-03-09T21:48:16.999160Z"
    }
   },
   "outputs": [
    {
     "name": "stdout",
     "output_type": "stream",
     "text": [
      "PC_1 = 0.527*x_1 + -0.253*x_2 + 0.582*x_3 + 0.566*x_4\n",
      "\n",
      "PC_2 = 0.348*x_1 + 0.935*x_2 + 0.027*x_3 + 0.066*x_4\n",
      "\n",
      "PC_3 = -0.727*x_1 + 0.222*x_2 + 0.139*x_3 + 0.634*x_4\n",
      "\n",
      "PC_4 = 0.269*x_1 + -0.114*x_2 + -0.801*x_3 + 0.523*x_4\n",
      "\n"
     ]
    }
   ],
   "source": [
    "for j in range(pca.n_components_):\n",
    "    string = (f'PC_{j+1} = ' \n",
    "              + \n",
    "              \" + \".join([f\"{alpha:.3f}*x_{i+1}\" for i, alpha in enumerate(pca.components_[j])])\n",
    "              +\n",
    "              \"\\n\")\n",
    "    print(string)"
   ]
  },
  {
   "cell_type": "markdown",
   "metadata": {},
   "source": [
    "Lembrando que:\n",
    "\n",
    "- $x_1$ : 'sepal_length', \n",
    "- $x_2$ : 'sepal_width', \n",
    "- $x_3$ : 'petal_length', \n",
    "- $x_4$ : 'petal_width'."
   ]
  },
  {
   "cell_type": "markdown",
   "metadata": {},
   "source": [
    "Há alguns outros atributos muito importantes:"
   ]
  },
  {
   "cell_type": "code",
   "execution_count": 9,
   "metadata": {
    "ExecuteTime": {
     "end_time": "2022-03-09T22:15:24.307069Z",
     "start_time": "2022-03-09T22:15:24.288084Z"
    }
   },
   "outputs": [
    {
     "data": {
      "text/plain": [
       "array([2.93151868, 0.93042018, 0.15254729, 0.01912729])"
      ]
     },
     "execution_count": 9,
     "metadata": {},
     "output_type": "execute_result"
    }
   ],
   "source": [
    "# Quantidade de variância explicada por cada uma das componentes\n",
    "pca.explained_variance_"
   ]
  },
  {
   "cell_type": "code",
   "execution_count": 11,
   "metadata": {
    "ExecuteTime": {
     "end_time": "2022-03-09T22:20:48.645257Z",
     "start_time": "2022-03-09T22:20:48.628264Z"
    }
   },
   "outputs": [
    {
     "data": {
      "text/plain": [
       "array([0.72677234, 0.23066667, 0.03781901, 0.00474197])"
      ]
     },
     "execution_count": 11,
     "metadata": {},
     "output_type": "execute_result"
    }
   ],
   "source": [
    "# Porcentagem de variância explicada por cada uma das componentes + importante\n",
    "pca.explained_variance_ratio_"
   ]
  },
  {
   "cell_type": "code",
   "execution_count": 12,
   "metadata": {
    "ExecuteTime": {
     "end_time": "2022-03-09T22:21:14.785872Z",
     "start_time": "2022-03-09T22:21:14.770877Z"
    }
   },
   "outputs": [
    {
     "data": {
      "text/plain": [
       "array([0.72677234, 0.95743901, 0.99525803, 1.        ])"
      ]
     },
     "execution_count": 12,
     "metadata": {},
     "output_type": "execute_result"
    }
   ],
   "source": [
    "# Com o método .cumsum() podemos ver a porcentagem de variância explicada de forma cumulativa\n",
    "pca.explained_variance_ratio_.cumsum()"
   ]
  },
  {
   "cell_type": "markdown",
   "metadata": {},
   "source": [
    "Podemos plotar os resultados acima:"
   ]
  },
  {
   "cell_type": "code",
   "execution_count": 16,
   "metadata": {
    "ExecuteTime": {
     "end_time": "2022-03-09T22:38:18.833790Z",
     "start_time": "2022-03-09T22:38:18.601923Z"
    }
   },
   "outputs": [
    {
     "data": {
      "image/png": "[encoded data removed]",
      "text/plain": [
       "<Figure size 432x288 with 1 Axes>"
      ]
     },
     "metadata": {
      "needs_background": "light"
     },
     "output_type": "display_data"
    }
   ],
   "source": [
    "# Cria labels para o eixo x\n",
    "labels = [f'PC{i}' for i in range(X_train.shape[1])]\n",
    "\n",
    "# Faz um gráfico de barras da explained_variance_ratio_\n",
    "plt.bar(labels, pca.explained_variance_ratio_)\n",
    "plt.title(\"Scree Plot\");"
   ]
  },
  {
   "cell_type": "markdown",
   "metadata": {},
   "source": [
    "O gráfico acima é conhecido como Scree plot. Ele mostra o autovalor no eixo y para cada uma das componentes. Também podemos fazer um gráfico mostrando a soma cumulativa das porcentagens de variância explicadas:"
   ]
  },
  {
   "cell_type": "code",
   "execution_count": 17,
   "metadata": {
    "ExecuteTime": {
     "end_time": "2022-03-09T22:38:39.578291Z",
     "start_time": "2022-03-09T22:38:39.314444Z"
    }
   },
   "outputs": [
    {
     "data": {
      "image/png": "[encoded data removed]",
      "text/plain": [
       "<Figure size 432x288 with 1 Axes>"
      ]
     },
     "metadata": {
      "needs_background": "light"
     },
     "output_type": "display_data"
    }
   ],
   "source": [
    "# gráfico de barras do pca.explained_variance_ratio_.cumsum()\n",
    "plt.bar(labels, pca.explained_variance_ratio_.cumsum())\n",
    "plt.title(\"Scree Plot\");"
   ]
  },
  {
   "cell_type": "markdown",
   "metadata": {},
   "source": [
    "Utilizamos esses dois gráficos para definir quantas componentes principais queremos no nosso modelo."
   ]
  },
  {
   "cell_type": "markdown",
   "metadata": {},
   "source": [
    "### 1.3) Como escolher L (número de dimensões no novo espaço de features)?\n",
    "Se o nosso Scree plot apresentar autovalores (coeficientes de cada componente $PC_i$) com valores similares, como mostrado na figura abaixo, podemos concluir que os nossos dados já estão projetados em um bom espaço e não precisamos transformá-los.\n",
    "\n",
    "<img src=\"images/not_good_pca.png\" text=\"https://www.youtube.com/watch?v=FgakZw6K1QQ\" width=300>\n",
    "\n",
    "No nosso caso, os autovalores de $PC_1$ e $PC_2$ são bem maiores que os demais indicando que eles contém a maior parte da informação sobre a distribuição dos dados. Com apenas essas 2 componentes principais capturamos 95% da variância dos dados!\n",
    "\n",
    "Isso porque autovalores que são próximos de zero contém menos informação e podem ser descartados do novo espaço de features.\n"
   ]
  },
  {
   "cell_type": "markdown",
   "metadata": {},
   "source": [
    "Assim, caso queiramos reduzir o número de dimensões de $n=4$ para $L=2$, temos a garantia de que grande parte da variabilidade estará contida nas duas componentes principais que usaremos para modelagem!\n",
    "\n",
    "> Veja que a escolha de $L < n$ componentes principais pode ser visto como um procedimento de **feature selection**, mas feito **no espaço de componentes principais!**\n",
    "> Como não são as features originais que são selecionadas, é comum nos referirmos a este procedimento como **redução de dimensionalidade** (e a dimensionalidade que é reduzida é do espaço de componentes principais!)\n",
    "\n",
    "De fato, note que **todas as 4 features originais** estão presentes em cada uma das PCs, como termos da combinação linear que define cada PC. E, naturalmente, todas as 4 estão presentes nas $L$ primeiras."
   ]
  },
  {
   "cell_type": "markdown",
   "metadata": {},
   "source": [
    "Caso queiramos construir modelos no espaço de componentes principais, é importante que incorporemos o PCA em nossa pipeline! \n",
    "\n",
    "Vamos ver na prática!"
   ]
  },
  {
   "cell_type": "markdown",
   "metadata": {},
   "source": [
    "____________"
   ]
  },
  {
   "cell_type": "markdown",
   "metadata": {},
   "source": [
    "## 2) PCA na Pipeline"
   ]
  },
  {
   "cell_type": "code",
   "execution_count": 18,
   "metadata": {
    "ExecuteTime": {
     "end_time": "2022-03-09T22:48:22.771588Z",
     "start_time": "2022-03-09T22:48:22.743602Z"
    }
   },
   "outputs": [],
   "source": [
    "from sklearn.metrics import classification_report, ConfusionMatrixDisplay\n",
    "\n",
    "def metricas_classificacao(estimator, X_train, X_test, y_train, y_test):\n",
    "    \n",
    "    # ============================================\n",
    "\n",
    "    print(\"\\nMétricas de avaliação de treino:\")\n",
    "\n",
    "    y_pred_train = estimator.predict(X_train)\n",
    "\n",
    "    ConfusionMatrixDisplay.from_predictions(y_train, y_pred_train)\n",
    "    plt.show()\n",
    "\n",
    "    print(classification_report(y_train, y_pred_train))\n",
    "\n",
    "    # ============================================\n",
    "\n",
    "    print(\"\\nMétricas de avaliação de teste:\")\n",
    "\n",
    "    y_pred_test = estimator.predict(X_test)\n",
    "\n",
    "    ConfusionMatrixDisplay.from_predictions(y_test, y_pred_test)\n",
    "    plt.show()\n",
    "\n",
    "    print(classification_report(y_test, y_pred_test))"
   ]
  },
  {
   "cell_type": "code",
   "execution_count": 25,
   "metadata": {
    "ExecuteTime": {
     "end_time": "2022-03-09T22:49:42.315032Z",
     "start_time": "2022-03-09T22:49:42.306016Z"
    }
   },
   "outputs": [],
   "source": [
    "from sklearn.pipeline import Pipeline\n",
    "from sklearn.linear_model import LogisticRegression"
   ]
  },
  {
   "cell_type": "markdown",
   "metadata": {},
   "source": [
    "Primeiro vamos criar uma pipeline simples só para obter as métricas para o modelo sem PCA:"
   ]
  },
  {
   "cell_type": "code",
   "execution_count": 29,
   "metadata": {
    "ExecuteTime": {
     "end_time": "2022-03-09T22:51:03.149200Z",
     "start_time": "2022-03-09T22:51:02.058273Z"
    },
    "scrolled": true
   },
   "outputs": [
    {
     "name": "stdout",
     "output_type": "stream",
     "text": [
      "\n",
      "Métricas de avaliação de treino:\n"
     ]
    },
    {
     "data": {
      "image/png": "[encoded data removed]",
      "text/plain": [
       "<Figure size 432x288 with 2 Axes>"
      ]
     },
     "metadata": {
      "needs_background": "light"
     },
     "output_type": "display_data"
    },
    {
     "name": "stdout",
     "output_type": "stream",
     "text": [
      "              precision    recall  f1-score   support\n",
      "\n",
      "           0       1.00      1.00      1.00        40\n",
      "           1       0.97      0.95      0.96        40\n",
      "           2       0.95      0.97      0.96        40\n",
      "\n",
      "    accuracy                           0.97       120\n",
      "   macro avg       0.98      0.97      0.97       120\n",
      "weighted avg       0.98      0.97      0.97       120\n",
      "\n",
      "\n",
      "Métricas de avaliação de teste:\n"
     ]
    },
    {
     "data": {
      "image/png": "[encoded data removed]",
      "text/plain": [
       "<Figure size 432x288 with 2 Axes>"
      ]
     },
     "metadata": {
      "needs_background": "light"
     },
     "output_type": "display_data"
    },
    {
     "name": "stdout",
     "output_type": "stream",
     "text": [
      "              precision    recall  f1-score   support\n",
      "\n",
      "           0       1.00      1.00      1.00        10\n",
      "           1       1.00      0.90      0.95        10\n",
      "           2       0.91      1.00      0.95        10\n",
      "\n",
      "    accuracy                           0.97        30\n",
      "   macro avg       0.97      0.97      0.97        30\n",
      "weighted avg       0.97      0.97      0.97        30\n",
      "\n"
     ]
    }
   ],
   "source": [
    "# pipeline do LogisticRegression\n",
    "pipe = Pipeline([\n",
    "    ('model', LogisticRegression(random_state = 42))\n",
    "])\n",
    "\n",
    "# Fit do pipe no treino e teste\n",
    "pipe.fit(X_train, y_train)\n",
    "\n",
    "# printa metricas_classificacao\n",
    "metricas_classificacao(pipe, X_train, X_test, y_train, y_test)"
   ]
  },
  {
   "cell_type": "markdown",
   "metadata": {},
   "source": [
    "Agora vamos adicionar na pipeline o StandardScale e o PCA com duas componentes (n_components=2):"
   ]
  },
  {
   "cell_type": "code",
   "execution_count": 38,
   "metadata": {
    "ExecuteTime": {
     "end_time": "2022-03-09T22:55:12.038557Z",
     "start_time": "2022-03-09T22:55:11.391884Z"
    },
    "scrolled": true,
    "tags": []
   },
   "outputs": [
    {
     "name": "stdout",
     "output_type": "stream",
     "text": [
      "\n",
      "Métricas de avaliação de treino:\n"
     ]
    },
    {
     "data": {
      "image/png": "[encoded data removed]",
      "text/plain": [
       "<Figure size 432x288 with 2 Axes>"
      ]
     },
     "metadata": {
      "needs_background": "light"
     },
     "output_type": "display_data"
    },
    {
     "name": "stdout",
     "output_type": "stream",
     "text": [
      "              precision    recall  f1-score   support\n",
      "\n",
      "           0       1.00      1.00      1.00        40\n",
      "           1       0.93      0.95      0.94        40\n",
      "           2       0.95      0.93      0.94        40\n",
      "\n",
      "    accuracy                           0.96       120\n",
      "   macro avg       0.96      0.96      0.96       120\n",
      "weighted avg       0.96      0.96      0.96       120\n",
      "\n",
      "\n",
      "Métricas de avaliação de teste:\n"
     ]
    },
    {
     "data": {
      "image/png": "[encoded data removed]",
      "text/plain": [
       "<Figure size 432x288 with 2 Axes>"
      ]
     },
     "metadata": {
      "needs_background": "light"
     },
     "output_type": "display_data"
    },
    {
     "name": "stdout",
     "output_type": "stream",
     "text": [
      "              precision    recall  f1-score   support\n",
      "\n",
      "           0       1.00      1.00      1.00        10\n",
      "           1       0.90      0.90      0.90        10\n",
      "           2       0.90      0.90      0.90        10\n",
      "\n",
      "    accuracy                           0.93        30\n",
      "   macro avg       0.93      0.93      0.93        30\n",
      "weighted avg       0.93      0.93      0.93        30\n",
      "\n"
     ]
    }
   ],
   "source": [
    "# pipeline com StandardScale, PCA e Logistic Regression\n",
    "pipe_2 = Pipeline([\n",
    "    ('stdsc', StandardScaler()),\n",
    "    ('pca', PCA(n_components=4, random_state = 42)),\n",
    "    ('model', LogisticRegression(random_state = 42))\n",
    "])\n",
    "\n",
    "# fit do pipe\n",
    "pipe_2.fit(X_train, y_train)\n",
    "\n",
    "# printa metricas_classificacao\n",
    "metricas_classificacao(pipe_2, X_train, X_test, y_train, y_test)"
   ]
  },
  {
   "cell_type": "markdown",
   "metadata": {},
   "source": [
    "Em vez de instanciarmos o PCA com duas componentes, queremos que ele retorne a quantidade de componentes que expliquem pelo menos 90% da variância dos nossos dados (n_components=0.9):  "
   ]
  },
  {
   "cell_type": "code",
   "execution_count": 41,
   "metadata": {
    "ExecuteTime": {
     "end_time": "2022-03-09T22:59:46.463399Z",
     "start_time": "2022-03-09T22:59:45.762803Z"
    },
    "scrolled": true
   },
   "outputs": [
    {
     "name": "stdout",
     "output_type": "stream",
     "text": [
      "\n",
      "Métricas de avaliação de treino:\n"
     ]
    },
    {
     "data": {
      "image/png": "[encoded data removed]",
      "text/plain": [
       "<Figure size 432x288 with 2 Axes>"
      ]
     },
     "metadata": {
      "needs_background": "light"
     },
     "output_type": "display_data"
    },
    {
     "name": "stdout",
     "output_type": "stream",
     "text": [
      "              precision    recall  f1-score   support\n",
      "\n",
      "           0       1.00      1.00      1.00        40\n",
      "           1       0.92      0.88      0.90        40\n",
      "           2       0.88      0.93      0.90        40\n",
      "\n",
      "    accuracy                           0.93       120\n",
      "   macro avg       0.93      0.93      0.93       120\n",
      "weighted avg       0.93      0.93      0.93       120\n",
      "\n",
      "\n",
      "Métricas de avaliação de teste:\n"
     ]
    },
    {
     "data": {
      "image/png": "[encoded data removed]",
      "text/plain": [
       "<Figure size 432x288 with 2 Axes>"
      ]
     },
     "metadata": {
      "needs_background": "light"
     },
     "output_type": "display_data"
    },
    {
     "name": "stdout",
     "output_type": "stream",
     "text": [
      "              precision    recall  f1-score   support\n",
      "\n",
      "           0       1.00      1.00      1.00        10\n",
      "           1       0.82      0.90      0.86        10\n",
      "           2       0.89      0.80      0.84        10\n",
      "\n",
      "    accuracy                           0.90        30\n",
      "   macro avg       0.90      0.90      0.90        30\n",
      "weighted avg       0.90      0.90      0.90        30\n",
      "\n"
     ]
    }
   ],
   "source": [
    "# pipeline com StandardScale, PCA e Logistic Regression\n",
    "pipe_3 = Pipeline([\n",
    "    ('stdsc', StandardScaler()),\n",
    "    ('pca', PCA(n_components=0.9, random_state = 42)), # soma cumulativa da variância representa 90%\n",
    "    ('model', LogisticRegression(random_state = 42))\n",
    "])\n",
    "\n",
    "# fit do pipe\n",
    "pipe_3.fit(X_train, y_train)\n",
    "\n",
    "# printa metricas_classificacao\n",
    "metricas_classificacao(pipe_3, X_train, X_test, y_train, y_test)"
   ]
  },
  {
   "cell_type": "code",
   "execution_count": 42,
   "metadata": {},
   "outputs": [
    {
     "data": {
      "text/plain": [
       "{'memory': None,\n",
       " 'steps': [('stdsc', StandardScaler()),\n",
       "  ('pca', PCA(n_components=0.9, random_state=42)),\n",
       "  ('model', LogisticRegression(random_state=42))],\n",
       " 'verbose': False,\n",
       " 'stdsc': StandardScaler(),\n",
       " 'pca': PCA(n_components=0.9, random_state=42),\n",
       " 'model': LogisticRegression(random_state=42),\n",
       " 'stdsc__copy': True,\n",
       " 'stdsc__with_mean': True,\n",
       " 'stdsc__with_std': True,\n",
       " 'pca__copy': True,\n",
       " 'pca__iterated_power': 'auto',\n",
       " 'pca__n_components': 0.9,\n",
       " 'pca__random_state': 42,\n",
       " 'pca__svd_solver': 'auto',\n",
       " 'pca__tol': 0.0,\n",
       " 'pca__whiten': False,\n",
       " 'model__C': 1.0,\n",
       " 'model__class_weight': None,\n",
       " 'model__dual': False,\n",
       " 'model__fit_intercept': True,\n",
       " 'model__intercept_scaling': 1,\n",
       " 'model__l1_ratio': None,\n",
       " 'model__max_iter': 100,\n",
       " 'model__multi_class': 'auto',\n",
       " 'model__n_jobs': None,\n",
       " 'model__penalty': 'l2',\n",
       " 'model__random_state': 42,\n",
       " 'model__solver': 'lbfgs',\n",
       " 'model__tol': 0.0001,\n",
       " 'model__verbose': 0,\n",
       " 'model__warm_start': False}"
      ]
     },
     "execution_count": 42,
     "metadata": {},
     "output_type": "execute_result"
    }
   ],
   "source": [
    "pipe_3.get_params()"
   ]
  },
  {
   "cell_type": "code",
   "execution_count": 43,
   "metadata": {},
   "outputs": [
    {
     "data": {
      "text/plain": [
       "('pca', PCA(n_components=0.9, random_state=42))"
      ]
     },
     "execution_count": 43,
     "metadata": {},
     "output_type": "execute_result"
    }
   ],
   "source": [
    "pipe_3.steps[-2]"
   ]
  },
  {
   "cell_type": "markdown",
   "metadata": {},
   "source": [
    "___________\n",
    "\n",
    "Vamos analisar um outro dataset?\n"
   ]
  },
  {
   "cell_type": "markdown",
   "metadata": {},
   "source": [
    "A base [MNIST](https://www.kaggle.com/c/digit-recognizer/data) contém 42 mil imagens (28 x 28 px) de dígitos manuscritos que vão de 0 a 9. Para cada imagem estão associados $28^2 = 784$ pixels (features) que podem ser representados por uma matriz de features $$X(42.000, 784)$$\n",
    "\n",
    "Cada pixel será representado como uma feature distinta e terá o valor 255 se o pixel for preto, 0 se branco e valores intermediários correspondendo aos tons de cinza.\n",
    "\n",
    "Nosso target, $Y(42.000, )$ é um vetor cujas componentes são inteiros de 0 a 9 que representam os dígitos.\n"
   ]
  },
  {
   "cell_type": "markdown",
   "metadata": {},
   "source": [
    "- Concatena cada linha de pixels, formando um array de uma linha"
   ]
  },
  {
   "cell_type": "code",
   "execution_count": 48,
   "metadata": {},
   "outputs": [],
   "source": [
    "import random, itertools\n",
    "random.seed(42)"
   ]
  },
  {
   "cell_type": "code",
   "execution_count": 49,
   "metadata": {},
   "outputs": [],
   "source": [
    "train = pd.read_csv('dataset/train.csv')\n",
    "\n",
    "y = train['label']\n",
    "X = train.drop(\"label\",axis=1)\n",
    "\n",
    "X_train, X_test, y_train, y_test = train_test_split(X, y, test_size=0.2)"
   ]
  },
  {
   "cell_type": "code",
   "execution_count": 50,
   "metadata": {},
   "outputs": [
    {
     "data": {
      "text/html": [
       "<div>\n",
       "<style scoped>\n",
       "    .dataframe tbody tr th:only-of-type {\n",
       "        vertical-align: middle;\n",
       "    }\n",
       "\n",
       "    .dataframe tbody tr th {\n",
       "        vertical-align: top;\n",
       "    }\n",
       "\n",
       "    .dataframe thead th {\n",
       "        text-align: right;\n",
       "    }\n",
       "</style>\n",
       "<table border=\"1\" class=\"dataframe\">\n",
       "  <thead>\n",
       "    <tr style=\"text-align: right;\">\n",
       "      <th></th>\n",
       "      <th>pixel0</th>\n",
       "      <th>pixel1</th>\n",
       "      <th>pixel2</th>\n",
       "      <th>pixel3</th>\n",
       "      <th>pixel4</th>\n",
       "      <th>pixel5</th>\n",
       "      <th>pixel6</th>\n",
       "      <th>pixel7</th>\n",
       "      <th>pixel8</th>\n",
       "      <th>pixel9</th>\n",
       "      <th>...</th>\n",
       "      <th>pixel774</th>\n",
       "      <th>pixel775</th>\n",
       "      <th>pixel776</th>\n",
       "      <th>pixel777</th>\n",
       "      <th>pixel778</th>\n",
       "      <th>pixel779</th>\n",
       "      <th>pixel780</th>\n",
       "      <th>pixel781</th>\n",
       "      <th>pixel782</th>\n",
       "      <th>pixel783</th>\n",
       "    </tr>\n",
       "  </thead>\n",
       "  <tbody>\n",
       "    <tr>\n",
       "      <th>14390</th>\n",
       "      <td>0</td>\n",
       "      <td>0</td>\n",
       "      <td>0</td>\n",
       "      <td>0</td>\n",
       "      <td>0</td>\n",
       "      <td>0</td>\n",
       "      <td>0</td>\n",
       "      <td>0</td>\n",
       "      <td>0</td>\n",
       "      <td>0</td>\n",
       "      <td>...</td>\n",
       "      <td>0</td>\n",
       "      <td>0</td>\n",
       "      <td>0</td>\n",
       "      <td>0</td>\n",
       "      <td>0</td>\n",
       "      <td>0</td>\n",
       "      <td>0</td>\n",
       "      <td>0</td>\n",
       "      <td>0</td>\n",
       "      <td>0</td>\n",
       "    </tr>\n",
       "    <tr>\n",
       "      <th>29371</th>\n",
       "      <td>0</td>\n",
       "      <td>0</td>\n",
       "      <td>0</td>\n",
       "      <td>0</td>\n",
       "      <td>0</td>\n",
       "      <td>0</td>\n",
       "      <td>0</td>\n",
       "      <td>0</td>\n",
       "      <td>0</td>\n",
       "      <td>0</td>\n",
       "      <td>...</td>\n",
       "      <td>0</td>\n",
       "      <td>0</td>\n",
       "      <td>0</td>\n",
       "      <td>0</td>\n",
       "      <td>0</td>\n",
       "      <td>0</td>\n",
       "      <td>0</td>\n",
       "      <td>0</td>\n",
       "      <td>0</td>\n",
       "      <td>0</td>\n",
       "    </tr>\n",
       "    <tr>\n",
       "      <th>6751</th>\n",
       "      <td>0</td>\n",
       "      <td>0</td>\n",
       "      <td>0</td>\n",
       "      <td>0</td>\n",
       "      <td>0</td>\n",
       "      <td>0</td>\n",
       "      <td>0</td>\n",
       "      <td>0</td>\n",
       "      <td>0</td>\n",
       "      <td>0</td>\n",
       "      <td>...</td>\n",
       "      <td>0</td>\n",
       "      <td>0</td>\n",
       "      <td>0</td>\n",
       "      <td>0</td>\n",
       "      <td>0</td>\n",
       "      <td>0</td>\n",
       "      <td>0</td>\n",
       "      <td>0</td>\n",
       "      <td>0</td>\n",
       "      <td>0</td>\n",
       "    </tr>\n",
       "    <tr>\n",
       "      <th>149</th>\n",
       "      <td>0</td>\n",
       "      <td>0</td>\n",
       "      <td>0</td>\n",
       "      <td>0</td>\n",
       "      <td>0</td>\n",
       "      <td>0</td>\n",
       "      <td>0</td>\n",
       "      <td>0</td>\n",
       "      <td>0</td>\n",
       "      <td>0</td>\n",
       "      <td>...</td>\n",
       "      <td>0</td>\n",
       "      <td>0</td>\n",
       "      <td>0</td>\n",
       "      <td>0</td>\n",
       "      <td>0</td>\n",
       "      <td>0</td>\n",
       "      <td>0</td>\n",
       "      <td>0</td>\n",
       "      <td>0</td>\n",
       "      <td>0</td>\n",
       "    </tr>\n",
       "    <tr>\n",
       "      <th>9717</th>\n",
       "      <td>0</td>\n",
       "      <td>0</td>\n",
       "      <td>0</td>\n",
       "      <td>0</td>\n",
       "      <td>0</td>\n",
       "      <td>0</td>\n",
       "      <td>0</td>\n",
       "      <td>0</td>\n",
       "      <td>0</td>\n",
       "      <td>0</td>\n",
       "      <td>...</td>\n",
       "      <td>0</td>\n",
       "      <td>0</td>\n",
       "      <td>0</td>\n",
       "      <td>0</td>\n",
       "      <td>0</td>\n",
       "      <td>0</td>\n",
       "      <td>0</td>\n",
       "      <td>0</td>\n",
       "      <td>0</td>\n",
       "      <td>0</td>\n",
       "    </tr>\n",
       "  </tbody>\n",
       "</table>\n",
       "<p>5 rows × 784 columns</p>\n",
       "</div>"
      ],
      "text/plain": [
       "       pixel0  pixel1  pixel2  pixel3  pixel4  pixel5  pixel6  pixel7  pixel8  \\\n",
       "14390       0       0       0       0       0       0       0       0       0   \n",
       "29371       0       0       0       0       0       0       0       0       0   \n",
       "6751        0       0       0       0       0       0       0       0       0   \n",
       "149         0       0       0       0       0       0       0       0       0   \n",
       "9717        0       0       0       0       0       0       0       0       0   \n",
       "\n",
       "       pixel9  ...  pixel774  pixel775  pixel776  pixel777  pixel778  \\\n",
       "14390       0  ...         0         0         0         0         0   \n",
       "29371       0  ...         0         0         0         0         0   \n",
       "6751        0  ...         0         0         0         0         0   \n",
       "149         0  ...         0         0         0         0         0   \n",
       "9717        0  ...         0         0         0         0         0   \n",
       "\n",
       "       pixel779  pixel780  pixel781  pixel782  pixel783  \n",
       "14390         0         0         0         0         0  \n",
       "29371         0         0         0         0         0  \n",
       "6751          0         0         0         0         0  \n",
       "149           0         0         0         0         0  \n",
       "9717          0         0         0         0         0  \n",
       "\n",
       "[5 rows x 784 columns]"
      ]
     },
     "execution_count": 50,
     "metadata": {},
     "output_type": "execute_result"
    }
   ],
   "source": [
    "X_train.head()"
   ]
  },
  {
   "cell_type": "code",
   "execution_count": 55,
   "metadata": {},
   "outputs": [
    {
     "data": {
      "text/plain": [
       "array([  0, 254, 253, 218,  49, 252,  54,   2, 138,  30, 228, 166, 232,\n",
       "       207, 255,  61, 212, 119, 221, 234, 250, 197, 181, 230,   8, 170,\n",
       "       133,  28, 243, 213,  79,  11,  10, 233, 202,  80,  20, 222, 201,\n",
       "         6, 167,  19,  35,  56, 169,  39,  72, 109,  23, 175, 205, 206,\n",
       "       159, 217, 148,  53, 225, 235,  94,  96, 182, 146,  84, 248, 113,\n",
       "       188, 155, 141, 241, 208, 128, 240, 152, 247, 229,  17,  16, 160,\n",
       "        86,  24, 249, 183, 130, 132, 215, 236,  55,  40,  13, 224,  42,\n",
       "       187,  82,   7, 199,  58,  66, 251,  32,  27, 200, 179, 237, 226,\n",
       "       204, 173,  71,  68, 186,  87,  22, 223, 189, 238, 124,  38, 114,\n",
       "        62,  69, 121,   1,  21,  65, 227,  51, 151, 190,  18,  89, 127,\n",
       "       143,  14,  99,  31,  15, 196,  67,  81, 129, 220, 108, 149,  97,\n",
       "       161,  57,  70, 231, 164, 136, 106, 198,  88, 178,  33, 219, 142,\n",
       "       203,  76,  25,  77, 171, 174, 180, 158, 214, 194, 134,  48,  44,\n",
       "       105, 112, 184, 102, 246,   3, 150, 210,  95,  43,  64, 191, 162,\n",
       "       104,   9, 244, 145,  34,  59, 103, 122, 192,  52, 245, 126, 195,\n",
       "        78,  73, 118,  12,  50, 153, 242,  29, 216,   4, 137,  36, 100,\n",
       "        45, 107,  83, 154, 176, 163,  26, 123, 101,  93, 211,   5,  47,\n",
       "       177,  92, 116,  41,  91, 120, 110,  90,  75, 140, 239, 131, 209,\n",
       "        63,  85, 185, 115, 193, 168, 135, 144,  37, 156, 139, 117, 147,\n",
       "       157,  98, 111, 165,  74,  46,  60, 172, 125], dtype=int64)"
      ]
     },
     "execution_count": 55,
     "metadata": {},
     "output_type": "execute_result"
    }
   ],
   "source": [
    "X_train['pixel400'].unique()"
   ]
  },
  {
   "cell_type": "code",
   "execution_count": 51,
   "metadata": {},
   "outputs": [
    {
     "data": {
      "text/plain": [
       "14390    3\n",
       "29371    6\n",
       "6751     5\n",
       "149      0\n",
       "9717     6\n",
       "        ..\n",
       "3927     0\n",
       "16961    9\n",
       "652      1\n",
       "32840    6\n",
       "35914    2\n",
       "Name: label, Length: 33600, dtype: int64"
      ]
     },
     "execution_count": 51,
     "metadata": {},
     "output_type": "execute_result"
    }
   ],
   "source": [
    "y_train"
   ]
  },
  {
   "cell_type": "markdown",
   "metadata": {},
   "source": [
    "#### Redução de dimensionalidade - PCA\n",
    "Vamos olhar nesse momento todas as componentes para tentar determinar qual o melhor valor para o novo espaço dimensional (L)."
   ]
  },
  {
   "cell_type": "code",
   "execution_count": 56,
   "metadata": {},
   "outputs": [],
   "source": [
    "# Instancia o PCA e o scaler\n",
    "pca = PCA()\n",
    "scaler = StandardScaler()\n",
    "\n",
    "# Aplica o scaler\n",
    "X_train_sc = scaler.fit_transform(X_train)\n",
    "\n",
    "# Fita o pca\n",
    "pca.fit(X_train_sc)\n",
    "\n",
    "# Constrói o acumulado de aumento da variância em %\n",
    "accumulated_sum = pca.explained_variance_ratio_.cumsum()*100"
   ]
  },
  {
   "cell_type": "code",
   "execution_count": 57,
   "metadata": {},
   "outputs": [
    {
     "data": {
      "text/plain": [
       "array([  5.75024024,   9.8794501 ,  13.67287325,  16.6190833 ,\n",
       "        19.18149592,  21.41806896,  23.37623663,  25.15832795,\n",
       "        26.72898347,  28.16451585,  29.53138076,  30.75441836,\n",
       "        31.89567793,  33.01149826,  34.06660836,  35.08082479,\n",
       "        36.04304429,  36.98044426,  37.89471538,  38.78315273,\n",
       "        39.62905565,  40.44859276,  41.2322256 ,  41.99268955,\n",
       "        42.72714156,  43.42911952,  44.12070015,  44.79190883,\n",
       "        45.42733625,  46.04663039,  46.66310865,  47.26803038,\n",
       "        47.85842578,  48.44048709,  49.01912232,  49.58288907,\n",
       "        50.13677291,  50.67985013,  51.20997334,  51.72870976,\n",
       "        52.23284235,  52.7219575 ,  53.20157869,  53.67740858,\n",
       "        54.14063064,  54.59663205,  55.04833107,  55.49373018,\n",
       "        55.93704263,  56.37456642,  56.80516805,  57.22816427,\n",
       "        57.64065995,  58.04351916,  58.44491799,  58.83795708,\n",
       "        59.22406653,  59.60164105,  59.97437128,  60.34354078,\n",
       "        60.7004195 ,  61.05207358,  61.4015458 ,  61.74728326,\n",
       "        62.08980679,  62.42806465,  62.76229758,  63.09275808,\n",
       "        63.41519151,  63.73666806,  64.05575218,  64.37147965,\n",
       "        64.6818037 ,  64.98861065,  65.29178926,  65.59368803,\n",
       "        65.89241579,  66.18744676,  66.47970671,  66.77064951,\n",
       "        67.05670488,  67.34131276,  67.62379408,  67.90445945,\n",
       "        68.18296738,  68.45889657,  68.73309817,  69.00690883,\n",
       "        69.27465807,  69.53894979,  69.80117436,  70.06185087,\n",
       "        70.31920392,  70.57560219,  70.82981849,  71.0823701 ,\n",
       "        71.33415548,  71.58068903,  71.82411882,  72.06423851,\n",
       "        72.30143099,  72.53674784,  72.77053531,  73.00253641,\n",
       "        73.23208741,  73.45891818,  73.68526566,  73.90817758,\n",
       "        74.12820886,  74.34573692,  74.56118303,  74.77477761,\n",
       "        74.98629302,  75.1965735 ,  75.40085733,  75.60342337,\n",
       "        75.80568154,  76.0055859 ,  76.2024236 ,  76.39855372,\n",
       "        76.59335254,  76.78615386,  76.97846868,  77.16722423,\n",
       "        77.35372794,  77.53911669,  77.72153667,  77.90372331,\n",
       "        78.08424652,  78.2621257 ,  78.43866671,  78.6141513 ,\n",
       "        78.78728648,  78.95911429,  79.12911991,  79.29701602,\n",
       "        79.4633366 ,  79.6268997 ,  79.78884363,  79.95035638,\n",
       "        80.11108555,  80.27040544,  80.42793079,  80.58312063,\n",
       "        80.73817277,  80.89167132,  81.04446837,  81.19580332,\n",
       "        81.3457253 ,  81.49408328,  81.64189577,  81.78954866,\n",
       "        81.93562087,  82.08048453,  82.22490384,  82.36721056,\n",
       "        82.50928021,  82.6512603 ,  82.7930189 ,  82.93455269,\n",
       "        83.07540325,  83.21564855,  83.35540459,  83.4930473 ,\n",
       "        83.62999343,  83.76645072,  83.90167774,  84.03580106,\n",
       "        84.16904611,  84.30181391,  84.43391972,  84.56528199,\n",
       "        84.69434659,  84.82274477,  84.95096546,  85.07833225,\n",
       "        85.20531232,  85.33061785,  85.45448462,  85.57706439,\n",
       "        85.69882081,  85.81979495,  85.94019827,  86.05821512,\n",
       "        86.17524815,  86.29111653,  86.40578839,  86.51965546,\n",
       "        86.63235145,  86.7440188 ,  86.85521427,  86.96474809,\n",
       "        87.07312768,  87.18108005,  87.28768514,  87.39268682,\n",
       "        87.49649616,  87.59917101,  87.70127757,  87.80223832,\n",
       "        87.90224887,  88.00074334,  88.09911311,  88.19617187,\n",
       "        88.29265691,  88.3888053 ,  88.48434453,  88.57920594,\n",
       "        88.67287688,  88.76584406,  88.85840519,  88.94876805,\n",
       "        89.03889042,  89.12816429,  89.21712739,  89.30551442,\n",
       "        89.39261069,  89.47916443,  89.56499635,  89.64947866,\n",
       "        89.73284028,  89.81558322,  89.89777016,  89.97959006,\n",
       "        90.06101203,  90.14158808,  90.22153835,  90.30110659,\n",
       "        90.3803823 ,  90.457075  ,  90.53320911,  90.60884738,\n",
       "        90.68376049,  90.75833433,  90.83178698,  90.9046839 ,\n",
       "        90.97733114,  91.04922885,  91.12064262,  91.19070536,\n",
       "        91.26009957,  91.3290616 ,  91.39718342,  91.46471387,\n",
       "        91.53158718,  91.59794033,  91.66319659,  91.72822622,\n",
       "        91.79241476,  91.8560487 ,  91.91927684,  91.98185489,\n",
       "        92.04365969,  92.10515766,  92.16608248,  92.2261176 ,\n",
       "        92.28568326,  92.34435385,  92.40284993,  92.46103785,\n",
       "        92.51891901,  92.57637267,  92.63333822,  92.68955154,\n",
       "        92.74542812,  92.80060164,  92.85542552,  92.90982105,\n",
       "        92.96415099,  93.01770086,  93.07101592,  93.12356615,\n",
       "        93.1759543 ,  93.22823546,  93.28018449,  93.33091112,\n",
       "        93.3810281 ,  93.43085735,  93.48004436,  93.52904303,\n",
       "        93.57770804,  93.62591278,  93.6738934 ,  93.72155491,\n",
       "        93.7684197 ,  93.81459076,  93.86025766,  93.90577022,\n",
       "        93.95085499,  93.99554788,  94.04003218,  94.08433203,\n",
       "        94.12808967,  94.17126462,  94.21435811,  94.25713081,\n",
       "        94.29938354,  94.34149157,  94.38333877,  94.42444819,\n",
       "        94.46535771,  94.50609199,  94.54661837,  94.58680086,\n",
       "        94.62664984,  94.6661711 ,  94.70515219,  94.74396047,\n",
       "        94.78236935,  94.82046994,  94.85822291,  94.89574453,\n",
       "        94.93281856,  94.96975124,  95.00615234,  95.04246855,\n",
       "        95.07828691,  95.11390112,  95.149097  ,  95.18404789,\n",
       "        95.21888225,  95.25316413,  95.28720734,  95.32111858,\n",
       "        95.35465642,  95.3877508 ,  95.42061547,  95.45336483,\n",
       "        95.48607221,  95.5183033 ,  95.5503149 ,  95.58223477,\n",
       "        95.61380395,  95.64521325,  95.67618401,  95.70710757,\n",
       "        95.73782023,  95.76843574,  95.79880638,  95.82914451,\n",
       "        95.85921529,  95.88921337,  95.91903393,  95.94846964,\n",
       "        95.97764779,  96.00634884,  96.03492852,  96.06330601,\n",
       "        96.0915276 ,  96.11961185,  96.14744062,  96.17512019,\n",
       "        96.20264154,  96.23001035,  96.25712567,  96.28384053,\n",
       "        96.31044106,  96.33673637,  96.362739  ,  96.38859458,\n",
       "        96.4141762 ,  96.43943919,  96.46436515,  96.48916489,\n",
       "        96.51374203,  96.5381961 ,  96.56251118,  96.58674909,\n",
       "        96.61076861,  96.63455133,  96.65817854,  96.68166087,\n",
       "        96.70511875,  96.72830757,  96.7512703 ,  96.77422559,\n",
       "        96.79687413,  96.81949187,  96.84203014,  96.86432481,\n",
       "        96.88656997,  96.90851691,  96.93039435,  96.95217649,\n",
       "        96.97389863,  96.9954141 ,  97.01673808,  97.03791898,\n",
       "        97.05890438,  97.07970879,  97.10040734,  97.12095187,\n",
       "        97.14144441,  97.16183805,  97.18209417,  97.20226366,\n",
       "        97.22222064,  97.24214196,  97.26174752,  97.28120135,\n",
       "        97.30061056,  97.31990851,  97.33901213,  97.35807846,\n",
       "        97.3770114 ,  97.39590904,  97.41453688,  97.43314931,\n",
       "        97.45159148,  97.46979866,  97.48779183,  97.5056324 ,\n",
       "        97.5234408 ,  97.54116213,  97.55880027,  97.5762822 ,\n",
       "        97.59359802,  97.61085832,  97.62804051,  97.64514972,\n",
       "        97.66215742,  97.6790098 ,  97.69582984,  97.71249361,\n",
       "        97.72908253,  97.74559008,  97.76196492,  97.77830158,\n",
       "        97.7946104 ,  97.81064598,  97.82658179,  97.84241194,\n",
       "        97.85817681,  97.87387699,  97.88952875,  97.90514308,\n",
       "        97.92058322,  97.93585471,  97.95107081,  97.96617035,\n",
       "        97.98115383,  97.99606143,  98.0107473 ,  98.02538654,\n",
       "        98.03993763,  98.05444607,  98.0689197 ,  98.08335219,\n",
       "        98.09769118,  98.11194533,  98.12614306,  98.14025494,\n",
       "        98.15428018,  98.16825021,  98.18214097,  98.19598863,\n",
       "        98.20973744,  98.22346047,  98.23713613,  98.25072322,\n",
       "        98.26423767,  98.27764676,  98.29097734,  98.30426819,\n",
       "        98.31749263,  98.3306538 ,  98.34368058,  98.35666004,\n",
       "        98.36959334,  98.38239893,  98.39519614,  98.40794408,\n",
       "        98.4206191 ,  98.43319554,  98.44575716,  98.45827533,\n",
       "        98.47066213,  98.48300064,  98.49526586,  98.50742744,\n",
       "        98.51956054,  98.53160361,  98.54353907,  98.55538519,\n",
       "        98.56720199,  98.57893242,  98.59063011,  98.60222838,\n",
       "        98.61374166,  98.62516748,  98.63657087,  98.64790036,\n",
       "        98.65920787,  98.67038588,  98.68148045,  98.69254241,\n",
       "        98.70356274,  98.71452848,  98.72548895,  98.73635953,\n",
       "        98.74719281,  98.75795284,  98.76866219,  98.77930037,\n",
       "        98.78991892,  98.80041943,  98.81089465,  98.82133646,\n",
       "        98.83172122,  98.84207407,  98.85234082,  98.86256083,\n",
       "        98.87275475,  98.88287569,  98.89291635,  98.90293875,\n",
       "        98.91288187,  98.9228069 ,  98.93269764,  98.94251839,\n",
       "        98.95224467,  98.96193601,  98.97159494,  98.98120707,\n",
       "        98.99078822,  99.00029853,  99.00978597,  99.01922329,\n",
       "        99.0285703 ,  99.03789323,  99.04719193,  99.05643789,\n",
       "        99.06556216,  99.07463431,  99.08368521,  99.09267185,\n",
       "        99.10162413,  99.11052437,  99.11939513,  99.1282166 ,\n",
       "        99.13698026,  99.1456553 ,  99.15428516,  99.16286398,\n",
       "        99.17139092,  99.17989971,  99.18838692,  99.19678551,\n",
       "        99.20517297,  99.21352889,  99.2218437 ,  99.23010681,\n",
       "        99.23830452,  99.24641945,  99.25449975,  99.26252293,\n",
       "        99.27049751,  99.27843488,  99.28634796,  99.29418199,\n",
       "        99.30199497,  99.30976554,  99.31751579,  99.32522973,\n",
       "        99.33285263,  99.34043978,  99.34800727,  99.35549434,\n",
       "        99.36295009,  99.37036837,  99.37772986,  99.38507137,\n",
       "        99.39235993,  99.39962056,  99.4068476 ,  99.41404264,\n",
       "        99.42121417,  99.42829306,  99.43533169,  99.44227535,\n",
       "        99.44919849,  99.45611506,  99.46298552,  99.46981521,\n",
       "        99.47660425,  99.48333584,  99.49004212,  99.49671667,\n",
       "        99.50335172,  99.50995912,  99.51654651,  99.5231029 ,\n",
       "        99.52959572,  99.53604118,  99.54246339,  99.54884985,\n",
       "        99.55520702,  99.56155413,  99.56784865,  99.57409282,\n",
       "        99.58029871,  99.5864803 ,  99.59259899,  99.59869965,\n",
       "        99.60475668,  99.61079681,  99.61680237,  99.62279471,\n",
       "        99.62870135,  99.6345849 ,  99.64041156,  99.64619654,\n",
       "        99.6519717 ,  99.65769223,  99.6633877 ,  99.66906434,\n",
       "        99.67472025,  99.68033119,  99.68591555,  99.69146143,\n",
       "        99.69698133,  99.70244719,  99.70786487,  99.71324058,\n",
       "        99.71860245,  99.72396115,  99.7292657 ,  99.73453005,\n",
       "        99.73977095,  99.74498463,  99.7501082 ,  99.75520008,\n",
       "        99.7602439 ,  99.76524779,  99.77024227,  99.7751937 ,\n",
       "        99.78007783,  99.78495808,  99.7898247 ,  99.79464431,\n",
       "        99.79941702,  99.80417755,  99.80885385,  99.81351662,\n",
       "        99.81814623,  99.82276573,  99.82731611,  99.83183247,\n",
       "        99.83632373,  99.840805  ,  99.84526472,  99.84968821,\n",
       "        99.85407032,  99.85840254,  99.86268975,  99.86694731,\n",
       "        99.87116344,  99.87535332,  99.87949326,  99.88359877,\n",
       "        99.88766538,  99.89167637,  99.89567882,  99.89964653,\n",
       "        99.90357234,  99.90745589,  99.91132725,  99.91513776,\n",
       "        99.91894215,  99.92271744,  99.92646985,  99.93020675,\n",
       "        99.93386155,  99.93748073,  99.94106095,  99.94461634,\n",
       "        99.94810725,  99.95158418,  99.95499601,  99.95838409,\n",
       "        99.96175717,  99.96506899,  99.9683587 ,  99.97160025,\n",
       "        99.97482756,  99.97791351,  99.98092689,  99.98392375,\n",
       "        99.98684427,  99.98968387,  99.99231482,  99.99486049,\n",
       "        99.99739259,  99.99968147, 100.        , 100.        ,\n",
       "       100.        , 100.        , 100.        , 100.        ,\n",
       "       100.        , 100.        , 100.        , 100.        ,\n",
       "       100.        , 100.        , 100.        , 100.        ,\n",
       "       100.        , 100.        , 100.        , 100.        ,\n",
       "       100.        , 100.        , 100.        , 100.        ,\n",
       "       100.        , 100.        , 100.        , 100.        ,\n",
       "       100.        , 100.        , 100.        , 100.        ,\n",
       "       100.        , 100.        , 100.        , 100.        ,\n",
       "       100.        , 100.        , 100.        , 100.        ,\n",
       "       100.        , 100.        , 100.        , 100.        ,\n",
       "       100.        , 100.        , 100.        , 100.        ,\n",
       "       100.        , 100.        , 100.        , 100.        ,\n",
       "       100.        , 100.        , 100.        , 100.        ,\n",
       "       100.        , 100.        , 100.        , 100.        ,\n",
       "       100.        , 100.        , 100.        , 100.        ,\n",
       "       100.        , 100.        , 100.        , 100.        ,\n",
       "       100.        , 100.        , 100.        , 100.        ,\n",
       "       100.        , 100.        , 100.        , 100.        ,\n",
       "       100.        , 100.        , 100.        , 100.        ,\n",
       "       100.        , 100.        , 100.        , 100.        ,\n",
       "       100.        , 100.        , 100.        , 100.        ,\n",
       "       100.        , 100.        , 100.        , 100.        ])"
      ]
     },
     "execution_count": 57,
     "metadata": {},
     "output_type": "execute_result"
    }
   ],
   "source": [
    "accumulated_sum"
   ]
  },
  {
   "cell_type": "code",
   "execution_count": 58,
   "metadata": {},
   "outputs": [
    {
     "data": {
      "image/png": "[encoded data removed]",
      "text/plain": [
       "<Figure size 576x288 with 1 Axes>"
      ]
     },
     "metadata": {
      "needs_background": "light"
     },
     "output_type": "display_data"
    }
   ],
   "source": [
    "import matplotlib.ticker as ticker\n",
    "\n",
    "# Cria labels para o eixo x\n",
    "labels = [f\"PC_{i+1}\" for i in range(pca.n_components_)]\n",
    "\n",
    "# Define um threshold para a variância explicada\n",
    "threshold=90\n",
    "\n",
    "# Calcula quantas features são necessárias para obter esse threshold\n",
    "number_of_features = list(accumulated_sum >= threshold).index(True)\n",
    "\n",
    "# Cria espaço da figura\n",
    "fig, ax = plt.subplots(1, 1, figsize=(8, 4))\n",
    "\n",
    "# Plota a soma acumulada\n",
    "ax.plot(labels, accumulated_sum)\n",
    "\n",
    "# Plota linha horizontal com o threshold da variância\n",
    "ax.axhline(y=threshold, color=\"black\", linestyle=\"--\", linewidth=1)\n",
    "\n",
    "# Plota linha vertical com a quantidade de features necessárias para esse threshold\n",
    "ax.axvline(x=number_of_features, color=\"black\", linestyle=\"--\", linewidth=1)\n",
    "\n",
    "# Seta tickers pro x\n",
    "xticks_index = np.arange(0, X.shape[0+1], 100)\n",
    "ax.xaxis.set_major_locator(ticker.FixedLocator(xticks_index))\n",
    "\n",
    "# Seta título e texto dos eixos\n",
    "ax.set_title(f\"Número de features necessárias para {threshold}% da variância explicada: {number_of_features}\")\n",
    "ax.set_xlabel(\"Variáveis independentes\"), plt.ylabel(\"Percentual da variância explicada\");"
   ]
  },
  {
   "cell_type": "code",
   "execution_count": 59,
   "metadata": {},
   "outputs": [],
   "source": [
    "# instancia o PCA com n_components igual ao número de features escolhido\n",
    "pca = PCA(n_components=number_of_features)\n",
    "\n",
    "# Cria um novo dataframe X_pca com os dados de treino no novo espaço de componentes\n",
    "X_pca = pca.fit_transform(X_train_sc)"
   ]
  },
  {
   "cell_type": "code",
   "execution_count": 61,
   "metadata": {},
   "outputs": [
    {
     "data": {
      "text/plain": [
       "(33600, 224)"
      ]
     },
     "execution_count": 61,
     "metadata": {},
     "output_type": "execute_result"
    }
   ],
   "source": [
    "X_pca.shape"
   ]
  },
  {
   "cell_type": "markdown",
   "metadata": {},
   "source": [
    "Vamos observar o efeito da reconstrução de uma imagem com as componentes principais e compará-lo com sua versão original:"
   ]
  },
  {
   "cell_type": "code",
   "execution_count": 62,
   "metadata": {},
   "outputs": [
    {
     "data": {
      "image/png": "[encoded data removed]",
      "text/plain": [
       "<Figure size 1152x288 with 20 Axes>"
      ]
     },
     "metadata": {
      "needs_background": "light"
     },
     "output_type": "display_data"
    }
   ],
   "source": [
    "# Converte X_train e y_train em arrays\n",
    "X_array = np.array(X_train_sc)\n",
    "y_array = np.array(y_train)\n",
    "\n",
    "# Cria área da figura\n",
    "fig, ax = plt.subplots(2, 10, sharex=True, sharey=True, figsize=(16, 4))\n",
    "\n",
    "# Remove os valores dos eixos\n",
    "[i.set_axis_off() for i in fig.axes]\n",
    "\n",
    "# Escreve texto acima da imagem\n",
    "plt.text(0, 1.2, \"Base original\", \n",
    "         fontdict=None, transform=ax[0, 0].transAxes)\n",
    "\n",
    "# Plota imagens originais\n",
    "[ax[0, j].imshow(X_array[n].reshape(28, 28), \n",
    "     ) for j, n in enumerate([list(y_array == k).index(True) for k in range(10)])]\n",
    "\n",
    "# Escreve texto acima da imagem\n",
    "plt.text(0, 1.2, f\"Reconstrução após redução por PCA com {number_of_features} componentes principais\", \n",
    "         fontdict=None, transform=ax[1, 0].transAxes)\n",
    "\n",
    "# Plota imagens geradas a partir das componentes principais\n",
    "[ax[1, j].imshow(\n",
    "     pca.inverse_transform(X_pca[n]).reshape(28, 28)) for j, n in enumerate([list(y_array == k).index(True) for k in range(10)])]\n",
    "\n",
    "plt.show()    "
   ]
  },
  {
   "cell_type": "markdown",
   "metadata": {},
   "source": [
    "Podemos perceber que houve uma redução na nitidez dos dígitos, mas ainda é possível reconher quais são os valores manuscritos em cada imagem."
   ]
  },
  {
   "cell_type": "markdown",
   "metadata": {},
   "source": [
    "Agora que sabemos quantas features são necessárias para explicar 90% da variância dos nossos dados vamos criar um pipeline para extrair essas features e treinar um modelo."
   ]
  },
  {
   "cell_type": "code",
   "execution_count": 63,
   "metadata": {},
   "outputs": [
    {
     "name": "stdout",
     "output_type": "stream",
     "text": [
      "\n",
      "Métricas de avaliação de treino:\n"
     ]
    },
    {
     "data": {
      "image/png": "[encoded data removed]",
      "text/plain": [
       "<Figure size 432x288 with 2 Axes>"
      ]
     },
     "metadata": {
      "needs_background": "light"
     },
     "output_type": "display_data"
    },
    {
     "name": "stdout",
     "output_type": "stream",
     "text": [
      "              precision    recall  f1-score   support\n",
      "\n",
      "           0       1.00      1.00      1.00      3297\n",
      "           1       1.00      1.00      1.00      3749\n",
      "           2       1.00      1.00      1.00      3382\n",
      "           3       1.00      1.00      1.00      3461\n",
      "           4       1.00      1.00      1.00      3281\n",
      "           5       1.00      1.00      1.00      3064\n",
      "           6       1.00      1.00      1.00      3329\n",
      "           7       1.00      1.00      1.00      3491\n",
      "           8       1.00      1.00      1.00      3236\n",
      "           9       1.00      1.00      1.00      3310\n",
      "\n",
      "    accuracy                           1.00     33600\n",
      "   macro avg       1.00      1.00      1.00     33600\n",
      "weighted avg       1.00      1.00      1.00     33600\n",
      "\n",
      "\n",
      "Métricas de avaliação de teste:\n"
     ]
    },
    {
     "data": {
      "image/png": "[encoded data removed]",
      "text/plain": [
       "<Figure size 432x288 with 2 Axes>"
      ]
     },
     "metadata": {
      "needs_background": "light"
     },
     "output_type": "display_data"
    },
    {
     "name": "stdout",
     "output_type": "stream",
     "text": [
      "              precision    recall  f1-score   support\n",
      "\n",
      "           0       0.95      0.97      0.96       835\n",
      "           1       0.99      0.98      0.98       935\n",
      "           2       0.91      0.93      0.92       795\n",
      "           3       0.89      0.92      0.90       890\n",
      "           4       0.93      0.94      0.93       791\n",
      "           5       0.92      0.90      0.91       731\n",
      "           6       0.96      0.96      0.96       808\n",
      "           7       0.92      0.94      0.93       910\n",
      "           8       0.94      0.90      0.92       827\n",
      "           9       0.92      0.90      0.91       878\n",
      "\n",
      "    accuracy                           0.93      8400\n",
      "   macro avg       0.93      0.93      0.93      8400\n",
      "weighted avg       0.93      0.93      0.93      8400\n",
      "\n"
     ]
    }
   ],
   "source": [
    "from sklearn.ensemble import RandomForestClassifier\n",
    "\n",
    "# Cria pipeline de processamento dos dados com StandardScale e PCA. Dado que:\n",
    "# accumulated_sum = pca.explained_variance_ratio_.cumsum()*100\n",
    "# number_of_features = list(accumulated_sum >= threshold).index(True)\n",
    "\n",
    "preprocessing = Pipeline ([\n",
    "    ('scaler', StandardScaler()),\n",
    "    ('pca', PCA(n_components=number_of_features))\n",
    "])\n",
    "\n",
    "pipe = Pipeline([\n",
    "    ('preprocessing', preprocessing),\n",
    "    ('model', RandomForestClassifier(n_estimators = 50, random_state = 42))\n",
    "])\n",
    "# Faz o fit do pipeline no X e y\n",
    "pipe.fit(X_train, y_train)\n",
    "\n",
    "# Printa as métricas de classificação\n",
    "metricas_classificacao(pipe, X_train, X_test, y_train, y_test)"
   ]
  },
  {
   "cell_type": "markdown",
   "metadata": {},
   "source": [
    "____________\n",
    "## Prós e Contras\n",
    "#### Prós:\n",
    "- Remove features correlacionadas: como todas as componentes principais são independentes entre si não temos mais correlação entre as features nesse novo espaço.\n",
    "- Diminui o tempo de treino\n",
    "- Pode melhorar a performance do algorítimo\n",
    "- Reduz overfiting (mas não é o melhor método, sempre dê preferência para alguma regularização)\n",
    "\n",
    "#### Contras:\n",
    "- Fica mais difícil interpretar o modelo já que agora suas features são combinações lineares das features originais\n",
    "- É obrigatório termos os dados na mesma escala (mean = 0 e standard deviation = 1)\n",
    "- Perda de informação\n",
    "- Não é recomendado utilizar com dados categóricos\n",
    "- Nessa classe que utilizamos o dataset inteiro precisa caber na RAM ([Incremental PCA](https://scikit-learn.org/stable/modules/generated/sklearn.decomposition.IncrementalPCA.html#sklearn.decomposition.IncrementalPCA))\n",
    "- Consegue detetar apenas relações lineares  ([Kernel PCA](https://scikit-learn.org/stable/modules/decomposition.html#kernel-principal-component-analysis-kpca))\n",
    "- Não leva em consideração o target na hora de criar as componentes principais (LDA)\n",
    "- Se os dados não seguem uma gaussiana multidimensional, o PCA pode não resultar nas melhores componentes.\n",
    "<img src=https://miro.medium.com/max/690/1*X_Q55Ab2FUv6sF7XqAE0tw.png width=500>\n",
    "\n",
    "## Bibliografia\n",
    "- [Exemplo de PCA aplicado em reconhecimento facial](https://www.ritchieng.com/machine-learning-dimensionality-reduction-feature-transform/)\n",
    "- [Outros métodos de extração de features: ICA, LDA, LLE, t-SNE e AE](https://towardsdatascience.com/feature-extraction-techniques-d619b56e31be)\n",
    "- [Exemplo no dataset Fashion MNIST](https://www.kaggle.com/code/residentmario/dimensionality-reduction-and-pca-for-fashion-mnist/notebook)\n",
    "- [Visualização do MNIST](https://data-science-blog.com/blog/2020/11/23/pca-and-lda/)\n",
    "- [MCA: o PCA das variáveis categóricas](https://pypi.org/project/mca/)\n",
    "- [Non linear PCA](https://scholarlypublications.universiteitleiden.nl/handle/1887/12386)\n"
   ]
  },
  {
   "cell_type": "markdown",
   "metadata": {},
   "source": [
    "# Aprofundamento\n",
    "\n",
    "## 3) A matemática do PCA\n",
    "\n",
    "(Adaptado do notebook do Walisson!)\n",
    "\n",
    "__________\n",
    "\n",
    "Considere a matriz de features $X_{N \\times n}$\n",
    "\n",
    "> $N$ linhas (observações), cada uma caracterizada por $n$ features no espaço original.\n",
    "\n",
    "Cada observação $i$ é caracterizada pelo vetor de features $\\vec{x}_i = (x_{i1}, x_{i2}, \\cdots, x_{in}$), que são as linhas da matriz de features:\n",
    "\n",
    "$$\n",
    "  X = \\left [ \\begin{array}{ccccc}\n",
    "x_{11} & x_{12} & x_{13} & \\cdots & x_{1n}\\\\ \n",
    "x_{21} & x_{22} & x_{23} & \\cdots & x_{2n}\\\\ \n",
    "\\vdots & \\vdots & \\vdots & \\cdots & \\vdots  \\\\\n",
    "x_{N1} & x_{N2} & x_{N3} & \\cdots & x_{Nn}\\\\ \n",
    "   \\end{array} \\right ] \n",
    "$$"
   ]
  },
  {
   "cell_type": "markdown",
   "metadata": {},
   "source": [
    "### Passo 1 - standardização\n",
    "\n",
    "Para dados em que as features originais $x_j$ estão em escalas diferentes, é necessário escalar os dados para que eles tenham média 0 e desvio padrão 1 (ou seja, usamos o `StandardScaler`). \n",
    "\n",
    "Isso porque os componentes são influenciados pela escala das variáveis, justamente porque as matrizes de covariâncias, $\\Sigma$ ou $\\hat{\\Sigma} = S$, são sensíveis à escala de um par de variáveis. \n",
    "\n",
    "Considere:\n",
    "\n",
    "- $\\bar{x}_j$ a média da variável $x_j$; \n",
    "- $s(x_j)$ o desvio padrão de $x_j$; \n",
    "\n",
    "Sendo $i = 1, 2,3,4,\\cdots, N$ e $j = 1, 2,3,4,\\cdots, n$.\n",
    "\n",
    "Com isso, a padronização pode ser realizada por meio da equação abaixo: \n",
    "\n",
    "- Média 0 e desvio padrão 1: \n",
    "\n",
    "$$ \\tilde{x}_{ij}= \\frac{x_{ij}-\\bar{x_j}}{s(X_j)} $$ \n",
    "\n",
    "<br>"
   ]
  },
  {
   "cell_type": "markdown",
   "metadata": {},
   "source": [
    "### Passo 2 - cálculo da matriz de covariância\n",
    "\n",
    "Calcular a matriz de **covariância**/**correlação**, que são dadas por:\n",
    "\n",
    "$$\n",
    "  S = \\left [ \\begin{array}{ccccc}\n",
    "\\hat{Var}(x_1) & \\hat{Cov}(x_1x_2) & \\hat{Cov}(x_1x_3) & \\cdots & \\hat{Cov}(x_1x_n)\\\\ \n",
    "\\hat{Cov}(x_2x_1) &\\hat{Var}(x_2)& \\hat{Cov}(x_2x_3) & \\cdots & \\hat{Cov}(x_2x_n)\\\\ \n",
    "\\vdots & \\vdots & \\vdots & \\cdots & \\vdots  \\\\\n",
    "\\hat{Cov}(x_nx_1) & \\hat{Cov}(x_nx_2)  & \\hat{Cov}(x_nx_3)  & \\cdots & \\hat{Var}(x_n)\\\\ \n",
    "   \\end{array} \\right ] \n",
    "$$\n",
    "\n",
    "<br>\n",
    "<br>\n",
    "\n",
    "$$\n",
    "  R = \\left [ \\begin{array}{ccccc}\n",
    "1 & r(x_1x_2) & r(x_1x_3) & \\cdots & r(x_1x_n)\\\\ \n",
    "r(x_2x_1) & 1 & r(x_2x_3) & \\cdots & r(x_2x_n)\\\\ \n",
    "\\vdots & \\vdots & \\vdots & \\cdots & \\vdots  \\\\\n",
    "r(x_nx_1) & r(x_nx_2)  & r(x_nx_3)  & \\cdots & 1\\\\ \n",
    "   \\end{array} \\right ] \n",
    "$$\n",
    "\n",
    "Em que:\n",
    "\n",
    "$$\n",
    " \\begin{array}{ccc}\n",
    "\\hat{Var}(x_j) = \\frac{\\sum_{i=1}^{N}(x_{ij}-\\bar{x}_j)}{N-1}, & \n",
    "\\hat{Cov}(x_{j1},x_{j2}) = \\frac{\\sum_{i=1}^N(x_{ij1}-\\bar{x_{j1}})(x_{ij2}-\\bar{x_{j2}})}{N-1}, &\n",
    "r(x_{j1},x_{j2}) = \\frac{\\hat{Cov}(x_{j1},x_{j2})}{S_{xj1}S_{xj2}}\n",
    "   \\end{array} \n",
    "$$\n",
    "\n",
    "<br>"
   ]
  },
  {
   "cell_type": "markdown",
   "metadata": {},
   "source": [
    "### Passo 3 - determinação de autovalores e autovetores\n",
    "\n",
    "As componentes principais são determinadas através da equação característica (equação de autovalores) da matriz S ou R:\n",
    "\n",
    "$$det[R - \\lambda I]= 0 $$\n",
    "\n",
    "Em que $I$ é a matriz identidade de dimensão $n \\times n $. \n",
    "\n",
    "Se R ou S tem posto completo igual a $n$, então $det[R - \\lambda I]= 0$, que pode ser reescrito como $\\mid R - \\lambda I \\mid = 0$, terá $n$ soluções. Lembrando que ter posto completo significa que nenhuma coluna é combinação linear de outra.\n",
    "\n",
    "Considere que $\\lambda_1,\\lambda_2,\\lambda_3, \\cdots, \\lambda_n$ sejam as raízes da equação característica de R ou S, então temos que  $\\lambda_1 > \\lambda_2 > \\lambda_3 > \\cdots, \\lambda_n$. \n",
    "\n",
    "Chamamos $\\lambda_i$ de **autovalores**. \n",
    "\n",
    "Além disso, para cada autovalor há um **autovetor** $\\tilde{a}_i$ associado, $\n",
    "  \\tilde{a}_i = \\left [ \\begin{array}{c}\n",
    "a_{i1}\\\\ \n",
    "a_{i2}\\\\ \n",
    "\\vdots \\\\\n",
    "a_{ip} \\\\ \n",
    "   \\end{array} \\right ] \n",
    "$\n",
    "\n",
    "O cálculo do autovetor $\\tilde{a}_i$, pode ser realizado considerando a seguinte propriedade:\n",
    "\n",
    "$$ R\\tilde{a}_i =  \\lambda_i \\tilde{a}_i $$\n",
    "\n",
    "O autovetor deve ser normalizado, isso é,\n",
    "\n",
    "$$ a_i = \\frac{\\tilde{a}_i }{\\mid \\tilde{a}_i  \\mid}$$\n",
    "\n",
    "Desta maneira, as componentes do vetor são tais que sua norma L2 é igual a 1.\n",
    "\n",
    "<br>"
   ]
  },
  {
   "cell_type": "markdown",
   "metadata": {},
   "source": [
    "### Passo 4 - cálculo das componentes principais\n",
    "\n",
    "O cálculo da i-ésima componente principal é dado por:\n",
    "\n",
    "$$PC_i = a_{i1}x_1 + a_{i2}x_2 + a_{i3}x_3 + \\cdots + a_{in}x_n $$\n",
    "\n",
    "em que $a_{i1}$ são as componetes do autovetor $a_i$ associado ao autovalor $\\lambda_i$."
   ]
  },
  {
   "cell_type": "markdown",
   "metadata": {},
   "source": [
    "__________\n",
    "\n",
    "Operacionalmente, o PCA se apoia em um procedimento matemático denominado **Singular Value Decomposition (SVD)**, que é uma forma de decompor qualquer matriz não quadrada $M_{m\\times n}$,\n",
    "\n",
    "$$M_{m\\times n} = U_{m \\times m}\\Sigma_{m \\times n}V_{n \\times n}^{\\dagger}$$\n",
    "\n",
    "- onde $U$ é uma matriz unitária $m\\times m$ real ou complexa;\n",
    "\n",
    "- $\\Sigma$ é uma matriz retangular diagonal $m\\times n$ com números reais não-negativos na diagonal;\n",
    "\n",
    "- e $V^{\\dagger}$ (a conjugada transposta de $V$) é uma matriz unitária $n\\times n$ real ou complexa. \n",
    "\n",
    "Os valores de $\\Sigma$ são os chamados valores singulares de $M$. As $m$ colunas de $U$ e as $n$ colunas de $V$ são os chamados vetores singulares à esquerda e vetores singulares à direita de $A$, respetivamente.\n",
    "\n",
    "<img src=https://upload.wikimedia.org/wikipedia/commons/thumb/c/c8/Singular_value_decomposition_visualisation.svg/800px-Singular_value_decomposition_visualisation.svg.png width=300>"
   ]
  },
  {
   "cell_type": "markdown",
   "metadata": {},
   "source": [
    "## Outros métodos\n",
    "\n",
    "### [LDA (Linear Discriminant Analysis)](http://scikit-learn.org/0.16/modules/generated/sklearn.lda.LDA.html)\n",
    "\n",
    "<img src=https://i.stack.imgur.com/Tz5mA.png width=500>"
   ]
  },
  {
   "cell_type": "markdown",
   "metadata": {},
   "source": [
    "[Prince](https://github.com/MaxHalford/prince) é um pacote do python que tem métodos implementados para lidar com vários tipos de bases:\n",
    "\n",
    "<img src=http://www.sthda.com/english/sthda-upload/images/principal-component-methods/multivariate-analysis-factoextra.png text=\"http://www.sthda.com/english/articles/31-principal-component-methods-in-r-practical-guide/\">"
   ]
  },
  {
   "cell_type": "markdown",
   "metadata": {},
   "source": [
    "# Exercício\n",
    "Aplique o PCA nos dados do projeto e verifique se houve melhora na predição do modelo.\n",
    "\n",
    "# Tarefa\n",
    "Com os dados do breast_cancer, encontre um bom valor para a quantidade de componentes principais e treine um modelo com pipeline."
   ]
  },
  {
   "cell_type": "code",
   "execution_count": null,
   "metadata": {
    "ExecuteTime": {
     "end_time": "2022-03-09T23:04:22.004286Z",
     "start_time": "2022-03-09T23:04:21.949319Z"
    }
   },
   "outputs": [],
   "source": [
    "df_bc = pd.read_csv(\"../datasets/breast_cancer.csv\")\n",
    "\n",
    "X = df_bc.drop(columns=[\"id\", \"diagnosis\"])\n",
    "y = df_bc[\"diagnosis\"]\n",
    "\n",
    "X_train, X_test, y_train, y_test = train_test_split(X, y, test_size=0.2, \n",
    "                                                    random_state=42, stratify=y)"
   ]
  },
  {
   "cell_type": "code",
   "execution_count": null,
   "metadata": {},
   "outputs": [],
   "source": [
    "from sklearn.pipeline import Pipeline\n",
    "from sklearn.ensemble import RandomForestClassifier\n",
    "\n",
    "pipe = Pipeline([\n",
    "    ('pca', PCA(n_components=0.9, random_state = 42)),\n",
    "    ('model', RandomForestClassifier(n_estimators=50))\n",
    "])\n",
    "\n",
    "pipe.fit(X_train, y_train)\n",
    "metricas_classificacao(pipe, X_train, X_test, y_train, y_test)"
   ]
  }
 ],
 "metadata": {
  "kernelspec": {
   "display_name": "Python 3",
   "language": "python",
   "name": "python3"
  },
  "language_info": {
   "codemirror_mode": {
    "name": "ipython",
    "version": 3
   },
   "file_extension": ".py",
   "mimetype": "text/x-python",
   "name": "python",
   "nbconvert_exporter": "python",
   "pygments_lexer": "ipython3",
   "version": "3.8.8"
  },
  "vscode": {
   "interpreter": {
    "hash": "cb5f626699f206ef97176a4f092b8d9f6e52ae1f84b4bb3163daf9eb25ca3519"
   }
  }
 },
 "nbformat": 4,
 "nbformat_minor": 4
}
