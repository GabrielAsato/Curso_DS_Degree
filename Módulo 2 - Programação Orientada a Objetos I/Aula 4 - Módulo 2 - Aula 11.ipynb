{
 "cells": [
  {
   "cell_type": "code",
   "execution_count": 6,
   "id": "5761f7da",
   "metadata": {},
   "outputs": [],
   "source": [
    "class Relogio:\n",
    "    def __init__(self, hora, minuto,segundo):\n",
    "        \"\"\"\n",
    "        Parâmetros\n",
    "        ----------\n",
    "        hora : int\n",
    "        minuto : int\n",
    "        segundo : int\n",
    "        \"\"\"\n",
    "        \n",
    "        # Verificação de tipos\n",
    "        if not isinstance(hora, int):\n",
    "            raise TypeError(\"Hora precisa ser do tipo inteiro\")\n",
    "        if not isinstance(minuto, int):\n",
    "            raise TypeError(\"Minuto precisa ser do tipo inteiro\")\n",
    "        if not isinstance(segundo, int):\n",
    "            raise TypeError(\"Segundo precisa ser do tipo inteiro\")\n",
    "        \n",
    "        # Definindo os intervalos \n",
    "        if hora < 0 or hora > 23:\n",
    "            raise ValueError(\"Hora precisa estar no intervalo 0-23\")\n",
    "        if minuto < 0 or minuto > 59:\n",
    "            raise ValueError(\"Minuto precisa estar no intervalo 0-59\")\n",
    "        if segundo < 0 or segundo > 59:\n",
    "            raise ValueError(\"Segundo precisa estar no intervalo 0-59\")\n",
    "    \n",
    "        self.hora = hora\n",
    "        self.minuto = minuto\n",
    "        self.segundo = segundo\n",
    "    \n",
    "    # Representa os objetos da sua classe como string\n",
    "    def __repr__(self):\n",
    "        return f\"{self.hora}:{self.minuto}:{self.segundo}\"\n",
    "    \n",
    "    # Representa os objetos da sua classe sempre que str(obj) é chamado\n",
    "    def __str__(self):\n",
    "        return f\"{self.hora:02d}:{self.minuto:02d}:{self.segundo:02d}\"\n",
    "    \n",
    "    #\n",
    "    def __add__(self, other):\n",
    "        print(other)\n",
    "        \n",
    "    #\n",
    "    def __sub__(self):\n",
    "        return\n",
    "    "
   ]
  },
  {
   "cell_type": "code",
   "execution_count": 8,
   "id": "dc9c52ec",
   "metadata": {},
   "outputs": [
    {
     "data": {
      "text/plain": [
       "22:23:34"
      ]
     },
     "execution_count": 8,
     "metadata": {},
     "output_type": "execute_result"
    }
   ],
   "source": [
    "relogio1 = Relogio(hora = 22, minuto = 23, segundo = 34)\n",
    "\n",
    "relogio1"
   ]
  },
  {
   "cell_type": "code",
   "execution_count": 16,
   "id": "89e5c239",
   "metadata": {},
   "outputs": [],
   "source": [
    "class Relogio:\n",
    "    def init(self, hora, minuto, segundo):\n",
    "        '''\n",
    "        docstring bonitinha\n",
    "        '''\n",
    "        # verificação dos tipos\n",
    "        if not isinstance(hora, int):\n",
    "            raise TypeError('Hora precisa ser do tipo inteiro.') \n",
    "        if not isinstance(minuto, int):\n",
    "            raise TypeError('Minuto precisa ser do tipo inteiro.') \n",
    "        if not isinstance(segundo, int):\n",
    "            raise TypeError('Segundo precisa ser do tipo inteiro.') \n",
    "\n",
    "        # definindo os intervalos\n",
    "        if hora < 0 or hora > 23:\n",
    "            raise ValueError('Hora precisa estar no intervalo de 0-23')\n",
    "        if minuto < 0 or minuto > 59:\n",
    "            raise ValueError('Minuto precisa estar no intervalo de 0-59')\n",
    "        if segundo < 0 or segundo > 59:\n",
    "            raise ValueError('Segundo precisa estar no intervalo de 0-59')\n",
    "\n",
    "        # finalmente criando os atributos\n",
    "        self.hora = hora\n",
    "        self.minuto = minuto\n",
    "        self.segundo = segundo\n",
    "\n",
    "    # representa os objetos da sua classe como string\n",
    "    def __repr__(self):\n",
    "        return f'{self.hora}:{self.minuto}:{self.segundo}'\n",
    "\n",
    "    # representa os objetos da sua classe\n",
    "    # sempre que str(obj) é chamado\n",
    "    def __str__(self):\n",
    "        return f'{self.hora:02d}:{self.minuto:02d}:{self.segundo:02d}'\n",
    "\n",
    "#     def eq(self):\n",
    "#         return self.hora == \n",
    "\n",
    "    def __add__(self, other):\n",
    "        soma_segundo = self.segundo + other.segundo\n",
    "        if soma_segundo > 59:\n",
    "            seg_min = 1\n",
    "            segundo = soma_segundo - 60\n",
    "        else:\n",
    "            seg_min = 0\n",
    "            segundo = soma_segundo\n",
    "            \n",
    "        soma_minuto = self.minuto + other.minuto\n",
    "        if soma_minuto > 59:\n",
    "            min_hora = 1\n",
    "            minuto = soma_minuto - 60\n",
    "        else:\n",
    "            min_hora = 0\n",
    "            minuto = soma_minuto\n",
    "            \n",
    "        soma_hora = self.hora + other.hora\n",
    "        if soma_minuto > 23:\n",
    "            hora = soma_hora - 24\n",
    "                \n",
    "        soma = Relogio(hora, minuto, segundo)\n",
    "        return soma\n",
    "    \n",
    "#     def sub(self):\n"
   ]
  },
  {
   "cell_type": "code",
   "execution_count": 18,
   "id": "3faaa03f",
   "metadata": {},
   "outputs": [
    {
     "ename": "TypeError",
     "evalue": "Relogio() takes no arguments",
     "output_type": "error",
     "traceback": [
      "\u001b[1;31m---------------------------------------------------------------------------\u001b[0m",
      "\u001b[1;31mTypeError\u001b[0m                                 Traceback (most recent call last)",
      "\u001b[1;32m<ipython-input-18-ed6ee26b7e84>\u001b[0m in \u001b[0;36m<module>\u001b[1;34m\u001b[0m\n\u001b[1;32m----> 1\u001b[1;33m relogio1 = Relogio(hora = 1,\n\u001b[0m\u001b[0;32m      2\u001b[0m                    \u001b[0mminuto\u001b[0m \u001b[1;33m=\u001b[0m \u001b[1;36m23\u001b[0m\u001b[1;33m,\u001b[0m\u001b[1;33m\u001b[0m\u001b[1;33m\u001b[0m\u001b[0m\n\u001b[0;32m      3\u001b[0m                    segundo = 34)\n\u001b[0;32m      4\u001b[0m relogio2 = Relogio(hora = 2,\n\u001b[0;32m      5\u001b[0m                    \u001b[0mminuto\u001b[0m \u001b[1;33m=\u001b[0m \u001b[1;36m30\u001b[0m\u001b[1;33m,\u001b[0m\u001b[1;33m\u001b[0m\u001b[1;33m\u001b[0m\u001b[0m\n",
      "\u001b[1;31mTypeError\u001b[0m: Relogio() takes no arguments"
     ]
    }
   ],
   "source": [
    "relogio1 = Relogio(hora = 1,\n",
    "                   minuto = 23,\n",
    "                   segundo = 34)\n",
    "relogio2 = Relogio(hora = 2,\n",
    "                   minuto = 30,\n",
    "                   segundo = 45)"
   ]
  },
  {
   "cell_type": "code",
   "execution_count": null,
   "id": "0ea6503e",
   "metadata": {},
   "outputs": [],
   "source": []
  }
 ],
 "metadata": {
  "kernelspec": {
   "display_name": "Python 3",
   "language": "python",
   "name": "python3"
  },
  "language_info": {
   "codemirror_mode": {
    "name": "ipython",
    "version": 3
   },
   "file_extension": ".py",
   "mimetype": "text/x-python",
   "name": "python",
   "nbconvert_exporter": "python",
   "pygments_lexer": "ipython3",
   "version": "3.8.8"
  }
 },
 "nbformat": 4,
 "nbformat_minor": 5
}
