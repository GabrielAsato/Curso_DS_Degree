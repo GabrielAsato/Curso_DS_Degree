{
 "cells": [
  {
   "cell_type": "markdown",
   "id": "closing-performer",
   "metadata": {},
   "source": [
    "# Aula 8 \n",
    "Luis"
   ]
  },
  {
   "cell_type": "markdown",
   "id": "vocational-pricing",
   "metadata": {},
   "source": [
    "Como ler um csv?"
   ]
  },
  {
   "cell_type": "code",
   "execution_count": 8,
   "id": "2b64a17d",
   "metadata": {},
   "outputs": [
    {
     "name": "stdout",
     "output_type": "stream",
     "text": [
      "['Luis', '73', 'n']\n",
      "['Livia', '73', 's']\n",
      "['Marcos', '91', 'n']\n"
     ]
    }
   ],
   "source": [
    "import csv\n",
    "with open('pessoas.csv', 'r') as file:\n",
    "    reader = csv.reader(file, delimiter=';')\n",
    "    # cada linha vai ser uma lista correspondente \n",
    "    # a linha do csv\n",
    "    for linha in reader:\n",
    "        print(linha)"
   ]
  },
  {
   "cell_type": "code",
   "execution_count": null,
   "id": "e9ad74bc",
   "metadata": {},
   "outputs": [],
   "source": []
  }
 ],
 "metadata": {
  "kernelspec": {
   "display_name": "Python 3",
   "language": "python",
   "name": "python3"
  },
  "language_info": {
   "codemirror_mode": {
    "name": "ipython",
    "version": 3
   },
   "file_extension": ".py",
   "mimetype": "text/x-python",
   "name": "python",
   "nbconvert_exporter": "python",
   "pygments_lexer": "ipython3",
   "version": "3.8.8"
  }
 },
 "nbformat": 4,
 "nbformat_minor": 5
}
