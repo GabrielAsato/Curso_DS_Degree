{
 "cells": [
  {
   "cell_type": "code",
   "execution_count": 6,
   "id": "c3f970c5",
   "metadata": {},
   "outputs": [],
   "source": [
    "def funcao(x, y):\n",
    "    if x > y:\n",
    "        return 1\n",
    "    return 2"
   ]
  },
  {
   "cell_type": "code",
   "execution_count": 7,
   "id": "3bb0222c",
   "metadata": {},
   "outputs": [],
   "source": [
    "a = funcao(2,3)"
   ]
  },
  {
   "cell_type": "code",
   "execution_count": 10,
   "id": "e32bf4dc",
   "metadata": {},
   "outputs": [
    {
     "name": "stdout",
     "output_type": "stream",
     "text": [
      "retorna 1\n"
     ]
    }
   ],
   "source": [
    "if funcao(4,3) == 1:\n",
    "    print(\"retorna 1\")\n",
    "else:\n",
    "    print(\"retorna 2\")"
   ]
  },
  {
   "cell_type": "code",
   "execution_count": null,
   "id": "c57e89a1",
   "metadata": {},
   "outputs": [],
   "source": []
  },
  {
   "cell_type": "code",
   "execution_count": null,
   "id": "fec9ad5a",
   "metadata": {},
   "outputs": [],
   "source": []
  }
 ],
 "metadata": {
  "kernelspec": {
   "display_name": "Python 3",
   "language": "python",
   "name": "python3"
  },
  "language_info": {
   "codemirror_mode": {
    "name": "ipython",
    "version": 3
   },
   "file_extension": ".py",
   "mimetype": "text/x-python",
   "name": "python",
   "nbconvert_exporter": "python",
   "pygments_lexer": "ipython3",
   "version": "3.8.8"
  }
 },
 "nbformat": 4,
 "nbformat_minor": 5
}
