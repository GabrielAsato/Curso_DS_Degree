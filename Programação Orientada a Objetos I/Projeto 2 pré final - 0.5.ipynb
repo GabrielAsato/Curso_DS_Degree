{
 "cells": [
  {
   "cell_type": "markdown",
   "metadata": {},
   "source": [
    "# Organizando uma eleição\n",
    "(créditos ao professor Rafael)"
   ]
  },
  {
   "cell_type": "markdown",
   "metadata": {},
   "source": [
    "O último ano foi extremamente desafiador para você. Além de estarmos vivendo uma pandemia que aumentou nossa preocupação com a nossa própria vida e com nossos entes queridos e estarmos obrigados a passar mais tempo em casa para garantir nossa segurança, você se matriculou em um curso de programação e ciência de dados para mudar de rumo em sua carreira!\n",
    "\n",
    "O _timing_ pareceu ideal: mais tempo em casa, mais tempo para estudar. Porém, você esbarrou em algumas dificuldades. O condomínio está em reforma, e você passa o dia ao som de marretadas no piso. Durante a noite, no horário da sua aula online, seus vizinhos - um casal passando por dificuldades na relação - costumam discutir em voz alta. A discussão deles frequentemente acorda o bebê do outro vizinho e todos os cachorros do andar no prédio. Deixar para estudar no final de semana não ajuda, pois o filho adolescente da família do apartamento logo acima do seu costuma trazer os colegas de banda para ensaiar. \n",
    "\n",
    "A situação se tornou insustentável, e o síndico - que é o mesmo senhorzinho desde que você se mudou para esse condomínio, há mais de 10 anos - não toma atitudes e não gosta de ser perturbado. Chegou a hora de organizar uma eleição para um novo síndico, e você tomou a iniciativa de montar um sistema eletrônico para auxiliar na votação."
   ]
  },
  {
   "cell_type": "markdown",
   "metadata": {},
   "source": [
    "## Entidades envolvidas\n",
    "\n",
    "Podemos imaginar as seguintes entidades envolvidas na eleição:\n",
    "\n",
    "* **Morador**: representa cada uma das pessoas que moram no prédio. Possui um nome, um Apartamento e é capaz de depositar um voto em um Candidato em uma Urna.\n",
    "* **Candidato**: é um tipo especial de Morador. Possui tudo o que o morador possui, mas também possui um número que será usado para representá-lo na Urna e uma contagem individual de votos.\n",
    "* **Apartamento**: representa cada uma das unidades do prédio. Possui uma lista de moradores e um status indicando se ele já votou ou não. Cada apartamento tem direito a exatamente 1 voto. Se a sua filha já votou, você não pode mais votar!\n",
    "* **Urna**: coleciona votos. Ela possui uma coleção de candidatos e uma coleção de moradores (lembrando que o candidato também conta como morador!). Ela armazena a quantidade de votos de cada candidato e é capaz de incrementar essa quantidade ao receber um voto novo. Ela também possui uma coleção de apartamentos e é capaz de determinar quais apartamentos já votaram (mas não qual apartamento votou em cada candidato - o voto é secreto). Quando o último apartamento votar, ela publica os resultados e declara o vencedor.\n",
    "\n",
    "Vamos pensar juntos em meios de implementar cada uma das classes."
   ]
  },
  {
   "cell_type": "markdown",
   "metadata": {},
   "source": [
    "### Morador\n",
    "\n",
    "A classe mais básica de nossa eleição, representando cada uma das pessoas que habitam no condomínio. O morador obrigatoriamente possui um nome e um Apartamento.\n",
    "\n",
    "Seu construtor pode ou não receber uma string contendo o nome, e pode ou não receber um objeto Apartamento. Caso ele não receba um nome, deverá solicitar a digitação de um através do input. Caso ele não receba um objeto Apartamento, deverá pedir por input o número do apartamento e criar o objeto.\n",
    "\n",
    "O nome e apartamento digitados ou recebidos deverão se tornar atributos do objeto.\n",
    "\n",
    "Nosso objeto também deverá possuir um método para votar. Ele deverá receber um objeto Urna e pode receber um número inteiro correspondente ao número de um candidato ou, caso não receba, irá ler o número pelo teclado. Ela deverá primeiro verificar se o seu apartamento já votou, e caso não tenha, ela irá chamar o método de acrescentar voto na Urna, informando o número de seu candidato e passando seu objeto apartamento. Caso contrário, ela exibirá uma mensagem alertando que esse apartamento já votou."
   ]
  },
  {
   "cell_type": "code",
   "execution_count": 215,
   "metadata": {},
   "outputs": [],
   "source": [
    "# Crie sua classe Morador aqui\n",
    "class Morador:\n",
    "    \"\"\"\n",
    "    Cria a representação de um morador\n",
    "    \"\"\"\n",
    "    def __init__(self, nome, numero_ape):\n",
    "        \"\"\"\n",
    "        Parâmetros\n",
    "        ----------\n",
    "        nome : str\n",
    "            Nome de um dos moradores do prédio. Pode ser ou não o único no apartamento.\n",
    "        numero_ape : int\n",
    "            Número do apartamento. É uma unidade do prédio.\n",
    "        \"\"\"\n",
    "        self.nome = nome\n",
    "        self.numero_ape = numero_ape\n",
    "    \n",
    "    def __repr__(self):\n",
    "        return f\"Morador(a) {self.nome} do apartamento {self.numero_ape}\"\n",
    "    \n",
    "    def votar(self, urna, numero_candidato):\n",
    "        \"\"\"\n",
    "        Parâmetros\n",
    "        ----------\n",
    "        urna : class\n",
    "            urna é um objeto da classe Urna\n",
    "        numero_candidato : str\n",
    "            numero_candidato é o número do candidato cadastrado no objeto urna\n",
    "        \n",
    "        Retorno\n",
    "        -------\n",
    "            Retorna 1, se o voto foi computado\n",
    "            Retorna 0, se não foi computado\n",
    "        \"\"\"\n",
    "        # Critérios de validade do voto\n",
    "        for apartamento in urna.lista_apartamentos:\n",
    "            \n",
    "            # (número do apartamento do morador) == (número de um apartamento cadastrado)\n",
    "            if self.numero_ape == apartamento.numero_ape:\n",
    "                \n",
    "                # (nome do morador) == (nome na lista de moradores do apartamento cadastrado)\n",
    "                for moradores in apartamento.lista_moradores:\n",
    "                    if self.nome == moradores.nome:\n",
    "\n",
    "                        # apartamento votou?\n",
    "                        if apartamento.voto == False:\n",
    "                            \n",
    "                            # Critérios atendidos: o voto é computado \n",
    "                            urna._receber_voto(numero_candidato)\n",
    "                            apartamento._alterar_voto = True\n",
    "                            return 1\n",
    "                        print(\"Esse apartamento já votou\")\n",
    "                        return 0\n",
    "        return 0"
   ]
  },
  {
   "cell_type": "markdown",
   "metadata": {},
   "source": [
    "----"
   ]
  },
  {
   "cell_type": "markdown",
   "metadata": {},
   "source": [
    "### Candidato\n",
    "\n",
    "Objetos da classe Candidato são, necessariamente, moradores. Eles possuem as mesmas informações e as mesmas ações que um morador. O que isso significa em programação orientada a objeto?\n",
    "\n",
    "Ele possui outros dois atributos: o seu número que será usado para identificá-lo na Urna e sua contagem de votos. Ambos devem ser inicializados com valor 0. \n",
    "\n",
    "Ele deve oferecer métodos para que seu número seja configurado (quando cadastrarmos o candidato na Urna, ela irá fornecer um número para ele), bem como para que sua contagem de votos seja atualizada (ao final da votação, a Urna irá atualizar a contagem de todos os candidatos)."
   ]
  },
  {
   "cell_type": "code",
   "execution_count": 216,
   "metadata": {},
   "outputs": [],
   "source": [
    "# Crie sua classe Candidato aqui\n",
    "class Candidato(Morador):\n",
    "    \"\"\"\n",
    "    Cria um objeto Candidato que herda as características de um objeto Morador\n",
    "    \"\"\"\n",
    "    def __init__(self, nome, numero_ape):\n",
    "        \"\"\"\n",
    "        Parâmetros\n",
    "        ---------\n",
    "        nome : str\n",
    "            Nome do candidato\n",
    "        numero_ape : int\n",
    "            Número do apartamento\n",
    "        \"\"\"\n",
    "        super().__init__(nome, numero_ape)\n",
    "        self.__numero_candidato = 0\n",
    "        self.__contagem_voto = 0   \n",
    "    \n",
    "    def __repr__(self):\n",
    "        return f\"Candidato(a) {self.nome}, do apartamento {self.numero_ape}\"\n",
    "    \n",
    "    @property\n",
    "    def numero_candidato(self):\n",
    "        return self.__numero_candidato\n",
    "    \n",
    "    @numero_candidato.setter\n",
    "    def _alterar_numero_candidato(self, numero_candidato):\n",
    "        \"\"\"\n",
    "        Atualiza o número do candidato, recurso não disponível para usuário\n",
    "        \"\"\"\n",
    "        self.__numero_candidato = numero_candidato        \n",
    "              \n",
    "    @property\n",
    "    def contagem_voto(self):\n",
    "        return self.__contagem_voto\n",
    "    \n",
    "    @contagem_voto.setter\n",
    "    def _alterar_contagem_voto(self, numero_votos):\n",
    "        \"\"\"\n",
    "        Atualiza a contagem de votos, recurso não disponível para usuário\n",
    "        \"\"\"\n",
    "        self.__contagem_voto = numero_votos"
   ]
  },
  {
   "cell_type": "markdown",
   "metadata": {},
   "source": [
    "----"
   ]
  },
  {
   "cell_type": "markdown",
   "metadata": {},
   "source": [
    "### Apartamento\n",
    "\n",
    "Objetos da classe Apartamento irão agregar objetos Morador. Isso significa que um de seus atributos será uma lista de moradores. Quando um Apartamento é criado, sua lista começará vazia. O Apartamento deve oferecer métodos para adicionar moradores novos (recebe um objeto Morador e adiciona à lista) e para visualizar seus moradores.\n",
    "\n",
    "Cada apartamento tem direito a exatamente um voto na eleição para síndico. Portanto, cada objeto também deve ter um atributo indicando se aquele apartamento já votou ou não. A classe deve fornecer meios para que a esse atributo possa ser atualizado, pois quando um morador votar, a urna irá alterar esse atributo registrando que o apartamento já votou."
   ]
  },
  {
   "cell_type": "code",
   "execution_count": 217,
   "metadata": {},
   "outputs": [],
   "source": [
    "# Crie sua classe Apartamento aqui\n",
    "class Apartamento:\n",
    "    \"\"\"\n",
    "    Representa um apartamento com moradores.\n",
    "    \"\"\"\n",
    "    def __init__(self, numero_ape):\n",
    "        \"\"\"\n",
    "        Parâmetros\n",
    "        ----------\n",
    "        numero_ape : int\n",
    "            número do apartamento\n",
    "        lista_moradores : list\n",
    "            lista com o nome dos moradores do apartamento\n",
    "        voto : bool\n",
    "            variável booleana. False se não votou\n",
    "        \"\"\"\n",
    "        self.numero_ape = numero_ape\n",
    "        self.lista_moradores = []\n",
    "        self.__voto = False\n",
    "    \n",
    "    @property\n",
    "    def voto(self):\n",
    "        return self.__voto\n",
    "    \n",
    "    @voto.setter\n",
    "    def _alterar_voto(self, boolean):\n",
    "        \"\"\"\n",
    "        Se self.__voto é False, troca-se o valor, recurso não disponível para usuário\n",
    "        \"\"\"\n",
    "        if self.__voto == False:\n",
    "            self.__voto = boolean\n",
    "                \n",
    "    def __repr__(self):\n",
    "        return f\"Apartamento {self.numero_ape}\"\n",
    "    \n",
    "    def adicionar_morador(self, morador):\n",
    "        \"\"\"\n",
    "        Parâmetro\n",
    "        ---------\n",
    "        morador : class\n",
    "            Objeto da classe Morador\n",
    "            \n",
    "        Retorno\n",
    "        -------\n",
    "            Retorna 0, se não foi adicionado\n",
    "            Retorna 1, se morador for adicionado na self.lista_moradores\n",
    "        \"\"\"\n",
    "        # Verifica se o morador já mora no apartamento\n",
    "        for pessoa in self.lista_moradores:\n",
    "            if morador.nome == pessoa.nome:\n",
    "                return 0\n",
    "            \n",
    "        # Adiciona o morador no apartamento de mesmo número\n",
    "        if self.numero_ape == morador.numero_ape:\n",
    "            self.lista_moradores.append(morador)\n",
    "            return 1\n",
    "        return 0"
   ]
  },
  {
   "cell_type": "markdown",
   "metadata": {},
   "source": [
    "----"
   ]
  },
  {
   "cell_type": "markdown",
   "metadata": {},
   "source": [
    "### Urna\n",
    "A classe mais complexa do projeto. Ela é responsável por boa parte da lógica da nossa eleição.\n",
    "\n",
    "Seu construtor deverá criar como atributos uma coleção de apartamentos e outra de candidatos - escolha a estrutura de dados que julgar mais adequada.\n",
    "\n",
    "A classe deve fornecer métodos que permitam o cadastro de apartamentos (recebendo como parâmetro objetos Apartamento já existentes) e candidatos (idem). Ao receber um candidato para cadastro, ela deverá gerar um número **único** para representar esse candidato na eleição e irá ajustar esse atributo diretamente no objeto candidato.\n",
    "\n",
    "Ela também deve ter um método para receber um voto, que deve receber um objeto apartamento e o número de um candidato. Ela deve atualizar a contagem de voto do candidato cujo número foi recebido, e marcar aquele apartamento como já votado. Se o apartamento que votou era o último que ainda podia votar, a urna deve imediatamente imprimir os resultados.\n",
    "\n",
    "Bole uma maneira que a urna possa sinalizar para o programa principal se ela já encerrou a votação ou não."
   ]
  },
  {
   "cell_type": "code",
   "execution_count": 218,
   "metadata": {},
   "outputs": [],
   "source": [
    "# Crie sua classe Urna aqui\n",
    "import matplotlib.pyplot as plt\n",
    "\n",
    "class Urna:\n",
    "    \"\"\"\n",
    "    Cria um objeto urna para uma votação em condomínio\n",
    "    \"\"\"\n",
    "    def __init__(self, lista_apartamentos = [], lista_candidatos = []):\n",
    "        \"\"\"\n",
    "        Parâmetros\n",
    "        ----------\n",
    "        lista_apartamentos : lista\n",
    "            lista de apartamentos votantes\n",
    "        lista_candidatos : lista\n",
    "            lista dos moradores candidatos\n",
    "        total_votos : int\n",
    "            contabiliza o número total de votos válidos\n",
    "        \"\"\"\n",
    "        self.lista_apartamentos = lista_apartamentos\n",
    "        self.lista_candidatos = lista_candidatos\n",
    "        self.__total_votos = 0\n",
    "        \n",
    "    @property\n",
    "    def total_votos(self):\n",
    "        return self.__total_votos\n",
    "            \n",
    "    def __repr__(self):\n",
    "        return \"Urna de votação\"\n",
    "    \n",
    "    def cadastrar_apartamentos(self, apartamento):\n",
    "        \"\"\"\n",
    "        Parâmetro\n",
    "        ---------\n",
    "        apartamento : class\n",
    "            apartamento é objeto da classe Apartamento\n",
    "            \n",
    "        Retorno\n",
    "        -------\n",
    "            Retorna 0, se o apartamento não foi cadastrado\n",
    "            Retorna 1, se o apartamento foi cadastrado\n",
    "        \"\"\"\n",
    "        # Apartamento não é cadastrado se não existem moradores\n",
    "        if apartamento.lista_moradores == []:\n",
    "            return 0\n",
    "        \n",
    "        if apartamento not in self.lista_apartamentos:\n",
    "            self.lista_apartamentos.append(apartamento)\n",
    "            return 1\n",
    "        return 0\n",
    "    \n",
    "    def cadastrar_candidatos(self, candidato):\n",
    "        \"\"\"        \n",
    "        Parâmetro\n",
    "        ---------\n",
    "        morador : class\n",
    "            morador é objeto da classe Morador\n",
    "            \n",
    "        Retorno\n",
    "        -------\n",
    "            Retorna 0, se o candidato não foi cadastrado\n",
    "            Retorna 1, se o candidato foi cadastrado\n",
    "        \"\"\"\n",
    "        # Checar a existência do candidato na lista de candidatos\n",
    "        for pessoa in self.lista_candidatos:\n",
    "            if candidato.nome == pessoa.nome:\n",
    "                return 0\n",
    "            \n",
    "        # Configura o número do candidato pelo índice na lista\n",
    "        indice = len(self.lista_candidatos)\n",
    "        candidato._alterar_numero_candidato = indice\n",
    "        self.lista_candidatos.append(candidato)\n",
    "        return 1\n",
    "    \n",
    "    def imprimir_candidatos(self):\n",
    "        print(\"\\nOs candidatos são:\")\n",
    "        print(\"----------------------------------------------------------\")\n",
    "        for i in range(len(self.lista_candidatos)):\n",
    "            print(f\"{self.lista_candidatos[i].nome}, número do candidato: {i}\")\n",
    "        print(\"----------------------------------------------------------\\n\")\n",
    "    \n",
    "    def _receber_voto(self, numero_candidato): \n",
    "        \"\"\"\n",
    "        Atualiza a contagem de votos de cada candidato e a contagem total de votos.       \n",
    "        Recurso não disponível para usuário\n",
    "        \n",
    "        Parâmetro\n",
    "        ---------\n",
    "        numero_candidato : int\n",
    "            Número do candidato, é referente ao seu índice\n",
    "        \"\"\"\n",
    "        # Soma 1 voto para o candidato\n",
    "        self.lista_candidatos[numero_candidato]._alterar_contagem_voto += 1\n",
    "        # Soma 1 voto para o total de votos\n",
    "        self.__total_votos += 1\n",
    "    \n",
    "    def status_votacao(self):\n",
    "        \"\"\"\n",
    "        Verifica o status de votação\n",
    "        \n",
    "        Retorno\n",
    "        -------\n",
    "            Retorna 0 se a votação continua\n",
    "            Retorna 1 se a votação terminou\n",
    "        \"\"\"\n",
    "        # Caso 1: Se a lista de candidatos contém um candidato, este candidato já é o vencedor\n",
    "        if len(self.lista_candidatos) == 1:\n",
    "            # \"Chapa única\"\n",
    "            return 1\n",
    "        \n",
    "        # Caso 2: Se a lista de candidatos não tiver candidato, não tem votação\n",
    "        if len(self.lista_candidatos) == 0:\n",
    "            # \"Não tem candidato\"\n",
    "            return 1\n",
    "        \n",
    "        # Casos com mais de 1 candidato\n",
    "        # Caso 3: Número total de votos < número de apartamentos cadastrados\n",
    "        for pessoa in self.lista_candidatos:            \n",
    "            if self.__total_votos < len(self.lista_apartamentos):\n",
    "                print(\"Votação em andamento\")\n",
    "                return 0\n",
    "            \n",
    "            # Caso 4: Número total de votos == número de apartamentos cadastrados\n",
    "            print(\"Fim da votação\")\n",
    "            return 1\n",
    "    \n",
    "    def resultado(self):\n",
    "        \"\"\"\n",
    "        Imprime o resultado da votação\n",
    "        \"\"\"\n",
    "        # Lista com todos com as contagens de voto\n",
    "        votos = []\n",
    "        for candidato in self.lista_candidatos:\n",
    "            votos.append(candidato.contagem_voto)\n",
    "            \n",
    "        # Candidato com maior número de votos\n",
    "        for candidato in self.lista_candidatos:\n",
    "            if candidato.contagem_voto == max(votos) and (len(self.lista_candidatos) > 1):\n",
    "                print(f\"O {candidato.nome} recebeu {max(votos)} votos\")\n",
    "        \n",
    "        # Função plotar gráfico\n",
    "        def graficoVotos(candidatos, votos):\n",
    "            plt.bar(candidatos, votos)\n",
    "            plt.title('Resultado das eleições')\n",
    "            plt.xlabel('Candidatos')\n",
    "            plt.ylabel('Votos')\n",
    "# -------------------------------------------------------------------------------------------        \n",
    "        # Caso 1: Mais de 1 candidato\n",
    "        if (len(self.lista_candidatos) > 1) and (self.status_votacao() == 1):\n",
    "            lista_candidato_voto=[]\n",
    "            for candidato in self.lista_candidatos:\n",
    "                lista_candidato_voto.append(candidato.nome)\n",
    "            graficoVotos(lista_candidato_voto, votos)\n",
    "            plt.show()\n",
    "        \n",
    "        # Caso 2: Com um candidato\n",
    "        if (len(self.lista_candidatos) == 1) and (self.status_votacao() == 1):\n",
    "            for candidato in self.lista_candidatos:\n",
    "                print(f\"Vencedor foi {candidato.nome}\")\n",
    "        \n",
    "        # Caso 3: Sem candidatos\n",
    "        if (len(self.lista_candidatos) == 0) and (self.status_votacao() == 1):\n",
    "                print(\"Não tem candidatos para essa eleição\")"
   ]
  },
  {
   "cell_type": "markdown",
   "metadata": {},
   "source": [
    "---"
   ]
  },
  {
   "cell_type": "markdown",
   "metadata": {},
   "source": [
    "## O programa principal\n",
    "\n",
    "Seu programa principal terá 3 etapas - fique à vontade para modularizar essas etapas com o auxílio de funções, ou mesmo utilizar outras classes se julgar necessário.\n",
    "\n",
    "* Cadastro: o programa deverá ler informações sobre cada pessoa e ir criando os objetos Morador/Candidato e Apartamento correspondentes. Lembre-se de sempre perguntar se a próxima pessoa a ser lida é ou não candidata para decidir a melhor forma de instanciá-la no sistema.\n",
    "\n",
    "* Configuração: o programa deverá utilizar as informações obtidas na etapa anterior para criar uma urna.\n",
    "\n",
    "* Votação: o programa ficará em loop permitindo que diferentes moradores votem (ou tentem votar). Nessa etapa, o programa deve ser capaz de identificar qual o morador votando e utilizar os métodos criados previamente para realizar o voto. Quando a classe Urna informar que a votação acabou, o loop deve ser encerrado."
   ]
  },
  {
   "cell_type": "code",
   "execution_count": 219,
   "metadata": {},
   "outputs": [
    {
     "name": "stdout",
     "output_type": "stream",
     "text": [
      "Digite o nome do morador: João\n",
      "Digite o número do apartamento: 10\n",
      "Digite 'sim' se quer ser candidato: sim\n",
      "Digite '1' se quer cadastrar outro morador: 1\n",
      "Digite o nome do morador: Maria\n",
      "Digite o número do apartamento: 10\n",
      "Digite 'sim' se quer ser candidato: não\n",
      "Digite '1' se quer cadastrar outro morador: 1\n",
      "Digite o nome do morador: Carlos\n",
      "Digite o número do apartamento: 11\n",
      "Digite 'sim' se quer ser candidato: sim\n",
      "Digite '1' se quer cadastrar outro morador: 1\n",
      "Digite o nome do morador: Ana\n",
      "Digite o número do apartamento: 11\n",
      "Digite 'sim' se quer ser candidato: não\n",
      "Digite '1' se quer cadastrar outro morador: 1\n",
      "Digite o nome do morador: José\n",
      "Digite o número do apartamento: 21\n",
      "Digite 'sim' se quer ser candidato: não\n",
      "Digite '1' se quer cadastrar outro morador: 0\n",
      "\n",
      "Os candidatos são:\n",
      "----------------------------------------------------------\n",
      "João, número do candidato: 0\n",
      "Carlos, número do candidato: 1\n",
      "----------------------------------------------------------\n",
      "\n",
      "Votação em andamento\n",
      "Morador(a) João do apartamento 10\n",
      "Digite o número do candidato: 0\n",
      "Morador(a) Maria do apartamento 10\n",
      "Digite o número do candidato: 0\n",
      "Esse apartamento já votou\n",
      "Morador(a) Carlos do apartamento 11\n",
      "Digite o número do candidato: 1\n",
      "Morador(a) Ana do apartamento 11\n",
      "Digite o número do candidato: 1\n",
      "Esse apartamento já votou\n",
      "Morador(a) José do apartamento 21\n",
      "Digite o número do candidato: 0\n",
      "Fim da votação\n",
      "O João recebeu 2 votos\n",
      "Fim da votação\n"
     ]
    },
    {
     "data": {
      "image/png": "[encoded data removed]",
      "text/plain": [
       "<Figure size 432x288 with 1 Axes>"
      ]
     },
     "metadata": {
      "needs_background": "light"
     },
     "output_type": "display_data"
    }
   ],
   "source": [
    "## crie o programa principal aqui\n",
    "\n",
    "# Criação de um objeto Urna: urna_sindico\n",
    "urna_sindico = Urna()\n",
    "\n",
    "acao = \"1\"\n",
    "while acao == \"1\":\n",
    "    # Argumentos para os objetos\n",
    "    nome = input(\"Digite o nome do morador: \")\n",
    "    numero_ape = int(input(\"Digite o número do apartamento: \"))\n",
    "    \n",
    "    # Criando o objeto morador\n",
    "    morador = Morador(nome, numero_ape)\n",
    "    \n",
    "    # Criando e cadastrando o objeto candidato\n",
    "    candidatura = input(\"Digite 'sim' se quer ser candidato: \").lower()\n",
    "    if candidatura == 'sim':\n",
    "        candidato = Candidato(nome, numero_ape)\n",
    "        urna_sindico.lista_candidatos.append(candidato)\n",
    "   \n",
    "    # Criando o objeto apartamento e cadastrando\n",
    "    if urna_sindico.lista_apartamentos == []:\n",
    "        apartamento = Apartamento(numero_ape)\n",
    "        apartamento.adicionar_morador(morador)\n",
    "        urna_sindico.lista_apartamentos.append(apartamento)\n",
    "        \n",
    "    else:\n",
    "        # Cadastra um morador em um apartamento já cadastrado\n",
    "        for ape in urna_sindico.lista_apartamentos:\n",
    "            if ape.numero_ape == morador.numero_ape:\n",
    "                ape.adicionar_morador(morador)\n",
    "                                \n",
    "            else:\n",
    "                # Cadastro de um novo apartamento com o morador\n",
    "                lista_apes = []\n",
    "                for ape in urna_sindico.lista_apartamentos:\n",
    "                    lista_apes.append(ape.numero_ape)\n",
    "\n",
    "                if numero_ape not in lista_apes:\n",
    "                    apartamento = Apartamento(numero_ape)\n",
    "                    apartamento.adicionar_morador(morador)\n",
    "                    urna_sindico.lista_apartamentos.append(apartamento)\n",
    "    \n",
    "    # Continua o cadastro?\n",
    "    acao = input(\"Digite '1' se quer cadastrar outro morador: \")\n",
    "    \n",
    "# Imprimir os candidatos: com. imprimir_candidatos()\n",
    "urna_sindico.imprimir_candidatos()\n",
    "\n",
    "# Votação\n",
    "while urna_sindico.status_votacao() == 0:\n",
    "    \n",
    "    # Dois loops varre a lista de moradores de todos os apartamentos cadastrados\n",
    "    for apartamento in range(len(urna_sindico.lista_apartamentos)):\n",
    "        for morador in range(len(urna_sindico.lista_apartamentos[apartamento].lista_moradores)):\n",
    "            \n",
    "            # Morador vota\n",
    "            print(f\"{urna_sindico.lista_apartamentos[apartamento].lista_moradores[morador]}\")\n",
    "            # Digita o número do candidato\n",
    "            numero_do_candidato = int(input(\"Digite o número do candidato: \"))\n",
    "            \n",
    "            # Verifica se o número do candidato existe\n",
    "            while numero_do_candidato not in range(len(urna_sindico.lista_candidatos)):\n",
    "                numero_do_candidato = int(input(\"Digite o número do candidato: \"))\n",
    "                \n",
    "            # Voto é computado\n",
    "            urna_sindico.lista_apartamentos[apartamento].lista_moradores[morador].votar(urna_sindico, numero_do_candidato)\n",
    "\n",
    "# Fim da votação, imprime o resultdo\n",
    "urna_sindico.resultado()"
   ]
  },
  {
   "cell_type": "markdown",
   "metadata": {},
   "source": [
    "---"
   ]
  },
  {
   "cell_type": "markdown",
   "metadata": {},
   "source": [
    "---"
   ]
  },
  {
   "cell_type": "markdown",
   "metadata": {},
   "source": [
    "## Dicas\n",
    "\n",
    "* Métodos mágicos: no mínimo uma _representação imprimível_ dos objetos de cada classe seria desejável para facilitar a sua vida. No caso de um morador, podemos imprimir seu nome e número do apartamento. No caso de um candidato, poderíamos incluir o número da urna. No caso do apartamento, seria legal imprimir todos os moradores. E no caso da urna, podemos ter dois casos: antes da votação acabar, apenas a lista de apartamentos que já votou deveria ser impressa. Após o término da votação, ela deveria imprimir quantos votos cada candidato recebeu e qual deles venceu.\n",
    "\n",
    "* Arquivos e testes: note que vocês sempre foram orientados a passar dados por parâmetros **ou** digitá-los. Se você bolar um esquema inteligente com arquivos em formato padronizado (como CSV) e organizar direitinho seu programa principal, você consegue gerar um único arquivo com todos os moradores e suas respectivas informações (número do apartamento, se é ou não candidato e em quem gostaria de votar) e automatizar completamente as etapas do seu programa.\n",
    "\n",
    "* Segurança adicional: atualmente, cada apartamento armazena a informação se já votou ou não. Mas e se o apartamento pudesse alterar essa informação e enganar a urna? Você pode colocar uma camada redundante de segurança fazendo com que a urna TAMBÉM controle quais apartamentos já votaram. Mesmo que o apartamento diga que não votou, se a urna está registrando que ele votou, então um hipotético segundo voto deve ser recusado. Veja se consegue pensar em outras possíveis falhas de segurança em potencial no programa. Lembre-se sempre de pensar do ponto de vista de uma classe e \"desconfiar\" das outras.\n",
    "\n",
    "* Criatividade: os enunciados trazem o **mínimo** que você precisa fazer para que o seu programa funcione como foi planejado. Isso não impede que você crie outros métodos, acrescente informações que possam ser úteis e até mesmo crie outras classes para modelar melhor outros fatores que poderiam ser considerados na organização da sua eleição.\n"
   ]
  },
  {
   "cell_type": "markdown",
   "metadata": {},
   "source": [
    "## Bônus: representação visual dos votos\n",
    "\n",
    "A função abaixo gera um gráfico de barras mostrando quantos votos cada candidato teve! Cole-a em sua classe Urna e faça os devidos ajustes para que ela use os atributos da Urna ao invés dos parâmetros utilizados. \n",
    "\n",
    "O programinha na célula seguinte apenas ilustra o funcionamento da função.\n"
   ]
  },
  {
   "cell_type": "code",
   "execution_count": 6,
   "metadata": {},
   "outputs": [],
   "source": [
    "import matplotlib.pyplot as plt\n",
    "\n",
    "def graficoVotos(candidatos, votos):\n",
    "    plt.bar(candidatos, votos)\n",
    "    plt.title('Resultado das eleições')\n",
    "    plt.xlabel('Candidatos')\n",
    "    plt.ylabel('Votos')\n",
    "    "
   ]
  },
  {
   "cell_type": "code",
   "execution_count": 7,
   "metadata": {},
   "outputs": [
    {
     "data": {
      "image/png": "[encoded data removed]",
      "text/plain": [
       "<Figure size 432x288 with 1 Axes>"
      ]
     },
     "metadata": {
      "needs_background": "light"
     },
     "output_type": "display_data"
    }
   ],
   "source": [
    "candidatos = ['Python', 'JavaScript', 'HTML']\n",
    "votos = [8, 3, 4]\n",
    "\n",
    "graficoVotos(candidatos, votos)"
   ]
  },
  {
   "cell_type": "markdown",
   "metadata": {},
   "source": [
    "---"
   ]
  },
  {
   "cell_type": "markdown",
   "metadata": {},
   "source": [
    "---"
   ]
  },
  {
   "cell_type": "markdown",
   "metadata": {},
   "source": [
    "# Testando classe Moradores"
   ]
  },
  {
   "cell_type": "code",
   "execution_count": 84,
   "metadata": {},
   "outputs": [],
   "source": [
    "# Dois moradores\n",
    "joao1 = Morador(\"João Silva\", 10)\n",
    "maria1 = Morador(\"Maria Silva\", 10)"
   ]
  },
  {
   "cell_type": "code",
   "execution_count": 85,
   "metadata": {},
   "outputs": [],
   "source": [
    "# Moradores de outro apartamento\n",
    "carlos1 = Morador(\"Carlos Souza\", 11)\n",
    "ana1 = Morador(\"Ana Souza\", 11)"
   ]
  },
  {
   "cell_type": "code",
   "execution_count": 86,
   "metadata": {},
   "outputs": [],
   "source": [
    "# Morador do apartamento 21\n",
    "jose1 = Morador(\"Jose Alves\", 21)"
   ]
  },
  {
   "cell_type": "code",
   "execution_count": 87,
   "metadata": {},
   "outputs": [],
   "source": [
    "# Morador do apartamento 31. No entanto, este não vai ser vinculado \n",
    "# com nenhum apartamento e, portanto, seu voto não será computado\n",
    "ronaldo1 = Morador(\"Ronaldo Carvalho\", 31)"
   ]
  },
  {
   "cell_type": "markdown",
   "metadata": {},
   "source": [
    "# Testando classe Candidato"
   ]
  },
  {
   "cell_type": "code",
   "execution_count": null,
   "metadata": {},
   "outputs": [],
   "source": [
    "# Criar um candidato, este candidato tem os mesmos parâmetros que o Morador\n",
    "candidato_joao1 = Candidato(\"João Silva\", 10)"
   ]
  },
  {
   "cell_type": "code",
   "execution_count": null,
   "metadata": {},
   "outputs": [],
   "source": [
    "# Criar um candidato, este candidato tem os mesmos parâmetros que o Morador\n",
    "candidato_carlos1 = Candidato(\"Carlos Souza\", 11)"
   ]
  },
  {
   "cell_type": "markdown",
   "metadata": {},
   "source": [
    "# Testando classe Apartamento"
   ]
  },
  {
   "cell_type": "code",
   "execution_count": null,
   "metadata": {},
   "outputs": [],
   "source": [
    "# joao1 está vinculado com ap10\n",
    "ap10.adicionar_morador(joao1)"
   ]
  },
  {
   "cell_type": "code",
   "execution_count": null,
   "metadata": {},
   "outputs": [],
   "source": [
    "# maria1 está vinculado com ap10\n",
    "ap10.adicionar_morador(maria1)"
   ]
  },
  {
   "cell_type": "code",
   "execution_count": null,
   "metadata": {},
   "outputs": [],
   "source": [
    "# carlos1 está vinculado com ap11\n",
    "ap11.adicionar_morador(carlos1)"
   ]
  },
  {
   "cell_type": "code",
   "execution_count": null,
   "metadata": {},
   "outputs": [],
   "source": [
    "# ana1 está vinculado com ap11\n",
    "ap11.adicionar_morador(ana1)"
   ]
  },
  {
   "cell_type": "code",
   "execution_count": null,
   "metadata": {},
   "outputs": [],
   "source": [
    "# jose1 está vinculado com ap21\n",
    "ap21.adicionar_morador(jose1)"
   ]
  },
  {
   "cell_type": "markdown",
   "metadata": {},
   "source": [
    "# Testando classe Urna"
   ]
  },
  {
   "cell_type": "code",
   "execution_count": null,
   "metadata": {},
   "outputs": [],
   "source": [
    "# Cria uma urna de votação\n",
    "urna_sindico = Urna()"
   ]
  },
  {
   "cell_type": "code",
   "execution_count": null,
   "metadata": {},
   "outputs": [],
   "source": [
    "# Cadastrar apartamentos\n",
    "urna_sindico.cadastrar_apartamentos(ap10)"
   ]
  },
  {
   "cell_type": "code",
   "execution_count": null,
   "metadata": {},
   "outputs": [],
   "source": [
    "# Cadastrar apartamentos\n",
    "urna_sindico.cadastrar_apartamentos(ap11)"
   ]
  },
  {
   "cell_type": "code",
   "execution_count": null,
   "metadata": {},
   "outputs": [],
   "source": [
    "# Cadastrar apartamentos\n",
    "urna_sindico.cadastrar_apartamentos(ap20)"
   ]
  },
  {
   "cell_type": "code",
   "execution_count": null,
   "metadata": {},
   "outputs": [],
   "source": [
    "# Imprime os apartamentos cadastrados\n",
    "urna_sindico.lista_apartamentos"
   ]
  },
  {
   "cell_type": "code",
   "execution_count": null,
   "metadata": {},
   "outputs": [],
   "source": [
    "# Imprime o nome do candidato e seu número para votação\n",
    "urna_sindico.imprimir_candidatos()"
   ]
  },
  {
   "cell_type": "code",
   "execution_count": null,
   "metadata": {},
   "outputs": [],
   "source": [
    "urna_sindico.status_votacao()"
   ]
  },
  {
   "cell_type": "code",
   "execution_count": null,
   "metadata": {},
   "outputs": [],
   "source": [
    "# maria1 mora no mesmo apartamento que joao1, então o voto dela não é computado\n",
    "maria1.votar(urna_sindico, 0)\n",
    "urna_sindico.status_votacao()"
   ]
  },
  {
   "cell_type": "code",
   "execution_count": null,
   "metadata": {},
   "outputs": [],
   "source": [
    "# carlos1 vota\n",
    "carlos1.votar(urna_sindico, 1)\n",
    "urna_sindico.status_votacao()"
   ]
  },
  {
   "cell_type": "code",
   "execution_count": null,
   "metadata": {},
   "outputs": [],
   "source": [
    "# ana1 mora no mesmo apartamento que carlos1, então o voto dela não é computado\n",
    "ana1.votar(urna_sindico, 1)\n",
    "urna_sindico.status_votacao()"
   ]
  },
  {
   "cell_type": "code",
   "execution_count": null,
   "metadata": {},
   "outputs": [],
   "source": [
    "# jose1 vota\n",
    "jose1.votar(urna_sindico, 0)\n",
    "urna_sindico.status_votacao()"
   ]
  },
  {
   "cell_type": "code",
   "execution_count": null,
   "metadata": {},
   "outputs": [],
   "source": [
    "urna_sindico.total_votos"
   ]
  },
  {
   "cell_type": "markdown",
   "metadata": {},
   "source": [
    "---"
   ]
  }
 ],
 "metadata": {
  "kernelspec": {
   "display_name": "Python 3",
   "language": "python",
   "name": "python3"
  },
  "language_info": {
   "codemirror_mode": {
    "name": "ipython",
    "version": 3
   },
   "file_extension": ".py",
   "mimetype": "text/x-python",
   "name": "python",
   "nbconvert_exporter": "python",
   "pygments_lexer": "ipython3",
   "version": "3.8.8"
  }
 },
 "nbformat": 4,
 "nbformat_minor": 4
}
