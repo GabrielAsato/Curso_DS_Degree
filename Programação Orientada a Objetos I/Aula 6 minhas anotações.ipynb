{
 "cells": [
  {
   "cell_type": "markdown",
   "id": "bc64a50c",
   "metadata": {},
   "source": [
    "## Aula 6 - Herança"
   ]
  },
  {
   "cell_type": "markdown",
   "id": "542694e2",
   "metadata": {},
   "source": [
    "### Lembretes\n",
    "\n",
    "- 26/11 - Avaliação - Trabalho\n",
    "- GRUPO:\n",
    "    -\n",
    "    -\n",
    "    -\n",
    "    -"
   ]
  },
  {
   "cell_type": "markdown",
   "id": "fb40894b",
   "metadata": {},
   "source": [
    "```python\n",
    "class Celular:\n",
    "    pass\n",
    "\n",
    "class GalaxyS50 vai herdar os métodos e atributos da classe celular\n",
    "```\n",
    "asdfas\n"
   ]
  },
  {
   "cell_type": "markdown",
   "id": "ffcb5a9a",
   "metadata": {},
   "source": [
    "o lance do super é tu aproveitar tudo que já fez antes, pra tornar seu código anterior reutilizável e aumentar sua produtividade. A classe GlaxyS50 é uma extensão do Celular"
   ]
  },
  {
   "cell_type": "markdown",
   "id": "a48aa0b2",
   "metadata": {},
   "source": [
    "```python\n",
    "super().__init__(...info...):\n",
    "    ```\n",
    "pega todos os atributos"
   ]
  },
  {
   "cell_type": "code",
   "execution_count": null,
   "id": "69ee797d",
   "metadata": {},
   "outputs": [],
   "source": []
  },
  {
   "cell_type": "code",
   "execution_count": null,
   "id": "efeb082d",
   "metadata": {},
   "outputs": [],
   "source": []
  },
  {
   "cell_type": "code",
   "execution_count": null,
   "id": "5de121c3",
   "metadata": {},
   "outputs": [],
   "source": []
  },
  {
   "cell_type": "code",
   "execution_count": null,
   "id": "fe5e3948",
   "metadata": {},
   "outputs": [],
   "source": []
  },
  {
   "cell_type": "code",
   "execution_count": null,
   "id": "86ea4e86",
   "metadata": {},
   "outputs": [],
   "source": []
  }
 ],
 "metadata": {
  "kernelspec": {
   "display_name": "Python 3",
   "language": "python",
   "name": "python3"
  },
  "language_info": {
   "codemirror_mode": {
    "name": "ipython",
    "version": 3
   },
   "file_extension": ".py",
   "mimetype": "text/x-python",
   "name": "python",
   "nbconvert_exporter": "python",
   "pygments_lexer": "ipython3",
   "version": "3.8.8"
  }
 },
 "nbformat": 4,
 "nbformat_minor": 5
}
