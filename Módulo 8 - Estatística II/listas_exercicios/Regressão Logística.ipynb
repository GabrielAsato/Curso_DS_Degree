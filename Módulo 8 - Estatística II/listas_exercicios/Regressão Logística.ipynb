{
 "cells": [
  {
   "cell_type": "markdown",
   "id": "bcf989c7",
   "metadata": {},
   "source": [
    "## Raciocínio por trás da Regressão Logística"
   ]
  },
  {
   "cell_type": "code",
   "execution_count": 1,
   "id": "ef5c23bd",
   "metadata": {},
   "outputs": [],
   "source": [
    "import numpy as np\n",
    "import pandas as pd\n",
    "import matplotlib.pyplot as plt"
   ]
  },
  {
   "cell_type": "code",
   "execution_count": 2,
   "id": "99552471",
   "metadata": {},
   "outputs": [],
   "source": [
    "# Criando um dataset\n",
    "class_1 = np.random.random(20)*2 + 1\n",
    "class_2 = np.random.random(20)*2 + 0.5"
   ]
  },
  {
   "cell_type": "code",
   "execution_count": 6,
   "id": "f25db910",
   "metadata": {},
   "outputs": [],
   "source": [
    "# Retirando uma amostra do dataset\n",
    "data = pd.DataFrame()\n",
    "data['x'] = np.concatenate([class_1, class_2])\n",
    "data['y'] = [0]*20 + [1]*20 # listas com 0 e 1\n",
    "data = data.sample(frac = 1)"
   ]
  },
  {
   "cell_type": "code",
   "execution_count": 9,
   "id": "f854e43e",
   "metadata": {},
   "outputs": [
    {
     "data": {
      "text/html": [
       "<div>\n",
       "<style scoped>\n",
       "    .dataframe tbody tr th:only-of-type {\n",
       "        vertical-align: middle;\n",
       "    }\n",
       "\n",
       "    .dataframe tbody tr th {\n",
       "        vertical-align: top;\n",
       "    }\n",
       "\n",
       "    .dataframe thead th {\n",
       "        text-align: right;\n",
       "    }\n",
       "</style>\n",
       "<table border=\"1\" class=\"dataframe\">\n",
       "  <thead>\n",
       "    <tr style=\"text-align: right;\">\n",
       "      <th></th>\n",
       "      <th>x</th>\n",
       "      <th>y</th>\n",
       "    </tr>\n",
       "  </thead>\n",
       "  <tbody>\n",
       "    <tr>\n",
       "      <th>24</th>\n",
       "      <td>0.555062</td>\n",
       "      <td>1</td>\n",
       "    </tr>\n",
       "    <tr>\n",
       "      <th>33</th>\n",
       "      <td>2.203447</td>\n",
       "      <td>1</td>\n",
       "    </tr>\n",
       "    <tr>\n",
       "      <th>3</th>\n",
       "      <td>2.391583</td>\n",
       "      <td>0</td>\n",
       "    </tr>\n",
       "    <tr>\n",
       "      <th>1</th>\n",
       "      <td>1.395798</td>\n",
       "      <td>0</td>\n",
       "    </tr>\n",
       "    <tr>\n",
       "      <th>2</th>\n",
       "      <td>1.118957</td>\n",
       "      <td>0</td>\n",
       "    </tr>\n",
       "  </tbody>\n",
       "</table>\n",
       "</div>"
      ],
      "text/plain": [
       "           x  y\n",
       "24  0.555062  1\n",
       "33  2.203447  1\n",
       "3   2.391583  0\n",
       "1   1.395798  0\n",
       "2   1.118957  0"
      ]
     },
     "execution_count": 9,
     "metadata": {},
     "output_type": "execute_result"
    }
   ],
   "source": [
    "data.head()"
   ]
  },
  {
   "cell_type": "code",
   "execution_count": 11,
   "id": "f29d8b80",
   "metadata": {},
   "outputs": [
    {
     "data": {
      "image/png": "[encoded data removed]",
      "text/plain": [
       "<Figure size 432x288 with 1 Axes>"
      ]
     },
     "metadata": {
      "needs_background": "light"
     },
     "output_type": "display_data"
    }
   ],
   "source": [
    "# Temos uma distribuição categórica: 0 e 1\n",
    "plt.scatter(data['x'], data['y']);"
   ]
  },
  {
   "cell_type": "code",
   "execution_count": 14,
   "id": "deae96c2",
   "metadata": {},
   "outputs": [],
   "source": [
    "# Calcular a verossimilhança (likelihood)\n",
    "def gradient_likelihood(curr_betas, data):\n",
    "    # função logística\n",
    "    exp_num = np.exp(curr_betas[0] + curr_betas[1]*data['x'])\n",
    "    prob = exp_num/(1+exp_num)\n",
    "    \n",
    "    # d(LL)/db0 e d(LL)/db1, calcular isso na mão\n",
    "    partial_0 = np.sum(data['y'] - prob)\n",
    "    partial_1 = np.sum((data['y'] - prob)*data['x'])\n",
    "    \n",
    "    return np.array([partial_0, partial_1])"
   ]
  },
  {
   "cell_type": "code",
   "execution_count": null,
   "id": "511799d1",
   "metadata": {},
   "outputs": [],
   "source": [
    "# Condições iniciais\n",
    "curr_betas = np.array([0.0,0.0])\n",
    "diff = np.inf\n",
    "eta = 0.1\n",
    "\n",
    "while diff > 10:\n",
    "    grad = gradient_likelihood(curr_betas, data) # retorna a partial_0 e partial_1\n",
    "    diff = abs(grad).sum() # Soma das parciais\n",
    "    curr_betas += eta*grad # 0.1*partial_0, 0.1*partial_1\n",
    "    \n",
    "print(curr_betas)"
   ]
  },
  {
   "cell_type": "code",
   "execution_count": null,
   "id": "4e0d3d52",
   "metadata": {},
   "outputs": [],
   "source": [
    "plt.scatter(data['x'], data['y'])\n",
    "\n",
    "x_vals = np.arange(data['x'].min(), data['x'].max(), 0.01)\n",
    "p_vals = 1/(1+np.exp(-(curr_betas[0] + curr_betas[1]*x_vals)))\n",
    "plt.plot(x_vals, p_vals);"
   ]
  },
  {
   "cell_type": "markdown",
   "id": "80cd6c48",
   "metadata": {},
   "source": [
    "### Utilizando a biblioteca scikitlearn"
   ]
  },
  {
   "cell_type": "code",
   "execution_count": 23,
   "id": "075c3ba9",
   "metadata": {},
   "outputs": [],
   "source": [
    "from sklearn.linear_model import LogisticRegression"
   ]
  },
  {
   "cell_type": "code",
   "execution_count": 36,
   "id": "99b4ce86",
   "metadata": {},
   "outputs": [
    {
     "name": "stdout",
     "output_type": "stream",
     "text": [
      "beta_0: 2.889767804844235\n",
      "beta_1: -1.7400036666669394\n"
     ]
    }
   ],
   "source": [
    "clf = LogisticRegression(penalty = 'none')\n",
    "clf.fit(np.array(data['x']).reshape(-1,1), data['y'])\n",
    "print(f\"beta_0: {clf.intercept_[0]}\")\n",
    "print(f\"beta_1: {clf.coef_[0][0]}\")"
   ]
  },
  {
   "cell_type": "code",
   "execution_count": 37,
   "id": "7475f95a",
   "metadata": {},
   "outputs": [
    {
     "data": {
      "image/png": "[encoded data removed]",
      "text/plain": [
       "<Figure size 432x288 with 1 Axes>"
      ]
     },
     "metadata": {
      "needs_background": "light"
     },
     "output_type": "display_data"
    }
   ],
   "source": [
    "plt.scatter(data['x'], data['y'])\n",
    "\n",
    "x_vals = np.arange(data['x'].min(), data['x'].max(), 0.01)\n",
    "p_vals = 1/(1+np.exp(-(clf.intercept_[0] + clf.coef_[0][0]*x_vals)))\n",
    "plt.plot(x_vals, p_vals);"
   ]
  },
  {
   "cell_type": "code",
   "execution_count": null,
   "id": "48bce5a0",
   "metadata": {},
   "outputs": [],
   "source": []
  }
 ],
 "metadata": {
  "kernelspec": {
   "display_name": "Python 3",
   "language": "python",
   "name": "python3"
  },
  "language_info": {
   "codemirror_mode": {
    "name": "ipython",
    "version": 3
   },
   "file_extension": ".py",
   "mimetype": "text/x-python",
   "name": "python",
   "nbconvert_exporter": "python",
   "pygments_lexer": "ipython3",
   "version": "3.8.8"
  }
 },
 "nbformat": 4,
 "nbformat_minor": 5
}
