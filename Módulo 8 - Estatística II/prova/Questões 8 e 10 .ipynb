{
 "cells": [
  {
   "cell_type": "markdown",
   "id": "4f6204fc",
   "metadata": {},
   "source": [
    "## Questões da prova"
   ]
  },
  {
   "cell_type": "markdown",
   "id": "18e0b9e3",
   "metadata": {},
   "source": [
    "#### 8) Julgue as afirmativas a seguir como verdadeiras ou falsas, justificando sua resposta para as afirmativas falsas, se houver alguma\n",
    "\n",
    "1 - Com a aplicação de técnicas de regularização, overfitting é evitado a partir da redução do espaço de hipóteses acessível;\n",
    "    verdadeiro\n",
    "\n",
    "2 - A regularização L1 (lasso), pode implementar feature selection, ao efetivamente zerar os parâmetros referentes a determinadas features;\n",
    "    verdadeiro\n",
    "\n",
    "3 - A regularização L2 (ridge), pode implementar feature selection, ao efetivamente zerar os parâmetros referentes a determinadas features;\n",
    "    falso\n",
    "\n",
    "Julgando as afirmativas 1, 2 e 3, temos, respectivamente:\n",
    "\n",
    "(X) Verdadeiro / Verdadeiro / Falso\n",
    "\n",
    "( ) Verdadeiro / Verdadeiro / Verdadeiro\n",
    "\n",
    "( ) Verdadeiro / Falso / Verdadeiro\n",
    "\n",
    "( ) Falso / Falso / Falso"
   ]
  },
  {
   "cell_type": "markdown",
   "id": "b44fa16f",
   "metadata": {},
   "source": [
    "----\n",
    "----"
   ]
  },
  {
   "cell_type": "code",
   "execution_count": 59,
   "id": "da6921b3",
   "metadata": {},
   "outputs": [],
   "source": [
    "import pandas as pd\n",
    "import numpy as np\n",
    "import seaborn as sns\n",
    "from sklearn.datasets import make_regression\n",
    "from sklearn.model_selection import train_test_split\n",
    "\n",
    "X, y = make_regression(n_samples = 400,\n",
    "                       n_features = 5, n_informative = 3, \n",
    "                       noise = 25,\n",
    "                       random_state = 42)\n",
    "\n",
    "X_train, X_test, y_train, y_test = train_test_split(X, y, test_size=0.3, random_state=42)"
   ]
  },
  {
   "cell_type": "markdown",
   "id": "0d3dbba1",
   "metadata": {},
   "source": [
    "#### Ao treinar e avaliar um modelo de regressão linear (todos os hiperparâmetros default), qual é a diferença entra o erro absoluto médio (MAE), calculado nas bases de teste e treino?\n",
    "\n",
    "( ) 2.56\n",
    "\n",
    "( ) 0.88\n",
    "\n",
    "(X) Impossível de calcular esta métrica para os dados disponibilizados\n",
    "\n",
    "( ) 0\n",
    "\n",
    "( ) -3.14"
   ]
  },
  {
   "cell_type": "code",
   "execution_count": 60,
   "id": "6b5df2fe",
   "metadata": {},
   "outputs": [
    {
     "data": {
      "text/plain": [
       "((280, 5), (280,), (120, 5), (120,))"
      ]
     },
     "execution_count": 60,
     "metadata": {},
     "output_type": "execute_result"
    }
   ],
   "source": [
    "# tamanho das bases\n",
    "X_train.shape, y_train.shape, X_test.shape, y_test.shape "
   ]
  },
  {
   "cell_type": "code",
   "execution_count": 61,
   "id": "2e2a3b64",
   "metadata": {},
   "outputs": [
    {
     "data": {
      "image/png": "[encoded data removed]",
      "text/plain": [
       "<Figure size 432x288 with 1 Axes>"
      ]
     },
     "metadata": {
      "needs_background": "light"
     },
     "output_type": "display_data"
    }
   ],
   "source": [
    "sns.histplot(y_train, kde = True);\n",
    "# Próximo de uma distribuição normal"
   ]
  },
  {
   "cell_type": "code",
   "execution_count": 62,
   "id": "2333715d",
   "metadata": {},
   "outputs": [],
   "source": [
    "def plot_scatter_real_pred(y_test, y_pred):\n",
    "    \n",
    "    x = np.linspace(0, y_test.max())\n",
    "    y = x\n",
    "\n",
    "    plt.title(\"Target real x target predito\")\n",
    "    \n",
    "    plt.plot(x, y, color=\"red\", ls=\":\")\n",
    "\n",
    "    sns.scatterplot(x=y_test, y=y_pred)\n",
    "\n",
    "    plt.xlabel(\"Real\")\n",
    "    plt.ylabel(\"Predito\")\n",
    "\n",
    "    plt.show()"
   ]
  },
  {
   "cell_type": "code",
   "execution_count": 63,
   "id": "6737be5f",
   "metadata": {},
   "outputs": [],
   "source": [
    "from sklearn.linear_model import LinearRegression\n",
    "from sklearn.metrics import mean_absolute_error, mean_squared_error, mean_absolute_percentage_error\n",
    "from sklearn.metrics import r2_score\n",
    "\n",
    "\n",
    "def reg_lin_pt1_pt2(X_train, y_train, X_test, y_test, plot=True):\n",
    "\n",
    "    # ===============================\n",
    "    # passo 1 - construção do modelo\n",
    "\n",
    "    reglin = LinearRegression()\n",
    "\n",
    "    reglin.fit(X_train, y_train)\n",
    "\n",
    "    # ===============================\n",
    "    # passo 2 - avaliação do modelo\n",
    "\n",
    "    y_pred = reglin.predict(X_test)\n",
    "    \n",
    "    print(\"\\nMétricas de avaliação (dados de teste):\\n\")\n",
    "\n",
    "    if plot:\n",
    "        plot_scatter_real_pred(y_test, y_pred)\n",
    "\n",
    "    \n",
    "    print(f\"MAE, test: {mean_absolute_error(y_test, y_pred):.2f}\")\n",
    "    print(f\"MAE, train: {mean_absolute_error(y_train, y_pred):.2f}\")\n",
    "    #print(f\"RMSE: {np.sqrt(mean_squared_error(y_test, y_pred)):.2f}\")\n",
    "    #print(f\"MAPE: {(mean_absolute_percentage_error(y_test, y_pred))*100:.2f}%\")\n",
    "\n",
    "    residuos = y_test - y_pred\n",
    "    print(\"\\nDistribuição dos resíduos:\\n\")\n",
    "    print(pd.DataFrame(residuos).describe())\n",
    "    \n",
    "    if plot:\n",
    "        sns.histplot(residuos, kde=True)\n",
    "        plt.show()\n",
    "        \n",
    "    # new: returnando o objeto do modelo treinado!\n",
    "    return reglin"
   ]
  },
  {
   "cell_type": "code",
   "execution_count": 64,
   "id": "02fbeee0",
   "metadata": {},
   "outputs": [
    {
     "name": "stdout",
     "output_type": "stream",
     "text": [
      "\n",
      "Métricas de avaliação (dados de teste):\n",
      "\n"
     ]
    },
    {
     "data": {
      "image/png": "[encoded data removed]",
      "text/plain": [
       "<Figure size 432x288 with 1 Axes>"
      ]
     },
     "metadata": {
      "needs_background": "light"
     },
     "output_type": "display_data"
    },
    {
     "name": "stdout",
     "output_type": "stream",
     "text": [
      "MAE, test: 19.86\n"
     ]
    },
    {
     "ename": "ValueError",
     "evalue": "Found input variables with inconsistent numbers of samples: [280, 120]",
     "output_type": "error",
     "traceback": [
      "\u001b[1;31m---------------------------------------------------------------------------\u001b[0m",
      "\u001b[1;31mValueError\u001b[0m                                Traceback (most recent call last)",
      "\u001b[1;32m<ipython-input-64-5e08f56892bc>\u001b[0m in \u001b[0;36m<module>\u001b[1;34m\u001b[0m\n\u001b[1;32m----> 1\u001b[1;33m \u001b[0mreg_lin_pt1_pt2\u001b[0m\u001b[1;33m(\u001b[0m\u001b[0mX_train\u001b[0m\u001b[1;33m,\u001b[0m \u001b[0my_train\u001b[0m\u001b[1;33m,\u001b[0m \u001b[0mX_test\u001b[0m\u001b[1;33m,\u001b[0m \u001b[0my_test\u001b[0m\u001b[1;33m,\u001b[0m \u001b[0mplot\u001b[0m\u001b[1;33m=\u001b[0m\u001b[1;32mTrue\u001b[0m\u001b[1;33m)\u001b[0m\u001b[1;33m\u001b[0m\u001b[1;33m\u001b[0m\u001b[0m\n\u001b[0m",
      "\u001b[1;32m<ipython-input-63-b8c6891cc697>\u001b[0m in \u001b[0;36mreg_lin_pt1_pt2\u001b[1;34m(X_train, y_train, X_test, y_test, plot)\u001b[0m\n\u001b[0;32m     25\u001b[0m \u001b[1;33m\u001b[0m\u001b[0m\n\u001b[0;32m     26\u001b[0m     \u001b[0mprint\u001b[0m\u001b[1;33m(\u001b[0m\u001b[1;34mf\"MAE, test: {mean_absolute_error(y_test, y_pred):.2f}\"\u001b[0m\u001b[1;33m)\u001b[0m\u001b[1;33m\u001b[0m\u001b[1;33m\u001b[0m\u001b[0m\n\u001b[1;32m---> 27\u001b[1;33m     \u001b[0mprint\u001b[0m\u001b[1;33m(\u001b[0m\u001b[1;34mf\"MAE, train: {mean_absolute_error(y_train, y_pred):.2f}\"\u001b[0m\u001b[1;33m)\u001b[0m\u001b[1;33m\u001b[0m\u001b[1;33m\u001b[0m\u001b[0m\n\u001b[0m\u001b[0;32m     28\u001b[0m     \u001b[1;31m#print(f\"RMSE: {np.sqrt(mean_squared_error(y_test, y_pred)):.2f}\")\u001b[0m\u001b[1;33m\u001b[0m\u001b[1;33m\u001b[0m\u001b[1;33m\u001b[0m\u001b[0m\n\u001b[0;32m     29\u001b[0m     \u001b[1;31m#print(f\"MAPE: {(mean_absolute_percentage_error(y_test, y_pred))*100:.2f}%\")\u001b[0m\u001b[1;33m\u001b[0m\u001b[1;33m\u001b[0m\u001b[1;33m\u001b[0m\u001b[0m\n",
      "\u001b[1;32m~\\Anaconda3\\lib\\site-packages\\sklearn\\metrics\\_regression.py\u001b[0m in \u001b[0;36mmean_absolute_error\u001b[1;34m(y_true, y_pred, sample_weight, multioutput)\u001b[0m\n\u001b[0;32m    189\u001b[0m     \u001b[1;36m0.85\u001b[0m\u001b[1;33m...\u001b[0m\u001b[1;33m\u001b[0m\u001b[1;33m\u001b[0m\u001b[0m\n\u001b[0;32m    190\u001b[0m     \"\"\"\n\u001b[1;32m--> 191\u001b[1;33m     y_type, y_true, y_pred, multioutput = _check_reg_targets(\n\u001b[0m\u001b[0;32m    192\u001b[0m         \u001b[0my_true\u001b[0m\u001b[1;33m,\u001b[0m \u001b[0my_pred\u001b[0m\u001b[1;33m,\u001b[0m \u001b[0mmultioutput\u001b[0m\u001b[1;33m\u001b[0m\u001b[1;33m\u001b[0m\u001b[0m\n\u001b[0;32m    193\u001b[0m     )\n",
      "\u001b[1;32m~\\Anaconda3\\lib\\site-packages\\sklearn\\metrics\\_regression.py\u001b[0m in \u001b[0;36m_check_reg_targets\u001b[1;34m(y_true, y_pred, multioutput, dtype)\u001b[0m\n\u001b[0;32m     92\u001b[0m         \u001b[0mthe\u001b[0m \u001b[0mdtype\u001b[0m \u001b[0margument\u001b[0m \u001b[0mpassed\u001b[0m \u001b[0mto\u001b[0m \u001b[0mcheck_array\u001b[0m\u001b[1;33m.\u001b[0m\u001b[1;33m\u001b[0m\u001b[1;33m\u001b[0m\u001b[0m\n\u001b[0;32m     93\u001b[0m     \"\"\"\n\u001b[1;32m---> 94\u001b[1;33m     \u001b[0mcheck_consistent_length\u001b[0m\u001b[1;33m(\u001b[0m\u001b[0my_true\u001b[0m\u001b[1;33m,\u001b[0m \u001b[0my_pred\u001b[0m\u001b[1;33m)\u001b[0m\u001b[1;33m\u001b[0m\u001b[1;33m\u001b[0m\u001b[0m\n\u001b[0m\u001b[0;32m     95\u001b[0m     \u001b[0my_true\u001b[0m \u001b[1;33m=\u001b[0m \u001b[0mcheck_array\u001b[0m\u001b[1;33m(\u001b[0m\u001b[0my_true\u001b[0m\u001b[1;33m,\u001b[0m \u001b[0mensure_2d\u001b[0m\u001b[1;33m=\u001b[0m\u001b[1;32mFalse\u001b[0m\u001b[1;33m,\u001b[0m \u001b[0mdtype\u001b[0m\u001b[1;33m=\u001b[0m\u001b[0mdtype\u001b[0m\u001b[1;33m)\u001b[0m\u001b[1;33m\u001b[0m\u001b[1;33m\u001b[0m\u001b[0m\n\u001b[0;32m     96\u001b[0m     \u001b[0my_pred\u001b[0m \u001b[1;33m=\u001b[0m \u001b[0mcheck_array\u001b[0m\u001b[1;33m(\u001b[0m\u001b[0my_pred\u001b[0m\u001b[1;33m,\u001b[0m \u001b[0mensure_2d\u001b[0m\u001b[1;33m=\u001b[0m\u001b[1;32mFalse\u001b[0m\u001b[1;33m,\u001b[0m \u001b[0mdtype\u001b[0m\u001b[1;33m=\u001b[0m\u001b[0mdtype\u001b[0m\u001b[1;33m)\u001b[0m\u001b[1;33m\u001b[0m\u001b[1;33m\u001b[0m\u001b[0m\n",
      "\u001b[1;32m~\\Anaconda3\\lib\\site-packages\\sklearn\\utils\\validation.py\u001b[0m in \u001b[0;36mcheck_consistent_length\u001b[1;34m(*arrays)\u001b[0m\n\u001b[0;32m    330\u001b[0m     \u001b[0muniques\u001b[0m \u001b[1;33m=\u001b[0m \u001b[0mnp\u001b[0m\u001b[1;33m.\u001b[0m\u001b[0munique\u001b[0m\u001b[1;33m(\u001b[0m\u001b[0mlengths\u001b[0m\u001b[1;33m)\u001b[0m\u001b[1;33m\u001b[0m\u001b[1;33m\u001b[0m\u001b[0m\n\u001b[0;32m    331\u001b[0m     \u001b[1;32mif\u001b[0m \u001b[0mlen\u001b[0m\u001b[1;33m(\u001b[0m\u001b[0muniques\u001b[0m\u001b[1;33m)\u001b[0m \u001b[1;33m>\u001b[0m \u001b[1;36m1\u001b[0m\u001b[1;33m:\u001b[0m\u001b[1;33m\u001b[0m\u001b[1;33m\u001b[0m\u001b[0m\n\u001b[1;32m--> 332\u001b[1;33m         raise ValueError(\n\u001b[0m\u001b[0;32m    333\u001b[0m             \u001b[1;34m\"Found input variables with inconsistent numbers of samples: %r\"\u001b[0m\u001b[1;33m\u001b[0m\u001b[1;33m\u001b[0m\u001b[0m\n\u001b[0;32m    334\u001b[0m             \u001b[1;33m%\u001b[0m \u001b[1;33m[\u001b[0m\u001b[0mint\u001b[0m\u001b[1;33m(\u001b[0m\u001b[0ml\u001b[0m\u001b[1;33m)\u001b[0m \u001b[1;32mfor\u001b[0m \u001b[0ml\u001b[0m \u001b[1;32min\u001b[0m \u001b[0mlengths\u001b[0m\u001b[1;33m]\u001b[0m\u001b[1;33m\u001b[0m\u001b[1;33m\u001b[0m\u001b[0m\n",
      "\u001b[1;31mValueError\u001b[0m: Found input variables with inconsistent numbers of samples: [280, 120]"
     ]
    }
   ],
   "source": [
    "reg_lin_pt1_pt2(X_train, y_train, X_test, y_test, plot=True)"
   ]
  },
  {
   "cell_type": "markdown",
   "id": "717f46e8",
   "metadata": {},
   "source": [
    "----"
   ]
  }
 ],
 "metadata": {
  "kernelspec": {
   "display_name": "Python 3",
   "language": "python",
   "name": "python3"
  },
  "language_info": {
   "codemirror_mode": {
    "name": "ipython",
    "version": 3
   },
   "file_extension": ".py",
   "mimetype": "text/x-python",
   "name": "python",
   "nbconvert_exporter": "python",
   "pygments_lexer": "ipython3",
   "version": "3.8.8"
  }
 },
 "nbformat": 4,
 "nbformat_minor": 5
}
