{
 "cells": [
  {
   "cell_type": "markdown",
   "metadata": {},
   "source": [
    "# Aula 5 - Espaços de features polinomiais - aumentando a complexidade de hipóteses\n",
    "\n",
    "Na aula de hoje, vamos explorar os seguintes tópicos em Python:\n",
    "\n",
    "- 1) Espaços de features polinomiais"
   ]
  },
  {
   "cell_type": "code",
   "execution_count": 1,
   "metadata": {
    "ExecuteTime": {
     "end_time": "2022-05-03T00:04:39.221403Z",
     "start_time": "2022-05-03T00:04:38.944041Z"
    }
   },
   "outputs": [],
   "source": [
    "# https://ipython.readthedocs.io/en/stable/config/extensions/autoreload.html\n",
    "%load_ext autoreload\n",
    "%autoreload 2"
   ]
  },
  {
   "cell_type": "code",
   "execution_count": 2,
   "metadata": {
    "ExecuteTime": {
     "end_time": "2022-05-03T00:04:59.244535Z",
     "start_time": "2022-05-03T00:04:40.632645Z"
    }
   },
   "outputs": [],
   "source": [
    "from ml_utils import *"
   ]
  },
  {
   "cell_type": "code",
   "execution_count": 3,
   "metadata": {
    "ExecuteTime": {
     "end_time": "2022-05-03T00:05:01.462090Z",
     "start_time": "2022-05-03T00:05:01.133768Z"
    },
    "scrolled": true
   },
   "outputs": [
    {
     "data": {
      "text/plain": [
       "['In',\n",
       " 'LinearRegression',\n",
       " 'MinMaxScaler',\n",
       " 'Out',\n",
       " 'PolynomialFeatures',\n",
       " '_',\n",
       " '__',\n",
       " '___',\n",
       " '__builtin__',\n",
       " '__builtins__',\n",
       " '__doc__',\n",
       " '__loader__',\n",
       " '__name__',\n",
       " '__package__',\n",
       " '__spec__',\n",
       " '_dh',\n",
       " '_i',\n",
       " '_i1',\n",
       " '_i2',\n",
       " '_i3',\n",
       " '_ih',\n",
       " '_ii',\n",
       " '_iii',\n",
       " '_oh',\n",
       " 'calc_r2_adj',\n",
       " 'calc_reg_metrics',\n",
       " 'exit',\n",
       " 'get_ipython',\n",
       " 'json',\n",
       " 'mean_absolute_error',\n",
       " 'mean_absolute_percentage_error',\n",
       " 'mean_squared_error',\n",
       " 'np',\n",
       " 'pd',\n",
       " 'plot_reglin_model',\n",
       " 'plot_scatter_real_pred',\n",
       " 'plt',\n",
       " 'quit',\n",
       " 'r2_score',\n",
       " 'reg_lin_poly_features',\n",
       " 'reg_lin_pt1_pt2',\n",
       " 'sns',\n",
       " 'train_test_split',\n",
       " 'yapf_reformat']"
      ]
     },
     "execution_count": 3,
     "metadata": {},
     "output_type": "execute_result"
    }
   ],
   "source": [
    "dir()"
   ]
  },
  {
   "cell_type": "markdown",
   "metadata": {},
   "source": [
    "____\n",
    "____\n",
    "____"
   ]
  },
  {
   "cell_type": "markdown",
   "metadata": {},
   "source": [
    "_____\n",
    "\n",
    "## 1) Espaços de features polinomiais\n",
    "\n",
    "Muitas vezes, temos dados que simplesmente não se ajustam às hipóteses simples, lineares, que conhecemos até o momento.\n",
    "\n",
    "Quando isso acontece, é muito provável que soframos **underfitting**, pois uma forma funcional demasiadamente simples de uma hipótese pode não ser capaz de capturar o comportamento de uma função teórica $\\mathcal{F}$ mais complexa, conforme refletido pela amostra.\n",
    "\n",
    "Nestes casos, a solução é simples: basta escolhermos hipóteses mais complexas!\n",
    "\n",
    "Pra começar nosso estudo, vamos utilizar dados artificiais bem simples: \n"
   ]
  },
  {
   "cell_type": "code",
   "execution_count": 7,
   "metadata": {
    "ExecuteTime": {
     "end_time": "2022-05-03T00:14:37.056581Z",
     "start_time": "2022-05-03T00:14:36.657293Z"
    }
   },
   "outputs": [
    {
     "data": {
      "image/png": "[encoded data removed]",
      "text/plain": [
       "<Figure size 432x288 with 1 Axes>"
      ]
     },
     "metadata": {
      "needs_background": "light"
     },
     "output_type": "display_data"
    }
   ],
   "source": [
    "np.random.seed(42)\n",
    "\n",
    "N = 100\n",
    "X = np.random.uniform(-1.5, 1.5, N)\n",
    "\n",
    "b0, b1, b2, b3, b4 = 1, 0.1, 0, 0, 0.5\n",
    "y = b0 + b1*X + b2*(X**2) + b3*(X**3) + b4*(X**4) + np.random.normal(0, 0.2, N)\n",
    "\n",
    "plt.scatter(X, y)\n",
    "plt.show()"
   ]
  },
  {
   "cell_type": "markdown",
   "metadata": {},
   "source": [
    "Como estamos com uma única feature, vamos aplicar o reshape já agora!"
   ]
  },
  {
   "cell_type": "code",
   "execution_count": 10,
   "metadata": {
    "ExecuteTime": {
     "end_time": "2022-05-03T00:17:27.724662Z",
     "start_time": "2022-05-03T00:17:27.569752Z"
    },
    "scrolled": true
   },
   "outputs": [],
   "source": [
    "X = X.reshape(-1, 1)"
   ]
  },
  {
   "cell_type": "markdown",
   "metadata": {},
   "source": [
    "Podemos fazer uma regressão linear..."
   ]
  },
  {
   "cell_type": "code",
   "execution_count": 26,
   "metadata": {
    "ExecuteTime": {
     "end_time": "2022-05-03T00:52:22.510220Z",
     "start_time": "2022-05-03T00:52:22.346954Z"
    }
   },
   "outputs": [],
   "source": [
    "X_train, X_test, y_train, y_test = train_test_split(X, y, test_size=0.3, random_state=42)"
   ]
  },
  {
   "cell_type": "code",
   "execution_count": 17,
   "metadata": {
    "ExecuteTime": {
     "end_time": "2022-05-03T00:24:14.302818Z",
     "start_time": "2022-05-03T00:24:14.126912Z"
    }
   },
   "outputs": [
    {
     "data": {
      "text/plain": [
       "count    30.000000\n",
       "mean      1.777795\n",
       "std       0.796346\n",
       "min       0.895135\n",
       "25%       1.083746\n",
       "50%       1.497048\n",
       "75%       2.243756\n",
       "max       3.578406\n",
       "dtype: float64"
      ]
     },
     "execution_count": 17,
     "metadata": {},
     "output_type": "execute_result"
    }
   ],
   "source": [
    "pd.Series(y_test).describe()"
   ]
  },
  {
   "cell_type": "code",
   "execution_count": 15,
   "metadata": {
    "ExecuteTime": {
     "end_time": "2022-05-03T00:23:02.277122Z",
     "start_time": "2022-05-03T00:23:02.004430Z"
    }
   },
   "outputs": [
    {
     "name": "stdout",
     "output_type": "stream",
     "text": [
      "\n",
      "Métricas de avaliação (dados de treino):\n",
      "\n",
      "R^2: 0.00 | Adj R^2: -0.01\n",
      "MAE: 0.53\n",
      "RMSE: 0.66\n",
      "MAPE: 40.53%\n",
      "\n",
      "##################################################\n",
      "\n",
      "Métricas de avaliação (dados de teste):\n",
      "\n",
      "R^2: -0.21 | Adj R^2: -0.25\n",
      "MAE: 0.63\n",
      "RMSE: 0.86\n",
      "MAPE: 32.37%\n"
     ]
    }
   ],
   "source": [
    "reglin_1 = reg_lin_pt1_pt2(X_train, y_train, X_test, y_test, \n",
    "                           plot=False, scale_mms=False, \n",
    "                           train_metrics=True, dist_resids=False)"
   ]
  },
  {
   "cell_type": "code",
   "execution_count": 18,
   "metadata": {
    "ExecuteTime": {
     "end_time": "2022-05-03T00:26:46.971513Z",
     "start_time": "2022-05-03T00:26:46.782704Z"
    }
   },
   "outputs": [
    {
     "data": {
      "text/plain": [
       "1.4269234282644585"
      ]
     },
     "execution_count": 18,
     "metadata": {},
     "output_type": "execute_result"
    }
   ],
   "source": [
    "reglin_1.intercept_"
   ]
  },
  {
   "cell_type": "code",
   "execution_count": 19,
   "metadata": {
    "ExecuteTime": {
     "end_time": "2022-05-03T00:26:53.525758Z",
     "start_time": "2022-05-03T00:26:53.304888Z"
    }
   },
   "outputs": [
    {
     "data": {
      "text/plain": [
       "array([0.01977083])"
      ]
     },
     "execution_count": 19,
     "metadata": {},
     "output_type": "execute_result"
    }
   ],
   "source": [
    "reglin_1.coef_"
   ]
  },
  {
   "cell_type": "code",
   "execution_count": 20,
   "metadata": {
    "ExecuteTime": {
     "end_time": "2022-05-03T00:27:44.838636Z",
     "start_time": "2022-05-03T00:27:44.276426Z"
    }
   },
   "outputs": [
    {
     "data": {
      "image/png": "[encoded data removed]",
      "text/plain": [
       "<Figure size 432x288 with 1 Axes>"
      ]
     },
     "metadata": {
      "needs_background": "light"
     },
     "output_type": "display_data"
    }
   ],
   "source": [
    "plot_reglin_model(reglin_1, X_train, y_train)"
   ]
  },
  {
   "cell_type": "markdown",
   "metadata": {},
   "source": [
    "Naturalmente, temos métricas bem ruins, dada a escolha ruim de hipótese!\n",
    "\n",
    "Hipótese atual:\n",
    "\n",
    "$$f_{h, \\  \\vec{b}}(x) = b_0 + b_1x$$"
   ]
  },
  {
   "cell_type": "markdown",
   "metadata": {},
   "source": [
    "Vamos fazer algo melhor: como nossos dados são aproximadamente quadráticos, faria sentido escolher uma **hipótese quadrática**, não é mesmo? Isto é,\n",
    "\n",
    "$$f_{h, \\  \\vec{b}}(x) = b_0 + b_1x + b_2x^2$$"
   ]
  },
  {
   "cell_type": "markdown",
   "metadata": {},
   "source": [
    "E é aqui que entra um dos aspectos mais importantes de um modelo linear como a regressão linear: **o modelo é linear nos parâmetros, não necessariamente nas features!**\n",
    "\n",
    "Ou seja, o termo quadrático que incluímos **pode ser considerado como uma nova feature linear**. Para ver isso, basta definir $z \\equiv x^2$, que voltamos a ter uma hipótese linear, mas agora em duas variáveis:\n",
    "\n",
    "$$f_{h, \\  \\vec{b}}(x, z) = b_0 + b_1x + b_2z$$\n",
    "\n",
    "Ou seja, ainda temos uma regressão linear (múltipla, agora).\n",
    "\n",
    "E isso é verdade para **qualquer** combinação de features que possamos criar!"
   ]
  },
  {
   "cell_type": "markdown",
   "metadata": {},
   "source": [
    "________\n",
    "\n",
    "Um outro exemplo: considere uma hipótese linear para um modelo com duas features $x_1, x_2$:\n",
    "\n",
    "$$f_{h, \\  \\vec{b}}(x_1, x_2) = b_0 + b_1x_1 + b_2x_2$$\n",
    "\n",
    "Caso queiramos produzir um modelo quadrático, temos que incluir os termos $x_1^2, x_2^2$ e também $x_1x_2$ (que também é quadrático), de modo que nossa hipótese fica sendo:\n",
    "\n",
    "$$f_{h, \\  \\vec{b}}(x_1, x_2) = b_0 + b_1x_1 + b_2x_2 + b_3 x_1^2 + b_4 x_2^2 + b_5 x_1 x_2$$\n",
    "\n",
    "O que não deixa de ser uma **regressão linear múltipla** de 5 variáveis ($x_3 \\equiv x_1^2$, $x_4 \\equiv x_2^2$ e $x_5 \\equiv x_1x_2$):\n",
    "\n",
    "$$f_{h, \\  \\vec{b}}(x_1, x_2, x_3, x_4, x_5) = b_0 + b_1x_1 + b_2x_2 + b_3 x_3 + b_4 x_4 + b_5 x_5$$\n",
    "\n",
    "E assim por diante! ;)"
   ]
  },
  {
   "cell_type": "markdown",
   "metadata": {},
   "source": [
    "Assim, para criarmos um modelo quadrático para nossos dados, bastaria criarmos uma nova feature $z = x^2$, e passar apenas esta nova feature para o  modelo de regressão linear **simples**. Isso equivale a usar uma hipótese $$f_{h, \\  \\vec{b}}(z) = b_0 + b_1z = b_0 + b_1x^2$$\n",
    "\n",
    "Vejamos:"
   ]
  },
  {
   "cell_type": "code",
   "execution_count": 22,
   "metadata": {
    "ExecuteTime": {
     "end_time": "2022-05-03T00:51:16.488944Z",
     "start_time": "2022-05-03T00:51:16.312555Z"
    }
   },
   "outputs": [],
   "source": [
    "Z = X**2"
   ]
  },
  {
   "cell_type": "code",
   "execution_count": 27,
   "metadata": {
    "ExecuteTime": {
     "end_time": "2022-05-03T00:53:02.560669Z",
     "start_time": "2022-05-03T00:53:01.970009Z"
    }
   },
   "outputs": [
    {
     "name": "stdout",
     "output_type": "stream",
     "text": [
      "\n",
      "Métricas de avaliação (dados de treino):\n",
      "\n",
      "R^2: 0.87 | Adj R^2: 0.87\n",
      "MAE: 0.19\n",
      "RMSE: 0.24\n",
      "MAPE: 15.30%\n",
      "\n",
      "##################################################\n",
      "\n",
      "Métricas de avaliação (dados de teste):\n",
      "\n",
      "R^2: 0.86 | Adj R^2: 0.85\n",
      "MAE: 0.24\n",
      "RMSE: 0.29\n",
      "MAPE: 14.20%\n"
     ]
    }
   ],
   "source": [
    "# note que eu to usando como features o Z!\n",
    "X_train_quad, X_test_quad, y_train, y_test = train_test_split(Z, y, test_size=0.3, random_state=42)\n",
    "\n",
    "reglin_2 = reg_lin_pt1_pt2(X_train_quad, y_train, X_test_quad, y_test, \n",
    "                           plot=False, scale_mms=False, \n",
    "                           train_metrics=True, dist_resids=False)"
   ]
  },
  {
   "cell_type": "markdown",
   "metadata": {},
   "source": [
    "No espaço transformado, esse foi o modelo treinado:\n",
    "\n",
    "$f_{h, \\  \\vec{b}}(z) = b_0 + b_1z$"
   ]
  },
  {
   "cell_type": "code",
   "execution_count": 31,
   "metadata": {
    "ExecuteTime": {
     "end_time": "2022-05-03T00:58:38.713655Z",
     "start_time": "2022-05-03T00:58:37.973962Z"
    }
   },
   "outputs": [
    {
     "data": {
      "image/png": "[encoded data removed]",
      "text/plain": [
       "<Figure size 432x288 with 1 Axes>"
      ]
     },
     "metadata": {
      "needs_background": "light"
     },
     "output_type": "display_data"
    }
   ],
   "source": [
    "plt.title(\"Modelo de regressão linear\")\n",
    "\n",
    "plt.scatter(X_train_quad, y_train)\n",
    "\n",
    "x_plot_modelo = np.linspace(X_train_quad.min(), X_train_quad.max(), 100000)\n",
    "\n",
    "y_plot_modelo = reglin_2.intercept_ + reglin_2.coef_[0]*x_plot_modelo\n",
    "\n",
    "plt.plot(x_plot_modelo, y_plot_modelo, color=\"red\")\n",
    "plt.show()"
   ]
  },
  {
   "cell_type": "markdown",
   "metadata": {},
   "source": [
    "Mas, no espaço original, o modelo foi esse:\n",
    "\n",
    "$f_{h, \\  \\vec{b}}(x) = b_0 + b_1x^2$"
   ]
  },
  {
   "cell_type": "code",
   "execution_count": 32,
   "metadata": {
    "ExecuteTime": {
     "end_time": "2022-05-03T00:59:35.978856Z",
     "start_time": "2022-05-03T00:59:35.106839Z"
    }
   },
   "outputs": [
    {
     "data": {
      "image/png": "[encoded data removed]",
      "text/plain": [
       "<Figure size 432x288 with 1 Axes>"
      ]
     },
     "metadata": {
      "needs_background": "light"
     },
     "output_type": "display_data"
    }
   ],
   "source": [
    "plt.title(\"Modelo de regressão linear\")\n",
    "\n",
    "plt.scatter(X_train, y_train)\n",
    "\n",
    "x_plot_modelo = np.linspace(X_train.min(), X_train.max(), 100000)\n",
    "\n",
    "y_plot_modelo = reglin_2.intercept_ + reglin_2.coef_[0]*(x_plot_modelo**2)\n",
    "\n",
    "plt.plot(x_plot_modelo, y_plot_modelo, color=\"red\")\n",
    "plt.show()"
   ]
  },
  {
   "cell_type": "markdown",
   "metadata": {},
   "source": [
    "Agora sim, um modelo beeem melhor!!"
   ]
  },
  {
   "cell_type": "markdown",
   "metadata": {},
   "source": [
    "E se quisermos usar a hipótese quadrática mais completa, com ambos os termos linear e quadrático? (Isto é, $f_{h, \\  \\vec{b}}(x) = b_0 + b_1x + b_2x^2$)\n",
    "\n",
    "Bem simples: basta passarmos as duas features pro sklearn:"
   ]
  },
  {
   "cell_type": "code",
   "execution_count": 36,
   "metadata": {
    "ExecuteTime": {
     "end_time": "2022-05-03T01:04:30.549063Z",
     "start_time": "2022-05-03T01:04:29.935291Z"
    }
   },
   "outputs": [
    {
     "data": {
      "text/html": [
       "<div>\n",
       "<style scoped>\n",
       "    .dataframe tbody tr th:only-of-type {\n",
       "        vertical-align: middle;\n",
       "    }\n",
       "\n",
       "    .dataframe tbody tr th {\n",
       "        vertical-align: top;\n",
       "    }\n",
       "\n",
       "    .dataframe thead th {\n",
       "        text-align: right;\n",
       "    }\n",
       "</style>\n",
       "<table border=\"1\" class=\"dataframe\">\n",
       "  <thead>\n",
       "    <tr style=\"text-align: right;\">\n",
       "      <th></th>\n",
       "      <th>X</th>\n",
       "    </tr>\n",
       "  </thead>\n",
       "  <tbody>\n",
       "    <tr>\n",
       "      <th>0</th>\n",
       "      <td>-0.376380</td>\n",
       "    </tr>\n",
       "    <tr>\n",
       "      <th>1</th>\n",
       "      <td>1.352143</td>\n",
       "    </tr>\n",
       "    <tr>\n",
       "      <th>2</th>\n",
       "      <td>0.695982</td>\n",
       "    </tr>\n",
       "    <tr>\n",
       "      <th>3</th>\n",
       "      <td>0.295975</td>\n",
       "    </tr>\n",
       "    <tr>\n",
       "      <th>4</th>\n",
       "      <td>-1.031944</td>\n",
       "    </tr>\n",
       "    <tr>\n",
       "      <th>...</th>\n",
       "      <td>...</td>\n",
       "    </tr>\n",
       "    <tr>\n",
       "      <th>95</th>\n",
       "      <td>-0.018613</td>\n",
       "    </tr>\n",
       "    <tr>\n",
       "      <th>96</th>\n",
       "      <td>0.068198</td>\n",
       "    </tr>\n",
       "    <tr>\n",
       "      <th>97</th>\n",
       "      <td>-0.217377</td>\n",
       "    </tr>\n",
       "    <tr>\n",
       "      <th>98</th>\n",
       "      <td>-1.423743</td>\n",
       "    </tr>\n",
       "    <tr>\n",
       "      <th>99</th>\n",
       "      <td>-1.176326</td>\n",
       "    </tr>\n",
       "  </tbody>\n",
       "</table>\n",
       "<p>100 rows × 1 columns</p>\n",
       "</div>"
      ],
      "text/plain": [
       "           X\n",
       "0  -0.376380\n",
       "1   1.352143\n",
       "2   0.695982\n",
       "3   0.295975\n",
       "4  -1.031944\n",
       "..       ...\n",
       "95 -0.018613\n",
       "96  0.068198\n",
       "97 -0.217377\n",
       "98 -1.423743\n",
       "99 -1.176326\n",
       "\n",
       "[100 rows x 1 columns]"
      ]
     },
     "execution_count": 36,
     "metadata": {},
     "output_type": "execute_result"
    }
   ],
   "source": [
    "X_train_df = pd.DataFrame(X, columns=[\"X\"])\n",
    "\n",
    "X_train_df"
   ]
  },
  {
   "cell_type": "code",
   "execution_count": 37,
   "metadata": {
    "ExecuteTime": {
     "end_time": "2022-05-03T01:04:59.179403Z",
     "start_time": "2022-05-03T01:04:58.964526Z"
    }
   },
   "outputs": [],
   "source": [
    "X_train_df[\"Z\"] = X_train_df[\"X\"]**2"
   ]
  },
  {
   "cell_type": "code",
   "execution_count": 38,
   "metadata": {
    "ExecuteTime": {
     "end_time": "2022-05-03T01:05:03.062840Z",
     "start_time": "2022-05-03T01:05:02.910911Z"
    }
   },
   "outputs": [
    {
     "data": {
      "text/html": [
       "<div>\n",
       "<style scoped>\n",
       "    .dataframe tbody tr th:only-of-type {\n",
       "        vertical-align: middle;\n",
       "    }\n",
       "\n",
       "    .dataframe tbody tr th {\n",
       "        vertical-align: top;\n",
       "    }\n",
       "\n",
       "    .dataframe thead th {\n",
       "        text-align: right;\n",
       "    }\n",
       "</style>\n",
       "<table border=\"1\" class=\"dataframe\">\n",
       "  <thead>\n",
       "    <tr style=\"text-align: right;\">\n",
       "      <th></th>\n",
       "      <th>X</th>\n",
       "      <th>Z</th>\n",
       "    </tr>\n",
       "  </thead>\n",
       "  <tbody>\n",
       "    <tr>\n",
       "      <th>0</th>\n",
       "      <td>-0.376380</td>\n",
       "      <td>0.141662</td>\n",
       "    </tr>\n",
       "    <tr>\n",
       "      <th>1</th>\n",
       "      <td>1.352143</td>\n",
       "      <td>1.828290</td>\n",
       "    </tr>\n",
       "    <tr>\n",
       "      <th>2</th>\n",
       "      <td>0.695982</td>\n",
       "      <td>0.484391</td>\n",
       "    </tr>\n",
       "    <tr>\n",
       "      <th>3</th>\n",
       "      <td>0.295975</td>\n",
       "      <td>0.087601</td>\n",
       "    </tr>\n",
       "    <tr>\n",
       "      <th>4</th>\n",
       "      <td>-1.031944</td>\n",
       "      <td>1.064909</td>\n",
       "    </tr>\n",
       "    <tr>\n",
       "      <th>...</th>\n",
       "      <td>...</td>\n",
       "      <td>...</td>\n",
       "    </tr>\n",
       "    <tr>\n",
       "      <th>95</th>\n",
       "      <td>-0.018613</td>\n",
       "      <td>0.000346</td>\n",
       "    </tr>\n",
       "    <tr>\n",
       "      <th>96</th>\n",
       "      <td>0.068198</td>\n",
       "      <td>0.004651</td>\n",
       "    </tr>\n",
       "    <tr>\n",
       "      <th>97</th>\n",
       "      <td>-0.217377</td>\n",
       "      <td>0.047253</td>\n",
       "    </tr>\n",
       "    <tr>\n",
       "      <th>98</th>\n",
       "      <td>-1.423743</td>\n",
       "      <td>2.027043</td>\n",
       "    </tr>\n",
       "    <tr>\n",
       "      <th>99</th>\n",
       "      <td>-1.176326</td>\n",
       "      <td>1.383742</td>\n",
       "    </tr>\n",
       "  </tbody>\n",
       "</table>\n",
       "<p>100 rows × 2 columns</p>\n",
       "</div>"
      ],
      "text/plain": [
       "           X         Z\n",
       "0  -0.376380  0.141662\n",
       "1   1.352143  1.828290\n",
       "2   0.695982  0.484391\n",
       "3   0.295975  0.087601\n",
       "4  -1.031944  1.064909\n",
       "..       ...       ...\n",
       "95 -0.018613  0.000346\n",
       "96  0.068198  0.004651\n",
       "97 -0.217377  0.047253\n",
       "98 -1.423743  2.027043\n",
       "99 -1.176326  1.383742\n",
       "\n",
       "[100 rows x 2 columns]"
      ]
     },
     "execution_count": 38,
     "metadata": {},
     "output_type": "execute_result"
    }
   ],
   "source": [
    "X_train_df"
   ]
  },
  {
   "cell_type": "markdown",
   "metadata": {},
   "source": [
    "No espaço transformado, treinaríamos o seguinte modelo:\n",
    "\n",
    "$f_{h, \\  \\vec{b}}(x, z) = b_0 + b_1x + b_2z$\n",
    "\n",
    "Isso é um plano!"
   ]
  },
  {
   "cell_type": "markdown",
   "metadata": {},
   "source": [
    "Mas, no espaço original, o modelo projetado seria esse:\n",
    "\n",
    "$f_{h, \\  \\vec{b}}(x) = b_0 + b_2x + b_2x^2$\n",
    "\n",
    "Uma hipótese quadrática genérica!"
   ]
  },
  {
   "cell_type": "code",
   "execution_count": null,
   "metadata": {
    "ExecuteTime": {
     "end_time": "2022-04-29T16:59:02.603863Z",
     "start_time": "2022-04-29T16:59:02.421969Z"
    }
   },
   "outputs": [],
   "source": [
    "# treinar o modelo em casa \"manualmente\", caso queira"
   ]
  },
  {
   "cell_type": "markdown",
   "metadata": {},
   "source": [
    "No entanto, lembre que geramos os dados de acordo com um processo teório de grau 4! Então, seria legal que nossa hipótese tbm fosse de grau 4, nao é mesmo?\n",
    "\n",
    "E isso é possível!"
   ]
  },
  {
   "cell_type": "markdown",
   "metadata": {},
   "source": [
    "No geral, dá pra ir aumentando a ordem dos polinomios criando features de ordem maior uma a uma:"
   ]
  },
  {
   "cell_type": "code",
   "execution_count": 39,
   "metadata": {
    "ExecuteTime": {
     "end_time": "2022-05-03T01:06:46.475939Z",
     "start_time": "2022-05-03T01:06:46.295043Z"
    }
   },
   "outputs": [],
   "source": [
    "X_train_df[\"A\"] = X_train_df[\"X\"]**3\n",
    "X_train_df[\"B\"] = X_train_df[\"X\"]**4"
   ]
  },
  {
   "cell_type": "code",
   "execution_count": 40,
   "metadata": {
    "ExecuteTime": {
     "end_time": "2022-05-03T01:06:50.284624Z",
     "start_time": "2022-05-03T01:06:50.088734Z"
    }
   },
   "outputs": [
    {
     "data": {
      "text/html": [
       "<div>\n",
       "<style scoped>\n",
       "    .dataframe tbody tr th:only-of-type {\n",
       "        vertical-align: middle;\n",
       "    }\n",
       "\n",
       "    .dataframe tbody tr th {\n",
       "        vertical-align: top;\n",
       "    }\n",
       "\n",
       "    .dataframe thead th {\n",
       "        text-align: right;\n",
       "    }\n",
       "</style>\n",
       "<table border=\"1\" class=\"dataframe\">\n",
       "  <thead>\n",
       "    <tr style=\"text-align: right;\">\n",
       "      <th></th>\n",
       "      <th>X</th>\n",
       "      <th>Z</th>\n",
       "      <th>A</th>\n",
       "      <th>B</th>\n",
       "    </tr>\n",
       "  </thead>\n",
       "  <tbody>\n",
       "    <tr>\n",
       "      <th>0</th>\n",
       "      <td>-0.376380</td>\n",
       "      <td>0.141662</td>\n",
       "      <td>-0.053319</td>\n",
       "      <td>2.006802e-02</td>\n",
       "    </tr>\n",
       "    <tr>\n",
       "      <th>1</th>\n",
       "      <td>1.352143</td>\n",
       "      <td>1.828290</td>\n",
       "      <td>2.472110</td>\n",
       "      <td>3.342646e+00</td>\n",
       "    </tr>\n",
       "    <tr>\n",
       "      <th>2</th>\n",
       "      <td>0.695982</td>\n",
       "      <td>0.484391</td>\n",
       "      <td>0.337127</td>\n",
       "      <td>2.346344e-01</td>\n",
       "    </tr>\n",
       "    <tr>\n",
       "      <th>3</th>\n",
       "      <td>0.295975</td>\n",
       "      <td>0.087601</td>\n",
       "      <td>0.025928</td>\n",
       "      <td>7.674017e-03</td>\n",
       "    </tr>\n",
       "    <tr>\n",
       "      <th>4</th>\n",
       "      <td>-1.031944</td>\n",
       "      <td>1.064909</td>\n",
       "      <td>-1.098926</td>\n",
       "      <td>1.134030e+00</td>\n",
       "    </tr>\n",
       "    <tr>\n",
       "      <th>...</th>\n",
       "      <td>...</td>\n",
       "      <td>...</td>\n",
       "      <td>...</td>\n",
       "      <td>...</td>\n",
       "    </tr>\n",
       "    <tr>\n",
       "      <th>95</th>\n",
       "      <td>-0.018613</td>\n",
       "      <td>0.000346</td>\n",
       "      <td>-0.000006</td>\n",
       "      <td>1.200287e-07</td>\n",
       "    </tr>\n",
       "    <tr>\n",
       "      <th>96</th>\n",
       "      <td>0.068198</td>\n",
       "      <td>0.004651</td>\n",
       "      <td>0.000317</td>\n",
       "      <td>2.163212e-05</td>\n",
       "    </tr>\n",
       "    <tr>\n",
       "      <th>97</th>\n",
       "      <td>-0.217377</td>\n",
       "      <td>0.047253</td>\n",
       "      <td>-0.010272</td>\n",
       "      <td>2.232821e-03</td>\n",
       "    </tr>\n",
       "    <tr>\n",
       "      <th>98</th>\n",
       "      <td>-1.423743</td>\n",
       "      <td>2.027043</td>\n",
       "      <td>-2.885988</td>\n",
       "      <td>4.108904e+00</td>\n",
       "    </tr>\n",
       "    <tr>\n",
       "      <th>99</th>\n",
       "      <td>-1.176326</td>\n",
       "      <td>1.383742</td>\n",
       "      <td>-1.627732</td>\n",
       "      <td>1.914742e+00</td>\n",
       "    </tr>\n",
       "  </tbody>\n",
       "</table>\n",
       "<p>100 rows × 4 columns</p>\n",
       "</div>"
      ],
      "text/plain": [
       "           X         Z         A             B\n",
       "0  -0.376380  0.141662 -0.053319  2.006802e-02\n",
       "1   1.352143  1.828290  2.472110  3.342646e+00\n",
       "2   0.695982  0.484391  0.337127  2.346344e-01\n",
       "3   0.295975  0.087601  0.025928  7.674017e-03\n",
       "4  -1.031944  1.064909 -1.098926  1.134030e+00\n",
       "..       ...       ...       ...           ...\n",
       "95 -0.018613  0.000346 -0.000006  1.200287e-07\n",
       "96  0.068198  0.004651  0.000317  2.163212e-05\n",
       "97 -0.217377  0.047253 -0.010272  2.232821e-03\n",
       "98 -1.423743  2.027043 -2.885988  4.108904e+00\n",
       "99 -1.176326  1.383742 -1.627732  1.914742e+00\n",
       "\n",
       "[100 rows x 4 columns]"
      ]
     },
     "execution_count": 40,
     "metadata": {},
     "output_type": "execute_result"
    }
   ],
   "source": [
    "X_train_df"
   ]
  },
  {
   "cell_type": "markdown",
   "metadata": {},
   "source": [
    "E aí, bastaria utilizar este df pra treinar o modelo!"
   ]
  },
  {
   "cell_type": "code",
   "execution_count": null,
   "metadata": {
    "ExecuteTime": {
     "end_time": "2022-04-29T16:59:03.025638Z",
     "start_time": "2022-04-29T16:59:02.874708Z"
    }
   },
   "outputs": [],
   "source": [
    "# treinar o modelo em casa \"manualmente\", caso queira"
   ]
  },
  {
   "cell_type": "markdown",
   "metadata": {},
   "source": [
    "Mas esse é um procedimento bem manual. Pra nossa sorte, o sklearn existe, e uma de suas muitas ferramentas especiais para machine learning (no caso, pré-processamento) é o [polynomial features](https://scikit-learn.org/stable/modules/generated/sklearn.preprocessing.PolynomialFeatures.html), que permite a criação de toda as combinações polinomiais de features automaticamente!\n",
    "\n",
    "O PolynomialFeatures é nosso primeiro exemplo de **transformer** do sklearn - um método cujo objetivo é aplicar alguma **transformação** aos dados. Veremos vários outros exemplos de transformers durante o curso.\n",
    "\n",
    "Em particular, todos os transformers se comportam como se fossem \"estimadores\", no sentido de que eles devem \n",
    "ser \"ajustados\" aos dados -- por isso, eles também têm o método `.fit()` -- que ajusta o transformer aos dados; além do método `.transform()`, que efetivamente transforma os dados. Existe também o `.fit_transform()`, que faz as duas coisas ao mesmo tempo -- mas vamos evitar de usá-lo, por motivos que ficarão claros no futuro próximo (data leakage).\n",
    "\n",
    "Lembre-se de fitar o transformados sempre nos dados de treino, apenas!"
   ]
  },
  {
   "cell_type": "markdown",
   "metadata": {},
   "source": [
    "Vejamos o uso da classe:"
   ]
  },
  {
   "cell_type": "code",
   "execution_count": 44,
   "metadata": {
    "ExecuteTime": {
     "end_time": "2022-05-03T01:11:06.766174Z",
     "start_time": "2022-05-03T01:11:06.615261Z"
    }
   },
   "outputs": [],
   "source": [
    "from sklearn.preprocessing import PolynomialFeatures\n",
    "\n",
    "pf = PolynomialFeatures(degree=4, include_bias=False).fit(X_train)"
   ]
  },
  {
   "cell_type": "code",
   "execution_count": 45,
   "metadata": {
    "ExecuteTime": {
     "end_time": "2022-05-03T01:11:14.992275Z",
     "start_time": "2022-05-03T01:11:14.846360Z"
    }
   },
   "outputs": [
    {
     "data": {
      "text/plain": [
       "{'degree': 4,\n",
       " 'interaction_only': False,\n",
       " 'include_bias': False,\n",
       " 'order': 'C',\n",
       " 'n_features_in_': 1,\n",
       " '_min_degree': 0,\n",
       " '_max_degree': 4,\n",
       " 'n_output_features_': 4,\n",
       " '_n_out_full': 4}"
      ]
     },
     "execution_count": 45,
     "metadata": {},
     "output_type": "execute_result"
    }
   ],
   "source": [
    "vars(pf)"
   ]
  },
  {
   "cell_type": "code",
   "execution_count": 47,
   "metadata": {
    "ExecuteTime": {
     "end_time": "2022-05-03T01:12:23.373971Z",
     "start_time": "2022-05-03T01:12:23.145102Z"
    }
   },
   "outputs": [
    {
     "data": {
      "text/html": [
       "<div>\n",
       "<style scoped>\n",
       "    .dataframe tbody tr th:only-of-type {\n",
       "        vertical-align: middle;\n",
       "    }\n",
       "\n",
       "    .dataframe tbody tr th {\n",
       "        vertical-align: top;\n",
       "    }\n",
       "\n",
       "    .dataframe thead th {\n",
       "        text-align: right;\n",
       "    }\n",
       "</style>\n",
       "<table border=\"1\" class=\"dataframe\">\n",
       "  <thead>\n",
       "    <tr style=\"text-align: right;\">\n",
       "      <th></th>\n",
       "      <th>0</th>\n",
       "      <th>1</th>\n",
       "      <th>2</th>\n",
       "      <th>3</th>\n",
       "    </tr>\n",
       "  </thead>\n",
       "  <tbody>\n",
       "    <tr>\n",
       "      <th>0</th>\n",
       "      <td>1.409730</td>\n",
       "      <td>1.987337</td>\n",
       "      <td>2.801608</td>\n",
       "      <td>3.949510</td>\n",
       "    </tr>\n",
       "    <tr>\n",
       "      <th>1</th>\n",
       "      <td>0.060204</td>\n",
       "      <td>0.003625</td>\n",
       "      <td>0.000218</td>\n",
       "      <td>0.000013</td>\n",
       "    </tr>\n",
       "    <tr>\n",
       "      <th>2</th>\n",
       "      <td>-0.524450</td>\n",
       "      <td>0.275048</td>\n",
       "      <td>-0.144249</td>\n",
       "      <td>0.075651</td>\n",
       "    </tr>\n",
       "    <tr>\n",
       "      <th>3</th>\n",
       "      <td>0.277244</td>\n",
       "      <td>0.076864</td>\n",
       "      <td>0.021310</td>\n",
       "      <td>0.005908</td>\n",
       "    </tr>\n",
       "    <tr>\n",
       "      <th>4</th>\n",
       "      <td>0.183832</td>\n",
       "      <td>0.033794</td>\n",
       "      <td>0.006212</td>\n",
       "      <td>0.001142</td>\n",
       "    </tr>\n",
       "    <tr>\n",
       "      <th>...</th>\n",
       "      <td>...</td>\n",
       "      <td>...</td>\n",
       "      <td>...</td>\n",
       "      <td>...</td>\n",
       "    </tr>\n",
       "    <tr>\n",
       "      <th>65</th>\n",
       "      <td>-0.333968</td>\n",
       "      <td>0.111535</td>\n",
       "      <td>-0.037249</td>\n",
       "      <td>0.012440</td>\n",
       "    </tr>\n",
       "    <tr>\n",
       "      <th>66</th>\n",
       "      <td>-0.903853</td>\n",
       "      <td>0.816950</td>\n",
       "      <td>-0.738403</td>\n",
       "      <td>0.667408</td>\n",
       "    </tr>\n",
       "    <tr>\n",
       "      <th>67</th>\n",
       "      <td>-0.954525</td>\n",
       "      <td>0.911118</td>\n",
       "      <td>-0.869685</td>\n",
       "      <td>0.830136</td>\n",
       "    </tr>\n",
       "    <tr>\n",
       "      <th>68</th>\n",
       "      <td>0.782355</td>\n",
       "      <td>0.612080</td>\n",
       "      <td>0.478864</td>\n",
       "      <td>0.374641</td>\n",
       "    </tr>\n",
       "    <tr>\n",
       "      <th>69</th>\n",
       "      <td>0.825398</td>\n",
       "      <td>0.681283</td>\n",
       "      <td>0.562330</td>\n",
       "      <td>0.464146</td>\n",
       "    </tr>\n",
       "  </tbody>\n",
       "</table>\n",
       "<p>70 rows × 4 columns</p>\n",
       "</div>"
      ],
      "text/plain": [
       "           0         1         2         3\n",
       "0   1.409730  1.987337  2.801608  3.949510\n",
       "1   0.060204  0.003625  0.000218  0.000013\n",
       "2  -0.524450  0.275048 -0.144249  0.075651\n",
       "3   0.277244  0.076864  0.021310  0.005908\n",
       "4   0.183832  0.033794  0.006212  0.001142\n",
       "..       ...       ...       ...       ...\n",
       "65 -0.333968  0.111535 -0.037249  0.012440\n",
       "66 -0.903853  0.816950 -0.738403  0.667408\n",
       "67 -0.954525  0.911118 -0.869685  0.830136\n",
       "68  0.782355  0.612080  0.478864  0.374641\n",
       "69  0.825398  0.681283  0.562330  0.464146\n",
       "\n",
       "[70 rows x 4 columns]"
      ]
     },
     "execution_count": 47,
     "metadata": {},
     "output_type": "execute_result"
    }
   ],
   "source": [
    "pd.DataFrame(pf.transform(X_train))"
   ]
  },
  {
   "cell_type": "markdown",
   "metadata": {},
   "source": [
    "Vamos generalizar nosss funções (veja no .py a definição da nova função `reg_lin_poly_features`)"
   ]
  },
  {
   "cell_type": "code",
   "execution_count": 50,
   "metadata": {
    "ExecuteTime": {
     "end_time": "2022-05-03T01:20:01.980533Z",
     "start_time": "2022-05-03T01:20:01.066991Z"
    }
   },
   "outputs": [
    {
     "name": "stdout",
     "output_type": "stream",
     "text": [
      "\n",
      "Métricas de avaliação (dados de treino):\n",
      "\n",
      "R^2: 0.00 | Adj R^2: -0.01\n",
      "MAE: 0.53\n",
      "RMSE: 0.66\n",
      "MAPE: 40.53%\n",
      "\n",
      "##################################################\n",
      "\n",
      "Métricas de avaliação (dados de teste):\n",
      "\n",
      "R^2: -0.21 | Adj R^2: -0.25\n",
      "MAE: 0.63\n",
      "RMSE: 0.86\n",
      "MAPE: 32.37%\n"
     ]
    },
    {
     "data": {
      "image/png": "[encoded data removed]",
      "text/plain": [
       "<Figure size 432x288 with 1 Axes>"
      ]
     },
     "metadata": {
      "needs_background": "light"
     },
     "output_type": "display_data"
    }
   ],
   "source": [
    "_ = reg_lin_poly_features(X_train, y_train, X_test, y_test, \n",
    "                          deg=1,\n",
    "                          plot=False, scale_mms=False, \n",
    "                          train_metrics=True, \n",
    "                          dist_resids=False,\n",
    "                          plot_model=True)"
   ]
  },
  {
   "cell_type": "code",
   "execution_count": 51,
   "metadata": {
    "ExecuteTime": {
     "end_time": "2022-05-03T01:20:33.657096Z",
     "start_time": "2022-05-03T01:20:33.027668Z"
    }
   },
   "outputs": [
    {
     "name": "stdout",
     "output_type": "stream",
     "text": [
      "Modelo com espaço de features transformado!\n",
      "\n",
      "Número de features original: 1\n",
      "Número de features após o transformer: 2\n",
      "\n",
      "==================================================\n",
      "\n",
      "Métricas de avaliação (dados de treino):\n",
      "\n",
      "R^2: 0.89 | Adj R^2: 0.88\n",
      "MAE: 0.18\n",
      "RMSE: 0.22\n",
      "MAPE: 14.49%\n",
      "\n",
      "##################################################\n",
      "\n",
      "Métricas de avaliação (dados de teste):\n",
      "\n",
      "R^2: 0.86 | Adj R^2: 0.85\n",
      "MAE: 0.23\n",
      "RMSE: 0.29\n",
      "MAPE: 14.17%\n"
     ]
    },
    {
     "data": {
      "image/png": "[encoded data removed]",
      "text/plain": [
       "<Figure size 432x288 with 1 Axes>"
      ]
     },
     "metadata": {
      "needs_background": "light"
     },
     "output_type": "display_data"
    }
   ],
   "source": [
    "_ = reg_lin_poly_features(X_train, y_train, X_test, y_test, \n",
    "                          deg=2,\n",
    "                          plot=False, scale_mms=False, \n",
    "                          train_metrics=True, \n",
    "                          dist_resids=False,\n",
    "                          plot_model=True)"
   ]
  },
  {
   "cell_type": "code",
   "execution_count": 52,
   "metadata": {
    "ExecuteTime": {
     "end_time": "2022-05-03T01:21:17.948956Z",
     "start_time": "2022-05-03T01:21:17.558180Z"
    }
   },
   "outputs": [
    {
     "name": "stdout",
     "output_type": "stream",
     "text": [
      "Modelo com espaço de features transformado!\n",
      "\n",
      "Número de features original: 1\n",
      "Número de features após o transformer: 4\n",
      "\n",
      "==================================================\n",
      "\n",
      "Métricas de avaliação (dados de treino):\n",
      "\n",
      "R^2: 0.92 | Adj R^2: 0.92\n",
      "MAE: 0.14\n",
      "RMSE: 0.18\n",
      "MAPE: 12.24%\n",
      "\n",
      "##################################################\n",
      "\n",
      "Métricas de avaliação (dados de teste):\n",
      "\n",
      "R^2: 0.95 | Adj R^2: 0.95\n",
      "MAE: 0.13\n",
      "RMSE: 0.17\n",
      "MAPE: 8.53%\n"
     ]
    },
    {
     "data": {
      "image/png": "[encoded data removed]",
      "text/plain": [
       "<Figure size 432x288 with 1 Axes>"
      ]
     },
     "metadata": {
      "needs_background": "light"
     },
     "output_type": "display_data"
    }
   ],
   "source": [
    "_ = reg_lin_poly_features(X_train, y_train, X_test, y_test, \n",
    "                          deg=4,\n",
    "                          plot=False, scale_mms=False, \n",
    "                          train_metrics=True, \n",
    "                          dist_resids=False,\n",
    "                          plot_model=True)"
   ]
  },
  {
   "cell_type": "markdown",
   "metadata": {},
   "source": [
    "Em aulas anteriores, discutimos sobre a **maldição da dimensionalidade**, e como é fácil overfitar um modelo ao aumentarmos a dimensionalidade (dado o correspondente aumento da complexidade da hipótese).\n",
    "\n",
    "Vamos ver isso claramente, e fazer o plot do tradeoff viés-variância?"
   ]
  },
  {
   "cell_type": "code",
   "execution_count": null,
   "metadata": {},
   "outputs": [],
   "source": []
  },
  {
   "cell_type": "markdown",
   "metadata": {},
   "source": [
    "_____________\n",
    "_____________\n",
    "_____________\n",
    "\n",
    "Agora que já entendemos a técnica em um dataset bem simples, vamos voltar pra um dataset real!\n",
    "\n",
    "Vamos voltar pros dados da precificação de casas -- ali, o poly_features se mostrará ainda mais útil!"
   ]
  },
  {
   "cell_type": "code",
   "execution_count": null,
   "metadata": {
    "ExecuteTime": {
     "end_time": "2022-04-29T16:59:13.378242Z",
     "start_time": "2022-04-29T16:59:13.221615Z"
    }
   },
   "outputs": [],
   "source": [
    "df = pd.read_csv(\"../datasets/house_prices.csv\")\n",
    "\n",
    "X = df.drop(columns=[\"Id\", \"SalePrice\"])\n",
    "y = df[\"SalePrice\"]\n",
    "\n",
    "X_train, X_test, y_train, y_test = train_test_split(X, y, test_size=0.2, random_state=42)\n",
    "\n",
    "X_train_model = X_train.select_dtypes(include=np.number).dropna(axis=\"columns\")\n",
    "X_test_model = X_test.loc[:, X_train_model.columns]"
   ]
  },
  {
   "cell_type": "code",
   "execution_count": null,
   "metadata": {},
   "outputs": [],
   "source": []
  },
  {
   "cell_type": "markdown",
   "metadata": {},
   "source": [
    "Estes dois últimos modelos têm muuuuuito mais parametros que observações, portanto, aprenderam perfeitamente até mesmo os ruidos da base de treino!!"
   ]
  },
  {
   "cell_type": "markdown",
   "metadata": {
    "ExecuteTime": {
     "end_time": "2022-01-28T01:14:14.508900Z",
     "start_time": "2022-01-28T01:14:14.485892Z"
    }
   },
   "source": [
    "**Claro overfitting!**"
   ]
  },
  {
   "cell_type": "markdown",
   "metadata": {},
   "source": [
    "Nossas hipóteses foram:\n",
    "\n",
    "$$ f_{H, \\vec{b}}(\\vec{x}) = b_0 + b_1x_1 + b_2x_2 + \\cdots + b_{594} x_{594}$$\n",
    "\n",
    "pro primeiro modelo (features quadráticas); e, para o segundo (features cúbicas):\n",
    "\n",
    "$$ f_{H, \\vec{b}}(\\vec{x}) = b_0 + b_1x_1 + b_2x_2 + \\cdots + b_{7139} x_{7139}$$\n",
    "\n",
    "Ou seja, temos um modelo **com muitos parâmetros**, ou seja, **muito complexo!**\n",
    "\n",
    "Com tantos parâmetros assim, há muitos **graus de liberdade** pra que a hipótese se ajuste até às particularidades da base de treino... "
   ]
  },
  {
   "cell_type": "markdown",
   "metadata": {},
   "source": [
    "O resultado é evidente: temos um modelo altamente **overfitado**, dado o número enorme de features após o transformer -- e isso porque estamos utilizando apenas features quadráticas e cúbicas, imagine se tivéssemos usado features de grau maior!\n",
    "\n",
    "É de se imaginar que muitas destas features não deveriam estar aí, não é mesmo?\n",
    "\n",
    "Oras, uma forma interessante de eliminar features é fazendo o que chamamos de **feature selection**.\n",
    "\n",
    "A ideia é a seguinte: gostaríamos sim de introduzir features polinomiais, aumentando um pouco a complexidade da hipótese, **mas não tanto!**. \n",
    "\n",
    "E é isso que conseguiremos fazer com as técnicas de **regularização**, que aprenderemos na próxima aula!"
   ]
  },
  {
   "cell_type": "markdown",
   "metadata": {},
   "source": [
    "____\n",
    "____\n",
    "____"
   ]
  }
 ],
 "metadata": {
  "kernelspec": {
   "display_name": "Python 3",
   "language": "python",
   "name": "python3"
  },
  "language_info": {
   "codemirror_mode": {
    "name": "ipython",
    "version": 3
   },
   "file_extension": ".py",
   "mimetype": "text/x-python",
   "name": "python",
   "nbconvert_exporter": "python",
   "pygments_lexer": "ipython3",
   "version": "3.8.3"
  },
  "toc": {
   "base_numbering": 1,
   "nav_menu": {
    "height": "249.667px",
    "width": "359.667px"
   },
   "number_sections": true,
   "sideBar": true,
   "skip_h1_title": false,
   "title_cell": "Table of Contents",
   "title_sidebar": "Contents",
   "toc_cell": false,
   "toc_position": {},
   "toc_section_display": true,
   "toc_window_display": false
  },
  "varInspector": {
   "cols": {
    "lenName": 16,
    "lenType": 16,
    "lenVar": 40
   },
   "kernels_config": {
    "python": {
     "delete_cmd_postfix": "",
     "delete_cmd_prefix": "del ",
     "library": "var_list.py",
     "varRefreshCmd": "print(var_dic_list())"
    },
    "r": {
     "delete_cmd_postfix": ") ",
     "delete_cmd_prefix": "rm(",
     "library": "var_list.r",
     "varRefreshCmd": "cat(var_dic_list()) "
    }
   },
   "types_to_exclude": [
    "module",
    "function",
    "builtin_function_or_method",
    "instance",
    "_Feature"
   ],
   "window_display": false
  }
 },
 "nbformat": 4,
 "nbformat_minor": 2
}
